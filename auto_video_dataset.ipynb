{
  "cells": [
    {
      "cell_type": "markdown",
      "metadata": {
        "id": "t9PL1aJNKRWv"
      },
      "source": [
        "## Script for automated video data collection and processing"
      ]
    },
    {
      "cell_type": "markdown",
      "metadata": {
        "id": "SsjIM0CFIJiE"
      },
      "source": [
        "#### Downloading raw video data (around 100 advertising videos):"
      ]
    },
    {
      "cell_type": "code",
      "execution_count": null,
      "metadata": {
        "colab": {
          "base_uri": "https://localhost:8080/"
        },
        "id": "CXjMwKAlUJ7G",
        "outputId": "c80cc421-8f17-43ec-c08d-a5f831a9f2a8"
      },
      "outputs": [
        {
          "output_type": "stream",
          "name": "stdout",
          "text": [
            "Mounted at /content/drive\n"
          ]
        }
      ],
      "source": [
        "from google.colab import drive\n",
        "drive.mount('/content/drive')"
      ]
    },
    {
      "cell_type": "code",
      "source": [
        "%load_ext autoreload\n",
        "%autoreload 2"
      ],
      "metadata": {
        "id": "sPIEI25vLWoH"
      },
      "execution_count": null,
      "outputs": []
    },
    {
      "cell_type": "code",
      "execution_count": null,
      "metadata": {
        "id": "wVxgGT30aPmT"
      },
      "outputs": [],
      "source": [
        "# !rm -rf /content/video_data"
      ]
    },
    {
      "cell_type": "code",
      "execution_count": null,
      "metadata": {
        "id": "mPH6YejAMKBT"
      },
      "outputs": [],
      "source": [
        "! unzip  /content/drive/MyDrive/video_data.zip -d /content/\n",
        "! unzip  /content/drive/MyDrive/key_moments_base_velocity_8_max_velocity_24.zip -d /content/\n",
        "! unzip  /content/drive/MyDrive/mid_wav_data.zip -d /content/"
      ]
    },
    {
      "cell_type": "code",
      "execution_count": null,
      "metadata": {
        "id": "-EWqBChG3UDJ"
      },
      "outputs": [],
      "source": [
        "! cp /content/drive/MyDrive/wav_to_tempo_orig.json /content\n",
        "! cp /content/drive/MyDrive/video_key_results_new.json /content\n",
        "! cp /content/drive/MyDrive/mid_to_tempo_orig.json /content\n",
        "! cp /content/drive/MyDrive/mid_to_vel_orig.json /content\n",
        "! cp /content/drive/MyDrive/mid_to_vel_gen.json /content"
      ]
    },
    {
      "cell_type": "code",
      "source": [
        "! cp /content/drive/MyDrive/wav_to_tempo_orig_new.json /content"
      ],
      "metadata": {
        "id": "FMc_jh0Ne9Gz"
      },
      "execution_count": null,
      "outputs": []
    },
    {
      "cell_type": "code",
      "execution_count": null,
      "metadata": {
        "id": "lhUwQAXSlYhO"
      },
      "outputs": [],
      "source": [
        "! mv /content/content/video_to_midi /content\n",
        "! mv /content/content/video_to_wav /content\n",
        "! rm -rf /content/content"
      ]
    },
    {
      "cell_type": "markdown",
      "metadata": {
        "id": "9kozxMi3IJgH"
      },
      "source": [
        "#### From MP4 to MP3 format:"
      ]
    },
    {
      "cell_type": "code",
      "execution_count": null,
      "metadata": {
        "id": "T_R-8OMqBVG4"
      },
      "outputs": [],
      "source": [
        "!pip install pillow os-sys moviepy"
      ]
    },
    {
      "cell_type": "code",
      "execution_count": null,
      "metadata": {
        "id": "RszAm4IwJGTg"
      },
      "outputs": [],
      "source": [
        "from PIL import Image, ImageTk\n",
        "import moviepy\n",
        "import moviepy.editor\n",
        "import os\n",
        "\n",
        "def MP4toMP3(filename=''):\n",
        "    video = moviepy.editor.VideoFileClip(filename)\n",
        "    onlyfilename = os.path.basename(filename)\n",
        "    audio=video.audio\n",
        "\n",
        "    aud_fname = \"\"\n",
        "    for i in onlyfilename:\n",
        "        if i == '.':\n",
        "            break\n",
        "        else:\n",
        "            aud_fname = aud_fname + i\n",
        "    audio.write_audiofile(f'{aud_fname}.mp3')\n"
      ]
    },
    {
      "cell_type": "code",
      "execution_count": null,
      "metadata": {
        "colab": {
          "base_uri": "https://localhost:8080/"
        },
        "id": "XbZzrtkHNlTK",
        "outputId": "b9ae3a8b-20dc-4764-bfe3-49129ad387d3"
      },
      "outputs": [
        {
          "name": "stdout",
          "output_type": "stream",
          "text": [
            "MoviePy - Writing audio in video_ad1.mp3\n"
          ]
        },
        {
          "name": "stderr",
          "output_type": "stream",
          "text": []
        },
        {
          "name": "stdout",
          "output_type": "stream",
          "text": [
            "MoviePy - Done.\n"
          ]
        }
      ],
      "source": [
        "MP4toMP3('/content/video_data/video_ad1.mp4')"
      ]
    },
    {
      "cell_type": "markdown",
      "metadata": {
        "id": "nRQFcxsrIJda"
      },
      "source": [
        "#### Excluding voice from mp3 data (leaving only the background music):"
      ]
    },
    {
      "cell_type": "code",
      "execution_count": null,
      "metadata": {
        "id": "_auCcBgTJG4c"
      },
      "outputs": [],
      "source": [
        "! wget https://github.com/tsurumeso/vocal-remover/releases/download/v5.0.2/vocal-remover-v5.0.2.zip\n",
        "! unzip /content/vocal-remover-v5.0.2.zip"
      ]
    },
    {
      "cell_type": "code",
      "execution_count": null,
      "metadata": {
        "colab": {
          "base_uri": "https://localhost:8080/"
        },
        "id": "ZuYRQ5DfB38v",
        "outputId": "fc6184bc-e0da-487e-a7a8-0657d1b79cd2"
      },
      "outputs": [
        {
          "name": "stdout",
          "output_type": "stream",
          "text": [
            "/content\n"
          ]
        }
      ],
      "source": [
        "%cd /content"
      ]
    },
    {
      "cell_type": "code",
      "execution_count": null,
      "metadata": {
        "colab": {
          "base_uri": "https://localhost:8080/"
        },
        "id": "d9n0MmQVO7et",
        "outputId": "21717666-6b5a-4cab-cc12-1c6076ea6f2f"
      },
      "outputs": [
        {
          "name": "stdout",
          "output_type": "stream",
          "text": [
            "/content/vocal-remover\n"
          ]
        }
      ],
      "source": [
        "%cd vocal-remover\n",
        "# !pip install -r requirements.txt"
      ]
    },
    {
      "cell_type": "code",
      "execution_count": null,
      "metadata": {
        "id": "Kx01hL9SO7cj"
      },
      "outputs": [],
      "source": [
        "!python inference.py --input /content/video_data/video_ad1.mp4"
      ]
    },
    {
      "cell_type": "markdown",
      "metadata": {
        "id": "g4hTdOTaIJaB"
      },
      "source": [
        "#### From MP3 -> MIDI format:"
      ]
    },
    {
      "cell_type": "code",
      "execution_count": null,
      "metadata": {
        "id": "TheXoEtAJHRR"
      },
      "outputs": [],
      "source": [
        "! pip install basic-pitch"
      ]
    },
    {
      "cell_type": "code",
      "execution_count": null,
      "metadata": {
        "colab": {
          "base_uri": "https://localhost:8080/"
        },
        "id": "RDNJJypCXk88",
        "outputId": "ddfb0854-d960-476c-8e87-86ac433aec45"
      },
      "outputs": [
        {
          "name": "stdout",
          "output_type": "stream",
          "text": [
            "\n",
            "✨✨✨✨✨✨✨✨✨\n",
            "✨ Basic Pitch  ✨\n",
            "✨✨✨✨✨✨✨✨✨\n",
            "\n",
            "Importing Tensorflow (this may take a few seconds)...\n",
            "\n",
            "Predicting MIDI for /content/vocal-remover/video_ad1_Instruments.wav...\n",
            "\n",
            "\n",
            "  Creating midi...\n",
            "  💅 Saved to /content/video_ad1_Instruments_basic_pitch.mid\n",
            "\n",
            "✨ Done ✨\n",
            "\n"
          ]
        }
      ],
      "source": [
        "! basic-pitch /content /content/vocal-remover/video_ad1_Instruments.wav"
      ]
    },
    {
      "cell_type": "code",
      "execution_count": null,
      "metadata": {
        "id": "ef_GfanMByNS"
      },
      "outputs": [],
      "source": [
        "! mkdir /content/video_to_midi"
      ]
    },
    {
      "cell_type": "code",
      "execution_count": null,
      "metadata": {
        "id": "2letgkLgbeqq"
      },
      "outputs": [],
      "source": [
        "! mkdir /content/video_to_wav"
      ]
    },
    {
      "cell_type": "markdown",
      "metadata": {
        "id": "WocXDzcXZUaC"
      },
      "source": [
        "#### Automated MP4 to MID pipeline:"
      ]
    },
    {
      "cell_type": "code",
      "execution_count": null,
      "metadata": {
        "id": "nLjYH2qrXkz5"
      },
      "outputs": [],
      "source": [
        "def video_to_mid(basepath, filename):\n",
        "  MP4toMP3(str(basepath+filename))\n",
        "  path_to_mp3 = '/content/vocal-remover/' + filename.split('.')[0] + '.mp3'\n",
        "  !python inference.py --input {path_to_mp3}\n",
        "  path_to_music_mp3 = '/content/vocal-remover/'+filename.split('.')[0]+'_Instruments.wav'\n",
        "  path_to_vocals_mp3 = '/content/vocal-remover/'+filename.split('.')[0]+'_Vocals.wav'\n",
        "  ! rm -rf {path_to_mp3}\n",
        "  ! rm -rf {path_to_vocals_mp3}\n",
        "  ! basic-pitch /content/video_to_midi {path_to_music_mp3}\n",
        "  old_name = '/content/video_to_midi/'+filename.split('.')[0]+'_Instruments_basic_pitch'+'.mid'\n",
        "  new_mid_name = '/content/video_to_midi/'+'music_orig_'+filename.split('.')[0].split('_')[1]+'.mid'\n",
        "  new_wav_name = '/content/video_to_wav/'+'music_orig_'+filename.split('.')[0].split('_')[1]+'.wav'\n",
        "  ! mv {old_name} {new_mid_name}\n",
        "  ! mv {path_to_music_mp3} {new_wav_name}\n"
      ]
    },
    {
      "cell_type": "code",
      "execution_count": null,
      "metadata": {
        "colab": {
          "base_uri": "https://localhost:8080/"
        },
        "id": "Ek1scz7ASS7c",
        "outputId": "0b45a779-c7b9-4f0e-e087-d7cc44eef756"
      },
      "outputs": [
        {
          "name": "stdout",
          "output_type": "stream",
          "text": [
            "MoviePy - Writing audio in video_ad1.mp3\n"
          ]
        },
        {
          "name": "stderr",
          "output_type": "stream",
          "text": []
        },
        {
          "name": "stdout",
          "output_type": "stream",
          "text": [
            "MoviePy - Done.\n",
            "loading model... done\n",
            "loading wave source... done\n",
            "stft of wave source... done\n",
            "100% 9/9 [02:30<00:00, 16.70s/it]\n",
            "validating output directory... done\n",
            "inverse stft of instruments... done\n",
            "inverse stft of vocals... done\n",
            "\n",
            "✨✨✨✨✨✨✨✨✨\n",
            "✨ Basic Pitch  ✨\n",
            "✨✨✨✨✨✨✨✨✨\n",
            "\n",
            "Importing Tensorflow (this may take a few seconds)...\n",
            "\n",
            "Predicting MIDI for /content/vocal-remover/video_ad1_Instruments.wav...\n",
            "\n",
            "\n",
            "  Creating midi...\n",
            "  💅 Saved to /content/video_to_midi/video_ad1_Instruments_basic_pitch.mid\n",
            "\n",
            "✨ Done ✨\n",
            "\n",
            "MoviePy - Writing audio in video_ad2.mp3\n"
          ]
        },
        {
          "name": "stderr",
          "output_type": "stream",
          "text": []
        },
        {
          "name": "stdout",
          "output_type": "stream",
          "text": [
            "MoviePy - Done.\n",
            "loading model... done\n",
            "loading wave source... done\n",
            "stft of wave source... done\n",
            "100% 5/5 [01:26<00:00, 17.24s/it]\n",
            "validating output directory... done\n",
            "inverse stft of instruments... done\n",
            "inverse stft of vocals... done\n",
            "\n",
            "✨✨✨✨✨✨✨✨✨\n",
            "✨ Basic Pitch  ✨\n",
            "✨✨✨✨✨✨✨✨✨\n",
            "\n",
            "Importing Tensorflow (this may take a few seconds)...\n",
            "\n",
            "Predicting MIDI for /content/vocal-remover/video_ad2_Instruments.wav...\n",
            "\n",
            "\n",
            "  Creating midi...\n",
            "  💅 Saved to /content/video_to_midi/video_ad2_Instruments_basic_pitch.mid\n",
            "\n",
            "✨ Done ✨\n",
            "\n",
            "MoviePy - Writing audio in video_ad3.mp3\n"
          ]
        },
        {
          "name": "stderr",
          "output_type": "stream",
          "text": []
        },
        {
          "name": "stdout",
          "output_type": "stream",
          "text": [
            "MoviePy - Done.\n",
            "loading model... done\n",
            "loading wave source... done\n",
            "stft of wave source... done\n",
            "100% 5/5 [01:24<00:00, 16.95s/it]\n",
            "validating output directory... done\n",
            "inverse stft of instruments... done\n",
            "inverse stft of vocals... done\n",
            "\n",
            "✨✨✨✨✨✨✨✨✨\n",
            "✨ Basic Pitch  ✨\n",
            "✨✨✨✨✨✨✨✨✨\n",
            "\n",
            "Importing Tensorflow (this may take a few seconds)...\n",
            "\n",
            "Predicting MIDI for /content/vocal-remover/video_ad3_Instruments.wav...\n",
            "\n",
            "\n",
            "  Creating midi...\n",
            "  💅 Saved to /content/video_to_midi/video_ad3_Instruments_basic_pitch.mid\n",
            "\n",
            "✨ Done ✨\n",
            "\n",
            "MoviePy - Writing audio in video_ad4.mp3\n"
          ]
        },
        {
          "name": "stderr",
          "output_type": "stream",
          "text": []
        },
        {
          "name": "stdout",
          "output_type": "stream",
          "text": [
            "MoviePy - Done.\n",
            "loading model... done\n",
            "loading wave source... done\n",
            "stft of wave source... done\n",
            "100% 3/3 [00:55<00:00, 18.51s/it]\n",
            "validating output directory... done\n",
            "inverse stft of instruments... done\n",
            "inverse stft of vocals... done\n",
            "\n",
            "✨✨✨✨✨✨✨✨✨\n",
            "✨ Basic Pitch  ✨\n",
            "✨✨✨✨✨✨✨✨✨\n",
            "\n",
            "Importing Tensorflow (this may take a few seconds)...\n",
            "\n",
            "Predicting MIDI for /content/vocal-remover/video_ad4_Instruments.wav...\n",
            "\n",
            "\n",
            "  Creating midi...\n",
            "  💅 Saved to /content/video_to_midi/video_ad4_Instruments_basic_pitch.mid\n",
            "\n",
            "✨ Done ✨\n",
            "\n",
            "MoviePy - Writing audio in video_ad5.mp3\n"
          ]
        },
        {
          "name": "stderr",
          "output_type": "stream",
          "text": []
        },
        {
          "name": "stdout",
          "output_type": "stream",
          "text": [
            "MoviePy - Done.\n",
            "loading model... done\n",
            "loading wave source... done\n",
            "stft of wave source... done\n",
            "100% 3/3 [00:49<00:00, 16.64s/it]\n",
            "validating output directory... done\n",
            "inverse stft of instruments... done\n",
            "inverse stft of vocals... done\n",
            "\n",
            "✨✨✨✨✨✨✨✨✨\n",
            "✨ Basic Pitch  ✨\n",
            "✨✨✨✨✨✨✨✨✨\n",
            "\n",
            "Importing Tensorflow (this may take a few seconds)...\n",
            "\n",
            "Predicting MIDI for /content/vocal-remover/video_ad5_Instruments.wav...\n",
            "\n",
            "\n",
            "  Creating midi...\n",
            "  💅 Saved to /content/video_to_midi/video_ad5_Instruments_basic_pitch.mid\n",
            "\n",
            "✨ Done ✨\n",
            "\n",
            "MoviePy - Writing audio in video_ad6.mp3\n"
          ]
        },
        {
          "name": "stderr",
          "output_type": "stream",
          "text": []
        },
        {
          "name": "stdout",
          "output_type": "stream",
          "text": [
            "MoviePy - Done.\n",
            "loading model... done\n",
            "loading wave source... done\n",
            "stft of wave source... done\n",
            "100% 2/2 [00:27<00:00, 13.51s/it]\n",
            "validating output directory... done\n",
            "inverse stft of instruments... done\n",
            "inverse stft of vocals... done\n",
            "\n",
            "✨✨✨✨✨✨✨✨✨\n",
            "✨ Basic Pitch  ✨\n",
            "✨✨✨✨✨✨✨✨✨\n",
            "\n",
            "Importing Tensorflow (this may take a few seconds)...\n",
            "\n",
            "Predicting MIDI for /content/vocal-remover/video_ad6_Instruments.wav...\n",
            "\n",
            "\n",
            "  Creating midi...\n",
            "  💅 Saved to /content/video_to_midi/video_ad6_Instruments_basic_pitch.mid\n",
            "\n",
            "✨ Done ✨\n",
            "\n",
            "MoviePy - Writing audio in video_ad7.mp3\n"
          ]
        },
        {
          "name": "stderr",
          "output_type": "stream",
          "text": []
        },
        {
          "name": "stdout",
          "output_type": "stream",
          "text": [
            "MoviePy - Done.\n",
            "loading model... done\n",
            "loading wave source... done\n",
            "stft of wave source... done\n",
            "100% 5/5 [01:29<00:00, 17.91s/it]\n",
            "validating output directory... done\n",
            "inverse stft of instruments... done\n",
            "inverse stft of vocals... done\n",
            "\n",
            "✨✨✨✨✨✨✨✨✨\n",
            "✨ Basic Pitch  ✨\n",
            "✨✨✨✨✨✨✨✨✨\n",
            "\n",
            "Importing Tensorflow (this may take a few seconds)...\n",
            "\n",
            "Predicting MIDI for /content/vocal-remover/video_ad7_Instruments.wav...\n",
            "\n",
            "\n",
            "  Creating midi...\n",
            "  💅 Saved to /content/video_to_midi/video_ad7_Instruments_basic_pitch.mid\n",
            "\n",
            "✨ Done ✨\n",
            "\n",
            "MoviePy - Writing audio in video_ad8.mp3\n"
          ]
        },
        {
          "name": "stderr",
          "output_type": "stream",
          "text": []
        },
        {
          "name": "stdout",
          "output_type": "stream",
          "text": [
            "MoviePy - Done.\n",
            "loading model... done\n",
            "loading wave source... done\n",
            "stft of wave source... done\n",
            "100% 4/4 [01:12<00:00, 18.13s/it]\n",
            "validating output directory... done\n",
            "inverse stft of instruments... done\n",
            "inverse stft of vocals... done\n",
            "\n",
            "✨✨✨✨✨✨✨✨✨\n",
            "✨ Basic Pitch  ✨\n",
            "✨✨✨✨✨✨✨✨✨\n",
            "\n",
            "Importing Tensorflow (this may take a few seconds)...\n",
            "\n",
            "Predicting MIDI for /content/vocal-remover/video_ad8_Instruments.wav...\n",
            "\n",
            "\n",
            "  Creating midi...\n",
            "  💅 Saved to /content/video_to_midi/video_ad8_Instruments_basic_pitch.mid\n",
            "\n",
            "✨ Done ✨\n",
            "\n",
            "MoviePy - Writing audio in video_ad9.mp3\n"
          ]
        },
        {
          "name": "stderr",
          "output_type": "stream",
          "text": []
        },
        {
          "name": "stdout",
          "output_type": "stream",
          "text": [
            "MoviePy - Done.\n",
            "loading model... done\n",
            "loading wave source... done\n",
            "stft of wave source... done\n",
            "100% 5/5 [01:22<00:00, 16.40s/it]\n",
            "validating output directory... done\n",
            "inverse stft of instruments... done\n",
            "inverse stft of vocals... done\n",
            "\n",
            "✨✨✨✨✨✨✨✨✨\n",
            "✨ Basic Pitch  ✨\n",
            "✨✨✨✨✨✨✨✨✨\n",
            "\n",
            "Importing Tensorflow (this may take a few seconds)...\n",
            "\n",
            "Predicting MIDI for /content/vocal-remover/video_ad9_Instruments.wav...\n",
            "\n",
            "\n",
            "  Creating midi...\n",
            "  💅 Saved to /content/video_to_midi/video_ad9_Instruments_basic_pitch.mid\n",
            "\n",
            "✨ Done ✨\n",
            "\n",
            "MoviePy - Writing audio in video_ad10.mp3\n"
          ]
        },
        {
          "name": "stderr",
          "output_type": "stream",
          "text": []
        },
        {
          "name": "stdout",
          "output_type": "stream",
          "text": [
            "MoviePy - Done.\n",
            "loading model... done\n",
            "loading wave source... done\n",
            "stft of wave source... done\n",
            "100% 2/2 [00:33<00:00, 16.54s/it]\n",
            "validating output directory... done\n",
            "inverse stft of instruments... done\n",
            "inverse stft of vocals... done\n",
            "\n",
            "✨✨✨✨✨✨✨✨✨\n",
            "✨ Basic Pitch  ✨\n",
            "✨✨✨✨✨✨✨✨✨\n",
            "\n",
            "Importing Tensorflow (this may take a few seconds)...\n",
            "\n",
            "Predicting MIDI for /content/vocal-remover/video_ad10_Instruments.wav...\n",
            "\n",
            "\n",
            "  Creating midi...\n",
            "  💅 Saved to /content/video_to_midi/video_ad10_Instruments_basic_pitch.mid\n",
            "\n",
            "✨ Done ✨\n",
            "\n",
            "MoviePy - Writing audio in video_ad11.mp3\n"
          ]
        },
        {
          "name": "stderr",
          "output_type": "stream",
          "text": []
        },
        {
          "name": "stdout",
          "output_type": "stream",
          "text": [
            "MoviePy - Done.\n",
            "loading model... done\n",
            "loading wave source... done\n",
            "stft of wave source... done\n",
            "100% 6/6 [01:35<00:00, 15.91s/it]\n",
            "validating output directory... done\n",
            "inverse stft of instruments... done\n",
            "inverse stft of vocals... done\n",
            "\n",
            "✨✨✨✨✨✨✨✨✨\n",
            "✨ Basic Pitch  ✨\n",
            "✨✨✨✨✨✨✨✨✨\n",
            "\n",
            "Importing Tensorflow (this may take a few seconds)...\n",
            "\n",
            "Predicting MIDI for /content/vocal-remover/video_ad11_Instruments.wav...\n",
            "\n",
            "\n",
            "  Creating midi...\n",
            "  💅 Saved to /content/video_to_midi/video_ad11_Instruments_basic_pitch.mid\n",
            "\n",
            "✨ Done ✨\n",
            "\n",
            "MoviePy - Writing audio in video_ad12.mp3\n"
          ]
        },
        {
          "name": "stderr",
          "output_type": "stream",
          "text": []
        },
        {
          "name": "stdout",
          "output_type": "stream",
          "text": [
            "MoviePy - Done.\n",
            "loading model... done\n",
            "loading wave source... done\n",
            "stft of wave source... done\n",
            "100% 2/2 [00:31<00:00, 15.51s/it]\n",
            "validating output directory... done\n",
            "inverse stft of instruments... done\n",
            "inverse stft of vocals... done\n",
            "\n",
            "✨✨✨✨✨✨✨✨✨\n",
            "✨ Basic Pitch  ✨\n",
            "✨✨✨✨✨✨✨✨✨\n",
            "\n",
            "Importing Tensorflow (this may take a few seconds)...\n",
            "\n",
            "Predicting MIDI for /content/vocal-remover/video_ad12_Instruments.wav...\n",
            "\n",
            "\n",
            "  Creating midi...\n",
            "  💅 Saved to /content/video_to_midi/video_ad12_Instruments_basic_pitch.mid\n",
            "\n",
            "✨ Done ✨\n",
            "\n",
            "MoviePy - Writing audio in video_ad13.mp3\n"
          ]
        },
        {
          "name": "stderr",
          "output_type": "stream",
          "text": []
        },
        {
          "name": "stdout",
          "output_type": "stream",
          "text": [
            "MoviePy - Done.\n",
            "loading model... done\n",
            "loading wave source... done\n",
            "stft of wave source... done\n",
            "100% 3/3 [00:50<00:00, 16.74s/it]\n",
            "validating output directory... done\n",
            "inverse stft of instruments... done\n",
            "inverse stft of vocals... done\n",
            "\n",
            "✨✨✨✨✨✨✨✨✨\n",
            "✨ Basic Pitch  ✨\n",
            "✨✨✨✨✨✨✨✨✨\n",
            "\n",
            "Importing Tensorflow (this may take a few seconds)...\n",
            "\n",
            "Predicting MIDI for /content/vocal-remover/video_ad13_Instruments.wav...\n",
            "\n",
            "\n",
            "  Creating midi...\n",
            "  💅 Saved to /content/video_to_midi/video_ad13_Instruments_basic_pitch.mid\n",
            "\n",
            "✨ Done ✨\n",
            "\n",
            "MoviePy - Writing audio in video_ad14.mp3\n"
          ]
        },
        {
          "name": "stderr",
          "output_type": "stream",
          "text": []
        },
        {
          "name": "stdout",
          "output_type": "stream",
          "text": [
            "MoviePy - Done.\n",
            "loading model... done\n",
            "loading wave source... done\n",
            "stft of wave source... done\n",
            "100% 5/5 [01:25<00:00, 17.03s/it]\n",
            "validating output directory... done\n",
            "inverse stft of instruments... done\n",
            "inverse stft of vocals... done\n",
            "\n",
            "✨✨✨✨✨✨✨✨✨\n",
            "✨ Basic Pitch  ✨\n",
            "✨✨✨✨✨✨✨✨✨\n",
            "\n",
            "Importing Tensorflow (this may take a few seconds)...\n",
            "\n",
            "Predicting MIDI for /content/vocal-remover/video_ad14_Instruments.wav...\n",
            "\n",
            "\n",
            "  Creating midi...\n",
            "  💅 Saved to /content/video_to_midi/video_ad14_Instruments_basic_pitch.mid\n",
            "\n",
            "✨ Done ✨\n",
            "\n",
            "MoviePy - Writing audio in video_ad15.mp3\n"
          ]
        },
        {
          "name": "stderr",
          "output_type": "stream",
          "text": []
        },
        {
          "name": "stdout",
          "output_type": "stream",
          "text": [
            "MoviePy - Done.\n",
            "loading model... done\n",
            "loading wave source... done\n",
            "stft of wave source... done\n",
            "100% 2/2 [00:28<00:00, 14.45s/it]\n",
            "validating output directory... done\n",
            "inverse stft of instruments... done\n",
            "inverse stft of vocals... done\n",
            "\n",
            "✨✨✨✨✨✨✨✨✨\n",
            "✨ Basic Pitch  ✨\n",
            "✨✨✨✨✨✨✨✨✨\n",
            "\n",
            "Importing Tensorflow (this may take a few seconds)...\n",
            "\n",
            "Predicting MIDI for /content/vocal-remover/video_ad15_Instruments.wav...\n",
            "\n",
            "\n",
            "  Creating midi...\n",
            "  💅 Saved to /content/video_to_midi/video_ad15_Instruments_basic_pitch.mid\n",
            "\n",
            "✨ Done ✨\n",
            "\n",
            "MoviePy - Writing audio in video_ad16.mp3\n"
          ]
        },
        {
          "name": "stderr",
          "output_type": "stream",
          "text": []
        },
        {
          "name": "stdout",
          "output_type": "stream",
          "text": [
            "MoviePy - Done.\n",
            "loading model... done\n",
            "loading wave source... done\n",
            "stft of wave source... done\n",
            "100% 3/3 [01:02<00:00, 20.71s/it]\n",
            "validating output directory... done\n",
            "inverse stft of instruments... done\n",
            "inverse stft of vocals... done\n",
            "\n",
            "✨✨✨✨✨✨✨✨✨\n",
            "✨ Basic Pitch  ✨\n",
            "✨✨✨✨✨✨✨✨✨\n",
            "\n",
            "Importing Tensorflow (this may take a few seconds)...\n",
            "\n",
            "Predicting MIDI for /content/vocal-remover/video_ad16_Instruments.wav...\n",
            "\n",
            "\n",
            "  Creating midi...\n",
            "  💅 Saved to /content/video_to_midi/video_ad16_Instruments_basic_pitch.mid\n",
            "\n",
            "✨ Done ✨\n",
            "\n",
            "MoviePy - Writing audio in video_ad17.mp3\n"
          ]
        },
        {
          "name": "stderr",
          "output_type": "stream",
          "text": []
        },
        {
          "name": "stdout",
          "output_type": "stream",
          "text": [
            "MoviePy - Done.\n",
            "loading model... done\n",
            "loading wave source... done\n",
            "stft of wave source... done\n",
            "100% 6/6 [01:49<00:00, 18.27s/it]\n",
            "validating output directory... done\n",
            "inverse stft of instruments... done\n",
            "inverse stft of vocals... done\n",
            "\n",
            "✨✨✨✨✨✨✨✨✨\n",
            "✨ Basic Pitch  ✨\n",
            "✨✨✨✨✨✨✨✨✨\n",
            "\n",
            "Importing Tensorflow (this may take a few seconds)...\n",
            "\n",
            "Predicting MIDI for /content/vocal-remover/video_ad17_Instruments.wav...\n",
            "\n",
            "\n",
            "  Creating midi...\n",
            "  💅 Saved to /content/video_to_midi/video_ad17_Instruments_basic_pitch.mid\n",
            "\n",
            "✨ Done ✨\n",
            "\n",
            "MoviePy - Writing audio in video_ad18.mp3\n"
          ]
        },
        {
          "name": "stderr",
          "output_type": "stream",
          "text": []
        },
        {
          "name": "stdout",
          "output_type": "stream",
          "text": [
            "MoviePy - Done.\n",
            "loading model... done\n",
            "loading wave source... done\n",
            "stft of wave source... done\n",
            "100% 6/6 [01:38<00:00, 16.39s/it]\n",
            "validating output directory... done\n",
            "inverse stft of instruments... done\n",
            "inverse stft of vocals... done\n",
            "\n",
            "✨✨✨✨✨✨✨✨✨\n",
            "✨ Basic Pitch  ✨\n",
            "✨✨✨✨✨✨✨✨✨\n",
            "\n",
            "Importing Tensorflow (this may take a few seconds)...\n",
            "\n",
            "Predicting MIDI for /content/vocal-remover/video_ad18_Instruments.wav...\n",
            "\n",
            "\n",
            "  Creating midi...\n",
            "  💅 Saved to /content/video_to_midi/video_ad18_Instruments_basic_pitch.mid\n",
            "\n",
            "✨ Done ✨\n",
            "\n",
            "MoviePy - Writing audio in video_ad19.mp3\n"
          ]
        },
        {
          "name": "stderr",
          "output_type": "stream",
          "text": []
        },
        {
          "name": "stdout",
          "output_type": "stream",
          "text": [
            "MoviePy - Done.\n",
            "loading model... done\n",
            "loading wave source... done\n",
            "stft of wave source... done\n",
            "100% 6/6 [01:38<00:00, 16.48s/it]\n",
            "validating output directory... done\n",
            "inverse stft of instruments... done\n",
            "inverse stft of vocals... done\n",
            "\n",
            "✨✨✨✨✨✨✨✨✨\n",
            "✨ Basic Pitch  ✨\n",
            "✨✨✨✨✨✨✨✨✨\n",
            "\n",
            "Importing Tensorflow (this may take a few seconds)...\n",
            "\n",
            "Predicting MIDI for /content/vocal-remover/video_ad19_Instruments.wav...\n",
            "\n",
            "\n",
            "  Creating midi...\n",
            "  💅 Saved to /content/video_to_midi/video_ad19_Instruments_basic_pitch.mid\n",
            "\n",
            "✨ Done ✨\n",
            "\n",
            "MoviePy - Writing audio in video_ad20.mp3\n"
          ]
        },
        {
          "name": "stderr",
          "output_type": "stream",
          "text": []
        },
        {
          "name": "stdout",
          "output_type": "stream",
          "text": [
            "MoviePy - Done.\n",
            "loading model... done\n",
            "loading wave source... done\n",
            "stft of wave source... done\n",
            "100% 3/3 [00:54<00:00, 18.28s/it]\n",
            "validating output directory... done\n",
            "inverse stft of instruments... done\n",
            "inverse stft of vocals... done\n",
            "\n",
            "✨✨✨✨✨✨✨✨✨\n",
            "✨ Basic Pitch  ✨\n",
            "✨✨✨✨✨✨✨✨✨\n",
            "\n",
            "Importing Tensorflow (this may take a few seconds)...\n",
            "\n",
            "Predicting MIDI for /content/vocal-remover/video_ad20_Instruments.wav...\n",
            "\n",
            "\n",
            "  Creating midi...\n",
            "  💅 Saved to /content/video_to_midi/video_ad20_Instruments_basic_pitch.mid\n",
            "\n",
            "✨ Done ✨\n",
            "\n",
            "MoviePy - Writing audio in video_ad21.mp3\n"
          ]
        },
        {
          "name": "stderr",
          "output_type": "stream",
          "text": []
        },
        {
          "name": "stdout",
          "output_type": "stream",
          "text": [
            "MoviePy - Done.\n",
            "loading model... done\n",
            "loading wave source... done\n",
            "stft of wave source... done\n",
            "100% 10/10 [02:56<00:00, 17.69s/it]\n",
            "validating output directory... done\n",
            "inverse stft of instruments... done\n",
            "inverse stft of vocals... done\n",
            "\n",
            "✨✨✨✨✨✨✨✨✨\n",
            "✨ Basic Pitch  ✨\n",
            "✨✨✨✨✨✨✨✨✨\n",
            "\n",
            "Importing Tensorflow (this may take a few seconds)...\n",
            "\n",
            "Predicting MIDI for /content/vocal-remover/video_ad21_Instruments.wav...\n",
            "\n",
            "\n",
            "  Creating midi...\n",
            "  💅 Saved to /content/video_to_midi/video_ad21_Instruments_basic_pitch.mid\n",
            "\n",
            "✨ Done ✨\n",
            "\n",
            "MoviePy - Writing audio in video_ad22.mp3\n"
          ]
        },
        {
          "name": "stderr",
          "output_type": "stream",
          "text": []
        },
        {
          "name": "stdout",
          "output_type": "stream",
          "text": [
            "MoviePy - Done.\n",
            "loading model... done\n",
            "loading wave source... done\n",
            "stft of wave source... done\n",
            "100% 3/3 [00:49<00:00, 16.54s/it]\n",
            "validating output directory... done\n",
            "inverse stft of instruments... done\n",
            "inverse stft of vocals... done\n",
            "\n",
            "✨✨✨✨✨✨✨✨✨\n",
            "✨ Basic Pitch  ✨\n",
            "✨✨✨✨✨✨✨✨✨\n",
            "\n",
            "Importing Tensorflow (this may take a few seconds)...\n",
            "\n",
            "Predicting MIDI for /content/vocal-remover/video_ad22_Instruments.wav...\n",
            "\n",
            "\n",
            "  Creating midi...\n",
            "  💅 Saved to /content/video_to_midi/video_ad22_Instruments_basic_pitch.mid\n",
            "\n",
            "✨ Done ✨\n",
            "\n",
            "MoviePy - Writing audio in video_ad23.mp3\n"
          ]
        },
        {
          "name": "stderr",
          "output_type": "stream",
          "text": []
        },
        {
          "name": "stdout",
          "output_type": "stream",
          "text": [
            "MoviePy - Done.\n",
            "loading model... done\n",
            "loading wave source... done\n",
            "stft of wave source... done\n",
            "100% 2/2 [00:25<00:00, 12.73s/it]\n",
            "validating output directory... done\n",
            "inverse stft of instruments... done\n",
            "inverse stft of vocals... done\n",
            "\n",
            "✨✨✨✨✨✨✨✨✨\n",
            "✨ Basic Pitch  ✨\n",
            "✨✨✨✨✨✨✨✨✨\n",
            "\n",
            "Importing Tensorflow (this may take a few seconds)...\n",
            "\n",
            "Predicting MIDI for /content/vocal-remover/video_ad23_Instruments.wav...\n",
            "\n",
            "\n",
            "  Creating midi...\n",
            "  💅 Saved to /content/video_to_midi/video_ad23_Instruments_basic_pitch.mid\n",
            "\n",
            "✨ Done ✨\n",
            "\n",
            "MoviePy - Writing audio in video_ad24.mp3\n"
          ]
        },
        {
          "name": "stderr",
          "output_type": "stream",
          "text": []
        },
        {
          "name": "stdout",
          "output_type": "stream",
          "text": [
            "MoviePy - Done.\n",
            "loading model... done\n",
            "loading wave source... done\n",
            "stft of wave source... done\n",
            "100% 6/6 [01:33<00:00, 15.63s/it]\n",
            "validating output directory... done\n",
            "inverse stft of instruments... done\n",
            "inverse stft of vocals... done\n",
            "\n",
            "✨✨✨✨✨✨✨✨✨\n",
            "✨ Basic Pitch  ✨\n",
            "✨✨✨✨✨✨✨✨✨\n",
            "\n",
            "Importing Tensorflow (this may take a few seconds)...\n",
            "\n",
            "Predicting MIDI for /content/vocal-remover/video_ad24_Instruments.wav...\n",
            "\n",
            "\n",
            "  Creating midi...\n",
            "  💅 Saved to /content/video_to_midi/video_ad24_Instruments_basic_pitch.mid\n",
            "\n",
            "✨ Done ✨\n",
            "\n",
            "MoviePy - Writing audio in video_ad25.mp3\n"
          ]
        },
        {
          "name": "stderr",
          "output_type": "stream",
          "text": []
        },
        {
          "name": "stdout",
          "output_type": "stream",
          "text": [
            "MoviePy - Done.\n",
            "loading model... done\n",
            "loading wave source... done\n",
            "stft of wave source... done\n",
            "100% 5/5 [01:24<00:00, 16.94s/it]\n",
            "validating output directory... done\n",
            "inverse stft of instruments... done\n",
            "inverse stft of vocals... done\n",
            "\n",
            "✨✨✨✨✨✨✨✨✨\n",
            "✨ Basic Pitch  ✨\n",
            "✨✨✨✨✨✨✨✨✨\n",
            "\n",
            "Importing Tensorflow (this may take a few seconds)...\n",
            "\n",
            "Predicting MIDI for /content/vocal-remover/video_ad25_Instruments.wav...\n",
            "\n",
            "\n",
            "  Creating midi...\n",
            "  💅 Saved to /content/video_to_midi/video_ad25_Instruments_basic_pitch.mid\n",
            "\n",
            "✨ Done ✨\n",
            "\n",
            "MoviePy - Writing audio in video_ad26.mp3\n"
          ]
        },
        {
          "name": "stderr",
          "output_type": "stream",
          "text": []
        },
        {
          "name": "stdout",
          "output_type": "stream",
          "text": [
            "MoviePy - Done.\n",
            "loading model... done\n",
            "loading wave source... done\n",
            "stft of wave source... done\n",
            "100% 4/4 [01:02<00:00, 15.72s/it]\n",
            "validating output directory... done\n",
            "inverse stft of instruments... done\n",
            "inverse stft of vocals... done\n",
            "\n",
            "✨✨✨✨✨✨✨✨✨\n",
            "✨ Basic Pitch  ✨\n",
            "✨✨✨✨✨✨✨✨✨\n",
            "\n",
            "Importing Tensorflow (this may take a few seconds)...\n",
            "\n",
            "Predicting MIDI for /content/vocal-remover/video_ad26_Instruments.wav...\n",
            "\n",
            "\n",
            "  Creating midi...\n",
            "  💅 Saved to /content/video_to_midi/video_ad26_Instruments_basic_pitch.mid\n",
            "\n",
            "✨ Done ✨\n",
            "\n",
            "MoviePy - Writing audio in video_ad27.mp3\n"
          ]
        },
        {
          "name": "stderr",
          "output_type": "stream",
          "text": []
        },
        {
          "name": "stdout",
          "output_type": "stream",
          "text": [
            "MoviePy - Done.\n",
            "loading model... done\n",
            "loading wave source... done\n",
            "stft of wave source... done\n",
            "100% 1/1 [00:14<00:00, 14.63s/it]\n",
            "validating output directory... done\n",
            "inverse stft of instruments... done\n",
            "inverse stft of vocals... done\n",
            "\n",
            "✨✨✨✨✨✨✨✨✨\n",
            "✨ Basic Pitch  ✨\n",
            "✨✨✨✨✨✨✨✨✨\n",
            "\n",
            "Importing Tensorflow (this may take a few seconds)...\n",
            "\n",
            "Predicting MIDI for /content/vocal-remover/video_ad27_Instruments.wav...\n",
            "\n",
            "\n",
            "  Creating midi...\n",
            "  💅 Saved to /content/video_to_midi/video_ad27_Instruments_basic_pitch.mid\n",
            "\n",
            "✨ Done ✨\n",
            "\n",
            "MoviePy - Writing audio in video_ad28.mp3\n"
          ]
        },
        {
          "name": "stderr",
          "output_type": "stream",
          "text": []
        },
        {
          "name": "stdout",
          "output_type": "stream",
          "text": [
            "MoviePy - Done.\n",
            "loading model... done\n",
            "loading wave source... done\n",
            "stft of wave source... done\n",
            "100% 6/6 [01:42<00:00, 17.02s/it]\n",
            "validating output directory... done\n",
            "inverse stft of instruments... done\n",
            "inverse stft of vocals... done\n",
            "\n",
            "✨✨✨✨✨✨✨✨✨\n",
            "✨ Basic Pitch  ✨\n",
            "✨✨✨✨✨✨✨✨✨\n",
            "\n",
            "Importing Tensorflow (this may take a few seconds)...\n",
            "\n",
            "Predicting MIDI for /content/vocal-remover/video_ad28_Instruments.wav...\n",
            "\n",
            "\n",
            "  Creating midi...\n",
            "  💅 Saved to /content/video_to_midi/video_ad28_Instruments_basic_pitch.mid\n",
            "\n",
            "✨ Done ✨\n",
            "\n",
            "MoviePy - Writing audio in video_ad29.mp3\n"
          ]
        },
        {
          "name": "stderr",
          "output_type": "stream",
          "text": []
        },
        {
          "name": "stdout",
          "output_type": "stream",
          "text": [
            "MoviePy - Done.\n",
            "loading model... done\n",
            "loading wave source... done\n",
            "stft of wave source... done\n",
            "100% 3/3 [00:43<00:00, 14.48s/it]\n",
            "validating output directory... done\n",
            "inverse stft of instruments... done\n",
            "inverse stft of vocals... done\n",
            "\n",
            "✨✨✨✨✨✨✨✨✨\n",
            "✨ Basic Pitch  ✨\n",
            "✨✨✨✨✨✨✨✨✨\n",
            "\n",
            "Importing Tensorflow (this may take a few seconds)...\n",
            "\n",
            "Predicting MIDI for /content/vocal-remover/video_ad29_Instruments.wav...\n",
            "\n",
            "\n",
            "  Creating midi...\n",
            "  💅 Saved to /content/video_to_midi/video_ad29_Instruments_basic_pitch.mid\n",
            "\n",
            "✨ Done ✨\n",
            "\n",
            "MoviePy - Writing audio in video_ad30.mp3\n"
          ]
        },
        {
          "name": "stderr",
          "output_type": "stream",
          "text": []
        },
        {
          "name": "stdout",
          "output_type": "stream",
          "text": [
            "MoviePy - Done.\n",
            "loading model... done\n",
            "loading wave source... done\n",
            "stft of wave source... done\n",
            "100% 2/2 [00:23<00:00, 11.53s/it]\n",
            "validating output directory... done\n",
            "inverse stft of instruments... done\n",
            "inverse stft of vocals... done\n",
            "\n",
            "✨✨✨✨✨✨✨✨✨\n",
            "✨ Basic Pitch  ✨\n",
            "✨✨✨✨✨✨✨✨✨\n",
            "\n",
            "Importing Tensorflow (this may take a few seconds)...\n",
            "\n",
            "Predicting MIDI for /content/vocal-remover/video_ad30_Instruments.wav...\n",
            "\n",
            "\n",
            "  Creating midi...\n",
            "  💅 Saved to /content/video_to_midi/video_ad30_Instruments_basic_pitch.mid\n",
            "\n",
            "✨ Done ✨\n",
            "\n",
            "MoviePy - Writing audio in video_ad31.mp3\n"
          ]
        },
        {
          "name": "stderr",
          "output_type": "stream",
          "text": []
        },
        {
          "name": "stdout",
          "output_type": "stream",
          "text": [
            "MoviePy - Done.\n",
            "loading model... done\n",
            "loading wave source... done\n",
            "stft of wave source... done\n",
            "100% 2/2 [00:31<00:00, 15.99s/it]\n",
            "validating output directory... done\n",
            "inverse stft of instruments... done\n",
            "inverse stft of vocals... done\n",
            "\n",
            "✨✨✨✨✨✨✨✨✨\n",
            "✨ Basic Pitch  ✨\n",
            "✨✨✨✨✨✨✨✨✨\n",
            "\n",
            "Importing Tensorflow (this may take a few seconds)...\n",
            "\n",
            "Predicting MIDI for /content/vocal-remover/video_ad31_Instruments.wav...\n",
            "\n",
            "\n",
            "  Creating midi...\n",
            "  💅 Saved to /content/video_to_midi/video_ad31_Instruments_basic_pitch.mid\n",
            "\n",
            "✨ Done ✨\n",
            "\n",
            "MoviePy - Writing audio in video_ad32.mp3\n"
          ]
        },
        {
          "name": "stderr",
          "output_type": "stream",
          "text": []
        },
        {
          "name": "stdout",
          "output_type": "stream",
          "text": [
            "MoviePy - Done.\n",
            "loading model... done\n",
            "loading wave source... done\n",
            "stft of wave source... done\n",
            "100% 6/6 [01:51<00:00, 18.62s/it]\n",
            "validating output directory... done\n",
            "inverse stft of instruments... done\n",
            "inverse stft of vocals... done\n",
            "\n",
            "✨✨✨✨✨✨✨✨✨\n",
            "✨ Basic Pitch  ✨\n",
            "✨✨✨✨✨✨✨✨✨\n",
            "\n",
            "Importing Tensorflow (this may take a few seconds)...\n",
            "\n",
            "Predicting MIDI for /content/vocal-remover/video_ad32_Instruments.wav...\n",
            "\n",
            "\n",
            "  Creating midi...\n",
            "  💅 Saved to /content/video_to_midi/video_ad32_Instruments_basic_pitch.mid\n",
            "\n",
            "✨ Done ✨\n",
            "\n",
            "MoviePy - Writing audio in video_ad33.mp3\n"
          ]
        },
        {
          "name": "stderr",
          "output_type": "stream",
          "text": []
        },
        {
          "name": "stdout",
          "output_type": "stream",
          "text": [
            "MoviePy - Done.\n",
            "loading model... done\n",
            "loading wave source... done\n",
            "stft of wave source... done\n",
            "100% 3/3 [00:51<00:00, 17.28s/it]\n",
            "validating output directory... done\n",
            "inverse stft of instruments... done\n",
            "inverse stft of vocals... done\n",
            "\n",
            "✨✨✨✨✨✨✨✨✨\n",
            "✨ Basic Pitch  ✨\n",
            "✨✨✨✨✨✨✨✨✨\n",
            "\n",
            "Importing Tensorflow (this may take a few seconds)...\n",
            "\n",
            "Predicting MIDI for /content/vocal-remover/video_ad33_Instruments.wav...\n",
            "\n",
            "\n",
            "  Creating midi...\n",
            "  💅 Saved to /content/video_to_midi/video_ad33_Instruments_basic_pitch.mid\n",
            "\n",
            "✨ Done ✨\n",
            "\n",
            "MoviePy - Writing audio in video_ad34.mp3\n"
          ]
        },
        {
          "name": "stderr",
          "output_type": "stream",
          "text": []
        },
        {
          "name": "stdout",
          "output_type": "stream",
          "text": [
            "MoviePy - Done.\n",
            "loading model... done\n",
            "loading wave source... done\n",
            "stft of wave source... done\n",
            "100% 3/3 [00:53<00:00, 17.86s/it]\n",
            "validating output directory... done\n",
            "inverse stft of instruments... done\n",
            "inverse stft of vocals... done\n",
            "\n",
            "✨✨✨✨✨✨✨✨✨\n",
            "✨ Basic Pitch  ✨\n",
            "✨✨✨✨✨✨✨✨✨\n",
            "\n",
            "Importing Tensorflow (this may take a few seconds)...\n",
            "\n",
            "Predicting MIDI for /content/vocal-remover/video_ad34_Instruments.wav...\n",
            "\n",
            "\n",
            "  Creating midi...\n",
            "  💅 Saved to /content/video_to_midi/video_ad34_Instruments_basic_pitch.mid\n",
            "\n",
            "✨ Done ✨\n",
            "\n",
            "MoviePy - Writing audio in video_ad35.mp3\n"
          ]
        },
        {
          "name": "stderr",
          "output_type": "stream",
          "text": []
        },
        {
          "name": "stdout",
          "output_type": "stream",
          "text": [
            "MoviePy - Done.\n",
            "loading model... done\n",
            "loading wave source... done\n",
            "stft of wave source... done\n",
            "100% 1/1 [00:19<00:00, 19.50s/it]\n",
            "validating output directory... done\n",
            "inverse stft of instruments... done\n",
            "inverse stft of vocals... done\n",
            "\n",
            "✨✨✨✨✨✨✨✨✨\n",
            "✨ Basic Pitch  ✨\n",
            "✨✨✨✨✨✨✨✨✨\n",
            "\n",
            "Importing Tensorflow (this may take a few seconds)...\n",
            "\n",
            "Predicting MIDI for /content/vocal-remover/video_ad35_Instruments.wav...\n",
            "\n",
            "\n",
            "  Creating midi...\n",
            "  💅 Saved to /content/video_to_midi/video_ad35_Instruments_basic_pitch.mid\n",
            "\n",
            "✨ Done ✨\n",
            "\n",
            "MoviePy - Writing audio in video_ad36.mp3\n"
          ]
        },
        {
          "name": "stderr",
          "output_type": "stream",
          "text": []
        },
        {
          "name": "stdout",
          "output_type": "stream",
          "text": [
            "MoviePy - Done.\n",
            "loading model... done\n",
            "loading wave source... done\n",
            "stft of wave source... done\n",
            "100% 6/6 [01:42<00:00, 17.01s/it]\n",
            "validating output directory... done\n",
            "inverse stft of instruments... done\n",
            "inverse stft of vocals... done\n",
            "\n",
            "✨✨✨✨✨✨✨✨✨\n",
            "✨ Basic Pitch  ✨\n",
            "✨✨✨✨✨✨✨✨✨\n",
            "\n",
            "Importing Tensorflow (this may take a few seconds)...\n",
            "\n",
            "Predicting MIDI for /content/vocal-remover/video_ad36_Instruments.wav...\n",
            "\n",
            "\n",
            "  Creating midi...\n",
            "  💅 Saved to /content/video_to_midi/video_ad36_Instruments_basic_pitch.mid\n",
            "\n",
            "✨ Done ✨\n",
            "\n",
            "MoviePy - Writing audio in video_ad37.mp3\n"
          ]
        },
        {
          "name": "stderr",
          "output_type": "stream",
          "text": []
        },
        {
          "name": "stdout",
          "output_type": "stream",
          "text": [
            "MoviePy - Done.\n",
            "loading model... done\n",
            "loading wave source... done\n",
            "stft of wave source... done\n",
            "100% 3/3 [00:51<00:00, 17.11s/it]\n",
            "validating output directory... done\n",
            "inverse stft of instruments... done\n",
            "inverse stft of vocals... done\n",
            "\n",
            "✨✨✨✨✨✨✨✨✨\n",
            "✨ Basic Pitch  ✨\n",
            "✨✨✨✨✨✨✨✨✨\n",
            "\n",
            "Importing Tensorflow (this may take a few seconds)...\n",
            "\n",
            "Predicting MIDI for /content/vocal-remover/video_ad37_Instruments.wav...\n",
            "\n",
            "\n",
            "  Creating midi...\n",
            "  💅 Saved to /content/video_to_midi/video_ad37_Instruments_basic_pitch.mid\n",
            "\n",
            "✨ Done ✨\n",
            "\n",
            "MoviePy - Writing audio in video_ad38.mp3\n"
          ]
        },
        {
          "name": "stderr",
          "output_type": "stream",
          "text": []
        },
        {
          "name": "stdout",
          "output_type": "stream",
          "text": [
            "MoviePy - Done.\n",
            "loading model... done\n",
            "loading wave source... done\n",
            "stft of wave source... done\n",
            "100% 5/5 [01:19<00:00, 15.91s/it]\n",
            "validating output directory... done\n",
            "inverse stft of instruments... done\n",
            "inverse stft of vocals... done\n",
            "\n",
            "✨✨✨✨✨✨✨✨✨\n",
            "✨ Basic Pitch  ✨\n",
            "✨✨✨✨✨✨✨✨✨\n",
            "\n",
            "Importing Tensorflow (this may take a few seconds)...\n",
            "\n",
            "Predicting MIDI for /content/vocal-remover/video_ad38_Instruments.wav...\n",
            "\n",
            "\n",
            "  Creating midi...\n",
            "  💅 Saved to /content/video_to_midi/video_ad38_Instruments_basic_pitch.mid\n",
            "\n",
            "✨ Done ✨\n",
            "\n",
            "MoviePy - Writing audio in video_ad39.mp3\n"
          ]
        },
        {
          "name": "stderr",
          "output_type": "stream",
          "text": []
        },
        {
          "name": "stdout",
          "output_type": "stream",
          "text": [
            "MoviePy - Done.\n",
            "loading model... done\n",
            "loading wave source... done\n",
            "stft of wave source... done\n",
            "100% 2/2 [00:26<00:00, 13.05s/it]\n",
            "validating output directory... done\n",
            "inverse stft of instruments... done\n",
            "inverse stft of vocals... done\n",
            "\n",
            "✨✨✨✨✨✨✨✨✨\n",
            "✨ Basic Pitch  ✨\n",
            "✨✨✨✨✨✨✨✨✨\n",
            "\n",
            "Importing Tensorflow (this may take a few seconds)...\n",
            "\n",
            "Predicting MIDI for /content/vocal-remover/video_ad39_Instruments.wav...\n",
            "\n",
            "\n",
            "  Creating midi...\n",
            "  💅 Saved to /content/video_to_midi/video_ad39_Instruments_basic_pitch.mid\n",
            "\n",
            "✨ Done ✨\n",
            "\n",
            "MoviePy - Writing audio in video_ad40.mp3\n"
          ]
        },
        {
          "name": "stderr",
          "output_type": "stream",
          "text": []
        },
        {
          "name": "stdout",
          "output_type": "stream",
          "text": [
            "MoviePy - Done.\n",
            "loading model... done\n",
            "loading wave source... done\n",
            "stft of wave source... done\n",
            "100% 3/3 [00:49<00:00, 16.52s/it]\n",
            "validating output directory... done\n",
            "inverse stft of instruments... done\n",
            "inverse stft of vocals... done\n",
            "\n",
            "✨✨✨✨✨✨✨✨✨\n",
            "✨ Basic Pitch  ✨\n",
            "✨✨✨✨✨✨✨✨✨\n",
            "\n",
            "Importing Tensorflow (this may take a few seconds)...\n",
            "\n",
            "Predicting MIDI for /content/vocal-remover/video_ad40_Instruments.wav...\n",
            "\n",
            "\n",
            "  Creating midi...\n",
            "  💅 Saved to /content/video_to_midi/video_ad40_Instruments_basic_pitch.mid\n",
            "\n",
            "✨ Done ✨\n",
            "\n",
            "MoviePy - Writing audio in video_ad41.mp3\n"
          ]
        },
        {
          "name": "stderr",
          "output_type": "stream",
          "text": []
        },
        {
          "name": "stdout",
          "output_type": "stream",
          "text": [
            "MoviePy - Done.\n",
            "loading model... done\n",
            "loading wave source... done\n",
            "stft of wave source... done\n",
            "100% 6/6 [01:37<00:00, 16.25s/it]\n",
            "validating output directory... done\n",
            "inverse stft of instruments... done\n",
            "inverse stft of vocals... done\n",
            "\n",
            "✨✨✨✨✨✨✨✨✨\n",
            "✨ Basic Pitch  ✨\n",
            "✨✨✨✨✨✨✨✨✨\n",
            "\n",
            "Importing Tensorflow (this may take a few seconds)...\n",
            "\n",
            "Predicting MIDI for /content/vocal-remover/video_ad41_Instruments.wav...\n",
            "\n",
            "\n",
            "  Creating midi...\n",
            "  💅 Saved to /content/video_to_midi/video_ad41_Instruments_basic_pitch.mid\n",
            "\n",
            "✨ Done ✨\n",
            "\n",
            "MoviePy - Writing audio in video_ad42.mp3\n"
          ]
        },
        {
          "name": "stderr",
          "output_type": "stream",
          "text": []
        },
        {
          "name": "stdout",
          "output_type": "stream",
          "text": [
            "MoviePy - Done.\n",
            "loading model... done\n",
            "loading wave source... done\n",
            "stft of wave source... done\n",
            "100% 6/6 [01:37<00:00, 16.29s/it]\n",
            "validating output directory... done\n",
            "inverse stft of instruments... done\n",
            "inverse stft of vocals... done\n",
            "\n",
            "✨✨✨✨✨✨✨✨✨\n",
            "✨ Basic Pitch  ✨\n",
            "✨✨✨✨✨✨✨✨✨\n",
            "\n",
            "Importing Tensorflow (this may take a few seconds)...\n",
            "\n",
            "Predicting MIDI for /content/vocal-remover/video_ad42_Instruments.wav...\n",
            "\n",
            "\n",
            "  Creating midi...\n",
            "  💅 Saved to /content/video_to_midi/video_ad42_Instruments_basic_pitch.mid\n",
            "\n",
            "✨ Done ✨\n",
            "\n",
            "MoviePy - Writing audio in video_ad43.mp3\n"
          ]
        },
        {
          "name": "stderr",
          "output_type": "stream",
          "text": []
        },
        {
          "name": "stdout",
          "output_type": "stream",
          "text": [
            "MoviePy - Done.\n",
            "loading model... done\n",
            "loading wave source... done\n",
            "stft of wave source... done\n",
            "100% 3/3 [00:52<00:00, 17.36s/it]\n",
            "validating output directory... done\n",
            "inverse stft of instruments... done\n",
            "inverse stft of vocals... done\n",
            "\n",
            "✨✨✨✨✨✨✨✨✨\n",
            "✨ Basic Pitch  ✨\n",
            "✨✨✨✨✨✨✨✨✨\n",
            "\n",
            "Importing Tensorflow (this may take a few seconds)...\n",
            "\n",
            "Predicting MIDI for /content/vocal-remover/video_ad43_Instruments.wav...\n",
            "\n",
            "\n",
            "  Creating midi...\n",
            "  💅 Saved to /content/video_to_midi/video_ad43_Instruments_basic_pitch.mid\n",
            "\n",
            "✨ Done ✨\n",
            "\n",
            "MoviePy - Writing audio in video_ad44.mp3\n"
          ]
        },
        {
          "name": "stderr",
          "output_type": "stream",
          "text": []
        },
        {
          "name": "stdout",
          "output_type": "stream",
          "text": [
            "MoviePy - Done.\n",
            "loading model... done\n",
            "loading wave source... done\n",
            "stft of wave source... done\n",
            "100% 2/2 [00:28<00:00, 14.07s/it]\n",
            "validating output directory... done\n",
            "inverse stft of instruments... done\n",
            "inverse stft of vocals... done\n",
            "\n",
            "✨✨✨✨✨✨✨✨✨\n",
            "✨ Basic Pitch  ✨\n",
            "✨✨✨✨✨✨✨✨✨\n",
            "\n",
            "Importing Tensorflow (this may take a few seconds)...\n",
            "\n",
            "Predicting MIDI for /content/vocal-remover/video_ad44_Instruments.wav...\n",
            "\n",
            "\n",
            "  Creating midi...\n",
            "  💅 Saved to /content/video_to_midi/video_ad44_Instruments_basic_pitch.mid\n",
            "\n",
            "✨ Done ✨\n",
            "\n",
            "MoviePy - Writing audio in video_ad45.mp3\n"
          ]
        },
        {
          "name": "stderr",
          "output_type": "stream",
          "text": []
        },
        {
          "name": "stdout",
          "output_type": "stream",
          "text": [
            "MoviePy - Done.\n",
            "loading model... done\n",
            "loading wave source... done\n",
            "stft of wave source... done\n",
            "100% 3/3 [00:51<00:00, 17.25s/it]\n",
            "validating output directory... done\n",
            "inverse stft of instruments... done\n",
            "inverse stft of vocals... done\n",
            "\n",
            "✨✨✨✨✨✨✨✨✨\n",
            "✨ Basic Pitch  ✨\n",
            "✨✨✨✨✨✨✨✨✨\n",
            "\n",
            "Importing Tensorflow (this may take a few seconds)...\n",
            "\n",
            "Predicting MIDI for /content/vocal-remover/video_ad45_Instruments.wav...\n",
            "\n",
            "\n",
            "  Creating midi...\n",
            "  💅 Saved to /content/video_to_midi/video_ad45_Instruments_basic_pitch.mid\n",
            "\n",
            "✨ Done ✨\n",
            "\n",
            "MoviePy - Writing audio in video_ad46.mp3\n"
          ]
        },
        {
          "name": "stderr",
          "output_type": "stream",
          "text": []
        },
        {
          "name": "stdout",
          "output_type": "stream",
          "text": [
            "MoviePy - Done.\n",
            "loading model... done\n",
            "loading wave source... done\n",
            "stft of wave source... done\n",
            "100% 3/3 [00:51<00:00, 17.09s/it]\n",
            "validating output directory... done\n",
            "inverse stft of instruments... done\n",
            "inverse stft of vocals... done\n",
            "\n",
            "✨✨✨✨✨✨✨✨✨\n",
            "✨ Basic Pitch  ✨\n",
            "✨✨✨✨✨✨✨✨✨\n",
            "\n",
            "Importing Tensorflow (this may take a few seconds)...\n",
            "\n",
            "Predicting MIDI for /content/vocal-remover/video_ad46_Instruments.wav...\n",
            "\n",
            "\n",
            "  Creating midi...\n",
            "  💅 Saved to /content/video_to_midi/video_ad46_Instruments_basic_pitch.mid\n",
            "\n",
            "✨ Done ✨\n",
            "\n",
            "MoviePy - Writing audio in video_ad47.mp3\n"
          ]
        },
        {
          "name": "stderr",
          "output_type": "stream",
          "text": []
        },
        {
          "name": "stdout",
          "output_type": "stream",
          "text": [
            "MoviePy - Done.\n",
            "loading model... done\n",
            "loading wave source... done\n",
            "stft of wave source... done\n",
            "100% 2/2 [00:29<00:00, 14.53s/it]\n",
            "validating output directory... done\n",
            "inverse stft of instruments... done\n",
            "inverse stft of vocals... done\n",
            "\n",
            "✨✨✨✨✨✨✨✨✨\n",
            "✨ Basic Pitch  ✨\n",
            "✨✨✨✨✨✨✨✨✨\n",
            "\n",
            "Importing Tensorflow (this may take a few seconds)...\n",
            "\n",
            "Predicting MIDI for /content/vocal-remover/video_ad47_Instruments.wav...\n",
            "\n",
            "\n",
            "  Creating midi...\n",
            "  💅 Saved to /content/video_to_midi/video_ad47_Instruments_basic_pitch.mid\n",
            "\n",
            "✨ Done ✨\n",
            "\n",
            "MoviePy - Writing audio in video_ad48.mp3\n"
          ]
        },
        {
          "name": "stderr",
          "output_type": "stream",
          "text": []
        },
        {
          "name": "stdout",
          "output_type": "stream",
          "text": [
            "MoviePy - Done.\n",
            "loading model... done\n",
            "loading wave source... done\n",
            "stft of wave source... done\n",
            "100% 3/3 [00:52<00:00, 17.49s/it]\n",
            "validating output directory... done\n",
            "inverse stft of instruments... done\n",
            "inverse stft of vocals... done\n",
            "\n",
            "✨✨✨✨✨✨✨✨✨\n",
            "✨ Basic Pitch  ✨\n",
            "✨✨✨✨✨✨✨✨✨\n",
            "\n",
            "Importing Tensorflow (this may take a few seconds)...\n",
            "\n",
            "Predicting MIDI for /content/vocal-remover/video_ad48_Instruments.wav...\n",
            "\n",
            "\n",
            "  Creating midi...\n",
            "  💅 Saved to /content/video_to_midi/video_ad48_Instruments_basic_pitch.mid\n",
            "\n",
            "✨ Done ✨\n",
            "\n",
            "MoviePy - Writing audio in video_ad49.mp3\n"
          ]
        },
        {
          "name": "stderr",
          "output_type": "stream",
          "text": []
        },
        {
          "name": "stdout",
          "output_type": "stream",
          "text": [
            "MoviePy - Done.\n",
            "loading model... done\n",
            "loading wave source... done\n",
            "stft of wave source... done\n",
            "100% 4/4 [01:09<00:00, 17.47s/it]\n",
            "validating output directory... done\n",
            "inverse stft of instruments... done\n",
            "inverse stft of vocals... done\n",
            "\n",
            "✨✨✨✨✨✨✨✨✨\n",
            "✨ Basic Pitch  ✨\n",
            "✨✨✨✨✨✨✨✨✨\n",
            "\n",
            "Importing Tensorflow (this may take a few seconds)...\n",
            "\n",
            "Predicting MIDI for /content/vocal-remover/video_ad49_Instruments.wav...\n",
            "\n",
            "\n",
            "  Creating midi...\n",
            "  💅 Saved to /content/video_to_midi/video_ad49_Instruments_basic_pitch.mid\n",
            "\n",
            "✨ Done ✨\n",
            "\n",
            "MoviePy - Writing audio in video_ad50.mp3\n"
          ]
        },
        {
          "name": "stderr",
          "output_type": "stream",
          "text": []
        },
        {
          "name": "stdout",
          "output_type": "stream",
          "text": [
            "MoviePy - Done.\n",
            "loading model... done\n",
            "loading wave source... done\n",
            "stft of wave source... done\n",
            "100% 2/2 [00:29<00:00, 14.54s/it]\n",
            "validating output directory... done\n",
            "inverse stft of instruments... done\n",
            "inverse stft of vocals... done\n",
            "\n",
            "✨✨✨✨✨✨✨✨✨\n",
            "✨ Basic Pitch  ✨\n",
            "✨✨✨✨✨✨✨✨✨\n",
            "\n",
            "Importing Tensorflow (this may take a few seconds)...\n",
            "\n",
            "Predicting MIDI for /content/vocal-remover/video_ad50_Instruments.wav...\n",
            "\n",
            "\n",
            "  Creating midi...\n",
            "  💅 Saved to /content/video_to_midi/video_ad50_Instruments_basic_pitch.mid\n",
            "\n",
            "✨ Done ✨\n",
            "\n",
            "MoviePy - Writing audio in video_ad51.mp3\n"
          ]
        },
        {
          "name": "stderr",
          "output_type": "stream",
          "text": []
        },
        {
          "name": "stdout",
          "output_type": "stream",
          "text": [
            "MoviePy - Done.\n",
            "loading model... done\n",
            "loading wave source... done\n",
            "stft of wave source... done\n",
            "100% 2/2 [00:29<00:00, 14.84s/it]\n",
            "validating output directory... done\n",
            "inverse stft of instruments... done\n",
            "inverse stft of vocals... done\n",
            "\n",
            "✨✨✨✨✨✨✨✨✨\n",
            "✨ Basic Pitch  ✨\n",
            "✨✨✨✨✨✨✨✨✨\n",
            "\n",
            "Importing Tensorflow (this may take a few seconds)...\n",
            "\n",
            "Predicting MIDI for /content/vocal-remover/video_ad51_Instruments.wav...\n",
            "\n",
            "\n",
            "  Creating midi...\n",
            "  💅 Saved to /content/video_to_midi/video_ad51_Instruments_basic_pitch.mid\n",
            "\n",
            "✨ Done ✨\n",
            "\n",
            "MoviePy - Writing audio in video_ad52.mp3\n"
          ]
        },
        {
          "name": "stderr",
          "output_type": "stream",
          "text": []
        },
        {
          "name": "stdout",
          "output_type": "stream",
          "text": [
            "MoviePy - Done.\n",
            "loading model... done\n",
            "loading wave source... done\n",
            "stft of wave source... done\n",
            "100% 1/1 [00:11<00:00, 11.17s/it]\n",
            "validating output directory... done\n",
            "inverse stft of instruments... done\n",
            "inverse stft of vocals... done\n",
            "\n",
            "✨✨✨✨✨✨✨✨✨\n",
            "✨ Basic Pitch  ✨\n",
            "✨✨✨✨✨✨✨✨✨\n",
            "\n",
            "Importing Tensorflow (this may take a few seconds)...\n",
            "\n",
            "Predicting MIDI for /content/vocal-remover/video_ad52_Instruments.wav...\n",
            "\n",
            "\n",
            "  Creating midi...\n",
            "  💅 Saved to /content/video_to_midi/video_ad52_Instruments_basic_pitch.mid\n",
            "\n",
            "✨ Done ✨\n",
            "\n",
            "MoviePy - Writing audio in video_ad53.mp3\n"
          ]
        },
        {
          "name": "stderr",
          "output_type": "stream",
          "text": []
        },
        {
          "name": "stdout",
          "output_type": "stream",
          "text": [
            "MoviePy - Done.\n",
            "loading model... done\n",
            "loading wave source... done\n",
            "stft of wave source... done\n",
            "100% 2/2 [00:30<00:00, 15.24s/it]\n",
            "validating output directory... done\n",
            "inverse stft of instruments... done\n",
            "inverse stft of vocals... done\n",
            "\n",
            "✨✨✨✨✨✨✨✨✨\n",
            "✨ Basic Pitch  ✨\n",
            "✨✨✨✨✨✨✨✨✨\n",
            "\n",
            "Importing Tensorflow (this may take a few seconds)...\n",
            "\n",
            "Predicting MIDI for /content/vocal-remover/video_ad53_Instruments.wav...\n",
            "\n",
            "\n",
            "  Creating midi...\n",
            "  💅 Saved to /content/video_to_midi/video_ad53_Instruments_basic_pitch.mid\n",
            "\n",
            "✨ Done ✨\n",
            "\n",
            "MoviePy - Writing audio in video_ad54.mp3\n"
          ]
        },
        {
          "name": "stderr",
          "output_type": "stream",
          "text": []
        },
        {
          "name": "stdout",
          "output_type": "stream",
          "text": [
            "MoviePy - Done.\n",
            "loading model... done\n",
            "loading wave source... done\n",
            "stft of wave source... done\n",
            "100% 2/2 [00:26<00:00, 13.19s/it]\n",
            "validating output directory... done\n",
            "inverse stft of instruments... done\n",
            "inverse stft of vocals... done\n",
            "\n",
            "✨✨✨✨✨✨✨✨✨\n",
            "✨ Basic Pitch  ✨\n",
            "✨✨✨✨✨✨✨✨✨\n",
            "\n",
            "Importing Tensorflow (this may take a few seconds)...\n",
            "\n",
            "Predicting MIDI for /content/vocal-remover/video_ad54_Instruments.wav...\n",
            "\n",
            "\n",
            "  Creating midi...\n",
            "  💅 Saved to /content/video_to_midi/video_ad54_Instruments_basic_pitch.mid\n",
            "\n",
            "✨ Done ✨\n",
            "\n",
            "MoviePy - Writing audio in video_ad55.mp3\n"
          ]
        },
        {
          "name": "stderr",
          "output_type": "stream",
          "text": []
        },
        {
          "name": "stdout",
          "output_type": "stream",
          "text": [
            "MoviePy - Done.\n",
            "loading model... done\n",
            "loading wave source... done\n",
            "stft of wave source... done\n",
            "100% 2/2 [00:27<00:00, 13.62s/it]\n",
            "validating output directory... done\n",
            "inverse stft of instruments... done\n",
            "inverse stft of vocals... done\n",
            "\n",
            "✨✨✨✨✨✨✨✨✨\n",
            "✨ Basic Pitch  ✨\n",
            "✨✨✨✨✨✨✨✨✨\n",
            "\n",
            "Importing Tensorflow (this may take a few seconds)...\n",
            "\n",
            "Predicting MIDI for /content/vocal-remover/video_ad55_Instruments.wav...\n",
            "\n",
            "\n",
            "  Creating midi...\n",
            "  💅 Saved to /content/video_to_midi/video_ad55_Instruments_basic_pitch.mid\n",
            "\n",
            "✨ Done ✨\n",
            "\n",
            "MoviePy - Writing audio in video_ad56.mp3\n"
          ]
        },
        {
          "name": "stderr",
          "output_type": "stream",
          "text": []
        },
        {
          "name": "stdout",
          "output_type": "stream",
          "text": [
            "MoviePy - Done.\n",
            "loading model... done\n",
            "loading wave source... done\n",
            "stft of wave source... done\n",
            "100% 3/3 [00:52<00:00, 17.47s/it]\n",
            "validating output directory... done\n",
            "inverse stft of instruments... done\n",
            "inverse stft of vocals... done\n",
            "\n",
            "✨✨✨✨✨✨✨✨✨\n",
            "✨ Basic Pitch  ✨\n",
            "✨✨✨✨✨✨✨✨✨\n",
            "\n",
            "Importing Tensorflow (this may take a few seconds)...\n",
            "\n",
            "Predicting MIDI for /content/vocal-remover/video_ad56_Instruments.wav...\n",
            "\n",
            "\n",
            "  Creating midi...\n",
            "  💅 Saved to /content/video_to_midi/video_ad56_Instruments_basic_pitch.mid\n",
            "\n",
            "✨ Done ✨\n",
            "\n",
            "MoviePy - Writing audio in video_ad57.mp3\n"
          ]
        },
        {
          "name": "stderr",
          "output_type": "stream",
          "text": []
        },
        {
          "name": "stdout",
          "output_type": "stream",
          "text": [
            "MoviePy - Done.\n",
            "loading model... done\n",
            "loading wave source... done\n",
            "stft of wave source... done\n",
            "100% 2/2 [00:27<00:00, 13.61s/it]\n",
            "validating output directory... done\n",
            "inverse stft of instruments... done\n",
            "inverse stft of vocals... done\n",
            "\n",
            "✨✨✨✨✨✨✨✨✨\n",
            "✨ Basic Pitch  ✨\n",
            "✨✨✨✨✨✨✨✨✨\n",
            "\n",
            "Importing Tensorflow (this may take a few seconds)...\n",
            "\n",
            "Predicting MIDI for /content/vocal-remover/video_ad57_Instruments.wav...\n",
            "\n",
            "\n",
            "  Creating midi...\n",
            "  💅 Saved to /content/video_to_midi/video_ad57_Instruments_basic_pitch.mid\n",
            "\n",
            "✨ Done ✨\n",
            "\n",
            "MoviePy - Writing audio in video_ad58.mp3\n"
          ]
        },
        {
          "name": "stderr",
          "output_type": "stream",
          "text": []
        },
        {
          "name": "stdout",
          "output_type": "stream",
          "text": [
            "MoviePy - Done.\n",
            "loading model... done\n",
            "loading wave source... done\n",
            "stft of wave source... done\n",
            "100% 2/2 [00:27<00:00, 13.61s/it]\n",
            "validating output directory... done\n",
            "inverse stft of instruments... done\n",
            "inverse stft of vocals... done\n",
            "\n",
            "✨✨✨✨✨✨✨✨✨\n",
            "✨ Basic Pitch  ✨\n",
            "✨✨✨✨✨✨✨✨✨\n",
            "\n",
            "Importing Tensorflow (this may take a few seconds)...\n",
            "\n",
            "Predicting MIDI for /content/vocal-remover/video_ad58_Instruments.wav...\n",
            "\n",
            "\n",
            "  Creating midi...\n",
            "  💅 Saved to /content/video_to_midi/video_ad58_Instruments_basic_pitch.mid\n",
            "\n",
            "✨ Done ✨\n",
            "\n",
            "MoviePy - Writing audio in video_ad59.mp3\n"
          ]
        },
        {
          "name": "stderr",
          "output_type": "stream",
          "text": []
        },
        {
          "name": "stdout",
          "output_type": "stream",
          "text": [
            "MoviePy - Done.\n",
            "loading model... done\n",
            "loading wave source... done\n",
            "stft of wave source... done\n",
            "100% 3/3 [00:50<00:00, 16.85s/it]\n",
            "validating output directory... done\n",
            "inverse stft of instruments... done\n",
            "inverse stft of vocals... done\n",
            "\n",
            "✨✨✨✨✨✨✨✨✨\n",
            "✨ Basic Pitch  ✨\n",
            "✨✨✨✨✨✨✨✨✨\n",
            "\n",
            "Importing Tensorflow (this may take a few seconds)...\n",
            "\n",
            "Predicting MIDI for /content/vocal-remover/video_ad59_Instruments.wav...\n",
            "\n",
            "\n",
            "  Creating midi...\n",
            "  💅 Saved to /content/video_to_midi/video_ad59_Instruments_basic_pitch.mid\n",
            "\n",
            "✨ Done ✨\n",
            "\n",
            "MoviePy - Writing audio in video_ad60.mp3\n"
          ]
        },
        {
          "name": "stderr",
          "output_type": "stream",
          "text": []
        },
        {
          "name": "stdout",
          "output_type": "stream",
          "text": [
            "MoviePy - Done.\n",
            "loading model... done\n",
            "loading wave source... done\n",
            "stft of wave source... done\n",
            "100% 5/5 [01:18<00:00, 15.75s/it]\n",
            "validating output directory... done\n",
            "inverse stft of instruments... done\n",
            "inverse stft of vocals... done\n",
            "\n",
            "✨✨✨✨✨✨✨✨✨\n",
            "✨ Basic Pitch  ✨\n",
            "✨✨✨✨✨✨✨✨✨\n",
            "\n",
            "Importing Tensorflow (this may take a few seconds)...\n",
            "\n",
            "Predicting MIDI for /content/vocal-remover/video_ad60_Instruments.wav...\n",
            "\n",
            "\n",
            "  Creating midi...\n",
            "  💅 Saved to /content/video_to_midi/video_ad60_Instruments_basic_pitch.mid\n",
            "\n",
            "✨ Done ✨\n",
            "\n",
            "MoviePy - Writing audio in video_ad61.mp3\n"
          ]
        },
        {
          "name": "stderr",
          "output_type": "stream",
          "text": []
        },
        {
          "name": "stdout",
          "output_type": "stream",
          "text": [
            "MoviePy - Done.\n",
            "loading model... done\n",
            "loading wave source... done\n",
            "stft of wave source... done\n",
            "100% 2/2 [00:33<00:00, 16.96s/it]\n",
            "validating output directory... done\n",
            "inverse stft of instruments... done\n",
            "inverse stft of vocals... done\n",
            "\n",
            "✨✨✨✨✨✨✨✨✨\n",
            "✨ Basic Pitch  ✨\n",
            "✨✨✨✨✨✨✨✨✨\n",
            "\n",
            "Importing Tensorflow (this may take a few seconds)...\n",
            "\n",
            "Predicting MIDI for /content/vocal-remover/video_ad61_Instruments.wav...\n",
            "\n",
            "\n",
            "  Creating midi...\n",
            "  💅 Saved to /content/video_to_midi/video_ad61_Instruments_basic_pitch.mid\n",
            "\n",
            "✨ Done ✨\n",
            "\n",
            "MoviePy - Writing audio in video_ad62.mp3\n"
          ]
        },
        {
          "name": "stderr",
          "output_type": "stream",
          "text": []
        },
        {
          "name": "stdout",
          "output_type": "stream",
          "text": [
            "MoviePy - Done.\n",
            "loading model... done\n",
            "loading wave source... done\n",
            "stft of wave source... done\n",
            "100% 2/2 [00:28<00:00, 14.08s/it]\n",
            "validating output directory... done\n",
            "inverse stft of instruments... done\n",
            "inverse stft of vocals... done\n",
            "\n",
            "✨✨✨✨✨✨✨✨✨\n",
            "✨ Basic Pitch  ✨\n",
            "✨✨✨✨✨✨✨✨✨\n",
            "\n",
            "Importing Tensorflow (this may take a few seconds)...\n",
            "\n",
            "Predicting MIDI for /content/vocal-remover/video_ad62_Instruments.wav...\n",
            "\n",
            "\n",
            "  Creating midi...\n",
            "  💅 Saved to /content/video_to_midi/video_ad62_Instruments_basic_pitch.mid\n",
            "\n",
            "✨ Done ✨\n",
            "\n",
            "MoviePy - Writing audio in video_ad63.mp3\n"
          ]
        },
        {
          "name": "stderr",
          "output_type": "stream",
          "text": []
        },
        {
          "name": "stdout",
          "output_type": "stream",
          "text": [
            "MoviePy - Done.\n",
            "loading model... done\n",
            "loading wave source... done\n",
            "stft of wave source... done\n",
            "100% 3/3 [00:52<00:00, 17.66s/it]\n",
            "validating output directory... done\n",
            "inverse stft of instruments... done\n",
            "inverse stft of vocals... done\n",
            "\n",
            "✨✨✨✨✨✨✨✨✨\n",
            "✨ Basic Pitch  ✨\n",
            "✨✨✨✨✨✨✨✨✨\n",
            "\n",
            "Importing Tensorflow (this may take a few seconds)...\n",
            "\n",
            "Predicting MIDI for /content/vocal-remover/video_ad63_Instruments.wav...\n",
            "\n",
            "\n",
            "  Creating midi...\n",
            "  💅 Saved to /content/video_to_midi/video_ad63_Instruments_basic_pitch.mid\n",
            "\n",
            "✨ Done ✨\n",
            "\n",
            "MoviePy - Writing audio in video_ad64.mp3\n"
          ]
        },
        {
          "name": "stderr",
          "output_type": "stream",
          "text": []
        },
        {
          "name": "stdout",
          "output_type": "stream",
          "text": [
            "MoviePy - Done.\n",
            "loading model... done\n",
            "loading wave source... done\n",
            "stft of wave source... done\n",
            "100% 2/2 [00:28<00:00, 14.35s/it]\n",
            "validating output directory... done\n",
            "inverse stft of instruments... done\n",
            "inverse stft of vocals... done\n",
            "\n",
            "✨✨✨✨✨✨✨✨✨\n",
            "✨ Basic Pitch  ✨\n",
            "✨✨✨✨✨✨✨✨✨\n",
            "\n",
            "Importing Tensorflow (this may take a few seconds)...\n",
            "\n",
            "Predicting MIDI for /content/vocal-remover/video_ad64_Instruments.wav...\n",
            "\n",
            "\n",
            "  Creating midi...\n",
            "  💅 Saved to /content/video_to_midi/video_ad64_Instruments_basic_pitch.mid\n",
            "\n",
            "✨ Done ✨\n",
            "\n",
            "MoviePy - Writing audio in video_ad65.mp3\n"
          ]
        },
        {
          "name": "stderr",
          "output_type": "stream",
          "text": []
        },
        {
          "name": "stdout",
          "output_type": "stream",
          "text": [
            "MoviePy - Done.\n",
            "loading model... done\n",
            "loading wave source... done\n",
            "stft of wave source... done\n",
            "100% 2/2 [00:28<00:00, 14.21s/it]\n",
            "validating output directory... done\n",
            "inverse stft of instruments... done\n",
            "inverse stft of vocals... done\n",
            "\n",
            "✨✨✨✨✨✨✨✨✨\n",
            "✨ Basic Pitch  ✨\n",
            "✨✨✨✨✨✨✨✨✨\n",
            "\n",
            "Importing Tensorflow (this may take a few seconds)...\n",
            "\n",
            "Predicting MIDI for /content/vocal-remover/video_ad65_Instruments.wav...\n",
            "\n",
            "\n",
            "  Creating midi...\n",
            "  💅 Saved to /content/video_to_midi/video_ad65_Instruments_basic_pitch.mid\n",
            "\n",
            "✨ Done ✨\n",
            "\n",
            "MoviePy - Writing audio in video_ad66.mp3\n"
          ]
        },
        {
          "name": "stderr",
          "output_type": "stream",
          "text": []
        },
        {
          "name": "stdout",
          "output_type": "stream",
          "text": [
            "MoviePy - Done.\n",
            "loading model... done\n",
            "loading wave source... done\n",
            "stft of wave source... done\n",
            "100% 2/2 [00:28<00:00, 14.26s/it]\n",
            "validating output directory... done\n",
            "inverse stft of instruments... done\n",
            "inverse stft of vocals... done\n",
            "\n",
            "✨✨✨✨✨✨✨✨✨\n",
            "✨ Basic Pitch  ✨\n",
            "✨✨✨✨✨✨✨✨✨\n",
            "\n",
            "Importing Tensorflow (this may take a few seconds)...\n",
            "\n",
            "Predicting MIDI for /content/vocal-remover/video_ad66_Instruments.wav...\n",
            "\n",
            "\n",
            "  Creating midi...\n",
            "  💅 Saved to /content/video_to_midi/video_ad66_Instruments_basic_pitch.mid\n",
            "\n",
            "✨ Done ✨\n",
            "\n",
            "MoviePy - Writing audio in video_ad67.mp3\n"
          ]
        },
        {
          "name": "stderr",
          "output_type": "stream",
          "text": []
        },
        {
          "name": "stdout",
          "output_type": "stream",
          "text": [
            "MoviePy - Done.\n",
            "loading model... done\n",
            "loading wave source... done\n",
            "stft of wave source... done\n",
            "100% 2/2 [00:33<00:00, 16.70s/it]\n",
            "validating output directory... done\n",
            "inverse stft of instruments... done\n",
            "inverse stft of vocals... done\n",
            "\n",
            "✨✨✨✨✨✨✨✨✨\n",
            "✨ Basic Pitch  ✨\n",
            "✨✨✨✨✨✨✨✨✨\n",
            "\n",
            "Importing Tensorflow (this may take a few seconds)...\n",
            "\n",
            "Predicting MIDI for /content/vocal-remover/video_ad67_Instruments.wav...\n",
            "\n",
            "\n",
            "  Creating midi...\n",
            "  💅 Saved to /content/video_to_midi/video_ad67_Instruments_basic_pitch.mid\n",
            "\n",
            "✨ Done ✨\n",
            "\n",
            "MoviePy - Writing audio in video_ad68.mp3\n"
          ]
        },
        {
          "name": "stderr",
          "output_type": "stream",
          "text": []
        },
        {
          "name": "stdout",
          "output_type": "stream",
          "text": [
            "MoviePy - Done.\n",
            "loading model... done\n",
            "loading wave source... done\n",
            "stft of wave source... done\n",
            "100% 3/3 [00:53<00:00, 17.93s/it]\n",
            "validating output directory... done\n",
            "inverse stft of instruments... done\n",
            "inverse stft of vocals... done\n",
            "\n",
            "✨✨✨✨✨✨✨✨✨\n",
            "✨ Basic Pitch  ✨\n",
            "✨✨✨✨✨✨✨✨✨\n",
            "\n",
            "Importing Tensorflow (this may take a few seconds)...\n",
            "\n",
            "Predicting MIDI for /content/vocal-remover/video_ad68_Instruments.wav...\n",
            "\n",
            "\n",
            "  Creating midi...\n",
            "  💅 Saved to /content/video_to_midi/video_ad68_Instruments_basic_pitch.mid\n",
            "\n",
            "✨ Done ✨\n",
            "\n",
            "MoviePy - Writing audio in video_ad69.mp3\n"
          ]
        },
        {
          "name": "stderr",
          "output_type": "stream",
          "text": []
        },
        {
          "name": "stdout",
          "output_type": "stream",
          "text": [
            "MoviePy - Done.\n",
            "loading model... done\n",
            "loading wave source... done\n",
            "stft of wave source... done\n",
            "100% 3/3 [00:54<00:00, 18.07s/it]\n",
            "validating output directory... done\n",
            "inverse stft of instruments... done\n",
            "inverse stft of vocals... done\n",
            "\n",
            "✨✨✨✨✨✨✨✨✨\n",
            "✨ Basic Pitch  ✨\n",
            "✨✨✨✨✨✨✨✨✨\n",
            "\n",
            "Importing Tensorflow (this may take a few seconds)...\n",
            "\n",
            "Predicting MIDI for /content/vocal-remover/video_ad69_Instruments.wav...\n",
            "\n",
            "\n",
            "  Creating midi...\n",
            "  💅 Saved to /content/video_to_midi/video_ad69_Instruments_basic_pitch.mid\n",
            "\n",
            "✨ Done ✨\n",
            "\n",
            "MoviePy - Writing audio in video_ad70.mp3\n"
          ]
        },
        {
          "name": "stderr",
          "output_type": "stream",
          "text": []
        },
        {
          "name": "stdout",
          "output_type": "stream",
          "text": [
            "MoviePy - Done.\n",
            "loading model... done\n",
            "loading wave source... done\n",
            "stft of wave source... done\n",
            "100% 1/1 [00:17<00:00, 17.84s/it]\n",
            "validating output directory... done\n",
            "inverse stft of instruments... done\n",
            "inverse stft of vocals... done\n",
            "\n",
            "✨✨✨✨✨✨✨✨✨\n",
            "✨ Basic Pitch  ✨\n",
            "✨✨✨✨✨✨✨✨✨\n",
            "\n",
            "Importing Tensorflow (this may take a few seconds)...\n",
            "\n",
            "Predicting MIDI for /content/vocal-remover/video_ad70_Instruments.wav...\n",
            "\n",
            "\n",
            "  Creating midi...\n",
            "  💅 Saved to /content/video_to_midi/video_ad70_Instruments_basic_pitch.mid\n",
            "\n",
            "✨ Done ✨\n",
            "\n",
            "MoviePy - Writing audio in video_ad71.mp3\n"
          ]
        },
        {
          "name": "stderr",
          "output_type": "stream",
          "text": []
        },
        {
          "name": "stdout",
          "output_type": "stream",
          "text": [
            "MoviePy - Done.\n",
            "loading model... done\n",
            "loading wave source... done\n",
            "stft of wave source... done\n",
            "100% 2/2 [00:31<00:00, 15.52s/it]\n",
            "validating output directory... done\n",
            "inverse stft of instruments... done\n",
            "inverse stft of vocals... done\n",
            "\n",
            "✨✨✨✨✨✨✨✨✨\n",
            "✨ Basic Pitch  ✨\n",
            "✨✨✨✨✨✨✨✨✨\n",
            "\n",
            "Importing Tensorflow (this may take a few seconds)...\n",
            "\n",
            "Predicting MIDI for /content/vocal-remover/video_ad71_Instruments.wav...\n",
            "\n",
            "\n",
            "  Creating midi...\n",
            "  💅 Saved to /content/video_to_midi/video_ad71_Instruments_basic_pitch.mid\n",
            "\n",
            "✨ Done ✨\n",
            "\n",
            "MoviePy - Writing audio in video_ad72.mp3\n"
          ]
        },
        {
          "name": "stderr",
          "output_type": "stream",
          "text": []
        },
        {
          "name": "stdout",
          "output_type": "stream",
          "text": [
            "MoviePy - Done.\n",
            "loading model... done\n",
            "loading wave source... done\n",
            "stft of wave source... done\n",
            "100% 3/3 [00:45<00:00, 15.23s/it]\n",
            "validating output directory... done\n",
            "inverse stft of instruments... done\n",
            "inverse stft of vocals... done\n",
            "\n",
            "✨✨✨✨✨✨✨✨✨\n",
            "✨ Basic Pitch  ✨\n",
            "✨✨✨✨✨✨✨✨✨\n",
            "\n",
            "Importing Tensorflow (this may take a few seconds)...\n",
            "\n",
            "Predicting MIDI for /content/vocal-remover/video_ad72_Instruments.wav...\n",
            "\n",
            "\n",
            "  Creating midi...\n",
            "  💅 Saved to /content/video_to_midi/video_ad72_Instruments_basic_pitch.mid\n",
            "\n",
            "✨ Done ✨\n",
            "\n",
            "MoviePy - Writing audio in video_ad73.mp3\n"
          ]
        },
        {
          "name": "stderr",
          "output_type": "stream",
          "text": []
        },
        {
          "name": "stdout",
          "output_type": "stream",
          "text": [
            "MoviePy - Done.\n",
            "loading model... done\n",
            "loading wave source... done\n",
            "stft of wave source... done\n",
            "100% 3/3 [00:50<00:00, 16.70s/it]\n",
            "validating output directory... done\n",
            "inverse stft of instruments... done\n",
            "inverse stft of vocals... done\n",
            "\n",
            "✨✨✨✨✨✨✨✨✨\n",
            "✨ Basic Pitch  ✨\n",
            "✨✨✨✨✨✨✨✨✨\n",
            "\n",
            "Importing Tensorflow (this may take a few seconds)...\n",
            "\n",
            "Predicting MIDI for /content/vocal-remover/video_ad73_Instruments.wav...\n",
            "\n",
            "\n",
            "  Creating midi...\n",
            "  💅 Saved to /content/video_to_midi/video_ad73_Instruments_basic_pitch.mid\n",
            "\n",
            "✨ Done ✨\n",
            "\n",
            "MoviePy - Writing audio in video_ad74.mp3\n"
          ]
        },
        {
          "name": "stderr",
          "output_type": "stream",
          "text": []
        },
        {
          "name": "stdout",
          "output_type": "stream",
          "text": [
            "MoviePy - Done.\n",
            "loading model... done\n",
            "loading wave source... done\n",
            "stft of wave source... done\n",
            "100% 2/2 [00:33<00:00, 16.60s/it]\n",
            "validating output directory... done\n",
            "inverse stft of instruments... done\n",
            "inverse stft of vocals... done\n",
            "\n",
            "✨✨✨✨✨✨✨✨✨\n",
            "✨ Basic Pitch  ✨\n",
            "✨✨✨✨✨✨✨✨✨\n",
            "\n",
            "Importing Tensorflow (this may take a few seconds)...\n",
            "\n",
            "Predicting MIDI for /content/vocal-remover/video_ad74_Instruments.wav...\n",
            "\n",
            "\n",
            "  Creating midi...\n",
            "  💅 Saved to /content/video_to_midi/video_ad74_Instruments_basic_pitch.mid\n",
            "\n",
            "✨ Done ✨\n",
            "\n",
            "MoviePy - Writing audio in video_ad75.mp3\n"
          ]
        },
        {
          "name": "stderr",
          "output_type": "stream",
          "text": []
        },
        {
          "name": "stdout",
          "output_type": "stream",
          "text": [
            "MoviePy - Done.\n",
            "loading model... done\n",
            "loading wave source... done\n",
            "stft of wave source... done\n",
            "100% 2/2 [00:28<00:00, 14.24s/it]\n",
            "validating output directory... done\n",
            "inverse stft of instruments... done\n",
            "inverse stft of vocals... done\n",
            "\n",
            "✨✨✨✨✨✨✨✨✨\n",
            "✨ Basic Pitch  ✨\n",
            "✨✨✨✨✨✨✨✨✨\n",
            "\n",
            "Importing Tensorflow (this may take a few seconds)...\n",
            "\n",
            "Predicting MIDI for /content/vocal-remover/video_ad75_Instruments.wav...\n",
            "\n",
            "\n",
            "  Creating midi...\n",
            "  💅 Saved to /content/video_to_midi/video_ad75_Instruments_basic_pitch.mid\n",
            "\n",
            "✨ Done ✨\n",
            "\n",
            "MoviePy - Writing audio in video_ad76.mp3\n"
          ]
        },
        {
          "name": "stderr",
          "output_type": "stream",
          "text": []
        },
        {
          "name": "stdout",
          "output_type": "stream",
          "text": [
            "MoviePy - Done.\n",
            "loading model... done\n",
            "loading wave source... done\n",
            "stft of wave source... done\n",
            "100% 2/2 [00:27<00:00, 13.98s/it]\n",
            "validating output directory... done\n",
            "inverse stft of instruments... done\n",
            "inverse stft of vocals... done\n",
            "\n",
            "✨✨✨✨✨✨✨✨✨\n",
            "✨ Basic Pitch  ✨\n",
            "✨✨✨✨✨✨✨✨✨\n",
            "\n",
            "Importing Tensorflow (this may take a few seconds)...\n",
            "\n",
            "Predicting MIDI for /content/vocal-remover/video_ad76_Instruments.wav...\n",
            "\n",
            "\n",
            "  Creating midi...\n",
            "  💅 Saved to /content/video_to_midi/video_ad76_Instruments_basic_pitch.mid\n",
            "\n",
            "✨ Done ✨\n",
            "\n",
            "MoviePy - Writing audio in video_ad77.mp3\n"
          ]
        },
        {
          "name": "stderr",
          "output_type": "stream",
          "text": []
        },
        {
          "name": "stdout",
          "output_type": "stream",
          "text": [
            "MoviePy - Done.\n",
            "loading model... done\n",
            "loading wave source... done\n",
            "stft of wave source... done\n",
            "100% 6/6 [01:39<00:00, 16.54s/it]\n",
            "validating output directory... done\n",
            "inverse stft of instruments... done\n",
            "inverse stft of vocals... done\n",
            "\n",
            "✨✨✨✨✨✨✨✨✨\n",
            "✨ Basic Pitch  ✨\n",
            "✨✨✨✨✨✨✨✨✨\n",
            "\n",
            "Importing Tensorflow (this may take a few seconds)...\n",
            "\n",
            "Predicting MIDI for /content/vocal-remover/video_ad77_Instruments.wav...\n",
            "\n",
            "\n",
            "  Creating midi...\n",
            "  💅 Saved to /content/video_to_midi/video_ad77_Instruments_basic_pitch.mid\n",
            "\n",
            "✨ Done ✨\n",
            "\n",
            "MoviePy - Writing audio in video_ad78.mp3\n"
          ]
        },
        {
          "name": "stderr",
          "output_type": "stream",
          "text": []
        },
        {
          "name": "stdout",
          "output_type": "stream",
          "text": [
            "MoviePy - Done.\n",
            "loading model... done\n",
            "loading wave source... done\n",
            "stft of wave source... done\n",
            "100% 3/3 [00:51<00:00, 17.32s/it]\n",
            "validating output directory... done\n",
            "inverse stft of instruments... done\n",
            "inverse stft of vocals... done\n",
            "\n",
            "✨✨✨✨✨✨✨✨✨\n",
            "✨ Basic Pitch  ✨\n",
            "✨✨✨✨✨✨✨✨✨\n",
            "\n",
            "Importing Tensorflow (this may take a few seconds)...\n",
            "\n",
            "Predicting MIDI for /content/vocal-remover/video_ad78_Instruments.wav...\n",
            "\n",
            "\n",
            "  Creating midi...\n",
            "  💅 Saved to /content/video_to_midi/video_ad78_Instruments_basic_pitch.mid\n",
            "\n",
            "✨ Done ✨\n",
            "\n",
            "MoviePy - Writing audio in video_ad79.mp3\n"
          ]
        },
        {
          "name": "stderr",
          "output_type": "stream",
          "text": []
        },
        {
          "name": "stdout",
          "output_type": "stream",
          "text": [
            "MoviePy - Done.\n",
            "loading model... done\n",
            "loading wave source... done\n",
            "stft of wave source... done\n",
            "100% 2/2 [00:28<00:00, 14.19s/it]\n",
            "validating output directory... done\n",
            "inverse stft of instruments... done\n",
            "inverse stft of vocals... done\n",
            "\n",
            "✨✨✨✨✨✨✨✨✨\n",
            "✨ Basic Pitch  ✨\n",
            "✨✨✨✨✨✨✨✨✨\n",
            "\n",
            "Importing Tensorflow (this may take a few seconds)...\n",
            "\n",
            "Predicting MIDI for /content/vocal-remover/video_ad79_Instruments.wav...\n",
            "\n",
            "\n",
            "  Creating midi...\n",
            "  💅 Saved to /content/video_to_midi/video_ad79_Instruments_basic_pitch.mid\n",
            "\n",
            "✨ Done ✨\n",
            "\n",
            "MoviePy - Writing audio in video_ad80.mp3\n"
          ]
        },
        {
          "name": "stderr",
          "output_type": "stream",
          "text": []
        },
        {
          "name": "stdout",
          "output_type": "stream",
          "text": [
            "MoviePy - Done.\n",
            "loading model... done\n",
            "loading wave source... done\n",
            "stft of wave source... done\n",
            "100% 1/1 [00:18<00:00, 18.61s/it]\n",
            "validating output directory... done\n",
            "inverse stft of instruments... done\n",
            "inverse stft of vocals... done\n",
            "\n",
            "✨✨✨✨✨✨✨✨✨\n",
            "✨ Basic Pitch  ✨\n",
            "✨✨✨✨✨✨✨✨✨\n",
            "\n",
            "Importing Tensorflow (this may take a few seconds)...\n",
            "\n",
            "Predicting MIDI for /content/vocal-remover/video_ad80_Instruments.wav...\n",
            "\n",
            "\n",
            "  Creating midi...\n",
            "  💅 Saved to /content/video_to_midi/video_ad80_Instruments_basic_pitch.mid\n",
            "\n",
            "✨ Done ✨\n",
            "\n",
            "MoviePy - Writing audio in video_ad81.mp3\n"
          ]
        },
        {
          "name": "stderr",
          "output_type": "stream",
          "text": []
        },
        {
          "name": "stdout",
          "output_type": "stream",
          "text": [
            "MoviePy - Done.\n",
            "loading model... done\n",
            "loading wave source... done\n",
            "stft of wave source... done\n",
            "100% 2/2 [00:23<00:00, 11.97s/it]\n",
            "validating output directory... done\n",
            "inverse stft of instruments... done\n",
            "inverse stft of vocals... done\n",
            "\n",
            "✨✨✨✨✨✨✨✨✨\n",
            "✨ Basic Pitch  ✨\n",
            "✨✨✨✨✨✨✨✨✨\n",
            "\n",
            "Importing Tensorflow (this may take a few seconds)...\n",
            "\n",
            "Predicting MIDI for /content/vocal-remover/video_ad81_Instruments.wav...\n",
            "\n",
            "\n",
            "  Creating midi...\n",
            "  💅 Saved to /content/video_to_midi/video_ad81_Instruments_basic_pitch.mid\n",
            "\n",
            "✨ Done ✨\n",
            "\n",
            "MoviePy - Writing audio in video_ad82.mp3\n"
          ]
        },
        {
          "name": "stderr",
          "output_type": "stream",
          "text": []
        },
        {
          "name": "stdout",
          "output_type": "stream",
          "text": [
            "MoviePy - Done.\n",
            "loading model... done\n",
            "loading wave source... done\n",
            "stft of wave source... done\n",
            "100% 2/2 [00:28<00:00, 14.36s/it]\n",
            "validating output directory... done\n",
            "inverse stft of instruments... done\n",
            "inverse stft of vocals... done\n",
            "\n",
            "✨✨✨✨✨✨✨✨✨\n",
            "✨ Basic Pitch  ✨\n",
            "✨✨✨✨✨✨✨✨✨\n",
            "\n",
            "Importing Tensorflow (this may take a few seconds)...\n",
            "\n",
            "Predicting MIDI for /content/vocal-remover/video_ad82_Instruments.wav...\n",
            "\n",
            "\n",
            "  Creating midi...\n",
            "  💅 Saved to /content/video_to_midi/video_ad82_Instruments_basic_pitch.mid\n",
            "\n",
            "✨ Done ✨\n",
            "\n",
            "MoviePy - Writing audio in video_ad83.mp3\n"
          ]
        },
        {
          "name": "stderr",
          "output_type": "stream",
          "text": []
        },
        {
          "name": "stdout",
          "output_type": "stream",
          "text": [
            "MoviePy - Done.\n",
            "loading model... done\n",
            "loading wave source... done\n",
            "stft of wave source... done\n",
            "100% 3/3 [00:42<00:00, 14.20s/it]\n",
            "validating output directory... done\n",
            "inverse stft of instruments... done\n",
            "inverse stft of vocals... done\n",
            "\n",
            "✨✨✨✨✨✨✨✨✨\n",
            "✨ Basic Pitch  ✨\n",
            "✨✨✨✨✨✨✨✨✨\n",
            "\n",
            "Importing Tensorflow (this may take a few seconds)...\n",
            "\n",
            "Predicting MIDI for /content/vocal-remover/video_ad83_Instruments.wav...\n",
            "\n",
            "\n",
            "  Creating midi...\n",
            "  💅 Saved to /content/video_to_midi/video_ad83_Instruments_basic_pitch.mid\n",
            "\n",
            "✨ Done ✨\n",
            "\n"
          ]
        }
      ],
      "source": [
        "for num in range(1, 85):\n",
        "  try:\n",
        "    video_to_mid('/content/video_data/', 'video_ad'+str(num)+'.mp4')\n",
        "  except:\n",
        "    pass"
      ]
    },
    {
      "cell_type": "code",
      "execution_count": null,
      "metadata": {
        "id": "WvyWrxtheUjz"
      },
      "outputs": [],
      "source": [
        "! zip -r mid_wav_data.zip /content/video_to_midi /content/video_to_wav\n",
        "! mv mid_wav_data.zip /content/drive/MyDrive"
      ]
    },
    {
      "cell_type": "markdown",
      "metadata": {
        "id": "jf4iXxT3IJOK"
      },
      "source": [
        "#### From raw videos extracting timings when key events occurred (list of timings for each video):"
      ]
    },
    {
      "cell_type": "markdown",
      "metadata": {
        "id": "oOBCav95yasT"
      },
      "source": [
        "*Method №1: CNN for action recognition*"
      ]
    },
    {
      "cell_type": "code",
      "execution_count": null,
      "metadata": {
        "colab": {
          "base_uri": "https://localhost:8080/"
        },
        "id": "7bE1Jwrjl1X5",
        "outputId": "f9d10c76-5334-47b9-b152-0836886995d9"
      },
      "outputs": [
        {
          "name": "stdout",
          "output_type": "stream",
          "text": [
            "Cloning into 'computervision-recipes'...\n",
            "remote: Enumerating objects: 6255, done.\u001b[K\n",
            "remote: Counting objects: 100% (486/486), done.\u001b[K\n",
            "remote: Compressing objects: 100% (175/175), done.\u001b[K\n",
            "remote: Total 6255 (delta 359), reused 406 (delta 307), pack-reused 5769\u001b[K\n",
            "Receiving objects: 100% (6255/6255), 260.94 MiB | 16.48 MiB/s, done.\n",
            "Resolving deltas: 100% (3896/3896), done.\n",
            "Looking in indexes: https://pypi.org/simple, https://us-python.pkg.dev/colab-wheels/public/simple/\n",
            "Collecting decord\n",
            "  Downloading decord-0.6.0-py3-none-manylinux2010_x86_64.whl (13.6 MB)\n",
            "\u001b[2K     \u001b[90m━━━━━━━━━━━━━━━━━━━━━━━━━━━━━━━━━━━━━━━\u001b[0m \u001b[32m13.6/13.6 MB\u001b[0m \u001b[31m103.2 MB/s\u001b[0m eta \u001b[36m0:00:00\u001b[0m\n",
            "\u001b[?25hCollecting einops\n",
            "  Downloading einops-0.6.1-py3-none-any.whl (42 kB)\n",
            "\u001b[2K     \u001b[90m━━━━━━━━━━━━━━━━━━━━━━━━━━━━━━━━━━━━━━━━\u001b[0m \u001b[32m42.2/42.2 kB\u001b[0m \u001b[31m5.9 MB/s\u001b[0m eta \u001b[36m0:00:00\u001b[0m\n",
            "\u001b[?25hRequirement already satisfied: numpy>=1.14.0 in /usr/local/lib/python3.10/dist-packages (from decord) (1.22.4)\n",
            "Installing collected packages: einops, decord\n",
            "Successfully installed decord-0.6.0 einops-0.6.1\n"
          ]
        }
      ],
      "source": [
        "!git clone https://github.com/microsoft/computervision-recipes.git\n",
        "!pip install decord einops\n",
        "import torch\n",
        "# Regular Python libraries\n",
        "import sys\n",
        "from collections import deque #\n",
        "import io\n",
        "import requests\n",
        "import os\n",
        "from time import sleep, time\n",
        "from threading import Thread\n",
        "from IPython.display import Video\n",
        "\n",
        "# Third party tools\n",
        "import decord #\n",
        "import IPython.display #\n",
        "# from ipywebrtc import CameraStream, ImageRecorder\n",
        "from ipywidgets import HBox, HTML, Layout, VBox, Widget, Label\n",
        "import numpy as np\n",
        "from PIL import Image\n",
        "import torch\n",
        "import torch.cuda as cuda\n",
        "import torch.nn as nn\n",
        "from torchvision.transforms import Compose\n",
        "\n",
        "# utils_cv\n",
        "sys.path.append(\"/content/computervision-recipes\")\n",
        "from utils_cv.action_recognition.data import KINETICS, Urls\n",
        "from utils_cv.action_recognition.dataset import get_transforms\n",
        "from utils_cv.action_recognition.model import VideoLearner\n",
        "from utils_cv.action_recognition.references import transforms_video as transforms\n",
        "from utils_cv.common.gpu import system_info, torch_device\n",
        "from utils_cv.common.data import data_path"
      ]
    },
    {
      "cell_type": "code",
      "execution_count": null,
      "metadata": {
        "id": "k6QchrMRmZt6"
      },
      "outputs": [],
      "source": [
        "%reload_ext autoreload\n",
        "%autoreload 2"
      ]
    },
    {
      "cell_type": "code",
      "execution_count": null,
      "metadata": {
        "id": "wxOW__X0nNKR"
      },
      "outputs": [],
      "source": [
        "# Дополнения в коде /content/computervision-recipes/utils_cv/action_recognition/model.py в predict_frames\n",
        "# top5 = None\n",
        "# ...\n",
        "# return top5[0][0] if top5 and len(top5) else ''\n",
        "# or return (top5[0][0], set([el[0] for el in top5])) if top5 and len(top5) else ('', set())\n"
      ]
    },
    {
      "cell_type": "code",
      "execution_count": null,
      "metadata": {
        "colab": {
          "base_uri": "https://localhost:8080/"
        },
        "id": "kHbxfUWmmuNn",
        "outputId": "8949c259-5a6c-4a7b-ece5-12c413381b6b"
      },
      "outputs": [
        {
          "name": "stdout",
          "output_type": "stream",
          "text": [
            "Loading r2plus1d_34_8_kinetics model\n"
          ]
        },
        {
          "name": "stderr",
          "output_type": "stream",
          "text": [
            "Using cache found in /root/.cache/torch/hub/moabitcoin_ig65m-pytorch_master\n"
          ]
        }
      ],
      "source": [
        "from collections import defaultdict\n",
        "import cv2\n",
        "\n",
        "LABELS = KINETICS.class_names\n",
        "NUM_FRAMES = 8  # 8 or 32.\n",
        "IM_SCALE = 128  # resize then crop\n",
        "INPUT_SIZE = 112  # input clip size: 3 x NUM_FRAMES x 112 x 112\n",
        "SCORE_THRESHOLD = 0.16\n",
        "AVERAGING_SIZE = 5\n",
        "\n",
        "learner = VideoLearner(\n",
        "    base_model=\"kinetics\",\n",
        "    sample_length=NUM_FRAMES,\n",
        ")\n",
        "\n",
        "transforms = get_transforms(train=False)\n",
        "# d_caption = IPython.display.display(\"Preparing...\", display_id=2)\n",
        "l = len(LABELS)\n",
        "# def update_println(println):\n",
        "#   d_caption.update(IPython.display.HTML(println))\n",
        "\n",
        "key_video_moments = defaultdict(list)\n",
        "\n",
        "def VideoToMoments(video, SCORE_THRESHOLD=0.16):\n",
        "  cap = cv2.VideoCapture(video)\n",
        "  FPS = int(cap.get(cv2.CAP_PROP_FPS))\n",
        "  print('Video: ', video, 'with fps:', FPS)\n",
        "  video_reader = decord.VideoReader(video)\n",
        "  window = deque()\n",
        "  scores_cache = deque()\n",
        "  scores_sum = np.zeros(len(LABELS))\n",
        "  w_text = HTML(layout=Layout(padding=\"0 0 0 100px\"))\n",
        "\n",
        "  cur_frame = 0\n",
        "  prev_frame = 0\n",
        "  prev_sets = []\n",
        "  num = 1\n",
        "  prev_name = ''\n",
        "  prev_set = set()\n",
        "  video_name = video.split('/')[-1]\n",
        "  while True:\n",
        "    try:\n",
        "      frame = video_reader.next().asnumpy()\n",
        "      window.append(frame)\n",
        "      def update_println(println):\n",
        "          w_text.value = println\n",
        "\n",
        "      if len(window) == NUM_FRAMES:\n",
        "          a, set_a = learner.predict_frames(\n",
        "              window,\n",
        "              scores_cache,\n",
        "              scores_sum,\n",
        "              None,\n",
        "              30,\n",
        "              SCORE_THRESHOLD,\n",
        "              LABELS,\n",
        "              LABELS,\n",
        "              get_transforms(train=False),\n",
        "              update_println,\n",
        "          )\n",
        "          # print(a, set_a)\n",
        "          cur_frame_sec = cur_frame//FPS + (cur_frame%FPS)/100\n",
        "          if len(prev_sets) > FPS:\n",
        "            prev_cumm_set = set().union(*prev_sets[-FPS:])\n",
        "          else:\n",
        "            prev_cumm_set = set().union(*prev_sets)\n",
        "          if cur_frame == 0 or (a and a not in prev_cumm_set and cur_frame_sec - prev_frame > 0.5):\n",
        "            key_video_moments[video_name].append(float(\"{:.2f}\".format(cur_frame_sec)))\n",
        "            print(num, ': Секунда: ', \"{:.2f}\".format(cur_frame_sec), ', началось действие: ', a)\n",
        "            num += 1\n",
        "            prev_frame = cur_frame_sec\n",
        "            prev_name = a\n",
        "            prev_set = set_a\n",
        "            prev_sets.append(prev_set)\n",
        "      else:\n",
        "          w_text.value = \"Preparing...\"\n",
        "      cur_frame += 1\n",
        "    except:\n",
        "      break\n"
      ]
    },
    {
      "cell_type": "code",
      "execution_count": null,
      "metadata": {
        "colab": {
          "base_uri": "https://localhost:8080/",
          "height": 198
        },
        "id": "kP1OYuqwr8Ro",
        "outputId": "76731e64-c6ca-466c-d465-61540426dbfd"
      },
      "outputs": [
        {
          "name": "stdout",
          "output_type": "stream",
          "text": [
            "Video:  /content/video_data/video_ad6.mp4 with fps: 25\n",
            "1 : Секунда:  2.13 , началось действие:  blowing glass\n",
            "2 : Секунда:  3.20 , началось действие:  belly dancing\n",
            "3 : Секунда:  4.08 , началось действие:  contact juggling\n",
            "4 : Секунда:  6.15 , началось действие:  bobsledding\n",
            "5 : Секунда:  7.09 , началось действие:  yoga\n",
            "6 : Секунда:  8.19 , началось действие:  robot dancing\n",
            "7 : Секунда:  11.13 , началось действие:  brush painting\n",
            "defaultdict(<class 'list'>, {'video_ad27.mp4': [1.13, 2.0, 3.2, 4.12], 'video_ad6.mp4': [2.15, 3.2, 4.08, 6.21, 7.09, 8.21, 2.13, 3.2, 4.08, 6.15, 7.09, 8.19, 11.13]})\n"
          ]
        }
      ],
      "source": [
        "video = '/content/video_data/video_ad6.mp4'\n",
        "VideoToMoments(video, 0.08)\n",
        "print(key_video_moments)"
      ]
    },
    {
      "cell_type": "code",
      "execution_count": null,
      "metadata": {
        "colab": {
          "base_uri": "https://localhost:8080/"
        },
        "id": "_DgJ_vLUyxfi",
        "outputId": "9c2769dd-1760-46a5-d677-9b6c38bfedc6"
      },
      "outputs": [
        {
          "name": "stdout",
          "output_type": "stream",
          "text": [
            "The total number of frames in this video is  30\n"
          ]
        }
      ],
      "source": [
        "# import cv2\n",
        "# cap = cv2.VideoCapture('/content/video_data/video_ad28.mp4')\n",
        "# FPS = int(cap.get(cv2.CAP_PROP_FPS))\n",
        "# print(\"The total number of frames in this video is \", framespersecond)"
      ]
    },
    {
      "cell_type": "code",
      "execution_count": null,
      "metadata": {
        "colab": {
          "base_uri": "https://localhost:8080/",
          "height": 1000
        },
        "id": "FcpYtgKEhLxd",
        "outputId": "9c56661e-9d7b-4107-8dfe-a5718e66d7c2"
      },
      "outputs": [
        {
          "name": "stdout",
          "output_type": "stream",
          "text": [
            "Number  0 :\n",
            "Video:  /content/video_data/video_ad24.mp4 with fps: 24\n",
            "1 : Секунда:  1.12 , началось действие:  riding mountain bike\n",
            "2 : Секунда:  7.01 , началось действие:  biking through snow\n",
            "3 : Секунда:  10.18 , началось действие:  abseiling\n",
            "4 : Секунда:  11.11 , началось действие:  cleaning windows\n",
            "5 : Секунда:  13.04 , началось действие:  riding unicycle\n",
            "6 : Секунда:  15.11 , началось действие:  pushing wheelchair\n",
            "7 : Секунда:  24.09 , началось действие:  tai chi\n",
            "8 : Секунда:  25.00 , началось действие:  playing violin\n",
            "9 : Секунда:  32.03 , началось действие:  motorcycling\n",
            "10 : Секунда:  43.13 , началось действие:  texting\n",
            "Number  1 :\n",
            "Video:  /content/video_data/video_ad23.mp4 with fps: 23\n",
            "1 : Секунда:  1.13 , началось действие:  driving car\n",
            "2 : Секунда:  8.09 , началось действие:  paragliding\n",
            "3 : Секунда:  9.03 , началось действие:  riding mountain bike\n",
            "Video:  /content/video_data/video_ad23.mp4 with fps: 23\n",
            "1 : Секунда:  1.13 , началось действие:  driving car\n",
            "2 : Секунда:  8.09 , началось действие:  paragliding\n",
            "3 : Секунда:  9.03 , началось действие:  riding mountain bike\n",
            "Number  2 :\n",
            "Video:  /content/video_data/video_ad44.mp4 with fps: 25\n",
            "1 : Секунда:  1.11 , началось действие:  feeding fish\n",
            "2 : Секунда:  5.18 , началось действие:  opening bottle\n",
            "3 : Секунда:  6.08 , началось действие:  doing nails\n",
            "4 : Секунда:  8.01 , началось действие:  cleaning gutters\n",
            "5 : Секунда:  13.03 , началось действие:  cooking egg\n",
            "6 : Секунда:  14.00 , началось действие:  spray painting\n",
            "Video:  /content/video_data/video_ad44.mp4 with fps: 25\n",
            "1 : Секунда:  1.11 , началось действие:  feeding fish\n",
            "2 : Секунда:  5.18 , началось действие:  opening bottle\n",
            "3 : Секунда:  6.08 , началось действие:  doing nails\n",
            "4 : Секунда:  8.01 , началось действие:  cleaning gutters\n",
            "5 : Секунда:  10.06 , началось действие:  snowboarding\n",
            "6 : Секунда:  11.04 , началось действие:  diving cliff\n",
            "7 : Секунда:  13.17 , началось действие:  spray painting\n",
            "Number  3 :\n",
            "Video:  /content/video_data/video_ad33.mp4 with fps: 23\n",
            "1 : Секунда:  1.13 , началось действие:  filling eyebrows\n",
            "2 : Секунда:  2.04 , началось действие:  picking fruit\n",
            "3 : Секунда:  5.16 , началось действие:  feeding goats\n",
            "4 : Секунда:  7.09 , началось действие:  arranging flowers\n",
            "5 : Секунда:  9.15 , началось действие:  cleaning windows\n",
            "6 : Секунда:  10.17 , началось действие:  training dog\n",
            "7 : Секунда:  17.09 , началось действие:  cleaning floor\n",
            "8 : Секунда:  18.00 , началось действие:  cleaning shoes\n",
            "9 : Секунда:  19.16 , началось действие:  ironing\n",
            "10 : Секунда:  20.05 , началось действие:  folding clothes\n",
            "11 : Секунда:  21.12 , началось действие:  wrapping present\n",
            "12 : Секунда:  22.09 , началось действие:  reading book\n",
            "13 : Секунда:  28.12 , началось действие:  clapping\n",
            "Number  4 :\n",
            "Video:  /content/video_data/video_ad17.mp4 with fps: 23\n",
            "1 : Секунда:  1.13 , началось действие:  extinguishing fire\n",
            "2 : Секунда:  2.00 , началось действие:  driving car\n",
            "3 : Секунда:  3.00 , началось действие:  busking\n",
            "4 : Секунда:  4.14 , началось действие:  giving or receiving award\n",
            "5 : Секунда:  6.12 , началось действие:  filling eyebrows\n",
            "6 : Секунда:  9.00 , началось действие:  belly dancing\n",
            "7 : Секунда:  12.16 , началось действие:  contact juggling\n",
            "8 : Секунда:  18.03 , началось действие:  jogging\n",
            "9 : Секунда:  19.01 , началось действие:  skateboarding\n",
            "10 : Секунда:  21.08 , началось действие:  dancing macarena\n",
            "11 : Секунда:  23.09 , началось действие:  headbanging\n",
            "12 : Секунда:  24.01 , началось действие:  surfing crowd\n",
            "13 : Секунда:  25.19 , началось действие:  skydiving\n",
            "14 : Секунда:  28.16 , началось действие:  punching bag\n",
            "15 : Секунда:  32.07 , началось действие:  trapezing\n",
            "16 : Секунда:  37.12 , началось действие:  hula hooping\n",
            "17 : Секунда:  39.07 , началось действие:  dining\n",
            "18 : Секунда:  42.10 , началось действие:  bungee jumping\n",
            "19 : Секунда:  44.12 , началось действие:  air drumming\n",
            "20 : Секунда:  46.20 , началось действие:  using remote controller (not gaming)\n",
            "21 : Секунда:  47.20 , началось действие:  smoking\n",
            "22 : Секунда:  50.17 , началось действие:  yoga\n",
            "23 : Секунда:  57.21 , началось действие:  robot dancing\n",
            "24 : Секунда:  58.10 , началось действие:  welding\n",
            "25 : Секунда:  67.02 , началось действие:  playing controller\n",
            "Video:  /content/video_data/video_ad17.mp4 with fps: 23\n",
            "1 : Секунда:  1.21 , началось действие:  driving car\n",
            "2 : Секунда:  6.17 , началось действие:  filling eyebrows\n",
            "3 : Секунда:  24.05 , началось действие:  surfing crowd\n",
            "4 : Секунда:  29.17 , началось действие:  skateboarding\n",
            "5 : Секунда:  32.15 , началось действие:  trapezing\n",
            "6 : Секунда:  35.08 , началось действие:  skydiving\n",
            "7 : Секунда:  39.16 , началось действие:  dining\n",
            "8 : Секунда:  51.03 , началось действие:  belly dancing\n",
            "9 : Секунда:  55.12 , началось действие:  smoking\n",
            "10 : Секунда:  58.13 , началось действие:  welding\n",
            "Number  5 :\n",
            "Video:  /content/video_data/video_ad46.mp4 with fps: 23\n",
            "1 : Секунда:  2.09 , началось действие:  shaking hands\n",
            "2 : Секунда:  6.00 , началось действие:  dancing ballet\n",
            "3 : Секунда:  8.03 , началось действие:  dancing charleston\n",
            "4 : Секунда:  11.03 , началось действие:  playing squash or racquetball\n",
            "5 : Секунда:  12.04 , началось действие:  kissing\n",
            "6 : Секунда:  19.01 , началось действие:  pushing cart\n",
            "7 : Секунда:  20.16 , началось действие:  moving furniture\n",
            "8 : Секунда:  27.06 , началось действие:  news anchoring\n",
            "9 : Секунда:  30.17 , началось действие:  cleaning floor\n",
            "Number  6 :\n",
            "Video:  /content/video_data/video_ad37.mp4 with fps: 29\n",
            "1 : Секунда:  1.12 , началось действие:  riding camel\n",
            "2 : Секунда:  2.02 , началось действие:  yoga\n",
            "3 : Секунда:  3.07 , началось действие:  garbage collecting\n",
            "4 : Секунда:  4.07 , началось действие:  unloading truck\n",
            "5 : Секунда:  5.17 , началось действие:  jumping into pool\n",
            "6 : Секунда:  6.20 , началось действие:  surfing water\n",
            "7 : Секунда:  7.15 , началось действие:  snorkeling\n",
            "8 : Секунда:  10.09 , началось действие:  riding unicycle\n",
            "9 : Секунда:  11.00 , началось действие:  hopscotch\n",
            "10 : Секунда:  12.00 , началось действие:  eating hotdog\n",
            "11 : Секунда:  13.00 , началось действие:  dancing charleston\n",
            "12 : Секунда:  15.00 , началось действие:  tango dancing\n",
            "13 : Секунда:  16.08 , началось действие:  tying tie\n",
            "14 : Секунда:  19.02 , началось действие:  jogging\n",
            "15 : Секунда:  20.00 , началось действие:  belly dancing\n",
            "16 : Секунда:  21.00 , началось действие:  stomping grapes\n",
            "17 : Секунда:  22.00 , началось действие:  jetskiing\n",
            "18 : Секунда:  24.14 , началось действие:  walking the dog\n",
            "19 : Секунда:  30.26 , началось действие:  tai chi\n",
            "Number  7 :\n",
            "Video:  /content/video_data/video_ad47.mp4 with fps: 25\n",
            "1 : Секунда:  1.11 , началось действие:  changing oil\n",
            "2 : Секунда:  2.09 , началось действие:  filling eyebrows\n",
            "3 : Секунда:  3.08 , началось действие:  smoking\n",
            "4 : Секунда:  4.00 , началось действие:  driving car\n",
            "5 : Секунда:  6.04 , началось действие:  air drumming\n",
            "6 : Секунда:  7.06 , началось действие:  playing recorder\n",
            "7 : Секунда:  8.14 , началось действие:  braiding hair\n",
            "8 : Секунда:  9.08 , началось действие:  extinguishing fire\n",
            "9 : Секунда:  13.20 , началось действие:  news anchoring\n",
            "Number  8 :\n",
            "Video:  /content/video_data/video_ad10.mp4 with fps: 25\n",
            "1 : Секунда:  1.11 , началось действие:  opening bottle\n",
            "2 : Секунда:  5.02 , началось действие:  arranging flowers\n",
            "3 : Секунда:  8.06 , началось действие:  doing nails\n",
            "4 : Секунда:  9.11 , началось действие:  unboxing\n",
            "5 : Секунда:  12.23 , началось действие:  folding napkins\n",
            "6 : Секунда:  17.06 , началось действие:  making jewelry\n",
            "Video:  /content/video_data/video_ad10.mp4 with fps: 25\n",
            "1 : Секунда:  1.11 , началось действие:  opening bottle\n",
            "2 : Секунда:  5.01 , началось действие:  arranging flowers\n",
            "3 : Секунда:  8.06 , началось действие:  doing nails\n",
            "4 : Секунда:  9.11 , началось действие:  unboxing\n",
            "5 : Секунда:  12.23 , началось действие:  folding napkins\n",
            "6 : Секунда:  17.06 , началось действие:  making jewelry\n",
            "Number  9 :\n",
            "Video:  /content/video_data/video_ad26.mp4 with fps: 23\n",
            "1 : Секунда:  1.13 , началось действие:  setting table\n",
            "2 : Секунда:  2.14 , началось действие:  testifying\n",
            "3 : Секунда:  3.01 , началось действие:  texting\n",
            "4 : Секунда:  6.15 , началось действие:  dining\n",
            "5 : Секунда:  7.15 , началось действие:  news anchoring\n",
            "6 : Секунда:  11.20 , началось действие:  answering questions\n",
            "7 : Секунда:  21.04 , началось действие:  playing poker\n",
            "8 : Секунда:  23.21 , началось действие:  using computer\n",
            "Number  10 :\n",
            "Video:  /content/video_data/video_ad45.mp4 with fps: 23\n",
            "1 : Секунда:  1.13 , началось действие:  tying tie\n",
            "2 : Секунда:  2.00 , началось действие:  stomping grapes\n",
            "3 : Секунда:  3.22 , началось действие:  kissing\n",
            "4 : Секунда:  7.11 , началось действие:  parasailing\n",
            "5 : Секунда:  8.00 , началось действие:  cleaning shoes\n",
            "6 : Секунда:  9.13 , началось действие:  catching fish\n",
            "7 : Секунда:  13.08 , началось действие:  riding or walking with horse\n",
            "8 : Секунда:  14.00 , началось действие:  walking the dog\n",
            "9 : Секунда:  15.06 , началось действие:  carrying baby\n",
            "10 : Секунда:  16.11 , началось действие:  crossing river\n",
            "11 : Секунда:  18.04 , началось действие:  riding mule\n",
            "12 : Секунда:  23.11 , началось действие:  finger snapping\n",
            "13 : Секунда:  24.08 , началось действие:  garbage collecting\n",
            "14 : Секунда:  25.14 , началось действие:  watering plants\n",
            "15 : Секунда:  26.19 , началось действие:  dancing macarena\n",
            "16 : Секунда:  27.09 , началось действие:  cheerleading\n",
            "17 : Секунда:  32.04 , началось действие:  archery\n",
            "18 : Секунда:  33.00 , началось действие:  playing paintball\n",
            "Number  11 :\n",
            "Video:  /content/video_data/video_ad35.mp4 with fps: 25\n",
            "1 : Секунда:  2.16 , началось действие:  singing\n",
            "2 : Секунда:  3.02 , началось действие:  giving or receiving award\n",
            "3 : Секунда:  5.01 , началось действие:  pushing car\n",
            "4 : Секунда:  6.23 , началось действие:  using remote controller (not gaming)\n",
            "Video:  /content/video_data/video_ad35.mp4 with fps: 25\n",
            "1 : Секунда:  2.15 , началось действие:  singing\n",
            "2 : Секунда:  4.22 , началось действие:  pushing car\n",
            "3 : Секунда:  6.21 , началось действие:  using remote controller (not gaming)\n",
            "Number  12 :\n",
            "Video:  /content/video_data/video_ad2.mp4 with fps: 25\n",
            "1 : Секунда:  1.11 , началось действие:  dining\n",
            "2 : Секунда:  2.03 , началось действие:  finger snapping\n",
            "3 : Секунда:  3.05 , началось действие:  tying tie\n",
            "4 : Секунда:  4.08 , началось действие:  digging\n",
            "5 : Секунда:  5.10 , началось действие:  washing hands\n",
            "6 : Секунда:  6.18 , началось действие:  folding napkins\n",
            "7 : Секунда:  7.21 , началось действие:  spray painting\n",
            "8 : Секунда:  8.04 , началось действие:  counting money\n",
            "9 : Секунда:  10.02 , началось действие:  unboxing\n",
            "10 : Секунда:  14.18 , началось действие:  making tea\n",
            "11 : Секунда:  15.21 , началось действие:  cooking egg\n",
            "12 : Секунда:  16.04 , началось действие:  flipping pancake\n",
            "13 : Секунда:  18.00 , началось действие:  breading or breadcrumbing\n",
            "14 : Секунда:  23.01 , началось действие:  eating ice cream\n",
            "15 : Секунда:  24.00 , началось действие:  cleaning shoes\n",
            "16 : Секунда:  29.04 , началось действие:  clay pottery making\n",
            "17 : Секунда:  30.08 , началось действие:  plastering\n",
            "18 : Секунда:  32.15 , началось действие:  bartending\n",
            "19 : Секунда:  37.05 , началось действие:  cleaning floor\n",
            "20 : Секунда:  38.00 , началось действие:  bookbinding\n",
            "21 : Секунда:  40.19 , началось действие:  using computer\n",
            "22 : Секунда:  47.14 , началось действие:  riding a bike\n",
            "23 : Секунда:  49.16 , началось действие:  using remote controller (not gaming)\n",
            "24 : Секунда:  53.04 , началось действие:  jumpstyle dancing\n",
            "25 : Секунда:  55.10 , началось действие:  trapezing\n",
            "Video:  /content/video_data/video_ad2.mp4 with fps: 25\n",
            "1 : Секунда:  1.11 , началось действие:  dining\n",
            "2 : Секунда:  10.14 , началось действие:  counting money\n",
            "3 : Секунда:  16.07 , началось действие:  flipping pancake\n",
            "4 : Секунда:  17.00 , началось действие:  baking cookies\n",
            "5 : Секунда:  18.00 , началось действие:  breading or breadcrumbing\n",
            "6 : Секунда:  19.05 , началось действие:  sign language interpreting\n",
            "7 : Секунда:  20.00 , началось действие:  finger snapping\n",
            "8 : Секунда:  21.00 , началось действие:  making tea\n",
            "9 : Секунда:  32.23 , началось действие:  bartending\n",
            "10 : Секунда:  37.23 , началось действие:  bookbinding\n",
            "11 : Секунда:  38.04 , началось действие:  reading book\n",
            "12 : Секунда:  39.09 , началось действие:  unboxing\n",
            "13 : Секунда:  47.19 , началось действие:  riding a bike\n",
            "14 : Секунда:  49.22 , началось действие:  texting\n",
            "15 : Секунда:  50.12 , началось действие:  using remote controller (not gaming)\n",
            "Number  13 :\n",
            "Video:  /content/video_data/video_ad34.mp4 with fps: 25\n",
            "1 : Секунда:  1.11 , началось действие:  sharpening pencil\n",
            "2 : Секунда:  2.01 , началось действие:  tying knot (not on a tie)\n",
            "3 : Секунда:  5.04 , началось действие:  ironing\n",
            "4 : Секунда:  7.23 , началось действие:  using remote controller (not gaming)\n",
            "5 : Секунда:  9.20 , началось действие:  texting\n",
            "6 : Секунда:  13.21 , началось действие:  recording music\n",
            "7 : Секунда:  15.18 , началось действие:  folding napkins\n",
            "8 : Секунда:  18.16 , началось действие:  flying kite\n",
            "9 : Секунда:  20.12 , началось действие:  unboxing\n",
            "10 : Секунда:  26.22 , началось действие:  cleaning windows\n",
            "Number  14 :\n",
            "Video:  /content/video_data/video_ad12.mp4 with fps: 25\n",
            "1 : Секунда:  1.11 , началось действие:  paragliding\n",
            "2 : Секунда:  4.04 , началось действие:  motorcycling\n",
            "3 : Секунда:  5.10 , началось действие:  riding a bike\n",
            "4 : Секунда:  7.21 , началось действие:  catching fish\n",
            "5 : Секунда:  8.07 , началось действие:  catching or throwing frisbee\n",
            "6 : Секунда:  9.00 , началось действие:  surfing water\n",
            "7 : Секунда:  10.00 , началось действие:  sailing\n",
            "8 : Секунда:  11.12 , началось действие:  dancing macarena\n",
            "9 : Секунда:  12.21 , началось действие:  cleaning windows\n",
            "10 : Секунда:  14.19 , началось действие:  abseiling\n",
            "Number  15 :\n",
            "Video:  /content/video_data/video_ad9.mp4 with fps: 23\n",
            "1 : Секунда:  1.13 , началось действие:  opening bottle\n",
            "2 : Секунда:  5.08 , началось действие:  tasting beer\n",
            "3 : Секунда:  7.21 , началось действие:  making tea\n",
            "4 : Секунда:  11.08 , началось действие:  bartending\n",
            "5 : Секунда:  13.17 , началось действие:  contact juggling\n",
            "6 : Секунда:  15.00 , началось действие:  spray painting\n",
            "7 : Секунда:  16.01 , началось действие:  blowing glass\n",
            "8 : Секунда:  17.07 , началось действие:  barbequing\n",
            "9 : Секунда:  18.00 , началось действие:  cooking chicken\n",
            "10 : Секунда:  21.13 , началось действие:  doing nails\n",
            "11 : Секунда:  30.02 , началось действие:  dining\n",
            "12 : Секунда:  32.01 , началось действие:  playing paintball\n",
            "13 : Секунда:  35.22 , началось действие:  shining shoes\n",
            "14 : Секунда:  36.10 , началось действие:  punching bag\n",
            "Number  16 :\n",
            "Video:  /content/video_data/video_ad40.mp4 with fps: 25\n",
            "1 : Секунда:  1.11 , началось действие:  cleaning windows\n",
            "2 : Секунда:  2.19 , началось действие:  tickling\n",
            "3 : Секунда:  5.05 , началось действие:  getting a tattoo\n",
            "4 : Секунда:  6.23 , началось действие:  smoking\n",
            "5 : Секунда:  8.02 , началось действие:  gargling\n",
            "6 : Секунда:  10.15 , началось действие:  kissing\n",
            "7 : Секунда:  12.03 , началось действие:  belly dancing\n",
            "8 : Секунда:  14.19 , началось действие:  washing feet\n",
            "9 : Секунда:  15.05 , началось действие:  driving car\n",
            "10 : Секунда:  16.09 , началось действие:  giving or receiving award\n",
            "11 : Секунда:  17.09 , началось действие:  yoga\n",
            "12 : Секунда:  20.11 , началось действие:  carrying baby\n",
            "13 : Секунда:  23.12 , началось действие:  skateboarding\n",
            "14 : Секунда:  24.10 , началось действие:  side kick\n",
            "15 : Секунда:  26.04 , началось действие:  riding mechanical bull\n",
            "16 : Секунда:  27.03 , началось действие:  arm wrestling\n",
            "17 : Секунда:  29.22 , началось действие:  running on treadmill\n",
            "Number  17 :\n",
            "Video:  /content/video_data/video_ad43.mp4 with fps: 30\n",
            "1 : Секунда:  1.06 , началось действие:  garbage collecting\n",
            "2 : Секунда:  2.20 , началось действие:  making pizza\n",
            "3 : Секунда:  8.10 , началось действие:  playing poker\n",
            "Video:  /content/video_data/video_ad43.mp4 with fps: 30\n",
            "1 : Секунда:  1.06 , началось действие:  garbage collecting\n",
            "2 : Секунда:  2.20 , началось действие:  making pizza\n",
            "3 : Секунда:  8.10 , началось действие:  playing poker\n",
            "4 : Секунда:  14.06 , началось действие:  barbequing\n",
            "Number  18 :\n",
            "Video:  /content/video_data/video_ad30.mp4 with fps: 25\n",
            "1 : Секунда:  1.11 , началось действие:  brushing hair\n",
            "2 : Секунда:  2.24 , началось действие:  kissing\n",
            "3 : Секунда:  3.01 , началось действие:  applying cream\n",
            "4 : Секунда:  4.02 , началось действие:  bartending\n",
            "5 : Секунда:  6.00 , началось действие:  hugging\n",
            "6 : Секунда:  7.04 , началось действие:  eating burger\n",
            "7 : Секунда:  8.00 , началось действие:  making tea\n",
            "8 : Секунда:  12.03 , началось действие:  pumping fist\n",
            "Number  19 :\n",
            "Video:  /content/video_data/video_ad16.mp4 with fps: 25\n",
            "1 : Секунда:  1.11 , началось действие:  kissing\n",
            "2 : Секунда:  3.13 , началось действие:  jogging\n",
            "3 : Секунда:  8.12 , началось действие:  tap dancing\n",
            "4 : Секунда:  9.20 , началось действие:  making jewelry\n",
            "5 : Секунда:  11.08 , началось действие:  flipping pancake\n",
            "6 : Секунда:  12.00 , началось действие:  smoking\n",
            "7 : Секунда:  14.08 , началось действие:  belly dancing\n",
            "8 : Секунда:  16.04 , началось действие:  applying cream\n",
            "9 : Секунда:  21.09 , началось действие:  decorating the christmas tree\n",
            "10 : Секунда:  25.05 , началось действие:  feeding birds\n",
            "11 : Секунда:  28.18 , началось действие:  tai chi\n",
            "Number  20 :\n",
            "Video:  /content/video_data/video_ad29.mp4 with fps: 25\n",
            "1 : Секунда:  1.24 , началось действие:  checking tires\n",
            "2 : Секунда:  2.16 , началось действие:  juggling balls\n",
            "3 : Секунда:  4.09 , началось действие:  cleaning windows\n",
            "4 : Секунда:  5.06 , началось действие:  texting\n",
            "5 : Секунда:  6.12 , началось действие:  driving car\n",
            "6 : Секунда:  14.07 , началось действие:  blowing leaves\n",
            "7 : Секунда:  15.07 , началось действие:  climbing tree\n",
            "Number  21 :\n",
            "Video:  /content/video_data/video_ad1.mp4 with fps: 29\n",
            "1 : Секунда:  1.07 , началось действие:  sailing\n",
            "2 : Секунда:  2.00 , началось действие:  flying kite\n",
            "3 : Секунда:  4.11 , началось действие:  playing basketball\n",
            "4 : Секунда:  5.11 , началось действие:  texting\n",
            "5 : Секунда:  7.02 , началось действие:  kissing\n",
            "6 : Секунда:  8.00 , началось действие:  washing feet\n",
            "7 : Секунда:  19.16 , началось действие:  beatboxing\n",
            "8 : Секунда:  23.13 , началось действие:  shaving head\n",
            "9 : Секунда:  25.23 , началось действие:  contact juggling\n",
            "10 : Секунда:  26.11 , началось действие:  gargling\n",
            "11 : Секунда:  29.08 , началось действие:  playing poker\n",
            "12 : Секунда:  32.10 , началось действие:  crying\n",
            "13 : Секунда:  34.16 , началось действие:  counting money\n",
            "14 : Секунда:  36.07 , началось действие:  playing cards\n",
            "15 : Секунда:  38.13 , началось действие:  playing trumpet\n",
            "16 : Секунда:  40.23 , началось действие:  spray painting\n",
            "17 : Секунда:  42.04 , началось действие:  punching bag\n",
            "18 : Секунда:  43.04 , началось действие:  dining\n",
            "19 : Секунда:  45.12 , началось действие:  setting table\n",
            "20 : Секунда:  48.07 , началось действие:  answering questions\n",
            "21 : Секунда:  52.02 , началось действие:  eating doughnuts\n",
            "22 : Секунда:  53.00 , началось действие:  testifying\n",
            "23 : Секунда:  56.09 , началось действие:  snorkeling\n",
            "24 : Секунда:  58.12 , началось действие:  auctioning\n",
            "25 : Секунда:  59.17 , началось действие:  scuba diving\n",
            "26 : Секунда:  62.10 , началось действие:  watering plants\n",
            "27 : Секунда:  63.14 , началось действие:  riding camel\n",
            "28 : Секунда:  65.07 , началось действие:  hugging\n",
            "29 : Секунда:  68.16 , началось действие:  motorcycling\n",
            "30 : Секунда:  69.14 , началось действие:  bungee jumping\n",
            "31 : Секунда:  72.06 , началось действие:  paragliding\n",
            "32 : Секунда:  73.00 , началось действие:  skydiving\n",
            "33 : Секунда:  74.24 , началось действие:  unboxing\n",
            "34 : Секунда:  76.14 , началось действие:  pumping gas\n",
            "35 : Секунда:  77.00 , началось действие:  sailing\n",
            "36 : Секунда:  81.07 , началось действие:  using remote controller (not gaming)\n",
            "37 : Секунда:  82.20 , началось действие:  presenting weather forecast\n",
            "38 : Секунда:  83.22 , началось действие:  jetskiing\n",
            "39 : Секунда:  84.00 , началось действие:  water skiing\n",
            "40 : Секунда:  92.00 , началось действие:  archery\n",
            "41 : Секунда:  95.28 , началось действие:  jogging\n",
            "Video:  /content/video_data/video_ad1.mp4 with fps: 29\n",
            "1 : Секунда:  1.19 , началось действие:  flying kite\n",
            "2 : Секунда:  4.23 , началось действие:  playing basketball\n",
            "3 : Секунда:  5.13 , началось действие:  texting\n",
            "4 : Секунда:  14.26 , началось действие:  kissing\n",
            "5 : Секунда:  32.18 , началось действие:  crying\n",
            "6 : Секунда:  34.20 , началось действие:  counting money\n",
            "7 : Секунда:  36.07 , началось действие:  playing cards\n",
            "8 : Секунда:  38.21 , началось действие:  playing trumpet\n",
            "9 : Секунда:  41.03 , началось действие:  getting a tattoo\n",
            "10 : Секунда:  45.16 , началось действие:  setting table\n",
            "11 : Секунда:  52.28 , началось действие:  testifying\n",
            "12 : Секунда:  56.14 , началось действие:  snorkeling\n",
            "13 : Секунда:  58.12 , началось действие:  auctioning\n",
            "14 : Секунда:  59.20 , началось действие:  scuba diving\n",
            "15 : Секунда:  63.20 , началось действие:  riding camel\n",
            "16 : Секунда:  67.01 , началось действие:  dining\n",
            "17 : Секунда:  68.19 , началось действие:  motorcycling\n",
            "18 : Секунда:  72.24 , началось действие:  paragliding\n",
            "19 : Секунда:  73.00 , началось действие:  skydiving\n",
            "20 : Секунда:  74.24 , началось действие:  unboxing\n",
            "21 : Секунда:  76.28 , началось действие:  sailing\n",
            "22 : Секунда:  81.07 , началось действие:  using remote controller (not gaming)\n",
            "23 : Секунда:  82.25 , началось действие:  presenting weather forecast\n",
            "24 : Секунда:  92.09 , началось действие:  archery\n",
            "Number  22 :\n",
            "Video:  /content/video_data/video_ad15.mp4 with fps: 30\n",
            "1 : Секунда:  1.08 , началось действие:  making tea\n",
            "2 : Секунда:  2.02 , началось действие:  drinking\n",
            "3 : Секунда:  3.00 , началось действие:  training dog\n",
            "4 : Секунда:  4.00 , началось действие:  shining shoes\n",
            "5 : Секунда:  5.05 , началось действие:  busking\n",
            "6 : Секунда:  7.25 , началось действие:  playing xylophone\n",
            "7 : Секунда:  8.25 , началось действие:  yoga\n",
            "8 : Секунда:  9.09 , началось действие:  lunge\n",
            "9 : Секунда:  10.00 , началось действие:  zumba\n",
            "10 : Секунда:  11.00 , началось действие:  arranging flowers\n",
            "11 : Секунда:  12.00 , началось действие:  dining\n",
            "Number  23 :\n",
            "Video:  /content/video_data/video_ad32.mp4 with fps: 23\n",
            "1 : Секунда:  1.13 , началось действие:  cleaning shoes\n",
            "2 : Секунда:  2.00 , началось действие:  washing hands\n",
            "3 : Секунда:  3.00 , началось действие:  hula hooping\n",
            "4 : Секунда:  6.04 , началось действие:  cleaning windows\n",
            "5 : Секунда:  7.11 , началось действие:  throwing axe\n",
            "6 : Секунда:  8.00 , началось действие:  finger snapping\n",
            "7 : Секунда:  9.14 , началось действие:  robot dancing\n",
            "8 : Секунда:  10.05 , началось действие:  arranging flowers\n",
            "9 : Секунда:  12.12 , началось действие:  opening present\n",
            "10 : Секунда:  13.20 , началось действие:  juggling fire\n",
            "11 : Секунда:  15.15 , началось действие:  feeding birds\n",
            "12 : Секунда:  19.14 , началось действие:  waiting in line\n",
            "13 : Секунда:  21.10 , началось действие:  barbequing\n",
            "14 : Секунда:  22.00 , началось действие:  cooking sausages\n",
            "15 : Секунда:  23.01 , началось действие:  massaging back\n",
            "16 : Секунда:  24.22 , началось действие:  reading book\n",
            "17 : Секунда:  26.04 , началось действие:  smoking\n",
            "18 : Секунда:  28.08 , началось действие:  spinning poi\n",
            "19 : Секунда:  30.19 , началось действие:  salsa dancing\n",
            "20 : Секунда:  33.04 , началось действие:  walking the dog\n",
            "21 : Секунда:  34.14 , началось действие:  arm wrestling\n",
            "22 : Секунда:  35.04 , началось действие:  yoga\n",
            "23 : Секунда:  36.04 , началось действие:  grooming dog\n",
            "24 : Секунда:  39.06 , началось действие:  busking\n",
            "25 : Секунда:  40.00 , началось действие:  trimming or shaving beard\n",
            "26 : Секунда:  41.00 , началось действие:  extinguishing fire\n",
            "27 : Секунда:  45.15 , началось действие:  stretching arm\n",
            "28 : Секунда:  47.03 , началось действие:  trapezing\n",
            "29 : Секунда:  48.00 , началось действие:  skateboarding\n",
            "30 : Секунда:  50.03 , началось действие:  giving or receiving award\n",
            "31 : Секунда:  52.02 , началось действие:  pushing car\n",
            "32 : Секунда:  53.10 , началось действие:  marching\n",
            "33 : Секунда:  54.10 , началось действие:  bobsledding\n",
            "34 : Секунда:  55.11 , началось действие:  garbage collecting\n",
            "35 : Секунда:  56.12 , началось действие:  feeding birds\n",
            "36 : Секунда:  57.14 , началось действие:  carrying baby\n",
            "Video:  /content/video_data/video_ad32.mp4 with fps: 23\n",
            "1 : Секунда:  3.17 , началось действие:  washing hands\n",
            "2 : Секунда:  8.05 , началось действие:  finger snapping\n",
            "3 : Секунда:  10.09 , началось действие:  arranging flowers\n",
            "4 : Секунда:  12.16 , началось действие:  opening present\n",
            "5 : Секунда:  13.21 , началось действие:  juggling fire\n",
            "6 : Секунда:  15.22 , началось действие:  feeding birds\n",
            "7 : Секунда:  21.21 , началось действие:  cooking sausages\n",
            "8 : Секунда:  23.03 , началось действие:  massaging back\n",
            "9 : Секунда:  25.09 , началось действие:  reading book\n",
            "10 : Секунда:  26.08 , началось действие:  smoking\n",
            "11 : Секунда:  28.15 , началось действие:  spinning poi\n",
            "12 : Секунда:  30.22 , началось действие:  salsa dancing\n",
            "13 : Секунда:  33.08 , началось действие:  walking the dog\n",
            "14 : Секунда:  35.10 , началось действие:  yoga\n",
            "15 : Секунда:  36.07 , началось действие:  grooming dog\n",
            "16 : Секунда:  39.17 , началось действие:  trimming or shaving beard\n",
            "17 : Секунда:  41.01 , началось действие:  extinguishing fire\n",
            "18 : Секунда:  52.11 , началось действие:  pushing car\n",
            "19 : Секунда:  55.11 , началось действие:  garbage collecting\n",
            "20 : Секунда:  57.14 , началось действие:  carrying baby\n",
            "21 : Секунда:  61.17 , началось действие:  robot dancing\n",
            "Number  24 :\n",
            "Video:  /content/video_data/video_ad13.mp4 with fps: 25\n",
            "1 : Секунда:  1.11 , началось действие:  cleaning floor\n",
            "2 : Секунда:  3.04 , началось действие:  tai chi\n",
            "3 : Секунда:  6.13 , началось действие:  doing laundry\n",
            "4 : Секунда:  9.20 , началось действие:  squat\n",
            "5 : Секунда:  11.09 , началось действие:  robot dancing\n",
            "6 : Секунда:  15.10 , началось действие:  tying tie\n",
            "7 : Секунда:  16.06 , началось действие:  carrying baby\n",
            "8 : Секунда:  20.16 , началось действие:  checking tires\n",
            "9 : Секунда:  21.17 , началось действие:  changing wheel\n",
            "10 : Секунда:  22.20 , началось действие:  tying bow tie\n",
            "Number  25 :\n",
            "Video:  /content/video_data/video_ad5.mp4 with fps: 30\n",
            "1 : Секунда:  1.06 , началось действие:  dining\n",
            "2 : Секунда:  2.00 , началось действие:  breading or breadcrumbing\n",
            "3 : Секунда:  3.00 , началось действие:  cutting pineapple\n",
            "4 : Секунда:  5.05 , началось действие:  eating hotdog\n",
            "5 : Секунда:  6.00 , началось действие:  eating watermelon\n",
            "6 : Секунда:  7.00 , началось действие:  eating carrots\n",
            "7 : Секунда:  13.24 , началось действие:  cooking egg\n",
            "8 : Секунда:  14.00 , началось действие:  baking cookies\n",
            "9 : Секунда:  15.24 , началось действие:  carving pumpkin\n",
            "10 : Секунда:  20.26 , началось действие:  bending metal\n",
            "11 : Секунда:  28.20 , началось действие:  spinning poi\n",
            "12 : Секунда:  29.13 , началось действие:  juggling balls\n",
            "Number  26 :\n",
            "Video:  /content/video_data/video_ad36.mp4 with fps: 23\n",
            "1 : Секунда:  1.13 , началось действие:  tap dancing\n",
            "2 : Секунда:  3.15 , началось действие:  robot dancing\n",
            "3 : Секунда:  5.07 , началось действие:  bartending\n",
            "4 : Секунда:  6.00 , началось действие:  balloon blowing\n",
            "5 : Секунда:  8.15 , началось действие:  moving furniture\n",
            "6 : Секунда:  12.04 , началось действие:  juggling soccer ball\n",
            "7 : Секунда:  13.21 , началось действие:  reading book\n",
            "8 : Секунда:  15.08 , началось действие:  unboxing\n",
            "9 : Секунда:  16.03 , началось действие:  making tea\n",
            "10 : Секунда:  17.21 , началось действие:  dining\n",
            "11 : Секунда:  20.08 , началось действие:  dodgeball\n",
            "12 : Секунда:  21.00 , началось действие:  playing volleyball\n",
            "13 : Секунда:  22.04 , началось действие:  arm wrestling\n",
            "14 : Секунда:  24.16 , началось действие:  kicking soccer ball\n",
            "15 : Секунда:  26.00 , началось действие:  hoverboarding\n",
            "16 : Секунда:  27.00 , началось действие:  blowing glass\n",
            "17 : Секунда:  28.00 , началось действие:  flipping pancake\n",
            "18 : Секунда:  29.13 , началось действие:  plastering\n",
            "19 : Секунда:  31.07 , началось действие:  parkour\n",
            "20 : Секунда:  32.07 , началось действие:  playing poker\n",
            "21 : Секунда:  33.00 , началось действие:  shuffling cards\n",
            "22 : Секунда:  35.00 , началось действие:  making jewelry\n",
            "23 : Секунда:  36.00 , началось действие:  krumping\n",
            "24 : Секунда:  40.16 , началось действие:  building cabinet\n",
            "25 : Секунда:  41.01 , началось действие:  cleaning shoes\n",
            "26 : Секунда:  42.18 , началось действие:  bookbinding\n",
            "27 : Секунда:  44.10 , началось действие:  cleaning floor\n",
            "28 : Секунда:  45.15 , началось действие:  busking\n",
            "29 : Секунда:  48.16 , началось действие:  unloading truck\n",
            "30 : Секунда:  49.06 , началось действие:  changing wheel\n",
            "31 : Секунда:  50.13 , началось действие:  checking tires\n",
            "32 : Секунда:  51.00 , началось действие:  driving tractor\n",
            "33 : Секунда:  52.01 , началось действие:  sailing\n",
            "34 : Секунда:  55.02 , началось действие:  garbage collecting\n",
            "35 : Секунда:  56.00 , началось действие:  changing oil\n",
            "36 : Секунда:  59.19 , началось действие:  driving car\n",
            "Video:  /content/video_data/video_ad36.mp4 with fps: 23\n",
            "1 : Секунда:  1.13 , началось действие:  tap dancing\n",
            "2 : Секунда:  2.00 , началось действие:  giving or receiving award\n",
            "3 : Секунда:  3.18 , началось действие:  robot dancing\n",
            "4 : Секунда:  5.20 , началось действие:  balloon blowing\n",
            "5 : Секунда:  8.18 , началось действие:  moving furniture\n",
            "6 : Секунда:  14.04 , началось действие:  reading book\n",
            "7 : Секунда:  16.09 , началось действие:  making tea\n",
            "8 : Секунда:  17.21 , началось действие:  dining\n",
            "9 : Секунда:  26.13 , началось действие:  blowing glass\n",
            "10 : Секунда:  33.00 , началось действие:  shuffling cards\n",
            "11 : Секунда:  36.00 , началось действие:  krumping\n",
            "12 : Секунда:  41.03 , началось действие:  cleaning shoes\n",
            "13 : Секунда:  42.18 , началось действие:  bookbinding\n",
            "14 : Секунда:  46.02 , началось действие:  busking\n",
            "15 : Секунда:  49.14 , началось действие:  changing wheel\n",
            "16 : Секунда:  50.13 , началось действие:  checking tires\n",
            "17 : Секунда:  52.05 , началось действие:  sailing\n",
            "18 : Секунда:  55.21 , началось действие:  changing oil\n",
            "19 : Секунда:  57.03 , началось действие:  garbage collecting\n",
            "20 : Секунда:  58.19 , началось действие:  cleaning floor\n",
            "21 : Секунда:  59.19 , началось действие:  driving car\n",
            "Number  27 :\n",
            "Video:  /content/video_data/video_ad49.mp4 with fps: 24\n",
            "1 : Секунда:  1.12 , началось действие:  crossing river\n",
            "2 : Секунда:  5.21 , началось действие:  riding mountain bike\n",
            "3 : Секунда:  7.07 , началось действие:  sailing\n",
            "4 : Секунда:  9.20 , началось действие:  riding camel\n",
            "5 : Секунда:  11.13 , началось действие:  paragliding\n",
            "6 : Секунда:  12.00 , началось действие:  driving car\n",
            "7 : Секунда:  13.03 , началось действие:  digging\n",
            "8 : Секунда:  14.00 , началось действие:  abseiling\n",
            "9 : Секунда:  15.00 , началось действие:  folding napkins\n",
            "10 : Секунда:  16.00 , началось действие:  catching fish\n",
            "11 : Секунда:  19.05 , началось действие:  feeding goats\n",
            "12 : Секунда:  20.10 , началось действие:  chopping wood\n",
            "13 : Секунда:  21.15 , началось действие:  hammer throw\n",
            "14 : Секунда:  22.04 , началось действие:  walking the dog\n",
            "15 : Секунда:  25.08 , началось действие:  diving cliff\n",
            "16 : Секунда:  33.23 , началось действие:  jogging\n",
            "17 : Секунда:  34.22 , началось действие:  catching or throwing frisbee\n",
            "18 : Секунда:  36.05 , началось действие:  canoeing or kayaking\n",
            "Number  28 :\n",
            "Video:  /content/video_data/video_ad28.mp4 with fps: 30\n",
            "1 : Секунда:  1.22 , началось действие:  yoga\n",
            "2 : Секунда:  2.14 , началось действие:  reading book\n",
            "3 : Секунда:  3.29 , началось действие:  using computer\n",
            "4 : Секунда:  8.18 , началось действие:  sign language interpreting\n",
            "5 : Секунда:  20.14 , началось действие:  stretching arm\n",
            "6 : Секунда:  22.10 , началось действие:  surfing water\n",
            "7 : Секунда:  23.14 , началось действие:  skiing (not slalom or crosscountry)\n",
            "8 : Секунда:  24.06 , началось действие:  extinguishing fire\n",
            "9 : Секунда:  26.04 , началось действие:  cutting pineapple\n",
            "10 : Секунда:  45.21 , началось действие:  drawing\n",
            "11 : Секунда:  46.24 , началось действие:  folding napkins\n",
            "12 : Секунда:  48.15 , началось действие:  setting table\n",
            "Number  29 :\n",
            "Video:  /content/video_data/video_ad6.mp4 with fps: 25\n",
            "1 : Секунда:  2.15 , началось действие:  blowing glass\n",
            "2 : Секунда:  3.20 , началось действие:  belly dancing\n",
            "3 : Секунда:  4.08 , началось действие:  contact juggling\n",
            "4 : Секунда:  6.21 , началось действие:  bobsledding\n",
            "5 : Секунда:  7.09 , началось действие:  yoga\n",
            "6 : Секунда:  8.21 , началось действие:  robot dancing\n",
            "Video:  /content/video_data/video_ad6.mp4 with fps: 25\n",
            "1 : Секунда:  2.13 , началось действие:  blowing glass\n",
            "2 : Секунда:  3.20 , началось действие:  belly dancing\n",
            "3 : Секунда:  4.08 , началось действие:  contact juggling\n",
            "4 : Секунда:  6.15 , началось действие:  bobsledding\n",
            "5 : Секунда:  7.09 , началось действие:  yoga\n",
            "6 : Секунда:  8.19 , началось действие:  robot dancing\n",
            "7 : Секунда:  11.13 , началось действие:  brush painting\n",
            "Number  30 :\n",
            "Video:  /content/video_data/video_ad27.mp4 with fps: 23\n",
            "1 : Секунда:  1.13 , началось действие:  cutting pineapple\n",
            "2 : Секунда:  2.00 , началось действие:  celebrating\n",
            "3 : Секунда:  3.20 , началось действие:  cooking chicken\n",
            "4 : Секунда:  4.12 , началось действие:  archery\n",
            "Video:  /content/video_data/video_ad27.mp4 with fps: 23\n",
            "1 : Секунда:  1.13 , началось действие:  cutting pineapple\n",
            "2 : Секунда:  2.00 , началось действие:  celebrating\n",
            "3 : Секунда:  3.17 , началось действие:  cooking chicken\n",
            "4 : Секунда:  4.12 , началось действие:  archery\n",
            "Number  31 :\n",
            "Video:  /content/video_data/video_ad25.mp4 with fps: 25\n",
            "1 : Секунда:  1.11 , началось действие:  massaging back\n",
            "2 : Секунда:  2.17 , началось действие:  using remote controller (not gaming)\n",
            "3 : Секунда:  4.06 , началось действие:  applying cream\n",
            "4 : Секунда:  8.01 , началось действие:  ski jumping\n",
            "5 : Секунда:  9.00 , началось действие:  ice skating\n",
            "6 : Секунда:  10.04 , началось действие:  playing tennis\n",
            "7 : Секунда:  12.14 , началось действие:  playing volleyball\n",
            "8 : Секунда:  13.00 , началось действие:  jogging\n",
            "9 : Секунда:  15.09 , началось действие:  climbing ladder\n",
            "10 : Секунда:  16.08 , началось действие:  playing didgeridoo\n",
            "11 : Секунда:  19.15 , началось действие:  unboxing\n",
            "12 : Секунда:  23.14 , началось действие:  push up\n",
            "13 : Секунда:  25.18 , началось действие:  ironing\n",
            "14 : Секунда:  30.10 , началось действие:  lunge\n",
            "15 : Секунда:  32.01 , началось действие:  doing aerobics\n",
            "16 : Секунда:  34.01 , началось действие:  singing\n",
            "17 : Секунда:  35.03 , началось действие:  doing laundry\n",
            "18 : Секунда:  37.11 , началось действие:  training dog\n",
            "19 : Секунда:  38.00 , началось действие:  hugging\n",
            "20 : Секунда:  39.00 , началось действие:  bandaging\n",
            "21 : Секунда:  40.13 , началось действие:  sharpening pencil\n",
            "22 : Секунда:  41.15 , началось действие:  squat\n",
            "23 : Секунда:  43.06 , началось действие:  dancing macarena\n",
            "24 : Секунда:  46.22 , началось действие:  cleaning windows\n",
            "25 : Секунда:  49.23 , началось действие:  doing nails\n",
            "26 : Секунда:  50.10 , началось действие:  shaving legs\n",
            "Video:  /content/video_data/video_ad25.mp4 with fps: 25\n",
            "1 : Секунда:  1.11 , началось действие:  massaging back\n",
            "2 : Секунда:  2.21 , началось действие:  using remote controller (not gaming)\n",
            "3 : Секунда:  5.15 , началось действие:  texting\n",
            "4 : Секунда:  9.06 , началось действие:  ice skating\n",
            "5 : Секунда:  11.12 , началось действие:  playing tennis\n",
            "6 : Секунда:  13.03 , началось действие:  jogging\n",
            "7 : Секунда:  14.17 , началось действие:  hurdling\n",
            "8 : Секунда:  16.23 , началось действие:  playing didgeridoo\n",
            "9 : Секунда:  20.00 , началось действие:  unboxing\n",
            "10 : Секунда:  23.18 , началось действие:  push up\n",
            "11 : Секунда:  25.24 , началось действие:  checking tires\n",
            "12 : Секунда:  30.14 , началось действие:  lunge\n",
            "13 : Секунда:  34.06 , началось действие:  singing\n",
            "14 : Секунда:  35.03 , началось действие:  doing laundry\n",
            "15 : Секунда:  39.07 , началось действие:  bandaging\n",
            "16 : Секунда:  40.17 , началось действие:  sharpening pencil\n",
            "17 : Секунда:  41.16 , началось действие:  squat\n",
            "18 : Секунда:  43.06 , началось действие:  dancing macarena\n",
            "Number  32 :\n",
            "Video:  /content/video_data/video_ad50.mp4 with fps: 23\n",
            "1 : Секунда:  1.13 , началось действие:  somersaulting\n",
            "2 : Секунда:  2.20 , началось действие:  making bed\n",
            "3 : Секунда:  6.07 , началось действие:  grooming dog\n",
            "4 : Секунда:  8.12 , началось действие:  petting cat\n",
            "5 : Секунда:  9.00 , началось действие:  snowkiting\n",
            "6 : Секунда:  10.10 , началось действие:  bandaging\n",
            "7 : Секунда:  12.20 , началось действие:  knitting\n",
            "Number  33 :\n",
            "Video:  /content/video_data/video_ad42.mp4 with fps: 25\n",
            "1 : Секунда:  3.14 , началось действие:  ice skating\n",
            "2 : Секунда:  5.10 , началось действие:  sailing\n",
            "3 : Секунда:  6.00 , началось действие:  contact juggling\n",
            "4 : Секунда:  8.02 , началось действие:  feeding birds\n",
            "5 : Секунда:  10.24 , началось действие:  flying kite\n",
            "6 : Секунда:  15.21 , началось действие:  tango dancing\n",
            "7 : Секунда:  16.19 , началось действие:  dancing ballet\n",
            "8 : Секунда:  18.00 , началось действие:  rock climbing\n",
            "9 : Секунда:  19.22 , началось действие:  riding elephant\n",
            "10 : Секунда:  20.05 , началось действие:  driving car\n",
            "11 : Секунда:  21.10 , началось действие:  playing cymbals\n",
            "12 : Секунда:  22.13 , началось действие:  surfing water\n",
            "13 : Секунда:  23.00 , началось действие:  decorating the christmas tree\n",
            "14 : Секунда:  24.00 , началось действие:  celebrating\n",
            "15 : Секунда:  25.06 , началось действие:  motorcycling\n",
            "16 : Секунда:  27.03 , началось действие:  playing violin\n",
            "17 : Секунда:  28.04 , началось действие:  sled dog racing\n",
            "18 : Секунда:  30.18 , началось действие:  kissing\n",
            "19 : Секунда:  31.16 , началось действие:  ice climbing\n",
            "20 : Секунда:  32.06 , началось действие:  playing didgeridoo\n",
            "21 : Секунда:  34.00 , началось действие:  barbequing\n",
            "22 : Секунда:  42.03 , началось действие:  welding\n",
            "23 : Секунда:  45.01 , началось действие:  balloon blowing\n",
            "24 : Секунда:  46.00 , началось действие:  feeding fish\n",
            "25 : Секунда:  47.21 , началось действие:  ice fishing\n",
            "26 : Секунда:  50.01 , началось действие:  doing laundry\n",
            "27 : Секунда:  52.13 , началось действие:  using remote controller (not gaming)\n",
            "Video:  /content/video_data/video_ad42.mp4 with fps: 25\n",
            "1 : Секунда:  8.07 , началось действие:  feeding birds\n",
            "2 : Секунда:  13.09 , началось действие:  contact juggling\n",
            "3 : Секунда:  15.21 , началось действие:  tango dancing\n",
            "4 : Секунда:  16.19 , началось действие:  dancing ballet\n",
            "5 : Секунда:  18.06 , началось действие:  rock climbing\n",
            "6 : Секунда:  24.03 , началось действие:  celebrating\n",
            "7 : Секунда:  25.15 , началось действие:  extinguishing fire\n",
            "8 : Секунда:  27.06 , началось действие:  playing violin\n",
            "9 : Секунда:  30.18 , началось действие:  kissing\n",
            "10 : Секунда:  32.09 , началось действие:  playing didgeridoo\n",
            "11 : Секунда:  35.09 , началось действие:  barbequing\n",
            "12 : Секунда:  42.14 , началось действие:  welding\n",
            "13 : Секунда:  45.19 , началось действие:  feeding fish\n",
            "14 : Секунда:  47.21 , началось действие:  ice fishing\n",
            "15 : Секунда:  50.06 , началось действие:  doing laundry\n",
            "16 : Секунда:  52.18 , началось действие:  using remote controller (not gaming)\n",
            "Number  34 :\n",
            "Video:  /content/video_data/video_ad48.mp4 with fps: 23\n",
            "1 : Секунда:  2.02 , началось действие:  picking fruit\n",
            "2 : Секунда:  3.00 , началось действие:  eating watermelon\n",
            "3 : Секунда:  4.00 , началось действие:  planting trees\n",
            "4 : Секунда:  5.08 , началось действие:  digging\n",
            "5 : Секунда:  7.02 , началось действие:  playing tennis\n",
            "6 : Секунда:  9.03 , началось действие:  reading book\n",
            "7 : Секунда:  11.06 , началось действие:  petting animal (not cat)\n",
            "8 : Секунда:  12.16 , началось действие:  pushing wheelchair\n",
            "9 : Секунда:  13.11 , началось действие:  riding mule\n",
            "10 : Секунда:  14.10 , началось действие:  extinguishing fire\n",
            "11 : Секунда:  16.16 , началось действие:  riding unicycle\n",
            "12 : Секунда:  18.02 , началось действие:  archery\n",
            "13 : Секунда:  19.00 , началось действие:  using remote controller (not gaming)\n",
            "14 : Секунда:  20.00 , началось действие:  driving tractor\n",
            "15 : Секунда:  21.22 , началось действие:  mowing lawn\n",
            "16 : Секунда:  22.01 , началось действие:  flying kite\n",
            "17 : Секунда:  28.01 , началось действие:  garbage collecting\n",
            "Number  35 :\n",
            "Video:  /content/video_data/video_ad39.mp4 with fps: 23\n",
            "1 : Секунда:  1.13 , началось действие:  knitting\n",
            "2 : Секунда:  4.04 , началось действие:  running on treadmill\n",
            "3 : Секунда:  7.12 , началось действие:  decorating the christmas tree\n",
            "4 : Секунда:  8.03 , началось действие:  cutting pineapple\n",
            "5 : Секунда:  10.11 , началось действие:  ripping paper\n",
            "6 : Секунда:  11.00 , началось действие:  eating ice cream\n",
            "7 : Секунда:  12.00 , началось действие:  singing\n",
            "8 : Секунда:  13.00 , началось действие:  tasting food\n",
            "9 : Секунда:  15.06 , началось действие:  baking cookies\n",
            "Number  36 :\n",
            "Video:  /content/video_data/video_ad8.mp4 with fps: 25\n",
            "1 : Секунда:  1.11 , началось действие:  smoking\n",
            "2 : Секунда:  2.10 , началось действие:  driving car\n",
            "3 : Секунда:  4.23 , началось действие:  texting\n",
            "4 : Секунда:  6.06 , началось действие:  kissing\n",
            "5 : Секунда:  7.00 , началось действие:  extinguishing fire\n",
            "6 : Секунда:  8.00 , началось действие:  barbequing\n",
            "7 : Секунда:  13.20 , началось действие:  running on treadmill\n",
            "8 : Секунда:  14.15 , началось действие:  eating burger\n",
            "9 : Секунда:  24.03 , началось действие:  using remote controller (not gaming)\n",
            "10 : Секунда:  26.23 , началось действие:  brushing teeth\n",
            "11 : Секунда:  27.18 , началось действие:  tasting food\n",
            "12 : Секунда:  29.12 , началось действие:  chopping wood\n",
            "13 : Секунда:  31.12 , началось действие:  shearing sheep\n",
            "14 : Секунда:  32.00 , началось действие:  country line dancing\n",
            "15 : Секунда:  33.00 , началось действие:  singing\n",
            "16 : Секунда:  38.22 , началось действие:  giving or receiving award\n",
            "17 : Секунда:  40.17 , началось действие:  news anchoring\n",
            "Number  37 :\n",
            "Video:  /content/video_data/video_ad3.mp4 with fps: 30\n",
            "1 : Секунда:  1.06 , началось действие:  sign language interpreting\n",
            "2 : Секунда:  2.08 , началось действие:  cooking chicken\n",
            "3 : Секунда:  3.12 , началось действие:  scrambling eggs\n",
            "4 : Секунда:  4.07 , началось действие:  dining\n",
            "5 : Секунда:  5.00 , началось действие:  tasting food\n",
            "6 : Секунда:  6.19 , началось действие:  drinking\n",
            "7 : Секунда:  9.15 , началось действие:  baking cookies\n",
            "8 : Секунда:  12.13 , началось действие:  sharpening pencil\n",
            "9 : Секунда:  16.02 , началось действие:  skiing (not slalom or crosscountry)\n",
            "10 : Секунда:  18.18 , началось действие:  dancing ballet\n",
            "11 : Секунда:  19.01 , началось действие:  folding napkins\n",
            "12 : Секунда:  20.04 , началось действие:  shuffling cards\n",
            "13 : Секунда:  21.11 , началось действие:  making jewelry\n",
            "14 : Секунда:  23.09 , началось действие:  weaving basket\n",
            "15 : Секунда:  25.18 , началось действие:  holding snake\n",
            "16 : Секунда:  39.13 , началось действие:  trimming or shaving beard\n",
            "Number  38 :\n",
            "Video:  /content/video_data/video_ad31.mp4 with fps: 23\n",
            "1 : Секунда:  2.17 , началось действие:  giving or receiving award\n",
            "2 : Секунда:  4.09 , началось действие:  skateboarding\n",
            "3 : Секунда:  6.04 , началось действие:  playing accordion\n",
            "4 : Секунда:  8.15 , началось действие:  ironing\n",
            "5 : Секунда:  10.03 , началось действие:  ice skating\n",
            "6 : Секунда:  11.08 , началось действие:  marching\n",
            "Video:  /content/video_data/video_ad31.mp4 with fps: 23\n",
            "1 : Секунда:  2.02 , началось действие:  sign language interpreting\n",
            "2 : Секунда:  3.00 , началось действие:  giving or receiving award\n",
            "3 : Секунда:  4.04 , началось действие:  skateboarding\n",
            "4 : Секунда:  6.04 , началось действие:  playing accordion\n",
            "5 : Секунда:  8.11 , началось действие:  ironing\n",
            "6 : Секунда:  10.02 , началось действие:  ice skating\n",
            "7 : Секунда:  11.08 , началось действие:  marching\n",
            "8 : Секунда:  12.07 , началось действие:  singing\n",
            "Number  39 :\n",
            "Video:  /content/video_data/video_ad20.mp4 with fps: 23\n",
            "1 : Секунда:  1.13 , началось действие:  skateboarding\n",
            "2 : Секунда:  2.21 , началось действие:  beatboxing\n",
            "3 : Секунда:  3.07 , началось действие:  robot dancing\n",
            "4 : Секунда:  5.10 , началось действие:  shaving head\n",
            "5 : Секунда:  7.04 , началось действие:  cleaning shoes\n",
            "6 : Секунда:  12.02 , началось действие:  krumping\n",
            "7 : Секунда:  13.05 , началось действие:  tying tie\n",
            "8 : Секунда:  16.18 , началось действие:  parkour\n",
            "9 : Секунда:  19.21 , началось действие:  sailing\n",
            "10 : Секунда:  21.17 , началось действие:  shining shoes\n",
            "11 : Секунда:  22.20 , началось действие:  feeding fish\n",
            "12 : Секунда:  30.17 , началось действие:  archery\n",
            "Number  40 :\n",
            "Video:  /content/video_data/video_ad18.mp4 with fps: 23\n",
            "1 : Секунда:  3.06 , началось действие:  texting\n",
            "2 : Секунда:  9.10 , началось действие:  kissing\n",
            "3 : Секунда:  10.15 , началось действие:  smoking\n",
            "4 : Секунда:  12.20 , началось действие:  brushing hair\n",
            "5 : Секунда:  19.16 , началось действие:  tying knot (not on a tie)\n",
            "6 : Секунда:  22.18 , началось действие:  applying cream\n",
            "7 : Секунда:  23.13 , началось действие:  sticking tongue out\n",
            "8 : Секунда:  30.18 , началось действие:  belly dancing\n",
            "9 : Секунда:  37.03 , началось действие:  headbanging\n",
            "10 : Секунда:  39.12 , началось действие:  fixing hair\n",
            "11 : Секунда:  44.10 , началось действие:  brushing teeth\n",
            "12 : Секунда:  47.13 , началось действие:  crying\n",
            "13 : Секунда:  59.22 , началось действие:  braiding hair\n",
            "Number  41 :\n",
            "Video:  /content/video_data/video_ad14.mp4 with fps: 25\n",
            "1 : Секунда:  1.11 , началось действие:  applying cream\n",
            "2 : Секунда:  12.08 , началось действие:  shredding paper\n",
            "3 : Секунда:  13.13 , началось действие:  using computer\n",
            "4 : Секунда:  20.11 , началось действие:  doing nails\n",
            "5 : Секунда:  40.20 , началось действие:  unboxing\n",
            "Video:  /content/video_data/video_ad14.mp4 with fps: 25\n",
            "1 : Секунда:  1.11 , началось действие:  applying cream\n",
            "2 : Секунда:  10.23 , началось действие:  unboxing\n",
            "3 : Секунда:  12.07 , началось действие:  shredding paper\n",
            "4 : Секунда:  13.13 , началось действие:  using computer\n",
            "5 : Секунда:  20.09 , началось действие:  doing nails\n",
            "6 : Секунда:  47.20 , началось действие:  stretching arm\n",
            "Number  42 :\n",
            "Video:  /content/video_data/video_ad11.mp4 with fps: 25\n",
            "1 : Секунда:  1.11 , началось действие:  throwing axe\n",
            "2 : Секунда:  2.21 , началось действие:  stomping grapes\n",
            "3 : Секунда:  7.19 , началось действие:  cooking on campfire\n",
            "4 : Секунда:  10.23 , началось действие:  dancing macarena\n",
            "5 : Секунда:  11.03 , началось действие:  dancing gangnam style\n",
            "6 : Секунда:  12.18 , началось действие:  playing cello\n",
            "7 : Секунда:  14.18 , началось действие:  clapping\n",
            "8 : Секунда:  15.23 , началось действие:  archery\n",
            "9 : Секунда:  19.09 , началось действие:  contact juggling\n",
            "10 : Секунда:  20.13 , началось действие:  tango dancing\n",
            "11 : Секунда:  25.20 , началось действие:  singing\n",
            "12 : Секунда:  26.04 , началось действие:  celebrating\n",
            "13 : Секунда:  29.01 , началось действие:  tap dancing\n",
            "14 : Секунда:  30.03 , началось действие:  sword fighting\n",
            "15 : Секунда:  31.22 , началось действие:  high kick\n",
            "16 : Секунда:  32.08 , началось действие:  jumpstyle dancing\n",
            "17 : Секунда:  33.11 , началось действие:  extinguishing fire\n",
            "18 : Секунда:  34.12 , началось действие:  dancing charleston\n",
            "19 : Секунда:  37.14 , началось действие:  drawing\n",
            "20 : Секунда:  40.02 , началось действие:  presenting weather forecast\n",
            "21 : Секунда:  47.23 , началось действие:  playing guitar\n",
            "22 : Секунда:  49.20 , началось действие:  juggling soccer ball\n",
            "23 : Секунда:  52.07 , началось действие:  shuffling cards\n",
            "24 : Секунда:  53.00 , началось действие:  eating burger\n",
            "25 : Секунда:  56.00 , началось действие:  swinging on something\n",
            "Video:  /content/video_data/video_ad11.mp4 with fps: 25\n",
            "1 : Секунда:  1.11 , началось действие:  throwing axe\n",
            "2 : Секунда:  11.11 , началось действие:  dancing gangnam style\n",
            "3 : Секунда:  12.23 , началось действие:  playing cello\n",
            "4 : Секунда:  19.18 , началось действие:  contact juggling\n",
            "5 : Секунда:  20.22 , началось действие:  giving or receiving award\n",
            "6 : Секунда:  25.20 , началось действие:  singing\n",
            "7 : Секунда:  26.04 , началось действие:  celebrating\n",
            "8 : Секунда:  32.10 , началось действие:  jumpstyle dancing\n",
            "9 : Секунда:  33.11 , началось действие:  extinguishing fire\n",
            "10 : Секунда:  35.05 , началось действие:  dancing charleston\n",
            "11 : Секунда:  42.17 , началось действие:  high kick\n",
            "12 : Секунда:  47.24 , началось действие:  playing guitar\n",
            "13 : Секунда:  49.20 , началось действие:  juggling soccer ball\n",
            "14 : Секунда:  53.11 , началось действие:  eating burger\n",
            "Number  43 :\n",
            "Video:  /content/video_data/video_ad19.mp4 with fps: 25\n",
            "1 : Секунда:  1.11 , началось действие:  driving car\n",
            "2 : Секунда:  3.05 , началось действие:  news anchoring\n",
            "3 : Секунда:  4.04 , началось действие:  cleaning windows\n",
            "4 : Секунда:  5.09 , началось действие:  trimming or shaving beard\n",
            "5 : Секунда:  7.11 , началось действие:  presenting weather forecast\n",
            "6 : Секунда:  9.23 , началось действие:  spray painting\n",
            "7 : Секунда:  11.19 , началось действие:  kissing\n",
            "8 : Секунда:  15.07 , началось действие:  bobsledding\n",
            "9 : Секунда:  16.06 , началось действие:  checking tires\n",
            "10 : Секунда:  19.15 , началось действие:  ironing\n",
            "11 : Секунда:  21.18 , началось действие:  singing\n",
            "12 : Секунда:  28.12 , началось действие:  ice fishing\n",
            "13 : Секунда:  31.12 , началось действие:  windsurfing\n",
            "14 : Секунда:  42.17 , началось действие:  diving cliff\n",
            "15 : Секунда:  54.19 , началось действие:  sailing\n",
            "16 : Секунда:  56.07 , началось действие:  kitesurfing\n",
            "Number  44 :\n",
            "Video:  /content/video_data/video_ad21.mp4 with fps: 23\n",
            "1 : Секунда:  1.13 , началось действие:  using segway\n",
            "2 : Секунда:  2.19 , началось действие:  cleaning windows\n",
            "3 : Секунда:  3.10 , началось действие:  carving pumpkin\n",
            "4 : Секунда:  4.19 , началось действие:  busking\n",
            "5 : Секунда:  5.18 , началось действие:  cleaning gutters\n",
            "6 : Секунда:  7.13 , началось действие:  barbequing\n",
            "7 : Секунда:  8.17 , началось действие:  catching fish\n",
            "8 : Секунда:  9.05 , началось действие:  feeding fish\n",
            "9 : Секунда:  13.19 , началось действие:  shredding paper\n",
            "10 : Секунда:  14.20 , началось действие:  setting table\n",
            "11 : Секунда:  17.14 , началось действие:  golf chipping\n",
            "12 : Секунда:  19.06 , началось действие:  hurdling\n",
            "13 : Секунда:  20.00 , началось действие:  parkour\n",
            "14 : Секунда:  21.00 , началось действие:  watering plants\n",
            "15 : Секунда:  23.08 , началось действие:  riding unicycle\n",
            "16 : Секунда:  25.11 , началось действие:  riding a bike\n",
            "17 : Секунда:  29.20 , началось действие:  robot dancing\n",
            "18 : Секунда:  31.05 , началось действие:  moving furniture\n",
            "19 : Секунда:  32.12 , началось действие:  cleaning floor\n",
            "20 : Секунда:  33.00 , началось действие:  climbing ladder\n",
            "21 : Секунда:  34.19 , началось действие:  pumping gas\n",
            "22 : Секунда:  35.17 , началось действие:  taking a shower\n",
            "23 : Секунда:  36.04 , началось действие:  cleaning toilet\n",
            "24 : Секунда:  39.06 , началось действие:  tying knot (not on a tie)\n",
            "25 : Секунда:  40.14 , началось действие:  cleaning shoes\n",
            "26 : Секунда:  41.14 , началось действие:  folding clothes\n",
            "27 : Секунда:  42.11 , началось действие:  carrying baby\n",
            "28 : Секунда:  43.09 , началось действие:  pull ups\n",
            "29 : Секунда:  44.16 , началось действие:  ironing\n",
            "30 : Секунда:  45.17 , началось действие:  checking tires\n",
            "31 : Секунда:  46.05 , началось действие:  massaging back\n",
            "32 : Секунда:  48.17 , началось действие:  using segway\n",
            "33 : Секунда:  50.17 , началось действие:  garbage collecting\n",
            "34 : Секунда:  52.00 , началось действие:  barbequing\n",
            "35 : Секунда:  53.09 , началось действие:  shredding paper\n",
            "36 : Секунда:  55.20 , началось действие:  sharpening knives\n",
            "37 : Секунда:  57.12 , началось действие:  bookbinding\n",
            "38 : Секунда:  66.09 , началось действие:  sharpening pencil\n",
            "39 : Секунда:  67.11 , началось действие:  using remote controller (not gaming)\n",
            "40 : Секунда:  68.18 , началось действие:  texting\n",
            "41 : Секунда:  69.09 , началось действие:  playing cello\n",
            "42 : Секунда:  70.17 , началось действие:  ripping paper\n",
            "43 : Секунда:  71.13 , началось действие:  using computer\n",
            "44 : Секунда:  77.13 , началось действие:  making pizza\n",
            "45 : Секунда:  79.04 , началось действие:  eating doughnuts\n",
            "46 : Секунда:  83.21 , началось действие:  waiting in line\n",
            "47 : Секунда:  91.05 , началось действие:  reading book\n",
            "48 : Секунда:  93.10 , началось действие:  setting table\n",
            "49 : Секунда:  94.10 , началось действие:  dining\n",
            "50 : Секунда:  95.00 , началось действие:  skateboarding\n",
            "51 : Секунда:  96.00 , началось действие:  riding a bike\n",
            "52 : Секунда:  97.09 , началось действие:  driving car\n",
            "53 : Секунда:  98.09 , началось действие:  welding\n",
            "54 : Секунда:  99.16 , началось действие:  playing cards\n",
            "55 : Секунда:  102.11 , началось действие:  hoverboarding\n",
            "56 : Секунда:  104.04 , началось действие:  unboxing\n",
            "57 : Секунда:  107.15 , началось действие:  cleaning windows\n",
            "58 : Секунда:  108.14 , началось действие:  playing accordion\n",
            "59 : Секунда:  109.21 , началось действие:  tobogganing\n",
            "60 : Секунда:  110.15 , началось действие:  catching fish\n",
            "61 : Секунда:  112.14 , началось действие:  punching bag\n",
            "Video:  /content/video_data/video_ad21.mp4 with fps: 23\n",
            "1 : Секунда:  1.13 , началось действие:  using segway\n",
            "2 : Секунда:  3.15 , началось действие:  carving pumpkin\n",
            "3 : Секунда:  4.19 , началось действие:  busking\n",
            "4 : Секунда:  9.11 , началось действие:  feeding fish\n",
            "5 : Секунда:  15.13 , началось действие:  cleaning windows\n",
            "6 : Секунда:  21.11 , началось действие:  watering plants\n",
            "7 : Секунда:  25.16 , началось действие:  riding a bike\n",
            "8 : Секунда:  33.07 , началось действие:  climbing ladder\n",
            "9 : Секунда:  36.08 , началось действие:  cleaning toilet\n",
            "10 : Секунда:  37.05 , началось действие:  cleaning pool\n",
            "11 : Секунда:  39.11 , началось действие:  tying knot (not on a tie)\n",
            "12 : Секунда:  42.22 , началось действие:  carrying baby\n",
            "13 : Секунда:  43.13 , началось действие:  tying tie\n",
            "14 : Секунда:  44.16 , началось действие:  ironing\n",
            "15 : Секунда:  46.06 , началось действие:  massaging back\n",
            "16 : Секунда:  53.11 , началось действие:  shredding paper\n",
            "17 : Секунда:  56.06 , началось действие:  sharpening knives\n",
            "18 : Секунда:  62.07 , началось действие:  playing accordion\n"
          ]
        }
      ],
      "source": [
        "from pathlib import Path\n",
        "key_video_moments = defaultdict(list)\n",
        "all_paths_vid = list(Path('/content/video_data').absolute().glob('*.mp4'))\n",
        "\n",
        "for i, path in enumerate(all_paths_vid):\n",
        "  print('Number ', i, ':')\n",
        "  video = str(path)\n",
        "  video_name = video.split('/')[-1]\n",
        "  VideoToMoments(video, 0.1)\n",
        "  if len(key_video_moments[video_name]) < 7:\n",
        "    key_video_moments[video_name] = []\n",
        "    VideoToMoments(video, 0.08)\n",
        "  elif len(key_video_moments[video_name]) > 20:\n",
        "    key_video_moments[video_name] = []\n",
        "    VideoToMoments(video, 0.23)"
      ]
    },
    {
      "cell_type": "code",
      "execution_count": null,
      "metadata": {
        "id": "OwDdePB7hgQY"
      },
      "outputs": [],
      "source": [
        "import json\n",
        "\n",
        "with open(\"/content/video_key_results_new.json\", \"w\") as outfile:\n",
        "    json.dump(key_video_moments, outfile, indent=4, sort_keys=False)\n",
        "!mv /content/video_key_results.json /content/drive/MyDrive"
      ]
    },
    {
      "cell_type": "code",
      "execution_count": null,
      "metadata": {
        "id": "LD9MFeOmGojo"
      },
      "outputs": [],
      "source": [
        "!mv /content/video_key_results_new.json /content/drive/MyDrive"
      ]
    },
    {
      "cell_type": "markdown",
      "metadata": {
        "id": "vAYK3ijmhf62"
      },
      "source": [
        "*Method №2: Key Frame Detector*"
      ]
    },
    {
      "cell_type": "code",
      "execution_count": null,
      "metadata": {
        "id": "cQa_yOeaj_qp"
      },
      "outputs": [],
      "source": [
        "!git clone https://github.com/joelibaceta/video-keyframe-detector.git\n",
        "%cd /content/video-keyframe-detector\n",
        "!pip install -v -e .\n",
        "!rm -rv /content/res/keyFrames"
      ]
    },
    {
      "cell_type": "code",
      "execution_count": null,
      "metadata": {
        "colab": {
          "base_uri": "https://localhost:8080/"
        },
        "id": "nDPCq3NY0rD7",
        "outputId": "c5aebc4e-9b1c-4132-ad3b-839613f2244d"
      },
      "outputs": [
        {
          "output_type": "stream",
          "name": "stdout",
          "text": [
            "/content\n"
          ]
        }
      ],
      "source": [
        "%cd .."
      ]
    },
    {
      "cell_type": "code",
      "execution_count": null,
      "metadata": {
        "id": "FCvZGW7k0OIl"
      },
      "outputs": [],
      "source": [
        "# Дополнение к коду: заменить на timeSpans.append(i/30) и verbose=True"
      ]
    },
    {
      "cell_type": "code",
      "execution_count": null,
      "metadata": {
        "colab": {
          "base_uri": "https://localhost:8080/"
        },
        "id": "GYyHnzL90Gxv",
        "outputId": "2054ba54-53c7-4a35-c04b-779b0f3e25f7"
      },
      "outputs": [
        {
          "output_type": "stream",
          "name": "stdout",
          "text": [
            "58.266666666666666\n",
            "60.2\n",
            "63.1\n",
            "75.06666666666666\n",
            "75.36666666666666\n",
            "81.7\n",
            "83.7\n",
            "92.46666666666667\n",
            "92.53333333333333\n"
          ]
        }
      ],
      "source": [
        "!python /content/video-keyframe-detector/cli.py -s /content/video_data/video_ad1.mp4 -d /content/res  -t 0.9"
      ]
    },
    {
      "cell_type": "markdown",
      "metadata": {
        "id": "olR62-YlkFHB"
      },
      "source": [
        "#### From raw video to music genre:"
      ]
    },
    {
      "cell_type": "code",
      "execution_count": null,
      "metadata": {
        "id": "ZpRnzEJwkMNh"
      },
      "outputs": [],
      "source": [
        "GENRES_LIST = (\n",
        "    'pop', 'jazz', 'rock', 'blues', 'classical', 'country',\n",
        "    'soul', 'rap', 'latin', 'folk', 'electro'\n",
        ")"
      ]
    },
    {
      "cell_type": "code",
      "execution_count": null,
      "metadata": {
        "colab": {
          "base_uri": "https://localhost:8080/"
        },
        "id": "wyVWwDw8Ez_G",
        "outputId": "e39cd970-a64e-472d-b0a1-e2768df9bb37"
      },
      "outputs": [
        {
          "name": "stdout",
          "output_type": "stream",
          "text": [
            "Cloning into 'music-genre-classification'...\n",
            "remote: Enumerating objects: 135, done.\u001b[K\n",
            "remote: Total 135 (delta 0), reused 0 (delta 0), pack-reused 135\u001b[K\n",
            "Receiving objects: 100% (135/135), 34.11 MiB | 7.67 MiB/s, done.\n",
            "Resolving deltas: 100% (64/64), done.\n"
          ]
        }
      ],
      "source": [
        "# ! git clone https://github.com/ruohoruotsi/LSTM-Music-Genre-Classification.git\n",
        "! git clone https://github.com/cetinsamet/music-genre-classification.git"
      ]
    },
    {
      "cell_type": "code",
      "execution_count": null,
      "metadata": {
        "colab": {
          "base_uri": "https://localhost:8080/"
        },
        "id": "Gcfi-EStEz8g",
        "outputId": "f3273b84-fcba-4b53-c5ff-58ca04e91012"
      },
      "outputs": [
        {
          "name": "stdout",
          "output_type": "stream",
          "text": [
            "      rock: \t77.78\t%\n",
            "       pop: \t11.11\t%\n",
            "     blues: \t5.56\t%\n",
            " classical: \t5.56\t%\n"
          ]
        }
      ],
      "source": [
        "# %cd /content/music-genre-classification/src\n",
        "\n",
        "!python3 get_genre.py /content/video_to_wav/music_orig_ad1.wav"
      ]
    },
    {
      "cell_type": "code",
      "execution_count": null,
      "metadata": {
        "colab": {
          "background_save": true
        },
        "id": "rxvyu1Dx8f_H",
        "outputId": "27a13411-1fa6-468a-b063-f45792c405c1"
      },
      "outputs": [],
      "source": [
        "from IPython.display import Audio, display\n",
        "\n",
        "display(Audio('/content/video_to_wav/music_orig_ad1.wav', autoplay=True))"
      ]
    },
    {
      "cell_type": "code",
      "execution_count": null,
      "metadata": {
        "id": "7QBaCNp1Jva4"
      },
      "outputs": [],
      "source": []
    },
    {
      "cell_type": "markdown",
      "metadata": {
        "id": "WoW3O2WHJv73"
      },
      "source": [
        "#### Using markup algorithms for midi data to collect lists of key moments by dynamics, tempo, change of register, and long pauses:"
      ]
    },
    {
      "cell_type": "markdown",
      "metadata": {
        "id": "BNyXDQbeazyQ"
      },
      "source": [
        "Velocity:"
      ]
    },
    {
      "cell_type": "code",
      "execution_count": null,
      "metadata": {
        "colab": {
          "base_uri": "https://localhost:8080/"
        },
        "id": "NaHmpEa4lAEI",
        "outputId": "4df4256a-ab30-4f7c-c83d-e43e9a020c57"
      },
      "outputs": [
        {
          "name": "stdout",
          "output_type": "stream",
          "text": [
            "music_orig_ad1.mid  :  [9.0, 26.0, 40.0, 109.75, 110.75, 117.25, 119.67, 124.33]\n",
            "music_orig_ad2.mid  :  [9.25, 13.25, 19.75, 23.75, 29.67, 40.25, 42.75, 55.25, 57.25, 65.25, 70.67, 73.5, 76.0, 81.5, 97.67, 101.75, 108.25]\n",
            "music_orig_ad3.mid  :  [2.25, 17.5, 36.0, 40.75, 43.0, 60.0, 62.5, 64.75, 67.67, 69.75, 72.67, 75.0, 78.75, 86.5, 90.5, 101.0, 103.67, 108.5]\n",
            "music_orig_ad4.mid  :  []\n",
            "music_orig_ad4.mid  :  [46.25, 62.33]\n",
            "music_orig_ad5.mid  :  [33.33, 57.33]\n",
            "music_orig_ad5.mid  :  [7.0, 11.75, 16.33, 28.33, 32.25, 36.5, 39.0, 45.25]\n",
            "music_orig_ad6.mid  :  [3.75, 6.25, 26.0]\n",
            "music_orig_ad6.mid  :  []\n",
            "music_orig_ad7.mid  :  [1.5, 4.0, 10.33, 10.67, 15.67, 16.0, 20.5, 21.25, 30.67, 32.0, 37.75, 40.67, 44.0, 50.33, 53.0, 62.67, 63.0, 67.33, 69.75, 75.5, 78.0, 82.75, 89.0, 93.5, 96.25, 100.5]\n",
            "music_orig_ad8.mid  :  [0.25, 9.75, 14.75, 16.0, 18.33, 39.25, 50.5, 52.25, 66.33, 73.5, 74.33, 85.33, 85.67]\n",
            "music_orig_ad9.mid  :  [30.25, 35.25, 38.33, 54.25, 59.0, 75.25, 75.5]\n",
            "music_orig_ad10.mid  :  []\n",
            "music_orig_ad10.mid  :  [0.25, 14.0, 21.25, 22.5, 25.0]\n",
            "music_orig_ad11.mid  :  [104.33, 109.75, 112.25]\n",
            "music_orig_ad11.mid  :  [0.0, 4.75, 8.0, 12.0, 18.25, 20.0, 22.33, 23.5, 26.25, 32.75, 39.67, 49.5, 53.75, 54.25, 59.0, 67.5, 85.25, 86.25, 89.0, 93.75, 97.5, 114.67]\n",
            "music_orig_ad12.mid  :  [0.25, 4.0, 23.0]\n",
            "music_orig_ad12.mid  :  [0.25, 24.5]\n",
            "music_orig_ad13.mid  :  [0.5, 4.0, 8.0, 12.0, 16.0, 21.25]\n",
            "music_orig_ad14.mid  :  [3.0, 6.5, 14.25, 20.75, 21.33, 29.0, 57.0, 65.0, 70.0, 77.0, 80.0, 93.25, 97.5]\n",
            "music_orig_ad15.mid  :  []\n",
            "music_orig_ad15.mid  :  [1.25, 5.0, 11.33, 17.75]\n",
            "music_orig_ad16.mid  :  [6.0, 14.75, 23.67, 24.0, 28.33, 33.25, 41.0, 42.5]\n",
            "music_orig_ad17.mid  :  [12.0, 39.25, 39.33, 61.5, 67.33, 69.0, 121.25, 121.33, 125.33]\n",
            "music_orig_ad18.mid  :  [1.33, 6.75, 9.5, 16.5, 20.0, 22.25, 24.0, 31.33, 32.33, 35.0, 42.0, 45.25, 48.67, 52.75, 53.67, 56.0, 56.5, 62.75, 65.0, 70.67, 73.0, 76.0, 81.0, 89.0, 97.67, 101.67, 104.0]\n",
            "music_orig_ad19.mid  :  []\n",
            "music_orig_ad19.mid  :  [0.25, 79.42, 82.33, 116.08]\n",
            "music_orig_ad20.mid  :  [19.25]\n",
            "music_orig_ad20.mid  :  [0.33, 4.67, 9.67, 12.33, 16.67, 48.0, 50.75, 54.0]\n",
            "music_orig_ad21.mid  :  [2.5, 22.25, 46.75, 62.0, 72.75, 88.5, 92.0, 129.5, 137.67, 140.0, 141.75, 147.5, 148.0, 153.5, 159.0, 167.25, 172.5, 183.25, 193.75]\n",
            "music_orig_ad22.mid  :  [0.25, 0.67, 22.5]\n",
            "music_orig_ad22.mid  :  [0.25, 27.0, 29.67, 32.33, 45.0]\n",
            "music_orig_ad23.mid  :  []\n",
            "music_orig_ad23.mid  :  [1.75, 5.67, 16.75, 19.0, 22.0, 25.0]\n",
            "music_orig_ad24.mid  :  [0.67, 12.75, 19.75, 20.0, 24.33, 32.75, 35.5, 35.75, 57.33, 60.0, 86.67]\n",
            "music_orig_ad25.mid  :  []\n",
            "music_orig_ad25.mid  :  [2.75, 5.33, 13.5, 21.0, 24.0, 31.5, 33.25, 37.33, 49.75, 56.5, 60.0, 66.0, 72.0, 74.75, 87.0]\n",
            "music_orig_ad26.mid  :  [26.75, 28.0, 36.75, 37.67, 53.25]\n",
            "music_orig_ad27.mid  :  []\n",
            "music_orig_ad27.mid  :  []\n",
            "music_orig_ad28.mid  :  [15.33, 22.75, 32.0, 45.75, 48.67, 57.5, 57.75, 87.5, 91.33, 103.5]\n",
            "music_orig_ad29.mid  :  [24.5, 38.75]\n",
            "music_orig_ad29.mid  :  [0.75, 2.75, 5.67, 14.0, 23.25, 29.67, 32.75, 33.75, 36.25, 45.75]\n",
            "music_orig_ad30.mid  :  [1.0, 4.0, 12.67, 18.75]\n",
            "music_orig_ad31.mid  :  []\n",
            "music_orig_ad31.mid  :  [1.67, 2.5, 11.67, 22.0]\n",
            "music_orig_ad32.mid  :  [5.0, 16.75, 25.5, 36.0, 39.75, 42.33, 46.25, 49.0, 56.5, 57.75, 61.67, 66.33, 69.33, 73.5, 83.25, 86.33]\n",
            "music_orig_ad33.mid  :  [26.5, 28.0, 49.0]\n",
            "music_orig_ad33.mid  :  [0.25, 37.25]\n",
            "music_orig_ad34.mid  :  [13.0, 22.75, 28.0, 31.25, 32.0, 45.67, 51.0]\n",
            "music_orig_ad35.mid  :  [4.75, 8.25, 14.25]\n",
            "music_orig_ad35.mid  :  [0.5, 4.75, 8.25, 9.33]\n",
            "music_orig_ad36.mid  :  [109.0, 110.25]\n",
            "music_orig_ad36.mid  :  [27.5, 33.0, 44.75, 45.33, 52.25, 54.75, 57.75, 63.0, 71.0, 76.67, 90.75, 92.33, 95.25, 98.75, 103.75, 104.0]\n",
            "music_orig_ad37.mid  :  [3.25, 6.75, 22.33, 24.25, 42.5, 47.75, 48.0, 53.75]\n",
            "music_orig_ad38.mid  :  [4.0, 31.5, 36.25, 38.0, 40.5, 43.25, 45.67, 54.75, 60.5, 63.33, 66.25, 83.0]\n",
            "music_orig_ad39.mid  :  [0.25, 10.25, 18.67]\n",
            "music_orig_ad39.mid  :  [0.25, 4.5]\n",
            "music_orig_ad40.mid  :  [23.25, 32.33, 40.67, 41.75, 45.33, 51.33, 56.0]\n",
            "music_orig_ad41.mid  :  [9.5, 12.0, 15.33, 16.0, 25.67, 26.67, 37.5, 40.0, 66.67, 71.0, 87.33, 93.75, 98.0, 104.0, 116.33]\n",
            "music_orig_ad42.mid  :  [30.67, 34.0, 48.25, 54.33, 56.0, 61.25, 63.0, 76.5, 81.25, 109.33, 112.0]\n",
            "music_orig_ad43.mid  :  []\n",
            "music_orig_ad43.mid  :  [0.33, 7.5, 10.25, 13.25, 15.67, 19.5, 22.75, 23.25, 26.5, 36.67, 40.5, 42.5, 45.75, 46.25]\n",
            "music_orig_ad44.mid  :  []\n",
            "music_orig_ad44.mid  :  []\n",
            "music_orig_ad45.mid  :  [0.5, 4.0, 6.33, 8.33, 18.75, 20.0, 44.0, 48.33]\n",
            "music_orig_ad46.mid  :  [1.0, 9.25, 15.0, 15.5, 33.0]\n",
            "music_orig_ad47.mid  :  []\n",
            "music_orig_ad47.mid  :  [7.5, 17.67, 20.5]\n",
            "music_orig_ad48.mid  :  [30.33]\n",
            "music_orig_ad48.mid  :  [18.0, 21.25, 24.5, 35.5]\n",
            "music_orig_ad49.mid  :  [2.67, 5.25, 7.75, 8.0, 10.5, 12.0, 17.5, 20.0, 29.5, 34.75, 36.0, 38.67, 40.0, 51.0, 53.5, 56.0, 59.33, 60.0, 66.25, 68.0]\n",
            "music_orig_ad50.mid  :  [1.5, 4.0, 6.33, 9.25, 12.67, 22.0]\n",
            "music_orig_ad51.mid  :  []\n",
            "music_orig_ad51.mid  :  [2.67, 10.25, 12.67]\n",
            "music_orig_ad52.mid  :  [2.67, 8.33]\n",
            "music_orig_ad52.mid  :  []\n",
            "music_orig_ad53.mid  :  []\n",
            "music_orig_ad53.mid  :  [0.0, 1.0, 4.5, 9.0, 12.0, 15.67, 16.25]\n",
            "music_orig_ad54.mid  :  [11.0, 16.0, 19.0]\n",
            "music_orig_ad54.mid  :  [2.67, 11.0, 24.0]\n",
            "music_orig_ad55.mid  :  [25.75]\n",
            "music_orig_ad55.mid  :  [0.33, 3.67, 7.0, 13.0]\n",
            "music_orig_ad56.mid  :  [8.75, 48.25]\n",
            "music_orig_ad56.mid  :  [0.33, 28.0, 32.33, 35.75, 39.33, 43.75, 46.5, 53.25]\n",
            "music_orig_ad57.mid  :  [0.33]\n",
            "music_orig_ad57.mid  :  [0.0, 5.75, 9.25, 11.75, 12.75, 21.25, 25.75]\n",
            "music_orig_ad58.mid  :  [21.25]\n",
            "music_orig_ad58.mid  :  [1.33, 9.0, 12.33, 23.0]\n",
            "music_orig_ad59.mid  :  [39.67, 40.0, 57.75]\n",
            "music_orig_ad59.mid  :  [0.25, 19.67, 23.5, 26.25]\n",
            "music_orig_ad60.mid  :  [0.0, 44.25, 56.75, 60.75, 77.75]\n",
            "music_orig_ad61.mid  :  [0.25, 3.5, 8.75, 15.75, 19.0, 29.0, 31.0, 33.67, 34.5]\n",
            "music_orig_ad62.mid  :  [4.25, 19.0, 23.5, 24.0]\n",
            "music_orig_ad63.mid  :  [1.5, 2.5, 11.75, 12.25]\n",
            "music_orig_ad64.mid  :  [6.0, 23.67, 24.0]\n",
            "music_orig_ad64.mid  :  []\n",
            "music_orig_ad65.mid  :  [2.0, 6.25, 15.5, 16.0, 20.67, 24.75]\n",
            "music_orig_ad66.mid  :  [5.0, 6.0, 18.25, 20.0, 23.0]\n",
            "music_orig_ad67.mid  :  [14.75, 16.0, 26.75]\n",
            "music_orig_ad67.mid  :  [1.0, 2.75, 7.0, 8.0, 11.0, 21.33, 23.75, 33.75]\n",
            "music_orig_ad68.mid  :  [0.33, 4.0, 14.0, 16.33, 25.5, 34.25]\n",
            "music_orig_ad69.mid  :  [19.67, 45.0]\n",
            "music_orig_ad69.mid  :  []\n",
            "music_orig_ad70.mid  :  []\n",
            "music_orig_ad70.mid  :  []\n",
            "music_orig_ad71.mid  :  [2.33, 5.5, 11.33, 17.67]\n",
            "music_orig_ad72.mid  :  [1.75, 4.0, 6.67, 15.75, 16.0, 20.67, 26.25, 29.33, 32.75, 36.25, 36.33, 43.25, 44.0, 48.0]\n",
            "music_orig_ad73.mid  :  [41.33, 53.0, 56.0]\n",
            "music_orig_ad73.mid  :  [0.25, 4.0, 7.25, 12.0, 14.5, 20.33]\n",
            "music_orig_ad74.mid  :  [16.75, 24.0, 28.5, 35.0, 35.25]\n",
            "music_orig_ad75.mid  :  []\n",
            "music_orig_ad75.mid  :  [0.25, 11.5]\n",
            "music_orig_ad76.mid  :  [5.67, 6.0, 11.33, 17.0]\n",
            "music_orig_ad77.mid  :  [2.0, 2.33, 15.67, 17.33, 25.5, 46.0, 50.75, 55.5, 71.25, 75.0, 79.5, 86.67, 87.0, 91.75, 97.0, 97.5, 104.25]\n",
            "music_orig_ad78.mid  :  [0.25, 1.25, 7.75, 22.75, 23.0, 39.0, 39.5, 43.33, 55.25, 56.25]\n",
            "music_orig_ad79.mid  :  []\n",
            "music_orig_ad79.mid  :  []\n",
            "music_orig_ad80.mid  :  [0.0, 1.0]\n",
            "music_orig_ad80.mid  :  [0.0, 2.0, 11.75, 12.0]\n",
            "music_orig_ad81.mid  :  [7.0, 8.5]\n",
            "music_orig_ad81.mid  :  [1.0, 9.33]\n",
            "music_orig_ad82.mid  :  [4.75, 5.25, 11.75, 18.25]\n",
            "music_orig_ad83.mid  :  [26.67]\n",
            "music_orig_ad83.mid  :  [0.0, 16.0, 20.0, 22.0, 26.5, 32.0, 36.0, 37.5]\n"
          ]
        }
      ],
      "source": [
        "import os\n",
        "import pandas as pd\n",
        "import json\n",
        "from pathlib import Path\n",
        "from music21 import converter, corpus, instrument, midi, note, chord, pitch\n",
        "import tqdm\n",
        "from collections import defaultdict\n",
        "\n",
        "def open_midi(midi_path, remove_drums):\n",
        "\n",
        "    mf = midi.MidiFile()\n",
        "    mf.open(midi_path)\n",
        "    mf.read()\n",
        "    mf.close()\n",
        "    if (remove_drums):\n",
        "        for i in range(len(mf.tracks)):\n",
        "            mf.tracks[i].events = [ev for ev in mf.tracks[i].events if ev.channel != 10]\n",
        "\n",
        "    return midi.translate.midiFileToStream(mf)\n",
        "\n",
        "mid_vel_orig = defaultdict(list)\n",
        "def path2vel(path_to_midi, max_vel=0.65):\n",
        "    path = path_to_midi.absolute()\n",
        "    curr = open_midi(str(path), True)\n",
        "\n",
        "    volsRTime = []\n",
        "    isOpen = False\n",
        "    waitTime = 2.0\n",
        "    st, end = 0, 0\n",
        "    for el in curr.flat.notes:\n",
        "        if not isOpen and el.volume.getRealized() > max_vel: # relative velocity\n",
        "            st = round(float(el.offset), 2)\n",
        "            end = round(float(el.offset), 2)\n",
        "            isOpen = True\n",
        "\n",
        "        elif isOpen and el.volume.getRealized() > max_vel:\n",
        "            end = round(float(el.offset), 2)\n",
        "\n",
        "        elif isOpen and el.volume.getRealized() <= max_vel:\n",
        "            if round(float(el.offset), 2) - end > waitTime:\n",
        "                if end == st or end == 0:\n",
        "                    volsRTime.append(st)\n",
        "                else:\n",
        "                    volsRTime.append(st)\n",
        "                    volsRTime.append(end)\n",
        "                isOpen = False\n",
        "                st, end = 0, 0\n",
        "    mid_vel_orig[str(path_to_midi).split('/')[-1]] = volsRTime\n",
        "\n",
        "    print(str(path_to_midi).split('/')[-1], ' : ', volsRTime)\n",
        "    return path, volsRTime\n",
        "\n",
        "for idx in range(1, 84):\n",
        "    _, res = path2vel(Path('/content/video_to_midi/music_orig_ad'+str(idx)+'.mid'), max_vel=0.6)\n",
        "    if len(res) < 4:\n",
        "      mid_vel_orig['music_orig_ad'+str(idx)+'.mid'] = []\n",
        "      path2vel(Path('/content/video_to_midi/music_orig_ad'+str(idx)+'.mid'), max_vel=0.4)\n",
        "\n",
        "\n",
        "with open(\"/content/mid_to_vel_orig.json\", \"w\") as outfile:\n",
        "    json.dump(mid_vel_orig, outfile, indent=4, sort_keys=False)\n",
        "!cp /content/mid_to_vel_orig.json /content/drive/MyDrive"
      ]
    },
    {
      "cell_type": "code",
      "execution_count": null,
      "metadata": {
        "colab": {
          "base_uri": "https://localhost:8080/"
        },
        "id": "xl87soSzvhRa",
        "outputId": "60f6edba-3911-4b36-ac95-cc415d6d890e"
      },
      "outputs": [
        {
          "name": "stdout",
          "output_type": "stream",
          "text": [
            "music_gen_ad1.midi  :  [2.0, 52.25, 80.42, 92.92, 95.33, 99.92, 106.42]\n",
            "music_gen_ad2.midi  :  [2.33, 4.0, 17.0, 24.5, 84.75, 87.0, 89.67, 91.67, 94.0, 103.5, 111.0, 129.58, 148.08, 151.08, 155.08, 170.5, 180.75, 183.42, 186.0, 193.5, 198.42, 198.75]\n",
            "music_gen_ad3.midi  :  [11.67, 16.25, 20.25, 21.92, 26.25, 28.83, 33.33, 35.17, 44.83, 58.17, 219.5, 405.42, 417.08, 420.08, 457.42, 460.17, 488.5, 491.83, 494.67, 518.25, 538.75, 542.75]\n",
            "music_gen_ad5.midi  :  [2.0, 2.67, 5.0, 14.75, 18.0, 32.0, 34.75, 39.0, 44.0, 47.5, 58.5, 61.0]\n",
            "music_gen_ad6.midi  :  [0.0, 4.33, 6.25, 8.33, 38.58, 60.42, 87.42, 100.67, 127.0, 130.0]\n",
            "music_gen_ad8.midi  :  [1.75, 8.5, 11.67, 17.0, 25.25, 31.33, 43.5, 47.0, 51.0, 53.33, 56.25, 64.5, 93.5, 97.0, 101.0, 103.5, 105.75, 112.67, 113.75]\n",
            "music_gen_ad9.midi  :  [1.0, 3.5, 9.0, 9.25, 31.33, 35.58, 41.08, 42.08, 47.0, 49.67, 52.67, 57.33, 72.42, 72.92, 126.92, 137.17, 146.17, 192.0, 196.33, 197.83, 234.83, 253.08, 264.67, 268.33, 271.0, 273.83, 275.83, 286.33]\n",
            "music_gen_ad10.midi  :  [2.33, 3.25, 8.33, 105.5, 112.5, 113.5, 146.25, 221.08, 226.08, 233.08, 247.58, 254.25, 257.0, 393.0, 398.58, 400.92, 451.58]\n",
            "music_gen_ad11.midi  :  [1.75, 5.67, 14.5, 23.0, 23.5, 26.5, 35.25, 44.83, 60.75, 66.25]\n",
            "music_gen_ad12.midi  :  [1.75, 4.0, 7.33, 38.92, 61.67, 66.42, 72.67, 107.58, 111.08, 111.58, 117.08, 119.58, 135.08, 135.83]\n",
            "music_gen_ad13.midi  :  [1.67, 3.0, 6.33, 8.0, 12.0, 13.75, 26.92, 27.92, 30.92, 32.92, 52.33, 52.92, 55.58, 67.92, 71.33, 77.58, 89.92]\n",
            "music_gen_ad14.midi  :  [2.25, 4.0, 36.5, 37.25, 43.0, 44.5, 55.0, 62.83, 65.25, 66.0, 169.17, 174.42, 177.42, 179.92, 191.17]\n",
            "music_gen_ad15.midi  :  [3.0, 8.25, 15.0, 18.75, 32.25, 73.42, 92.42, 98.25, 109.92, 120.42]\n",
            "music_gen_ad16.midi  :  [2.75, 8.0, 16.75, 22.5, 38.0, 40.0, 45.75, 86.25, 114.58, 117.58, 122.58, 136.5, 179.42, 194.0, 196.0, 199.42, 202.17, 203.42, 211.17, 260.42, 262.92, 451.33]\n",
            "music_gen_ad17.midi  :  [3.0, 5.5, 9.25, 12.5, 17.25, 97.5, 104.0, 152.25, 201.0, 203.5, 268.5, 269.75, 278.75, 285.25, 288.5, 321.25, 325.17]\n",
            "music_gen_ad18.midi  :  [6.0, 9.75, 48.0, 55.08, 56.83, 59.08, 66.75, 70.75, 172.67, 175.17, 181.75, 205.83, 213.08, 220.67, 221.92, 228.42, 230.08, 238.42, 383.58, 384.83, 400.67, 405.67, 410.42, 516.75, 549.67, 554.42, 554.67, 578.33, 578.83, 583.08, 583.75, 591.67, 625.25]\n",
            "music_gen_ad19.midi  :  [10.5, 14.75, 16.0, 19.25, 24.0, 28.0, 118.08, 119.75, 161.08, 163.67, 177.08, 220.5, 226.75, 256.83, 275.25, 277.75, 291.25, 315.0, 326.42, 329.92, 333.92]\n",
            "music_gen_ad20.midi  :  [7.25, 104.17, 108.42, 110.17, 117.67, 118.67, 135.25, 135.67, 148.42, 152.42, 152.92, 156.08, 253.83, 280.75, 305.75, 314.58, 318.42, 344.42, 350.08, 361.75, 384.42, 385.75, 407.58, 410.08, 474.75, 482.58, 486.33, 489.0, 501.67]\n",
            "music_gen_ad21.midi  :  [1.33, 2.25, 7.75, 10.75, 13.0, 16.75, 53.0, 56.17, 61.67, 62.17, 65.67, 71.25, 74.75, 101.25, 111.0, 117.67, 121.67]\n",
            "music_gen_ad22.midi  :  [2.25, 4.0, 7.0, 39.0, 42.0, 132.75, 140.33, 144.58, 169.08, 170.33, 178.58, 189.33, 197.83, 251.58, 253.33, 255.58]\n",
            "music_gen_ad23.midi  :  [2.67, 4.0, 14.58, 246.58]\n",
            "music_gen_ad24.midi  :  [2.25, 5.25, 10.67, 12.0, 21.67, 25.0, 31.0, 32.0, 41.67, 44.0, 48.5, 49.0, 62.25, 63.0, 65.75, 68.58, 87.33, 107.58, 108.83, 120.58, 136.08, 139.08]\n",
            "music_gen_ad25.midi  :  [1.67, 4.0, 31.67, 33.92, 82.17, 83.67, 101.17, 101.75, 104.67, 106.08, 112.42, 115.67, 127.58, 128.58, 146.58, 147.92, 173.58, 175.25, 178.25, 179.25, 201.83, 202.25, 216.25, 218.0, 220.25, 233.42, 238.75]\n",
            "music_gen_ad26.midi  :  [12.33, 17.33, 184.17, 184.92, 230.17, 449.67, 451.92, 453.42, 472.67, 474.0, 542.17, 543.42, 546.67]\n",
            "music_gen_ad27.midi  :  [4.33, 6.5, 52.0]\n",
            "music_gen_ad27.midi  :  [1.0, 52.0, 99.08, 109.5, 118.5, 121.25, 135.5, 153.25, 157.67, 161.0, 164.0, 179.17, 192.92]\n",
            "music_gen_ad28.midi  :  [2.25, 8.25, 12.0, 33.25, 34.5, 40.17, 85.25, 138.75, 141.08, 156.75, 159.08, 161.17, 162.42, 190.67]\n",
            "music_gen_ad29.midi  :  [11.75, 14.58, 20.08, 29.58, 56.58, 72.92, 88.83, 142.58, 145.08, 147.25, 148.5, 152.33, 153.33, 156.33, 160.33, 168.33, 178.33, 179.58, 220.67, 253.17, 274.42, 275.25, 304.5, 320.83, 417.17, 417.75]\n",
            "music_gen_ad30.midi  :  [2.33, 4.75, 8.0, 12.0, 297.75, 306.75, 542.08, 546.58, 622.17, 624.5, 628.0, 638.0, 644.0, 647.25, 651.25, 656.5, 660.0, 664.67, 668.5, 674.25, 675.0]\n",
            "music_gen_ad31.midi  :  [8.33, 9.0]\n",
            "music_gen_ad31.midi  :  [3.0, 9.33, 17.92, 22.92, 46.42, 59.42, 87.42, 90.42, 225.58, 228.58, 234.58, 239.25, 241.58, 245.33, 250.25, 252.25, 262.75, 267.67, 271.0, 275.0, 279.0, 286.75, 289.0, 325.25]\n",
            "music_gen_ad32.midi  :  [4.25, 43.75, 110.67, 110.92, 114.17, 115.17, 117.92, 145.58, 145.83, 167.08, 193.33, 203.67, 211.92, 229.08, 235.67, 239.67, 240.33, 242.67, 245.67, 249.83, 251.92, 276.17, 288.0, 292.92, 313.67]\n",
            "music_gen_ad33.midi  :  [1.75, 5.5, 8.0, 15.25, 23.83, 25.5, 91.58, 95.67, 156.42, 157.75, 162.17, 166.75, 173.67, 214.33, 216.83, 226.58, 270.58, 272.33, 295.17, 297.67, 305.67]\n",
            "music_gen_ad34.midi  :  [2.0, 4.0, 10.5, 18.75, 20.0, 26.0, 31.33, 65.5, 69.75, 108.0, 158.67, 162.75, 165.33, 191.67]\n",
            "music_gen_ad35.midi  :  [16.17, 16.42, 19.67, 26.17, 31.17, 50.33, 55.83, 62.42, 65.42, 75.42]\n",
            "music_gen_ad36.midi  :  [7.0, 12.75, 60.08, 61.58, 106.25, 107.75, 112.0, 115.33, 117.0, 156.42, 161.33, 167.83]\n",
            "music_gen_ad37.midi  :  [4.0, 102.42, 104.17, 107.67, 108.42, 144.33, 180.33, 204.17, 231.33, 233.67, 234.17]\n",
            "music_gen_ad38.midi  :  [3.0, 28.75, 32.25, 38.5, 44.25, 96.58, 99.33, 104.58, 105.33, 107.67, 113.33, 113.83, 145.75, 152.42, 173.17, 187.17, 198.0, 202.42, 203.42, 272.17, 278.17, 289.33, 292.42, 296.08, 304.08, 307.33, 336.92]\n",
            "music_gen_ad39.midi  :  [2.67, 4.0, 7.5, 48.92, 53.67, 56.0, 65.33, 85.42, 102.0, 106.5, 127.67, 128.0]\n",
            "music_gen_ad40.midi  :  [2.5, 5.5, 19.0, 21.25, 55.5, 60.42, 60.75, 63.42, 68.08, 77.58, 81.5, 86.0, 87.25, 93.08, 95.25, 98.92, 101.92, 104.58, 267.42, 276.42, 280.42, 310.58, 311.08, 338.08, 350.58]\n",
            "music_gen_ad41.midi  :  [8.5, 10.25, 65.67, 70.67, 116.92, 124.42, 133.17, 138.67, 139.67, 195.92, 197.42, 201.17, 289.25, 303.58, 339.33, 439.83, 443.83, 613.5, 615.75, 625.25, 628.5, 1103.0, 1120.33]\n",
            "music_gen_ad42.midi  :  [13.83, 23.0, 72.25, 78.0, 82.75, 92.75, 97.67, 116.33, 160.83, 176.75, 205.17, 205.5, 235.75, 239.08, 253.83, 257.08, 263.08, 278.75, 283.08]\n",
            "music_gen_ad43.midi  :  [4.5, 8.0, 94.42, 94.92, 134.42, 140.75, 334.83, 340.08, 341.17, 345.83, 427.67]\n",
            "music_gen_ad44.midi  :  [3.0, 4.33, 9.33, 10.75, 13.5, 26.33, 29.42, 39.08, 48.75, 56.42, 58.42, 142.92, 144.67, 163.92, 164.25, 169.58, 243.75, 273.42, 276.92]\n",
            "music_gen_ad45.midi  :  [4.67, 38.75, 40.5, 54.67, 55.33, 74.17, 78.5, 123.33, 126.0, 128.33, 142.0, 146.0, 153.0, 153.83, 156.5, 157.75, 160.5]\n",
            "music_gen_ad46.midi  :  [15.75, 21.17, 104.58, 131.83, 164.08, 165.33]\n",
            "music_gen_ad47.midi  :  [2.25, 8.0, 11.5, 20.5, 37.67, 41.33, 48.33, 92.17, 95.67, 108.42, 118.42, 124.75, 179.42]\n",
            "music_gen_ad48.midi  :  [3.5, 4.25, 29.0, 33.83, 49.58, 58.92, 61.67, 64.42]\n",
            "music_gen_ad49.midi  :  [33.42, 33.92, 38.08, 55.92, 65.17, 70.5, 102.0, 144.58, 152.25, 171.42, 181.08, 184.17, 188.67, 191.33, 193.83, 194.08]\n",
            "music_gen_ad50.midi  :  [2.25, 4.0, 46.67, 89.92, 92.42, 107.17, 110.5, 125.42, 133.67, 161.42]\n"
          ]
        }
      ],
      "source": [
        "mid_vel_gen = defaultdict(list)\n",
        "def path2vel(path_to_midi, max_vel=0.65):\n",
        "    path = path_to_midi.absolute()\n",
        "    curr = open_midi(str(path), True)\n",
        "\n",
        "    volsRTime = []\n",
        "    isOpen = False\n",
        "    waitTime = 2.0\n",
        "    st, end = 0, 0\n",
        "    for el in curr.flat.notes:\n",
        "        if not isOpen and el.volume.getRealized() > max_vel: # relative velocity\n",
        "            st = round(float(el.offset), 2)\n",
        "            end = round(float(el.offset), 2)\n",
        "            isOpen = True\n",
        "\n",
        "        elif isOpen and el.volume.getRealized() > max_vel:\n",
        "            end = round(float(el.offset), 2)\n",
        "\n",
        "        elif isOpen and el.volume.getRealized() <= max_vel:\n",
        "            if round(float(el.offset), 2) - end > waitTime:\n",
        "                if end == st or end == 0:\n",
        "                    volsRTime.append(st)\n",
        "                else:\n",
        "                    volsRTime.append(st)\n",
        "                    volsRTime.append(end)\n",
        "                isOpen = False\n",
        "                st, end = 0, 0\n",
        "    new_name = 'music_gen_'+str(path_to_midi).split('/')[-1].split('_')[1]+'.midi'\n",
        "    mid_vel_gen[new_name] = volsRTime\n",
        "\n",
        "    print(new_name, ' : ', volsRTime)\n",
        "    return path, volsRTime\n",
        "\n",
        "for idx in range(1, 51):\n",
        "    try:\n",
        "      _, res = path2vel(Path('/content/base_velocity_8_max_velocity_24/video_ad'+str(idx)+'_genre_pop_sentiment_1.midi'), max_vel=0.6)\n",
        "      if len(res) < 4:\n",
        "        mid_vel_gen['music_orig_ad'+str(idx)+'.mid'] = []\n",
        "        path2vel(Path('/content/base_velocity_8_max_velocity_24/video_ad'+str(idx)+'_genre_pop_sentiment_1.midi'), max_vel=0.4)\n",
        "    except:\n",
        "      pass\n",
        "\n",
        "with open(\"/content/mid_to_vel_gen.json\", \"w\") as outfile:\n",
        "    json.dump(mid_vel_gen, outfile, indent=4, sort_keys=False)\n",
        "!cp /content/mid_to_vel_gen.json /content/drive/MyDrive"
      ]
    },
    {
      "cell_type": "markdown",
      "metadata": {
        "id": "j7yYzMMTbHHz"
      },
      "source": [
        "Tempo:"
      ]
    },
    {
      "cell_type": "code",
      "execution_count": null,
      "metadata": {
        "id": "XrvYoRy2a_OG"
      },
      "outputs": [],
      "source": [
        "! git clone  https://github.com/CPJKU/madmom.git\n",
        "%cd madmom\n",
        "! git submodule update --init --remote\n",
        "! python setup.py develop --user"
      ]
    },
    {
      "cell_type": "code",
      "execution_count": null,
      "metadata": {
        "colab": {
          "base_uri": "https://localhost:8080/"
        },
        "id": "uN8XeZJ0ezZJ",
        "outputId": "b4e13a0e-d984-4eb7-ddcd-b8ddfe295b3f"
      },
      "outputs": [
        {
          "name": "stdout",
          "output_type": "stream",
          "text": [
            "/content/madmom\n"
          ]
        }
      ],
      "source": [
        "%cd madmom"
      ]
    },
    {
      "cell_type": "code",
      "execution_count": null,
      "metadata": {
        "colab": {
          "base_uri": "https://localhost:8080/"
        },
        "id": "qWbkhNEJkftC",
        "outputId": "5320e529-9bca-4d95-c3be-f7dc84521499"
      },
      "outputs": [
        {
          "name": "stdout",
          "output_type": "stream",
          "text": [
            "/content\n"
          ]
        }
      ],
      "source": [
        "%cd .."
      ]
    },
    {
      "cell_type": "code",
      "execution_count": null,
      "metadata": {
        "id": "NfNVc9HeLboA"
      },
      "outputs": [],
      "source": [
        "from madmom.features.beats import RNNBeatProcessor, BeatTrackingProcessor, DBNBeatTrackingProcessor\n",
        "from madmom.features.tempo import TempoEstimationProcessor\n",
        "import numpy as np\n",
        "import json\n",
        "\n",
        "from collections import defaultdict\n",
        "\n",
        "wav_to_tempo_orig = defaultdict(list)\n",
        "def wav_to_tempo(basepath, audio_name, threshold = 0.07):\n",
        "  audio_file = basepath + audio_name\n",
        "  # beat_activations = RNNBeatProcessor()(audio_file)\n",
        "  # beat_processor = BeatTrackingProcessor(fps=100)\n",
        "  # beats = beat_processor(beat_activations)\n",
        "\n",
        "  # tempo_changes = []\n",
        "  # previous_beat_duration = None\n",
        "  # for i in range(1, len(beats)):\n",
        "  #     beat_duration = beats[i] - beats[i - 1]\n",
        "  #     # print(beat_duration)\n",
        "  #     if previous_beat_duration is None or (not np.isclose(beat_duration, previous_beat_duration, rtol=0.05) and not np.isclose(beats[i], tempo_changes[-1], rtol=0.1)):\n",
        "  #         tempo_changes.append(beats[i])\n",
        "  #         previous_beat_duration = beat_duration\n",
        "\n",
        "  act = RNNBeatProcessor()(audio_file)\n",
        "  beat_processor = DBNBeatTrackingProcessor(fps=100)\n",
        "  beats = beat_processor(act)\n",
        "  tempos = 60. / np.diff(beats)\n",
        "\n",
        "  tempo_changes = []\n",
        "  # threshold = 0.07\n",
        "  for i in range(1, len(tempos)):\n",
        "      relative_change = np.abs((tempos[i] - tempos[i - 1]) / tempos[i - 1])\n",
        "      if relative_change > threshold:\n",
        "          if not tempo_changes or beats[i] - tempo_changes[-1] > 1:\n",
        "              tempo_changes.append(beats[i])\n",
        "  print(audio_name, ' : ', tempo_changes)\n",
        "  wav_to_tempo_orig[audio_name] = tempo_changes\n",
        "\n",
        "for idx in range(1, 84):\n",
        "    wav_to_tempo('/content/video_to_wav/', 'music_orig_ad'+str(idx)+'.wav')\n",
        "    if len(wav_to_tempo_orig['music_orig_ad'+str(idx)+'.wav']) < 4:\n",
        "      wav_to_tempo_orig['music_orig_ad'+str(idx)+'.wav'] = []\n",
        "      wav_to_tempo('/content/video_to_wav/', 'music_orig_ad'+str(idx)+'.wav', 0.05)\n",
        "\n",
        "\n",
        "with open(\"/content/wav_to_tempo_orig_new.json\", \"w\") as outfile:\n",
        "    json.dump(wav_to_tempo_orig, outfile, indent=4, sort_keys=False)\n",
        "!cp /content/wav_to_tempo_orig_new.json /content/drive/MyDrive"
      ]
    },
    {
      "cell_type": "markdown",
      "metadata": {
        "id": "1dga5CFnEB92"
      },
      "source": [
        "Tempo from previous algo based on midi format features:"
      ]
    },
    {
      "cell_type": "code",
      "execution_count": null,
      "metadata": {
        "colab": {
          "base_uri": "https://localhost:8080/"
        },
        "id": "B98JenokHGa2",
        "outputId": "79ab2c1b-c4bb-46ac-9abd-1eae578622ec"
      },
      "outputs": [
        {
          "name": "stdout",
          "output_type": "stream",
          "text": [
            "Looking in indexes: https://pypi.org/simple, https://us-python.pkg.dev/colab-wheels/public/simple/\n",
            "Collecting mido\n",
            "  Downloading mido-1.2.10-py2.py3-none-any.whl (51 kB)\n",
            "\u001b[2K     \u001b[90m━━━━━━━━━━━━━━━━━━━━━━━━━━━━━━━━━━━━━━━━\u001b[0m \u001b[32m51.1/51.1 kB\u001b[0m \u001b[31m7.0 MB/s\u001b[0m eta \u001b[36m0:00:00\u001b[0m\n",
            "\u001b[?25hInstalling collected packages: mido\n",
            "Successfully installed mido-1.2.10\n"
          ]
        }
      ],
      "source": [
        "! pip install mido"
      ]
    },
    {
      "cell_type": "code",
      "execution_count": null,
      "metadata": {
        "colab": {
          "base_uri": "https://localhost:8080/"
        },
        "id": "YkkJ40fxbKoW",
        "outputId": "d11e29a2-60ef-42da-f43d-b6fdd52a9dfd"
      },
      "outputs": [
        {
          "name": "stdout",
          "output_type": "stream",
          "text": [
            "music_orig_ad1.mid  :  [0.0, 4.5, 6.05, 17.63, 35.19, 36.92, 39.77, 41.12, 46.2, 48.25, 50.95, 61.64, 70.01, 72.1, 74.82, 79.14, 81.7, 82.98, 85.62, 91.58, 95.29, 97.66]\n",
            "music_orig_ad2.mid  :  [2.29, 4.6, 7.77, 11.93, 22.17, 24.32, 26.72, 30.25, 32.47, 40.05, 42.42, 44.57, 53.7, 55.69]\n",
            "music_orig_ad3.mid  :  [28.98, 31.24, 33.54, 41.25, 42.65, 43.88, 46.52, 48.5, 51.76, 52.89]\n",
            "music_orig_ad4.mid  :  [0.0, 4.42, 6.9, 8.42, 10.66, 15.75, 17.24, 18.48, 23.12, 26.65, 29.44]\n",
            "music_orig_ad5.mid  :  [0.0, 3.29, 5.94, 7.97, 10.41, 13.2, 21.46, 24.15, 25.42]\n",
            "music_orig_ad6.mid  :  [0.0, 6.03, 9.1, 11.45, 12.94]\n",
            "music_orig_ad7.mid  :  [51.15]\n",
            "music_orig_ad8.mid  :  [0.0, 1.08, 2.18, 3.23, 34.25]\n",
            "music_orig_ad9.mid  :  [0.0, 3.0, 42.62, 44.24, 45.4]\n",
            "music_orig_ad10.mid  :  [0.0, 3.44, 6.17, 8.22, 14.1, 15.44]\n",
            "music_orig_ad11.mid  :  [11.43, 12.57, 15.95, 17.8, 19.12, 24.76, 26.77, 28.79, 34.36, 36.48, 38.75, 39.75, 41.51, 44.53]\n",
            "music_orig_ad12.mid  :  [0.67, 3.13, 4.81, 11.15, 12.21]\n",
            "music_orig_ad13.mid  :  [0.0, 3.66, 5.09, 8.31, 10.15, 11.65, 13.79, 15.51, 16.64, 18.76]\n",
            "music_orig_ad14.mid  :  [0.0, 1.08, 2.6, 6.04, 9.17, 10.85, 14.13, 17.78, 20.04, 21.36, 27.94, 29.47, 31.95, 33.55, 34.96, 36.97, 38.47]\n",
            "music_orig_ad15.mid  :  [0.6, 2.75, 7.02, 8.09, 9.34, 10.73, 11.73]\n",
            "music_orig_ad16.mid  :  [0.0, 2.96, 6.39, 8.9, 22.45]\n",
            "music_orig_ad17.mid  :  [0.0, 4.11, 5.96, 19.06, 20.86, 36.44, 39.93, 42.29, 44.91, 47.65, 49.43, 52.86, 53.89, 55.72]\n",
            "music_orig_ad18.mid  :  [0.0, 2.83, 46.84, 48.72, 50.5, 51.76, 53.78]\n",
            "music_orig_ad19.mid  :  [0.0, 35.65, 56.09]\n",
            "music_orig_ad20.mid  :  [0.0, 1.96, 3.01, 4.51, 16.0, 17.35, 21.47, 27.92]\n",
            "music_orig_ad21.mid  :  [11.69, 14.0, 17.59, 19.15, 43.07, 46.63, 49.66, 55.05, 56.32, 59.03, 62.41, 63.45]\n",
            "music_orig_ad22.mid  :  [6.05, 8.31, 14.18, 15.98, 19.6, 20.86]\n",
            "music_orig_ad23.mid  :  [0.73, 2.11, 3.29, 5.39, 7.39]\n",
            "music_orig_ad24.mid  :  [17.54, 23.66, 26.07, 33.26, 35.12, 40.82]\n",
            "music_orig_ad25.mid  :  [0.0, 1.39, 6.32, 10.25, 14.24, 16.05, 17.88, 23.84, 25.94, 27.88, 30.85, 34.19, 35.98, 41.36, 44.96, 46.59]\n",
            "music_orig_ad26.mid  :  [0.0, 2.1, 4.07, 5.45, 7.25, 8.3, 12.87, 14.22, 17.95, 21.4, 22.54, 25.66]\n",
            "music_orig_ad27.mid  :  [0.0, 2.32, 3.82]\n",
            "music_orig_ad28.mid  :  [0.88, 4.22, 7.03, 11.68, 13.14, 16.02, 17.51, 21.02, 22.8, 26.05, 28.14, 30.4, 31.8, 34.63, 36.98, 39.6, 41.01, 43.53, 44.73, 45.95, 48.24, 50.45, 52.22, 54.07, 55.69, 56.74, 58.49, 60.69]\n",
            "music_orig_ad29.mid  :  [3.87, 5.22, 6.54, 9.14, 14.09, 16.11, 22.78]\n",
            "music_orig_ad30.mid  :  [0.0, 1.74, 2.9, 6.2]\n",
            "music_orig_ad31.mid  :  [0.98, 3.03, 4.07, 5.82, 6.93, 8.57, 10.97]\n",
            "music_orig_ad32.mid  :  [0.66, 6.01, 7.67, 29.85, 31.63, 33.06, 38.15, 40.07, 41.4, 42.86, 45.52, 53.81, 54.94, 57.53]\n",
            "music_orig_ad33.mid  :  [0.0, 2.15, 5.26, 6.95, 8.08, 10.41, 18.32, 25.64, 26.9]\n",
            "music_orig_ad34.mid  :  [1.79, 3.82, 12.65, 14.17]\n",
            "music_orig_ad35.mid  :  [0.0, 2.22, 3.81, 6.69, 8.91]\n",
            "music_orig_ad36.mid  :  [0.0, 12.49, 15.53, 17.61, 19.84, 21.25, 24.73, 32.49, 35.54, 38.32, 43.66, 45.55, 47.43, 51.2, 54.06]\n",
            "music_orig_ad37.mid  :  [0.82, 4.31, 5.83, 9.35, 10.92, 14.42, 16.02, 26.18]\n",
            "music_orig_ad38.mid  :  [0.0, 1.03]\n",
            "music_orig_ad39.mid  :  [0.0, 3.66, 5.01, 13.36]\n",
            "music_orig_ad40.mid  :  [0.0, 10.21, 16.8, 22.84, 24.22, 27.45]\n",
            "music_orig_ad41.mid  :  [3.82, 5.65, 32.54, 34.52, 38.66, 40.73, 42.77, 43.98, 44.99, 46.93, 48.99, 51.08, 53.15, 54.36, 56.17, 57.27]\n",
            "music_orig_ad42.mid  :  [4.42, 7.28, 19.9, 21.61, 41.32, 45.64, 46.68, 54.72]\n",
            "music_orig_ad43.mid  :  [5.95, 7.6, 9.47, 11.07, 12.53]\n",
            "music_orig_ad44.mid  :  [0.0, 2.33, 9.05]\n",
            "music_orig_ad45.mid  :  [0.0, 2.16, 3.22, 4.89, 11.29, 12.81, 17.04, 20.93, 29.57]\n",
            "music_orig_ad46.mid  :  [2.43, 3.95, 8.19, 9.9, 11.92, 14.63, 17.85, 19.75, 25.68, 27.66]\n",
            "music_orig_ad47.mid  :  [0.0, 2.43, 4.8, 9.86, 12.13]\n",
            "music_orig_ad48.mid  :  [0.0, 1.54, 6.37, 8.36, 10.44, 17.88, 21.23]\n",
            "music_orig_ad49.mid  :  [0.0, 33.49]\n",
            "music_orig_ad50.mid  :  [3.7, 6.09, 7.62, 12.06, 13.12]\n",
            "music_orig_ad51.mid  :  [0.0, 2.7, 4.87, 6.0, 7.55, 12.93]\n",
            "music_orig_ad52.mid  :  [0.0]\n",
            "music_orig_ad53.mid  :  [0.0, 1.13, 5.6, 6.95, 8.97, 10.65]\n",
            "music_orig_ad54.mid  :  [0.88, 2.54, 5.25]\n",
            "music_orig_ad55.mid  :  [0.0, 2.61, 6.65, 8.12]\n",
            "music_orig_ad56.mid  :  [17.7, 19.27, 20.6, 22.82, 24.11, 25.75]\n",
            "music_orig_ad57.mid  :  [0.0, 2.06, 3.43, 6.28, 7.62, 9.44, 10.49, 12.08]\n",
            "music_orig_ad58.mid  :  [0.0, 2.43, 5.01, 10.57, 12.19]\n",
            "music_orig_ad59.mid  :  [0.0, 14.31, 18.13, 19.85, 22.82, 26.99]\n",
            "music_orig_ad60.mid  :  [0.0, 1.95]\n",
            "music_orig_ad61.mid  :  [0.0]\n",
            "music_orig_ad62.mid  :  [0.82]\n",
            "music_orig_ad63.mid  :  [0.77, 5.95, 11.87, 13.7, 16.32, 19.54, 20.97, 22.43, 23.72, 25.67, 28.28]\n",
            "music_orig_ad64.mid  :  []\n",
            "music_orig_ad65.mid  :  [0.0, 13.6]\n",
            "music_orig_ad66.mid  :  []\n",
            "music_orig_ad67.mid  :  [2.17, 3.8, 10.33, 11.87, 17.77]\n",
            "music_orig_ad68.mid  :  [4.35, 5.94, 10.44, 11.59, 13.09]\n",
            "music_orig_ad69.mid  :  [0.94, 23.94]\n",
            "music_orig_ad70.mid  :  [0.0, 1.71, 3.39, 6.38]\n",
            "music_orig_ad71.mid  :  [1.61, 3.88, 8.55, 10.14, 11.16, 13.51]\n",
            "music_orig_ad72.mid  :  [0.0, 3.57, 4.7, 7.23, 8.95, 15.76, 21.27, 24.7]\n",
            "music_orig_ad73.mid  :  [0.0, 4.91, 18.09, 20.47, 26.46, 28.37]\n",
            "music_orig_ad74.mid  :  [0.0, 1.06, 2.72, 8.41, 10.47]\n",
            "music_orig_ad75.mid  :  [0.0, 1.93, 3.35, 5.78]\n",
            "music_orig_ad76.mid  :  [0.6, 2.57, 4.75, 10.5]\n",
            "music_orig_ad77.mid  :  [29.61, 31.18, 38.27, 39.73, 42.0, 49.07, 50.29, 58.02]\n",
            "music_orig_ad78.mid  :  [0.0, 1.1, 5.54, 27.75]\n",
            "music_orig_ad79.mid  :  [0.0]\n",
            "music_orig_ad80.mid  :  [0.0, 1.59, 2.85, 5.88, 8.27]\n",
            "music_orig_ad81.mid  :  [0.0, 4.23, 5.94]\n",
            "music_orig_ad82.mid  :  [0.0, 9.85, 13.75]\n",
            "music_orig_ad83.mid  :  [1.09, 3.1, 7.92, 9.96, 12.22, 15.98, 17.97, 19.56, 22.67]\n"
          ]
        }
      ],
      "source": [
        "import mido\n",
        "\n",
        "def get_tempo_changes(midifile, threshold=30):\n",
        "    tempo_changes = []\n",
        "    current_tempo = 120\n",
        "    current_bpm = 120\n",
        "    current_time = 0\n",
        "    ticks_per_beat = midifile.ticks_per_beat\n",
        "    # print('ticks_per_beat: ', ticks_per_beat)\n",
        "    notes_duration = []\n",
        "\n",
        "    for track in midifile.tracks:\n",
        "        time_ticks = 0\n",
        "        last_tick = 0\n",
        "        for msg in track:\n",
        "#             print(msg.type)\n",
        "#             if msg.type == 'control_change':\n",
        "#                 print(msg)\n",
        "            time_ticks += msg.time\n",
        "            if msg.type == 'set_tempo':\n",
        "                new_tempo = msg.tempo\n",
        "\n",
        "                note_ticks = time_ticks - last_tick\n",
        "                note_duration = note_ticks / ticks_per_beat / 2\n",
        "                if note_duration == 0:\n",
        "                    continue\n",
        "                notes_duration.append(note_duration)\n",
        "\n",
        "                new_bpm = mido.tempo2bpm(new_tempo)\n",
        "                if current_tempo is not None and abs(new_bpm-current_bpm) > threshold:\n",
        "                    if new_bpm > current_bpm:\n",
        "                        # tempo_changes.append((note_duration, new_bpm, 'faster'))\n",
        "                        tempo_changes.append(note_duration)\n",
        "                    else:\n",
        "                        # tempo_changes.append((note_duration, new_bpm, 'slower'))\n",
        "                        tempo_changes.append(note_duration)\n",
        "                current_bpm = new_bpm\n",
        "                current_tempo = new_tempo\n",
        "                current_time += note_duration #mido.tick2second(note_duration, midifile.ticks_per_beat, current_tempo)\n",
        "                last_tick = time_ticks\n",
        "\n",
        "            elif msg.type == 'note_on' or msg.type == 'note_off':\n",
        "                if current_tempo is None:\n",
        "                    continue\n",
        "                note_ticks = time_ticks - last_tick\n",
        "                if ticks_per_beat <= 384:\n",
        "                    c = 2\n",
        "                elif ticks_per_beat == 192:\n",
        "                    c = 4\n",
        "                else:\n",
        "                    c = 1.2\n",
        "                note_duration = note_ticks / ticks_per_beat / c\n",
        "                if note_duration == 0:\n",
        "                    continue\n",
        "                notes_duration.append(note_duration)\n",
        "                if len(notes_duration) >= 10:\n",
        "                    avg_note_duration = sum(notes_duration[-10:]) / 10\n",
        "                    new_tempo = 60*1000 / avg_note_duration #* 100\n",
        "                    new_bpm = mido.tempo2bpm(new_tempo)\n",
        "#                     if tempo_changes:\n",
        "#                         print(sum(notes_duration[:-10]) - tempo_changes[-1][0])\n",
        "                    if current_tempo is not None and abs(new_bpm-current_bpm) > threshold and (len(tempo_changes) == 0 or sum(notes_duration[:-10]) - tempo_changes[-1] > 1):\n",
        "                        if new_bpm > current_bpm:\n",
        "                            # tempo_changes.append((sum(notes_duration[:-10]), new_bpm, 'faster'))\n",
        "                            tempo_changes.append(float(\"%.2f\" % sum(notes_duration[:-10])))\n",
        "                        else:\n",
        "                            # tempo_changes.append((sum(notes_duration[:-10]), new_bpm, 'slower'))\n",
        "                            tempo_changes.append(float(\"%.2f\" % sum(notes_duration[:-10])))\n",
        "                    current_bpm = new_bpm\n",
        "                    current_tempo = new_tempo\n",
        "                current_time += note_duration #mido.tick2second(note_duration, midifile.ticks_per_beat, current_tempo)\n",
        "                last_tick = time_ticks\n",
        "    return tempo_changes\n",
        "\n",
        "# path = '/content/video_to_midi/music_orig_ad10.mid'\n",
        "# mid = mido.MidiFile(path)\n",
        "# tempo_changes = get_tempo_changes(mid, 55)\n",
        "# # print(f'Duration (pretty midi method): {pretty_midi.PrettyMIDI(path).get_end_time():.2f}')\n",
        "\n",
        "# for i, (tick, bpm, speed) in enumerate(tempo_changes):\n",
        "#     print(f\"{i}: Tempo changed at second {tick:.2f} with new tempo {bpm:.2f}, became {speed}\")\n",
        "\n",
        "mid_to_tempo_orig = defaultdict(list)\n",
        "\n",
        "for idx in range(1, 84):\n",
        "    path = '/content/video_to_midi/music_orig_ad'+str(idx)+'.mid'\n",
        "    mid = mido.MidiFile(path)\n",
        "    tempo_changes = get_tempo_changes(mid, 55)\n",
        "    if len(tempo_changes) > 30:\n",
        "      tempo_changes = get_tempo_changes(mid, 65)\n",
        "    if len(tempo_changes) < 5:\n",
        "      tempo_changes = get_tempo_changes(mid, 35)\n",
        "    print('music_orig_ad'+str(idx)+'.mid',' : ', tempo_changes)\n",
        "    mid_to_tempo_orig['music_orig_ad'+str(idx)+'.mid'] = tempo_changes\n",
        "\n",
        "with open(\"/content/mid_to_tempo_orig.json\", \"w\") as outfile:\n",
        "    json.dump(mid_to_tempo_orig, outfile, indent=4, sort_keys=False)\n",
        "!cp /content/mid_to_tempo_orig.json /content/drive/MyDrive"
      ]
    },
    {
      "cell_type": "code",
      "execution_count": null,
      "metadata": {
        "id": "YrhSZiLgZ3yH"
      },
      "outputs": [],
      "source": []
    },
    {
      "cell_type": "markdown",
      "metadata": {
        "id": "yIpEdqxiylvF"
      },
      "source": [
        "### Generated MIDI with velocity accents to MP3:\n"
      ]
    },
    {
      "cell_type": "code",
      "execution_count": null,
      "metadata": {
        "id": "xIsJBTMRlOBv"
      },
      "outputs": [],
      "source": [
        "! unzip /content/drive/MyDrive/key_moments_base_velocity_8_max_velocity_24.zip -d /content/"
      ]
    },
    {
      "cell_type": "code",
      "execution_count": null,
      "metadata": {
        "id": "Qx9Ugtmgletz"
      },
      "outputs": [],
      "source": [
        "! pip install midi2audio"
      ]
    },
    {
      "cell_type": "code",
      "execution_count": null,
      "metadata": {
        "colab": {
          "base_uri": "https://localhost:8080/"
        },
        "id": "Msq8TJHolyoa",
        "outputId": "869da847-5172-4013-cb9f-fdf7dfac032d"
      },
      "outputs": [
        {
          "name": "stdout",
          "output_type": "stream",
          "text": [
            "Processing triggers for man-db (2.9.1-1) ...\n",
            "Processing triggers for mime-support (3.64ubuntu1) ...\n"
          ]
        }
      ],
      "source": [
        "!sudo apt-get install fluidsynth"
      ]
    },
    {
      "cell_type": "code",
      "execution_count": null,
      "metadata": {
        "id": "DbZcSYwAvUcB"
      },
      "outputs": [],
      "source": [
        "!mkdir music_vel"
      ]
    },
    {
      "cell_type": "markdown",
      "metadata": {
        "id": "u_OhddkSdxM2"
      },
      "source": [
        "Only piano version:"
      ]
    },
    {
      "cell_type": "code",
      "execution_count": null,
      "metadata": {
        "id": "I1apkWUOyP_X"
      },
      "outputs": [],
      "source": [
        "from midi2audio import FluidSynth\n",
        "from pathlib import Path\n",
        "\n",
        "all_paths_mid = list(Path('/content/base_velocity_8_max_velocity_24').absolute().glob('*.midi'))\n",
        "\n",
        "for i, path in enumerate(all_paths_mid):\n",
        "  items = str(path).split('/')[-1].split('.')[0].split('_')\n",
        "  isSentiment = items[-1]\n",
        "  vid_num = items[1]\n",
        "  if isSentiment == '1':\n",
        "    audio_file = '/content/music_vel/' + 'music_vel_' + vid_num + '.wav'\n",
        "    fs = FluidSynth()\n",
        "    fs.midi_to_audio(path, audio_file)"
      ]
    },
    {
      "cell_type": "markdown",
      "metadata": {
        "id": "eNLm-qz0dzs5"
      },
      "source": [
        "Converting from midi but with several instruments playing:"
      ]
    },
    {
      "cell_type": "code",
      "execution_count": null,
      "metadata": {
        "colab": {
          "base_uri": "https://localhost:8080/"
        },
        "id": "BK-kgvgIgO7q",
        "outputId": "24528f70-5ffb-4b70-8dd9-7dc90b2e062e"
      },
      "outputs": [
        {
          "name": "stdout",
          "output_type": "stream",
          "text": [
            "Looking in indexes: https://pypi.org/simple, https://us-python.pkg.dev/colab-wheels/public/simple/\n",
            "Collecting pyfluidsynth\n",
            "  Downloading pyFluidSynth-1.3.2-py3-none-any.whl (19 kB)\n",
            "Requirement already satisfied: numpy in /usr/local/lib/python3.10/dist-packages (from pyfluidsynth) (1.22.4)\n",
            "Installing collected packages: pyfluidsynth\n",
            "Successfully installed pyfluidsynth-1.3.2\n"
          ]
        }
      ],
      "source": [
        "# ! pip install pyfluidsynth"
      ]
    },
    {
      "cell_type": "code",
      "execution_count": null,
      "metadata": {
        "colab": {
          "base_uri": "https://localhost:8080/"
        },
        "id": "fYiQPu0ahoUx",
        "outputId": "df29f0bc-ae5b-4ed8-f5a1-62d39ff437a2"
      },
      "outputs": [
        {
          "name": "stdout",
          "output_type": "stream",
          "text": [
            "python3: can't open file '/content/setup.py': [Errno 2] No such file or directory\n"
          ]
        }
      ],
      "source": [
        "# ! python setup.py install"
      ]
    },
    {
      "cell_type": "code",
      "execution_count": null,
      "metadata": {
        "id": "Ut73GBjygtIz"
      },
      "outputs": [],
      "source": [
        "! unzip /content/drive/MyDrive/FluidR3_GM.zip -d /content"
      ]
    },
    {
      "cell_type": "code",
      "execution_count": null,
      "metadata": {
        "id": "fRLjRShFh78F"
      },
      "outputs": [],
      "source": [
        "! pip install midi2audio"
      ]
    },
    {
      "cell_type": "code",
      "execution_count": null,
      "metadata": {
        "id": "71IOE1ljumDd"
      },
      "outputs": [],
      "source": [
        "from midi2audio import FluidSynth\n",
        "# import fluidsynth\n",
        "from pathlib import Path\n",
        "\n",
        "all_paths_mid = list(Path('/content/base_velocity_8_max_velocity_24').absolute().glob('*.midi'))[:1]\n",
        "\n",
        "for i, path in enumerate(all_paths_mid):\n",
        "  items = str(path).split('/')[-1].split('.')[0].split('_')\n",
        "  isSentiment = items[-1]\n",
        "  vid_num = items[1]\n",
        "  if isSentiment == '1':\n",
        "    audio_file = '/content/' + 'Gmusic_vel_' + vid_num + '.wav'\n",
        "    # fs = FluidSynth('/content/derive/MyDrive/SGM-v2.01-NicePianosGuitarsBass-V1.2.sf2')\n",
        "    fs = FluidSynth('/content/Naturally Decaying B-Guitars.sf2')\n",
        "    # fs = FluidSynth()\n",
        "    fs.midi_to_audio(path, audio_file)\n",
        "\n",
        "    # fs = fluidsynth.Synth()\n",
        "    # fs.start(driver = 'dsound')  # use DirectSound driver\n",
        "    # sfid = fs.sfload('/content/FluidR3_GM.sf2')\n",
        "    # fs.program_select(0, sfid, 0, 0)\n",
        "    # fs.midi_to_audio(path, audio_file)"
      ]
    },
    {
      "cell_type": "code",
      "execution_count": null,
      "metadata": {
        "id": "ukxIbgbTou7Y"
      },
      "outputs": [],
      "source": [
        "from IPython.display import Audio, display\n",
        "\n",
        "display(Audio('/content/Gmusic_vel_ad6.wav', autoplay=True))"
      ]
    },
    {
      "cell_type": "code",
      "execution_count": null,
      "metadata": {
        "id": "kon-r8sKpzsG"
      },
      "outputs": [],
      "source": [
        "display(Audio('/content/music_vel_ad6.wav', autoplay=True))"
      ]
    },
    {
      "cell_type": "markdown",
      "metadata": {
        "id": "mRqH-IvY32Si"
      },
      "source": [
        "### Evaluating generated data:\n"
      ]
    },
    {
      "cell_type": "markdown",
      "metadata": {
        "id": "6pkXL7US37NV"
      },
      "source": [
        "1. Comparing midis / audio (original, generated with MT with additional features, generated with PMT - input similar to REMI format)\n",
        "- metric evaluation\n",
        "- evaluation by listening and comparing\n",
        "\n",
        "2. Comparing lists of key events in video and lists of events in corresponding midi (and list of events in generated midi) with my metric\n",
        "\n",
        "\n",
        "JSON files with labeled data:\n",
        "- video_key_results_manual.json (moments from video, manually detected)\n",
        "- video_key_results_new.json (moments from video)\n",
        "- mid_to_vel_orig.json (velocity moments from original music)\n",
        "- mid_to_vel_gen.json (velocity moments from generated music)\n",
        "- wav_to_tempo_orig.json (tempo moments from original music)\n",
        "- mid_to_tempo_orig.json (tempo moments from original music with mid algo)\n",
        "- wav_to_tempo_gen.json (tempo moments from generated music)\n"
      ]
    },
    {
      "cell_type": "code",
      "execution_count": null,
      "metadata": {
        "id": "CmKhos8y32lK"
      },
      "outputs": [],
      "source": [
        "from collections import defaultdict\n",
        "\n",
        "def compliance_score(video_moments, music_moments, alpha=1.0, offset=0.2, eps=0.001, version='MAX', symmetric=False):\n",
        "  VandM = 0\n",
        "  VnotM = 0\n",
        "  MnotV = 0\n",
        "\n",
        "  i, j = 0, 0\n",
        "  video_moment_matches = [0] * len(video_moments)\n",
        "  while i < len(video_moments) and j < len(music_moments):\n",
        "    if video_moments[i] - offset <= music_moments[j] <= video_moments[i] + eps:\n",
        "      j += 1\n",
        "      VandM += 1\n",
        "      video_moment_matches[i] = 1\n",
        "      if symmetric:\n",
        "        i += 1\n",
        "    elif video_moments[i] - offset > music_moments[j]:\n",
        "      MnotV += 1\n",
        "      j += 1\n",
        "    else:\n",
        "      if video_moment_matches[i] != 1:\n",
        "        VnotM += 1\n",
        "      i += 1\n",
        "\n",
        "  MnotV += max(0, len(music_moments)-j-1)\n",
        "  VnotM += max(0, len(video_moments)-i-1)\n",
        "  # print(VnotM, MnotV, VandM)\n",
        "  if version == 'SUM':\n",
        "    res = VandM / (alpha * VnotM + (1/alpha) * MnotV + VandM)\n",
        "  elif version == 'MAX':\n",
        "    res = VandM / (max(alpha * VnotM, (1/alpha) * MnotV) + VandM)\n",
        "  else:\n",
        "    return 'not correct version'\n",
        "  return res\n"
      ]
    },
    {
      "cell_type": "code",
      "execution_count": null,
      "metadata": {
        "id": "GhVO6k2oOA04"
      },
      "outputs": [],
      "source": [
        "import json\n",
        "\n",
        "with open('/content/video_key_results_new.json') as json_file:\n",
        "    video_key_results = json.load(json_file)\n",
        "\n",
        "with open('/content/mid_to_vel_orig.json') as json_file:\n",
        "    mid_to_vel_orig = json.load(json_file)\n",
        "\n",
        "with open('/content/mid_to_vel_gen.json') as json_file:\n",
        "    mid_to_vel_gen = json.load(json_file)\n",
        "\n",
        "with open('/content/wav_to_tempo_orig_new.json') as json_file:\n",
        "    wav_to_tempo_orig = json.load(json_file)\n",
        "\n",
        "with open('/content/mid_to_tempo_orig.json') as json_file:\n",
        "    mid_to_tempo_orig = json.load(json_file)"
      ]
    },
    {
      "cell_type": "markdown",
      "metadata": {
        "id": "t5SEdNjojMwF"
      },
      "source": [
        "Comparing original manually found events from the video (for a small part of the dataset) and selected by the final algorithm (based on action recognition using CNN):"
      ]
    },
    {
      "cell_type": "code",
      "execution_count": null,
      "metadata": {
        "id": "YvOskNE-jMWC"
      },
      "outputs": [],
      "source": [
        "# разметка вручную\n",
        "res_sum = []\n",
        "res_max = []\n",
        "for r, m in zip(vid_real, vid_my):\n",
        "  # print(len(r))\n",
        "  res_sum.append(compliance_score(r, m,\n",
        "                                alpha=1.0,\n",
        "                                offset=1.9,\n",
        "                                eps=1.9,\n",
        "                                version='SUM', symmetric=True))\n",
        "  res_max.append(compliance_score(r, m,\n",
        "                                alpha=1.0,\n",
        "                                offset=1.9,\n",
        "                                eps=1.9,\n",
        "                                version='MAX', symmetric=True))\n",
        "print(res_sum)\n",
        "print(res_max)\n",
        "print(sum(res_sum)/len(res_sum), sum(res_max)/len(res_max))"
      ]
    },
    {
      "cell_type": "code",
      "source": [
        "res_sum = []\n",
        "res_max = []\n",
        "for r, m in zip(vid_real, vid_pixel):\n",
        "  # print(len(r))\n",
        "  res_sum.append(compliance_score(r, m,\n",
        "                                alpha=1.0,\n",
        "                                offset=0.9,\n",
        "                                eps=0.9,\n",
        "                                version='SUM', symmetric=True))\n",
        "  res_max.append(compliance_score(r, m,\n",
        "                                alpha=1.0,\n",
        "                                offset=0.9,\n",
        "                                eps=0.9,\n",
        "                                version='MAX', symmetric=True))\n",
        "print(res_sum)\n",
        "print(res_max)\n",
        "print(sum(res_sum)/len(res_sum), sum(res_max)/len(res_max))"
      ],
      "metadata": {
        "id": "rv7UMj20Pf4Q"
      },
      "execution_count": null,
      "outputs": []
    },
    {
      "cell_type": "markdown",
      "metadata": {
        "id": "5A3B9FvQk4d_"
      },
      "source": [
        "Comparing velocity events from the original background tones and detected key events from the video and searching for the value of the hyperparameter:"
      ]
    },
    {
      "cell_type": "code",
      "execution_count": null,
      "metadata": {
        "id": "ChKxbuKbMIc1"
      },
      "outputs": [],
      "source": [
        "# video_key_results, mid_to_vel_orig\n",
        "CM_sum = []\n",
        "CM_max = []\n",
        "\n",
        "for video_name in video_key_results:\n",
        "  music_name = 'music_orig_'+video_name.split('.')[0].split('_')[-1]+'.mid'\n",
        "  if music_name in mid_to_vel_orig:\n",
        "    cm_value_sum = compliance_score(video_key_results[video_name],\n",
        "                                    mid_to_vel_orig[music_name],\n",
        "                                    alpha=1.7,\n",
        "                                    offset=2.5,\n",
        "                                    eps=0.15,\n",
        "                                    version='SUM')\n",
        "    cm_value_max = compliance_score(video_key_results[video_name],\n",
        "                                    mid_to_vel_orig[music_name],\n",
        "                                    alpha=1.4,\n",
        "                                    offset=2.0,\n",
        "                                    eps=0.15,\n",
        "                                    version='MAX')\n",
        "    CM_sum.append(cm_value_sum)\n",
        "    CM_max.append(cm_value_max)\n",
        "\n",
        "print('Average CM (SUM) for Video moments VS Velocity moments (original): ', sum(CM_sum)/len(CM_sum))\n",
        "print('Average CM (MAX) for Video moments VS Velocity moments (original): ', sum(CM_max)/len(CM_max))"
      ]
    },
    {
      "cell_type": "markdown",
      "metadata": {
        "id": "RutSOcWukPia"
      },
      "source": [
        "Comparing velocity events from generated songs and detected key events from the video:"
      ]
    },
    {
      "cell_type": "code",
      "execution_count": null,
      "metadata": {
        "id": "uRZCdP1IkO97"
      },
      "outputs": [],
      "source": [
        "# video_key_results, mid_to_vel_gen\n",
        "CM_sum = []\n",
        "CM_max = []\n",
        "\n",
        "for video_name in video_key_results:\n",
        "  music_name = 'music_gen_'+video_name.split('.')[0].split('_')[-1]+'.midi'\n",
        "  if music_name in mid_to_vel_gen:\n",
        "    cm_value_sum = compliance_score(video_key_results[video_name],\n",
        "                                    mid_to_vel_gen[music_name],\n",
        "                                    alpha=1.3,\n",
        "                                    offset=3.5,\n",
        "                                    eps=0.15,\n",
        "                                    version='SUM')\n",
        "    cm_value_max = compliance_score(video_key_results[video_name],\n",
        "                                    mid_to_vel_gen[music_name],\n",
        "                                    alpha=1.4,\n",
        "                                    offset=2.0,\n",
        "                                    eps=0.05,\n",
        "                                    version='MAX')\n",
        "    print(cm_value_sum)\n",
        "    CM_sum.append(cm_value_sum)\n",
        "    CM_max.append(cm_value_max)\n",
        "\n",
        "print('Average CM (SUM) for Video moments VS Velocity moments (generated): ', sum(CM_sum)/len(CM_sum))\n",
        "print('Average CM (MAX) for Video moments VS Velocity moments (generated): ', sum(CM_max)/len(CM_max))"
      ]
    },
    {
      "cell_type": "markdown",
      "metadata": {
        "id": "Ty6GTSxORroU"
      },
      "source": [
        "Comparing velocity events from the original background tones and generated songs:"
      ]
    },
    {
      "cell_type": "code",
      "execution_count": null,
      "metadata": {
        "id": "ooYwIRt1RsJh"
      },
      "outputs": [],
      "source": [
        "# mid_to_vel_orig, mid_to_vel_gen\n",
        "CM_sum = []\n",
        "CM_max = []\n",
        "\n",
        "for name in mid_to_vel_orig:\n",
        "  music_name = 'music_gen_'+name.split('_')[-1]+'i'\n",
        "  if music_name in mid_to_vel_gen:\n",
        "    cm_value_sum = compliance_score(mid_to_vel_orig[name],\n",
        "                                    mid_to_vel_gen[music_name],\n",
        "                                    alpha=1,\n",
        "                                    offset=2.0,\n",
        "                                    eps=0.05,\n",
        "                                    version='SUM', symmetric= True)\n",
        "    cm_value_max = compliance_score(mid_to_vel_orig[name],\n",
        "                                    mid_to_vel_gen[music_name],\n",
        "                                    alpha=1,\n",
        "                                    offset=2.0,\n",
        "                                    eps=0.05,\n",
        "                                    version='MAX')\n",
        "    CM_sum.append(cm_value_sum)\n",
        "    CM_max.append(cm_value_max)\n",
        "\n",
        "print('Average CM (SUM) for Velocity moments (original) VS Velocity moments (generated): ', sum(CM_sum)/len(CM_sum))\n",
        "print('Average CM (MAX) for Velocity moments (original) VS Velocity moments (generated): ', sum(CM_max)/len(CM_max))"
      ]
    },
    {
      "cell_type": "code",
      "execution_count": null,
      "metadata": {
        "id": "deYqAy3jRrQA"
      },
      "outputs": [],
      "source": []
    },
    {
      "cell_type": "markdown",
      "metadata": {
        "id": "_eDJb8ZpmfRZ"
      },
      "source": [
        "Comparing tempo events from the original background tones and detected key events from the video and searching for the value of the hyperparameter:"
      ]
    },
    {
      "cell_type": "code",
      "execution_count": null,
      "metadata": {
        "id": "4in9gPolRG1T"
      },
      "outputs": [],
      "source": [
        "# video_key_results, wav_to_tempo_orig\n",
        "CM_sum = []\n",
        "CM_max = []\n",
        "\n",
        "for video_name in video_key_results:\n",
        "  music_name = 'music_orig_'+video_name.split('.')[0].split('_')[-1]+'.wav'\n",
        "  if music_name in wav_to_tempo_orig:\n",
        "    cm_value_sum = compliance_score(video_key_results[video_name],\n",
        "                                    wav_to_tempo_orig[music_name],\n",
        "                                    alpha=1.5,\n",
        "                                    offset=2.5,\n",
        "                                    eps=1.5,\n",
        "                                    version='SUM')\n",
        "    cm_value_max = compliance_score(video_key_results[video_name],\n",
        "                                    wav_to_tempo_orig[music_name],\n",
        "                                    alpha=1.4,\n",
        "                                    offset=2.0,\n",
        "                                    eps=0.05,\n",
        "                                    version='MAX')\n",
        "    print(cm_value_sum)\n",
        "    if cm_value_sum != 0:\n",
        "      CM_sum.append(cm_value_sum)\n",
        "      CM_max.append(cm_value_max)\n",
        "\n",
        "print('Average CM (SUM) for Video moments VS Tempo moments (original, dl algo): ', sum(CM_sum)/len(CM_sum))\n",
        "print('Average CM (MAX) for Video moments VS Tempo moments (original, dl algo): ', sum(CM_max)/len(CM_max))"
      ]
    },
    {
      "cell_type": "code",
      "execution_count": null,
      "metadata": {
        "id": "8ydbFge8v7wl"
      },
      "outputs": [],
      "source": [
        "# video_key_results, wav_to_tempo_orig\n",
        "# здесь посчитаны с последней версией алгоритма\n",
        "CM_sum = []\n",
        "CM_max = []\n",
        "\n",
        "for video_name in video_key_results:\n",
        "  music_name = 'music_orig_'+video_name.split('.')[0].split('_')[-1]+'.wav'\n",
        "  if music_name in wav_to_tempo_orig:\n",
        "    cm_value_sum = compliance_score(video_key_results[video_name],\n",
        "                                    wav_to_tempo_orig[music_name],\n",
        "                                    alpha=1.2,\n",
        "                                    offset=2.5,\n",
        "                                    eps=0.5,\n",
        "                                    version='SUM')\n",
        "    cm_value_max = compliance_score(video_key_results[video_name],\n",
        "                                    wav_to_tempo_orig[music_name],\n",
        "                                    alpha=1.4,\n",
        "                                    offset=2.0,\n",
        "                                    eps=0.05,\n",
        "                                    version='MAX')\n",
        "    CM_sum.append(cm_value_sum)\n",
        "    CM_max.append(cm_value_max)\n",
        "\n",
        "print('Average CM (SUM) for Video moments VS Tempo moments (original, dl algo): ', sum(CM_sum)/len(CM_sum))\n",
        "print('Average CM (MAX) for Video moments VS Tempo moments (original, dl algo): ', sum(CM_max)/len(CM_max))"
      ]
    },
    {
      "cell_type": "code",
      "execution_count": null,
      "metadata": {
        "id": "RLpJtXvJm16O"
      },
      "outputs": [],
      "source": [
        "# key_video_moments = [1.11, 2.21, 5.15, 9.06, 11.12, 13.03, 14.17, 16.23, 20.0, 23.18, 25.24, 30.14, 34.06, 35.03, 39.07, 40.17, 41.16, 43.06]\n",
        "# key_music_moments_tempo = [0.63, 0.99, 1.38, 2.19, 2.97, 4.45, 6.31, 17.59, 19.46, 28.81, 32.19, 39.67, 43.81, 48.29, 53.44]\n",
        "\n",
        "# print(compliance_score(key_video_moments, key_music_moments_tempo, alpha=1.4, offset=2.0, eps=0.05, version='SUM'))\n",
        "# print(compliance_score(key_video_moments, key_music_moments_tempo, alpha=1.4, offset=2.0, eps=0.05, version='MAX'))\n"
      ]
    },
    {
      "cell_type": "markdown",
      "metadata": {
        "id": "UQzG8zSCSNY_"
      },
      "source": [
        "Comparing tempo events from the original background tones and detected key events from the video:"
      ]
    },
    {
      "cell_type": "code",
      "execution_count": null,
      "metadata": {
        "id": "ng571SyvnUtp"
      },
      "outputs": [],
      "source": [
        "# video_key_results, mid_to_tempo_orig\n",
        "CM_sum = []\n",
        "CM_max = []\n",
        "\n",
        "for video_name in video_key_results:\n",
        "  music_name = 'music_orig_'+video_name.split('.')[0].split('_')[-1]+'.mid'\n",
        "  if music_name in mid_to_tempo_orig:\n",
        "    cm_value_sum = compliance_score(video_key_results[video_name],\n",
        "                                    mid_to_tempo_orig[music_name],\n",
        "                                    alpha=1.2,\n",
        "                                    offset=2.5,\n",
        "                                    eps=0.5,\n",
        "                                    version='SUM')\n",
        "    cm_value_max = compliance_score(video_key_results[video_name],\n",
        "                                    mid_to_tempo_orig[music_name],\n",
        "                                    alpha=1.4,\n",
        "                                    offset=2.0,\n",
        "                                    eps=0.05,\n",
        "                                    version='MAX')\n",
        "    CM_sum.append(cm_value_sum)\n",
        "    CM_max.append(cm_value_max)\n",
        "\n",
        "print('Average CM (SUM) for Video moments VS Tempo moments (original, midi algo): ', sum(CM_sum)/len(CM_sum))\n",
        "print('Average CM (MAX) for Video moments VS Tempo moments (original, midi algo): ', sum(CM_max)/len(CM_max))"
      ]
    },
    {
      "cell_type": "code",
      "execution_count": null,
      "metadata": {
        "id": "IsQnXkz3v6Do"
      },
      "outputs": [],
      "source": []
    },
    {
      "cell_type": "markdown",
      "metadata": {
        "id": "IORBKdXSSfCJ"
      },
      "source": [
        "Comparing tempo events detected from original background tones with different algorithms:"
      ]
    },
    {
      "cell_type": "code",
      "execution_count": null,
      "metadata": {
        "id": "syadrwOHSo9x"
      },
      "outputs": [],
      "source": [
        "# wav_to_tempo_orig, mid_to_tempo_orig\n",
        "CM_sum = []\n",
        "CM_max = []\n",
        "\n",
        "for name in wav_to_tempo_orig:\n",
        "  music_name = name.split('.')[0]+'.mid'\n",
        "  if music_name in mid_to_tempo_orig:\n",
        "    cm_value_sum = compliance_score(wav_to_tempo_orig[name],\n",
        "                                    mid_to_tempo_orig[music_name],\n",
        "                                    alpha=1,\n",
        "                                    offset=3.5,\n",
        "                                    eps=3.5,\n",
        "                                    version='MAX', symmetric=True)\n",
        "    cm_value_max = compliance_score(wav_to_tempo_orig[name],\n",
        "                                    mid_to_tempo_orig[music_name],\n",
        "                                    alpha=1,\n",
        "                                    offset=2.0,\n",
        "                                    eps=0.05,\n",
        "                                    version='MAX')\n",
        "    CM_sum.append(cm_value_sum)\n",
        "    CM_max.append(cm_value_max)\n",
        "\n",
        "print('Average CM (SUM) for Tempo moments (original, dl algo) VS Tempo moments (original, midi algo): ', sum(CM_sum)/len(CM_sum))\n",
        "print('Average CM (MAX) for Tempo moments (original, dl algo) VS Tempo moments (original, midi algo): ', sum(CM_max)/len(CM_max))"
      ]
    },
    {
      "cell_type": "code",
      "execution_count": null,
      "metadata": {
        "id": "6IY7Z2w2nG2Y"
      },
      "outputs": [],
      "source": []
    }
  ],
  "metadata": {
    "accelerator": "GPU",
    "colab": {
      "collapsed_sections": [
        "SsjIM0CFIJiE",
        "9kozxMi3IJgH",
        "nRQFcxsrIJda",
        "g4hTdOTaIJaB",
        "WocXDzcXZUaC",
        "UENc82CLJauT"
      ],
      "provenance": []
    },
    "gpuClass": "standard",
    "kernelspec": {
      "display_name": "Python 3",
      "name": "python3"
    },
    "language_info": {
      "name": "python"
    }
  },
  "nbformat": 4,
  "nbformat_minor": 0
}