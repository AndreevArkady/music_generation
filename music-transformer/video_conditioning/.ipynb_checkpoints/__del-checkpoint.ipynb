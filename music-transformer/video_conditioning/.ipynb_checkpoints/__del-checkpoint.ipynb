{
 "cells": [
  {
   "cell_type": "code",
   "execution_count": 1,
   "metadata": {},
   "outputs": [],
   "source": [
    "from PIL import Image, ImageTk"
   ]
  },
  {
   "cell_type": "code",
   "execution_count": 13,
   "metadata": {},
   "outputs": [
    {
     "data": {
      "text/plain": [
       "defaultdict(int, {2: 23})"
      ]
     },
     "execution_count": 13,
     "metadata": {},
     "output_type": "execute_result"
    }
   ],
   "source": [
    "from collections import defaultdict\n",
    "# d = {1 : 2}\n",
    "d = defaultdict(int)\n",
    "d[2] += 2"
   ]
  },
  {
   "cell_type": "code",
   "execution_count": 14,
   "metadata": {},
   "outputs": [],
   "source": [
    "import json\n",
    "\n",
    "json.dump(d, open('d.json', 'w'))"
   ]
  },
  {
   "cell_type": "code",
   "execution_count": 15,
   "metadata": {},
   "outputs": [
    {
     "data": {
      "text/plain": [
       "({'2': 23}, defaultdict(int, {2: 23}))"
      ]
     },
     "execution_count": 15,
     "metadata": {},
     "output_type": "execute_result"
    }
   ],
   "source": [
    "dd = json.load(open('d.json', 'r'))\n",
    "dd, d\n",
    "for a in [1]:\n",
    "    asd\n",
    "    asd"
   ]
  },
  {
   "cell_type": "code",
   "execution_count": 2,
   "metadata": {},
   "outputs": [
    {
     "name": "stdout",
     "output_type": "stream",
     "text": [
      "/storage/arkady/miniconda3/envs/transformer_production/bin/python\n"
     ]
    }
   ],
   "source": [
    "!which python"
   ]
  },
  {
   "cell_type": "code",
   "execution_count": 15,
   "metadata": {},
   "outputs": [
    {
     "data": {
      "text/plain": [
       "CompletedProcess(args=['which python3'], returncode=0, stdout=b'/storage/arkady/miniconda3/envs/transformer_production/bin/python3\\n', stderr=b'')"
      ]
     },
     "execution_count": 15,
     "metadata": {},
     "output_type": "execute_result"
    }
   ],
   "source": [
    "import subprocess\n",
    "\n",
    "subprocess.run([\n",
    "    # 'which python',\n",
    "    # 'conda activate VideoMusic',\n",
    "    # 'which python',\n",
    "    # 'pwd'\n",
    "    'python3 __test.py'\n",
    "], shell=True, capture_output=True)"
   ]
  },
  {
   "cell_type": "code",
   "execution_count": 14,
   "metadata": {},
   "outputs": [
    {
     "data": {
      "text/plain": [
       "'/storage/arkady/miniconda3/envs/transformer_production/bin/python'"
      ]
     },
     "execution_count": 14,
     "metadata": {},
     "output_type": "execute_result"
    }
   ],
   "source": [
    "from CONSTANTS import PYTHON_TRANSFORMER_PRODUCTION\n",
    "\n",
    "PYTHON_TRANSFORMER_PRODUCTION"
   ]
  }
 ],
 "metadata": {
  "kernelspec": {
   "display_name": "VideoMusic",
   "language": "python",
   "name": "videomusic"
  },
  "language_info": {
   "codemirror_mode": {
    "name": "ipython",
    "version": 3
   },
   "file_extension": ".py",
   "mimetype": "text/x-python",
   "name": "python",
   "nbconvert_exporter": "python",
   "pygments_lexer": "ipython3",
   "version": "3.10.14"
  }
 },
 "nbformat": 4,
 "nbformat_minor": 4
}
