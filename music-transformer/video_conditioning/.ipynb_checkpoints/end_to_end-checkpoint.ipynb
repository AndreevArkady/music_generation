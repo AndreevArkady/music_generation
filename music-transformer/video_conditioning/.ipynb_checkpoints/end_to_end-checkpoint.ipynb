{
 "cells": [
  {
   "cell_type": "markdown",
   "metadata": {},
   "source": [
    "env: VideoMusic"
   ]
  },
  {
   "cell_type": "code",
   "execution_count": 1,
   "metadata": {},
   "outputs": [],
   "source": [
    "'''Берем видео .mp4 -> \n",
    "    получаем list[float] key_video_moments, .midi, .mp3 -> \n",
    "        преобразуем kvm в nnotes -> \n",
    "            c полученными nnotes в конфиге MusTr генерируем музыку нужной длины -> \n",
    "                склеиваем в один mp4'''\n",
    "pass"
   ]
  },
  {
   "cell_type": "markdown",
   "metadata": {},
   "source": [
    "# 0."
   ]
  },
  {
   "cell_type": "code",
   "execution_count": 1,
   "metadata": {},
   "outputs": [],
   "source": [
    "%load_ext autoreload\n",
    "%autoreload 2\n",
    "\n",
    "%matplotlib inline "
   ]
  },
  {
   "cell_type": "code",
   "execution_count": 2,
   "metadata": {},
   "outputs": [
    {
     "name": "stdout",
     "output_type": "stream",
     "text": [
      "/storage/arkady/Glinka/music-transformer/video_conditioning\n"
     ]
    }
   ],
   "source": [
    "import os\n",
    "import sys\n",
    "from pathlib import Path\n",
    "import pandas as pd\n",
    "import json\n",
    "import matplotlib.pyplot as plt\n",
    "import numpy as np\n",
    "from tqdm import tqdm\n",
    "from collections import Counter, defaultdict\n",
    "\n",
    "sys.path.append('/storage/arkady/Glinka/music-transformer/video_conditioning/content/video_keyframe_detector')\n",
    "os.environ['LD_PRELOAD'] = '/usr/lib/x86_64-linux-gnu/libffi.so.7'\n",
    "\n",
    "!pwd"
   ]
  },
  {
   "cell_type": "code",
   "execution_count": 3,
   "metadata": {},
   "outputs": [],
   "source": [
    "selected_videos = [25, 5, 14, 17, 27]\n",
    "ind = 2\n",
    "\n",
    "path_mp4 = Path('/storage/arkady/Glinka/music-transformer/video_conditioning') \\\n",
    "    / 'content' / 'video_data' / f'video_ad{selected_videos[ind]}.mp4'\n",
    "\n",
    "assert os.path.exists(path_mp4)"
   ]
  },
  {
   "cell_type": "markdown",
   "metadata": {},
   "source": [
    "# 1. mp4 -> midi"
   ]
  },
  {
   "cell_type": "code",
   "execution_count": 13,
   "metadata": {},
   "outputs": [
    {
     "name": "stdout",
     "output_type": "stream",
     "text": [
      "MoviePy - Writing audio in /storage/arkady/Glinka/music-transformer/video_conditioning/tmp_e2e/video_ad27.mp3\n"
     ]
    },
    {
     "name": "stderr",
     "output_type": "stream",
     "text": [
      "                                                                   \r"
     ]
    },
    {
     "name": "stdout",
     "output_type": "stream",
     "text": [
      "MoviePy - Done.\n",
      "=====Successfully written new mp3 to path_mp3=PosixPath('/storage/arkady/Glinka/music-transformer/video_conditioning/tmp_e2e/video_ad27.mp3')\n",
      "loading model... done\n",
      "loading wave source... done\n",
      "stft of wave source... done\n"
     ]
    },
    {
     "name": "stderr",
     "output_type": "stream",
     "text": [
      "100%|██████████| 1/1 [00:05<00:00,  6.00s/it]\n"
     ]
    },
    {
     "name": "stdout",
     "output_type": "stream",
     "text": [
      "validating output directory... done\n",
      "inverse stft of instruments... done\n",
      "inverse stft of vocals... done\n",
      "=====Instrumentals at: /storage/arkady/Glinka/music-transformer/video_conditioning/tmp_e2e/video_ad27_Instruments.wav\n",
      "=====Vocals at: /storage/arkady/Glinka/music-transformer/video_conditioning/tmp_e2e/video_ad27_Vocals.wav\n",
      "\n",
      "✨✨✨✨✨✨✨✨✨\n",
      "✨ Basic Pitch  ✨\n",
      "✨✨✨✨✨✨✨✨✨\n",
      "\n",
      "Importing Tensorflow (this may take a few seconds)...\n",
      "\n",
      "Predicting MIDI for /storage/arkady/Glinka/music-transformer/video_conditioning/tmp_e2e/video_ad27_Instruments.wav...\n",
      "\n",
      "\n",
      "  Creating midi...\n",
      "  💅 Saved to /storage/arkady/Glinka/music-transformer/video_conditioning/tmp_e2e/video_ad27_Instruments_basic_pitch.mid\n",
      "\n",
      "✨ Done ✨\n",
      "\n",
      "/storage/arkady/Glinka/music-transformer/video_conditioning/tmp_e2e/video_ad27/video_ad27.mid\n"
     ]
    }
   ],
   "source": [
    "from video_utils.mp4_to_midi import mp4_to_midi\n",
    "\n",
    "path_midi = mp4_to_midi(\n",
    "    path_to_mp4=path_mp4,\n",
    "    tempdir='./tmp_e2e',\n",
    ")\n",
    "print(path_midi)"
   ]
  },
  {
   "cell_type": "markdown",
   "metadata": {},
   "source": [
    "# 2. kvm generation"
   ]
  },
  {
   "cell_type": "markdown",
   "metadata": {},
   "source": [
    "## 2.1 kvm1 TODO"
   ]
  },
  {
   "cell_type": "code",
   "execution_count": 4,
   "metadata": {},
   "outputs": [
    {
     "data": {
      "text/plain": [
       "PosixPath('/storage/arkady/Glinka/music-transformer/video_conditioning/content/video_data/video_ad17.mp4')"
      ]
     },
     "execution_count": 4,
     "metadata": {},
     "output_type": "execute_result"
    }
   ],
   "source": [
    "path_mp4"
   ]
  },
  {
   "cell_type": "code",
   "execution_count": 6,
   "metadata": {},
   "outputs": [
    {
     "name": "stdout",
     "output_type": "stream",
     "text": [
      "Loading r2plus1d_34_8_kinetics model\n"
     ]
    },
    {
     "name": "stderr",
     "output_type": "stream",
     "text": [
      "Using cache found in /home/arkady/.cache/torch/hub/moabitcoin_ig65m-pytorch_master\n"
     ]
    }
   ],
   "source": [
    "from collections import deque, defaultdict\n",
    "import cv2\n",
    "import sys\n",
    "\n",
    "# sys.path.append(\"/storage/arkady/Glinka/music_generation/content/computervision-recipes\")\n",
    "from utils_cv.action_recognition.data import KINETICS, Urls\n",
    "from utils_cv.action_recognition.dataset import get_transforms\n",
    "from utils_cv.action_recognition.model import VideoLearner\n",
    "from utils_cv.action_recognition.references import transforms_video as transforms\n",
    "from utils_cv.common.gpu import system_info, torch_device\n",
    "from utils_cv.common.data import data_path\n",
    "import decord #\n",
    "from ipywidgets import HBox, HTML, Layout, VBox, Widget, Label\n",
    "\n",
    "LABELS = KINETICS.class_names\n",
    "NUM_FRAMES = 8  # 8 or 32.\n",
    "IM_SCALE = 128  # resize then crop\n",
    "INPUT_SIZE = 112  # input clip size: 3 x NUM_FRAMES x 112 x 112\n",
    "SCORE_thresHOLD = 0.16\n",
    "AVERAGING_SIZE = 1\n",
    "\n",
    "learner = VideoLearner(\n",
    "        base_model=\"kinetics\",\n",
    "        sample_length=NUM_FRAMES,\n",
    ")\n",
    "\n",
    "transforms = get_transforms(train=False)\n",
    "# d_caption = IPython.display.display(\"Preparing...\", display_id=2)\n",
    "l = len(LABELS)\n",
    "# def update_println(println):\n",
    "#   d_caption.update(IPython.display.HTML(println))\n",
    "# key_video_moments = defaultdict(list)\n",
    "\n",
    "def VideoToMoments(path_video, SCORE_thresHOLD=0.16) -> list[int]:\n",
    "    cap = cv2.VideoCapture(path_video)\n",
    "    FPS = int(cap.get(cv2.CAP_PROP_FPS))\n",
    "\n",
    "    print('Video: ', path_video, 'with fps:', FPS)\n",
    "    video_reader = decord.VideoReader(path_video)\n",
    "    window = deque()\n",
    "    scores_cache = deque()\n",
    "    scores_sum = np.zeros(len(LABELS))\n",
    "    w_text = HTML(layout=Layout(padding=\"0 0 0 100px\"))\n",
    "\n",
    "    cur_frame = 0\n",
    "    prev_frame = 0\n",
    "    prev_sets = []\n",
    "    num = 1\n",
    "    prev_name = ''\n",
    "    prev_set = set()\n",
    "    video_name = path_video.split('/')[-1]\n",
    "    key_video_moments = []\n",
    "    while True:\n",
    "        print('.', end='')\n",
    "        try:\n",
    "            frame = video_reader.next().asnumpy()\n",
    "            window.append(frame)\n",
    "            def update_println(println):\n",
    "                    w_text.value = println\n",
    "\n",
    "            if len(window) == NUM_FRAMES:\n",
    "                    a, set_a = learner.predict_frames(\n",
    "                            window,\n",
    "                            scores_cache,\n",
    "                            scores_sum,\n",
    "                            None,\n",
    "                            30,\n",
    "                            SCORE_thresHOLD,\n",
    "                            LABELS,\n",
    "                            LABELS,\n",
    "                            get_transforms(train=False),\n",
    "                            update_println,\n",
    "                    )\n",
    "\n",
    "                #   print(a, set_a)\n",
    "                    cur_frame_sec = cur_frame//FPS + (cur_frame%FPS)/100\n",
    "                    if len(prev_sets) > FPS:\n",
    "                        prev_cumm_set = set().union(*prev_sets[-FPS:])\n",
    "                    else:\n",
    "                        prev_cumm_set = set().union(*prev_sets)\n",
    "                    if cur_frame == 0 or (a and a not in prev_cumm_set and cur_frame_sec - prev_frame > 0.5):\n",
    "                        key_video_moments.append(float(\"{:.2f}\".format(cur_frame_sec)))\n",
    "                        # print(num, ': Секунда: ', \"{:.2f}\".format(cur_frame_sec), ', началось действие: ', a)\n",
    "                        num += 1\n",
    "                        prev_frame = cur_frame_sec\n",
    "                        prev_name = a\n",
    "                        prev_set = set_a\n",
    "                        prev_sets.append(prev_set)\n",
    "            else:\n",
    "                    w_text.value = \"Preparing...\"\n",
    "            cur_frame += 1\n",
    "        except:\n",
    "            break\n",
    "\n",
    "    return key_video_moments"
   ]
  },
  {
   "cell_type": "code",
   "execution_count": 6,
   "metadata": {},
   "outputs": [
    {
     "name": "stdout",
     "output_type": "stream",
     "text": [
      "Video:  /storage/arkady/Glinka/music-transformer/video_conditioning/content/video_data/video_ad17.mp4 with fps: 23\n"
     ]
    }
   ],
   "source": [
    "kvm1 = VideoToMoments(str(path_mp4), SCORE_thresHOLD=0.05)\n",
    "kvm1"
   ]
  },
  {
   "cell_type": "code",
   "execution_count": 35,
   "metadata": {},
   "outputs": [
    {
     "data": {
      "text/plain": [
       "[1.11, 10.23, 12.07, 13.13, 20.09, 47.2]"
      ]
     },
     "execution_count": 35,
     "metadata": {},
     "output_type": "execute_result"
    }
   ],
   "source": [
    "with open(\"./kvm1.json\") as f:\n",
    "    kvm1 = json.load(f)\n",
    "kvm1[path_mp4.name]"
   ]
  },
  {
   "cell_type": "markdown",
   "metadata": {},
   "source": [
    "## kvm1 improve"
   ]
  },
  {
   "cell_type": "code",
   "execution_count": 13,
   "metadata": {
    "scrolled": true
   },
   "outputs": [
    {
     "data": {
      "text/plain": [
       "True"
      ]
     },
     "execution_count": 13,
     "metadata": {},
     "output_type": "execute_result"
    }
   ],
   "source": [
    "import torch\n",
    "torch.cuda.is_available()"
   ]
  },
  {
   "cell_type": "code",
   "execution_count": 4,
   "metadata": {},
   "outputs": [
    {
     "name": "stdout",
     "output_type": "stream",
     "text": [
      "Loading r2plus1d_34_8_kinetics model\n"
     ]
    },
    {
     "name": "stderr",
     "output_type": "stream",
     "text": [
      "Using cache found in /home/arkady/.cache/torch/hub/moabitcoin_ig65m-pytorch_master\n"
     ]
    },
    {
     "name": "stdout",
     "output_type": "stream",
     "text": [
      "Video: /storage/arkady/Glinka/music-transformer/video_conditioning/content/video_data/video_ad14.mp4, FPS: 25\n"
     ]
    },
    {
     "name": "stderr",
     "output_type": "stream",
     "text": [
      "7it [00:04,  1.44it/s]\n"
     ]
    },
    {
     "ename": "RuntimeError",
     "evalue": "random_device could not be read",
     "output_type": "error",
     "traceback": [
      "\u001b[0;31m---------------------------------------------------------------------------\u001b[0m",
      "\u001b[0;31mRuntimeError\u001b[0m                              Traceback (most recent call last)",
      "Cell \u001b[0;32mIn[4], line 68\u001b[0m\n\u001b[1;32m     64\u001b[0m                 prev_sets\u001b[38;5;241m.\u001b[39mappend(set_a)\n\u001b[1;32m     66\u001b[0m     \u001b[38;5;28;01mreturn\u001b[39;00m key_video_moments\n\u001b[0;32m---> 68\u001b[0m key_moments \u001b[38;5;241m=\u001b[39m \u001b[43mVideoToMoments\u001b[49m\u001b[43m(\u001b[49m\u001b[43mpath_mp4\u001b[49m\u001b[43m)\u001b[49m\n",
      "Cell \u001b[0;32mIn[4], line 42\u001b[0m, in \u001b[0;36mVideoToMoments\u001b[0;34m(path_video, SCORE_THRESHOLD)\u001b[0m\n\u001b[1;32m     39\u001b[0m window\u001b[38;5;241m.\u001b[39mappend(frame)\n\u001b[1;32m     41\u001b[0m \u001b[38;5;28;01mif\u001b[39;00m \u001b[38;5;28mlen\u001b[39m(window) \u001b[38;5;241m==\u001b[39m NUM_FRAMES:\n\u001b[0;32m---> 42\u001b[0m     action, set_a \u001b[38;5;241m=\u001b[39m \u001b[43mlearner\u001b[49m\u001b[38;5;241;43m.\u001b[39;49m\u001b[43mpredict_frames\u001b[49m\u001b[43m(\u001b[49m\n\u001b[1;32m     43\u001b[0m \u001b[43m        \u001b[49m\u001b[43mwindow\u001b[49m\u001b[43m,\u001b[49m\n\u001b[1;32m     44\u001b[0m \u001b[43m        \u001b[49m\u001b[43mscores_cache\u001b[49m\u001b[43m,\u001b[49m\n\u001b[1;32m     45\u001b[0m \u001b[43m        \u001b[49m\u001b[43mscores_sum\u001b[49m\u001b[43m,\u001b[49m\n\u001b[1;32m     46\u001b[0m \u001b[43m        \u001b[49m\u001b[38;5;28;43;01mNone\u001b[39;49;00m\u001b[43m,\u001b[49m\n\u001b[1;32m     47\u001b[0m \u001b[43m        \u001b[49m\u001b[38;5;241;43m30\u001b[39;49m\u001b[43m,\u001b[49m\n\u001b[1;32m     48\u001b[0m \u001b[43m        \u001b[49m\u001b[43mSCORE_THRESHOLD\u001b[49m\u001b[43m,\u001b[49m\n\u001b[1;32m     49\u001b[0m \u001b[43m        \u001b[49m\u001b[43mLABELS\u001b[49m\u001b[43m,\u001b[49m\n\u001b[1;32m     50\u001b[0m \u001b[43m        \u001b[49m\u001b[43mLABELS\u001b[49m\u001b[43m,\u001b[49m\n\u001b[1;32m     51\u001b[0m \u001b[43m        \u001b[49m\u001b[43mtransforms\u001b[49m\u001b[43m,\u001b[49m\n\u001b[1;32m     52\u001b[0m \u001b[43m        \u001b[49m\u001b[38;5;28;43;01mNone\u001b[39;49;00m\u001b[43m,\u001b[49m\n\u001b[1;32m     53\u001b[0m \u001b[43m    \u001b[49m\u001b[43m)\u001b[49m\n\u001b[1;32m     55\u001b[0m     cur_frame_sec \u001b[38;5;241m=\u001b[39m cur_frame \u001b[38;5;241m/\u001b[39m\u001b[38;5;241m/\u001b[39m FPS \u001b[38;5;241m+\u001b[39m (cur_frame \u001b[38;5;241m%\u001b[39m FPS) \u001b[38;5;241m/\u001b[39m FPS\n\u001b[1;32m     56\u001b[0m     \u001b[38;5;28;01mif\u001b[39;00m \u001b[38;5;28mlen\u001b[39m(prev_sets) \u001b[38;5;241m>\u001b[39m FPS:\n",
      "File \u001b[0;32m/storage/arkady/miniconda3/envs/VideoMusic/lib/python3.10/site-packages/utils_cv/action_recognition/model.py:571\u001b[0m, in \u001b[0;36mVideoLearner.predict_frames\u001b[0;34m(self, window, scores_cache, scores_sum, is_ready, averaging_size, score_threshold, labels, target_labels, transforms, update_println)\u001b[0m\n\u001b[1;32m    569\u001b[0m \u001b[38;5;250m\u001b[39m\u001b[38;5;124;03m\"\"\" Predicts frames \"\"\"\u001b[39;00m\n\u001b[1;32m    570\u001b[0m \u001b[38;5;66;03m# set model device and to eval mode\u001b[39;00m\n\u001b[0;32m--> 571\u001b[0m \u001b[38;5;28;43mself\u001b[39;49m\u001b[38;5;241;43m.\u001b[39;49m\u001b[43mmodel\u001b[49m\u001b[38;5;241;43m.\u001b[39;49m\u001b[43mto\u001b[49m\u001b[43m(\u001b[49m\u001b[43mtorch_device\u001b[49m\u001b[43m(\u001b[49m\u001b[43m)\u001b[49m\u001b[43m)\u001b[49m\n\u001b[1;32m    572\u001b[0m \u001b[38;5;28mself\u001b[39m\u001b[38;5;241m.\u001b[39mmodel\u001b[38;5;241m.\u001b[39meval()\n\u001b[1;32m    574\u001b[0m \u001b[38;5;66;03m# score\u001b[39;00m\n",
      "File \u001b[0;32m/storage/arkady/miniconda3/envs/VideoMusic/lib/python3.10/site-packages/torch/nn/modules/module.py:1160\u001b[0m, in \u001b[0;36mModule.to\u001b[0;34m(self, *args, **kwargs)\u001b[0m\n\u001b[1;32m   1156\u001b[0m         \u001b[38;5;28;01mreturn\u001b[39;00m t\u001b[38;5;241m.\u001b[39mto(device, dtype \u001b[38;5;28;01mif\u001b[39;00m t\u001b[38;5;241m.\u001b[39mis_floating_point() \u001b[38;5;129;01mor\u001b[39;00m t\u001b[38;5;241m.\u001b[39mis_complex() \u001b[38;5;28;01melse\u001b[39;00m \u001b[38;5;28;01mNone\u001b[39;00m,\n\u001b[1;32m   1157\u001b[0m                     non_blocking, memory_format\u001b[38;5;241m=\u001b[39mconvert_to_format)\n\u001b[1;32m   1158\u001b[0m     \u001b[38;5;28;01mreturn\u001b[39;00m t\u001b[38;5;241m.\u001b[39mto(device, dtype \u001b[38;5;28;01mif\u001b[39;00m t\u001b[38;5;241m.\u001b[39mis_floating_point() \u001b[38;5;129;01mor\u001b[39;00m t\u001b[38;5;241m.\u001b[39mis_complex() \u001b[38;5;28;01melse\u001b[39;00m \u001b[38;5;28;01mNone\u001b[39;00m, non_blocking)\n\u001b[0;32m-> 1160\u001b[0m \u001b[38;5;28;01mreturn\u001b[39;00m \u001b[38;5;28;43mself\u001b[39;49m\u001b[38;5;241;43m.\u001b[39;49m\u001b[43m_apply\u001b[49m\u001b[43m(\u001b[49m\u001b[43mconvert\u001b[49m\u001b[43m)\u001b[49m\n",
      "File \u001b[0;32m/storage/arkady/miniconda3/envs/VideoMusic/lib/python3.10/site-packages/torch/nn/modules/module.py:810\u001b[0m, in \u001b[0;36mModule._apply\u001b[0;34m(self, fn, recurse)\u001b[0m\n\u001b[1;32m    808\u001b[0m \u001b[38;5;28;01mif\u001b[39;00m recurse:\n\u001b[1;32m    809\u001b[0m     \u001b[38;5;28;01mfor\u001b[39;00m module \u001b[38;5;129;01min\u001b[39;00m \u001b[38;5;28mself\u001b[39m\u001b[38;5;241m.\u001b[39mchildren():\n\u001b[0;32m--> 810\u001b[0m         \u001b[43mmodule\u001b[49m\u001b[38;5;241;43m.\u001b[39;49m\u001b[43m_apply\u001b[49m\u001b[43m(\u001b[49m\u001b[43mfn\u001b[49m\u001b[43m)\u001b[49m\n\u001b[1;32m    812\u001b[0m \u001b[38;5;28;01mdef\u001b[39;00m \u001b[38;5;21mcompute_should_use_set_data\u001b[39m(tensor, tensor_applied):\n\u001b[1;32m    813\u001b[0m     \u001b[38;5;28;01mif\u001b[39;00m torch\u001b[38;5;241m.\u001b[39m_has_compatible_shallow_copy_type(tensor, tensor_applied):\n\u001b[1;32m    814\u001b[0m         \u001b[38;5;66;03m# If the new tensor has compatible tensor type as the existing tensor,\u001b[39;00m\n\u001b[1;32m    815\u001b[0m         \u001b[38;5;66;03m# the current behavior is to change the tensor in-place using `.data =`,\u001b[39;00m\n\u001b[0;32m   (...)\u001b[0m\n\u001b[1;32m    820\u001b[0m         \u001b[38;5;66;03m# global flag to let the user control whether they want the future\u001b[39;00m\n\u001b[1;32m    821\u001b[0m         \u001b[38;5;66;03m# behavior of overwriting the existing tensor or not.\u001b[39;00m\n",
      "File \u001b[0;32m/storage/arkady/miniconda3/envs/VideoMusic/lib/python3.10/site-packages/torch/nn/modules/module.py:810\u001b[0m, in \u001b[0;36mModule._apply\u001b[0;34m(self, fn, recurse)\u001b[0m\n\u001b[1;32m    808\u001b[0m \u001b[38;5;28;01mif\u001b[39;00m recurse:\n\u001b[1;32m    809\u001b[0m     \u001b[38;5;28;01mfor\u001b[39;00m module \u001b[38;5;129;01min\u001b[39;00m \u001b[38;5;28mself\u001b[39m\u001b[38;5;241m.\u001b[39mchildren():\n\u001b[0;32m--> 810\u001b[0m         \u001b[43mmodule\u001b[49m\u001b[38;5;241;43m.\u001b[39;49m\u001b[43m_apply\u001b[49m\u001b[43m(\u001b[49m\u001b[43mfn\u001b[49m\u001b[43m)\u001b[49m\n\u001b[1;32m    812\u001b[0m \u001b[38;5;28;01mdef\u001b[39;00m \u001b[38;5;21mcompute_should_use_set_data\u001b[39m(tensor, tensor_applied):\n\u001b[1;32m    813\u001b[0m     \u001b[38;5;28;01mif\u001b[39;00m torch\u001b[38;5;241m.\u001b[39m_has_compatible_shallow_copy_type(tensor, tensor_applied):\n\u001b[1;32m    814\u001b[0m         \u001b[38;5;66;03m# If the new tensor has compatible tensor type as the existing tensor,\u001b[39;00m\n\u001b[1;32m    815\u001b[0m         \u001b[38;5;66;03m# the current behavior is to change the tensor in-place using `.data =`,\u001b[39;00m\n\u001b[0;32m   (...)\u001b[0m\n\u001b[1;32m    820\u001b[0m         \u001b[38;5;66;03m# global flag to let the user control whether they want the future\u001b[39;00m\n\u001b[1;32m    821\u001b[0m         \u001b[38;5;66;03m# behavior of overwriting the existing tensor or not.\u001b[39;00m\n",
      "File \u001b[0;32m/storage/arkady/miniconda3/envs/VideoMusic/lib/python3.10/site-packages/torch/nn/modules/module.py:833\u001b[0m, in \u001b[0;36mModule._apply\u001b[0;34m(self, fn, recurse)\u001b[0m\n\u001b[1;32m    829\u001b[0m \u001b[38;5;66;03m# Tensors stored in modules are graph leaves, and we don't want to\u001b[39;00m\n\u001b[1;32m    830\u001b[0m \u001b[38;5;66;03m# track autograd history of `param_applied`, so we have to use\u001b[39;00m\n\u001b[1;32m    831\u001b[0m \u001b[38;5;66;03m# `with torch.no_grad():`\u001b[39;00m\n\u001b[1;32m    832\u001b[0m \u001b[38;5;28;01mwith\u001b[39;00m torch\u001b[38;5;241m.\u001b[39mno_grad():\n\u001b[0;32m--> 833\u001b[0m     param_applied \u001b[38;5;241m=\u001b[39m \u001b[43mfn\u001b[49m\u001b[43m(\u001b[49m\u001b[43mparam\u001b[49m\u001b[43m)\u001b[49m\n\u001b[1;32m    834\u001b[0m should_use_set_data \u001b[38;5;241m=\u001b[39m compute_should_use_set_data(param, param_applied)\n\u001b[1;32m    835\u001b[0m \u001b[38;5;28;01mif\u001b[39;00m should_use_set_data:\n",
      "File \u001b[0;32m/storage/arkady/miniconda3/envs/VideoMusic/lib/python3.10/site-packages/torch/nn/modules/module.py:1158\u001b[0m, in \u001b[0;36mModule.to.<locals>.convert\u001b[0;34m(t)\u001b[0m\n\u001b[1;32m   1155\u001b[0m \u001b[38;5;28;01mif\u001b[39;00m convert_to_format \u001b[38;5;129;01mis\u001b[39;00m \u001b[38;5;129;01mnot\u001b[39;00m \u001b[38;5;28;01mNone\u001b[39;00m \u001b[38;5;129;01mand\u001b[39;00m t\u001b[38;5;241m.\u001b[39mdim() \u001b[38;5;129;01min\u001b[39;00m (\u001b[38;5;241m4\u001b[39m, \u001b[38;5;241m5\u001b[39m):\n\u001b[1;32m   1156\u001b[0m     \u001b[38;5;28;01mreturn\u001b[39;00m t\u001b[38;5;241m.\u001b[39mto(device, dtype \u001b[38;5;28;01mif\u001b[39;00m t\u001b[38;5;241m.\u001b[39mis_floating_point() \u001b[38;5;129;01mor\u001b[39;00m t\u001b[38;5;241m.\u001b[39mis_complex() \u001b[38;5;28;01melse\u001b[39;00m \u001b[38;5;28;01mNone\u001b[39;00m,\n\u001b[1;32m   1157\u001b[0m                 non_blocking, memory_format\u001b[38;5;241m=\u001b[39mconvert_to_format)\n\u001b[0;32m-> 1158\u001b[0m \u001b[38;5;28;01mreturn\u001b[39;00m \u001b[43mt\u001b[49m\u001b[38;5;241;43m.\u001b[39;49m\u001b[43mto\u001b[49m\u001b[43m(\u001b[49m\u001b[43mdevice\u001b[49m\u001b[43m,\u001b[49m\u001b[43m \u001b[49m\u001b[43mdtype\u001b[49m\u001b[43m \u001b[49m\u001b[38;5;28;43;01mif\u001b[39;49;00m\u001b[43m \u001b[49m\u001b[43mt\u001b[49m\u001b[38;5;241;43m.\u001b[39;49m\u001b[43mis_floating_point\u001b[49m\u001b[43m(\u001b[49m\u001b[43m)\u001b[49m\u001b[43m \u001b[49m\u001b[38;5;129;43;01mor\u001b[39;49;00m\u001b[43m \u001b[49m\u001b[43mt\u001b[49m\u001b[38;5;241;43m.\u001b[39;49m\u001b[43mis_complex\u001b[49m\u001b[43m(\u001b[49m\u001b[43m)\u001b[49m\u001b[43m \u001b[49m\u001b[38;5;28;43;01melse\u001b[39;49;00m\u001b[43m \u001b[49m\u001b[38;5;28;43;01mNone\u001b[39;49;00m\u001b[43m,\u001b[49m\u001b[43m \u001b[49m\u001b[43mnon_blocking\u001b[49m\u001b[43m)\u001b[49m\n",
      "File \u001b[0;32m/storage/arkady/miniconda3/envs/VideoMusic/lib/python3.10/site-packages/torch/cuda/__init__.py:298\u001b[0m, in \u001b[0;36m_lazy_init\u001b[0;34m()\u001b[0m\n\u001b[1;32m    296\u001b[0m \u001b[38;5;28;01mif\u001b[39;00m \u001b[38;5;124m\"\u001b[39m\u001b[38;5;124mCUDA_MODULE_LOADING\u001b[39m\u001b[38;5;124m\"\u001b[39m \u001b[38;5;129;01mnot\u001b[39;00m \u001b[38;5;129;01min\u001b[39;00m os\u001b[38;5;241m.\u001b[39menviron:\n\u001b[1;32m    297\u001b[0m     os\u001b[38;5;241m.\u001b[39menviron[\u001b[38;5;124m\"\u001b[39m\u001b[38;5;124mCUDA_MODULE_LOADING\u001b[39m\u001b[38;5;124m\"\u001b[39m] \u001b[38;5;241m=\u001b[39m \u001b[38;5;124m\"\u001b[39m\u001b[38;5;124mLAZY\u001b[39m\u001b[38;5;124m\"\u001b[39m\n\u001b[0;32m--> 298\u001b[0m \u001b[43mtorch\u001b[49m\u001b[38;5;241;43m.\u001b[39;49m\u001b[43m_C\u001b[49m\u001b[38;5;241;43m.\u001b[39;49m\u001b[43m_cuda_init\u001b[49m\u001b[43m(\u001b[49m\u001b[43m)\u001b[49m\n\u001b[1;32m    299\u001b[0m \u001b[38;5;66;03m# Some of the queued calls may reentrantly call _lazy_init();\u001b[39;00m\n\u001b[1;32m    300\u001b[0m \u001b[38;5;66;03m# we need to just return without initializing in that case.\u001b[39;00m\n\u001b[1;32m    301\u001b[0m \u001b[38;5;66;03m# However, we must not let any *other* threads in!\u001b[39;00m\n\u001b[1;32m    302\u001b[0m _tls\u001b[38;5;241m.\u001b[39mis_initializing \u001b[38;5;241m=\u001b[39m \u001b[38;5;28;01mTrue\u001b[39;00m\n",
      "\u001b[0;31mRuntimeError\u001b[0m: random_device could not be read"
     ]
    }
   ],
   "source": [
    "import cv2\n",
    "import numpy as np\n",
    "from collections import deque, defaultdict\n",
    "from utils_cv.action_recognition.data import KINETICS\n",
    "from utils_cv.action_recognition.dataset import get_transforms\n",
    "from utils_cv.action_recognition.model import VideoLearner\n",
    "import decord\n",
    "\n",
    "# Constants\n",
    "LABELS = KINETICS.class_names\n",
    "NUM_FRAMES = 8\n",
    "SCORE_THRESHOLD = 0.16\n",
    "\n",
    "# Initialize VideoLearner\n",
    "learner = VideoLearner(\n",
    "    base_model=\"kinetics\",\n",
    "    sample_length=NUM_FRAMES,\n",
    ")\n",
    "\n",
    "transforms = get_transforms(train=False)\n",
    "\n",
    "def VideoToMoments(path_video, SCORE_THRESHOLD=0.16) -> list:\n",
    "    path_video = str(path_video)\n",
    "    cap = cv2.VideoCapture(path_video)\n",
    "    FPS = int(cap.get(cv2.CAP_PROP_FPS))\n",
    "    print(f'Video: {path_video}, FPS: {FPS}')\n",
    "\n",
    "    video_reader = decord.VideoReader(path_video)\n",
    "    window = deque(maxlen=NUM_FRAMES)\n",
    "    scores_cache = deque()\n",
    "    scores_sum = np.zeros(len(LABELS))\n",
    "    \n",
    "    key_video_moments = []\n",
    "    prev_frame_sec = 0\n",
    "    prev_sets = []\n",
    "\n",
    "    for cur_frame, frame in tqdm(enumerate(video_reader)):\n",
    "        frame = frame.asnumpy()\n",
    "        window.append(frame)\n",
    "\n",
    "        if len(window) == NUM_FRAMES:\n",
    "            action, set_a = learner.predict_frames(\n",
    "                window,\n",
    "                scores_cache,\n",
    "                scores_sum,\n",
    "                None,\n",
    "                30,\n",
    "                SCORE_THRESHOLD,\n",
    "                LABELS,\n",
    "                LABELS,\n",
    "                transforms,\n",
    "                None,\n",
    "            )\n",
    "\n",
    "            cur_frame_sec = cur_frame // FPS + (cur_frame % FPS) / FPS\n",
    "            if len(prev_sets) > FPS:\n",
    "                prev_cumm_set = set().union(*prev_sets[-FPS:])\n",
    "            else:\n",
    "                prev_cumm_set = set().union(*prev_sets)\n",
    "\n",
    "            if action and (cur_frame == 0 or (action not in prev_cumm_set and cur_frame_sec - prev_frame_sec > 0.5)):\n",
    "                key_video_moments.append(float(f\"{cur_frame_sec:.2f}\"))\n",
    "                prev_frame_sec = cur_frame_sec\n",
    "                prev_sets.append(set_a)\n",
    "\n",
    "    return key_video_moments\n",
    "\n",
    "key_moments = VideoToMoments(path_mp4)"
   ]
  },
  {
   "cell_type": "markdown",
   "metadata": {},
   "source": [
    "## 2.2 kvm2"
   ]
  },
  {
   "cell_type": "code",
   "execution_count": 15,
   "metadata": {
    "scrolled": true
   },
   "outputs": [
    {
     "name": "stdout",
     "output_type": "stream",
     "text": [
      "Path(dest) / Path(source).stem=PosixPath('tmp_e2e/video_ad27')\n",
      "Figure(1200x600)\n",
      "keyframe 2 happened at 1.0 sec.\n",
      "keyframe 3 happened at 1.1 sec.\n"
     ]
    }
   ],
   "source": [
    "!{sys.executable} content/video_keyframe_detector/cli.py -s {str(path_mp4)} -d tmp_e2e -t 0.9"
   ]
  },
  {
   "cell_type": "code",
   "execution_count": 127,
   "metadata": {},
   "outputs": [
    {
     "data": {
      "image/png": "[encoded data removed]",
      "text/plain": [
       "<Figure size 1200x600 with 1 Axes>"
      ]
     },
     "metadata": {},
     "output_type": "display_data"
    }
   ],
   "source": [
    "from KeyFrameDetector.key_frame_detector import keyframeDetection\n",
    "\n",
    "kvm2 = keyframeDetection(source=str(path_mp4), dest='tmp_e2e', thres=0.6,\n",
    "                  verbose=False,\n",
    "                  plotMetrics=True\n",
    "                  )"
   ]
  },
  {
   "cell_type": "code",
   "execution_count": 118,
   "metadata": {},
   "outputs": [
    {
     "data": {
      "image/png": "[encoded data removed]",
      "text/plain": [
       "<Figure size 640x480 with 1 Axes>"
      ]
     },
     "metadata": {},
     "output_type": "display_data"
    }
   ],
   "source": [
    "import peakutils\n",
    "thres = 0.5\n",
    "\n",
    "lstdiffMag = kvm2[0]\n",
    "y = np.array(lstdiffMag)\n",
    "base = peakutils.baseline(y, 2)\n",
    "indices = peakutils.indexes(y-base, thres, min_dist=1)\n",
    "\n",
    "x = np.arange(len(lstdiffMag))\n",
    "# plt.scatter(x, lstdiffMag, label='lstdiffMag')\n",
    "plt.scatter(x, y, label='y', s=3)\n",
    "plt.scatter(x, base * 400, label='base', s=3)\n",
    "# plt.scatter(x, indices, label='indices')\n",
    "plt.legend()\n",
    "for ind in indices:\n",
    "    plt.axvline(ind, ymax=300000, ymin=-150000, c='r', lw=1, alpha=1/2)"
   ]
  },
  {
   "cell_type": "code",
   "execution_count": 95,
   "metadata": {
    "scrolled": true
   },
   "outputs": [
    {
     "data": {
      "text/plain": [
       "array([  25,   61,  109,  166,  211,  242,  302,  493,  657,  806,  919,\n",
       "        981,  993, 1021, 1049, 1075, 1154])"
      ]
     },
     "execution_count": 95,
     "metadata": {},
     "output_type": "execute_result"
    }
   ],
   "source": [
    "indices"
   ]
  },
  {
   "cell_type": "code",
   "execution_count": 29,
   "metadata": {},
   "outputs": [
    {
     "name": "stderr",
     "output_type": "stream",
     "text": [
      "100%|█████████████████████████████████████████████████████████████████████████████████████████████████████████████████████████████████████████████████████████████████████████████| 1282/1282 [00:01<00:00, 666.50it/s]\n"
     ]
    },
    {
     "data": {
      "text/plain": [
       "array([ 1.  ,  2.44,  4.36,  6.64,  8.44,  9.68, 12.08, 19.72, 26.28,\n",
       "       32.24, 36.76, 39.24, 39.72, 40.84, 41.96, 43.  , 46.16])"
      ]
     },
     "execution_count": 29,
     "metadata": {},
     "output_type": "execute_result"
    }
   ],
   "source": [
    "from video_utils.kvm import extract_kvm2\n",
    "\n",
    "kvm2, fps2 = extract_kvm2(path_mp4, thres=0.6)\n",
    "\n",
    "np.array(kvm2) / fps2"
   ]
  },
  {
   "cell_type": "markdown",
   "metadata": {},
   "source": [
    "## 2.3 kvm3 (gpt-4o)"
   ]
  },
  {
   "cell_type": "code",
   "execution_count": 23,
   "metadata": {},
   "outputs": [
    {
     "name": "stderr",
     "output_type": "stream",
     "text": [
      "VideoManager is deprecated and will be removed.\n"
     ]
    },
    {
     "data": {
      "text/plain": [
       "[12, 33, 51, 68, 92]"
      ]
     },
     "execution_count": 23,
     "metadata": {},
     "output_type": "execute_result"
    }
   ],
   "source": [
    "from video_utils.kvm import extract_kvm3\n",
    "\n",
    "kvm3 = extract_kvm3(path_mp4)\n",
    "kvm3[0][:5]"
   ]
  },
  {
   "cell_type": "markdown",
   "metadata": {},
   "source": [
    "## kvms compared"
   ]
  },
  {
   "cell_type": "code",
   "execution_count": 28,
   "metadata": {},
   "outputs": [
    {
     "name": "stdout",
     "output_type": "stream",
     "text": [
      "path_mp4=PosixPath('/storage/arkady/Glinka/music-transformer/video_conditioning/content/video_data/video_ad14.mp4')\n"
     ]
    },
    {
     "name": "stderr",
     "output_type": "stream",
     "text": [
      "100%|█████████████████████████████████████████████████████████████████████████████████████████████████████████████████████████████████████████████████████████████████████████████| 1282/1282 [00:01<00:00, 813.27it/s]\n",
      "VideoManager is deprecated and will be removed.\n"
     ]
    },
    {
     "data": {
      "image/png": "[encoded data removed]",
      "text/plain": [
       "<Figure size 640x480 with 1 Axes>"
      ]
     },
     "metadata": {},
     "output_type": "display_data"
    }
   ],
   "source": [
    "import matplotlib.pyplot as plt\n",
    "import numpy as np\n",
    "\n",
    "print(f'{path_mp4=}')\n",
    "\n",
    "\n",
    "with open(\"./kvm1.json\") as f:\n",
    "    kvm1 = json.load(f)\n",
    "kvm1 = kvm1[f'{path_mp4.stem}.mp4']\n",
    "\n",
    "kvm2, fps2 = extract_kvm2(path_mp4, thres=0.6)\n",
    "kvm2 = np.array(kvm2) / fps2\n",
    "\n",
    "kvm3, fps3 = extract_kvm3(path_mp4, threshold=30.0)\n",
    "kvm3 = np.array(kvm3) / fps3\n",
    "\n",
    "kvms = {\n",
    "    'kvm1': kvm1,\n",
    "    'kvm2': kvm2,\n",
    "    'kvm3': kvm3\n",
    "}\n",
    "\n",
    "for i, (name, x) in enumerate(kvms.items()):\n",
    "    plt.scatter(x, np.ones_like(x) * i, label=name, s=5, marker='X')\n",
    "plt.legend()\n",
    "plt.xlabel('seconds')\n",
    "plt.show()"
   ]
  },
  {
   "cell_type": "markdown",
   "metadata": {},
   "source": [
    "## adding time bar"
   ]
  },
  {
   "cell_type": "code",
   "execution_count": 16,
   "metadata": {},
   "outputs": [
    {
     "name": "stdout",
     "output_type": "stream",
     "text": [
      "Moviepy - Building video video_ad14_bar.mp4.\n",
      "MoviePy - Writing audio in video_ad14_barTEMP_MPY_wvf_snd.mp3\n"
     ]
    },
    {
     "name": "stderr",
     "output_type": "stream",
     "text": [
      "                                                                                                                                                                                                                       \r"
     ]
    },
    {
     "name": "stdout",
     "output_type": "stream",
     "text": [
      "MoviePy - Done.\n",
      "Moviepy - Writing video video_ad14_bar.mp4\n",
      "\n"
     ]
    },
    {
     "name": "stderr",
     "output_type": "stream",
     "text": [
      "                                                                                                                                                                                                                       \r"
     ]
    },
    {
     "name": "stdout",
     "output_type": "stream",
     "text": [
      "Moviepy - Done !\n",
      "Moviepy - video ready video_ad14_bar.mp4\n"
     ]
    }
   ],
   "source": [
    "from video_utils.video_preproces import add_time_bar\n",
    "\n",
    "# Example usage\n",
    "add_time_bar(path_mp4, path_mp4.stem + '_bar.mp4')"
   ]
  },
  {
   "cell_type": "markdown",
   "metadata": {},
   "source": [
    "# 3. kvm -> nnotes"
   ]
  },
  {
   "cell_type": "markdown",
   "metadata": {},
   "source": [
    "## v0 Masha's preprocessor"
   ]
  },
  {
   "cell_type": "code",
   "execution_count": null,
   "metadata": {},
   "outputs": [],
   "source": []
  },
  {
   "cell_type": "markdown",
   "metadata": {},
   "source": [
    "## v1"
   ]
  },
  {
   "cell_type": "code",
   "execution_count": 3,
   "metadata": {},
   "outputs": [
    {
     "data": {
      "text/html": [
       "<div>\n",
       "<style scoped>\n",
       "    .dataframe tbody tr th:only-of-type {\n",
       "        vertical-align: middle;\n",
       "    }\n",
       "\n",
       "    .dataframe tbody tr th {\n",
       "        vertical-align: top;\n",
       "    }\n",
       "\n",
       "    .dataframe thead th {\n",
       "        text-align: right;\n",
       "    }\n",
       "</style>\n",
       "<table border=\"1\" class=\"dataframe\">\n",
       "  <thead>\n",
       "    <tr style=\"text-align: right;\">\n",
       "      <th></th>\n",
       "      <th>frame_ind</th>\n",
       "      <th>frame_diff</th>\n",
       "      <th>key_moment</th>\n",
       "      <th>fps</th>\n",
       "    </tr>\n",
       "  </thead>\n",
       "  <tbody>\n",
       "    <tr>\n",
       "      <th>0</th>\n",
       "      <td>0.0</td>\n",
       "      <td>0</td>\n",
       "      <td>0.0</td>\n",
       "      <td>25.0</td>\n",
       "    </tr>\n",
       "    <tr>\n",
       "      <th>1</th>\n",
       "      <td>1.0</td>\n",
       "      <td>0</td>\n",
       "      <td>0.0</td>\n",
       "      <td>25.0</td>\n",
       "    </tr>\n",
       "    <tr>\n",
       "      <th>2</th>\n",
       "      <td>2.0</td>\n",
       "      <td>0</td>\n",
       "      <td>0.0</td>\n",
       "      <td>25.0</td>\n",
       "    </tr>\n",
       "    <tr>\n",
       "      <th>3</th>\n",
       "      <td>3.0</td>\n",
       "      <td>3911</td>\n",
       "      <td>0.0</td>\n",
       "      <td>25.0</td>\n",
       "    </tr>\n",
       "    <tr>\n",
       "      <th>4</th>\n",
       "      <td>4.0</td>\n",
       "      <td>2496</td>\n",
       "      <td>0.0</td>\n",
       "      <td>25.0</td>\n",
       "    </tr>\n",
       "    <tr>\n",
       "      <th>...</th>\n",
       "      <td>...</td>\n",
       "      <td>...</td>\n",
       "      <td>...</td>\n",
       "      <td>...</td>\n",
       "    </tr>\n",
       "    <tr>\n",
       "      <th>1277</th>\n",
       "      <td>1277.0</td>\n",
       "      <td>0</td>\n",
       "      <td>0.0</td>\n",
       "      <td>25.0</td>\n",
       "    </tr>\n",
       "    <tr>\n",
       "      <th>1278</th>\n",
       "      <td>1278.0</td>\n",
       "      <td>0</td>\n",
       "      <td>0.0</td>\n",
       "      <td>25.0</td>\n",
       "    </tr>\n",
       "    <tr>\n",
       "      <th>1279</th>\n",
       "      <td>1279.0</td>\n",
       "      <td>0</td>\n",
       "      <td>0.0</td>\n",
       "      <td>25.0</td>\n",
       "    </tr>\n",
       "    <tr>\n",
       "      <th>1280</th>\n",
       "      <td>1280.0</td>\n",
       "      <td>0</td>\n",
       "      <td>0.0</td>\n",
       "      <td>25.0</td>\n",
       "    </tr>\n",
       "    <tr>\n",
       "      <th>1281</th>\n",
       "      <td>1281.0</td>\n",
       "      <td>0</td>\n",
       "      <td>0.0</td>\n",
       "      <td>25.0</td>\n",
       "    </tr>\n",
       "  </tbody>\n",
       "</table>\n",
       "<p>1282 rows × 4 columns</p>\n",
       "</div>"
      ],
      "text/plain": [
       "      frame_ind  frame_diff  key_moment   fps\n",
       "0           0.0           0         0.0  25.0\n",
       "1           1.0           0         0.0  25.0\n",
       "2           2.0           0         0.0  25.0\n",
       "3           3.0        3911         0.0  25.0\n",
       "4           4.0        2496         0.0  25.0\n",
       "...         ...         ...         ...   ...\n",
       "1277     1277.0           0         0.0  25.0\n",
       "1278     1278.0           0         0.0  25.0\n",
       "1279     1279.0           0         0.0  25.0\n",
       "1280     1280.0           0         0.0  25.0\n",
       "1281     1281.0           0         0.0  25.0\n",
       "\n",
       "[1282 rows x 4 columns]"
      ]
     },
     "execution_count": 3,
     "metadata": {},
     "output_type": "execute_result"
    }
   ],
   "source": [
    "df = pd.read_csv('tmp_e2e/csvFile/output.csv', sep=',')\n",
    "df"
   ]
  },
  {
   "cell_type": "code",
   "execution_count": 4,
   "metadata": {},
   "outputs": [
    {
     "data": {
      "image/png": "[encoded data removed]",
      "text/plain": [
       "<Figure size 640x480 with 1 Axes>"
      ]
     },
     "metadata": {},
     "output_type": "display_data"
    }
   ],
   "source": [
    "def smooth_sequence(seq, max_dist=6):\n",
    "    n = len(seq)\n",
    "    # Initialize a list to store distances to the nearest '1'\n",
    "    distances = [float('inf')] * n\n",
    "\n",
    "    # First pass: find distances from left to right\n",
    "    for i in range(n):\n",
    "        if seq[i] == 1:\n",
    "            distances[i] = 0\n",
    "        elif i > 0 and distances[i-1] != float('inf'):\n",
    "            distances[i] = distances[i-1] + 1\n",
    "\n",
    "    # Second pass: find distances from right to left\n",
    "    for i in range(n-2, -1, -1):\n",
    "        if distances[i+1] != float('inf'):\n",
    "            distances[i] = min(distances[i], distances[i+1] + 1)\n",
    "\n",
    "    # Determine the maximum distance to scale values\n",
    "    max_distance = max(distances)\n",
    "\n",
    "    # Assign values based on proximity to '1'\n",
    "    transformed = []\n",
    "    for dist in distances:\n",
    "        if dist == 0:\n",
    "            transformed.append(max_dist)  # '1' corresponds to 10\n",
    "        else:\n",
    "            # Scale each zero to be between 0 and 9 based on its distance\n",
    "            scaled_value = int((1 - (dist / max_distance)) ** 1 * (max_dist - 1))\n",
    "            transformed.append(max(1, scaled_value))\n",
    "\n",
    "    return transformed\n",
    "\n",
    "n = len(df)\n",
    "plt.scatter(np.arange(n), df['key_moment'], s=10, c='r', marker='|', label='kvm')\n",
    "plt.plot(np.arange(n), smooth_sequence(df['key_moment']), c='b', label='smoothed')\n",
    "plt.legend(loc='upper left')\n",
    "plt.show()"
   ]
  },
  {
   "cell_type": "code",
   "execution_count": 5,
   "metadata": {},
   "outputs": [
    {
     "data": {
      "image/png": "[encoded data removed]",
      "text/plain": [
       "<Figure size 640x480 with 1 Axes>"
      ]
     },
     "metadata": {},
     "output_type": "display_data"
    }
   ],
   "source": [
    "import numpy as np\n",
    "from scipy.interpolate import interp1d\n",
    "\n",
    "def resize_sequence(seq, target_length=128):\n",
    "    # Convert sequence to numpy array for easier handling\n",
    "    original_length = len(seq)\n",
    "    original_indices = np.linspace(0, original_length - 1, num=original_length)\n",
    "    target_indices = np.linspace(0, original_length - 1, num=target_length)\n",
    "    \n",
    "    # Create interpolation function\n",
    "    interpolation_function = interp1d(original_indices, seq, kind='linear')\n",
    "    \n",
    "    # Generate new sequence of the target length\n",
    "    new_sequence = interpolation_function(target_indices)\n",
    "    # Round values to maintain integer type consistency\n",
    "    new_sequence = np.round(new_sequence).astype(int)\n",
    "    \n",
    "    return new_sequence.tolist()\n",
    "\n",
    "# resize_sequence(smooth_sequence(df['key_moment'], max_dist=5))\n",
    "\n",
    "n = len(df)\n",
    "kvm = df['key_moment']\n",
    "smoothed_kvm = smooth_sequence(df['key_moment'], max_dist=6)\n",
    "smoothed_128_kvm = resize_sequence(smoothed_kvm)\n",
    "plt.scatter(np.arange(n), kvm, s=10, c='r', marker='|', label='kvm')\n",
    "plt.scatter(np.arange(n), smoothed_kvm, c='b', s=1, label='smoothed')\n",
    "plt.plot(np.linspace(0, n - 1, 128), smoothed_128_kvm, c='orange', label='smoothed 128 kvm')\n",
    "plt.legend(loc='center left')\n",
    "plt.show()"
   ]
  },
  {
   "cell_type": "code",
   "execution_count": 9,
   "metadata": {},
   "outputs": [
    {
     "name": "stdout",
     "output_type": "stream",
     "text": [
      "[{'borders': [0, 1], 'value': 4},\n",
      " {'borders': [1, 2], 'value': 4},\n",
      " {'borders': [2, 3], 'value': 4},\n",
      " {'borders': [3, 4], 'value': 4},\n",
      " {'borders': [4, 5], 'value': 4},\n",
      " {'borders': [5, 6], 'value': 4},\n",
      " {'borders': [6, 7], 'value': 5},\n",
      " {'borders': [7, 8], 'value': 4},\n",
      " {'borders': [8, 9], 'value': 4},\n",
      " {'borders': [9, 10], 'value': 4},\n",
      " {'borders': [10, 11], 'value': 4},\n",
      " {'borders': [11, 12], 'value': 4},\n",
      " {'borders': [12, 13], 'value': 4},\n",
      " {'borders': [13, 14], 'value': 4},\n",
      " {'borders': [14, 15], 'value': 4},\n",
      " {'borders': [15, 16], 'value': 4},\n",
      " {'borders': [16, 17], 'value': 4},\n",
      " {'borders': [17, 18], 'value': 4},\n",
      " {'borders': [18, 19], 'value': 4},\n",
      " {'borders': [19, 20], 'value': 4}]\n"
     ]
    }
   ],
   "source": [
    "from pprint import pprint\n",
    "\n",
    "\n",
    "# kvm_seq = json.load(open(\"./kvm1.json\", 'r'))['video_ad81.mp4']\n",
    "kvm_seq = pd.read_csv('tmp_e2e/csvFile/output.csv', sep=',')['key_moment']\n",
    "\n",
    "nnotes_seq = resize_sequence(smooth_sequence(df['key_moment']))\n",
    "nnotes_cfg = [\n",
    "    {\n",
    "        'borders': [ind, ind + 1],\n",
    "        'value': value\n",
    "    }\n",
    "    for ind, value in enumerate(nnotes_seq)\n",
    "]\n",
    "\n",
    "\n",
    "\n",
    "l, r = 0, 0\n",
    "nnotes_cfg = []\n",
    "while r < len(smoothed_128_kvm):  # always *l = *r\n",
    "    if (r < len(smoothed_128_kvm) - 1) and smoothed_128_kvm[l] == smoothed_128_kvm[r + 1]:\n",
    "        r += 1\n",
    "    else:\n",
    "        nnotes_cfg.append({'borders': [l, r + 1], 'value': smoothed_128_kvm[l]})\n",
    "        l = r + 1\n",
    "        r = r + 1\n",
    "assert nnotes_cfg[-1]['borders'][1] == 128\n",
    "\n",
    "# json.dump(nnotes_cfg, open(f'tmp_e2e/nnotes_{path_mp4.stem}.json', 'w'))\n",
    "pprint(nnotes_cfg[:20])"
   ]
  },
  {
   "cell_type": "markdown",
   "metadata": {},
   "source": [
    "# 4. music-transformer with nnotes"
   ]
  },
  {
   "cell_type": "code",
   "execution_count": 15,
   "metadata": {},
   "outputs": [
    {
     "name": "stdout",
     "output_type": "stream",
     "text": [
      "/storage/arkady/Glinka/music-transformer/video_conditioning\n"
     ]
    },
    {
     "data": {
      "text/plain": [
       "55.32"
      ]
     },
     "execution_count": 15,
     "metadata": {},
     "output_type": "execute_result"
    }
   ],
   "source": [
    "%cd /storage/arkady/Glinka/music-transformer/video_conditioning\n",
    "df = pd.read_csv('tmp_e2e/csvFile/output.csv', sep=',')\n",
    "video_length_s = len(df) / df.iloc[-1, -1]\n",
    "video_length_s"
   ]
  },
  {
   "cell_type": "code",
   "execution_count": 26,
   "metadata": {
    "collapsed": true,
    "jupyter": {
     "outputs_hidden": true
    }
   },
   "outputs": [
    {
     "name": "stdout",
     "output_type": "stream",
     "text": [
      "/storage/arkady/Glinka/music-transformer/video_conditioning/code3\n",
      "/storage/arkady/Glinka/music-transformer/video_conditioning/code3/generation\n",
      "======= /storage/arkady/Glinka/music-transformer/video_conditioning/tmp_e2e e2e_81\n",
      "[{'borders': [0, 1], 'value': 1},\n",
      " {'borders': [1, 2], 'value': 2},\n",
      " {'borders': [2, 3], 'value': 2},\n",
      " {'borders': [3, 4], 'value': 2}]\n",
      "==== then\n",
      "=====generate_samples====== /storage/arkady/Glinka/music-transformer/video_conditioning/code3/generation\n",
      "{'force_cpu': False,\n",
      " 'generation_params': {'additional_features_params': {'author': '[UNK]',\n",
      "                                                      'genre': 'rock',\n",
      "                                                      'nnotes': {'enable': True,\n",
      "                                                                 'preset': [{'borders': [0,\n",
      "                                                                                         1],\n",
      "                                                                             'value': 1},\n",
      "                                                                            {'borders': [1,\n",
      "                                                                                         2],\n",
      "                                                                             'value': 2},\n",
      "                                                                            {'borders': [2,\n",
      "                                                                                         3],\n",
      "                                                                             'value': 2},\n",
      "                                                                            {'borders': [3,\n",
      "                                                                                         4],\n",
      "                                                                             'value': 2},\n",
      "                                                                            {'borders': [4,\n",
      "                                                                                         5],\n",
      "                                                                             'value': 3},\n",
      "                                                                            {'borders': [5,\n",
      "                                                                                         6],\n",
      "                                                                             'value': 3},\n",
      "                                                                            {'borders': [6,\n",
      "                                                                                         7],\n",
      "                                                                             'value': 3},\n",
      "                                                                            {'borders': [7,\n",
      "                                                                                         8],\n",
      "                                                                             'value': 4},\n",
      "                                                                            {'borders': [8,\n",
      "                                                                                         9],\n",
      "                                                                             'value': 4},\n",
      "                                                                            {'borders': [9,\n",
      "                                                                                         10],\n",
      "                                                                             'value': 4},\n",
      "                                                                            {'borders': [10,\n",
      "                                                                                         11],\n",
      "                                                                             'value': 5},\n",
      "                                                                            {'borders': [11,\n",
      "                                                                                         12],\n",
      "                                                                             'value': 5},\n",
      "                                                                            {'borders': [12,\n",
      "                                                                                         13],\n",
      "                                                                             'value': 5},\n",
      "                                                                            {'borders': [13,\n",
      "                                                                                         14],\n",
      "                                                                             'value': 6},\n",
      "                                                                            {'borders': [14,\n",
      "                                                                                         15],\n",
      "                                                                             'value': 6},\n",
      "                                                                            {'borders': [15,\n",
      "                                                                                         16],\n",
      "                                                                             'value': 6},\n",
      "                                                                            {'borders': [16,\n",
      "                                                                                         17],\n",
      "                                                                             'value': 7},\n",
      "                                                                            {'borders': [17,\n",
      "                                                                                         18],\n",
      "                                                                             'value': 7},\n",
      "                                                                            {'borders': [18,\n",
      "                                                                                         19],\n",
      "                                                                             'value': 7},\n",
      "                                                                            {'borders': [19,\n",
      "                                                                                         20],\n",
      "                                                                             'value': 8},\n",
      "                                                                            {'borders': [20,\n",
      "                                                                                         21],\n",
      "                                                                             'value': 8},\n",
      "                                                                            {'borders': [21,\n",
      "                                                                                         22],\n",
      "                                                                             'value': 10},\n",
      "                                                                            {'borders': [22,\n",
      "                                                                                         23],\n",
      "                                                                             'value': 8},\n",
      "                                                                            {'borders': [23,\n",
      "                                                                                         24],\n",
      "                                                                             'value': 8},\n",
      "                                                                            {'borders': [24,\n",
      "                                                                                         25],\n",
      "                                                                             'value': 8},\n",
      "                                                                            {'borders': [25,\n",
      "                                                                                         26],\n",
      "                                                                             'value': 8},\n",
      "                                                                            {'borders': [26,\n",
      "                                                                                         27],\n",
      "                                                                             'value': 8},\n",
      "                                                                            {'borders': [27,\n",
      "                                                                                         28],\n",
      "                                                                             'value': 8},\n",
      "                                                                            {'borders': [28,\n",
      "                                                                                         29],\n",
      "                                                                             'value': 8},\n",
      "                                                                            {'borders': [29,\n",
      "                                                                                         30],\n",
      "                                                                             'value': 8},\n",
      "                                                                            {'borders': [30,\n",
      "                                                                                         31],\n",
      "                                                                             'value': 8},\n",
      "                                                                            {'borders': [31,\n",
      "                                                                                         32],\n",
      "                                                                             'value': 7},\n",
      "                                                                            {'borders': [32,\n",
      "                                                                                         33],\n",
      "                                                                             'value': 7},\n",
      "                                                                            {'borders': [33,\n",
      "                                                                                         34],\n",
      "                                                                             'value': 7},\n",
      "                                                                            {'borders': [34,\n",
      "                                                                                         35],\n",
      "                                                                             'value': 6},\n",
      "                                                                            {'borders': [35,\n",
      "                                                                                         36],\n",
      "                                                                             'value': 6},\n",
      "                                                                            {'borders': [36,\n",
      "                                                                                         37],\n",
      "                                                                             'value': 6},\n",
      "                                                                            {'borders': [37,\n",
      "                                                                                         38],\n",
      "                                                                             'value': 5},\n",
      "                                                                            {'borders': [38,\n",
      "                                                                                         39],\n",
      "                                                                             'value': 5},\n",
      "                                                                            {'borders': [39,\n",
      "                                                                                         40],\n",
      "                                                                             'value': 5},\n",
      "                                                                            {'borders': [40,\n",
      "                                                                                         41],\n",
      "                                                                             'value': 4},\n",
      "                                                                            {'borders': [41,\n",
      "                                                                                         42],\n",
      "                                                                             'value': 4},\n",
      "                                                                            {'borders': [42,\n",
      "                                                                                         43],\n",
      "                                                                             'value': 3},\n",
      "                                                                            {'borders': [43,\n",
      "                                                                                         44],\n",
      "                                                                             'value': 3},\n",
      "                                                                            {'borders': [44,\n",
      "                                                                                         45],\n",
      "                                                                             'value': 3},\n",
      "                                                                            {'borders': [45,\n",
      "                                                                                         46],\n",
      "                                                                             'value': 3},\n",
      "                                                                            {'borders': [46,\n",
      "                                                                                         47],\n",
      "                                                                             'value': 3},\n",
      "                                                                            {'borders': [47,\n",
      "                                                                                         48],\n",
      "                                                                             'value': 3},\n",
      "                                                                            {'borders': [48,\n",
      "                                                                                         49],\n",
      "                                                                             'value': 4},\n",
      "                                                                            {'borders': [49,\n",
      "                                                                                         50],\n",
      "                                                                             'value': 4},\n",
      "                                                                            {'borders': [50,\n",
      "                                                                                         51],\n",
      "                                                                             'value': 4},\n",
      "                                                                            {'borders': [51,\n",
      "                                                                                         52],\n",
      "                                                                             'value': 5},\n",
      "                                                                            {'borders': [52,\n",
      "                                                                                         53],\n",
      "                                                                             'value': 5},\n",
      "                                                                            {'borders': [53,\n",
      "                                                                                         54],\n",
      "                                                                             'value': 5},\n",
      "                                                                            {'borders': [54,\n",
      "                                                                                         55],\n",
      "                                                                             'value': 6},\n",
      "                                                                            {'borders': [55,\n",
      "                                                                                         56],\n",
      "                                                                             'value': 6},\n",
      "                                                                            {'borders': [56,\n",
      "                                                                                         57],\n",
      "                                                                             'value': 6},\n",
      "                                                                            {'borders': [57,\n",
      "                                                                                         58],\n",
      "                                                                             'value': 7},\n",
      "                                                                            {'borders': [58,\n",
      "                                                                                         59],\n",
      "                                                                             'value': 7},\n",
      "                                                                            {'borders': [59,\n",
      "                                                                                         60],\n",
      "                                                                             'value': 7},\n",
      "                                                                            {'borders': [60,\n",
      "                                                                                         61],\n",
      "                                                                             'value': 8},\n",
      "                                                                            {'borders': [61,\n",
      "                                                                                         62],\n",
      "                                                                             'value': 8},\n",
      "                                                                            {'borders': [62,\n",
      "                                                                                         63],\n",
      "                                                                             'value': 10},\n",
      "                                                                            {'borders': [63,\n",
      "                                                                                         64],\n",
      "                                                                             'value': 8},\n",
      "                                                                            {'borders': [64,\n",
      "                                                                                         65],\n",
      "                                                                             'value': 8},\n",
      "                                                                            {'borders': [65,\n",
      "                                                                                         66],\n",
      "                                                                             'value': 8},\n",
      "                                                                            {'borders': [66,\n",
      "                                                                                         67],\n",
      "                                                                             'value': 7},\n",
      "                                                                            {'borders': [67,\n",
      "                                                                                         68],\n",
      "                                                                             'value': 7},\n",
      "                                                                            {'borders': [68,\n",
      "                                                                                         69],\n",
      "                                                                             'value': 6},\n",
      "                                                                            {'borders': [69,\n",
      "                                                                                         70],\n",
      "                                                                             'value': 6},\n",
      "                                                                            {'borders': [70,\n",
      "                                                                                         71],\n",
      "                                                                             'value': 6},\n",
      "                                                                            {'borders': [71,\n",
      "                                                                                         72],\n",
      "                                                                             'value': 5},\n",
      "                                                                            {'borders': [72,\n",
      "                                                                                         73],\n",
      "                                                                             'value': 5},\n",
      "                                                                            {'borders': [73,\n",
      "                                                                                         74],\n",
      "                                                                             'value': 5},\n",
      "                                                                            {'borders': [74,\n",
      "                                                                                         75],\n",
      "                                                                             'value': 4},\n",
      "                                                                            {'borders': [75,\n",
      "                                                                                         76],\n",
      "                                                                             'value': 4},\n",
      "                                                                            {'borders': [76,\n",
      "                                                                                         77],\n",
      "                                                                             'value': 4},\n",
      "                                                                            {'borders': [77,\n",
      "                                                                                         78],\n",
      "                                                                             'value': 3},\n",
      "                                                                            {'borders': [78,\n",
      "                                                                                         79],\n",
      "                                                                             'value': 3},\n",
      "                                                                            {'borders': [79,\n",
      "                                                                                         80],\n",
      "                                                                             'value': 3},\n",
      "                                                                            {'borders': [80,\n",
      "                                                                                         81],\n",
      "                                                                             'value': 2},\n",
      "                                                                            {'borders': [81,\n",
      "                                                                                         82],\n",
      "                                                                             'value': 2},\n",
      "                                                                            {'borders': [82,\n",
      "                                                                                         83],\n",
      "                                                                             'value': 2},\n",
      "                                                                            {'borders': [83,\n",
      "                                                                                         84],\n",
      "                                                                             'value': 1},\n",
      "                                                                            {'borders': [84,\n",
      "                                                                                         85],\n",
      "                                                                             'value': 1},\n",
      "                                                                            {'borders': [85,\n",
      "                                                                                         86],\n",
      "                                                                             'value': 1},\n",
      "                                                                            {'borders': [86,\n",
      "                                                                                         87],\n",
      "                                                                             'value': 0},\n",
      "                                                                            {'borders': [87,\n",
      "                                                                                         88],\n",
      "                                                                             'value': 0},\n",
      "                                                                            {'borders': [88,\n",
      "                                                                                         89],\n",
      "                                                                             'value': 0},\n",
      "                                                                            {'borders': [89,\n",
      "                                                                                         90],\n",
      "                                                                             'value': 0},\n",
      "                                                                            {'borders': [90,\n",
      "                                                                                         91],\n",
      "                                                                             'value': 0},\n",
      "                                                                            {'borders': [91,\n",
      "                                                                                         92],\n",
      "                                                                             'value': 0},\n",
      "                                                                            {'borders': [92,\n",
      "                                                                                         93],\n",
      "                                                                             'value': 1},\n",
      "                                                                            {'borders': [93,\n",
      "                                                                                         94],\n",
      "                                                                             'value': 1},\n",
      "                                                                            {'borders': [94,\n",
      "                                                                                         95],\n",
      "                                                                             'value': 1},\n",
      "                                                                            {'borders': [95,\n",
      "                                                                                         96],\n",
      "                                                                             'value': 2},\n",
      "                                                                            {'borders': [96,\n",
      "                                                                                         97],\n",
      "                                                                             'value': 2},\n",
      "                                                                            {'borders': [97,\n",
      "                                                                                         98],\n",
      "                                                                             'value': 3},\n",
      "                                                                            {'borders': [98,\n",
      "                                                                                         99],\n",
      "                                                                             'value': 3},\n",
      "                                                                            {'borders': [99,\n",
      "                                                                                         100],\n",
      "                                                                             'value': 3},\n",
      "                                                                            {'borders': [100,\n",
      "                                                                                         101],\n",
      "                                                                             'value': 4},\n",
      "                                                                            {'borders': [101,\n",
      "                                                                                         102],\n",
      "                                                                             'value': 4},\n",
      "                                                                            {'borders': [102,\n",
      "                                                                                         103],\n",
      "                                                                             'value': 4},\n",
      "                                                                            {'borders': [103,\n",
      "                                                                                         104],\n",
      "                                                                             'value': 5},\n",
      "                                                                            {'borders': [104,\n",
      "                                                                                         105],\n",
      "                                                                             'value': 5},\n",
      "                                                                            {'borders': [105,\n",
      "                                                                                         106],\n",
      "                                                                             'value': 5},\n",
      "                                                                            {'borders': [106,\n",
      "                                                                                         107],\n",
      "                                                                             'value': 6},\n",
      "                                                                            {'borders': [107,\n",
      "                                                                                         108],\n",
      "                                                                             'value': 6},\n",
      "                                                                            {'borders': [108,\n",
      "                                                                                         109],\n",
      "                                                                             'value': 6},\n",
      "                                                                            {'borders': [109,\n",
      "                                                                                         110],\n",
      "                                                                             'value': 7},\n",
      "                                                                            {'borders': [110,\n",
      "                                                                                         111],\n",
      "                                                                             'value': 7},\n",
      "                                                                            {'borders': [111,\n",
      "                                                                                         112],\n",
      "                                                                             'value': 7},\n",
      "                                                                            {'borders': [112,\n",
      "                                                                                         113],\n",
      "                                                                             'value': 8},\n",
      "                                                                            {'borders': [113,\n",
      "                                                                                         114],\n",
      "                                                                             'value': 8},\n",
      "                                                                            {'borders': [114,\n",
      "                                                                                         115],\n",
      "                                                                             'value': 9},\n",
      "                                                                            {'borders': [115,\n",
      "                                                                                         116],\n",
      "                                                                             'value': 8},\n",
      "                                                                            {'borders': [116,\n",
      "                                                                                         117],\n",
      "                                                                             'value': 8},\n",
      "                                                                            {'borders': [117,\n",
      "                                                                                         118],\n",
      "                                                                             'value': 10},\n",
      "                                                                            {'borders': [118,\n",
      "                                                                                         119],\n",
      "                                                                             'value': 8},\n",
      "                                                                            {'borders': [119,\n",
      "                                                                                         120],\n",
      "                                                                             'value': 8},\n",
      "                                                                            {'borders': [120,\n",
      "                                                                                         121],\n",
      "                                                                             'value': 8},\n",
      "                                                                            {'borders': [121,\n",
      "                                                                                         122],\n",
      "                                                                             'value': 7},\n",
      "                                                                            {'borders': [122,\n",
      "                                                                                         123],\n",
      "                                                                             'value': 7},\n",
      "                                                                            {'borders': [123,\n",
      "                                                                                         124],\n",
      "                                                                             'value': 6},\n",
      "                                                                            {'borders': [124,\n",
      "                                                                                         125],\n",
      "                                                                             'value': 6},\n",
      "                                                                            {'borders': [125,\n",
      "                                                                                         126],\n",
      "                                                                             'value': 6},\n",
      "                                                                            {'borders': [126,\n",
      "                                                                                         127],\n",
      "                                                                             'value': 5},\n",
      "                                                                            {'borders': [127,\n",
      "                                                                                         128],\n",
      "                                                                             'value': 5}]},\n",
      "                                                      'timing': 1190},\n",
      "                       'generate_by_time': True,\n",
      "                       'n_generate': 10000,\n",
      "                       'presets': {'nnotes': False},\n",
      "                       'primary_params': {'duration': -1,\n",
      "                                          'n_tokens': -1,\n",
      "                                          'primary_path': ''},\n",
      "                       'sampler_params': {'control_temperature': False,\n",
      "                                          'std_window': 15,\n",
      "                                          'take_most_probable': False},\n",
      "                       'window_size': 2048},\n",
      " 'model_weights': '/storage/arkady/Glinka/music-transformer/video_conditioning/model/epoch_0037.pickle',\n",
      " 'random_seed': 3,\n",
      " 'saving_options': {'output_dir': '/storage/arkady/Glinka/music-transformer/video_conditioning/tmp_e2e',\n",
      "                    'output_folder_name': 'e2e_81',\n",
      "                    'save_mp3': True,\n",
      "                    'save_params': True,\n",
      "                    'save_primary': True}}\n",
      "------ /storage/arkady/Glinka/music-transformer/video_conditioning/code3/generation\n",
      "timing_segments: 517it [00:12, 40.85it/s]                                       \n",
      "/storage/arkady/Glinka/music-transformer/video_conditioning/code3/preprocessing/processor.py:238: UserWarning: Unable to find note's start with pitch: 63\n",
      "  warnings.warn(\n",
      "/storage/arkady/Glinka/music-transformer/video_conditioning/code3/preprocessing/processor.py:238: UserWarning: Unable to find note's start with pitch: 66\n",
      "  warnings.warn(\n",
      "/storage/arkady/Glinka/music-transformer/video_conditioning/code3/preprocessing/processor.py:238: UserWarning: Unable to find note's start with pitch: 67\n",
      "  warnings.warn(\n",
      "/storage/arkady/Glinka/music-transformer/video_conditioning/code3/preprocessing/processor.py:238: UserWarning: Unable to find note's start with pitch: 51\n",
      "  warnings.warn(\n",
      "FluidSynth runtime version 2.1.7\n",
      "Copyright (C) 2000-2021 Peter Hanappe and others.\n",
      "Distributed under the LGPL license.\n",
      "SoundFont(R) is a registered trademark of E-mu Systems, Inc.\n",
      "\n",
      "Parameter 'midi_to_audio/Full_Grand.sf2' not a SoundFont or MIDI file or error occurred identifying it.\n",
      "Rendering audio to file '/storage/arkady/Glinka/music-transformer/video_conditioning/tmp_e2e/e2e_81/e2e_81.mp3'..\n",
      "fluidsynth: warning: Failed to determine audio file type from filename, defaulting to WAV\n"
     ]
    }
   ],
   "source": [
    "# v0\n",
    "import sys\n",
    "# sys.path.append('/storage/arkady/Glinka/music-transformer/video_conditioning/code3')\n",
    "# sys.path.append('/storage/arkady/Glinka/music-transformer/video_conditioning')\n",
    "# sys.path.append('/storage/arkady/Glinka/music-transformer')\n",
    "\n",
    "!pwd\n",
    "%cd /storage/arkady/Glinka/music-transformer/video_conditioning/code3/generation\n",
    "# %cd /storage/arkady/Glinka/music-transformer/video_conditioning # зачем?\n",
    "\n",
    "'''\n",
    "Arguments:\n",
    "    model_weights.pickle path\n",
    "    time_ms - length of generated music  *10ms\n",
    "    sentiment - not used\n",
    "    genre - from GENRES_LIST = ('pop', 'jazz', 'rock', 'blues', ...)\n",
    "    output_dir\n",
    "    output_name\n",
    "    nnotes_path.json\n",
    "\n",
    "Returns:\n",
    "    saves config - modified from generate_sample_parameters.json\n",
    "    runs code3/generate_sample.py\n",
    "\n",
    "    creates output_dir/output_name.wav\n",
    "    creates output_dir/output_name.mp3\n",
    "'''\n",
    "\n",
    "\n",
    "!CUDA_VISIBLE_DEVICES=5 \\\n",
    "/storage/arkady/miniconda3/envs/transformer_production/bin/python \\\n",
    "/storage/arkady/Glinka/music-transformer/video_conditioning/gen_script_e2e.py \\\n",
    "'/storage/arkady/Glinka/music-transformer/video_conditioning/model/epoch_0037.pickle' \\\n",
    "{int(video_length_s * 100)} 0 2 'tmp_e2e' 'e2e_81' '/storage/arkady/Glinka/music-transformer/video_conditioning/tmp_e2e/nnotes_video_ad81.json'"
   ]
  },
  {
   "cell_type": "code",
   "execution_count": null,
   "metadata": {},
   "outputs": [],
   "source": [
    "!CUDA_VISIBLE_DEVICES=5 \\\n",
    "/storage/arkady/miniconda3/envs/transformer_production/bin/python3 \\\n",
    "/storage/arkady/Glinka/music-transformer/video_conditioning/gen_script_e2e.py \\\n",
    "'/storage/arkady/Glinka/music-transformer/video_conditioning/model/epoch_0037.pickle' \\\n",
    "1190 0 2 'tmp_e2e' 'e2e_81' '/storage/arkady/Glinka/music-transformer/video_conditioning/tmp_e2e/nnotes_video_ad81.json'"
   ]
  },
  {
   "cell_type": "code",
   "execution_count": 27,
   "metadata": {
    "collapsed": true,
    "jupyter": {
     "outputs_hidden": true
    }
   },
   "outputs": [
    {
     "ename": "NameError",
     "evalue": "name 'video_length_s' is not defined",
     "output_type": "error",
     "traceback": [
      "\u001b[0;31m---------------------------------------------------------------------------\u001b[0m",
      "\u001b[0;31mNameError\u001b[0m                                 Traceback (most recent call last)",
      "Cell \u001b[0;32mIn[27], line 12\u001b[0m\n\u001b[1;32m      1\u001b[0m \u001b[38;5;66;03m# v1\u001b[39;00m\n\u001b[1;32m      2\u001b[0m \u001b[38;5;28;01mimport\u001b[39;00m \u001b[38;5;21;01msubprocess\u001b[39;00m\n\u001b[1;32m      4\u001b[0m proc \u001b[38;5;241m=\u001b[39m subprocess\u001b[38;5;241m.\u001b[39mrun(\u001b[38;5;124m'\u001b[39m\u001b[38;5;124m;\u001b[39m\u001b[38;5;124m'\u001b[39m\u001b[38;5;241m.\u001b[39mjoin([\n\u001b[1;32m      5\u001b[0m     \u001b[38;5;124m'\u001b[39m\u001b[38;5;124mcd /storage/arkady/Glinka/music-transformer/video_conditioning/code3\u001b[39m\u001b[38;5;124m'\u001b[39m,\n\u001b[1;32m      6\u001b[0m     \u001b[38;5;124m'\u001b[39m\u001b[38;5;124mpwd\u001b[39m\u001b[38;5;124m'\u001b[39m,\n\u001b[1;32m      7\u001b[0m     \u001b[38;5;124mf\u001b[39m\u001b[38;5;124m\"\"\"\u001b[39m\n\u001b[1;32m      8\u001b[0m \u001b[38;5;124mCUDA_VISIBLE_DEVICES=0 \u001b[39m\u001b[38;5;130;01m\\\u001b[39;00m\n\u001b[1;32m      9\u001b[0m \u001b[38;5;124m/storage/arkady/miniconda3/envs/transformer_production/bin/python \u001b[39m\u001b[38;5;130;01m\\\u001b[39;00m\n\u001b[1;32m     10\u001b[0m \u001b[38;5;124m/storage/arkady/Glinka/music-transformer/video_conditioning/gen_script_e2e.py \u001b[39m\u001b[38;5;130;01m\\\u001b[39;00m\n\u001b[1;32m     11\u001b[0m \u001b[38;5;124m'\u001b[39m\u001b[38;5;124m/storage/arkady/Glinka/music-transformer/video_conditioning/model/epoch_0037.pickle\u001b[39m\u001b[38;5;124m'\u001b[39m\u001b[38;5;124m \u001b[39m\u001b[38;5;130;01m\\\u001b[39;00m\n\u001b[0;32m---> 12\u001b[0m \u001b[38;5;132;01m{\u001b[39;00m\u001b[38;5;28mint\u001b[39m(\u001b[43mvideo_length_s\u001b[49m\u001b[38;5;250m \u001b[39m\u001b[38;5;241m*\u001b[39m\u001b[38;5;250m \u001b[39m\u001b[38;5;241m100\u001b[39m)\u001b[38;5;132;01m}\u001b[39;00m\u001b[38;5;124m 0 2 \u001b[39m\u001b[38;5;124m'\u001b[39m\u001b[38;5;124mtmp_e2e\u001b[39m\u001b[38;5;124m'\u001b[39m\u001b[38;5;124m \u001b[39m\u001b[38;5;124m'\u001b[39m\u001b[38;5;124me2e_\u001b[39m\u001b[38;5;132;01m{\u001b[39;00mpath_mp4\u001b[38;5;241m.\u001b[39mstem\u001b[38;5;132;01m}\u001b[39;00m\u001b[38;5;124m'\u001b[39m\u001b[38;5;124m \u001b[39m\u001b[38;5;130;01m\\\u001b[39;00m\n\u001b[1;32m     13\u001b[0m \u001b[38;5;124m'\u001b[39m\u001b[38;5;124m/storage/arkady/Glinka/music-transformer/video_conditioning/tmp_e2e/nnotes_\u001b[39m\u001b[38;5;132;01m{\u001b[39;00mpath_mp4\u001b[38;5;241m.\u001b[39mstem\u001b[38;5;132;01m}\u001b[39;00m\u001b[38;5;124m.json\u001b[39m\u001b[38;5;124m'\u001b[39m\n\u001b[1;32m     14\u001b[0m \u001b[38;5;124m    \u001b[39m\u001b[38;5;124m\"\"\"\u001b[39m\n\u001b[1;32m     15\u001b[0m ]), shell\u001b[38;5;241m=\u001b[39m\u001b[38;5;28;01mTrue\u001b[39;00m, capture_output\u001b[38;5;241m=\u001b[39m\u001b[38;5;28;01mTrue\u001b[39;00m, text\u001b[38;5;241m=\u001b[39m\u001b[38;5;28;01mTrue\u001b[39;00m)\n\u001b[1;32m     17\u001b[0m \u001b[38;5;28mprint\u001b[39m(proc\u001b[38;5;241m.\u001b[39mstdout)\n\u001b[1;32m     18\u001b[0m \u001b[38;5;28mprint\u001b[39m(\u001b[38;5;124m'\u001b[39m\u001b[38;5;124m##################\u001b[39m\u001b[38;5;124m'\u001b[39m)\n",
      "\u001b[0;31mNameError\u001b[0m: name 'video_length_s' is not defined"
     ]
    }
   ],
   "source": [
    "# v1\n",
    "import subprocess\n",
    "\n",
    "proc = subprocess.run(';'.join([\n",
    "    'cd /storage/arkady/Glinka/music-transformer/video_conditioning/code3',\n",
    "    'pwd',\n",
    "    f\"\"\"\n",
    "CUDA_VISIBLE_DEVICES=0 \\\n",
    "/storage/arkady/miniconda3/envs/transformer_production/bin/python \\\n",
    "/storage/arkady/Glinka/music-transformer/video_conditioning/gen_script_e2e.py \\\n",
    "'/storage/arkady/Glinka/music-transformer/video_conditioning/model/epoch_0037.pickle' \\\n",
    "{int(video_length_s * 100)} 0 2 'tmp_e2e' 'e2e_{path_mp4.stem}' \\\n",
    "'/storage/arkady/Glinka/music-transformer/video_conditioning/tmp_e2e/nnotes_{path_mp4.stem}.json'\n",
    "    \"\"\"\n",
    "]), shell=True, capture_output=True, text=True)\n",
    "\n",
    "print(proc.stdout)\n",
    "print('##################')\n",
    "print(proc.stderr)"
   ]
  },
  {
   "cell_type": "code",
   "execution_count": 40,
   "metadata": {},
   "outputs": [
    {
     "name": "stdout",
     "output_type": "stream",
     "text": [
      "/storage/arkady/Glinka/music-transformer/video_conditioning/code3\n",
      "==== then\n",
      "=====generate_samples====== /storage/arkady/Glinka/music-transformer/video_conditioning/code3\n",
      "------ /storage/arkady/Glinka/music-transformer/video_conditioning/code3\n",
      "FluidSynth runtime version 2.1.7\n",
      "Copyright (C) 2000-2021 Peter Hanappe and others.\n",
      "Distributed under the LGPL license.\n",
      "SoundFont(R) is a registered trademark of E-mu Systems, Inc.\n",
      "\n",
      "Rendering audio to file '/storage/arkady/Glinka/music-transformer/video_conditioning/tmp_e2e/e2e_video_ad25/e2e_video_ad25.mp3'..\n",
      "======= /storage/arkady/Glinka/music-transformer/video_conditioning/tmp_e2e e2e_video_ad25\n",
      "[{'borders': [0, 1], 'value': 3},\n",
      "{'borders': [1, 2], 'value': 4},\n",
      "{'borders': [2, 3], 'value': 4},\n",
      "{'borders': [3, 4], 'value': 4}]\n",
      "Error: timing_segments:   0%|          | 0/127 [00:00<?, ?it/s]\n",
      "timing_segments: 390it [00:04, 86.05it/s]               \n",
      "timing_segments: 399it [00:11, 27.05it/s]\n",
      "timing_segments: 403it [00:14, 19.76it/s]\n",
      "timing_segments: 406it [00:17, 14.27it/s]\n",
      "timing_segments: 408it [00:20, 10.47it/s]\n",
      "timing_segments: 409it [00:22,  8.32it/s]\n",
      "timing_segments: 410it [00:23,  7.13it/s]\n",
      "timing_segments: 411it [00:24,  6.37it/s]\n",
      "timing_segments: 412it [00:25,  5.20it/s]\n",
      "timing_segments: 413it [00:26,  4.21it/s]\n",
      "timing_segments: 414it [00:27,  3.61it/s]\n",
      "timing_segments: 415it [00:28,  3.11it/s]\n",
      "timing_segments: 416it [00:28,  2.60it/s]\n",
      "timing_segments: 417it [00:29,  2.20it/s]\n",
      "timing_segments: 418it [00:31,  1.70it/s]\n",
      "timing_segments: 419it [00:32,  1.54it/s]\n",
      "timing_segments: 420it [00:32,  1.65it/s]\n",
      "timing_segments: 421it [00:33,  1.39it/s]\n",
      "timing_segments: 422it [00:34,  1.28it/s]\n",
      "timing_segments: 423it [00:35,  1.16it/s]\n",
      "timing_segments: 424it [00:36,  1.08it/s]\n",
      "timing_segments: 425it [00:37,  1.00s/it]\n",
      "timing_segments: 426it [00:39,  1.07s/it]\n",
      "timing_segments: 427it [00:40,  1.08s/it]\n",
      "timing_segments: 428it [00:40,  1.11it/s]\n",
      "timing_segments: 429it [00:41,  1.05it/s]\n",
      "timing_segments: 430it [00:42,  1.06it/s]\n",
      "timing_segments: 431it [00:43,  1.06it/s]\n",
      "timing_segments: 432it [00:44,  1.07it/s]\n",
      "timing_segments: 433it [00:45,  1.01it/s]\n",
      "timing_segments: 434it [00:47,  1.13s/it]\n",
      "timing_segments: 435it [00:48,  1.26s/it]\n",
      "timing_segments: 436it [00:49,  1.15s/it]\n",
      "timing_segments: 437it [00:50,  1.12s/it]\n",
      "timing_segments: 438it [00:52,  1.21s/it]\n",
      "timing_segments: 439it [00:53,  1.29s/it]\n",
      "timing_segments: 440it [00:55,  1.44s/it]\n",
      "timing_segments: 441it [00:57,  1.51s/it]\n",
      "timing_segments: 442it [00:59,  1.67s/it]\n",
      "timing_segments: 443it [01:01,  1.76s/it]\n",
      "timing_segments: 444it [01:02,  1.73s/it]\n",
      "timing_segments: 445it [01:03,  1.43s/it]\n",
      "timing_segments: 446it [01:05,  1.48s/it]\n",
      "timing_segments: 447it [01:06,  1.52s/it]\n",
      "timing_segments: 448it [01:08,  1.56s/it]\n",
      "timing_segments: 449it [01:10,  1.63s/it]\n",
      "timing_segments: 450it [01:11,  1.67s/it]\n",
      "timing_segments: 451it [01:13,  1.72s/it]\n",
      "timing_segments: 452it [01:15,  1.81s/it]\n",
      "timing_segments: 453it [01:16,  1.61s/it]\n",
      "timing_segments: 454it [01:19,  1.82s/it]\n",
      "timing_segments: 455it [01:21,  1.97s/it]\n",
      "timing_segments: 456it [01:23,  1.99s/it]\n",
      "timing_segments: 457it [01:25,  2.04s/it]\n",
      "timing_segments: 458it [01:28,  2.12s/it]\n",
      "timing_segments: 459it [01:31,  2.41s/it]\n",
      "timing_segments: 460it [01:33,  2.43s/it]\n",
      "timing_segments: 461it [01:35,  2.24s/it]\n",
      "timing_segments: 462it [01:37,  2.08s/it]\n",
      "timing_segments: 463it [01:39,  2.12s/it]\n",
      "timing_segments: 464it [01:41,  2.21s/it]\n",
      "timing_segments: 465it [01:43,  2.23s/it]\n",
      "timing_segments: 466it [01:45,  2.10s/it]\n",
      "timing_segments: 467it [01:48,  2.35s/it]\n",
      "timing_segments: 468it [01:51,  2.47s/it]\n",
      "timing_segments: 469it [01:54,  2.52s/it]\n",
      "timing_segments: 470it [01:55,  2.18s/it]\n",
      "timing_segments: 471it [01:58,  2.31s/it]\n",
      "timing_segments: 472it [02:00,  2.37s/it]\n",
      "timing_segments: 473it [02:03,  2.55s/it]\n",
      "timing_segments: 474it [02:06,  2.71s/it]\n",
      "timing_segments: 475it [02:10,  2.92s/it]\n",
      "timing_segments: 476it [02:13,  3.06s/it]\n",
      "timing_segments: 477it [02:17,  3.27s/it]\n",
      "timing_segments: 478it [02:18,  2.53s/it]\n",
      "timing_segments: 479it [02:21,  2.75s/it]\n",
      "timing_segments: 480it [02:22,  2.41s/it]\n",
      "timing_segments: 481it [02:24,  2.20s/it]\n",
      "timing_segments: 482it [02:26,  2.05s/it]\n",
      "timing_segments: 483it [02:28,  1.95s/it]\n",
      "timing_segments: 484it [02:29,  1.86s/it]\n",
      "timing_segments: 485it [02:32,  2.18s/it]\n",
      "timing_segments: 486it [02:34,  2.03s/it]\n",
      "timing_segments: 487it [02:36,  2.17s/it]\n",
      "timing_segments: 488it [02:40,  2.48s/it]\n",
      "timing_segments: 489it [02:42,  2.63s/it]\n",
      "timing_segments: 490it [02:46,  2.96s/it]\n",
      "timing_segments: 491it [02:50,  3.11s/it]\n",
      "timing_segments: 492it [02:53,  3.21s/it]\n",
      "timing_segments: 493it [02:57,  3.29s/it]\n",
      "timing_segments: 494it [02:59,  3.10s/it]\n",
      "timing_segments: 495it [03:01,  2.69s/it]\n",
      "timing_segments: 496it [03:03,  2.50s/it]\n",
      "timing_segments: 497it [03:05,  2.44s/it]\n",
      "timing_segments: 498it [03:09,  2.93s/it]\n",
      "timing_segments: 499it [03:14,  3.35s/it]\n",
      "timing_segments: 500it [03:18,  3.57s/it]\n",
      "timing_segments: 501it [03:23,  3.96s/it]\n",
      "timing_segments: 502it [03:27,  4.18s/it]\n",
      "timing_segments: 503it [03:29,  3.52s/it]\n",
      "timing_segments: 504it [03:33,  3.68s/it]\n",
      "timing_segments: 505it [03:37,  3.70s/it]\n",
      "timing_segments: 506it [03:41,  3.88s/it]\n",
      "timing_segments: 507it [03:46,  4.05s/it]\n",
      "timing_segments: 508it [03:50,  3.93s/it]\n",
      "timing_segments: 509it [03:54,  4.09s/it]\n",
      "timing_segments: 510it [03:59,  4.25s/it]\n",
      "timing_segments: 511it [04:01,  3.70s/it]\n",
      "timing_segments: 512it [04:03,  3.32s/it]\n",
      "timing_segments: 513it [04:06,  3.02s/it]\n",
      "timing_segments: 514it [04:10,  3.34s/it]\n",
      "timing_segments: 515it [04:20,  5.40s/it]\n",
      "timing_segments: 516it [04:35,  8.12s/it]\n",
      "timing_segments: 517it [04:47,  9.39s/it]\n",
      "timing_segments: 517it [04:47,  1.80it/s]fluidsynth: warning: No preset found on channel 9 [bank=128 prog=0]\n",
      "fluidsynth: warning: Failed to determine audio file type from filename, defaulting to WAV\n",
      "\n",
      "/storage/arkady/Glinka/music-transformer/video_conditioning/code3/preprocessing/processor.py:238: UserWarning: Unable to find note's start with pitch: 64\n",
      "  warnings.warn(\n",
      "/storage/arkady/Glinka/music-transformer/video_conditioning/code3/preprocessing/processor.py:238: UserWarning: Unable to find note's start with pitch: 76\n",
      "  warnings.warn(\n",
      "/storage/arkady/Glinka/music-transformer/video_conditioning/code3/preprocessing/processor.py:238: UserWarning: Unable to find note's start with pitch: 93\n",
      "  warnings.warn(\n"
     ]
    }
   ],
   "source": [
    "# v2\n",
    "import subprocess\n",
    "\n",
    "def stream_subprocess_output(command):\n",
    "    process = subprocess.Popen(\n",
    "        command,\n",
    "        shell=True,\n",
    "        executable=\"/bin/bash\",\n",
    "        stdout=subprocess.PIPE,\n",
    "        stderr=subprocess.PIPE,\n",
    "        text=True\n",
    "    )\n",
    "\n",
    "    while True:\n",
    "        output = process.stdout.readline()\n",
    "        if output == '' and process.poll() is not None:\n",
    "            break\n",
    "        if output:\n",
    "            print(output.strip())\n",
    "\n",
    "    err = process.stderr.read()\n",
    "    if err:\n",
    "        print(\"Error:\", err.strip())\n",
    "\n",
    "command = ';'.join([\n",
    "    'cd /storage/arkady/Glinka/music-transformer/video_conditioning/code3',\n",
    "    'pwd',\n",
    "    f\"\"\"\n",
    "CUDA_VISIBLE_DEVICES=0 \\\n",
    "/storage/arkady/miniconda3/envs/transformer_production/bin/python \\\n",
    "/storage/arkady/Glinka/music-transformer/video_conditioning/gen_script_e2e.py \\\n",
    "'/storage/arkady/Glinka/music-transformer/video_conditioning/model/epoch_0037.pickle' \\\n",
    "{int(video_length_s * 100)} 0 2 'tmp_e2e' 'e2e_{path_mp4.stem}' \\\n",
    "'/storage/arkady/Glinka/music-transformer/video_conditioning/tmp_e2e/nnotes_{path_mp4.stem}.json'\n",
    "    \"\"\"\n",
    "])\n",
    "\n",
    "# stream_subprocess_output(\"for i in {1..5}; do echo $i; sleep 1; done\")\n",
    "stream_subprocess_output(command)"
   ]
  },
  {
   "cell_type": "code",
   "execution_count": null,
   "metadata": {},
   "outputs": [
    {
     "name": "stdout",
     "output_type": "stream",
     "text": [
      "/storage/arkady/Glinka/music-transformer/video_conditioning/code3\n",
      "==== then\n",
      "=====generate_samples====== /storage/arkady/Glinka/music-transformer/video_conditioning/code3\n",
      "------ /storage/arkady/Glinka/music-transformer/video_conditioning/code3\n"
     ]
    }
   ],
   "source": [
    "# v3\n",
    "import subprocess\n",
    "\n",
    "def stream_subprocess_output(command):\n",
    "    # Start the subprocess using bash explicitly\n",
    "    process = subprocess.Popen(\n",
    "        command,\n",
    "        shell=True,\n",
    "        executable=\"/bin/bash\",  # Specify the Bash executable\n",
    "        stdout=subprocess.PIPE,\n",
    "        stderr=subprocess.PIPE,\n",
    "        text=True\n",
    "    )\n",
    "\n",
    "    # Monitor both stdout and stderr\n",
    "    while True:\n",
    "        # Poll process for new output: both stdout and stderr\n",
    "        output = process.stdout.readline()\n",
    "        error_output = process.stderr.readline()\n",
    "\n",
    "        # Check if subprocess has terminated and stdout/stderr are empty\n",
    "        if process.poll() is not None and output == '' and error_output == '':\n",
    "            break\n",
    "\n",
    "        # Print any outputs collected to stdout\n",
    "        if output:\n",
    "            print(output.strip())\n",
    "\n",
    "        # Print any errors collected to stderr, where tqdm typically writes\n",
    "        if error_output:\n",
    "            print(error_output.strip(), end='')  # Use end='' for tqdm to properly update the line\n",
    "\n",
    "    # Ensure all output is flushed after subprocess termination\n",
    "    stdout, stderr = process.communicate()\n",
    "    if stdout:\n",
    "        print(stdout.strip())\n",
    "    if stderr:\n",
    "        print(stderr.strip())\n",
    "\n",
    "command = ';'.join([\n",
    "    'cd /storage/arkady/Glinka/music-transformer/video_conditioning/code3',\n",
    "    'pwd',\n",
    "    f\"\"\"\n",
    "CUDA_VISIBLE_DEVICES=0 \\\n",
    "/storage/arkady/miniconda3/envs/transformer_production/bin/python \\\n",
    "/storage/arkady/Glinka/music-transformer/video_conditioning/gen_script_e2e.py \\\n",
    "'/storage/arkady/Glinka/music-transformer/video_conditioning/model/epoch_0037.pickle' \\\n",
    "{int(video_length_s * 100)} 0 2 'tmp_e2e' 'e2e_{path_mp4.stem}' \\\n",
    "'/storage/arkady/Glinka/music-transformer/video_conditioning/tmp_e2e/nnotes_{path_mp4.stem}.json'\n",
    "    \"\"\"\n",
    "])\n",
    "\n",
    "# stream_subprocess_output(\"for i in {1..5}; do echo $i; sleep 1; done\")\n",
    "stream_subprocess_output(command)"
   ]
  },
  {
   "cell_type": "markdown",
   "metadata": {},
   "source": [
    "# 5. combine mp4 and mp3, video and audio"
   ]
  },
  {
   "cell_type": "code",
   "execution_count": 4,
   "metadata": {},
   "outputs": [
    {
     "name": "stdout",
     "output_type": "stream",
     "text": [
      "/storage/arkady/Glinka/music-transformer/video_conditioning\n"
     ]
    }
   ],
   "source": [
    "!pwd\n",
    "path_mp4 = '/storage/arkady/Glinka/music-transformer/video_conditioning/content/video_data/video_ad27.mp4'\n",
    "video_path = str(path_mp4)\n",
    "audio_path = 'tmp_e2e_1/video_ad27_gen/video_ad27_gen.mp3'\n",
    "output_path = f'tmp_e2e_1/GLUED.mp4'\n",
    "\n",
    "assert os.path.exists(video_path)\n",
    "assert os.path.exists(audio_path)"
   ]
  },
  {
   "cell_type": "code",
   "execution_count": 6,
   "metadata": {},
   "outputs": [
    {
     "name": "stdout",
     "output_type": "stream",
     "text": [
      "Moviepy - Building video tmp_e2e_1/GLUED.mp4.\n",
      "FPS3= 23.976023976023978\n",
      "MoviePy - Writing audio in GLUEDTEMP_MPY_wvf_snd.mp3\n"
     ]
    },
    {
     "name": "stderr",
     "output_type": "stream",
     "text": [
      "                                                                   \r"
     ]
    },
    {
     "name": "stdout",
     "output_type": "stream",
     "text": [
      "MoviePy - Done.\n",
      "FPS= 23.976023976023978\n",
      "Moviepy - Writing video tmp_e2e_1/GLUED.mp4\n",
      "\n",
      "FPS2= 23.976023976023978\n",
      "FPS1= 23.976023976023978\n",
      "a\n"
     ]
    },
    {
     "name": "stderr",
     "output_type": "stream",
     "text": [
      "                                                              \r"
     ]
    },
    {
     "name": "stdout",
     "output_type": "stream",
     "text": [
      "Moviepy - Done !\n",
      "Moviepy - video ready tmp_e2e_1/GLUED.mp4\n"
     ]
    }
   ],
   "source": [
    "from moviepy.editor import VideoFileClip, AudioFileClip, CompositeVideoClip, concatenate_audioclips\n",
    "\n",
    "def merge_video_audio(video_path, audio_path, output_path):\n",
    "    # Load the video file\n",
    "    video_clip = VideoFileClip(video_path)\n",
    "    \n",
    "    # Load the audio file\n",
    "    audio_clip = AudioFileClip(audio_path)\n",
    "    \n",
    "    # The duration of the video\n",
    "    video_duration = video_clip.duration\n",
    "\n",
    "    # Check if the audio clip is shorter than the video clip\n",
    "    if audio_clip.duration < video_duration:\n",
    "        # Calculate the number of times the audio needs to be repeated\n",
    "        repeat_count = int(video_duration // audio_clip.duration) + 1\n",
    "        # Create a new audio clip by concatenating the audio clip with itself\n",
    "        audio_clip = concatenate_audioclips([audio_clip] * repeat_count)\n",
    "    \n",
    "    # Set the duration of the audio clip to match the video clip's duration\n",
    "    audio_clip = audio_clip.set_duration(video_duration)\n",
    "    \n",
    "    # Set the audio of the video clip to the audio clip\n",
    "    video_clip = video_clip.set_audio(audio_clip)\n",
    "    \n",
    "    # Write the result to a file\n",
    "    video_clip.write_videofile(output_path, codec='libx264', audio_codec='libmp3lame', fps=video_clip.fps)\n",
    "\n",
    "# # Example usage\n",
    "\n",
    "merge_video_audio(video_path, audio_path, output_path)"
   ]
  },
  {
   "cell_type": "markdown",
   "metadata": {},
   "source": [
    "# 6 script execution"
   ]
  },
  {
   "cell_type": "code",
   "execution_count": 93,
   "metadata": {},
   "outputs": [
    {
     "name": "stdout",
     "output_type": "stream",
     "text": [
      "obj='generate_music_for_video'\n",
      "obj='#1'\n",
      "MoviePy - Writing audio in /storage/arkady/Glinka/music-transformer/video_conditioning/tmp_e2e/video_ad27.mp3\n",
      "MoviePy - Done.                                                                 \n",
      "=====Successfully written new mp3 to path_mp3=PosixPath('/storage/arkady/Glinka/music-transformer/video_conditioning/tmp_e2e/video_ad27.mp3')\n",
      "loading model... done\n",
      "loading wave source... done\n",
      "stft of wave source... done\n",
      "100%|█████████████████████████████████████████████| 1/1 [00:02<00:00,  2.83s/it]\n",
      "validating output directory... done\n",
      "inverse stft of instruments... done\n",
      "inverse stft of vocals... done\n",
      "\u001b[0m=====Instrumentals at: /storage/arkady/Glinka/music-transformer/video_conditioning/tmp_e2e/video_ad27_Instruments.wav\n",
      "=====Vocals at: /storage/arkady/Glinka/music-transformer/video_conditioning/tmp_e2e/video_ad27_Vocals.wav\n",
      "\n",
      "✨✨✨✨✨✨✨✨✨\n",
      "✨ Basic Pitch  ✨\n",
      "✨✨✨✨✨✨✨✨✨\n",
      "\n",
      "Importing Tensorflow (this may take a few seconds)...\n",
      "\n",
      "Predicting MIDI for /storage/arkady/Glinka/music-transformer/video_conditioning/tmp_e2e/video_ad27_Instruments.wav...\n",
      "\n",
      "\n",
      "  Creating midi...\n",
      "  💅 Saved to /storage/arkady/Glinka/music-transformer/video_conditioning/tmp_e2e/video_ad27_Instruments_basic_pitch.mid\n",
      "\n",
      "✨ Done ✨\n",
      "\n",
      "\u001b[0mobj='#2'\n",
      "pr_kvm.stdout='Figure(1200x600)\\nkeyframe 2 happened at 1.0 sec.\\nkeyframe 3 happened at 1.1 sec.\\n'\n",
      "pr_kvm.stderr=''\n",
      "obj='#3'\n",
      "obj='#3.5'\n",
      "obj='create_config'\n",
      "obj='#4'\n",
      "command='cd code3;\\n    /storage/arkady/miniconda3/envs/transformer_production/bin/python -m     generation.generate_sample     /storage/arkady/Glinka/music-transformer/video_conditioning/tmp_e2e/video_ad27/generate_sample_video_ad27_parameters.json     '\n",
      "args=['/storage/arkady/Glinka/music-transformer/video_conditioning/code3/generation/generate_sample.py', '/storage/arkady/Glinka/music-transformer/video_conditioning/tmp_e2e/video_ad27/generate_sample_video_ad27_parameters.json']\n",
      "------ /storage/arkady/Glinka/music-transformer/video_conditioning/code3\n",
      "timing_segments:   0%|          | 0/127 [00:00<?, ?it/s]---- save_generated\n",
      "timing_segments: 390it [00:01, 328.14it/s]{'output_dir': '/storage/arkady/Glinka/music-transformer/video_conditioning/tmp_e2e',\n",
      "timing_segments: 423it [00:12, 24.82it/s]'output_folder_name': 'video_ad27_red',\n",
      "timing_segments: 424it [00:13, 23.70it/s]'save_mp3': True,\n",
      "timing_segments: 438it [00:26,  8.17it/s]'save_params': True,\n",
      "timing_segments: 439it [00:28,  7.57it/s]'save_primary': True}\n",
      "timing_segments: 447it [00:34,  5.26it/s]/storage/arkady/Glinka/music-transformer/video_conditioning/tmp_e2e/video_ad27_red/video_ad27_red.midi\n",
      "timing_segments: 452it [00:40,  3.70it/s]FluidSynth runtime version 2.1.7\n",
      "timing_segments: 455it [00:42,  3.50it/s]Copyright (C) 2000-2021 Peter Hanappe and others.\n",
      "timing_segments: 458it [00:44,  3.26it/s]Distributed under the LGPL license.\n",
      "timing_segments: 460it [00:46,  2.73it/s]SoundFont(R) is a registered trademark of E-mu Systems, Inc.\n",
      "timing_segments: 461it [00:48,  2.24it/s]\n",
      "timing_segments: 462it [00:49,  2.12it/s]Rendering audio to file '/storage/arkady/Glinka/music-transformer/video_conditioning/tmp_e2e/video_ad27_red/video_ad27_red.mp3'..\n",
      "timing_segments: 463it [00:49,  2.20it/s]timing_segments: 464it [00:50,  2.17it/s]timing_segments: 465it [00:50,  2.36it/s]timing_segments: 466it [00:50,  2.13it/s]timing_segments: 467it [00:52,  1.51it/s]timing_segments: 468it [00:54,  1.05it/s]timing_segments: 469it [00:55,  1.15it/s]timing_segments: 470it [00:55,  1.20it/s]timing_segments: 471it [00:58,  1.28s/it]timing_segments: 472it [01:00,  1.47s/it]timing_segments: 473it [01:01,  1.45s/it]timing_segments: 474it [01:03,  1.54s/it]timing_segments: 475it [01:04,  1.52s/it]timing_segments: 476it [01:07,  1.88s/it]timing_segments: 477it [01:10,  2.02s/it]timing_segments: 478it [01:11,  1.92s/it]timing_segments: 479it [01:13,  1.79s/it]timing_segments: 480it [01:14,  1.69s/it]timing_segments: 481it [01:16,  1.74s/it]timing_segments: 482it [01:18,  1.72s/it]timing_segments: 483it [01:18,  1.43s/it]timing_segments: 484it [01:21,  1.77s/it]timing_segments: 485it [01:23,  1.82s/it]timing_segments: 486it [01:26,  2.12s/it]timing_segments: 487it [01:29,  2.31s/it]timing_segments: 488it [01:33,  3.07s/it]timing_segments: 489it [01:35,  2.76s/it]timing_segments: 490it [01:37,  2.54s/it]timing_segments: 491it [01:40,  2.57s/it]timing_segments: 492it [01:41,  2.10s/it]timing_segments: 494it [01:42,  1.33s/it]timing_segments: 495it [01:42,  1.05s/it]timing_segments: 497it [01:43,  1.40it/s]timing_segments: 498it [01:43,  1.58it/s]timing_segments: 499it [01:44,  1.43it/s]timing_segments: 500it [01:45,  1.13it/s]timing_segments: 501it [01:48,  1.29s/it]timing_segments: 502it [01:52,  2.12s/it]timing_segments: 503it [01:54,  2.08s/it]timing_segments: 504it [01:56,  2.04s/it]timing_segments: 505it [01:58,  2.08s/it]timing_segments: 506it [02:02,  2.54s/it]timing_segments: 507it [02:04,  2.47s/it]timing_segments: 508it [02:07,  2.56s/it]timing_segments: 509it [02:10,  2.73s/it]timing_segments: 510it [02:11,  2.16s/it]timing_segments: 511it [02:12,  2.03s/it]timing_segments: 512it [02:14,  2.01s/it]timing_segments: 513it [02:16,  1.86s/it]timing_segments: 514it [02:18,  1.80s/it]timing_segments: 515it [02:20,  2.13s/it]timing_segments: 516it [02:21,  1.71s/it]timing_segments: 517it [02:22,  1.51s/it]timing_segments: 517it [02:22,  3.62it/s]/storage/arkady/Glinka/music-transformer/video_conditioning/code3/preprocessing/processor.py:238: UserWarning: Unable to find note's start with pitch: 32warnings.warn(/storage/arkady/Glinka/music-transformer/video_conditioning/code3/preprocessing/processor.py:238: UserWarning: Unable to find note's start with pitch: 66warnings.warn(/storage/arkady/Glinka/music-transformer/video_conditioning/code3/preprocessing/processor.py:238: UserWarning: Unable to find note's start with pitch: 51warnings.warn(/storage/arkady/Glinka/music-transformer/video_conditioning/code3/preprocessing/processor.py:238: UserWarning: Unable to find note's start with pitch: 44warnings.warn(/storage/arkady/Glinka/music-transformer/video_conditioning/code3/preprocessing/processor.py:238: UserWarning: Unable to find note's start with pitch: 56warnings.warn(/storage/arkady/Glinka/music-transformer/video_conditioning/code3/preprocessing/processor.py:238: UserWarning: Unable to find note's start with pitch: 36warnings.warn(/storage/arkady/Glinka/music-transformer/video_conditioning/code3/preprocessing/processor.py:238: UserWarning: Unable to find note's start with pitch: 52warnings.warn(/storage/arkady/Glinka/music-transformer/video_conditioning/code3/preprocessing/processor.py:238: UserWarning: Unable to find note's start with pitch: 64warnings.warn(/storage/arkady/Glinka/music-transformer/video_conditioning/code3/preprocessing/processor.py:238: UserWarning: Unable to find note's start with pitch: 26warnings.warn(/storage/arkady/Glinka/music-transformer/video_conditioning/code3/preprocessing/processor.py:238: UserWarning: Unable to find note's start with pitch: 45warnings.warn(/storage/arkady/Glinka/music-transformer/video_conditioning/code3/preprocessing/processor.py:238: UserWarning: Unable to find note's start with pitch: 62warnings.warn(/storage/arkady/Glinka/music-transformer/video_conditioning/code3/preprocessing/processor.py:238: UserWarning: Unable to find note's start with pitch: 50warnings.warn(fluidsynth: warning: No preset found on channel 9 [bank=128 prog=0]fluidsynth: warning: Failed to determine audio file type from filename, defaulting to WAVobj='#5'\n",
      "Moviepy - Building video tmp_e2e/video_ad27_red/video_ad27_red.mp4.\n",
      "MoviePy - Writing audio in video_ad27_redTEMP_MPY_wvf_snd.mp3\n",
      "MoviePy - Done.                                                                 \n",
      "Moviepy - Writing video tmp_e2e/video_ad27_red/video_ad27_red.mp4\n",
      "\n",
      "Moviepy - Done !                                                                \n",
      "Moviepy - video ready tmp_e2e/video_ad27_red/video_ad27_red.mp4\n",
      "obj='#6'\n",
      "Moviepy - Building video tmp_e2e/video_ad27_red/video_ad27_red_kvm.mp4.\n",
      "MoviePy - Writing audio in video_ad27_red_kvmTEMP_MPY_wvf_snd.mp3\n",
      "MoviePy - Done.                                                                 \n",
      "Moviepy - Writing video tmp_e2e/video_ad27_red/video_ad27_red_kvm.mp4\n",
      "\n",
      "Moviepy - Done !                                                                \n",
      "Moviepy - video ready tmp_e2e/video_ad27_red/video_ad27_red_kvm.mp4\n",
      "Video processing complete and saved to: tmp_e2e/video_ad27_red/video_ad27_red_kvm.mp4\n"
     ]
    }
   ],
   "source": [
    "!CUDA_VISIBLE_DEVICES=3 \\\n",
    "/storage/arkady/miniconda3/envs/VideoMusic/bin/python3 \\\n",
    "/storage/arkady/Glinka/music-transformer/video_conditioning/gen_script_video.py \\\n",
    "'/storage/arkady/Glinka/music-transformer/video_conditioning/model/epoch_0037.pickle' \\\n",
    "123141 0 11 tmp_e2e \\\n",
    "'video_ad27_red' \\\n",
    "'/storage/arkady/Glinka/music-transformer/video_conditioning/content/video_data/video_ad27.mp4' \\\n",
    "0"
   ]
  },
  {
   "cell_type": "code",
   "execution_count": 62,
   "metadata": {},
   "outputs": [
    {
     "name": "stdout",
     "output_type": "stream",
     "text": [
      "obj='generate_music_for_video'\n",
      "obj='#1'\n",
      "MoviePy - Writing audio in /storage/arkady/Glinka/music-transformer/video_conditioning/best4videos/video_ad5.mp3\n",
      "MoviePy - Done.                                                                 \n",
      "=====Successfully written new mp3 to path_mp3=PosixPath('/storage/arkady/Glinka/music-transformer/video_conditioning/best4videos/video_ad5.mp3')\n",
      "loading model... done\n",
      "loading wave source... done\n",
      "stft of wave source... done\n",
      "100%|█████████████████████████████████████████████| 3/3 [02:39<00:00, 53.23s/it]\n",
      "validating output directory... done\n",
      "inverse stft of instruments... done\n",
      "inverse stft of vocals... done\n",
      "\u001b[0m=====Instrumentals at: /storage/arkady/Glinka/music-transformer/video_conditioning/best4videos/video_ad5_Instruments.wav\n",
      "=====Vocals at: /storage/arkady/Glinka/music-transformer/video_conditioning/best4videos/video_ad5_Vocals.wav\n",
      "\n",
      "✨✨✨✨✨✨✨✨✨\n",
      "✨ Basic Pitch  ✨\n",
      "✨✨✨✨✨✨✨✨✨\n",
      "\n",
      "Importing Tensorflow (this may take a few seconds)...\n",
      "2024-05-10 19:34:16.733946: F tensorflow/tsl/platform/statusor.cc:33] Attempting to fetch value instead of handling error INTERNAL: failed initializing StreamExecutor for CUDA device ordinal 0: INTERNAL: failed call to cuDevicePrimaryCtxRetain: CUDA_ERROR_OUT_OF_MEMORY: out of memory; total memory reported: 42331013120\n",
      "Traceback (most recent call last):\n",
      "  File \"/storage/arkady/Glinka/music-transformer/video_conditioning/gen_script_video.py\", line 233, in <module>\n",
      "    main(sys.argv)\n",
      "  File \"/storage/arkady/Glinka/music-transformer/video_conditioning/gen_script_video.py\", line 226, in main\n",
      "    generate_music_for_video(\n",
      "  File \"/storage/arkady/Glinka/music-transformer/video_conditioning/gen_script_video.py\", line 172, in generate_music_for_video\n",
      "    path_midi = mp4_to_midi(\n",
      "  File \"/storage/arkady/Glinka/music-transformer/video_conditioning/video_utils/mp4_to_midi.py\", line 68, in mp4_to_midi\n",
      "    file_mid.rename(folder_name / f\"{basename}.mid\")\n",
      "  File \"/storage/arkady/miniconda3/envs/VideoMusic/lib/python3.10/pathlib.py\", line 1234, in rename\n",
      "    self._accessor.rename(self, target)\n",
      "FileNotFoundError: [Errno 2] No such file or directory: '/storage/arkady/Glinka/music-transformer/video_conditioning/best4videos/video_ad5_Instruments_basic_pitch.mid' -> '/storage/arkady/Glinka/music-transformer/video_conditioning/best4videos/video_ad5/video_ad5.mid'\n"
     ]
    }
   ],
   "source": [
    "!CUDA_VISIBLE_DEVICES=5 /storage/arkady/miniconda3/envs/VideoMusic/bin/python3 /storage/arkady/Glinka/music-transformer/video_conditioning/gen_script_video.py '/storage/arkady/Glinka/music-transformer/video_conditioning/model/epoch_0037.pickle' 77777 0 11 'best4videos' 'video_ad5_rs0' '/storage/arkady/Glinka/music-transformer/video_conditioning/content/video_data/video_ad5.mp4' 0"
   ]
  },
  {
   "cell_type": "markdown",
   "metadata": {},
   "source": [
    "# 7 multiple scripts execution"
   ]
  },
  {
   "cell_type": "code",
   "execution_count": 44,
   "metadata": {},
   "outputs": [
    {
     "name": "stdout",
     "output_type": "stream",
     "text": [
      "scripts/gen_script_video_0__.sh\n",
      "scripts/gen_script_video_3__.sh\n",
      "scripts/gen_script_video_4__.sh\n"
     ]
    }
   ],
   "source": [
    "selected_videos = [25, 5, 14, 17, 27]  # 27 is 6 secs\n",
    "gpus = ['0', '3', '4']\n",
    "\n",
    "for video_suf, gpu in zip([17, 27, 5], gpus):\n",
    "    script = f'scripts/gen_script_video_{gpu}__.sh'\n",
    "    with open(script, '+w') as f:\n",
    "        for rs in range(11):\n",
    "            f.write(f'''\n",
    "CUDA_VISIBLE_DEVICES={gpu} \\\\\n",
    "/storage/arkady/miniconda3/envs/VideoMusic/bin/python3 \\\\\n",
    "/storage/arkady/Glinka/music-transformer/video_conditioning/gen_script_video.py \\\\\n",
    "'/storage/arkady/Glinka/music-transformer/video_conditioning/model/epoch_0037.pickle' \\\\\n",
    "77777 0 11 'best4videos' \\\\\n",
    "'video_ad{video_suf}_rs{rs}' \\\\\n",
    "'/storage/arkady/Glinka/music-transformer/video_conditioning/content/video_data/video_ad{video_suf}.mp4' \\\\\n",
    "{rs}\n",
    "\n",
    "''')\n",
    "    print(script)\n",
    "    !chmod +x {script}"
   ]
  },
  {
   "cell_type": "markdown",
   "metadata": {},
   "source": [
    "# download mp4"
   ]
  },
  {
   "cell_type": "code",
   "execution_count": 94,
   "metadata": {},
   "outputs": [
    {
     "name": "stdout",
     "output_type": "stream",
     "text": [
      "tar -czvf e2e_51_examples.tar.gz best4videos/video_ad25_rs0/video_ad25_rs0.mp4 best4videos/video_ad5_rs0/video_ad5_rs0.mp4 best4videos/video_ad14_rs0/video_ad14_rs0.mp4 best4videos/video_ad17_rs0/video_ad17_rs0.mp4 best4videos/video_ad27_rs0/video_ad27_rs0.mp4 best4videos/video_ad25_rs1/video_ad25_rs1.mp4 best4videos/video_ad5_rs1/video_ad5_rs1.mp4 best4videos/video_ad14_rs1/video_ad14_rs1.mp4 best4videos/video_ad17_rs1/video_ad17_rs1.mp4 best4videos/video_ad27_rs1/video_ad27_rs1.mp4 best4videos/video_ad25_rs2/video_ad25_rs2.mp4 best4videos/video_ad5_rs2/video_ad5_rs2.mp4 best4videos/video_ad14_rs2/video_ad14_rs2.mp4 best4videos/video_ad17_rs2/video_ad17_rs2.mp4 best4videos/video_ad27_rs2/video_ad27_rs2.mp4 best4videos/video_ad25_rs3/video_ad25_rs3.mp4 best4videos/video_ad5_rs3/video_ad5_rs3.mp4 best4videos/video_ad17_rs3/video_ad17_rs3.mp4 best4videos/video_ad27_rs3/video_ad27_rs3.mp4 best4videos/video_ad25_rs4/video_ad25_rs4.mp4 best4videos/video_ad5_rs4/video_ad5_rs4.mp4 best4videos/video_ad14_rs4/video_ad14_rs4.mp4 best4videos/video_ad17_rs4/video_ad17_rs4.mp4 best4videos/video_ad27_rs4/video_ad27_rs4.mp4 best4videos/video_ad25_rs5/video_ad25_rs5.mp4 best4videos/video_ad5_rs5/video_ad5_rs5.mp4 best4videos/video_ad14_rs5/video_ad14_rs5.mp4 best4videos/video_ad17_rs5/video_ad17_rs5.mp4 best4videos/video_ad27_rs5/video_ad27_rs5.mp4 best4videos/video_ad25_rs6/video_ad25_rs6.mp4 best4videos/video_ad5_rs6/video_ad5_rs6.mp4 best4videos/video_ad14_rs6/video_ad14_rs6.mp4 best4videos/video_ad17_rs6/video_ad17_rs6.mp4 best4videos/video_ad27_rs6/video_ad27_rs6.mp4 best4videos/video_ad25_rs7/video_ad25_rs7.mp4 best4videos/video_ad5_rs7/video_ad5_rs7.mp4 best4videos/video_ad14_rs7/video_ad14_rs7.mp4 best4videos/video_ad17_rs7/video_ad17_rs7.mp4 best4videos/video_ad27_rs7/video_ad27_rs7.mp4 best4videos/video_ad25_rs8/video_ad25_rs8.mp4 best4videos/video_ad5_rs8/video_ad5_rs8.mp4 best4videos/video_ad14_rs8/video_ad14_rs8.mp4 best4videos/video_ad17_rs8/video_ad17_rs8.mp4 best4videos/video_ad25_rs9/video_ad25_rs9.mp4 best4videos/video_ad5_rs9/video_ad5_rs9.mp4 best4videos/video_ad14_rs9/video_ad14_rs9.mp4 best4videos/video_ad17_rs9/video_ad17_rs9.mp4 best4videos/video_ad25_rs10/video_ad25_rs10.mp4 best4videos/video_ad5_rs10/video_ad5_rs10.mp4 best4videos/video_ad14_rs10/video_ad14_rs10.mp4 best4videos/video_ad17_rs10/video_ad17_rs10.mp4\n"
     ]
    }
   ],
   "source": [
    "# SAVING TO ARCHIVE\n",
    "import os\n",
    "\n",
    "files = []\n",
    "for rs in range(11):\n",
    "    for ind in [25, 5, 14, 17, 27]:\n",
    "        path = f\"best4videos/video_ad{ind}_rs{rs}/video_ad{ind}_rs{rs}.mp4\"\n",
    "        if not os.path.exists(path):\n",
    "            continue\n",
    "        # print(path)\n",
    "        files.append(path)\n",
    "\n",
    "command = f'tar -czvf e2e_{len(files)}_examples.tar.gz ' + ' '.join(files)\n",
    "print(command)\n",
    "\n",
    "# !{command}"
   ]
  },
  {
   "cell_type": "code",
   "execution_count": 103,
   "metadata": {},
   "outputs": [
    {
     "name": "stdout",
     "output_type": "stream",
     "text": [
      "Moviepy - Building video tmp_e2e/video_ad27_red/video_ad27_kvm.mp4.\n",
      "MoviePy - Writing audio in video_ad27_kvmTEMP_MPY_wvf_snd.mp3\n"
     ]
    },
    {
     "name": "stderr",
     "output_type": "stream",
     "text": [
      "                                                                  \r"
     ]
    },
    {
     "name": "stdout",
     "output_type": "stream",
     "text": [
      "MoviePy - Done.\n",
      "Moviepy - Writing video tmp_e2e/video_ad27_red/video_ad27_kvm.mp4\n",
      "\n",
      "FPS2= 23.0\n",
      "FPS1= 23.0\n"
     ]
    },
    {
     "name": "stderr",
     "output_type": "stream",
     "text": [
      "                                                              \r"
     ]
    },
    {
     "name": "stdout",
     "output_type": "stream",
     "text": [
      "Moviepy - Done !\n",
      "Moviepy - video ready tmp_e2e/video_ad27_red/video_ad27_kvm.mp4\n",
      "Video processing complete and saved to: tmp_e2e/video_ad27_red/video_ad27_kvm.mp4\n"
     ]
    }
   ],
   "source": [
    "from video_utils.kvm import draw_kvm_on_video\n",
    "\n",
    "draw_kvm_on_video(\n",
    "    'tmp_e2e/video_ad27_red/video_ad27_red.mp4',\n",
    "    'tmp_e2e/video_ad27_red/video_ad27_kvm.mp4',\n",
    "    'tmp_e2e/video_ad27/kvm2.csv',\n",
    ")"
   ]
  },
  {
   "cell_type": "code",
   "execution_count": 107,
   "metadata": {},
   "outputs": [
    {
     "name": "stdout",
     "output_type": "stream",
     "text": [
      "0 25\n"
     ]
    },
    {
     "name": "stderr",
     "output_type": "stream",
     "text": [
      "t:   0%|          | 2/1384 [01:17<14:56:37, 38.93s/it, now=None]"
     ]
    },
    {
     "name": "stdout",
     "output_type": "stream",
     "text": [
      "Moviepy - Building video best4videos/video_ad25_rs0/video_ad25_rs0_kvm.mp4.\n",
      "MoviePy - Writing audio in video_ad25_rs0_kvmTEMP_MPY_wvf_snd.mp3\n"
     ]
    },
    {
     "name": "stderr",
     "output_type": "stream",
     "text": [
      "t:   0%|          | 2/1384 [01:20<15:29:46, 40.37s/it, now=None]"
     ]
    },
    {
     "name": "stdout",
     "output_type": "stream",
     "text": [
      "MoviePy - Done.\n",
      "Moviepy - Writing video best4videos/video_ad25_rs0/video_ad25_rs0_kvm.mp4\n",
      "\n",
      "FPS2= 25.0\n",
      "FPS1= 25.0\n"
     ]
    },
    {
     "name": "stderr",
     "output_type": "stream",
     "text": [
      "t:   0%|          | 2/1384 [02:07<24:29:43, 63.81s/it, now=None]"
     ]
    },
    {
     "name": "stdout",
     "output_type": "stream",
     "text": [
      "Moviepy - Done !\n",
      "Moviepy - video ready best4videos/video_ad25_rs0/video_ad25_rs0_kvm.mp4\n",
      "Video processing complete and saved to: best4videos/video_ad25_rs0/video_ad25_rs0_kvm.mp4\n",
      "0 5\n"
     ]
    },
    {
     "name": "stderr",
     "output_type": "stream",
     "text": [
      "t:   0%|          | 2/1384 [02:31<29:01:06, 75.59s/it, now=None]"
     ]
    },
    {
     "name": "stdout",
     "output_type": "stream",
     "text": [
      "Moviepy - Building video best4videos/video_ad5_rs0/video_ad5_rs0_kvm.mp4.\n",
      "MoviePy - Writing audio in video_ad5_rs0_kvmTEMP_MPY_wvf_snd.mp3\n"
     ]
    },
    {
     "name": "stderr",
     "output_type": "stream",
     "text": [
      "t:   0%|          | 2/1384 [02:32<29:18:49, 76.36s/it, now=None]"
     ]
    },
    {
     "name": "stdout",
     "output_type": "stream",
     "text": [
      "MoviePy - Done.\n",
      "Moviepy - Writing video best4videos/video_ad5_rs0/video_ad5_rs0_kvm.mp4\n",
      "\n",
      "FPS2= 30.0\n",
      "FPS1= 30.0\n"
     ]
    },
    {
     "name": "stderr",
     "output_type": "stream",
     "text": [
      "t:   0%|          | 2/1384 [03:01<34:53:26, 90.89s/it, now=None]"
     ]
    },
    {
     "name": "stdout",
     "output_type": "stream",
     "text": [
      "Moviepy - Done !\n",
      "Moviepy - video ready best4videos/video_ad5_rs0/video_ad5_rs0_kvm.mp4\n",
      "Video processing complete and saved to: best4videos/video_ad5_rs0/video_ad5_rs0_kvm.mp4\n",
      "0 14\n"
     ]
    },
    {
     "name": "stderr",
     "output_type": "stream",
     "text": [
      "t:   0%|          | 2/1384 [03:08<36:08:36, 94.15s/it, now=None]"
     ]
    },
    {
     "name": "stdout",
     "output_type": "stream",
     "text": [
      "Moviepy - Building video best4videos/video_ad14_rs0/video_ad14_rs0_kvm.mp4.\n",
      "MoviePy - Writing audio in video_ad14_rs0_kvmTEMP_MPY_wvf_snd.mp3\n"
     ]
    },
    {
     "name": "stderr",
     "output_type": "stream",
     "text": [
      "t:   0%|          | 2/1384 [03:10<36:32:34, 95.19s/it, now=None]"
     ]
    },
    {
     "name": "stdout",
     "output_type": "stream",
     "text": [
      "MoviePy - Done.\n",
      "Moviepy - Writing video best4videos/video_ad14_rs0/video_ad14_rs0_kvm.mp4\n",
      "\n",
      "FPS2= 25.0\n",
      "FPS1= 25.0\n"
     ]
    },
    {
     "name": "stderr",
     "output_type": "stream",
     "text": [
      "t:   0%|          | 2/1384 [03:19<38:18:17, 99.78s/it, now=None]"
     ]
    },
    {
     "name": "stdout",
     "output_type": "stream",
     "text": [
      "Moviepy - Done !\n",
      "Moviepy - video ready best4videos/video_ad14_rs0/video_ad14_rs0_kvm.mp4\n",
      "Video processing complete and saved to: best4videos/video_ad14_rs0/video_ad14_rs0_kvm.mp4\n",
      "0 17\n"
     ]
    },
    {
     "name": "stderr",
     "output_type": "stream",
     "text": [
      "t:   0%|          | 2/1384 [03:32<40:45:32, 106.17s/it, now=None]"
     ]
    },
    {
     "name": "stdout",
     "output_type": "stream",
     "text": [
      "Moviepy - Building video best4videos/video_ad17_rs0/video_ad17_rs0_kvm.mp4.\n",
      "MoviePy - Writing audio in video_ad17_rs0_kvmTEMP_MPY_wvf_snd.mp3\n"
     ]
    },
    {
     "name": "stderr",
     "output_type": "stream",
     "text": [
      "t:   0%|          | 2/1384 [03:35<41:22:44, 107.79s/it, now=None]"
     ]
    },
    {
     "name": "stdout",
     "output_type": "stream",
     "text": [
      "MoviePy - Done.\n",
      "Moviepy - Writing video best4videos/video_ad17_rs0/video_ad17_rs0_kvm.mp4\n",
      "\n",
      "FPS2= 23.0\n",
      "FPS1= 23.0\n"
     ]
    },
    {
     "name": "stderr",
     "output_type": "stream",
     "text": [
      "t:   0%|          | 2/1384 [03:56<45:27:13, 118.40s/it, now=None]"
     ]
    },
    {
     "name": "stdout",
     "output_type": "stream",
     "text": [
      "Moviepy - Done !\n",
      "Moviepy - video ready best4videos/video_ad17_rs0/video_ad17_rs0_kvm.mp4\n",
      "Video processing complete and saved to: best4videos/video_ad17_rs0/video_ad17_rs0_kvm.mp4\n",
      "0 27\n"
     ]
    },
    {
     "name": "stderr",
     "output_type": "stream",
     "text": [
      "t:   0%|          | 2/1384 [04:01<46:22:41, 120.81s/it, now=None]"
     ]
    },
    {
     "name": "stdout",
     "output_type": "stream",
     "text": [
      "Moviepy - Building video best4videos/video_ad27_rs0/video_ad27_rs0_kvm.mp4.\n",
      "MoviePy - Writing audio in video_ad27_rs0_kvmTEMP_MPY_wvf_snd.mp3\n"
     ]
    },
    {
     "name": "stderr",
     "output_type": "stream",
     "text": [
      "t:   0%|          | 2/1384 [04:02<46:27:56, 121.04s/it, now=None]"
     ]
    },
    {
     "name": "stdout",
     "output_type": "stream",
     "text": [
      "MoviePy - Done.\n",
      "Moviepy - Writing video best4videos/video_ad27_rs0/video_ad27_rs0_kvm.mp4\n",
      "\n",
      "FPS2= 23.0\n",
      "FPS1= 23.0\n"
     ]
    },
    {
     "name": "stderr",
     "output_type": "stream",
     "text": [
      "t:   0%|          | 2/1384 [04:07<47:31:58, 123.82s/it, now=None]"
     ]
    },
    {
     "name": "stdout",
     "output_type": "stream",
     "text": [
      "Moviepy - Done !\n",
      "Moviepy - video ready best4videos/video_ad27_rs0/video_ad27_rs0_kvm.mp4\n",
      "Video processing complete and saved to: best4videos/video_ad27_rs0/video_ad27_rs0_kvm.mp4\n",
      "1 25\n"
     ]
    },
    {
     "name": "stderr",
     "output_type": "stream",
     "text": [
      "t:   0%|          | 2/1384 [04:51<55:59:58, 145.87s/it, now=None]"
     ]
    },
    {
     "name": "stdout",
     "output_type": "stream",
     "text": [
      "Moviepy - Building video best4videos/video_ad25_rs1/video_ad25_rs1_kvm.mp4.\n",
      "MoviePy - Writing audio in video_ad25_rs1_kvmTEMP_MPY_wvf_snd.mp3\n"
     ]
    },
    {
     "name": "stderr",
     "output_type": "stream",
     "text": [
      "t:   0%|          | 2/1384 [04:54<56:31:04, 147.22s/it, now=None]"
     ]
    },
    {
     "name": "stdout",
     "output_type": "stream",
     "text": [
      "MoviePy - Done.\n",
      "Moviepy - Writing video best4videos/video_ad25_rs1/video_ad25_rs1_kvm.mp4\n",
      "\n",
      "FPS2= 25.0\n",
      "FPS1= 25.0\n"
     ]
    },
    {
     "name": "stderr",
     "output_type": "stream",
     "text": [
      "t:   0%|          | 2/1384 [05:39<65:13:48, 169.92s/it, now=None]"
     ]
    },
    {
     "name": "stdout",
     "output_type": "stream",
     "text": [
      "Moviepy - Done !\n",
      "Moviepy - video ready best4videos/video_ad25_rs1/video_ad25_rs1_kvm.mp4\n",
      "Video processing complete and saved to: best4videos/video_ad25_rs1/video_ad25_rs1_kvm.mp4\n",
      "1 5\n"
     ]
    },
    {
     "name": "stderr",
     "output_type": "stream",
     "text": [
      "t:   0%|          | 2/1384 [06:08<70:48:31, 184.45s/it, now=None]"
     ]
    },
    {
     "name": "stdout",
     "output_type": "stream",
     "text": [
      "Moviepy - Building video best4videos/video_ad5_rs1/video_ad5_rs1_kvm.mp4.\n",
      "MoviePy - Writing audio in video_ad5_rs1_kvmTEMP_MPY_wvf_snd.mp3\n"
     ]
    },
    {
     "name": "stderr",
     "output_type": "stream",
     "text": [
      "t:   0%|          | 2/1384 [06:10<71:09:46, 185.37s/it, now=None]"
     ]
    },
    {
     "name": "stdout",
     "output_type": "stream",
     "text": [
      "MoviePy - Done.\n",
      "Moviepy - Writing video best4videos/video_ad5_rs1/video_ad5_rs1_kvm.mp4\n",
      "\n",
      "FPS2= 30.0\n",
      "FPS1= 30.0\n"
     ]
    },
    {
     "name": "stderr",
     "output_type": "stream",
     "text": [
      "t:   0%|          | 2/1384 [06:41<77:05:49, 200.83s/it, now=None]"
     ]
    },
    {
     "name": "stdout",
     "output_type": "stream",
     "text": [
      "Moviepy - Done !\n",
      "Moviepy - video ready best4videos/video_ad5_rs1/video_ad5_rs1_kvm.mp4\n",
      "Video processing complete and saved to: best4videos/video_ad5_rs1/video_ad5_rs1_kvm.mp4\n",
      "1 14\n"
     ]
    },
    {
     "name": "stderr",
     "output_type": "stream",
     "text": [
      "t:   0%|          | 2/1384 [06:49<78:30:26, 204.51s/it, now=None]"
     ]
    },
    {
     "name": "stdout",
     "output_type": "stream",
     "text": [
      "Moviepy - Building video best4videos/video_ad14_rs1/video_ad14_rs1_kvm.mp4.\n",
      "MoviePy - Writing audio in video_ad14_rs1_kvmTEMP_MPY_wvf_snd.mp3\n"
     ]
    },
    {
     "name": "stderr",
     "output_type": "stream",
     "text": [
      "t:   0%|          | 2/1384 [06:51<78:59:06, 205.75s/it, now=None]"
     ]
    },
    {
     "name": "stdout",
     "output_type": "stream",
     "text": [
      "MoviePy - Done.\n",
      "Moviepy - Writing video best4videos/video_ad14_rs1/video_ad14_rs1_kvm.mp4\n",
      "\n",
      "FPS2= 25.0\n",
      "FPS1= 25.0\n"
     ]
    },
    {
     "name": "stderr",
     "output_type": "stream",
     "text": [
      "t:   0%|          | 2/1384 [07:00<80:40:52, 210.17s/it, now=None]"
     ]
    },
    {
     "name": "stdout",
     "output_type": "stream",
     "text": [
      "Moviepy - Done !\n",
      "Moviepy - video ready best4videos/video_ad14_rs1/video_ad14_rs1_kvm.mp4\n",
      "Video processing complete and saved to: best4videos/video_ad14_rs1/video_ad14_rs1_kvm.mp4\n",
      "1 17\n"
     ]
    },
    {
     "name": "stderr",
     "output_type": "stream",
     "text": [
      "t:   0%|          | 2/1384 [07:13<83:10:42, 216.67s/it, now=None]"
     ]
    },
    {
     "name": "stdout",
     "output_type": "stream",
     "text": [
      "Moviepy - Building video best4videos/video_ad17_rs1/video_ad17_rs1_kvm.mp4.\n",
      "MoviePy - Writing audio in video_ad17_rs1_kvmTEMP_MPY_wvf_snd.mp3\n"
     ]
    },
    {
     "name": "stderr",
     "output_type": "stream",
     "text": [
      "t:   0%|          | 2/1384 [07:16<83:49:15, 218.35s/it, now=None]"
     ]
    },
    {
     "name": "stdout",
     "output_type": "stream",
     "text": [
      "MoviePy - Done.\n",
      "Moviepy - Writing video best4videos/video_ad17_rs1/video_ad17_rs1_kvm.mp4\n",
      "\n",
      "FPS2= 23.0\n",
      "FPS1= 23.0\n"
     ]
    },
    {
     "name": "stderr",
     "output_type": "stream",
     "text": [
      "t:   0%|          | 2/1384 [07:37<87:50:03, 228.80s/it, now=None]"
     ]
    },
    {
     "name": "stdout",
     "output_type": "stream",
     "text": [
      "Moviepy - Done !\n",
      "Moviepy - video ready best4videos/video_ad17_rs1/video_ad17_rs1_kvm.mp4\n",
      "Video processing complete and saved to: best4videos/video_ad17_rs1/video_ad17_rs1_kvm.mp4\n",
      "1 27\n"
     ]
    },
    {
     "name": "stderr",
     "output_type": "stream",
     "text": [
      "t:   0%|          | 2/1384 [07:42<88:50:40, 231.43s/it, now=None]"
     ]
    },
    {
     "name": "stdout",
     "output_type": "stream",
     "text": [
      "Moviepy - Building video best4videos/video_ad27_rs1/video_ad27_rs1_kvm.mp4.\n",
      "MoviePy - Writing audio in video_ad27_rs1_kvmTEMP_MPY_wvf_snd.mp3\n"
     ]
    },
    {
     "name": "stderr",
     "output_type": "stream",
     "text": [
      "t:   0%|          | 2/1384 [07:43<88:55:16, 231.63s/it, now=None]"
     ]
    },
    {
     "name": "stdout",
     "output_type": "stream",
     "text": [
      "MoviePy - Done.\n",
      "Moviepy - Writing video best4videos/video_ad27_rs1/video_ad27_rs1_kvm.mp4\n",
      "\n",
      "FPS2= 23.0\n",
      "FPS1= 23.0\n"
     ]
    },
    {
     "name": "stderr",
     "output_type": "stream",
     "text": [
      "t:   0%|          | 2/1384 [07:48<89:58:41, 234.39s/it, now=None]"
     ]
    },
    {
     "name": "stdout",
     "output_type": "stream",
     "text": [
      "Moviepy - Done !\n",
      "Moviepy - video ready best4videos/video_ad27_rs1/video_ad27_rs1_kvm.mp4\n",
      "Video processing complete and saved to: best4videos/video_ad27_rs1/video_ad27_rs1_kvm.mp4\n",
      "2 25\n"
     ]
    },
    {
     "name": "stderr",
     "output_type": "stream",
     "text": [
      "t:   0%|          | 2/1384 [08:31<98:11:33, 255.78s/it, now=None]"
     ]
    },
    {
     "name": "stdout",
     "output_type": "stream",
     "text": [
      "Moviepy - Building video best4videos/video_ad25_rs2/video_ad25_rs2_kvm.mp4.\n",
      "MoviePy - Writing audio in video_ad25_rs2_kvmTEMP_MPY_wvf_snd.mp3\n"
     ]
    },
    {
     "name": "stderr",
     "output_type": "stream",
     "text": [
      "t:   0%|          | 2/1384 [08:34<98:43:03, 257.15s/it, now=None]"
     ]
    },
    {
     "name": "stdout",
     "output_type": "stream",
     "text": [
      "MoviePy - Done.\n",
      "Moviepy - Writing video best4videos/video_ad25_rs2/video_ad25_rs2_kvm.mp4\n",
      "\n",
      "FPS2= 25.0\n",
      "FPS1= 25.0\n"
     ]
    },
    {
     "name": "stderr",
     "output_type": "stream",
     "text": [
      "t:   0%|          | 2/1384 [09:18<107:15:53, 279.42s/it, now=None]"
     ]
    },
    {
     "name": "stdout",
     "output_type": "stream",
     "text": [
      "Moviepy - Done !\n",
      "Moviepy - video ready best4videos/video_ad25_rs2/video_ad25_rs2_kvm.mp4\n",
      "Video processing complete and saved to: best4videos/video_ad25_rs2/video_ad25_rs2_kvm.mp4\n",
      "2 5\n"
     ]
    },
    {
     "name": "stderr",
     "output_type": "stream",
     "text": [
      "t:   0%|          | 2/1384 [09:45<112:19:16, 292.59s/it, now=None]"
     ]
    },
    {
     "name": "stdout",
     "output_type": "stream",
     "text": [
      "Moviepy - Building video best4videos/video_ad5_rs2/video_ad5_rs2_kvm.mp4.\n",
      "MoviePy - Writing audio in video_ad5_rs2_kvmTEMP_MPY_wvf_snd.mp3\n"
     ]
    },
    {
     "name": "stderr",
     "output_type": "stream",
     "text": [
      "t:   0%|          | 2/1384 [09:46<112:37:01, 293.36s/it, now=None]"
     ]
    },
    {
     "name": "stdout",
     "output_type": "stream",
     "text": [
      "MoviePy - Done.\n",
      "Moviepy - Writing video best4videos/video_ad5_rs2/video_ad5_rs2_kvm.mp4\n",
      "\n",
      "FPS2= 30.0\n",
      "FPS1= 30.0\n"
     ]
    },
    {
     "name": "stderr",
     "output_type": "stream",
     "text": [
      "t:   0%|          | 2/1384 [10:15<118:13:32, 307.97s/it, now=None]"
     ]
    },
    {
     "name": "stdout",
     "output_type": "stream",
     "text": [
      "Moviepy - Done !\n",
      "Moviepy - video ready best4videos/video_ad5_rs2/video_ad5_rs2_kvm.mp4\n",
      "Video processing complete and saved to: best4videos/video_ad5_rs2/video_ad5_rs2_kvm.mp4\n",
      "2 14\n"
     ]
    },
    {
     "name": "stderr",
     "output_type": "stream",
     "text": [
      "t:   0%|          | 2/1384 [10:23<119:43:07, 311.86s/it, now=None]"
     ]
    },
    {
     "name": "stdout",
     "output_type": "stream",
     "text": [
      "Moviepy - Building video best4videos/video_ad14_rs2/video_ad14_rs2_kvm.mp4.\n",
      "MoviePy - Writing audio in video_ad14_rs2_kvmTEMP_MPY_wvf_snd.mp3\n"
     ]
    },
    {
     "name": "stderr",
     "output_type": "stream",
     "text": [
      "t:   0%|          | 2/1384 [10:26<120:16:28, 313.31s/it, now=None]"
     ]
    },
    {
     "name": "stdout",
     "output_type": "stream",
     "text": [
      "MoviePy - Done.\n",
      "Moviepy - Writing video best4videos/video_ad14_rs2/video_ad14_rs2_kvm.mp4\n",
      "\n",
      "FPS2= 25.0\n",
      "FPS1= 25.0\n"
     ]
    },
    {
     "name": "stderr",
     "output_type": "stream",
     "text": [
      "t:   0%|          | 2/1384 [10:35<122:00:03, 317.80s/it, now=None]"
     ]
    },
    {
     "name": "stdout",
     "output_type": "stream",
     "text": [
      "Moviepy - Done !\n",
      "Moviepy - video ready best4videos/video_ad14_rs2/video_ad14_rs2_kvm.mp4\n",
      "Video processing complete and saved to: best4videos/video_ad14_rs2/video_ad14_rs2_kvm.mp4\n",
      "2 17\n"
     ]
    },
    {
     "name": "stderr",
     "output_type": "stream",
     "text": [
      "t:   0%|          | 2/1384 [10:48<124:33:10, 324.45s/it, now=None]"
     ]
    },
    {
     "name": "stdout",
     "output_type": "stream",
     "text": [
      "Moviepy - Building video best4videos/video_ad17_rs2/video_ad17_rs2_kvm.mp4.\n",
      "MoviePy - Writing audio in video_ad17_rs2_kvmTEMP_MPY_wvf_snd.mp3\n"
     ]
    },
    {
     "name": "stderr",
     "output_type": "stream",
     "text": [
      "t:   0%|          | 2/1384 [10:53<125:29:54, 326.91s/it, now=None]"
     ]
    },
    {
     "name": "stdout",
     "output_type": "stream",
     "text": [
      "MoviePy - Done.\n",
      "Moviepy - Writing video best4videos/video_ad17_rs2/video_ad17_rs2_kvm.mp4\n",
      "\n",
      "FPS2= 23.0\n",
      "FPS1= 23.0\n"
     ]
    },
    {
     "name": "stderr",
     "output_type": "stream",
     "text": [
      "t:   0%|          | 2/1384 [11:15<129:43:29, 337.92s/it, now=None]"
     ]
    },
    {
     "name": "stdout",
     "output_type": "stream",
     "text": [
      "Moviepy - Done !\n",
      "Moviepy - video ready best4videos/video_ad17_rs2/video_ad17_rs2_kvm.mp4\n",
      "Video processing complete and saved to: best4videos/video_ad17_rs2/video_ad17_rs2_kvm.mp4\n",
      "2 27\n"
     ]
    },
    {
     "name": "stderr",
     "output_type": "stream",
     "text": [
      "t:   0%|          | 2/1384 [11:21<130:43:00, 340.51s/it, now=None]"
     ]
    },
    {
     "name": "stdout",
     "output_type": "stream",
     "text": [
      "Moviepy - Building video best4videos/video_ad27_rs2/video_ad27_rs2_kvm.mp4.\n",
      "MoviePy - Writing audio in video_ad27_rs2_kvmTEMP_MPY_wvf_snd.mp3\n"
     ]
    },
    {
     "name": "stderr",
     "output_type": "stream",
     "text": [
      "t:   0%|          | 2/1384 [11:21<130:48:44, 340.76s/it, now=None]"
     ]
    },
    {
     "name": "stdout",
     "output_type": "stream",
     "text": [
      "MoviePy - Done.\n",
      "Moviepy - Writing video best4videos/video_ad27_rs2/video_ad27_rs2_kvm.mp4\n",
      "\n",
      "FPS2= 23.0\n",
      "FPS1= 23.0\n"
     ]
    },
    {
     "name": "stderr",
     "output_type": "stream",
     "text": [
      "t:   0%|          | 2/1384 [11:27<131:58:41, 343.79s/it, now=None]"
     ]
    },
    {
     "name": "stdout",
     "output_type": "stream",
     "text": [
      "Moviepy - Done !\n",
      "Moviepy - video ready best4videos/video_ad27_rs2/video_ad27_rs2_kvm.mp4\n",
      "Video processing complete and saved to: best4videos/video_ad27_rs2/video_ad27_rs2_kvm.mp4\n",
      "3 25\n"
     ]
    },
    {
     "name": "stderr",
     "output_type": "stream",
     "text": [
      "t:   0%|          | 2/1384 [12:11<140:25:27, 365.79s/it, now=None]"
     ]
    },
    {
     "name": "stdout",
     "output_type": "stream",
     "text": [
      "Moviepy - Building video best4videos/video_ad25_rs3/video_ad25_rs3_kvm.mp4.\n",
      "MoviePy - Writing audio in video_ad25_rs3_kvmTEMP_MPY_wvf_snd.mp3\n"
     ]
    },
    {
     "name": "stderr",
     "output_type": "stream",
     "text": [
      "t:   0%|          | 2/1384 [12:14<140:58:58, 367.25s/it, now=None]"
     ]
    },
    {
     "name": "stdout",
     "output_type": "stream",
     "text": [
      "MoviePy - Done.\n",
      "Moviepy - Writing video best4videos/video_ad25_rs3/video_ad25_rs3_kvm.mp4\n",
      "\n",
      "FPS2= 25.0\n",
      "FPS1= 25.0\n"
     ]
    },
    {
     "name": "stderr",
     "output_type": "stream",
     "text": [
      "t:   0%|          | 2/1384 [12:58<149:26:04, 389.27s/it, now=None]"
     ]
    },
    {
     "name": "stdout",
     "output_type": "stream",
     "text": [
      "Moviepy - Done !\n",
      "Moviepy - video ready best4videos/video_ad25_rs3/video_ad25_rs3_kvm.mp4\n",
      "Video processing complete and saved to: best4videos/video_ad25_rs3/video_ad25_rs3_kvm.mp4\n",
      "3 5\n"
     ]
    },
    {
     "name": "stderr",
     "output_type": "stream",
     "text": [
      "t:   0%|          | 2/1384 [13:24<154:24:14, 402.21s/it, now=None]"
     ]
    },
    {
     "name": "stdout",
     "output_type": "stream",
     "text": [
      "Moviepy - Building video best4videos/video_ad5_rs3/video_ad5_rs3_kvm.mp4.\n",
      "MoviePy - Writing audio in video_ad5_rs3_kvmTEMP_MPY_wvf_snd.mp3\n"
     ]
    },
    {
     "name": "stderr",
     "output_type": "stream",
     "text": [
      "t:   0%|          | 2/1384 [13:25<154:41:32, 402.96s/it, now=None]"
     ]
    },
    {
     "name": "stdout",
     "output_type": "stream",
     "text": [
      "MoviePy - Done.\n",
      "Moviepy - Writing video best4videos/video_ad5_rs3/video_ad5_rs3_kvm.mp4\n",
      "\n",
      "FPS2= 30.0\n",
      "FPS1= 30.0\n"
     ]
    },
    {
     "name": "stderr",
     "output_type": "stream",
     "text": [
      "t:   0%|          | 2/1384 [13:54<160:05:00, 417.00s/it, now=None]"
     ]
    },
    {
     "name": "stdout",
     "output_type": "stream",
     "text": [
      "Moviepy - Done !\n",
      "Moviepy - video ready best4videos/video_ad5_rs3/video_ad5_rs3_kvm.mp4\n",
      "Video processing complete and saved to: best4videos/video_ad5_rs3/video_ad5_rs3_kvm.mp4\n",
      "3 14\n",
      "3 17\n"
     ]
    },
    {
     "name": "stderr",
     "output_type": "stream",
     "text": [
      "t:   0%|          | 2/1384 [14:07<162:41:20, 423.79s/it, now=None]"
     ]
    },
    {
     "name": "stdout",
     "output_type": "stream",
     "text": [
      "Moviepy - Building video best4videos/video_ad17_rs3/video_ad17_rs3_kvm.mp4.\n",
      "MoviePy - Writing audio in video_ad17_rs3_kvmTEMP_MPY_wvf_snd.mp3\n"
     ]
    },
    {
     "name": "stderr",
     "output_type": "stream",
     "text": [
      "t:   0%|          | 2/1384 [14:10<163:18:54, 425.42s/it, now=None]"
     ]
    },
    {
     "name": "stdout",
     "output_type": "stream",
     "text": [
      "MoviePy - Done.\n",
      "Moviepy - Writing video best4videos/video_ad17_rs3/video_ad17_rs3_kvm.mp4\n",
      "\n",
      "FPS2= 23.0\n",
      "FPS1= 23.0\n"
     ]
    },
    {
     "name": "stderr",
     "output_type": "stream",
     "text": [
      "t:   0%|          | 2/1384 [14:32<167:27:17, 436.21s/it, now=None]"
     ]
    },
    {
     "name": "stdout",
     "output_type": "stream",
     "text": [
      "Moviepy - Done !\n",
      "Moviepy - video ready best4videos/video_ad17_rs3/video_ad17_rs3_kvm.mp4\n",
      "Video processing complete and saved to: best4videos/video_ad17_rs3/video_ad17_rs3_kvm.mp4\n",
      "3 27\n"
     ]
    },
    {
     "name": "stderr",
     "output_type": "stream",
     "text": [
      "t:   0%|          | 2/1384 [14:36<168:16:19, 438.34s/it, now=None]"
     ]
    },
    {
     "name": "stdout",
     "output_type": "stream",
     "text": [
      "Moviepy - Building video best4videos/video_ad27_rs3/video_ad27_rs3_kvm.mp4.\n",
      "MoviePy - Writing audio in video_ad27_rs3_kvmTEMP_MPY_wvf_snd.mp3\n"
     ]
    },
    {
     "name": "stderr",
     "output_type": "stream",
     "text": [
      "t:   0%|          | 2/1384 [14:37<168:20:46, 438.53s/it, now=None]"
     ]
    },
    {
     "name": "stdout",
     "output_type": "stream",
     "text": [
      "MoviePy - Done.\n",
      "Moviepy - Writing video best4videos/video_ad27_rs3/video_ad27_rs3_kvm.mp4\n",
      "\n",
      "FPS2= 23.0\n",
      "FPS1= 23.0\n"
     ]
    },
    {
     "name": "stderr",
     "output_type": "stream",
     "text": [
      "t:   0%|          | 2/1384 [14:42<169:18:35, 441.04s/it, now=None]"
     ]
    },
    {
     "name": "stdout",
     "output_type": "stream",
     "text": [
      "Moviepy - Done !\n",
      "Moviepy - video ready best4videos/video_ad27_rs3/video_ad27_rs3_kvm.mp4\n",
      "Video processing complete and saved to: best4videos/video_ad27_rs3/video_ad27_rs3_kvm.mp4\n",
      "4 25\n"
     ]
    },
    {
     "name": "stderr",
     "output_type": "stream",
     "text": [
      "t:   0%|          | 2/1384 [15:25<177:33:18, 462.52s/it, now=None]"
     ]
    },
    {
     "name": "stdout",
     "output_type": "stream",
     "text": [
      "Moviepy - Building video best4videos/video_ad25_rs4/video_ad25_rs4_kvm.mp4.\n",
      "MoviePy - Writing audio in video_ad25_rs4_kvmTEMP_MPY_wvf_snd.mp3\n"
     ]
    },
    {
     "name": "stderr",
     "output_type": "stream",
     "text": [
      "t:   0%|          | 2/1384 [15:27<178:03:11, 463.81s/it, now=None]"
     ]
    },
    {
     "name": "stdout",
     "output_type": "stream",
     "text": [
      "MoviePy - Done.\n",
      "Moviepy - Writing video best4videos/video_ad25_rs4/video_ad25_rs4_kvm.mp4\n",
      "\n",
      "FPS2= 25.0\n",
      "FPS1= 25.0\n"
     ]
    },
    {
     "name": "stderr",
     "output_type": "stream",
     "text": [
      "t:   0%|          | 2/1384 [16:08<185:59:36, 484.50s/it, now=None]"
     ]
    },
    {
     "name": "stdout",
     "output_type": "stream",
     "text": [
      "Moviepy - Done !\n",
      "Moviepy - video ready best4videos/video_ad25_rs4/video_ad25_rs4_kvm.mp4\n",
      "Video processing complete and saved to: best4videos/video_ad25_rs4/video_ad25_rs4_kvm.mp4\n",
      "4 5\n"
     ]
    },
    {
     "name": "stderr",
     "output_type": "stream",
     "text": [
      "t:   0%|          | 2/1384 [16:34<190:52:48, 497.23s/it, now=None]"
     ]
    },
    {
     "name": "stdout",
     "output_type": "stream",
     "text": [
      "Moviepy - Building video best4videos/video_ad5_rs4/video_ad5_rs4_kvm.mp4.\n",
      "MoviePy - Writing audio in video_ad5_rs4_kvmTEMP_MPY_wvf_snd.mp3\n"
     ]
    },
    {
     "name": "stderr",
     "output_type": "stream",
     "text": [
      "t:   0%|          | 2/1384 [16:36<191:11:15, 498.03s/it, now=None]"
     ]
    },
    {
     "name": "stdout",
     "output_type": "stream",
     "text": [
      "MoviePy - Done.\n",
      "Moviepy - Writing video best4videos/video_ad5_rs4/video_ad5_rs4_kvm.mp4\n",
      "\n",
      "FPS2= 30.0\n",
      "FPS1= 30.0\n"
     ]
    },
    {
     "name": "stderr",
     "output_type": "stream",
     "text": [
      "t:   0%|          | 2/1384 [17:05<196:48:05, 512.65s/it, now=None]"
     ]
    },
    {
     "name": "stdout",
     "output_type": "stream",
     "text": [
      "Moviepy - Done !\n",
      "Moviepy - video ready best4videos/video_ad5_rs4/video_ad5_rs4_kvm.mp4\n",
      "Video processing complete and saved to: best4videos/video_ad5_rs4/video_ad5_rs4_kvm.mp4\n",
      "4 14\n"
     ]
    },
    {
     "name": "stderr",
     "output_type": "stream",
     "text": [
      "t:   0%|          | 2/1384 [17:13<198:18:37, 516.58s/it, now=None]"
     ]
    },
    {
     "name": "stdout",
     "output_type": "stream",
     "text": [
      "Moviepy - Building video best4videos/video_ad14_rs4/video_ad14_rs4_kvm.mp4.\n",
      "MoviePy - Writing audio in video_ad14_rs4_kvmTEMP_MPY_wvf_snd.mp3\n"
     ]
    },
    {
     "name": "stderr",
     "output_type": "stream",
     "text": [
      "t:   0%|          | 2/1384 [17:15<198:44:07, 517.69s/it, now=None]"
     ]
    },
    {
     "name": "stdout",
     "output_type": "stream",
     "text": [
      "MoviePy - Done.\n",
      "Moviepy - Writing video best4videos/video_ad14_rs4/video_ad14_rs4_kvm.mp4\n",
      "\n",
      "FPS2= 25.0\n",
      "FPS1= 25.0\n"
     ]
    },
    {
     "name": "stderr",
     "output_type": "stream",
     "text": [
      "t:   0%|          | 2/1384 [17:24<200:26:22, 522.13s/it, now=None]"
     ]
    },
    {
     "name": "stdout",
     "output_type": "stream",
     "text": [
      "Moviepy - Done !\n",
      "Moviepy - video ready best4videos/video_ad14_rs4/video_ad14_rs4_kvm.mp4\n",
      "Video processing complete and saved to: best4videos/video_ad14_rs4/video_ad14_rs4_kvm.mp4\n",
      "4 17\n"
     ]
    },
    {
     "name": "stderr",
     "output_type": "stream",
     "text": [
      "t:   0%|          | 2/1384 [17:37<202:57:51, 528.71s/it, now=None]"
     ]
    },
    {
     "name": "stdout",
     "output_type": "stream",
     "text": [
      "Moviepy - Building video best4videos/video_ad17_rs4/video_ad17_rs4_kvm.mp4.\n",
      "MoviePy - Writing audio in video_ad17_rs4_kvmTEMP_MPY_wvf_snd.mp3\n"
     ]
    },
    {
     "name": "stderr",
     "output_type": "stream",
     "text": [
      "t:   0%|          | 2/1384 [17:40<203:37:03, 530.41s/it, now=None]"
     ]
    },
    {
     "name": "stdout",
     "output_type": "stream",
     "text": [
      "MoviePy - Done.\n",
      "Moviepy - Writing video best4videos/video_ad17_rs4/video_ad17_rs4_kvm.mp4\n",
      "\n",
      "FPS2= 23.0\n",
      "FPS1= 23.0\n"
     ]
    },
    {
     "name": "stderr",
     "output_type": "stream",
     "text": [
      "t:   0%|          | 2/1384 [18:01<207:37:26, 540.84s/it, now=None]"
     ]
    },
    {
     "name": "stdout",
     "output_type": "stream",
     "text": [
      "Moviepy - Done !\n",
      "Moviepy - video ready best4videos/video_ad17_rs4/video_ad17_rs4_kvm.mp4\n",
      "Video processing complete and saved to: best4videos/video_ad17_rs4/video_ad17_rs4_kvm.mp4\n",
      "4 27\n"
     ]
    },
    {
     "name": "stderr",
     "output_type": "stream",
     "text": [
      "t:   0%|          | 2/1384 [18:07<208:41:05, 543.61s/it, now=None]"
     ]
    },
    {
     "name": "stdout",
     "output_type": "stream",
     "text": [
      "Moviepy - Building video best4videos/video_ad27_rs4/video_ad27_rs4_kvm.mp4.\n",
      "MoviePy - Writing audio in video_ad27_rs4_kvmTEMP_MPY_wvf_snd.mp3\n"
     ]
    },
    {
     "name": "stderr",
     "output_type": "stream",
     "text": [
      "t:   0%|          | 2/1384 [18:07<208:46:22, 543.84s/it, now=None]"
     ]
    },
    {
     "name": "stdout",
     "output_type": "stream",
     "text": [
      "MoviePy - Done.\n",
      "Moviepy - Writing video best4videos/video_ad27_rs4/video_ad27_rs4_kvm.mp4\n",
      "\n",
      "FPS2= 23.0\n",
      "FPS1= 23.0\n"
     ]
    },
    {
     "name": "stderr",
     "output_type": "stream",
     "text": [
      "t:   0%|          | 2/1384 [18:13<209:53:54, 546.77s/it, now=None]"
     ]
    },
    {
     "name": "stdout",
     "output_type": "stream",
     "text": [
      "Moviepy - Done !\n",
      "Moviepy - video ready best4videos/video_ad27_rs4/video_ad27_rs4_kvm.mp4\n",
      "Video processing complete and saved to: best4videos/video_ad27_rs4/video_ad27_rs4_kvm.mp4\n",
      "5 25\n"
     ]
    },
    {
     "name": "stderr",
     "output_type": "stream",
     "text": [
      "t:   0%|          | 2/1384 [18:55<217:51:40, 567.51s/it, now=None]"
     ]
    },
    {
     "name": "stdout",
     "output_type": "stream",
     "text": [
      "Moviepy - Building video best4videos/video_ad25_rs5/video_ad25_rs5_kvm.mp4.\n",
      "MoviePy - Writing audio in video_ad25_rs5_kvmTEMP_MPY_wvf_snd.mp3\n"
     ]
    },
    {
     "name": "stderr",
     "output_type": "stream",
     "text": [
      "t:   0%|          | 2/1384 [18:57<218:20:47, 568.78s/it, now=None]"
     ]
    },
    {
     "name": "stdout",
     "output_type": "stream",
     "text": [
      "MoviePy - Done.\n",
      "Moviepy - Writing video best4videos/video_ad25_rs5/video_ad25_rs5_kvm.mp4\n",
      "\n",
      "FPS2= 25.0\n",
      "FPS1= 25.0\n"
     ]
    },
    {
     "name": "stderr",
     "output_type": "stream",
     "text": [
      "t:   0%|          | 2/1384 [19:39<226:21:48, 589.66s/it, now=None]"
     ]
    },
    {
     "name": "stdout",
     "output_type": "stream",
     "text": [
      "Moviepy - Done !\n",
      "Moviepy - video ready best4videos/video_ad25_rs5/video_ad25_rs5_kvm.mp4\n",
      "Video processing complete and saved to: best4videos/video_ad25_rs5/video_ad25_rs5_kvm.mp4\n",
      "5 5\n"
     ]
    },
    {
     "name": "stderr",
     "output_type": "stream",
     "text": [
      "t:   0%|          | 2/1384 [20:04<231:15:40, 602.42s/it, now=None]"
     ]
    },
    {
     "name": "stdout",
     "output_type": "stream",
     "text": [
      "Moviepy - Building video best4videos/video_ad5_rs5/video_ad5_rs5_kvm.mp4.\n",
      "MoviePy - Writing audio in video_ad5_rs5_kvmTEMP_MPY_wvf_snd.mp3\n"
     ]
    },
    {
     "name": "stderr",
     "output_type": "stream",
     "text": [
      "t:   0%|          | 2/1384 [20:06<231:31:39, 603.11s/it, now=None]"
     ]
    },
    {
     "name": "stdout",
     "output_type": "stream",
     "text": [
      "MoviePy - Done.\n",
      "Moviepy - Writing video best4videos/video_ad5_rs5/video_ad5_rs5_kvm.mp4\n",
      "\n",
      "FPS2= 30.0\n",
      "FPS1= 30.0\n"
     ]
    },
    {
     "name": "stderr",
     "output_type": "stream",
     "text": [
      "t:   0%|          | 2/1384 [20:32<236:38:48, 616.45s/it, now=None]"
     ]
    },
    {
     "name": "stdout",
     "output_type": "stream",
     "text": [
      "Moviepy - Done !\n",
      "Moviepy - video ready best4videos/video_ad5_rs5/video_ad5_rs5_kvm.mp4\n",
      "Video processing complete and saved to: best4videos/video_ad5_rs5/video_ad5_rs5_kvm.mp4\n",
      "5 14\n"
     ]
    },
    {
     "name": "stderr",
     "output_type": "stream",
     "text": [
      "t:   0%|          | 2/1384 [20:41<238:13:29, 620.56s/it, now=None]"
     ]
    },
    {
     "name": "stdout",
     "output_type": "stream",
     "text": [
      "Moviepy - Building video best4videos/video_ad14_rs5/video_ad14_rs5_kvm.mp4.\n",
      "MoviePy - Writing audio in video_ad14_rs5_kvmTEMP_MPY_wvf_snd.mp3\n"
     ]
    },
    {
     "name": "stderr",
     "output_type": "stream",
     "text": [
      "t:   0%|          | 2/1384 [20:43<238:42:13, 621.80s/it, now=None]"
     ]
    },
    {
     "name": "stdout",
     "output_type": "stream",
     "text": [
      "MoviePy - Done.\n",
      "Moviepy - Writing video best4videos/video_ad14_rs5/video_ad14_rs5_kvm.mp4\n",
      "\n",
      "FPS2= 25.0\n",
      "FPS1= 25.0\n"
     ]
    },
    {
     "name": "stderr",
     "output_type": "stream",
     "text": [
      "t:   0%|          | 2/1384 [20:52<240:25:01, 626.27s/it, now=None]"
     ]
    },
    {
     "name": "stdout",
     "output_type": "stream",
     "text": [
      "Moviepy - Done !\n",
      "Moviepy - video ready best4videos/video_ad14_rs5/video_ad14_rs5_kvm.mp4\n",
      "Video processing complete and saved to: best4videos/video_ad14_rs5/video_ad14_rs5_kvm.mp4\n",
      "5 17\n"
     ]
    },
    {
     "name": "stderr",
     "output_type": "stream",
     "text": [
      "t:   0%|          | 2/1384 [21:06<243:04:28, 633.19s/it, now=None]"
     ]
    },
    {
     "name": "stdout",
     "output_type": "stream",
     "text": [
      "Moviepy - Building video best4videos/video_ad17_rs5/video_ad17_rs5_kvm.mp4.\n",
      "MoviePy - Writing audio in video_ad17_rs5_kvmTEMP_MPY_wvf_snd.mp3\n"
     ]
    },
    {
     "name": "stderr",
     "output_type": "stream",
     "text": [
      "t:   0%|          | 2/1384 [21:09<243:42:34, 634.84s/it, now=None]"
     ]
    },
    {
     "name": "stdout",
     "output_type": "stream",
     "text": [
      "MoviePy - Done.\n",
      "Moviepy - Writing video best4videos/video_ad17_rs5/video_ad17_rs5_kvm.mp4\n",
      "\n",
      "FPS2= 23.0\n",
      "FPS1= 23.0\n"
     ]
    },
    {
     "name": "stderr",
     "output_type": "stream",
     "text": [
      "t:   0%|          | 2/1384 [21:30<247:42:04, 645.24s/it, now=None]"
     ]
    },
    {
     "name": "stdout",
     "output_type": "stream",
     "text": [
      "Moviepy - Done !\n",
      "Moviepy - video ready best4videos/video_ad17_rs5/video_ad17_rs5_kvm.mp4\n",
      "Video processing complete and saved to: best4videos/video_ad17_rs5/video_ad17_rs5_kvm.mp4\n",
      "5 27\n"
     ]
    },
    {
     "name": "stderr",
     "output_type": "stream",
     "text": [
      "t:   0%|          | 2/1384 [21:36<248:50:39, 648.22s/it, now=None]"
     ]
    },
    {
     "name": "stdout",
     "output_type": "stream",
     "text": [
      "Moviepy - Building video best4videos/video_ad27_rs5/video_ad27_rs5_kvm.mp4.\n",
      "MoviePy - Writing audio in video_ad27_rs5_kvmTEMP_MPY_wvf_snd.mp3\n"
     ]
    },
    {
     "name": "stderr",
     "output_type": "stream",
     "text": [
      "t:   0%|          | 2/1384 [21:37<248:57:07, 648.50s/it, now=None]"
     ]
    },
    {
     "name": "stdout",
     "output_type": "stream",
     "text": [
      "MoviePy - Done.\n",
      "Moviepy - Writing video best4videos/video_ad27_rs5/video_ad27_rs5_kvm.mp4\n",
      "\n",
      "FPS2= 23.0\n",
      "FPS1= 23.0\n"
     ]
    },
    {
     "name": "stderr",
     "output_type": "stream",
     "text": [
      "t:   0%|          | 2/1384 [21:43<250:14:44, 651.87s/it, now=None]"
     ]
    },
    {
     "name": "stdout",
     "output_type": "stream",
     "text": [
      "Moviepy - Done !\n",
      "Moviepy - video ready best4videos/video_ad27_rs5/video_ad27_rs5_kvm.mp4\n",
      "Video processing complete and saved to: best4videos/video_ad27_rs5/video_ad27_rs5_kvm.mp4\n",
      "6 25\n"
     ]
    },
    {
     "name": "stderr",
     "output_type": "stream",
     "text": [
      "t:   0%|          | 2/1384 [22:30<259:14:49, 675.32s/it, now=None]"
     ]
    },
    {
     "name": "stdout",
     "output_type": "stream",
     "text": [
      "Moviepy - Building video best4videos/video_ad25_rs6/video_ad25_rs6_kvm.mp4.\n",
      "MoviePy - Writing audio in video_ad25_rs6_kvmTEMP_MPY_wvf_snd.mp3\n"
     ]
    },
    {
     "name": "stderr",
     "output_type": "stream",
     "text": [
      "t:   0%|          | 2/1384 [22:33<259:45:35, 676.65s/it, now=None]"
     ]
    },
    {
     "name": "stdout",
     "output_type": "stream",
     "text": [
      "MoviePy - Done.\n",
      "Moviepy - Writing video best4videos/video_ad25_rs6/video_ad25_rs6_kvm.mp4\n",
      "\n",
      "FPS2= 25.0\n",
      "FPS1= 25.0\n"
     ]
    },
    {
     "name": "stderr",
     "output_type": "stream",
     "text": [
      "t:   0%|          | 2/1384 [23:14<267:44:23, 697.44s/it, now=None]"
     ]
    },
    {
     "name": "stdout",
     "output_type": "stream",
     "text": [
      "Moviepy - Done !\n",
      "Moviepy - video ready best4videos/video_ad25_rs6/video_ad25_rs6_kvm.mp4\n",
      "Video processing complete and saved to: best4videos/video_ad25_rs6/video_ad25_rs6_kvm.mp4\n",
      "6 5\n"
     ]
    },
    {
     "name": "stderr",
     "output_type": "stream",
     "text": [
      "t:   0%|          | 2/1384 [23:39<272:25:27, 709.64s/it, now=None]"
     ]
    },
    {
     "name": "stdout",
     "output_type": "stream",
     "text": [
      "Moviepy - Building video best4videos/video_ad5_rs6/video_ad5_rs6_kvm.mp4.\n",
      "MoviePy - Writing audio in video_ad5_rs6_kvmTEMP_MPY_wvf_snd.mp3\n"
     ]
    },
    {
     "name": "stderr",
     "output_type": "stream",
     "text": [
      "t:   0%|          | 2/1384 [23:40<272:40:09, 710.28s/it, now=None]"
     ]
    },
    {
     "name": "stdout",
     "output_type": "stream",
     "text": [
      "MoviePy - Done.\n",
      "Moviepy - Writing video best4videos/video_ad5_rs6/video_ad5_rs6_kvm.mp4\n",
      "\n",
      "FPS2= 30.0\n",
      "FPS1= 30.0\n"
     ]
    },
    {
     "name": "stderr",
     "output_type": "stream",
     "text": [
      "t:   0%|          | 2/1384 [24:08<278:02:55, 724.30s/it, now=None]"
     ]
    },
    {
     "name": "stdout",
     "output_type": "stream",
     "text": [
      "Moviepy - Done !\n",
      "Moviepy - video ready best4videos/video_ad5_rs6/video_ad5_rs6_kvm.mp4\n",
      "Video processing complete and saved to: best4videos/video_ad5_rs6/video_ad5_rs6_kvm.mp4\n",
      "6 14\n"
     ]
    },
    {
     "name": "stderr",
     "output_type": "stream",
     "text": [
      "t:   0%|          | 2/1384 [24:16<279:32:41, 728.19s/it, now=None]"
     ]
    },
    {
     "name": "stdout",
     "output_type": "stream",
     "text": [
      "Moviepy - Building video best4videos/video_ad14_rs6/video_ad14_rs6_kvm.mp4.\n",
      "MoviePy - Writing audio in video_ad14_rs6_kvmTEMP_MPY_wvf_snd.mp3\n"
     ]
    },
    {
     "name": "stderr",
     "output_type": "stream",
     "text": [
      "t:   0%|          | 2/1384 [24:18<279:59:27, 729.35s/it, now=None]"
     ]
    },
    {
     "name": "stdout",
     "output_type": "stream",
     "text": [
      "MoviePy - Done.\n",
      "Moviepy - Writing video best4videos/video_ad14_rs6/video_ad14_rs6_kvm.mp4\n",
      "\n",
      "FPS2= 25.0\n",
      "FPS1= 25.0\n"
     ]
    },
    {
     "name": "stderr",
     "output_type": "stream",
     "text": [
      "t:   0%|          | 2/1384 [24:27<281:44:51, 733.93s/it, now=None]"
     ]
    },
    {
     "name": "stdout",
     "output_type": "stream",
     "text": [
      "Moviepy - Done !\n",
      "Moviepy - video ready best4videos/video_ad14_rs6/video_ad14_rs6_kvm.mp4\n",
      "Video processing complete and saved to: best4videos/video_ad14_rs6/video_ad14_rs6_kvm.mp4\n",
      "6 17\n"
     ]
    },
    {
     "name": "stderr",
     "output_type": "stream",
     "text": [
      "t:   0%|          | 2/1384 [24:41<284:23:59, 740.84s/it, now=None]"
     ]
    },
    {
     "name": "stdout",
     "output_type": "stream",
     "text": [
      "Moviepy - Building video best4videos/video_ad17_rs6/video_ad17_rs6_kvm.mp4.\n",
      "MoviePy - Writing audio in video_ad17_rs6_kvmTEMP_MPY_wvf_snd.mp3\n"
     ]
    },
    {
     "name": "stderr",
     "output_type": "stream",
     "text": [
      "t:   0%|          | 2/1384 [24:45<285:04:02, 742.58s/it, now=None]"
     ]
    },
    {
     "name": "stdout",
     "output_type": "stream",
     "text": [
      "MoviePy - Done.\n",
      "Moviepy - Writing video best4videos/video_ad17_rs6/video_ad17_rs6_kvm.mp4\n",
      "\n",
      "FPS2= 23.0\n",
      "FPS1= 23.0\n"
     ]
    },
    {
     "name": "stderr",
     "output_type": "stream",
     "text": [
      "t:   0%|          | 2/1384 [25:07<289:19:02, 753.65s/it, now=None]"
     ]
    },
    {
     "name": "stdout",
     "output_type": "stream",
     "text": [
      "Moviepy - Done !\n",
      "Moviepy - video ready best4videos/video_ad17_rs6/video_ad17_rs6_kvm.mp4\n",
      "Video processing complete and saved to: best4videos/video_ad17_rs6/video_ad17_rs6_kvm.mp4\n",
      "6 27\n"
     ]
    },
    {
     "name": "stderr",
     "output_type": "stream",
     "text": [
      "t:   0%|          | 2/1384 [25:12<290:24:03, 756.47s/it, now=None]"
     ]
    },
    {
     "name": "stdout",
     "output_type": "stream",
     "text": [
      "Moviepy - Building video best4videos/video_ad27_rs6/video_ad27_rs6_kvm.mp4.\n",
      "MoviePy - Writing audio in video_ad27_rs6_kvmTEMP_MPY_wvf_snd.mp3\n"
     ]
    },
    {
     "name": "stderr",
     "output_type": "stream",
     "text": [
      "t:   0%|          | 2/1384 [25:13<290:29:24, 756.70s/it, now=None]"
     ]
    },
    {
     "name": "stdout",
     "output_type": "stream",
     "text": [
      "MoviePy - Done.\n",
      "Moviepy - Writing video best4videos/video_ad27_rs6/video_ad27_rs6_kvm.mp4\n",
      "\n",
      "FPS2= 23.0\n",
      "FPS1= 23.0\n"
     ]
    },
    {
     "name": "stderr",
     "output_type": "stream",
     "text": [
      "t:   0%|          | 2/1384 [25:20<291:47:49, 760.11s/it, now=None]"
     ]
    },
    {
     "name": "stdout",
     "output_type": "stream",
     "text": [
      "Moviepy - Done !\n",
      "Moviepy - video ready best4videos/video_ad27_rs6/video_ad27_rs6_kvm.mp4\n",
      "Video processing complete and saved to: best4videos/video_ad27_rs6/video_ad27_rs6_kvm.mp4\n",
      "7 25\n"
     ]
    },
    {
     "name": "stderr",
     "output_type": "stream",
     "text": [
      "t:   0%|          | 2/1384 [26:04<300:23:30, 782.50s/it, now=None]"
     ]
    },
    {
     "name": "stdout",
     "output_type": "stream",
     "text": [
      "Moviepy - Building video best4videos/video_ad25_rs7/video_ad25_rs7_kvm.mp4.\n",
      "MoviePy - Writing audio in video_ad25_rs7_kvmTEMP_MPY_wvf_snd.mp3\n"
     ]
    },
    {
     "name": "stderr",
     "output_type": "stream",
     "text": [
      "t:   0%|          | 2/1384 [26:07<300:53:21, 783.79s/it, now=None]"
     ]
    },
    {
     "name": "stdout",
     "output_type": "stream",
     "text": [
      "MoviePy - Done.\n",
      "Moviepy - Writing video best4videos/video_ad25_rs7/video_ad25_rs7_kvm.mp4\n",
      "\n",
      "FPS2= 25.0\n",
      "FPS1= 25.0\n"
     ]
    },
    {
     "name": "stderr",
     "output_type": "stream",
     "text": [
      "t:   0%|          | 2/1384 [26:49<308:58:20, 804.85s/it, now=None]"
     ]
    },
    {
     "name": "stdout",
     "output_type": "stream",
     "text": [
      "Moviepy - Done !\n",
      "Moviepy - video ready best4videos/video_ad25_rs7/video_ad25_rs7_kvm.mp4\n",
      "Video processing complete and saved to: best4videos/video_ad25_rs7/video_ad25_rs7_kvm.mp4\n",
      "7 5\n"
     ]
    },
    {
     "name": "stderr",
     "output_type": "stream",
     "text": [
      "t:   0%|          | 2/1384 [27:14<313:43:00, 817.21s/it, now=None]"
     ]
    },
    {
     "name": "stdout",
     "output_type": "stream",
     "text": [
      "Moviepy - Building video best4videos/video_ad5_rs7/video_ad5_rs7_kvm.mp4.\n",
      "MoviePy - Writing audio in video_ad5_rs7_kvmTEMP_MPY_wvf_snd.mp3\n"
     ]
    },
    {
     "name": "stderr",
     "output_type": "stream",
     "text": [
      "t:   0%|          | 2/1384 [27:15<313:59:06, 817.91s/it, now=None]"
     ]
    },
    {
     "name": "stdout",
     "output_type": "stream",
     "text": [
      "MoviePy - Done.\n",
      "Moviepy - Writing video best4videos/video_ad5_rs7/video_ad5_rs7_kvm.mp4\n",
      "\n",
      "FPS2= 30.0\n",
      "FPS1= 30.0\n"
     ]
    },
    {
     "name": "stderr",
     "output_type": "stream",
     "text": [
      "t:   0%|          | 2/1384 [27:40<318:47:28, 830.43s/it, now=None]"
     ]
    },
    {
     "name": "stdout",
     "output_type": "stream",
     "text": [
      "Moviepy - Done !\n",
      "Moviepy - video ready best4videos/video_ad5_rs7/video_ad5_rs7_kvm.mp4\n",
      "Video processing complete and saved to: best4videos/video_ad5_rs7/video_ad5_rs7_kvm.mp4\n",
      "7 14\n"
     ]
    },
    {
     "name": "stderr",
     "output_type": "stream",
     "text": [
      "t:   0%|          | 2/1384 [27:48<320:13:42, 834.17s/it, now=None]"
     ]
    },
    {
     "name": "stdout",
     "output_type": "stream",
     "text": [
      "Moviepy - Building video best4videos/video_ad14_rs7/video_ad14_rs7_kvm.mp4.\n",
      "MoviePy - Writing audio in video_ad14_rs7_kvmTEMP_MPY_wvf_snd.mp3\n"
     ]
    },
    {
     "name": "stderr",
     "output_type": "stream",
     "text": [
      "t:   0%|          | 2/1384 [27:51<320:49:20, 835.72s/it, now=None]"
     ]
    },
    {
     "name": "stdout",
     "output_type": "stream",
     "text": [
      "MoviePy - Done.\n",
      "Moviepy - Writing video best4videos/video_ad14_rs7/video_ad14_rs7_kvm.mp4\n",
      "\n",
      "FPS2= 25.0\n",
      "FPS1= 25.0\n"
     ]
    },
    {
     "name": "stderr",
     "output_type": "stream",
     "text": [
      "t:   0%|          | 2/1384 [28:00<322:33:26, 840.24s/it, now=None]"
     ]
    },
    {
     "name": "stdout",
     "output_type": "stream",
     "text": [
      "Moviepy - Done !\n",
      "Moviepy - video ready best4videos/video_ad14_rs7/video_ad14_rs7_kvm.mp4\n",
      "Video processing complete and saved to: best4videos/video_ad14_rs7/video_ad14_rs7_kvm.mp4\n",
      "7 17\n"
     ]
    },
    {
     "name": "stderr",
     "output_type": "stream",
     "text": [
      "t:   0%|          | 2/1384 [28:13<325:05:05, 846.82s/it, now=None]"
     ]
    },
    {
     "name": "stdout",
     "output_type": "stream",
     "text": [
      "Moviepy - Building video best4videos/video_ad17_rs7/video_ad17_rs7_kvm.mp4.\n",
      "MoviePy - Writing audio in video_ad17_rs7_kvmTEMP_MPY_wvf_snd.mp3\n"
     ]
    },
    {
     "name": "stderr",
     "output_type": "stream",
     "text": [
      "t:   0%|          | 2/1384 [28:19<326:06:58, 849.51s/it, now=None]"
     ]
    },
    {
     "name": "stdout",
     "output_type": "stream",
     "text": [
      "MoviePy - Done.\n",
      "Moviepy - Writing video best4videos/video_ad17_rs7/video_ad17_rs7_kvm.mp4\n",
      "\n",
      "FPS2= 23.0\n",
      "FPS1= 23.0\n"
     ]
    },
    {
     "name": "stderr",
     "output_type": "stream",
     "text": [
      "t:   0%|          | 2/1384 [28:42<330:33:54, 861.10s/it, now=None]"
     ]
    },
    {
     "name": "stdout",
     "output_type": "stream",
     "text": [
      "Moviepy - Done !\n",
      "Moviepy - video ready best4videos/video_ad17_rs7/video_ad17_rs7_kvm.mp4\n",
      "Video processing complete and saved to: best4videos/video_ad17_rs7/video_ad17_rs7_kvm.mp4\n",
      "7 27\n"
     ]
    },
    {
     "name": "stderr",
     "output_type": "stream",
     "text": [
      "t:   0%|          | 2/1384 [28:48<331:48:15, 864.32s/it, now=None]"
     ]
    },
    {
     "name": "stdout",
     "output_type": "stream",
     "text": [
      "Moviepy - Building video best4videos/video_ad27_rs7/video_ad27_rs7_kvm.mp4.\n",
      "MoviePy - Writing audio in video_ad27_rs7_kvmTEMP_MPY_wvf_snd.mp3\n"
     ]
    },
    {
     "name": "stderr",
     "output_type": "stream",
     "text": [
      "t:   0%|          | 2/1384 [28:49<331:52:52, 864.52s/it, now=None]"
     ]
    },
    {
     "name": "stdout",
     "output_type": "stream",
     "text": [
      "MoviePy - Done.\n",
      "Moviepy - Writing video best4videos/video_ad27_rs7/video_ad27_rs7_kvm.mp4\n",
      "\n",
      "FPS2= 23.0\n",
      "FPS1= 23.0\n"
     ]
    },
    {
     "name": "stderr",
     "output_type": "stream",
     "text": [
      "t:   0%|          | 2/1384 [28:54<332:54:15, 867.19s/it, now=None]"
     ]
    },
    {
     "name": "stdout",
     "output_type": "stream",
     "text": [
      "Moviepy - Done !\n",
      "Moviepy - video ready best4videos/video_ad27_rs7/video_ad27_rs7_kvm.mp4\n",
      "Video processing complete and saved to: best4videos/video_ad27_rs7/video_ad27_rs7_kvm.mp4\n",
      "8 25\n"
     ]
    },
    {
     "name": "stderr",
     "output_type": "stream",
     "text": [
      "t:   0%|          | 2/1384 [29:47<343:06:23, 893.77s/it, now=None]"
     ]
    },
    {
     "name": "stdout",
     "output_type": "stream",
     "text": [
      "Moviepy - Building video best4videos/video_ad25_rs8/video_ad25_rs8_kvm.mp4.\n",
      "MoviePy - Writing audio in video_ad25_rs8_kvmTEMP_MPY_wvf_snd.mp3\n"
     ]
    },
    {
     "name": "stderr",
     "output_type": "stream",
     "text": [
      "t:   0%|          | 2/1384 [29:51<343:46:48, 895.52s/it, now=None]"
     ]
    },
    {
     "name": "stdout",
     "output_type": "stream",
     "text": [
      "MoviePy - Done.\n",
      "Moviepy - Writing video best4videos/video_ad25_rs8/video_ad25_rs8_kvm.mp4\n",
      "\n",
      "FPS2= 25.0\n",
      "FPS1= 25.0\n"
     ]
    },
    {
     "name": "stderr",
     "output_type": "stream",
     "text": [
      "t:   0%|          | 2/1384 [30:40<353:15:04, 920.19s/it, now=None]"
     ]
    },
    {
     "name": "stdout",
     "output_type": "stream",
     "text": [
      "Moviepy - Done !\n",
      "Moviepy - video ready best4videos/video_ad25_rs8/video_ad25_rs8_kvm.mp4\n",
      "Video processing complete and saved to: best4videos/video_ad25_rs8/video_ad25_rs8_kvm.mp4\n",
      "8 5\n"
     ]
    },
    {
     "name": "stderr",
     "output_type": "stream",
     "text": [
      "t:   0%|          | 2/1384 [31:05<358:09:08, 932.96s/it, now=None]"
     ]
    },
    {
     "name": "stdout",
     "output_type": "stream",
     "text": [
      "Moviepy - Building video best4videos/video_ad5_rs8/video_ad5_rs8_kvm.mp4.\n",
      "MoviePy - Writing audio in video_ad5_rs8_kvmTEMP_MPY_wvf_snd.mp3\n"
     ]
    },
    {
     "name": "stderr",
     "output_type": "stream",
     "text": [
      "t:   0%|          | 2/1384 [31:06<358:19:05, 933.39s/it, now=None]"
     ]
    },
    {
     "name": "stdout",
     "output_type": "stream",
     "text": [
      "MoviePy - Done.\n",
      "Moviepy - Writing video best4videos/video_ad5_rs8/video_ad5_rs8_kvm.mp4\n",
      "\n",
      "FPS2= 30.0\n",
      "FPS1= 30.0\n"
     ]
    },
    {
     "name": "stderr",
     "output_type": "stream",
     "text": [
      "t:   0%|          | 2/1384 [31:23<361:35:53, 941.93s/it, now=None]"
     ]
    },
    {
     "name": "stdout",
     "output_type": "stream",
     "text": [
      "Moviepy - Done !\n",
      "Moviepy - video ready best4videos/video_ad5_rs8/video_ad5_rs8_kvm.mp4\n",
      "Video processing complete and saved to: best4videos/video_ad5_rs8/video_ad5_rs8_kvm.mp4\n",
      "8 14\n"
     ]
    },
    {
     "name": "stderr",
     "output_type": "stream",
     "text": [
      "t:   0%|          | 2/1384 [31:28<362:31:25, 944.35s/it, now=None]"
     ]
    },
    {
     "name": "stdout",
     "output_type": "stream",
     "text": [
      "Moviepy - Building video best4videos/video_ad14_rs8/video_ad14_rs8_kvm.mp4.\n",
      "MoviePy - Writing audio in video_ad14_rs8_kvmTEMP_MPY_wvf_snd.mp3\n"
     ]
    },
    {
     "name": "stderr",
     "output_type": "stream",
     "text": [
      "t:   0%|          | 2/1384 [31:31<363:01:15, 945.64s/it, now=None]"
     ]
    },
    {
     "name": "stdout",
     "output_type": "stream",
     "text": [
      "MoviePy - Done.\n",
      "Moviepy - Writing video best4videos/video_ad14_rs8/video_ad14_rs8_kvm.mp4\n",
      "\n",
      "FPS2= 25.0\n",
      "FPS1= 25.0\n"
     ]
    },
    {
     "name": "stderr",
     "output_type": "stream",
     "text": [
      "t:   0%|          | 2/1384 [31:41<365:02:29, 950.90s/it, now=None]"
     ]
    },
    {
     "name": "stdout",
     "output_type": "stream",
     "text": [
      "Moviepy - Done !\n",
      "Moviepy - video ready best4videos/video_ad14_rs8/video_ad14_rs8_kvm.mp4\n",
      "Video processing complete and saved to: best4videos/video_ad14_rs8/video_ad14_rs8_kvm.mp4\n",
      "8 17\n"
     ]
    },
    {
     "name": "stderr",
     "output_type": "stream",
     "text": [
      "t:   0%|          | 2/1384 [31:56<367:50:41, 958.21s/it, now=None]"
     ]
    },
    {
     "name": "stdout",
     "output_type": "stream",
     "text": [
      "Moviepy - Building video best4videos/video_ad17_rs8/video_ad17_rs8_kvm.mp4.\n",
      "MoviePy - Writing audio in video_ad17_rs8_kvmTEMP_MPY_wvf_snd.mp3\n"
     ]
    },
    {
     "name": "stderr",
     "output_type": "stream",
     "text": [
      "t:   0%|          | 2/1384 [31:59<368:22:41, 959.60s/it, now=None]"
     ]
    },
    {
     "name": "stdout",
     "output_type": "stream",
     "text": [
      "MoviePy - Done.\n",
      "Moviepy - Writing video best4videos/video_ad17_rs8/video_ad17_rs8_kvm.mp4\n",
      "\n",
      "FPS2= 23.0\n",
      "FPS1= 23.0\n"
     ]
    },
    {
     "name": "stderr",
     "output_type": "stream",
     "text": [
      "t:   0%|          | 2/1384 [32:25<373:24:12, 972.69s/it, now=None]"
     ]
    },
    {
     "name": "stdout",
     "output_type": "stream",
     "text": [
      "Moviepy - Done !\n",
      "Moviepy - video ready best4videos/video_ad17_rs8/video_ad17_rs8_kvm.mp4\n",
      "Video processing complete and saved to: best4videos/video_ad17_rs8/video_ad17_rs8_kvm.mp4\n",
      "8 27\n",
      "9 25\n"
     ]
    },
    {
     "name": "stderr",
     "output_type": "stream",
     "text": [
      "t:   0%|          | 2/1384 [33:18<383:40:07, 999.43s/it, now=None]"
     ]
    },
    {
     "name": "stdout",
     "output_type": "stream",
     "text": [
      "Moviepy - Building video best4videos/video_ad25_rs9/video_ad25_rs9_kvm.mp4.\n",
      "MoviePy - Writing audio in video_ad25_rs9_kvmTEMP_MPY_wvf_snd.mp3\n"
     ]
    },
    {
     "name": "stderr",
     "output_type": "stream",
     "text": [
      "t:   0%|          | 2/1384 [33:22<384:16:23, 1001.00s/it, now=None]"
     ]
    },
    {
     "name": "stdout",
     "output_type": "stream",
     "text": [
      "MoviePy - Done.\n",
      "Moviepy - Writing video best4videos/video_ad25_rs9/video_ad25_rs9_kvm.mp4\n",
      "\n",
      "FPS2= 25.0\n",
      "FPS1= 25.0\n"
     ]
    },
    {
     "name": "stderr",
     "output_type": "stream",
     "text": [
      "t:   0%|          | 2/1384 [34:09<393:21:13, 1024.66s/it, now=None]"
     ]
    },
    {
     "name": "stdout",
     "output_type": "stream",
     "text": [
      "Moviepy - Done !\n",
      "Moviepy - video ready best4videos/video_ad25_rs9/video_ad25_rs9_kvm.mp4\n",
      "Video processing complete and saved to: best4videos/video_ad25_rs9/video_ad25_rs9_kvm.mp4\n",
      "9 5\n"
     ]
    },
    {
     "name": "stderr",
     "output_type": "stream",
     "text": [
      "t:   0%|          | 2/1384 [34:37<398:41:07, 1038.54s/it, now=None]"
     ]
    },
    {
     "name": "stdout",
     "output_type": "stream",
     "text": [
      "Moviepy - Building video best4videos/video_ad5_rs9/video_ad5_rs9_kvm.mp4.\n",
      "MoviePy - Writing audio in video_ad5_rs9_kvmTEMP_MPY_wvf_snd.mp3\n"
     ]
    },
    {
     "name": "stderr",
     "output_type": "stream",
     "text": [
      "t:   0%|          | 2/1384 [34:38<398:59:37, 1039.35s/it, now=None]"
     ]
    },
    {
     "name": "stdout",
     "output_type": "stream",
     "text": [
      "MoviePy - Done.\n",
      "Moviepy - Writing video best4videos/video_ad5_rs9/video_ad5_rs9_kvm.mp4\n",
      "\n",
      "FPS2= 30.0\n",
      "FPS1= 30.0\n"
     ]
    },
    {
     "name": "stderr",
     "output_type": "stream",
     "text": [
      "t:   0%|          | 2/1384 [35:08<404:38:11, 1054.05s/it, now=None]"
     ]
    },
    {
     "name": "stdout",
     "output_type": "stream",
     "text": [
      "Moviepy - Done !\n",
      "Moviepy - video ready best4videos/video_ad5_rs9/video_ad5_rs9_kvm.mp4\n",
      "Video processing complete and saved to: best4videos/video_ad5_rs9/video_ad5_rs9_kvm.mp4\n",
      "9 14\n"
     ]
    },
    {
     "name": "stderr",
     "output_type": "stream",
     "text": [
      "t:   0%|          | 2/1384 [35:15<406:00:28, 1057.62s/it, now=None]"
     ]
    },
    {
     "name": "stdout",
     "output_type": "stream",
     "text": [
      "Moviepy - Building video best4videos/video_ad14_rs9/video_ad14_rs9_kvm.mp4.\n",
      "MoviePy - Writing audio in video_ad14_rs9_kvmTEMP_MPY_wvf_snd.mp3\n"
     ]
    },
    {
     "name": "stderr",
     "output_type": "stream",
     "text": [
      "t:   0%|          | 2/1384 [35:17<406:27:49, 1058.81s/it, now=None]"
     ]
    },
    {
     "name": "stdout",
     "output_type": "stream",
     "text": [
      "MoviePy - Done.\n",
      "Moviepy - Writing video best4videos/video_ad14_rs9/video_ad14_rs9_kvm.mp4\n",
      "\n",
      "FPS2= 25.0\n",
      "FPS1= 25.0\n"
     ]
    },
    {
     "name": "stderr",
     "output_type": "stream",
     "text": [
      "t:   0%|          | 2/1384 [35:26<408:07:15, 1063.12s/it, now=None]"
     ]
    },
    {
     "name": "stdout",
     "output_type": "stream",
     "text": [
      "Moviepy - Done !\n",
      "Moviepy - video ready best4videos/video_ad14_rs9/video_ad14_rs9_kvm.mp4\n",
      "Video processing complete and saved to: best4videos/video_ad14_rs9/video_ad14_rs9_kvm.mp4\n",
      "9 17\n"
     ]
    },
    {
     "name": "stderr",
     "output_type": "stream",
     "text": [
      "t:   0%|          | 2/1384 [35:39<410:35:03, 1069.54s/it, now=None]"
     ]
    },
    {
     "name": "stdout",
     "output_type": "stream",
     "text": [
      "Moviepy - Building video best4videos/video_ad17_rs9/video_ad17_rs9_kvm.mp4.\n",
      "MoviePy - Writing audio in video_ad17_rs9_kvmTEMP_MPY_wvf_snd.mp3\n"
     ]
    },
    {
     "name": "stderr",
     "output_type": "stream",
     "text": [
      "t:   0%|          | 2/1384 [35:42<411:09:07, 1071.02s/it, now=None]"
     ]
    },
    {
     "name": "stdout",
     "output_type": "stream",
     "text": [
      "MoviePy - Done.\n",
      "Moviepy - Writing video best4videos/video_ad17_rs9/video_ad17_rs9_kvm.mp4\n",
      "\n",
      "FPS2= 23.0\n",
      "FPS1= 23.0\n"
     ]
    },
    {
     "name": "stderr",
     "output_type": "stream",
     "text": [
      "t:   0%|          | 2/1384 [36:02<415:02:19, 1081.14s/it, now=None]"
     ]
    },
    {
     "name": "stdout",
     "output_type": "stream",
     "text": [
      "Moviepy - Done !\n",
      "Moviepy - video ready best4videos/video_ad17_rs9/video_ad17_rs9_kvm.mp4\n",
      "Video processing complete and saved to: best4videos/video_ad17_rs9/video_ad17_rs9_kvm.mp4\n",
      "9 27\n",
      "10 25\n"
     ]
    },
    {
     "name": "stderr",
     "output_type": "stream",
     "text": [
      "t:   0%|          | 2/1384 [36:41<422:28:24, 1100.51s/it, now=None]"
     ]
    },
    {
     "name": "stdout",
     "output_type": "stream",
     "text": [
      "Moviepy - Building video best4videos/video_ad25_rs10/video_ad25_rs10_kvm.mp4.\n",
      "MoviePy - Writing audio in video_ad25_rs10_kvmTEMP_MPY_wvf_snd.mp3\n"
     ]
    },
    {
     "name": "stderr",
     "output_type": "stream",
     "text": [
      "t:   0%|          | 2/1384 [36:43<423:00:07, 1101.89s/it, now=None]"
     ]
    },
    {
     "name": "stdout",
     "output_type": "stream",
     "text": [
      "MoviePy - Done.\n",
      "Moviepy - Writing video best4videos/video_ad25_rs10/video_ad25_rs10_kvm.mp4\n",
      "\n",
      "FPS2= 25.0\n",
      "FPS1= 25.0\n"
     ]
    },
    {
     "name": "stderr",
     "output_type": "stream",
     "text": [
      "t:   0%|          | 2/1384 [37:26<431:06:46, 1123.01s/it, now=None]"
     ]
    },
    {
     "name": "stdout",
     "output_type": "stream",
     "text": [
      "Moviepy - Done !\n",
      "Moviepy - video ready best4videos/video_ad25_rs10/video_ad25_rs10_kvm.mp4\n",
      "Video processing complete and saved to: best4videos/video_ad25_rs10/video_ad25_rs10_kvm.mp4\n",
      "10 5\n"
     ]
    },
    {
     "name": "stderr",
     "output_type": "stream",
     "text": [
      "t:   0%|          | 2/1384 [37:53<436:25:44, 1136.86s/it, now=None]"
     ]
    },
    {
     "name": "stdout",
     "output_type": "stream",
     "text": [
      "Moviepy - Building video best4videos/video_ad5_rs10/video_ad5_rs10_kvm.mp4.\n",
      "MoviePy - Writing audio in video_ad5_rs10_kvmTEMP_MPY_wvf_snd.mp3\n"
     ]
    },
    {
     "name": "stderr",
     "output_type": "stream",
     "text": [
      "t:   0%|          | 2/1384 [37:55<436:51:01, 1137.96s/it, now=None]"
     ]
    },
    {
     "name": "stdout",
     "output_type": "stream",
     "text": [
      "MoviePy - Done.\n",
      "Moviepy - Writing video best4videos/video_ad5_rs10/video_ad5_rs10_kvm.mp4\n",
      "\n",
      "FPS2= 30.0\n",
      "FPS1= 30.0\n"
     ]
    },
    {
     "name": "stderr",
     "output_type": "stream",
     "text": [
      "t:   0%|          | 2/1384 [38:24<442:25:49, 1152.50s/it, now=None]"
     ]
    },
    {
     "name": "stdout",
     "output_type": "stream",
     "text": [
      "Moviepy - Done !\n",
      "Moviepy - video ready best4videos/video_ad5_rs10/video_ad5_rs10_kvm.mp4\n",
      "Video processing complete and saved to: best4videos/video_ad5_rs10/video_ad5_rs10_kvm.mp4\n",
      "10 14\n"
     ]
    },
    {
     "name": "stderr",
     "output_type": "stream",
     "text": [
      "t:   0%|          | 2/1384 [38:33<444:01:37, 1156.66s/it, now=None]"
     ]
    },
    {
     "name": "stdout",
     "output_type": "stream",
     "text": [
      "Moviepy - Building video best4videos/video_ad14_rs10/video_ad14_rs10_kvm.mp4.\n",
      "MoviePy - Writing audio in video_ad14_rs10_kvmTEMP_MPY_wvf_snd.mp3\n"
     ]
    },
    {
     "name": "stderr",
     "output_type": "stream",
     "text": [
      "t:   0%|          | 2/1384 [38:35<444:31:16, 1157.94s/it, now=None]"
     ]
    },
    {
     "name": "stdout",
     "output_type": "stream",
     "text": [
      "MoviePy - Done.\n",
      "Moviepy - Writing video best4videos/video_ad14_rs10/video_ad14_rs10_kvm.mp4\n",
      "\n",
      "FPS2= 25.0\n",
      "FPS1= 25.0\n"
     ]
    },
    {
     "name": "stderr",
     "output_type": "stream",
     "text": [
      "t:   0%|          | 2/1384 [38:45<446:19:34, 1162.64s/it, now=None]"
     ]
    },
    {
     "name": "stdout",
     "output_type": "stream",
     "text": [
      "Moviepy - Done !\n",
      "Moviepy - video ready best4videos/video_ad14_rs10/video_ad14_rs10_kvm.mp4\n",
      "Video processing complete and saved to: best4videos/video_ad14_rs10/video_ad14_rs10_kvm.mp4\n",
      "10 17\n"
     ]
    },
    {
     "name": "stderr",
     "output_type": "stream",
     "text": [
      "t:   0%|          | 2/1384 [38:58<448:53:42, 1169.34s/it, now=None]"
     ]
    },
    {
     "name": "stdout",
     "output_type": "stream",
     "text": [
      "Moviepy - Building video best4videos/video_ad17_rs10/video_ad17_rs10_kvm.mp4.\n",
      "MoviePy - Writing audio in video_ad17_rs10_kvmTEMP_MPY_wvf_snd.mp3\n"
     ]
    },
    {
     "name": "stderr",
     "output_type": "stream",
     "text": [
      "t:   0%|          | 2/1384 [39:02<449:33:54, 1171.08s/it, now=None]"
     ]
    },
    {
     "name": "stdout",
     "output_type": "stream",
     "text": [
      "MoviePy - Done.\n",
      "Moviepy - Writing video best4videos/video_ad17_rs10/video_ad17_rs10_kvm.mp4\n",
      "\n",
      "FPS2= 23.0\n",
      "FPS1= 23.0\n"
     ]
    },
    {
     "name": "stderr",
     "output_type": "stream",
     "text": [
      "t:   0%|          | 2/1384 [39:20<453:04:22, 1180.22s/it, now=None]"
     ]
    },
    {
     "name": "stdout",
     "output_type": "stream",
     "text": [
      "Moviepy - Done !\n",
      "Moviepy - video ready best4videos/video_ad17_rs10/video_ad17_rs10_kvm.mp4\n",
      "Video processing complete and saved to: best4videos/video_ad17_rs10/video_ad17_rs10_kvm.mp4\n",
      "10 27\n",
      "./\n",
      "./video_ad14_rs8.mp4\n",
      "./video_ad25_rs3.mp4\n",
      "./video_ad14_rs7.mp4\n",
      "./video_ad17_rs9.mp4\n",
      "./video_ad5_rs6.mp4\n",
      "./video_ad27_rs2.mp4\n",
      "./video_ad27_rs5.mp4\n",
      "./video_ad5_rs2.mp4\n",
      "./video_ad5_rs8.mp4\n",
      "./video_ad17_rs5.mp4\n",
      "./video_ad5_rs1.mp4\n",
      "./video_ad5_rs0.mp4\n",
      "./video_ad27_rs1.mp4\n",
      "./video_ad17_rs3.mp4\n",
      "./video_ad17_rs1.mp4\n",
      "./video_ad14_rs4.mp4\n",
      "./video_ad14_rs0.mp4\n",
      "./video_ad14_rs2.mp4\n",
      "./video_ad17_rs2.mp4\n",
      "./video_ad17_rs7.mp4\n",
      "./video_ad17_rs6.mp4\n",
      "./video_ad17_rs10.mp4\n",
      "./video_ad27_rs7.mp4\n",
      "./video_ad25_rs10.mp4\n",
      "./video_ad25_rs8.mp4\n",
      "./video_ad27_rs0.mp4\n",
      "./video_ad25_rs6.mp4\n",
      "./video_ad5_rs4.mp4\n",
      "./video_ad5_rs9.mp4\n",
      "./video_ad27_rs3.mp4\n",
      "./video_ad25_rs5.mp4\n",
      "./video_ad25_rs2.mp4\n",
      "./video_ad17_rs0.mp4\n",
      "./video_ad25_rs7.mp4\n",
      "./video_ad5_rs5.mp4\n",
      "./video_ad5_rs10.mp4\n",
      "./video_ad27_rs4.mp4\n",
      "./video_ad5_rs3.mp4\n",
      "./video_ad25_rs9.mp4\n",
      "./video_ad14_rs10.mp4\n",
      "./video_ad17_rs8.mp4\n",
      "./video_ad25_rs1.mp4\n",
      "./video_ad5_rs7.mp4\n",
      "./video_ad25_rs4.mp4\n",
      "./video_ad27_rs6.mp4\n",
      "./video_ad14_rs1.mp4\n",
      "./video_ad14_rs9.mp4\n",
      "./video_ad17_rs4.mp4\n",
      "./video_ad25_rs0.mp4\n",
      "./video_ad14_rs6.mp4\n",
      "./video_ad14_rs5.mp4\n",
      "Archive created: e2e_51_examples.tar.gz\n"
     ]
    }
   ],
   "source": [
    "import os\n",
    "import shutil\n",
    "import tempfile\n",
    "from video_utils.kvm import draw_kvm_on_video\n",
    "\n",
    "# Create a temporary directory\n",
    "tmp_dir = tempfile.mkdtemp()\n",
    "\n",
    "# Find and collect file paths\n",
    "files = []\n",
    "for rs in range(11):\n",
    "    for ind in [25, 5, 14, 17, 27]:\n",
    "        print(rs, ind)\n",
    "        path = f\"best4videos/video_ad{ind}_rs{rs}/video_ad{ind}_rs{rs}.mp4\"\n",
    "        if os.path.exists(path):\n",
    "            new_path = path.replace('.mp4', '_kvm.mp4')\n",
    "            draw_kvm_on_video(\n",
    "                input_video_path=path,\n",
    "                output_video_path=new_path,\n",
    "                path_kvm=f\"best4videos/video_ad{ind}/kvm2.csv\"\n",
    "            )\n",
    "            # Copy file to the temporary directory\n",
    "            shutil.copy(new_path, os.path.join(tmp_dir, os.path.basename(path)))\n",
    "            # Collect the path of the copied file\n",
    "            files.append(os.path.join(tmp_dir, os.path.basename(new_path)))\n",
    "\n",
    "# Check if files were copied and proceed to archive\n",
    "if files:\n",
    "    # Generate the tar.gz archive of the temporary directory\n",
    "    archive_name = f\"e2e_{len(files)}_examples.tar.gz\"\n",
    "    command = f\"tar -czvf {archive_name} -C {tmp_dir} .\"\n",
    "    os.system(command)  # Execute the command to create the archive\n",
    "    print(f\"Archive created: {archive_name}\")\n",
    "else:\n",
    "    print(\"No files to archive.\")\n",
    "\n",
    "# Optional: Clean up by removing the temporary directory\n",
    "shutil.rmtree(tmp_dir)"
   ]
  },
  {
   "cell_type": "markdown",
   "metadata": {},
   "source": [
    "# 8. Red squares in video at kvm"
   ]
  },
  {
   "cell_type": "code",
   "execution_count": 75,
   "metadata": {},
   "outputs": [
    {
     "name": "stdout",
     "output_type": "stream",
     "text": [
      "Moviepy - Building video best4videos/video_ad14_rs10/video_ad14_rs10_kvm.mp4.\n",
      "MoviePy - Writing audio in video_ad14_rs10_kvmTEMP_MPY_wvf_snd.mp3\n"
     ]
    },
    {
     "name": "stderr",
     "output_type": "stream",
     "text": [
      "                                                                     \r"
     ]
    },
    {
     "name": "stdout",
     "output_type": "stream",
     "text": [
      "MoviePy - Done.\n",
      "Moviepy - Writing video best4videos/video_ad14_rs10/video_ad14_rs10_kvm.mp4\n",
      "\n",
      "FPS2= 25.0\n",
      "FPS1= 25.0\n"
     ]
    },
    {
     "name": "stderr",
     "output_type": "stream",
     "text": [
      "                                                                 \r"
     ]
    },
    {
     "name": "stdout",
     "output_type": "stream",
     "text": [
      "Moviepy - Done !\n",
      "Moviepy - video ready best4videos/video_ad14_rs10/video_ad14_rs10_kvm.mp4\n",
      "Video processing complete and saved to: best4videos/video_ad14_rs10/video_ad14_rs10_kvm.mp4\n"
     ]
    }
   ],
   "source": [
    "import cv2\n",
    "from moviepy.editor import VideoFileClip\n",
    "import numpy as np\n",
    "from video_utils.kvm import draw_kvm_on_video  # func\n",
    "\n",
    "def draw_red_square_and_preserve_audio(\n",
    "        input_video_path, \n",
    "        output_video_path, \n",
    "        frames_to_mark, \n",
    "        diameter=50, \n",
    "        color=(0, 0, 255)\n",
    "        ):\n",
    "    \"\"\"\n",
    "    Draws a red square at the bottom left corner of specified frames in a video and preserves audio.\n",
    "\n",
    "    Args:\n",
    "    input_video_path (str): Path to the input video file.\n",
    "    output_video_path (str): Path where the output video will be saved.\n",
    "    frames_to_mark (list): List of frame indices where the square should be drawn.\n",
    "    square_size (int, optional): Size of the square side in pixels. Default is 50.\n",
    "    color (tuple, optional): Color of the square in BGR format (Blue, Green, Red). Default is red.\n",
    "    \"\"\"\n",
    "    # Create a temporary video path for the mute video\n",
    "    temp_video_path = 'temp_output.mp4'\n",
    "\n",
    "    # Open the input video\n",
    "    cap = cv2.VideoCapture(input_video_path)\n",
    "    if not cap.isOpened():\n",
    "        raise ValueError(\"Error opening video file\")\n",
    "    \n",
    "    # Get video properties\n",
    "    fps = int(cap.get(cv2.CAP_PROP_FPS))\n",
    "    width = int(cap.get(cv2.CAP_PROP_FRAME_WIDTH))\n",
    "    height = int(cap.get(cv2.CAP_PROP_FRAME_HEIGHT))\n",
    "    codec = cv2.VideoWriter_fourcc(*'mp4v')  # Define codec for saving video\n",
    "    \n",
    "    # Create a VideoWriter object to save the mute video\n",
    "    out = cv2.VideoWriter(temp_video_path, codec, fps, (width, height))\n",
    "\n",
    "    # Process the video\n",
    "    current_frame = 0\n",
    "    frames_to_mark = np.array(frames_to_mark)\n",
    "    colored_frames = np.concatenate([frames_to_mark + shift for shift in range(-2, 3)])\n",
    "    while cap.isOpened():\n",
    "        ret, frame = cap.read()\n",
    "        if not ret:\n",
    "            break\n",
    "\n",
    "        # Check if the current frame or its neighbors need the square\n",
    "        if current_frame in colored_frames:\n",
    "            # Coordinates for the square (bottom left corner)\n",
    "\n",
    "            # start_point = (width - square_size, 0)\n",
    "            # end_point = (width, square_size)\n",
    "            # # Draw the rectangle on the frame\n",
    "            # frame = cv2.rectangle(frame, start_point, end_point, color, -1)\n",
    "            \n",
    "            # Coordinates and radius for the circle (top right corner)\n",
    "            center = (width - diameter // 2, diameter // 2)  # Center of the circle\n",
    "            radius = diameter // 2  # Radius of the circle\n",
    "            # Create a copy of the frame to overlay the circle\n",
    "            overlay = frame.copy()\n",
    "            # Draw a filled circle on the overlay\n",
    "            cv2.circle(overlay, center, radius, color, -1)\n",
    "            # Alpha factor for transparency (between 0 and 1, where 1 is completely opaque)\n",
    "            alpha = 0.7\n",
    "            # Apply the overlay with transparency\n",
    "            frame = cv2.addWeighted(overlay, alpha, frame, 1 - alpha, 0)\n",
    "\n",
    "        # Write the frame to the output video\n",
    "        out.write(frame)\n",
    "        current_frame += 1\n",
    "\n",
    "    # Release everything when job is finished\n",
    "    cap.release()\n",
    "    out.release()\n",
    "    cv2.destroyAllWindows()\n",
    "\n",
    "    # Load the original video and temporary mute video\n",
    "    original_clip = VideoFileClip(input_video_path)\n",
    "    video_clip = VideoFileClip(temp_video_path)\n",
    "\n",
    "    # Set the audio of the original video to the video clip\n",
    "    video_clip = video_clip.set_audio(original_clip.audio)\n",
    "\n",
    "    # Write the final video with audio\n",
    "    video_clip.write_videofile(output_video_path, codec='libx264', audio_codec='libmp3lame', fps=video_clip.fps)\n",
    "\n",
    "    # Cleanup\n",
    "    video_clip.close()\n",
    "    original_clip.close()\n",
    "    print(\"Video processing complete and saved to:\", output_video_path)\n",
    "\n",
    "df = pd.read_csv('best4videos/video_ad14/kvm2.csv')\n",
    "kvm = df.query('key_moment == 1')['frame_ind'].values\n",
    "\n",
    "# Example usage\n",
    "draw_red_square_and_preserve_audio(\n",
    "    input_video_path='best4videos/video_ad14_rs10/video_ad14_rs10.mp4', \n",
    "    output_video_path='best4videos/video_ad14_rs10/video_ad14_rs10_kvm.mp4', \n",
    "    frames_to_mark=kvm)\n"
   ]
  },
  {
   "cell_type": "code",
   "execution_count": null,
   "metadata": {},
   "outputs": [],
   "source": []
  }
 ],
 "metadata": {
  "kernelspec": {
   "display_name": "VideoMusic",
   "language": "python",
   "name": "videomusic"
  },
  "language_info": {
   "codemirror_mode": {
    "name": "ipython",
    "version": 3
   },
   "file_extension": ".py",
   "mimetype": "text/x-python",
   "name": "python",
   "nbconvert_exporter": "python",
   "pygments_lexer": "ipython3",
   "version": "3.10.14"
  }
 },
 "nbformat": 4,
 "nbformat_minor": 4
}
