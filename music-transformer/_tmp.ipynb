{
 "cells": [
  {
   "cell_type": "code",
   "execution_count": 1,
   "metadata": {},
   "outputs": [],
   "source": [
    "import csv\n",
    "import json\n",
    "import os\n",
    "from shutil import copyfile\n",
    "\n",
    "import torch\n",
    "import torch.nn as nn\n",
    "import wandb\n",
    "from torch.optim import Adam\n",
    "from torch.optim.lr_scheduler import LambdaLR\n",
    "from torch.utils.data import DataLoader\n",
    "\n",
    "from dataset.e_piano import create_epiano_datasets\n",
    "from model.music_transformer import MusicTransformer\n",
    "from utilities.constants import *\n",
    "from utilities.device import get_device, use_cuda\n",
    "from utilities.lr_scheduling import LrStepTracker, get_lr\n",
    "from utilities.run_model import eval_model, parse_json, train_epoch\n",
    "\n",
    "# Baseline is an untrained epoch that we evaluate as a baseline loss and accuracy\n",
    "BASELINE_EPOCH = -1\n",
    "\n",
    "import pandas as pd\n",
    "import matplotlib.pyplot as plt"
   ]
  },
  {
   "cell_type": "markdown",
   "metadata": {},
   "source": [
    "inspecting how train.py works"
   ]
  },
  {
   "cell_type": "code",
   "execution_count": 5,
   "metadata": {},
   "outputs": [],
   "source": [
    "args = json.load(open('parameters.json', 'r'))\n",
    "dataset_params = json.load(open('dataset/dataset_parameters.json', 'r'))\n",
    "model_params = json.load(open('model/model_params.json', 'r'))"
   ]
  },
  {
   "cell_type": "code",
   "execution_count": 7,
   "metadata": {},
   "outputs": [
    {
     "name": "stderr",
     "output_type": "stream",
     "text": [
      "100%|██████████| 17123/17123 [15:42<00:00, 18.16it/s]\n",
      "100%|██████████| 1955/1955 [01:49<00:00, 17.89it/s]\n",
      "100%|██████████| 2179/2179 [01:43<00:00, 21.09it/s]\n"
     ]
    }
   ],
   "source": [
    "# dataset.dim:    (len_dataset, n_feats, context_size)\n",
    "# dataloader.dim: (len_dataset // batch_size, n_feats, batch_size, context_size)\n",
    "# context_size := max_seq\n",
    "\n",
    "train_dataset, val_dataset, test_dataset = create_epiano_datasets(\n",
    "    max_seq=model_params['max_sequence'],\n",
    "    **dataset_params,\n",
    ")\n",
    "\n",
    "val_loader = DataLoader(  # noqa: F841\n",
    "    val_dataset,\n",
    "    batch_size=args['batch_size'],\n",
    "    num_workers=args['n_workers'],\n",
    ")"
   ]
  },
  {
   "cell_type": "code",
   "execution_count": null,
   "metadata": {},
   "outputs": [
    {
     "data": {
      "text/plain": [
       "(1955, 489)"
      ]
     },
     "metadata": {},
     "output_type": "display_data"
    }
   ],
   "source": [
    "len(val_dataset), len(val_loader)"
   ]
  },
  {
   "cell_type": "code",
   "execution_count": 38,
   "metadata": {},
   "outputs": [],
   "source": [
    "# Create an iterator from the validation DataLoader\n",
    "val_loader_iter = iter(val_loader)\n",
    "\n",
    "# Fetch the first batch from the iterator\n",
    "first_batch = next(val_loader_iter)\n",
    "\n",
    "# Print or inspect the first batch\n",
    "print(first_batch)"
   ]
  },
  {
   "cell_type": "code",
   "execution_count": 37,
   "metadata": {},
   "outputs": [
    {
     "data": {
      "text/plain": [
       "[tensor([[364,  53, 256,  ..., 258, 221, 256],\n",
       "         [386,  52, 316,  ..., 389, 389, 389],\n",
       "         [377,  75, 374,  ..., 364,  59, 256],\n",
       "         [372,  64, 372,  ..., 371,  93, 256]]),\n",
       " tensor([[[  0,   0],\n",
       "          [  1,   0],\n",
       "          [  1,   0],\n",
       "          ...,\n",
       "          [  3,   9],\n",
       "          [  2,   9],\n",
       "          [  2,   9]],\n",
       " \n",
       "         [[  0,   0],\n",
       "          [  1,   0],\n",
       "          [  1,   0],\n",
       "          ...,\n",
       "          [ 10, 127],\n",
       "          [ 10, 127],\n",
       "          [ 10, 127]],\n",
       " \n",
       "         [[  0,   0],\n",
       "          [  1,   0],\n",
       "          [  1,   0],\n",
       "          ...,\n",
       "          [  1,  10],\n",
       "          [  2,  10],\n",
       "          [  2,  10]],\n",
       " \n",
       "         [[  0,   0],\n",
       "          [  1,   0],\n",
       "          [  1,   0],\n",
       "          ...,\n",
       "          [  5,  29],\n",
       "          [  6,  29],\n",
       "          [  6,  29]]]),\n",
       " tensor([[ 0, 14],\n",
       "         [11,  0],\n",
       "         [ 0,  0],\n",
       "         [ 8,  0]]),\n",
       " tensor([[ 53, 256, 365,  ..., 221, 256, 207],\n",
       "         [ 52, 316, 180,  ..., 389, 389, 389],\n",
       "         [ 75, 374,  56,  ...,  59, 256, 184],\n",
       "         [ 64, 372,  71,  ...,  93, 256, 374]])]"
      ]
     },
     "execution_count": 37,
     "metadata": {},
     "output_type": "execute_result"
    }
   ],
   "source": [
    "first_batch"
   ]
  },
  {
   "cell_type": "code",
   "execution_count": 40,
   "metadata": {},
   "outputs": [
    {
     "data": {
      "text/plain": [
       "(tensor([364,  53, 256,  ..., 258, 221, 256]),\n",
       " tensor([[0, 0],\n",
       "         [1, 0],\n",
       "         [1, 0],\n",
       "         ...,\n",
       "         [3, 9],\n",
       "         [2, 9],\n",
       "         [2, 9]]),\n",
       " tensor([ 0, 14]),\n",
       " tensor([ 53, 256, 365,  ..., 221, 256, 207]))"
      ]
     },
     "execution_count": 40,
     "metadata": {},
     "output_type": "execute_result"
    }
   ],
   "source": [
    "first_batch[0][0], first_batch[1][0], first_batch[2][0], first_batch[3][0]"
   ]
  },
  {
   "cell_type": "code",
   "execution_count": 71,
   "metadata": {},
   "outputs": [
    {
     "data": {
      "text/plain": [
       "(tensor([386,  52, 316,  ..., 389, 389, 389]),\n",
       " tensor([[  0,   0],\n",
       "         [  1,   0],\n",
       "         [  1,   0],\n",
       "         ...,\n",
       "         [ 10, 127],\n",
       "         [ 10, 127],\n",
       "         [ 10, 127]]),\n",
       " tensor([11,  0]),\n",
       " tensor([ 52, 316, 180,  ..., 389, 389, 389]))"
      ]
     },
     "execution_count": 71,
     "metadata": {},
     "output_type": "execute_result"
    }
   ],
   "source": [
    "val_dataset[1]"
   ]
  },
  {
   "cell_type": "code",
   "execution_count": 77,
   "metadata": {},
   "outputs": [
    {
     "data": {
      "text/plain": [
       "(Counter({0: 37,\n",
       "          1: 76,\n",
       "          2: 102,\n",
       "          3: 133,\n",
       "          4: 173,\n",
       "          5: 187,\n",
       "          6: 217,\n",
       "          7: 289,\n",
       "          8: 350,\n",
       "          9: 307,\n",
       "          10: 177}),\n",
       " Counter({0: 16,\n",
       "          1: 13,\n",
       "          2: 9,\n",
       "          3: 13,\n",
       "          4: 9,\n",
       "          5: 11,\n",
       "          6: 12,\n",
       "          7: 5,\n",
       "          8: 4,\n",
       "          9: 13,\n",
       "          10: 8,\n",
       "          11: 14,\n",
       "          12: 18,\n",
       "          13: 8,\n",
       "          14: 14,\n",
       "          15: 6,\n",
       "          16: 17,\n",
       "          17: 8,\n",
       "          18: 14,\n",
       "          19: 9,\n",
       "          20: 14,\n",
       "          21: 8,\n",
       "          22: 17,\n",
       "          23: 8,\n",
       "          24: 14,\n",
       "          25: 18,\n",
       "          26: 8,\n",
       "          27: 14,\n",
       "          28: 8,\n",
       "          29: 14,\n",
       "          30: 6,\n",
       "          31: 21,\n",
       "          32: 8,\n",
       "          33: 17,\n",
       "          34: 8,\n",
       "          35: 16,\n",
       "          36: 8,\n",
       "          37: 7,\n",
       "          38: 13,\n",
       "          39: 8,\n",
       "          40: 14,\n",
       "          41: 8,\n",
       "          42: 14,\n",
       "          43: 8,\n",
       "          44: 18,\n",
       "          45: 5,\n",
       "          46: 18,\n",
       "          47: 8,\n",
       "          48: 14,\n",
       "          49: 5,\n",
       "          50: 14,\n",
       "          51: 20,\n",
       "          52: 9,\n",
       "          53: 14,\n",
       "          54: 8,\n",
       "          55: 14,\n",
       "          56: 8,\n",
       "          57: 18,\n",
       "          58: 8,\n",
       "          59: 14,\n",
       "          60: 9,\n",
       "          61: 14,\n",
       "          62: 8,\n",
       "          63: 21,\n",
       "          64: 16,\n",
       "          65: 8,\n",
       "          66: 11,\n",
       "          67: 1,\n",
       "          68: 12,\n",
       "          69: 8,\n",
       "          70: 12,\n",
       "          71: 8,\n",
       "          72: 14,\n",
       "          73: 8,\n",
       "          74: 8,\n",
       "          75: 8,\n",
       "          76: 18,\n",
       "          77: 8,\n",
       "          78: 10,\n",
       "          79: 11,\n",
       "          80: 8,\n",
       "          81: 10,\n",
       "          82: 7,\n",
       "          83: 17,\n",
       "          84: 8,\n",
       "          85: 8,\n",
       "          86: 8,\n",
       "          87: 14,\n",
       "          88: 8,\n",
       "          89: 14,\n",
       "          90: 17,\n",
       "          91: 9,\n",
       "          92: 8,\n",
       "          93: 10,\n",
       "          94: 13,\n",
       "          95: 13,\n",
       "          96: 8,\n",
       "          97: 4,\n",
       "          98: 14,\n",
       "          99: 8,\n",
       "          100: 14,\n",
       "          101: 8,\n",
       "          102: 18,\n",
       "          103: 14,\n",
       "          104: 6,\n",
       "          105: 17,\n",
       "          106: 8,\n",
       "          107: 14,\n",
       "          108: 9,\n",
       "          109: 14,\n",
       "          110: 8,\n",
       "          111: 17,\n",
       "          112: 8,\n",
       "          113: 14,\n",
       "          114: 18,\n",
       "          115: 8,\n",
       "          116: 14,\n",
       "          117: 8,\n",
       "          118: 14,\n",
       "          119: 6,\n",
       "          120: 17,\n",
       "          121: 12,\n",
       "          122: 17,\n",
       "          123: 8,\n",
       "          124: 14,\n",
       "          125: 8,\n",
       "          126: 4,\n",
       "          127: 617}))"
      ]
     },
     "execution_count": 77,
     "metadata": {},
     "output_type": "execute_result"
    }
   ],
   "source": [
    "from collections import Counter\n",
    "Counter(val_dataset[3][1][:, 0].numpy()), Counter(val_dataset[5][1][:, 1].numpy())"
   ]
  },
  {
   "cell_type": "code",
   "execution_count": null,
   "metadata": {},
   "outputs": [],
   "source": []
  }
 ],
 "metadata": {
  "kernelspec": {
   "display_name": "Python 3",
   "language": "python",
   "name": "python3"
  },
  "language_info": {
   "codemirror_mode": {
    "name": "ipython",
    "version": 3
   },
   "file_extension": ".py",
   "mimetype": "text/x-python",
   "name": "python",
   "nbconvert_exporter": "python",
   "pygments_lexer": "ipython3",
   "version": "3.8.18"
  }
 },
 "nbformat": 4,
 "nbformat_minor": 2
}
