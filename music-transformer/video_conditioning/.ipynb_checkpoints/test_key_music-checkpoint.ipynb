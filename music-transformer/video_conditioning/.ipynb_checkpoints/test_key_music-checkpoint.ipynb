{
  "cells": [
    {
      "cell_type": "markdown",
      "metadata": {
        "id": "n0fRL2wBwy6k"
      },
      "source": [
        "В этом блокноте будем изучать музыкальные характеристики и выявлять ключевые моменты в музыке"
      ]
    },
    {
      "cell_type": "markdown",
      "metadata": {
        "id": "FodK_hSR73bM"
      },
      "source": [
        "Будем работать с методами из библиотеки Music21.\n",
        "\n",
        "Для начала попробуем повыделять различные характеристики из midi файла.\n",
        "Туториал:\n",
        "- https://towardsdatascience.com/midi-music-data-extraction-using-music21-and-word2vec-on-kaggle-cb383261cd4e\n",
        "\n",
        "- https://www.kaggle.com/code/wfaria/midi-music-data-extraction-using-music21\n",
        "\n",
        "Документация:\n",
        "- https://web.mit.edu/music21/doc/"
      ]
    },
    {
      "cell_type": "markdown",
      "metadata": {
        "id": "bSVpASppNAbE"
      },
      "source": [
        "Какие могут быть ключевые моменты - динамика, громкость, кульминации, больше инструментов"
      ]
    },
    {
      "cell_type": "markdown",
      "metadata": {
        "id": "1WTEh7EyD2Tn"
      },
      "source": [
        "#### Добавим нужные библиотеки"
      ]
    },
    {
      "cell_type": "code",
      "execution_count": 1,
      "metadata": {},
      "outputs": [
        {
          "data": {
            "text/plain": [
              "123"
            ]
          },
          "execution_count": 1,
          "metadata": {},
          "output_type": "execute_result"
        }
      ],
      "source": [
        "123"
      ]
    },
    {
      "cell_type": "code",
      "execution_count": null,
      "metadata": {
        "id": "Q3OPQBrhwlch"
      },
      "outputs": [],
      "source": [
        "from music21 import converter, instrument, note, chord, stream, midi\n",
        "import glob\n",
        "import time\n",
        "import numpy as np\n",
        "import tensorflow.keras.utils as utils\n",
        "import pandas as pd\n",
        "\n",
        "# Listing current data on our folder.\n",
        "# import os\n",
        "# print(os.listdir(\".\"))"
      ]
    },
    {
      "cell_type": "code",
      "execution_count": null,
      "metadata": {
        "id": "0rRvzVQL46vT"
      },
      "outputs": [],
      "source": [
        "!yes | add-apt-repository ppa:mscore-ubuntu/mscore3-stable\n",
        "!apt update\n",
        "!apt install musescore3\n",
        "print(\"MuseScore installation finished\")\n",
        "\n",
        "!pip uninstall music21\n",
        "!pip install music21\n",
        "# from music21 import note"
      ]
    },
    {
      "cell_type": "code",
      "execution_count": null,
      "metadata": {
        "colab": {
          "base_uri": "https://localhost:8080/"
        },
        "id": "J1SNA9Uy2dn4",
        "outputId": "012723d1-f96a-490e-cf54-18aad7516b85"
      },
      "outputs": [
        {
          "data": {
            "text/plain": [
              "<music21.stream.Score 0x7ff76ad9deb0>"
            ]
          },
          "execution_count": 2,
          "metadata": {},
          "output_type": "execute_result"
        }
      ],
      "source": [
        "from music21 import converter, corpus, instrument, midi, note, chord, pitch\n",
        "\n",
        "def open_midi(midi_path, remove_drums):\n",
        "    # There is an one-line method to read MIDIs\n",
        "    # but to remove the drums we need to manipulate some\n",
        "    # low level MIDI events.\n",
        "    mf = midi.MidiFile()\n",
        "    mf.open(midi_path)\n",
        "    mf.read()\n",
        "    mf.close()\n",
        "    if (remove_drums):\n",
        "        for i in range(len(mf.tracks)):\n",
        "            mf.tracks[i].events = [ev for ev in mf.tracks[i].events if ev.channel != 10]\n",
        "\n",
        "    return midi.translate.midiFileToStream(mf)\n",
        "\n",
        "base_midi = open_midi(\"/content/Beethoven-Moonlight-Sonata.mid\", True)\n",
        "base_midi"
      ]
    },
    {
      "cell_type": "code",
      "execution_count": null,
      "metadata": {
        "colab": {
          "base_uri": "https://localhost:8080/"
        },
        "id": "8qr5ck8OIWjT",
        "outputId": "11b1b05c-0e29-4f31-e599-67c199ab6b6d"
      },
      "outputs": [
        {
          "name": "stdout",
          "output_type": "stream",
          "text": [
            "Looking in indexes: https://pypi.org/simple, https://us-python.pkg.dev/colab-wheels/public/simple/\n",
            "Collecting pretty_midi\n",
            "  Downloading pretty_midi-0.2.9.tar.gz (5.6 MB)\n",
            "\u001b[2K     \u001b[90m━━━━━━━━━━━━━━━━━━━━━━━━━━━━━━━━━━━━━━━━\u001b[0m \u001b[32m5.6/5.6 MB\u001b[0m \u001b[31m34.1 MB/s\u001b[0m eta \u001b[36m0:00:00\u001b[0m\n",
            "\u001b[?25h  Preparing metadata (setup.py) ... \u001b[?25l\u001b[?25hdone\n",
            "Requirement already satisfied: numpy>=1.7.0 in /usr/local/lib/python3.8/dist-packages (from pretty_midi) (1.21.6)\n",
            "Collecting mido>=1.1.16\n",
            "  Downloading mido-1.2.10-py2.py3-none-any.whl (51 kB)\n",
            "\u001b[2K     \u001b[90m━━━━━━━━━━━━━━━━━━━━━━━━━━━━━━━━━━━━━━━━\u001b[0m \u001b[32m51.1/51.1 KB\u001b[0m \u001b[31m5.1 MB/s\u001b[0m eta \u001b[36m0:00:00\u001b[0m\n",
            "\u001b[?25hRequirement already satisfied: six in /usr/local/lib/python3.8/dist-packages (from pretty_midi) (1.15.0)\n",
            "Building wheels for collected packages: pretty_midi\n",
            "  Building wheel for pretty_midi (setup.py) ... \u001b[?25l\u001b[?25hdone\n",
            "  Created wheel for pretty_midi: filename=pretty_midi-0.2.9-py3-none-any.whl size=5591954 sha256=df542306af1fa9a10012f8144e97851f5009b11991a2f357c22150460eef795c\n",
            "  Stored in directory: /root/.cache/pip/wheels/2a/5a/e3/30eeb9a99350f3f7e21258fcb132743eef1a4f49b3505e76b6\n",
            "Successfully built pretty_midi\n",
            "Installing collected packages: mido, pretty_midi\n",
            "Successfully installed mido-1.2.10 pretty_midi-0.2.9\n"
          ]
        }
      ],
      "source": [
        "!pip install pretty_midi"
      ]
    },
    {
      "cell_type": "markdown",
      "metadata": {
        "id": "Zsv3Imb_DSGX"
      },
      "source": [
        "#### Types of key moments in midi:"
      ]
    },
    {
      "cell_type": "markdown",
      "metadata": {
        "id": "rHIF_gqAFIq7"
      },
      "source": [
        "Для того чтобы создать музыку, соответствующую видеоролику, с учетом настроения и ключевых моментов, необходимо определить события в формате midi, которые соответствуют ключевым моментам. Например, внезапные изменения темпа, ноты с большой длительностью, громкие ноты/звуки, интенсивные или драматические звуки. Возможно стоит попробовать также найти аккорды, указывающие на кульминацию или разрешение, а также любые динамические изменения (например, внезапное увеличение или уменьшение громкости). Можно  обратить внимание на текстурные и атмосферные элементы, такие как реверберация, задержка и другие специальные эффекты, которые помогают вызвать эмоциональный отклик у слушателя.  В конечном счете, цель состоит в том, чтобы выбрать события, которые способствуют созданию эмоционально значимого опыта."
      ]
    },
    {
      "cell_type": "code",
      "execution_count": null,
      "metadata": {
        "id": "sYdtAuNrFsxM"
      },
      "outputs": [],
      "source": [
        "# !pip install MIDIUtil"
      ]
    },
    {
      "cell_type": "markdown",
      "metadata": {
        "id": "NUrcq-wK5jOJ"
      },
      "source": [
        "Types of events of events I will analyse:\n",
        "- long_duration_events\n",
        "- dynamic_events\n",
        "- tempo_changes\n",
        "- time signature changes\n",
        "- modulation changes"
      ]
    },
    {
      "cell_type": "code",
      "execution_count": null,
      "metadata": {
        "colab": {
          "base_uri": "https://localhost:8080/"
        },
        "id": "jVR7P24GAX3V",
        "outputId": "a5fdbaa9-9108-4ccd-9ddf-dbcf66a12ebb"
      },
      "outputs": [
        {
          "name": "stdout",
          "output_type": "stream",
          "text": [
            "Long Duration Events:  [Note(start=12.000000, end=12.780000, pitch=57, velocity=36), Note(start=22.972104, end=23.872104, pitch=68, velocity=55), Note(start=24.172104, end=27.762104, pitch=68, velocity=55), Note(start=27.772104, end=28.672104, pitch=68, velocity=49), Note(start=28.972104, end=31.362104, pitch=68, velocity=61), Note(start=31.372104, end=33.762104, pitch=69, velocity=54), Note(start=33.772104, end=36.162104, pitch=68, velocity=51), Note(start=36.152104, end=36.662104, pitch=66, velocity=53), Note(start=37.372104, end=38.562104, pitch=71, velocity=48), Note(start=38.572104, end=39.762104, pitch=64, velocity=51), Note(start=46.972104, end=47.872104, pitch=67, velocity=58), Note(start=48.172104, end=51.762104, pitch=67, velocity=48), Note(start=51.772104, end=52.672104, pitch=67, velocity=55), Note(start=52.972104, end=56.562104, pitch=67, velocity=53), Note(start=56.572104, end=57.762104, pitch=66, velocity=60), Note(start=57.772104, end=60.162104, pitch=66, velocity=43), Note(start=60.172104, end=61.362104, pitch=67, velocity=58), Note(start=61.372104, end=62.562104, pitch=64, velocity=54), Note(start=62.572104, end=64.962104, pitch=66, velocity=54), Note(start=64.972104, end=67.554209, pitch=66, velocity=48), Note(start=71.144209, end=72.334209, pitch=71, velocity=66), Note(start=73.544209, end=74.484209, pitch=59, velocity=42), Note(start=72.344209, end=75.934209, pitch=72, velocity=82), Note(start=75.944209, end=77.134209, pitch=70, velocity=54), Note(start=77.144209, end=80.734209, pitch=71, velocity=44), Note(start=80.744209, end=81.934209, pitch=71, velocity=62), Note(start=81.944209, end=85.534209, pitch=72, velocity=76), Note(start=85.544209, end=86.734209, pitch=70, velocity=58), Note(start=86.744209, end=89.229079, pitch=71, velocity=47), Note(start=89.239717, end=91.706313, pitch=71, velocity=41), Note(start=91.716313, end=94.106313, pitch=71, velocity=45), Note(start=94.116313, end=96.506313, pitch=69, velocity=60), Note(start=96.516313, end=98.906313, pitch=67, velocity=67), Note(start=98.916313, end=101.306313, pitch=66, velocity=62), Note(start=101.316313, end=103.859791, pitch=61, velocity=32), Note(start=103.870661, end=105.254382, pitch=61, velocity=46), Note(start=105.266010, end=106.717505, pitch=61, velocity=34), Note(start=110.330005, end=111.230005, pitch=73, velocity=71), Note(start=111.530005, end=113.920005, pitch=73, velocity=61), Note(start=115.130005, end=116.030005, pitch=73, velocity=57), Note(start=117.530005, end=118.720005, pitch=61, velocity=46), Note(start=116.330005, end=118.720005, pitch=73, velocity=61), Note(start=118.730005, end=119.920005, pitch=72, velocity=68), Note(start=119.930005, end=121.120005, pitch=73, velocity=81), Note(start=121.130005, end=124.720005, pitch=75, velocity=78), Note(start=124.730005, end=125.920005, pitch=75, velocity=71), Note(start=128.330005, end=129.520005, pitch=75, velocity=56), Note(start=125.930005, end=129.520005, pitch=76, velocity=71), Note(start=129.530005, end=130.720005, pitch=73, velocity=71), Note(start=130.730005, end=131.920005, pitch=72, velocity=41), Note(start=131.930005, end=133.120005, pitch=68, velocity=58), Note(start=133.130005, end=134.320005, pitch=69, velocity=66), Note(start=134.330005, end=135.520005, pitch=66, velocity=43), Note(start=137.930005, end=139.120005, pitch=57, velocity=74), Note(start=141.530005, end=142.720005, pitch=73, velocity=64), Note(start=142.730005, end=143.920005, pitch=76, velocity=70), Note(start=143.930005, end=145.120005, pitch=73, velocity=51), Note(start=146.330005, end=147.520005, pitch=61, velocity=59), Note(start=147.530005, end=148.720005, pitch=64, velocity=68), Note(start=148.730005, end=149.920005, pitch=61, velocity=47), Note(start=198.533582, end=199.059898, pitch=60, velocity=33), Note(start=202.967264, end=203.867264, pitch=68, velocity=44), Note(start=204.167264, end=207.757264, pitch=68, velocity=58), Note(start=207.767264, end=208.667264, pitch=68, velocity=53), Note(start=208.967264, end=211.357264, pitch=68, velocity=54), Note(start=211.367264, end=213.757264, pitch=69, velocity=59), Note(start=213.767264, end=216.157264, pitch=68, velocity=54), Note(start=216.167264, end=217.357264, pitch=66, velocity=61), Note(start=217.367264, end=218.557264, pitch=71, velocity=56), Note(start=218.567264, end=219.367264, pitch=64, velocity=40), Note(start=222.167264, end=223.067264, pitch=71, velocity=63), Note(start=223.367264, end=226.957264, pitch=71, velocity=57), Note(start=226.967264, end=227.867264, pitch=71, velocity=68), Note(start=228.167264, end=230.557264, pitch=71, velocity=56), Note(start=230.567264, end=231.757264, pitch=72, velocity=75), Note(start=231.767264, end=232.957264, pitch=73, velocity=78), Note(start=232.967264, end=235.357264, pitch=75, velocity=78), Note(start=235.367264, end=237.757264, pitch=76, velocity=80), Note(start=237.767264, end=240.157264, pitch=74, velocity=54), Note(start=240.167264, end=242.557264, pitch=72, velocity=49), Note(start=242.567264, end=246.157264, pitch=73, velocity=58), Note(start=246.167264, end=247.357264, pitch=73, velocity=71), Note(start=249.767264, end=250.957264, pitch=57, velocity=70), Note(start=247.367264, end=250.957264, pitch=74, velocity=64), Note(start=250.967264, end=252.157264, pitch=72, velocity=60), Note(start=252.167264, end=255.757264, pitch=73, velocity=46), Note(start=255.767264, end=256.957264, pitch=73, velocity=65), Note(start=259.367264, end=260.557264, pitch=57, velocity=60), Note(start=256.967264, end=260.557264, pitch=74, velocity=88), Note(start=260.567264, end=261.757264, pitch=72, velocity=58), Note(start=261.767264, end=264.157264, pitch=73, velocity=46), Note(start=264.167264, end=266.557264, pitch=73, velocity=57), Note(start=266.567264, end=270.157264, pitch=71, velocity=60), Note(start=270.167264, end=271.357264, pitch=71, velocity=55), Note(start=271.367264, end=272.557264, pitch=69, velocity=60), Note(start=272.567264, end=273.757264, pitch=69, velocity=57), Note(start=273.767264, end=274.957264, pitch=68, velocity=68), Note(start=274.967264, end=276.157264, pitch=68, velocity=57), Note(start=276.167264, end=278.557264, pitch=66, velocity=56), Note(start=278.567264, end=279.852134, pitch=68, velocity=67), Note(start=279.862773, end=281.052773, pitch=69, velocity=70), Note(start=281.062773, end=283.452773, pitch=68, velocity=61), Note(start=283.462773, end=284.652773, pitch=68, velocity=44), Note(start=286.008939, end=287.274897, pitch=61, velocity=40), Note(start=316.053453, end=317.375675, pitch=61, velocity=57), Note(start=332.740357, end=337.520357, pitch=61, velocity=49), Note(start=337.540357, end=347.120357, pitch=61, velocity=33)]\n",
            "107\n",
            "Dynamic Events:  [Note(start=28.972104, end=31.362104, pitch=68, velocity=61), Note(start=46.972104, end=47.872104, pitch=67, velocity=58), Note(start=56.572104, end=57.762104, pitch=66, velocity=60), Note(start=60.172104, end=61.362104, pitch=67, velocity=58), Note(start=71.144209, end=72.334209, pitch=71, velocity=66), Note(start=72.344209, end=75.934209, pitch=72, velocity=82), Note(start=80.744209, end=81.934209, pitch=71, velocity=62), Note(start=84.344209, end=84.744209, pitch=59, velocity=62), Note(start=81.944209, end=85.534209, pitch=72, velocity=76), Note(start=85.544209, end=86.734209, pitch=70, velocity=58), Note(start=94.116313, end=96.506313, pitch=69, velocity=60), Note(start=96.516313, end=98.906313, pitch=67, velocity=67), Note(start=98.516313, end=98.916313, pitch=62, velocity=58), Note(start=98.916313, end=101.306313, pitch=66, velocity=62), Note(start=110.330005, end=110.730005, pitch=61, velocity=64), Note(start=110.330005, end=111.230005, pitch=73, velocity=71), Note(start=111.530005, end=113.920005, pitch=73, velocity=61), Note(start=116.330005, end=118.720005, pitch=73, velocity=61), Note(start=118.730005, end=119.130005, pitch=60, velocity=63), Note(start=118.730005, end=119.920005, pitch=72, velocity=68), Note(start=119.930005, end=120.330005, pitch=61, velocity=69), Note(start=119.930005, end=121.120005, pitch=73, velocity=81), Note(start=121.130005, end=121.530005, pitch=63, velocity=64), Note(start=121.130005, end=124.720005, pitch=75, velocity=78), Note(start=124.730005, end=125.130005, pitch=63, velocity=69), Note(start=124.730005, end=125.920005, pitch=75, velocity=71), Note(start=125.930005, end=129.520005, pitch=76, velocity=71), Note(start=129.530005, end=130.720005, pitch=73, velocity=71), Note(start=131.930005, end=133.120005, pitch=68, velocity=58), Note(start=133.130005, end=134.320005, pitch=69, velocity=66), Note(start=137.930005, end=139.120005, pitch=57, velocity=74), Note(start=141.530005, end=142.720005, pitch=73, velocity=64), Note(start=142.730005, end=143.920005, pitch=76, velocity=70), Note(start=146.330005, end=147.520005, pitch=61, velocity=59), Note(start=147.530005, end=148.720005, pitch=64, velocity=68), Note(start=151.930005, end=152.330005, pitch=63, velocity=58), Note(start=156.730005, end=157.130005, pitch=68, velocity=62), Note(start=157.530005, end=157.930005, pitch=73, velocity=63), Note(start=162.330005, end=162.730005, pitch=76, velocity=66), Note(start=163.130005, end=163.530005, pitch=79, velocity=63), Note(start=167.930005, end=168.330005, pitch=84, velocity=68), Note(start=180.102110, end=180.502110, pitch=57, velocity=62), Note(start=184.927642, end=185.372086, pitch=57, velocity=82), Note(start=203.847264, end=203.867264, pitch=68, velocity=60), Note(start=204.167264, end=207.757264, pitch=68, velocity=58), Note(start=211.367264, end=213.757264, pitch=69, velocity=59), Note(start=216.167264, end=217.357264, pitch=66, velocity=61), Note(start=222.167264, end=223.067264, pitch=71, velocity=63), Note(start=226.967264, end=227.867264, pitch=71, velocity=68), Note(start=230.567264, end=230.967264, pitch=60, velocity=70), Note(start=230.567264, end=231.757264, pitch=72, velocity=75), Note(start=231.767264, end=232.957264, pitch=73, velocity=78), Note(start=232.967264, end=233.367264, pitch=63, velocity=65), Note(start=232.967264, end=235.357264, pitch=75, velocity=78), Note(start=235.367264, end=235.767264, pitch=64, velocity=59), Note(start=235.367264, end=237.757264, pitch=76, velocity=80), Note(start=242.567264, end=246.157264, pitch=73, velocity=58), Note(start=246.167264, end=247.357264, pitch=73, velocity=71), Note(start=249.767264, end=250.957264, pitch=57, velocity=70), Note(start=247.367264, end=250.957264, pitch=74, velocity=64), Note(start=250.967264, end=252.157264, pitch=72, velocity=60), Note(start=255.767264, end=256.957264, pitch=73, velocity=65), Note(start=259.367264, end=259.767264, pitch=61, velocity=59), Note(start=259.367264, end=260.557264, pitch=57, velocity=60), Note(start=256.967264, end=260.557264, pitch=74, velocity=88), Note(start=260.567264, end=261.757264, pitch=72, velocity=58), Note(start=266.567264, end=270.157264, pitch=71, velocity=60), Note(start=271.367264, end=272.557264, pitch=69, velocity=60), Note(start=273.767264, end=274.957264, pitch=68, velocity=68), Note(start=278.567264, end=279.852134, pitch=68, velocity=67), Note(start=279.862773, end=281.052773, pitch=69, velocity=70), Note(start=281.062773, end=283.452773, pitch=68, velocity=61), Note(start=297.421707, end=297.821707, pitch=68, velocity=65), Note(start=298.221707, end=298.621707, pitch=73, velocity=61), Note(start=299.021707, end=299.421707, pitch=76, velocity=74), Note(start=299.821707, end=300.221707, pitch=80, velocity=73), Note(start=301.021707, end=301.421707, pitch=72, velocity=66), Note(start=302.221707, end=302.621707, pitch=72, velocity=64), Note(start=304.621707, end=305.066152, pitch=60, velocity=67), Note(start=306.137580, end=306.537580, pitch=61, velocity=58), Note(start=306.537580, end=306.937580, pitch=64, velocity=61), Note(start=307.337580, end=307.737580, pitch=68, velocity=62), Note(start=308.137580, end=308.537580, pitch=73, velocity=67), Note(start=308.937580, end=309.337580, pitch=76, velocity=74), Note(start=309.737580, end=310.137580, pitch=80, velocity=72), Note(start=310.137580, end=310.537580, pitch=76, velocity=62), Note(start=310.937580, end=311.337580, pitch=72, velocity=64), Note(start=313.337580, end=313.737580, pitch=63, velocity=62), Note(start=314.137580, end=314.537580, pitch=57, velocity=62), Note(start=314.537580, end=314.982025, pitch=60, velocity=63)]\n",
            "90\n",
            "Number of all events:  722\n"
          ]
        }
      ],
      "source": [
        "# Load the midi file\n",
        "midi_data = pretty_midi.PrettyMIDI('/content/Beethoven-Moonlight-Sonata.mid')\n",
        "\n",
        "# Get all events from the midi object\n",
        "events = midi_data.instruments[0].notes\n",
        "\n",
        "# Create lists to store parsed events\n",
        "long_duration_events = []\n",
        "dynamic_events = []\n",
        "special_effects_events = []\n",
        "\n",
        "# Iterate through events and filter out events you are looking for\n",
        "for event in events:\n",
        "    if event.end - event.start > 0.5: # long duration events\n",
        "        long_duration_events.append(event)\n",
        "        # .volume.getRealized()\n",
        "    if event.velocity > 57: # dynamic events\n",
        "        dynamic_events.append(event)\n",
        "    # if event.program > 0: # special effects events\n",
        "    #     special_effects_events.append(event)\n",
        "\n",
        "# Print out the lists of each type of event\n",
        "print(\"Long Duration Events: \", long_duration_events)\n",
        "print(len(long_duration_events))\n",
        "print(\"Dynamic Events: \", dynamic_events)\n",
        "print(len(dynamic_events))\n",
        "print('Number of all events: ', len(events))\n",
        "# print(\"Special Effects Events: \", special_effects_events)"
      ]
    },
    {
      "cell_type": "code",
      "execution_count": null,
      "metadata": {
        "colab": {
          "base_uri": "https://localhost:8080/"
        },
        "id": "7o2twdDlINRT",
        "outputId": "6d87bc73-c678-460c-9603-e02877b708b4"
      },
      "outputs": [
        {
          "name": "stdout",
          "output_type": "stream",
          "text": [
            "[]\n"
          ]
        }
      ],
      "source": [
        "# import pretty_midi\n",
        "\n",
        "# # Load MIDI file\n",
        "# midi_data = pretty_midi.PrettyMIDI('/content/Beethoven-Moonlight-Sonata.mid')\n",
        "\n",
        "# # Find the key events\n",
        "# key_events = [0x51, 0x58, 0x01, 0x59, 0x07]\n",
        "\n",
        "# # Store all events with corresponding numbers in a list\n",
        "# event_list = []\n",
        "# for instrument in midi_data.instruments:\n",
        "\n",
        "#     for event in instrument.control_changes:\n",
        "\n",
        "#         # print(event, event.number)\n",
        "#         if event.number in key_events:\n",
        "#             event_list.append(event)\n",
        "\n",
        "# # Print out the list of key moment events\n",
        "# print(event_list)"
      ]
    },
    {
      "cell_type": "markdown",
      "metadata": {
        "id": "mNDYOYLv5k4M"
      },
      "source": [
        "В MIDI изменения темпа относятся к скорости, с которой дорожка воспроизводится или секвенируется. Изменения темпа обычно задают новый темп или bpm (ударов в минуту), который будет использоваться на протяжении всего трека. Это событие может быть вставлено в различные точки трека для изменения темпа, постепенно с течением времени (так называемый темп) или мгновенно.\n",
        "\n",
        "Изменения темпа MIDI можно использовать для создания динамичной звуковой дорожки, тесно связанной с ключевыми моментами видео. Например, резкое изменение темпа может указывать на момент напряжения или волнения, в то время как постепенное изменение темпа может помочь установить настроение или создать ощущение предвкушения. Изменение темпа также может быть использовано для синхронизации определенных моментов в музыке с конкретными визуальными образами в видео, например, для подчеркивания драматического падения в кульминационный момент сцены."
      ]
    },
    {
      "cell_type": "code",
      "execution_count": null,
      "metadata": {
        "colab": {
          "base_uri": "https://localhost:8080/"
        },
        "id": "Oj4LJ4Rgmh7j",
        "outputId": "fdd00a8a-cb4a-45df-bd0c-c67e10a52a00"
      },
      "outputs": [
        {
          "name": "stdout",
          "output_type": "stream",
          "text": [
            "Time:  0.0\n",
            "Tempo:  50.0\n",
            "\n",
            "Time:  16.8\n",
            "Tempo:  46.99999060000188\n",
            "\n",
            "Time:  17.225532\n",
            "Tempo:  45.000011250002814\n",
            "\n",
            "Time:  17.669976333333334\n",
            "Tempo:  46.99999060000188\n",
            "\n",
            "Time:  19.372104333333333\n",
            "Tempo:  50.0\n",
            "\n",
            "Time:  64.97210433333333\n",
            "Tempo:  46.99999060000188\n",
            "\n",
            "Time:  65.39763633333334\n",
            "Tempo:  45.000011250002814\n",
            "\n",
            "Time:  65.84208066666667\n",
            "Tempo:  46.99999060000188\n",
            "\n",
            "Time:  67.54420866666668\n",
            "Tempo:  50.0\n",
            "\n",
            "Time:  87.94420866666668\n",
            "Tempo:  46.99999060000188\n",
            "\n",
            "Time:  88.36974066666669\n",
            "Tempo:  45.000011250002814\n",
            "\n",
            "Time:  88.81418500000002\n",
            "Tempo:  46.99999060000188\n",
            "\n",
            "Time:  90.51631300000003\n",
            "Tempo:  50.0\n",
            "\n",
            "Time:  101.31631300000002\n",
            "Tempo:  48.0\n",
            "\n",
            "Time:  102.56631300000002\n",
            "Tempo:  45.99999386666748\n",
            "\n",
            "Time:  103.87066100000003\n",
            "Tempo:  42.99999498333392\n",
            "\n",
            "Time:  105.26601000000002\n",
            "Tempo:  42.00001260000378\n",
            "\n",
            "Time:  105.74220033333336\n",
            "Tempo:  40.99998975000256\n",
            "\n",
            "Time:  106.23000533333335\n",
            "Tempo:  40.0\n",
            "\n",
            "Time:  106.73000533333335\n",
            "Tempo:  50.0\n",
            "\n",
            "Time:  176.33000533333336\n",
            "Tempo:  46.99999060000188\n",
            "\n",
            "Time:  176.75553733333336\n",
            "Tempo:  45.000011250002814\n",
            "\n",
            "Time:  177.1999816666667\n",
            "Tempo:  46.99999060000188\n",
            "\n",
            "Time:  178.9021096666667\n",
            "Tempo:  50.0\n",
            "\n",
            "Time:  184.50210966666668\n",
            "Tempo:  46.99999060000188\n",
            "\n",
            "Time:  184.9276416666667\n",
            "Tempo:  45.000011250002814\n",
            "\n",
            "Time:  185.37208600000002\n",
            "Tempo:  46.99999060000188\n",
            "\n",
            "Time:  185.79761800000003\n",
            "Tempo:  50.0\n",
            "\n",
            "Time:  193.39761800000002\n",
            "Tempo:  48.0\n",
            "\n",
            "Time:  194.64761800000002\n",
            "Tempo:  45.000011250002814\n",
            "\n",
            "Time:  195.98095100000003\n",
            "Tempo:  40.0\n",
            "\n",
            "Time:  197.48095100000003\n",
            "Tempo:  38.000008866668736\n",
            "\n",
            "Time:  199.05989800000003\n",
            "Tempo:  45.000011250002814\n",
            "\n",
            "Time:  201.2821196666667\n",
            "Tempo:  45.99999386666748\n",
            "\n",
            "Time:  201.71690233333337\n",
            "Tempo:  46.99999060000188\n",
            "\n",
            "Time:  202.14243433333337\n",
            "Tempo:  48.0\n",
            "\n",
            "Time:  202.55910100000003\n",
            "Tempo:  48.9999918333347\n",
            "\n",
            "Time:  202.96726433333336\n",
            "Tempo:  50.0\n",
            "\n",
            "Time:  278.56726433333336\n",
            "Tempo:  46.99999060000188\n",
            "\n",
            "Time:  278.99279633333333\n",
            "Tempo:  45.000011250002814\n",
            "\n",
            "Time:  279.43724066666664\n",
            "Tempo:  46.99999060000188\n",
            "\n",
            "Time:  279.8627726666666\n",
            "Tempo:  50.0\n",
            "\n",
            "Time:  284.6627726666666\n",
            "Tempo:  46.99999060000188\n",
            "\n",
            "Time:  285.0883046666666\n",
            "Tempo:  45.000011250002814\n",
            "\n",
            "Time:  285.5327489999999\n",
            "Tempo:  42.00001260000378\n",
            "\n",
            "Time:  286.0089393333332\n",
            "Tempo:  46.99999060000188\n",
            "\n",
            "Time:  296.2217073333332\n",
            "Tempo:  50.0\n",
            "\n",
            "Time:  304.6217073333332\n",
            "Tempo:  45.000011250002814\n",
            "\n",
            "Time:  305.0661516666665\n",
            "Tempo:  40.0\n",
            "\n",
            "Time:  305.5661516666665\n",
            "Tempo:  34.99999416666764\n",
            "\n",
            "Time:  306.1375803333332\n",
            "Tempo:  50.0\n",
            "\n",
            "Time:  314.53758033333315\n",
            "Tempo:  45.000011250002814\n",
            "\n",
            "Time:  314.98202466666646\n",
            "Tempo:  40.0\n",
            "\n",
            "Time:  315.48202466666646\n",
            "Tempo:  34.99999416666764\n",
            "\n",
            "Time:  316.05345333333315\n",
            "Tempo:  45.000011250002814\n",
            "\n",
            "Time:  318.7201193333332\n",
            "Tempo:  42.00001260000378\n",
            "\n",
            "Time:  321.5772613333332\n",
            "Tempo:  40.0\n",
            "\n",
            "Time:  326.0772613333332\n",
            "Tempo:  34.99999416666764\n",
            "\n",
            "Time:  326.6486899999999\n",
            "Tempo:  32.0\n",
            "\n",
            "Time:  327.2736899999999\n",
            "Tempo:  30.0\n",
            "\n",
            "Time:  327.94035666666656\n",
            "Tempo:  25.0\n",
            "\n"
          ]
        }
      ],
      "source": [
        "midi_data = pretty_midi.PrettyMIDI('/content/Beethoven-Moonlight-Sonata.mid')\n",
        "\n",
        "# Get the list of tempo changes\n",
        "tempo_changes = midi_data.get_tempo_changes()\n",
        "tempo_changes = dict(zip(list(tempo_changes[0]), list(tempo_changes[1])))\n",
        "\n",
        "# Iterate through the tempo changes and print out the time and tempo\n",
        "for time in tempo_changes:\n",
        "    # print(tempo_change)\n",
        "    print(\"Time: \", time)\n",
        "    print(\"Tempo: \", tempo_changes[time])\n",
        "    print()\n"
      ]
    },
    {
      "cell_type": "markdown",
      "metadata": {
        "id": "XrpqvtJZ4oqa"
      },
      "source": [
        "Смена временной подписи в MIDI - это событие в MIDI-файле, которое указывает секвенсору или приложению плеера, какая временная подпись используется на протяжении всего трека. Временная подпись обычно представлена в виде дроби, например 4/4 или 3/8, и определяется двумя числами - числителем и знаменателем. Числитель - это количество ударов в мере, а знаменатель указывает, какой тип ноты будет использоваться для каждого удара. Например, временная подпись 4/4 означает, что в каждом такте будет четыре четвертные ноты.\n",
        "\n",
        "Временные сигнатуры могут меняться в музыкальном произведении по разным причинам. Одна из распространенных причин - это изменение темпа или чувства. Например, музыкальное произведение может перейти от более медленного темпа 4/4 или 3/4 к более быстрому темпу 6/8 или 2/4. Другая причина смены временной подписи - подчеркнуть структуру музыки с помощью различных временных подписей. Например, в классической музыке принято чередовать фразы между двойным и тройным метром, например, переходить от 3/4 к 6/8."
      ]
    },
    {
      "cell_type": "code",
      "execution_count": null,
      "metadata": {
        "colab": {
          "base_uri": "https://localhost:8080/"
        },
        "id": "7lhMxuK-4DsC",
        "outputId": "85336fa0-cc29-44b9-c447-aff769639c95"
      },
      "outputs": [
        {
          "name": "stdout",
          "output_type": "stream",
          "text": [
            "Time Signature Change at 0.0: 4/4\n"
          ]
        }
      ],
      "source": [
        "import pretty_midi\n",
        "\n",
        "# Load MIDI file into PrettyMIDI object\n",
        "midi_data = pretty_midi.PrettyMIDI('/content/Beethoven-Moonlight-Sonata.mid')\n",
        "\n",
        "# Find all time signature changes\n",
        "time_sigs = midi_data.time_signature_changes\n",
        "\n",
        "# Iterate through the time signature changes\n",
        "for ts in time_sigs:\n",
        "    # Extract relevant information from each time signature change\n",
        "    numerator = ts.numerator\n",
        "    denominator = ts.denominator\n",
        "    time = ts.time\n",
        "\n",
        "    # Print out results\n",
        "    print(\"Time Signature Change at {0}: {1}/{2}\".format(time, numerator, denominator))"
      ]
    },
    {
      "cell_type": "markdown",
      "metadata": {
        "id": "6n4q-T4A7K62"
      },
      "source": [
        "Модуляционные изменения в MIDI означают постепенное или резкое изменение высоты тона, тембра или динамического уровня. Это можно сделать с помощью таких MIDI-контроллеров, как pitchbend, aftertouch и колесо модуляции. Эти события могут быть использованы для тонкого усиления музыки или создания драматических изменений в звучании. Модуляционные изменения также могут быть использованы для создания переходов между разделами песни или для обозначения ключевых моментов в общей композиции.\n",
        "\n",
        "Модуляционные изменения в MIDI могут дать представление об эмоциях ключевого момента в видео. Например, если модуляция ускоряется или замедляется в определенный момент видео, это может указывать на изменение настроения или атмосферы. Аналогичным образом, различные виды модуляции могут использоваться для создания определенных эффектов, таких как напряжение или разрядка. Понимая и манипулируя изменениями модуляции в MIDI, вы можете лучше управлять эмоциями видео."
      ]
    },
    {
      "cell_type": "code",
      "execution_count": null,
      "metadata": {
        "colab": {
          "base_uri": "https://localhost:8080/"
        },
        "id": "G3Wld2sP_JaT",
        "outputId": "65e6b503-64cc-4e16-dc02-4912bef19a86"
      },
      "outputs": [
        {
          "name": "stdout",
          "output_type": "stream",
          "text": [
            "Time 0: CC 0 0\n",
            "Time 0: CC 64 56\n",
            "Time 0: CC 0 0\n",
            "Time 0.01: CC 64 88\n",
            "Time 0.01: CC 64 127\n",
            "Time 0.03: CC 64 88\n",
            "Time 0.02: CC 64 24\n",
            "Time 0.02: CC 64 0\n",
            "Time 0.19: CC 64 40\n",
            "Time 0.01: CC 64 88\n",
            "Time 0.03: CC 64 127\n",
            "Time 0.01: CC 64 72\n",
            "Time 0.02: CC 64 0\n",
            "Time 0.27: CC 64 56\n",
            "Time 0.01: CC 64 127\n",
            "Time 0: CC 64 0\n",
            "Time 0.01: CC 64 88\n",
            "Time 0.26: CC 64 56\n",
            "Time 0.03: CC 64 127\n",
            "Time 0.38: CC 64 40\n",
            "Time 0.01: CC 64 0\n",
            "Time 0.2: CC 64 88\n",
            "Time 0.02: CC 64 127\n",
            "Time 0.05319149999999999: CC 64 72\n",
            "Time 0.021276599999999996: CC 64 0\n",
            "Time 0.21276599999999996: CC 64 24\n",
            "Time 0.031914899999999996: CC 64 88\n",
            "Time 0.010638299999999998: CC 64 127\n",
            "Time 0.05: CC 64 104\n",
            "Time 0.02: CC 64 40\n",
            "Time 0.01: CC 64 0\n",
            "Time 0.22: CC 64 72\n",
            "Time 0.01: CC 64 127\n",
            "Time 0.11: CC 64 72\n",
            "Time 0.02: CC 64 0\n",
            "Time 0.01: CC 64 56\n",
            "Time 0.01: CC 64 127\n",
            "Time 0.01: CC 64 104\n",
            "Time 0.08: CC 64 88\n",
            "Time 0.03: CC 64 0\n",
            "Time 0.22: CC 64 24\n",
            "Time 0.02: CC 64 72\n",
            "Time 0.02: CC 64 127\n",
            "Time 0.08: CC 64 56\n",
            "Time 0.03: CC 64 0\n",
            "Time 0.19: CC 64 104\n",
            "Time 0.01: CC 64 127\n",
            "Time 0.38: CC 64 88\n",
            "Time 0.01: CC 64 0\n",
            "Time 0.14: CC 64 24\n",
            "Time 0.02: CC 64 72\n",
            "Time 0.01: CC 64 127\n",
            "Time 0.36: CC 64 56\n",
            "Time 0: CC 64 0\n",
            "Time 0.15: CC 64 72\n",
            "Time 0.02: CC 64 127\n",
            "Time 0.05: CC 64 56\n",
            "Time 0.01: CC 64 0\n",
            "Time 0.17: CC 64 56\n",
            "Time 0.02: CC 64 127\n",
            "Time 0.02: CC 64 88\n",
            "Time 0.03: CC 64 24\n",
            "Time 0.02: CC 64 0\n",
            "Time 0.21: CC 64 72\n",
            "Time 0.03: CC 64 127\n",
            "Time 0.07: CC 64 88\n",
            "Time 0.01: CC 64 0\n",
            "Time 0.27: CC 64 72\n",
            "Time 0.02: CC 64 127\n",
            "Time 0.06: CC 64 56\n",
            "Time 0.02: CC 64 0\n",
            "Time 0.23: CC 64 88\n",
            "Time 0.02: CC 64 127\n",
            "Time 0.06: CC 64 56\n",
            "Time 0.01: CC 64 0\n",
            "Time 0.19: CC 64 40\n",
            "Time 0.01: CC 64 127\n",
            "Time 0.02: CC 64 56\n",
            "Time 0.03: CC 64 0\n",
            "Time 0.16: CC 64 40\n",
            "Time 0.01: CC 64 104\n",
            "Time 0.03: CC 64 127\n",
            "Time 0.07: CC 64 104\n",
            "Time 0.01: CC 64 24\n",
            "Time 0.03: CC 64 0\n",
            "Time 0.2: CC 64 40\n",
            "Time 0.02: CC 64 104\n",
            "Time 0.02: CC 64 127\n",
            "Time 0.05: CC 64 56\n",
            "Time 0.01: CC 64 0\n",
            "Time 0.19: CC 64 88\n",
            "Time 0.02: CC 64 127\n",
            "Time 0.03: CC 64 24\n",
            "Time 0.03: CC 64 0\n",
            "Time 0.07: CC 64 24\n",
            "Time 0.03: CC 64 72\n",
            "Time 0.01: CC 64 127\n",
            "Time 0.01: CC 64 104\n",
            "Time 0.01: CC 64 0\n",
            "Time 0.23: CC 64 40\n",
            "Time 0.02: CC 64 104\n",
            "Time 0.01: CC 64 127\n",
            "Time 0.010638299999999998: CC 64 104\n",
            "Time 0.010638299999999998: CC 64 24\n",
            "Time 0.031914899999999996: CC 64 0\n",
            "Time 0.24468089999999995: CC 64 56\n",
            "Time 0.031914899999999996: CC 64 127\n",
            "Time 0.04: CC 64 88\n",
            "Time 0.01: CC 64 0\n",
            "Time 0.21: CC 64 56\n",
            "Time 0.01: CC 64 127\n",
            "Time 0.37: CC 64 104\n",
            "Time 0: CC 64 0\n",
            "Time 0.16: CC 64 72\n",
            "Time 0.01: CC 64 127\n",
            "Time 0.05: CC 64 24\n",
            "Time 0.01: CC 64 0\n",
            "Time 0.15: CC 64 72\n",
            "Time 0.01: CC 64 127\n",
            "Time 0.37: CC 64 40\n",
            "Time 0: CC 64 0\n",
            "Time 0.07: CC 64 24\n",
            "Time 0.01: CC 64 72\n",
            "Time 0.03: CC 64 127\n",
            "Time 0.24: CC 64 72\n",
            "Time 0: CC 64 0\n",
            "Time 0.06: CC 64 56\n",
            "Time 0.02: CC 64 88\n",
            "Time 0.02: CC 64 127\n",
            "Time 0: CC 64 40\n",
            "Time 0.03: CC 64 0\n",
            "Time 0.08: CC 64 56\n",
            "Time 0.02: CC 64 104\n",
            "Time 0.03: CC 64 127\n",
            "Time 0.02: CC 64 56\n",
            "Time 0.03: CC 64 0\n",
            "Time 0.17: CC 64 56\n",
            "Time 0.03: CC 64 127\n",
            "Time 0.38: CC 64 40\n",
            "Time 0.01: CC 64 0\n",
            "Time 0.09: CC 64 40\n",
            "Time 0.01: CC 64 88\n",
            "Time 0.02: CC 64 127\n",
            "Time 0.08: CC 64 88\n",
            "Time 0.02: CC 64 24\n",
            "Time 0.02: CC 64 0\n",
            "Time 0.04: CC 64 40\n",
            "Time 0.02: CC 64 72\n",
            "Time 0.02: CC 64 127\n",
            "Time 0.38: CC 64 88\n",
            "Time 0.01: CC 64 24\n",
            "Time 0.02: CC 64 0\n",
            "Time 0.07: CC 64 40\n",
            "Time 0.01: CC 64 88\n",
            "Time 0.02: CC 64 127\n",
            "Time 0.36: CC 64 88\n",
            "Time 0.02: CC 64 24\n",
            "Time 0: CC 64 0\n",
            "Time 0.05: CC 64 24\n",
            "Time 0.01: CC 64 56\n",
            "Time 0.02: CC 64 104\n",
            "Time 0.02: CC 64 127\n",
            "Time 0: CC 64 56\n",
            "Time 0.01: CC 64 0\n",
            "Time 0.04: CC 64 24\n",
            "Time 0.02: CC 64 56\n",
            "Time 0.01: CC 64 88\n",
            "Time 0.03: CC 64 127\n",
            "Time 0.02: CC 64 56\n",
            "Time 0.03: CC 64 0\n",
            "Time 0.17: CC 64 72\n",
            "Time 0.03: CC 64 127\n",
            "Time 0.38297879999999995: CC 64 56\n",
            "Time 0.021276599999999996: CC 64 0\n",
            "Time 0.12765959999999998: CC 64 40\n",
            "Time 0.031914899999999996: CC 64 104\n",
            "Time 0.010638299999999998: CC 64 127\n",
            "Time 0: CC 64 24\n",
            "Time 0.02: CC 64 0\n",
            "Time 0.14: CC 64 72\n",
            "Time 0.02: CC 64 127\n",
            "Time 0: CC 64 72\n",
            "Time 0.02: CC 64 0\n",
            "Time 0.2: CC 64 72\n",
            "Time 0.03: CC 64 127\n",
            "Time 0.02: CC 64 72\n",
            "Time 0.03: CC 64 0\n",
            "Time 0.17: CC 64 56\n",
            "Time 0.03: CC 64 127\n",
            "Time 0.37: CC 64 24\n",
            "Time 0: CC 64 0\n",
            "Time 0.16: CC 64 56\n",
            "Time 0.02: CC 64 127\n",
            "Time 0.020833333333333332: CC 64 88\n",
            "Time 0.010416666666666666: CC 64 0\n",
            "Time 0.19791666666666666: CC 64 56\n",
            "Time 0.03125: CC 64 127\n",
            "Time 0: CC 64 88\n",
            "Time 0.023255816666666665: CC 64 0\n",
            "Time 0.18604653333333332: CC 64 40\n",
            "Time 0.023255816666666665: CC 64 127\n",
            "Time 0.4302326083333333: CC 64 104\n",
            "Time 0.011627908333333332: CC 64 40\n",
            "Time 0.011904758333333333: CC 64 0\n",
            "Time 0.07142855: CC 64 24\n",
            "Time 0.011904758333333333: CC 64 56\n",
            "Time 0.035714275: CC 64 104\n",
            "Time 0.011904758333333333: CC 64 127\n",
            "Time 0.4625: CC 64 88\n",
            "Time 0: CC 64 0\n",
            "Time 0.22: CC 64 127\n",
            "Time 0.15: CC 64 24\n",
            "Time 0.03: CC 64 0\n",
            "Time 0.2: CC 64 88\n",
            "Time 0.02: CC 64 127\n",
            "Time 0.1: CC 64 40\n",
            "Time 0.02: CC 64 0\n",
            "Time 0.18: CC 64 56\n",
            "Time 0.01: CC 64 127\n",
            "Time 0.37: CC 64 56\n",
            "Time 0: CC 64 0\n",
            "Time 0.16: CC 64 72\n",
            "Time 0.02: CC 64 127\n",
            "Time 0.32: CC 64 72\n",
            "Time 0.03: CC 64 0\n",
            "Time 0.08: CC 64 72\n",
            "Time 0.03: CC 64 127\n",
            "Time 0.33: CC 64 40\n",
            "Time 0.03: CC 64 0\n",
            "Time 0.12: CC 64 40\n",
            "Time 0.01: CC 64 127\n",
            "Time 0.03: CC 64 0\n",
            "Time 0.18: CC 64 104\n",
            "Time 0.02: CC 64 127\n",
            "Time 0.03: CC 64 40\n",
            "Time 0.03: CC 64 0\n",
            "Time 0.16: CC 64 40\n",
            "Time 0.01: CC 64 127\n",
            "Time 0.36: CC 64 104\n",
            "Time 0.01: CC 64 0\n",
            "Time 0.13: CC 64 72\n",
            "Time 0.03: CC 64 127\n",
            "Time 0.38: CC 64 24\n",
            "Time 0.01: CC 64 0\n",
            "Time 0.14: CC 64 72\n",
            "Time 0.02: CC 64 127\n",
            "Time 0.37: CC 64 72\n",
            "Time 0: CC 64 0\n",
            "Time 0.17: CC 64 88\n",
            "Time 0.03: CC 64 127\n",
            "Time 0: CC 64 24\n",
            "Time 0.01: CC 64 0\n",
            "Time 0.16: CC 64 56\n",
            "Time 0.03: CC 64 127\n",
            "Time 0.37: CC 64 104\n",
            "Time 0: CC 64 0\n",
            "Time 0.1: CC 64 40\n",
            "Time 0.02: CC 64 88\n",
            "Time 0.01: CC 64 127\n",
            "Time 0.27: CC 64 56\n",
            "Time 0.03: CC 64 0\n",
            "Time 0.01: CC 64 56\n",
            "Time 0.02: CC 64 127\n",
            "Time 0.36: CC 64 104\n",
            "Time 0.01: CC 64 0\n",
            "Time 0.16: CC 64 40\n",
            "Time 0.01: CC 64 127\n",
            "Time 0.37: CC 64 88\n",
            "Time 0.01: CC 64 0\n",
            "Time 0.2: CC 64 56\n",
            "Time 0.01: CC 64 127\n",
            "Time 0.01: CC 64 0\n",
            "Time 0.19: CC 64 40\n",
            "Time 0.01: CC 64 127\n",
            "Time 0: CC 64 24\n",
            "Time 0.01: CC 64 0\n",
            "Time 0.2: CC 64 40\n",
            "Time 0.02: CC 64 127\n",
            "Time 0.03: CC 64 56\n",
            "Time 0.04: CC 64 0\n",
            "Time 0.18: CC 64 56\n",
            "Time 0.02: CC 64 127\n",
            "Time 0.02: CC 64 104\n",
            "Time 0.01: CC 64 40\n",
            "Time 0.03: CC 64 0\n",
            "Time 0.07: CC 64 56\n",
            "Time 0.03: CC 64 104\n",
            "Time 0.02: CC 64 127\n",
            "Time 0.38297879999999995: CC 64 40\n",
            "Time 0.010638299999999998: CC 64 0\n",
            "Time 0.12765959999999998: CC 64 127\n",
            "Time 0.01: CC 64 104\n",
            "Time 0.01: CC 64 0\n",
            "Time 0.19: CC 64 56\n",
            "Time 0.02: CC 64 127\n",
            "Time 0.38: CC 64 56\n",
            "Time 0.01: CC 64 0\n",
            "Time 0.16: CC 64 56\n",
            "Time 0.01: CC 64 127\n",
            "Time 0.37: CC 64 0\n",
            "Time 0.12: CC 64 40\n",
            "Time 0.01: CC 64 104\n",
            "Time 0.03: CC 64 127\n",
            "Time 0.38: CC 64 0\n",
            "Time 0.18: CC 64 104\n",
            "Time 0.03: CC 64 127\n",
            "Time 0.37: CC 64 56\n",
            "Time 0.01: CC 64 0\n",
            "Time 0.15: CC 64 88\n",
            "Time 0.02: CC 64 127\n",
            "Time 0.33: CC 64 40\n",
            "Time 0.03: CC 64 0\n",
            "Time 0.01: CC 64 40\n",
            "Time 0.02: CC 64 72\n",
            "Time 0.03: CC 64 127\n",
            "Time 0.35000000000000003: CC 64 104\n",
            "Time 0.02: CC 64 0\n",
            "Time 0.17: CC 64 72\n",
            "Time 0.01: CC 64 127\n",
            "Time 0.32: CC 64 24\n",
            "Time 0.03: CC 64 0\n",
            "Time 0.12: CC 64 24\n",
            "Time 0.03: CC 64 72\n",
            "Time 0.02: CC 64 127\n",
            "Time 0.35000000000000003: CC 64 88\n",
            "Time 0.01: CC 64 0\n",
            "Time 0.15625: CC 64 56\n",
            "Time 0.020833333333333332: CC 64 127\n",
            "Time 0.42222211666666665: CC 64 104\n",
            "Time 0.0125: CC 64 0\n",
            "Time 0.25: CC 64 88\n",
            "Time 0.0125: CC 64 127\n",
            "Time 0.011111108333333333: CC 64 0\n",
            "Time 0.22222216666666667: CC 64 40\n",
            "Time 0.011111108333333333: CC 64 127\n",
            "Time 0.05: CC 64 88\n",
            "Time 0.01: CC 64 0\n",
            "Time 0.25: CC 64 56\n",
            "Time 0.01: CC 64 127\n",
            "Time 0.06: CC 64 104\n",
            "Time 0.02: CC 64 0\n",
            "Time 0.23: CC 64 127\n",
            "Time 0: CC 64 104\n",
            "Time 0.02: CC 64 0\n",
            "Time 0.2: CC 64 127\n",
            "Time 0.38: CC 64 40\n",
            "Time 0: CC 64 0\n",
            "Time 0.16: CC 64 72\n",
            "Time 0.02: CC 64 127\n",
            "Time 0.36: CC 64 0\n",
            "Time 0.15: CC 64 72\n",
            "Time 0.01: CC 64 127\n",
            "Time 0.08: CC 64 40\n",
            "Time 0.02: CC 64 0\n",
            "Time 0.18: CC 64 56\n",
            "Time 0.03: CC 64 127\n",
            "Time 0.02: CC 64 72\n",
            "Time 0.01: CC 64 0\n",
            "Time 0.22: CC 64 88\n",
            "Time 0.01: CC 64 127\n",
            "Time 0.28: CC 64 72\n",
            "Time 0: CC 64 0\n",
            "Time 0.2: CC 64 88\n",
            "Time 0.02: CC 64 127\n",
            "Time 0.32: CC 64 88\n",
            "Time 0.01: CC 64 0\n",
            "Time 0.12: CC 64 88\n",
            "Time 0.03: CC 64 127\n",
            "Time 0.35000000000000003: CC 64 56\n",
            "Time 0.02: CC 64 0\n",
            "Time 0.13: CC 64 72\n",
            "Time 0.02: CC 64 127\n",
            "Time 0.38: CC 64 56\n",
            "Time 0: CC 64 0\n",
            "Time 0.2: CC 64 127\n",
            "Time 0.38: CC 64 40\n",
            "Time 0: CC 64 0\n",
            "Time 0.18: CC 64 104\n",
            "Time 0.02: CC 64 127\n",
            "Time 0: CC 64 104\n",
            "Time 0.02: CC 64 0\n",
            "Time 0.18: CC 64 56\n",
            "Time 0.02: CC 64 127\n",
            "Time 0: CC 64 24\n",
            "Time 0.02: CC 64 0\n",
            "Time 0.18: CC 64 127\n",
            "Time 0.36: CC 64 24\n",
            "Time 0.02: CC 64 0\n",
            "Time 0.16: CC 64 56\n",
            "Time 0.02: CC 64 127\n",
            "Time 0.35000000000000003: CC 64 104\n",
            "Time 0.02: CC 64 0\n",
            "Time 0.11: CC 64 72\n",
            "Time 0.02: CC 64 127\n",
            "Time 0.06: CC 64 0\n",
            "Time 0.16: CC 64 104\n",
            "Time 0.03: CC 64 127\n",
            "Time 0.37: CC 64 0\n",
            "Time 0.13: CC 64 56\n",
            "Time 0.02: CC 64 127\n",
            "Time 0.33: CC 64 72\n",
            "Time 0.03: CC 64 0\n",
            "Time 0.1: CC 64 56\n",
            "Time 0.02: CC 64 127\n",
            "Time 0.01: CC 64 104\n",
            "Time 0.02: CC 64 0\n",
            "Time 0.15: CC 64 104\n",
            "Time 0.03: CC 64 127\n",
            "Time 0.05: CC 64 0\n",
            "Time 0.2: CC 64 104\n",
            "Time 0.01: CC 64 127\n",
            "Time 0.32: CC 64 56\n",
            "Time 0.03: CC 64 0\n",
            "Time 0.05: CC 64 40\n",
            "Time 0.02: CC 64 127\n",
            "Time 0.33: CC 64 24\n",
            "Time 0.03: CC 64 0\n",
            "Time 0.06: CC 64 56\n",
            "Time 0.01: CC 64 127\n",
            "Time 0.37: CC 64 72\n",
            "Time 0.01: CC 64 0\n",
            "Time 0.11: CC 64 72\n",
            "Time 0.02: CC 64 127\n",
            "Time 0.02: CC 64 104\n",
            "Time 0.01: CC 64 24\n",
            "Time 0.03: CC 64 0\n",
            "Time 0.14: CC 64 88\n",
            "Time 0.02: CC 64 127\n",
            "Time 0.32: CC 64 72\n",
            "Time 0.01: CC 64 0\n",
            "Time 0.12: CC 64 40\n",
            "Time 0.01: CC 64 127\n",
            "Time 0.02: CC 64 56\n",
            "Time 0.01: CC 64 0\n",
            "Time 0.19: CC 64 104\n",
            "Time 0.01: CC 64 127\n",
            "Time 0.37: CC 64 88\n",
            "Time 0.01: CC 64 0\n",
            "Time 0.15: CC 64 40\n",
            "Time 0.02: CC 64 104\n",
            "Time 0.01: CC 64 127\n",
            "Time 0.36: CC 64 0\n",
            "Time 0.12: CC 64 56\n",
            "Time 0.01: CC 64 127\n",
            "Time 0.35000000000000003: CC 64 72\n",
            "Time 0.01: CC 64 0\n",
            "Time 0.08: CC 64 24\n",
            "Time 0.03: CC 64 88\n",
            "Time 0.01: CC 64 127\n",
            "Time 0.33: CC 64 72\n",
            "Time 0.03: CC 64 0\n",
            "Time 0.13: CC 64 72\n",
            "Time 0.03: CC 64 127\n",
            "Time 0.38: CC 64 0\n",
            "Time 0.15: CC 64 56\n",
            "Time 0.02: CC 64 127\n",
            "Time 0.02: CC 64 0\n",
            "Time 0.18: CC 64 40\n",
            "Time 0.02: CC 64 127\n",
            "Time 0.37: CC 64 56\n",
            "Time 0: CC 64 0\n",
            "Time 0.18085109999999996: CC 64 127\n",
            "Time 0.05: CC 64 0\n",
            "Time 0.01: CC 64 88\n",
            "Time 0.15: CC 64 40\n",
            "Time 0.02: CC 64 127\n",
            "Time 0.37: CC 64 104\n",
            "Time 0: CC 64 0\n",
            "Time 0.17: CC 64 104\n",
            "Time 0.03: CC 64 127\n",
            "Time 0.36: CC 64 24\n",
            "Time 0: CC 64 0\n",
            "Time 0.16: CC 64 88\n",
            "Time 0.01: CC 64 127\n",
            "Time 0.39285702499999997: CC 64 88\n",
            "Time 0.035714275: CC 64 0\n",
            "Time 0.13829789999999997: CC 64 88\n",
            "Time 0.031914899999999996: CC 64 127\n",
            "Time 0.031914899999999996: CC 64 88\n",
            "Time 0.021276599999999996: CC 64 0\n",
            "Time 0.22340429999999997: CC 64 88\n",
            "Time 0.010638299999999998: CC 64 127\n",
            "Time 0.01: CC 64 40\n",
            "Time 0.02: CC 64 0\n",
            "Time 0.19: CC 64 127\n",
            "Time 0.26: CC 64 104\n",
            "Time 0.01: CC 64 0\n",
            "Time 0.06: CC 64 56\n",
            "Time 0.02: CC 64 127\n",
            "Time 0.01: CC 64 88\n",
            "Time 0.02: CC 64 0\n",
            "Time 0.18: CC 64 127\n",
            "Time 0.35000000000000003: CC 64 72\n",
            "Time 0.01: CC 64 0\n",
            "Time 0.11111108333333333: CC 64 72\n",
            "Time 0.022222216666666666: CC 64 127\n",
            "Time 0: CC 64 0\n",
            "Time 0.21: CC 64 127\n",
            "Time 0.26: CC 64 104\n",
            "Time 0.02: CC 64 24\n",
            "Time 0.02: CC 64 0\n",
            "Time 0.1: CC 64 88\n",
            "Time 0.02: CC 64 127\n",
            "Time 0: CC 64 24\n",
            "Time 0.01: CC 64 0\n",
            "Time 0.16: CC 64 104\n",
            "Time 0.03: CC 64 127\n",
            "Time 0.28: CC 64 40\n",
            "Time 0.02: CC 64 0\n",
            "Time 0.055555541666666666: CC 64 56\n",
            "Time 0.011111108333333333: CC 64 127\n",
            "Time 0.40000006666666665: CC 64 24\n",
            "Time 0.011111108333333333: CC 64 0\n",
            "Time 0.21111105833333332: CC 64 127\n",
            "Time 0.02: CC 64 88\n",
            "Time 0.12: CC 64 127\n",
            "Time 4.74: CC 64 72\n",
            "Time 0.02: CC 64 24\n",
            "Time 0.06: CC 64 0\n"
          ]
        }
      ],
      "source": [
        "# Import mido library\n",
        "import mido\n",
        "\n",
        "# Open MIDI file\n",
        "with mido.MidiFile('/content/Beethoven-Moonlight-Sonata.mid') as mid:\n",
        "    # Initialize lists for pitch bend changes, aftertouch changes and control change events\n",
        "    pitch_bend_changes = []\n",
        "    aftertouch_changes = []\n",
        "    control_change_events = []\n",
        "\n",
        "    # Iterate over each midi event in the file\n",
        "    for msg in mid:\n",
        "        # Pitch Bend event\n",
        "        if msg.type == 'pitchwheel':\n",
        "            time = msg.time\n",
        "            pitch_bend_value = msg.pitch\n",
        "            pitch_bend_changes.append((time, pitch_bend_value))\n",
        "\n",
        "        # Aftertouch event\n",
        "        elif msg.type == 'polytouch':\n",
        "            time = msg.time\n",
        "            channel = msg.channel\n",
        "            pressure = msg.value\n",
        "            aftertouch_changes.append((time, channel, pressure))\n",
        "\n",
        "        # Control Change event\n",
        "        elif msg.type == 'control_change':\n",
        "            time = msg.time\n",
        "            controller = msg.control\n",
        "            value = msg.value\n",
        "            control_change_events.append((time, controller, value))\n",
        "\n",
        "    # Loop over events and print values\n",
        "    for time, pitch_bend_value in pitch_bend_changes:\n",
        "        print(f'Time {time}: Pitch Bend {pitch_bend_value}')\n",
        "\n",
        "    for time, channel, pressure in aftertouch_changes:\n",
        "        print(f'Time {time}: Aftertouch Ch {channel} {pressure}')\n",
        "\n",
        "    for time, controller, value in control_change_events:\n",
        "        print(f'Time {time}: CC {controller} {value}')"
      ]
    },
    {
      "cell_type": "markdown",
      "metadata": {
        "id": "cWOSRSQPDZ4y"
      },
      "source": [
        "#### Попробуем разобраться в струткруре midi файла и выделим key velocity (relative) moments with music21"
      ]
    },
    {
      "cell_type": "code",
      "execution_count": null,
      "metadata": {
        "colab": {
          "base_uri": "https://localhost:8080/"
        },
        "id": "fNAPmsBVUymh",
        "outputId": "0aee0e60-70d7-4669-8ed8-3096c92d7ec5"
      },
      "outputs": [
        {
          "name": "stdout",
          "output_type": "stream",
          "text": [
            "Looking in indexes: https://pypi.org/simple, https://us-python.pkg.dev/colab-wheels/public/simple/\n",
            "Collecting pygame\n",
            "  Downloading pygame-2.1.2-cp37-cp37m-manylinux_2_17_x86_64.manylinux2014_x86_64.whl (21.8 MB)\n",
            "\u001b[K     |████████████████████████████████| 21.8 MB 1.4 MB/s \n",
            "\u001b[?25hInstalling collected packages: pygame\n",
            "Successfully installed pygame-2.1.2\n"
          ]
        }
      ],
      "source": [
        "# !pip install pygame"
      ]
    },
    {
      "cell_type": "code",
      "execution_count": null,
      "metadata": {
        "id": "NftO941Kmg8P"
      },
      "outputs": [],
      "source": []
    },
    {
      "cell_type": "code",
      "execution_count": null,
      "metadata": {
        "id": "wadDQGvocTmp"
      },
      "outputs": [],
      "source": [
        "# !sudo apt-get install musescore"
      ]
    },
    {
      "cell_type": "code",
      "execution_count": null,
      "metadata": {
        "colab": {
          "base_uri": "https://localhost:8080/"
        },
        "id": "bqs1oCc_lbM8",
        "outputId": "837c6691-6ad0-4075-cbc5-13f3f2658274"
      },
      "outputs": [
        {
          "data": {
            "text/plain": [
              "68"
            ]
          },
          "execution_count": 4,
          "metadata": {},
          "output_type": "execute_result"
        }
      ],
      "source": [
        "len(base_midi[0])"
      ]
    },
    {
      "cell_type": "code",
      "execution_count": null,
      "metadata": {
        "colab": {
          "base_uri": "https://localhost:8080/"
        },
        "id": "hgDS6m29_YKF",
        "outputId": "7697b0ca-4a45-4a5f-f5fd-d16e238adb0a"
      },
      "outputs": [
        {
          "data": {
            "text/plain": [
              "7"
            ]
          },
          "execution_count": 5,
          "metadata": {},
          "output_type": "execute_result"
        }
      ],
      "source": [
        "len(base_midi[1])"
      ]
    },
    {
      "cell_type": "code",
      "execution_count": null,
      "metadata": {
        "colab": {
          "base_uri": "https://localhost:8080/"
        },
        "id": "OEA6Vl80caiE",
        "outputId": "32d6c20d-36fc-4e4a-e010-5ecf28430e84"
      },
      "outputs": [
        {
          "name": "stdout",
          "output_type": "stream",
          "text": [
            "{0.0} <music21.instrument.Piano Piano>\n",
            "{0.0} <music21.tempo.MetronomeMark lento Quarter=50.0>\n",
            "{0.0} <music21.key.Key of C major>\n",
            "{0.0} <music21.meter.TimeSignature 4/4>\n",
            "{0.0} <music21.stream.Voice 0x7f80b9645940>\n",
            "    {0.0} <music21.note.Rest rest>\n",
            "    {0.3333} <music21.note.Note C#>\n",
            "    {0.6667} <music21.note.Note E>\n",
            "    {1.3333} <music21.note.Note C#>\n",
            "    {2.3333} <music21.note.Note C#>\n",
            "    {2.6667} <music21.note.Note E>\n",
            "    {3.3333} <music21.note.Note C#>\n",
            "    {3.6667} <music21.note.Note E>\n",
            "    {4.3333} <music21.note.Note C#>\n",
            "    {5.3333} <music21.note.Note C#>\n",
            "    {6.3333} <music21.note.Note C#>\n",
            "    {7.3333} <music21.note.Note C#>\n",
            "    {8.0} <music21.note.Note A>\n",
            "    {8.6667} <music21.note.Note E>\n",
            "    {9.0} <music21.note.Note A>\n",
            "    {9.6667} <music21.note.Note E>\n",
            "    {10.0} <music21.note.Note A>\n",
            "    {10.6667} <music21.note.Note F#>\n",
            "    {11.0} <music21.note.Note A>\n",
            "    {11.6667} <music21.note.Note F#>\n",
            "    {12.3333} <music21.note.Note C>\n",
            "    {12.6667} <music21.note.Note F#>\n",
            "    {13.3333} <music21.note.Note C#>\n",
            "    {13.6667} <music21.note.Note E>\n",
            "    {14.3333} <music21.note.Note C#>\n",
            "    {14.6667} <music21.note.Note E->\n",
            "    {15.3333} <music21.note.Note C>\n",
            "    {15.6667} <music21.note.Note E->\n",
            "    {16.6667} <music21.note.Note C#>\n",
            "    {17.3333} <music21.note.Note C#>\n",
            "    {18.3333} <music21.note.Note C#>\n",
            "    {19.0} <music21.note.Note G#>\n",
            "    {19.75} <music21.note.Note G#>\n",
            "    {20.0} <music21.note.Note G#>\n",
            "    {23.0} <music21.note.Note G#>\n",
            "    {23.75} <music21.note.Note G#>\n",
            "    {24.0} <music21.note.Note G#>\n",
            "    {26.0} <music21.note.Note A>\n",
            "    {28.0} <music21.note.Note G#>\n",
            "    {30.0} <music21.note.Note F#>\n",
            "    {30.6667} <music21.note.Note E->\n",
            "    {31.0} <music21.note.Note A>\n",
            "    {31.0} <music21.note.Note B>\n",
            "    {32.0} <music21.note.Note E>\n",
            "    {33.3333} <music21.note.Note B>\n",
            "    {33.6667} <music21.note.Note E>\n",
            "    {34.3333} <music21.note.Note B>\n",
            "    {34.6667} <music21.note.Note E>\n",
            "    {35.3333} <music21.note.Note B>\n",
            "    {35.6667} <music21.note.Note E>\n",
            "    {36.3333} <music21.note.Note B>\n",
            "    {36.6667} <music21.note.Note E>\n",
            "    {37.3333} <music21.note.Note B>\n",
            "    {37.6667} <music21.note.Note E>\n",
            "    {38.3333} <music21.note.Note B>\n",
            "    {38.6667} <music21.note.Note E>\n",
            "    {39.0} <music21.note.Note G>\n",
            "    {39.75} <music21.note.Note G>\n",
            "    {40.0} <music21.note.Note G>\n",
            "    {43.0} <music21.note.Note G>\n",
            "    {43.75} <music21.note.Note G>\n",
            "    {44.0} <music21.note.Note G>\n",
            "    {47.0} <music21.note.Note F#>\n",
            "    {48.0} <music21.note.Note F#>\n",
            "    {50.0} <music21.note.Note G>\n",
            "    {51.0} <music21.note.Note E>\n",
            "    {52.0} <music21.note.Note F#>\n",
            "    {54.0} <music21.note.Note F#>\n",
            "    {56.0} <music21.note.Note B>\n",
            "    {56.6667} <music21.note.Note F#>\n",
            "    {57.0} <music21.note.Note B>\n",
            "    {57.6667} <music21.note.Note F#>\n",
            "    {58.0} <music21.note.Note B>\n",
            "    {58.6667} <music21.note.Note F#>\n",
            "    {59.0} <music21.note.Note B>\n",
            "    {60.0} <music21.note.Note B>\n",
            "    {60.6667} <music21.note.Note G>\n",
            "    {61.0} <music21.note.Note B>\n",
            "    {62.0} <music21.note.Note B>\n",
            "    {62.6667} <music21.note.Note G>\n",
            "    {63.0} <music21.note.Note B->\n",
            "    {64.0} <music21.note.Note B>\n",
            "    {67.0} <music21.note.Note B>\n",
            "    {67.3333} <music21.note.Note E->\n",
            "    {68.0} <music21.note.Note B>\n",
            "    {68.3333} <music21.note.Note E>\n",
            "    {69.0} <music21.note.Note B>\n",
            "    {69.3333} <music21.note.Note E>\n",
            "    {70.0} <music21.note.Note B>\n",
            "    {70.3333} <music21.note.Note E>\n",
            "    {71.0} <music21.note.Note B>\n",
            "    {71.3333} <music21.note.Note E>\n",
            "    {72.0} <music21.note.Note B>\n",
            "    {74.0} <music21.note.Note B>\n",
            "    {74.3333} <music21.note.Note D>\n",
            "    {75.0} <music21.note.Note B>\n",
            "    {75.3333} <music21.note.Note D>\n",
            "    {76.0} <music21.note.Note B>\n",
            "    {76.3333} <music21.note.Note C#>\n",
            "    {77.0} <music21.note.Note B>\n",
            "    {77.3333} <music21.note.Note C#>\n",
            "    {78.0} <music21.note.Note A>\n",
            "    {80.0} <music21.note.Note G>\n",
            "    {82.0} <music21.note.Note F#>\n",
            "    {84.0} <music21.note.Note C#>\n",
            "    {86.0} <music21.note.Note C#>\n",
            "    {87.0} <music21.note.Note C#>\n",
            "    {88.3333} <music21.note.Note A>\n",
            "    {89.0} <music21.note.Note A>\n",
            "    {89.3333} <music21.note.Note C#>\n",
            "    {90.0} <music21.note.Note C#>\n",
            "    {90.3333} <music21.note.Note F#>\n",
            "    {91.0} <music21.note.Note C#>\n",
            "    {91.3333} <music21.note.Note F#>\n",
            "    {91.75} <music21.note.Note C#>\n",
            "    {92.0} <music21.note.Note C#>\n",
            "    {94.0} <music21.note.Note C#>\n",
            "    {94.3333} <music21.note.Note G#>\n",
            "    {95.0} <music21.note.Note C#>\n",
            "    {95.75} <music21.note.Note C#>\n",
            "    {96.0} <music21.note.Note C#>\n",
            "    {98.0} <music21.note.Note C>\n",
            "    {98.3333} <music21.note.Note F#>\n",
            "    {99.0} <music21.note.Note C#>\n",
            "    {100.0} <music21.note.Note E->\n",
            "    {100.3333} <music21.note.Note F#>\n",
            "    {101.0} <music21.note.Note E->\n",
            "    {101.3333} <music21.note.Note F#>\n",
            "    {102.0} <music21.note.Note E->\n",
            "    {102.3333} <music21.note.Note F#>\n",
            "    {103.0} <music21.note.Note E->\n",
            "    {104.0} <music21.note.Note E>\n",
            "    {107.0} <music21.note.Note C#>\n",
            "    {108.0} <music21.note.Note C>\n",
            "    {109.0} <music21.note.Note G#>\n",
            "    {110.0} <music21.note.Note A>\n",
            "    {111.0} <music21.note.Note F#>\n",
            "    {114.0} <music21.note.Note A>\n",
            "    {116.3333} <music21.note.Note E>\n",
            "    {117.0} <music21.note.Note C#>\n",
            "    {118.0} <music21.note.Note E>\n",
            "    {119.0} <music21.note.Note C#>\n",
            "    {121.0} <music21.note.Note C#>\n",
            "    {122.0} <music21.note.Note E>\n",
            "    {123.0} <music21.note.Note C#>\n",
            "    {124.3333} <music21.note.Note A>\n",
            "    {125.0} <music21.note.Note C>\n",
            "    {125.3333} <music21.note.Note A>\n",
            "    {126.0} <music21.note.Note C>\n",
            "    {126.3333} <music21.note.Note F#>\n",
            "    {127.0} <music21.note.Note A>\n",
            "    {127.3333} <music21.note.Note F#>\n",
            "    {128.3333} <music21.note.Note C#>\n",
            "    {129.0} <music21.note.Note E>\n",
            "    {129.6667} <music21.note.Note G#>\n",
            "    {130.0} <music21.note.Note E>\n",
            "    {130.6667} <music21.note.Note G#>\n",
            "    {131.0} <music21.note.Note E>\n",
            "    {131.6667} <music21.note.Note G#>\n",
            "    {132.0} <music21.note.Note C#>\n",
            "    {132.6667} <music21.note.Note E>\n",
            "    {133.0} <music21.note.Note B->\n",
            "    {133.6667} <music21.note.Note C#>\n",
            "    {134.0} <music21.note.Note B->\n",
            "    {134.6667} <music21.note.Note C#>\n",
            "    {135.0} <music21.note.Note G>\n",
            "    {135.6667} <music21.note.Note B->\n",
            "    {136.0} <music21.note.Note F#>\n",
            "    {136.6667} <music21.note.Note A>\n",
            "    {137.0} <music21.note.Note E->\n",
            "    {137.6667} <music21.note.Note F#>\n",
            "    {138.0} <music21.note.Note E->\n",
            "    {138.6667} <music21.note.Note F#>\n",
            "    {139.0} <music21.note.Note C>\n",
            "    {139.6667} <music21.note.Note E->\n",
            "    {140.0} <music21.note.Note C>\n",
            "    {140.6667} <music21.note.Note A>\n",
            "    {141.0} <music21.note.Note E->\n",
            "    {141.6667} <music21.note.Note C>\n",
            "    {142.0} <music21.note.Note E->\n",
            "    {142.6667} <music21.note.Note C>\n",
            "    {143.0} <music21.note.Note F#>\n",
            "    {143.6667} <music21.note.Note E->\n",
            "    {144.0} <music21.note.Note F#>\n",
            "    {144.6667} <music21.note.Note E->\n",
            "    {145.0} <music21.note.Note A>\n",
            "    {146.0} <music21.note.Note A>\n",
            "    {147.6667} <music21.note.Note A>\n",
            "    {149.0} <music21.note.Note A>\n",
            "    {150.6667} <music21.note.Note A>\n",
            "    {151.6667} <music21.note.Note A>\n",
            "    {153.0} <music21.note.Note A>\n",
            "    {154.6667} <music21.note.Note A>\n",
            "    {155.6667} <music21.note.Note A>\n",
            "    {157.0} <music21.note.Note A>\n",
            "    {158.6667} <music21.note.Note C#>\n",
            "    {159.6667} <music21.note.Note C#>\n",
            "    {160.3333} <music21.note.Note A>\n",
            "    {160.6667} <music21.note.Note C#>\n",
            "    {161.3333} <music21.note.Note A>\n",
            "    {161.6667} <music21.note.Note C#>\n",
            "    {162.6667} <music21.note.Note C>\n",
            "    {163.6667} <music21.note.Note C>\n",
            "    {164.6667} <music21.note.Note C#>\n",
            "    {165.3333} <music21.note.Note C#>\n",
            "    {165.6667} <music21.note.Note E>\n",
            "    {166.3333} <music21.note.Note C#>\n",
            "    {166.6667} <music21.note.Note E>\n",
            "    {167.0} <music21.note.Note G#>\n",
            "    {168.0} <music21.note.Note G#>\n",
            "    {171.0} <music21.note.Note G#>\n",
            "    {171.75} <music21.note.Note G#>\n",
            "    {172.0} <music21.note.Note G#>\n",
            "    {174.0} <music21.note.Note A>\n",
            "    {176.0} <music21.note.Note G#>\n",
            "    {178.0} <music21.note.Note A>\n",
            "    {178.6667} <music21.note.Note E->\n",
            "    {179.0} <music21.note.Note A>\n",
            "    {179.6667} <music21.note.Note E->\n",
            "    {180.0} <music21.note.Note E>\n",
            "    {180.6667} <music21.note.Note E>\n",
            "    {181.0} <music21.note.Note B>\n",
            "    {181.6667} <music21.note.Note G#>\n",
            "    {182.0} <music21.note.Note B>\n",
            "    {182.6667} <music21.note.Note G#>\n",
            "    {183.0} <music21.note.Note B>\n",
            "    {183.75} <music21.note.Note B>\n",
            "    {184.0} <music21.note.Note B>\n",
            "    {187.0} <music21.note.Note B>\n",
            "    {187.6667} <music21.note.Note A>\n",
            "    {188.0} <music21.note.Note B>\n",
            "    {190.0} <music21.note.Note C>\n",
            "    {190.6667} <music21.note.Note G#>\n",
            "    {191.0} <music21.note.Note C#>\n",
            "    {191.6667} <music21.note.Note G#>\n",
            "    {192.0} <music21.note.Note E->\n",
            "    {192.6667} <music21.note.Note G#>\n",
            "    {193.0} <music21.note.Note E->\n",
            "    {193.6667} <music21.note.Note G#>\n",
            "    {194.0} <music21.note.Note E>\n",
            "    {194.6667} <music21.note.Note C#>\n",
            "    {195.0} <music21.note.Note E>\n",
            "    {195.6667} <music21.note.Note C#>\n",
            "    {196.0} <music21.note.Note D>\n",
            "    {196.6667} <music21.note.Note A>\n",
            "    {197.0} <music21.note.Note D>\n",
            "    {197.6667} <music21.note.Note A>\n",
            "    {198.0} <music21.note.Note C>\n",
            "    {200.0} <music21.note.Note C#>\n",
            "    {203.0} <music21.note.Note C#>\n",
            "    {203.6667} <music21.note.Note G#>\n",
            "    {204.0} <music21.note.Note C#>\n",
            "    {204.6667} <music21.note.Note A>\n",
            "    {205.0} <music21.note.Note C#>\n",
            "    {205.6667} <music21.note.Note A>\n",
            "    {206.0} <music21.note.Note A>\n",
            "    {207.0} <music21.note.Note C#>\n",
            "    {207.6667} <music21.note.Note A>\n",
            "    {208.0} <music21.note.Note C#>\n",
            "    {211.0} <music21.note.Note C#>\n",
            "    {211.6667} <music21.note.Note G#>\n",
            "    {212.0} <music21.note.Note C#>\n",
            "    {212.6667} <music21.note.Note A>\n",
            "    {213.0} <music21.note.Note C#>\n",
            "    {213.6667} <music21.note.Note A>\n",
            "    {214.0} <music21.note.Note A>\n",
            "    {215.0} <music21.note.Note C#>\n",
            "    {215.6667} <music21.note.Note A>\n",
            "    {216.0} <music21.note.Note C#>\n",
            "    {218.0} <music21.note.Note C#>\n",
            "    {218.6667} <music21.note.Note A>\n",
            "    {219.0} <music21.note.Note C#>\n",
            "    {219.6667} <music21.note.Note A>\n",
            "    {220.0} <music21.note.Note B>\n",
            "    {223.0} <music21.note.Note B>\n",
            "    {223.6667} <music21.note.Note G#>\n",
            "    {224.0} <music21.note.Note A>\n",
            "    {224.6667} <music21.note.Note G#>\n",
            "    {225.0} <music21.note.Note A>\n",
            "    {225.6667} <music21.note.Note F#>\n",
            "    {226.0} <music21.note.Note G#>\n",
            "    {227.0} <music21.note.Note G#>\n",
            "    {228.0} <music21.note.Note F#>\n",
            "    {230.0} <music21.note.Note G#>\n",
            "    {231.0} <music21.note.Note A>\n",
            "    {232.0} <music21.note.Note G#>\n",
            "    {234.0} <music21.note.Note G#>\n",
            "    {235.3333} <music21.note.Note C>\n",
            "    {235.6667} <music21.note.Note E->\n",
            "    {236.0} <music21.note.Note C#>\n",
            "    {237.3333} <music21.note.Note C#>\n",
            "    {237.6667} <music21.note.Note E>\n",
            "    {238.3333} <music21.note.Note C#>\n",
            "    {238.6667} <music21.note.Note E>\n",
            "    {239.3333} <music21.note.Note C#>\n",
            "    {239.6667} <music21.note.Note E>\n",
            "    {240.3333} <music21.note.Note E->\n",
            "    {240.6667} <music21.note.Note F#>\n",
            "    {241.3333} <music21.note.Note E->\n",
            "    {241.6667} <music21.note.Note F#>\n",
            "    {242.3333} <music21.note.Note E->\n",
            "    {242.6667} <music21.note.Note F#>\n",
            "    {243.3333} <music21.note.Note E->\n",
            "    {243.6667} <music21.note.Note F#>\n",
            "    {244.3333} <music21.note.Note E>\n",
            "    {244.6667} <music21.note.Note C#>\n",
            "    {245.0} <music21.note.Note G#>\n",
            "    {245.6667} <music21.note.Note C#>\n",
            "    {246.0} <music21.note.Note G#>\n",
            "    {246.6667} <music21.note.Note C#>\n",
            "    {247.0} <music21.note.Note G#>\n",
            "    {247.6667} <music21.note.Note C#>\n",
            "    {248.0} <music21.note.Note C>\n",
            "    {248.6667} <music21.note.Note A>\n",
            "    {249.0} <music21.note.Note C>\n",
            "    {249.6667} <music21.note.Note A>\n",
            "    {250.0} <music21.note.Note E->\n",
            "    {250.6667} <music21.note.Note A>\n",
            "    {251.0} <music21.note.Note C>\n",
            "    {252.0} <music21.note.Note C#>\n",
            "    {252.6667} <music21.note.Note C#>\n",
            "    {253.0} <music21.note.Note G#>\n",
            "    {253.6667} <music21.note.Note C#>\n",
            "    {254.0} <music21.note.Note G#>\n",
            "    {254.6667} <music21.note.Note C#>\n",
            "    {255.0} <music21.note.Note G#>\n",
            "    {255.6667} <music21.note.Note C#>\n",
            "    {256.0} <music21.note.Note C>\n",
            "    {256.3333} <music21.note.Note E->\n",
            "    {257.0} <music21.note.Note C>\n",
            "    {257.3333} <music21.note.Note F#>\n",
            "    {258.0} <music21.note.Note E->\n",
            "    {258.3333} <music21.note.Note F#>\n",
            "    {259.0} <music21.note.Note C>\n",
            "    {260.0} <music21.note.Note C#>\n",
            "    {261.0} <music21.note.Note E>\n",
            "    {261.3333} <music21.note.Note C#>\n",
            "    {263.0} <music21.note.Note C#>\n",
            "    {270.0} <music21.note.Note C#>\n",
            "    {272.0} <music21.note.Note C#>\n",
            "{0.0} <music21.stream.Voice 0x7f805749d340>\n",
            "    {0.0} <music21.note.Rest rest>\n",
            "    {1.6667} <music21.note.Note E>\n",
            "    {1.6667} <music21.note.Rest rest>\n",
            "    {3.0} <music21.note.Rest rest>\n",
            "    {4.6667} <music21.note.Note E>\n",
            "    {5.6667} <music21.note.Note E>\n",
            "    {6.6667} <music21.note.Note E>\n",
            "    {7.6667} <music21.note.Note E>\n",
            "    {8.3333} <music21.note.Note C#>\n",
            "    {9.3333} <music21.note.Note C#>\n",
            "    {10.3333} <music21.note.Note D>\n",
            "    {11.3333} <music21.note.Note D>\n",
            "    {17.6667} <music21.note.Note E>\n",
            "    {18.6667} <music21.note.Note E>\n",
            "    {19.3333} <music21.note.Note C#>\n",
            "    {20.3333} <music21.note.Note E->\n",
            "    {21.3333} <music21.note.Note E->\n",
            "    {22.3333} <music21.note.Note E->\n",
            "    {23.3333} <music21.note.Note E->\n",
            "    {24.3333} <music21.note.Note C#>\n",
            "    {25.3333} <music21.note.Note C#>\n",
            "    {26.0} <music21.note.Note A>\n",
            "    {26.3333} <music21.note.Note C#>\n",
            "    {27.0} <music21.note.Note A>\n",
            "    {27.3333} <music21.note.Note C#>\n",
            "    {28.3333} <music21.note.Note B>\n",
            "    {29.3333} <music21.note.Note B>\n",
            "    {30.0} <music21.note.Note A>\n",
            "    {30.3333} <music21.note.Note B>\n",
            "    {31.3333} <music21.note.Note B>\n",
            "    {32.3333} <music21.note.Note B>\n",
            "    {39.3333} <music21.note.Note B>\n",
            "    {39.6667} <music21.note.Note E>\n",
            "    {40.3333} <music21.note.Note B>\n",
            "    {40.6667} <music21.note.Note F>\n",
            "    {41.3333} <music21.note.Note B>\n",
            "    {41.6667} <music21.note.Note F>\n",
            "    {42.3333} <music21.note.Note B>\n",
            "    {42.6667} <music21.note.Note F>\n",
            "    {43.3333} <music21.note.Note B>\n",
            "    {43.6667} <music21.note.Note F>\n",
            "    {44.3333} <music21.note.Note C>\n",
            "    {44.6667} <music21.note.Note E>\n",
            "    {45.3333} <music21.note.Note B>\n",
            "    {45.6667} <music21.note.Note E>\n",
            "    {46.3333} <music21.note.Note C#>\n",
            "    {46.6667} <music21.note.Note E>\n",
            "    {47.3333} <music21.note.Note C#>\n",
            "    {47.6667} <music21.note.Note E>\n",
            "    {48.3333} <music21.note.Note B>\n",
            "    {48.6667} <music21.note.Note D>\n",
            "    {49.3333} <music21.note.Note B>\n",
            "    {49.6667} <music21.note.Note D>\n",
            "    {50.3333} <music21.note.Note B>\n",
            "    {50.6667} <music21.note.Note C#>\n",
            "    {51.3333} <music21.note.Note B>\n",
            "    {51.6667} <music21.note.Note C#>\n",
            "    {52.3333} <music21.note.Note B>\n",
            "    {52.6667} <music21.note.Note D>\n",
            "    {53.3333} <music21.note.Note B>\n",
            "    {53.6667} <music21.note.Note D>\n",
            "    {54.3333} <music21.note.Note B->\n",
            "    {54.6667} <music21.note.Note C#>\n",
            "    {55.3333} <music21.note.Note B->\n",
            "    {55.6667} <music21.note.Note C#>\n",
            "    {56.3333} <music21.note.Note D>\n",
            "    {57.3333} <music21.note.Note D>\n",
            "    {58.3333} <music21.note.Note E->\n",
            "    {59.0} <music21.note.Note B>\n",
            "    {59.6667} <music21.note.Note F#>\n",
            "    {60.0} <music21.note.Note C>\n",
            "    {63.0} <music21.note.Note B>\n",
            "    {63.6667} <music21.note.Note G>\n",
            "    {64.0} <music21.note.Note B>\n",
            "    {64.3333} <music21.note.Note E->\n",
            "    {65.0} <music21.note.Note B>\n",
            "    {65.3333} <music21.note.Note E->\n",
            "    {66.0} <music21.note.Note B>\n",
            "    {66.3333} <music21.note.Note E->\n",
            "    {67.0} <music21.note.Note B>\n",
            "    {68.0} <music21.note.Note C>\n",
            "    {71.0} <music21.note.Note B->\n",
            "    {72.0} <music21.note.Note B>\n",
            "    {72.3333} <music21.note.Note E->\n",
            "    {73.0} <music21.note.Note B>\n",
            "    {73.3333} <music21.note.Note E->\n",
            "    {74.0} <music21.note.Note B>\n",
            "    {76.0} <music21.note.Note B>\n",
            "    {78.0} <music21.note.Note A>\n",
            "    {78.3333} <music21.note.Note C#>\n",
            "    {79.0} <music21.note.Note A>\n",
            "    {79.3333} <music21.note.Note C#>\n",
            "    {80.3333} <music21.note.Note B>\n",
            "    {81.3333} <music21.note.Note B>\n",
            "    {82.3333} <music21.note.Note A>\n",
            "    {83.3333} <music21.note.Note A>\n",
            "    {84.6667} <music21.note.Note A>\n",
            "    {85.6667} <music21.note.Note A>\n",
            "    {88.6667} <music21.note.Note C#>\n",
            "    {89.6667} <music21.note.Note F#>\n",
            "    {90.6667} <music21.note.Note A>\n",
            "    {91.0} <music21.note.Note C#>\n",
            "    {92.0} <music21.note.Note C#>\n",
            "    {92.3333} <music21.note.Note G#>\n",
            "    {93.0} <music21.note.Note C#>\n",
            "    {93.3333} <music21.note.Note G#>\n",
            "    {94.6667} <music21.note.Note B>\n",
            "    {95.0} <music21.note.Note C#>\n",
            "    {95.3333} <music21.note.Note G#>\n",
            "    {96.0} <music21.note.Note C#>\n",
            "    {96.3333} <music21.note.Note F#>\n",
            "    {97.0} <music21.note.Note C#>\n",
            "    {98.0} <music21.note.Note C>\n",
            "    {99.0} <music21.note.Note C#>\n",
            "    {99.3333} <music21.note.Note F#>\n",
            "    {100.0} <music21.note.Note E->\n",
            "    {103.0} <music21.note.Note E->\n",
            "    {103.3333} <music21.note.Note F#>\n",
            "    {104.0} <music21.note.Note E>\n",
            "    {104.3333} <music21.note.Note G#>\n",
            "    {105.0} <music21.note.Note E>\n",
            "    {105.3333} <music21.note.Note G#>\n",
            "    {106.0} <music21.note.Note E->\n",
            "    {107.0} <music21.note.Note C#>\n",
            "    {107.3333} <music21.note.Note E>\n",
            "    {108.3333} <music21.note.Note C>\n",
            "    {109.3333} <music21.note.Note C>\n",
            "    {110.3333} <music21.note.Note C>\n",
            "    {111.3333} <music21.note.Note C>\n",
            "    {116.6667} <music21.note.Note G#>\n",
            "    {117.3333} <music21.note.Note E>\n",
            "    {118.3333} <music21.note.Note E>\n",
            "    {119.3333} <music21.note.Note E>\n",
            "    {125.6667} <music21.note.Note E->\n",
            "    {126.6667} <music21.note.Note E->\n",
            "    {127.6667} <music21.note.Note C>\n",
            "    {129.3333} <music21.note.Note C#>\n",
            "    {130.3333} <music21.note.Note C#>\n",
            "    {131.3333} <music21.note.Note C#>\n",
            "    {132.3333} <music21.note.Note G>\n",
            "    {133.3333} <music21.note.Note G>\n",
            "    {134.3333} <music21.note.Note E>\n",
            "    {135.3333} <music21.note.Note E>\n",
            "    {136.3333} <music21.note.Note C>\n",
            "    {137.3333} <music21.note.Note C>\n",
            "    {138.3333} <music21.note.Note A>\n",
            "    {139.3333} <music21.note.Note A>\n",
            "    {140.3333} <music21.note.Note F#>\n",
            "    {141.3333} <music21.note.Note F#>\n",
            "    {142.3333} <music21.note.Note A>\n",
            "    {143.3333} <music21.note.Note A>\n",
            "    {144.3333} <music21.note.Note C>\n",
            "    {145.3333} <music21.note.Note C>\n",
            "    {167.3333} <music21.note.Note C#>\n",
            "    {167.6667} <music21.note.Note E>\n",
            "    {168.3333} <music21.note.Note E->\n",
            "    {168.6667} <music21.note.Note F#>\n",
            "    {169.3333} <music21.note.Note E->\n",
            "    {169.6667} <music21.note.Note F#>\n",
            "    {170.3333} <music21.note.Note E->\n",
            "    {170.6667} <music21.note.Note F#>\n",
            "    {171.3333} <music21.note.Note E->\n",
            "    {171.6667} <music21.note.Note F#>\n",
            "    {172.3333} <music21.note.Note C#>\n",
            "    {172.6667} <music21.note.Note E>\n",
            "    {173.3333} <music21.note.Note C#>\n",
            "    {173.6667} <music21.note.Note E>\n",
            "    {174.0} <music21.note.Note A>\n",
            "    {174.6667} <music21.note.Note F#>\n",
            "    {175.0} <music21.note.Note A>\n",
            "    {175.6667} <music21.note.Note F#>\n",
            "    {176.3333} <music21.note.Note B>\n",
            "    {176.6667} <music21.note.Note E>\n",
            "    {177.3333} <music21.note.Note B>\n",
            "    {177.6667} <music21.note.Note E>\n",
            "    {178.0} <music21.note.Note F#>\n",
            "    {179.0} <music21.note.Note B>\n",
            "    {180.3333} <music21.note.Note B>\n",
            "    {181.3333} <music21.note.Note E>\n",
            "    {182.3333} <music21.note.Note E>\n",
            "    {183.0} <music21.note.Note B>\n",
            "    {183.6667} <music21.note.Note G#>\n",
            "    {184.0} <music21.note.Note B>\n",
            "    {184.6667} <music21.note.Note A>\n",
            "    {185.0} <music21.note.Note B>\n",
            "    {185.6667} <music21.note.Note A>\n",
            "    {186.0} <music21.note.Note B>\n",
            "    {186.6667} <music21.note.Note A>\n",
            "    {187.0} <music21.note.Note B>\n",
            "    {187.75} <music21.note.Note B>\n",
            "    {188.0} <music21.note.Note B>\n",
            "    {188.6667} <music21.note.Note G#>\n",
            "    {189.0} <music21.note.Note B>\n",
            "    {189.6667} <music21.note.Note G#>\n",
            "    {190.0} <music21.note.Note C>\n",
            "    {191.0} <music21.note.Note C#>\n",
            "    {192.0} <music21.note.Note E->\n",
            "    {194.0} <music21.note.Note E>\n",
            "    {196.0} <music21.note.Note D>\n",
            "    {198.0} <music21.note.Note C>\n",
            "    {198.6667} <music21.note.Note G#>\n",
            "    {199.0} <music21.note.Note C>\n",
            "    {199.6667} <music21.note.Note G#>\n",
            "    {200.0} <music21.note.Note C#>\n",
            "    {200.6667} <music21.note.Note G#>\n",
            "    {201.0} <music21.note.Note C#>\n",
            "    {201.6667} <music21.note.Note G#>\n",
            "    {202.0} <music21.note.Note C#>\n",
            "    {202.6667} <music21.note.Note G#>\n",
            "    {203.0} <music21.note.Note C#>\n",
            "    {204.0} <music21.note.Note D>\n",
            "    {207.0} <music21.note.Note C>\n",
            "    {208.0} <music21.note.Note C#>\n",
            "    {208.6667} <music21.note.Note G#>\n",
            "    {209.0} <music21.note.Note C#>\n",
            "    {209.6667} <music21.note.Note G#>\n",
            "    {210.0} <music21.note.Note C#>\n",
            "    {210.6667} <music21.note.Note G#>\n",
            "    {211.0} <music21.note.Note C#>\n",
            "    {212.0} <music21.note.Note D>\n",
            "    {215.0} <music21.note.Note C>\n",
            "    {216.0} <music21.note.Note C#>\n",
            "    {216.6667} <music21.note.Note G#>\n",
            "    {217.0} <music21.note.Note C#>\n",
            "    {217.6667} <music21.note.Note G#>\n",
            "    {218.0} <music21.note.Note C#>\n",
            "    {220.0} <music21.note.Note B>\n",
            "    {220.6667} <music21.note.Note A>\n",
            "    {221.0} <music21.note.Note B>\n",
            "    {221.6667} <music21.note.Note A>\n",
            "    {222.0} <music21.note.Note B>\n",
            "    {222.6667} <music21.note.Note A>\n",
            "    {223.0} <music21.note.Note B>\n",
            "    {224.0} <music21.note.Note A>\n",
            "    {225.0} <music21.note.Note A>\n",
            "    {226.3333} <music21.note.Note E->\n",
            "    {226.6667} <music21.note.Note F#>\n",
            "    {227.3333} <music21.note.Note C#>\n",
            "    {227.6667} <music21.note.Note E>\n",
            "    {228.3333} <music21.note.Note C#>\n",
            "    {228.6667} <music21.note.Note E->\n",
            "    {229.3333} <music21.note.Note C#>\n",
            "    {229.6667} <music21.note.Note E->\n",
            "    {230.3333} <music21.note.Note C#>\n",
            "    {230.6667} <music21.note.Note E->\n",
            "    {231.0} <music21.note.Note A>\n",
            "    {231.6667} <music21.note.Note E->\n",
            "    {232.3333} <music21.note.Note C#>\n",
            "    {232.6667} <music21.note.Note E>\n",
            "    {233.3333} <music21.note.Note C#>\n",
            "    {233.6667} <music21.note.Note E>\n",
            "    {234.3333} <music21.note.Note C>\n",
            "    {234.6667} <music21.note.Note E->\n",
            "    {245.3333} <music21.note.Note E>\n",
            "    {246.3333} <music21.note.Note E>\n",
            "    {247.3333} <music21.note.Note E>\n",
            "    {248.3333} <music21.note.Note E->\n",
            "    {249.3333} <music21.note.Note F#>\n",
            "    {250.3333} <music21.note.Note F#>\n",
            "    {252.3333} <music21.note.Note E>\n",
            "    {253.3333} <music21.note.Note E>\n",
            "    {254.3333} <music21.note.Note E>\n",
            "    {255.3333} <music21.note.Note E>\n",
            "    {256.6667} <music21.note.Note A>\n",
            "    {257.6667} <music21.note.Note A>\n",
            "    {258.6667} <music21.note.Note A>\n",
            "    {259.0} <music21.note.Rest rest>\n",
            "{0.0} <music21.stream.Voice 0x7f80518260d0>\n",
            "    {0.0} <music21.note.Rest rest>\n",
            "    {19.6667} <music21.note.Note E>\n",
            "    {19.6667} <music21.note.Rest rest>\n",
            "    {20.6667} <music21.note.Note F#>\n",
            "    {21.6667} <music21.note.Note F#>\n",
            "    {22.6667} <music21.note.Note F#>\n",
            "    {23.6667} <music21.note.Note F#>\n",
            "    {24.6667} <music21.note.Note E>\n",
            "    {25.6667} <music21.note.Note E>\n",
            "    {26.6667} <music21.note.Note F#>\n",
            "    {27.6667} <music21.note.Note F#>\n",
            "    {28.6667} <music21.note.Note E>\n",
            "    {29.6667} <music21.note.Note E>\n",
            "    {31.6667} <music21.note.Note E->\n",
            "    {59.3333} <music21.note.Note E->\n",
            "    {60.3333} <music21.note.Note E>\n",
            "    {61.3333} <music21.note.Note E>\n",
            "    {61.6667} <music21.note.Note G>\n",
            "    {62.3333} <music21.note.Note E>\n",
            "    {63.3333} <music21.note.Note E>\n",
            "    {64.6667} <music21.note.Note F#>\n",
            "    {65.6667} <music21.note.Note F#>\n",
            "    {66.6667} <music21.note.Note F#>\n",
            "    {67.6667} <music21.note.Note F#>\n",
            "    {68.6667} <music21.note.Note G>\n",
            "    {69.6667} <music21.note.Note G>\n",
            "    {70.6667} <music21.note.Note G>\n",
            "    {71.6667} <music21.note.Note G>\n",
            "    {72.6667} <music21.note.Note F#>\n",
            "    {73.6667} <music21.note.Note F#>\n",
            "    {74.6667} <music21.note.Note F>\n",
            "    {75.6667} <music21.note.Note F>\n",
            "    {76.6667} <music21.note.Note G#>\n",
            "    {77.6667} <music21.note.Note G#>\n",
            "    {78.6667} <music21.note.Note F#>\n",
            "    {79.6667} <music21.note.Note F#>\n",
            "    {80.6667} <music21.note.Note D>\n",
            "    {81.6667} <music21.note.Note D>\n",
            "    {82.6667} <music21.note.Note E->\n",
            "    {83.6667} <music21.note.Note E->\n",
            "    {91.6667} <music21.note.Note A>\n",
            "    {92.6667} <music21.note.Note B>\n",
            "    {93.6667} <music21.note.Note B>\n",
            "    {95.6667} <music21.note.Note B>\n",
            "    {96.6667} <music21.note.Note A>\n",
            "    {97.3333} <music21.note.Note F#>\n",
            "    {98.6667} <music21.note.Note A>\n",
            "    {99.6667} <music21.note.Note A>\n",
            "    {100.6667} <music21.note.Note G#>\n",
            "    {101.6667} <music21.note.Note G#>\n",
            "    {102.6667} <music21.note.Note G#>\n",
            "    {103.6667} <music21.note.Note G#>\n",
            "    {104.6667} <music21.note.Note C#>\n",
            "    {105.6667} <music21.note.Note C#>\n",
            "    {106.0} <music21.note.Note E->\n",
            "    {106.3333} <music21.note.Note F#>\n",
            "    {107.6667} <music21.note.Note B->\n",
            "    {108.6667} <music21.note.Note E->\n",
            "    {109.6667} <music21.note.Note E->\n",
            "    {110.6667} <music21.note.Note E->\n",
            "    {111.6667} <music21.note.Note E->\n",
            "    {117.6667} <music21.note.Note G#>\n",
            "    {118.6667} <music21.note.Note G#>\n",
            "    {119.6667} <music21.note.Note G#>\n",
            "    {174.3333} <music21.note.Note C#>\n",
            "    {175.3333} <music21.note.Note C#>\n",
            "    {178.3333} <music21.note.Note B>\n",
            "    {179.3333} <music21.note.Note B>\n",
            "    {183.3333} <music21.note.Note E>\n",
            "    {184.3333} <music21.note.Note F#>\n",
            "    {185.3333} <music21.note.Note F#>\n",
            "    {186.3333} <music21.note.Note F#>\n",
            "    {187.3333} <music21.note.Note F#>\n",
            "    {188.3333} <music21.note.Note E>\n",
            "    {189.3333} <music21.note.Note E>\n",
            "    {190.3333} <music21.note.Note F#>\n",
            "    {191.3333} <music21.note.Note E>\n",
            "    {192.3333} <music21.note.Note F#>\n",
            "    {193.3333} <music21.note.Note F#>\n",
            "    {194.3333} <music21.note.Note G#>\n",
            "    {195.3333} <music21.note.Note G#>\n",
            "    {196.3333} <music21.note.Note F#>\n",
            "    {197.3333} <music21.note.Note F#>\n",
            "    {198.3333} <music21.note.Note F#>\n",
            "    {199.3333} <music21.note.Note F#>\n",
            "    {200.3333} <music21.note.Note E>\n",
            "    {201.3333} <music21.note.Note E>\n",
            "    {202.3333} <music21.note.Note F>\n",
            "    {203.3333} <music21.note.Note F>\n",
            "    {204.3333} <music21.note.Note F#>\n",
            "    {205.3333} <music21.note.Note F#>\n",
            "    {206.0} <music21.note.Note C#>\n",
            "    {206.6667} <music21.note.Note A>\n",
            "    {207.3333} <music21.note.Note F#>\n",
            "    {208.3333} <music21.note.Note F>\n",
            "    {209.3333} <music21.note.Note F>\n",
            "    {210.3333} <music21.note.Note F>\n",
            "    {211.3333} <music21.note.Note F>\n",
            "    {212.3333} <music21.note.Note F#>\n",
            "    {213.3333} <music21.note.Note F#>\n",
            "    {214.0} <music21.note.Note C#>\n",
            "    {214.6667} <music21.note.Note A>\n",
            "    {215.3333} <music21.note.Note F#>\n",
            "    {216.3333} <music21.note.Note F>\n",
            "    {217.3333} <music21.note.Note F>\n",
            "    {218.3333} <music21.note.Note F#>\n",
            "    {219.3333} <music21.note.Note F#>\n",
            "    {220.3333} <music21.note.Note F#>\n",
            "    {221.3333} <music21.note.Note F#>\n",
            "    {222.3333} <music21.note.Note F#>\n",
            "    {223.3333} <music21.note.Note E>\n",
            "    {224.3333} <music21.note.Note E>\n",
            "    {225.3333} <music21.note.Note E->\n",
            "    {231.3333} <music21.note.Note C#>\n",
            "    {231.6667} <music21.note.Rest rest>\n",
            "{0.0} <music21.stream.Voice 0x7f8051826f10>\n",
            "    {97.6667} <music21.note.Note A>\n",
            "    {106.6667} <music21.note.Note A>\n",
            "    {206.3333} <music21.note.Note F#>\n",
            "    {214.3333} <music21.note.Note F#>\n",
            "{14.0} <music21.tempo.MetronomeMark largo Quarter=47.0>\n",
            "{14.3333} <music21.tempo.MetronomeMark largo Quarter=45.0>\n",
            "{14.6667} <music21.tempo.MetronomeMark largo Quarter=47.0>\n",
            "{16.0} <music21.tempo.MetronomeMark lento Quarter=50.0>\n",
            "{54.0} <music21.tempo.MetronomeMark largo Quarter=47.0>\n",
            "{54.3333} <music21.tempo.MetronomeMark largo Quarter=45.0>\n",
            "{54.6667} <music21.tempo.MetronomeMark largo Quarter=47.0>\n",
            "{56.0} <music21.tempo.MetronomeMark lento Quarter=50.0>\n",
            "{73.0} <music21.tempo.MetronomeMark largo Quarter=47.0>\n",
            "{73.3333} <music21.tempo.MetronomeMark largo Quarter=45.0>\n",
            "{73.6667} <music21.tempo.MetronomeMark largo Quarter=47.0>\n",
            "{75.0} <music21.tempo.MetronomeMark lento Quarter=50.0>\n",
            "{84.0} <music21.tempo.MetronomeMark largo Quarter=48.0>\n",
            "{85.0} <music21.tempo.MetronomeMark largo Quarter=46.0>\n",
            "{86.0} <music21.tempo.MetronomeMark Quarter=43.0>\n",
            "{87.0} <music21.tempo.MetronomeMark grave Quarter=42.0>\n",
            "{87.3333} <music21.tempo.MetronomeMark grave Quarter=41.0>\n",
            "{87.6667} <music21.tempo.MetronomeMark grave Quarter=40.0>\n",
            "{88.0} <music21.tempo.MetronomeMark lento Quarter=50.0>\n",
            "{146.0} <music21.tempo.MetronomeMark largo Quarter=47.0>\n",
            "{146.3333} <music21.tempo.MetronomeMark largo Quarter=45.0>\n",
            "{146.6667} <music21.tempo.MetronomeMark largo Quarter=47.0>\n",
            "{148.0} <music21.tempo.MetronomeMark lento Quarter=50.0>\n",
            "{152.6667} <music21.tempo.MetronomeMark largo Quarter=47.0>\n",
            "{153.0} <music21.tempo.MetronomeMark largo Quarter=45.0>\n",
            "{153.3333} <music21.tempo.MetronomeMark largo Quarter=47.0>\n",
            "{153.6667} <music21.tempo.MetronomeMark lento Quarter=50.0>\n",
            "{160.0} <music21.tempo.MetronomeMark largo Quarter=48.0>\n",
            "{161.0} <music21.tempo.MetronomeMark largo Quarter=45.0>\n",
            "{162.0} <music21.tempo.MetronomeMark grave Quarter=40.0>\n",
            "{163.0} <music21.tempo.MetronomeMark grave Quarter=38.0>\n",
            "{164.0} <music21.tempo.MetronomeMark largo Quarter=45.0>\n",
            "{165.6667} <music21.tempo.MetronomeMark largo Quarter=46.0>\n",
            "{166.0} <music21.tempo.MetronomeMark largo Quarter=47.0>\n",
            "{166.3333} <music21.tempo.MetronomeMark largo Quarter=48.0>\n",
            "{166.6667} <music21.tempo.MetronomeMark Quarter=49.0>\n",
            "{167.0} <music21.tempo.MetronomeMark lento Quarter=50.0>\n",
            "{230.0} <music21.tempo.MetronomeMark largo Quarter=47.0>\n",
            "{230.3333} <music21.tempo.MetronomeMark largo Quarter=45.0>\n",
            "{230.6667} <music21.tempo.MetronomeMark largo Quarter=47.0>\n",
            "{231.0} <music21.tempo.MetronomeMark lento Quarter=50.0>\n",
            "{235.0} <music21.tempo.MetronomeMark largo Quarter=47.0>\n",
            "{235.3333} <music21.tempo.MetronomeMark largo Quarter=45.0>\n",
            "{235.6667} <music21.tempo.MetronomeMark grave Quarter=42.0>\n",
            "{236.0} <music21.tempo.MetronomeMark largo Quarter=47.0>\n",
            "{244.0} <music21.tempo.MetronomeMark lento Quarter=50.0>\n",
            "{251.0} <music21.tempo.MetronomeMark largo Quarter=45.0>\n",
            "{251.3333} <music21.tempo.MetronomeMark grave Quarter=40.0>\n",
            "{251.6667} <music21.tempo.MetronomeMark Quarter=35.0>\n",
            "{252.0} <music21.tempo.MetronomeMark lento Quarter=50.0>\n",
            "{259.0} <music21.tempo.MetronomeMark largo Quarter=45.0>\n",
            "{259.3333} <music21.tempo.MetronomeMark grave Quarter=40.0>\n",
            "{259.6667} <music21.tempo.MetronomeMark Quarter=35.0>\n",
            "{260.0} <music21.tempo.MetronomeMark largo Quarter=45.0>\n",
            "{262.0} <music21.tempo.MetronomeMark grave Quarter=42.0>\n",
            "{264.0} <music21.tempo.MetronomeMark grave Quarter=40.0>\n",
            "{267.0} <music21.tempo.MetronomeMark Quarter=35.0>\n",
            "{267.3333} <music21.tempo.MetronomeMark largamente Quarter=32.0>\n",
            "{267.6667} <music21.tempo.MetronomeMark largamente Quarter=30.0>\n",
            "{268.0} <music21.tempo.MetronomeMark Quarter=25.0>\n"
          ]
        }
      ],
      "source": [
        "base_midi[0].show('text')"
      ]
    },
    {
      "cell_type": "code",
      "execution_count": null,
      "metadata": {
        "colab": {
          "base_uri": "https://localhost:8080/"
        },
        "id": "kCaMyrnRePpS",
        "outputId": "bb1738bf-f164-4c98-f17d-545e8d243931"
      },
      "outputs": [
        {
          "name": "stdout",
          "output_type": "stream",
          "text": [
            "{0.0} <music21.instrument.Piano Piano>\n",
            "{0.0} <music21.key.Key of C major>\n",
            "{0.0} <music21.meter.TimeSignature 4/4>\n",
            "{0.0} <music21.stream.Voice 0x7f805165c0d0>\n",
            "    {0.0} <music21.chord.Chord C#3 C#2>\n",
            "    {4.0} <music21.chord.Chord B2 B1>\n",
            "    {8.0} <music21.chord.Chord A2 A1>\n",
            "    {10.0} <music21.chord.Chord F#2 F#1>\n",
            "    {12.0} <music21.chord.Chord G#2 G#1>\n",
            "    {14.0} <music21.chord.Chord G#1 G#2>\n",
            "    {15.0} <music21.note.Note F#>\n",
            "    {16.0} <music21.note.Note E>\n",
            "    {16.3333} <music21.note.Note G#>\n",
            "    {17.0} <music21.note.Note G#>\n",
            "    {18.0} <music21.note.Note G#>\n",
            "    {19.0} <music21.note.Note G#>\n",
            "    {20.0} <music21.chord.Chord C3 G#2 C2>\n",
            "    {24.0} <music21.note.Note G#>\n",
            "    {25.0} <music21.note.Note G#>\n",
            "    {26.0} <music21.chord.Chord F#2 F#1>\n",
            "    {28.0} <music21.chord.Chord B2 B1>\n",
            "    {30.0} <music21.chord.Chord B1 B2>\n",
            "    {32.0} <music21.chord.Chord E2 E3>\n",
            "    {36.0} <music21.chord.Chord E2 E3>\n",
            "    {40.0} <music21.chord.Chord D3 D2>\n",
            "    {44.0} <music21.chord.Chord C2 C3>\n",
            "    {45.0} <music21.chord.Chord B2 B1>\n",
            "    {46.0} <music21.note.Note G>\n",
            "    {47.0} <music21.note.Note F#>\n",
            "    {48.0} <music21.chord.Chord B1 B2>\n",
            "    {50.0} <music21.note.Note G>\n",
            "    {51.0} <music21.note.Note G>\n",
            "    {52.0} <music21.note.Note F#>\n",
            "    {53.0} <music21.note.Note F#>\n",
            "    {54.0} <music21.chord.Chord F#2 F#1>\n",
            "    {56.0} <music21.chord.Chord B2 B1>\n",
            "    {61.0} <music21.chord.Chord E2 E3>\n",
            "    {62.0} <music21.chord.Chord G3 G2>\n",
            "    {63.0} <music21.chord.Chord E3 E2>\n",
            "    {64.0} <music21.chord.Chord B2 B1>\n",
            "    {69.0} <music21.chord.Chord E3 E2>\n",
            "    {70.0} <music21.chord.Chord G3 G2>\n",
            "    {71.0} <music21.chord.Chord E3 E2>\n",
            "    {72.0} <music21.chord.Chord B1 B2>\n",
            "    {74.0} <music21.chord.Chord G#2 G#1>\n",
            "    {76.0} <music21.chord.Chord F2 F1>\n",
            "    {78.0} <music21.chord.Chord F#2 F#1>\n",
            "    {80.0} <music21.chord.Chord B1 B2>\n",
            "    {82.0} <music21.note.Note F#>\n",
            "    {83.0} <music21.note.Note F#>\n",
            "    {84.0} <music21.note.Note C#>\n",
            "    {84.3333} <music21.note.Note F#>\n",
            "    {85.0} <music21.note.Note C#>\n",
            "    {85.3333} <music21.note.Note F#>\n",
            "    {86.0} <music21.note.Note C#>\n",
            "    {86.3333} <music21.note.Note F#>\n",
            "    {87.0} <music21.chord.Chord C#3 C#2>\n",
            "    {87.3333} <music21.note.Note F>\n",
            "    {88.0} <music21.note.Note F#>\n",
            "    {92.0} <music21.chord.Chord F3 F2 C#3>\n",
            "    {96.0} <music21.chord.Chord F#2 F#3>\n",
            "    {98.0} <music21.chord.Chord E-2 E-3>\n",
            "    {99.0} <music21.chord.Chord C#3 C#2>\n",
            "    {100.0} <music21.chord.Chord C2 C3 G#2>\n",
            "    {103.0} <music21.chord.Chord G#2 C3 C2>\n",
            "    {104.0} <music21.chord.Chord C#3 G#2 C#2>\n",
            "    {106.0} <music21.chord.Chord F#2 F#1>\n",
            "    {107.0} <music21.chord.Chord G2 G1>\n",
            "    {108.0} <music21.chord.Chord G#1 G#2>\n",
            "    {112.0} <music21.chord.Chord G#2 G#1>\n",
            "    {116.0} <music21.chord.Chord G#1 G#2>\n",
            "    {120.0} <music21.chord.Chord G#2 G#1>\n",
            "    {124.0} <music21.note.Note E->\n",
            "    {124.6667} <music21.note.Note F#>\n",
            "    {128.0} <music21.chord.Chord G#2 G#1>\n",
            "    {132.0} <music21.chord.Chord G#1 G#2>\n",
            "    {136.0} <music21.chord.Chord G#1 G#2>\n",
            "    {148.0} <music21.chord.Chord G#2 G#1>\n",
            "    {152.0} <music21.chord.Chord G#1 G#2>\n",
            "    {156.0} <music21.chord.Chord G#2 G#1 C3>\n",
            "    {158.0} <music21.chord.Chord A2 A1>\n",
            "    {160.0} <music21.chord.Chord F#1 F#2>\n",
            "    {162.0} <music21.chord.Chord G#1 G#2>\n",
            "    {164.0} <music21.chord.Chord C#3 G#2 C#2>\n",
            "    {168.0} <music21.chord.Chord C2 C3 G#2>\n",
            "    {172.0} <music21.chord.Chord C#2 C#3>\n",
            "    {174.0} <music21.chord.Chord F#2 F#1>\n",
            "    {176.0} <music21.chord.Chord B2 B1>\n",
            "    {178.0} <music21.chord.Chord B1 B2>\n",
            "    {180.0} <music21.chord.Chord E2 E3>\n",
            "    {184.0} <music21.chord.Chord E-3 E-2>\n",
            "    {188.0} <music21.chord.Chord E3 E2>\n",
            "    {190.0} <music21.chord.Chord E-2 E-3>\n",
            "    {191.0} <music21.chord.Chord C#2 C#3>\n",
            "    {192.0} <music21.chord.Chord G#2 C3 C2>\n",
            "    {194.0} <music21.chord.Chord C#2 C#3 G#2>\n",
            "    {196.0} <music21.chord.Chord F#2 F#1>\n",
            "    {198.0} <music21.chord.Chord G#1 G#2>\n",
            "    {200.0} <music21.chord.Chord C#3 C#2>\n",
            "    {205.0} <music21.chord.Chord F#2 F#3>\n",
            "    {206.0} <music21.note.Note A>\n",
            "    {207.0} <music21.chord.Chord F#2 F#3>\n",
            "    {208.0} <music21.chord.Chord C#3 C#2>\n",
            "    {213.0} <music21.chord.Chord F#3 F#2>\n",
            "    {214.0} <music21.note.Note A>\n",
            "    {215.0} <music21.chord.Chord F#2 F#3>\n",
            "    {216.0} <music21.chord.Chord C#2 C#3>\n",
            "    {218.0} <music21.chord.Chord F#2 F#1>\n",
            "    {220.0} <music21.chord.Chord E-2 E-3>\n",
            "    {223.0} <music21.chord.Chord E2 E3>\n",
            "    {224.0} <music21.chord.Chord C#2 C#3>\n",
            "    {225.0} <music21.chord.Chord E-3 E-2>\n",
            "    {226.0} <music21.chord.Chord C2 C3>\n",
            "    {227.0} <music21.note.Note G#>\n",
            "    {228.0} <music21.note.Note F#>\n",
            "    {229.0} <music21.note.Note F#>\n",
            "    {230.0} <music21.chord.Chord G#1 G#2>\n",
            "    {231.0} <music21.chord.Chord F#1 F#2>\n",
            "    {232.0} <music21.chord.Chord G#1 G#2>\n",
            "    {234.0} <music21.note.Note F#>\n",
            "    {235.0} <music21.note.Note F#>\n",
            "    {236.0} <music21.note.Note G#>\n",
            "    {239.0} <music21.note.Note G#>\n",
            "    {239.75} <music21.note.Note G#>\n",
            "    {240.0} <music21.note.Note C>\n",
            "    {244.0} <music21.note.Note G#>\n",
            "    {247.0} <music21.note.Note G#>\n",
            "    {247.75} <music21.note.Note G#>\n",
            "    {248.0} <music21.chord.Chord G#1 G#2>\n",
            "    {251.0} <music21.note.Note G#>\n",
            "    {251.75} <music21.note.Note G#>\n",
            "    {252.0} <music21.note.Note E>\n",
            "    {255.0} <music21.note.Note G#>\n",
            "    {255.75} <music21.note.Note G#>\n",
            "    {256.0} <music21.chord.Chord G#1 G#2>\n",
            "    {259.0} <music21.note.Note G#>\n",
            "    {259.75} <music21.note.Note G#>\n",
            "    {260.0} <music21.note.Note G#>\n",
            "    {262.0} <music21.note.Note C#>\n",
            "    {264.0} <music21.note.Note G#>\n",
            "    {265.0} <music21.note.Note G#>\n",
            "    {265.3333} <music21.note.Note E>\n",
            "    {266.0} <music21.note.Note G#>\n",
            "    {266.3333} <music21.note.Note C#>\n",
            "    {267.0} <music21.note.Note E>\n",
            "    {267.3333} <music21.note.Note G#>\n",
            "    {268.0} <music21.note.Note C#>\n",
            "    {270.0} <music21.chord.Chord C#2 G#2 C#3 E3 G#3>\n",
            "    {272.0} <music21.chord.Chord C#2 C#3 G#2 E3 G#3>\n",
            "{0.0} <music21.stream.Voice 0x7f805166f610>\n",
            "    {0.0} <music21.note.Note G#>\n",
            "    {0.3333} <music21.note.Rest rest>\n",
            "    {1.0} <music21.note.Note G#>\n",
            "    {2.0} <music21.note.Note G#>\n",
            "    {3.0} <music21.note.Note G#>\n",
            "    {4.0} <music21.note.Note G#>\n",
            "    {4.0} <music21.note.Rest rest>\n",
            "    {5.0} <music21.note.Note G#>\n",
            "    {6.0} <music21.note.Note G#>\n",
            "    {7.0} <music21.note.Note G#>\n",
            "    {12.0} <music21.note.Note G#>\n",
            "    {13.0} <music21.note.Note G#>\n",
            "    {14.0} <music21.note.Note G#>\n",
            "    {16.0} <music21.chord.Chord G#2 C#2 C#3>\n",
            "    {20.0} <music21.note.Note G#>\n",
            "    {21.0} <music21.note.Note G#>\n",
            "    {22.0} <music21.note.Note G#>\n",
            "    {23.0} <music21.note.Note G#>\n",
            "    {24.0} <music21.chord.Chord C#3 C#2>\n",
            "    {28.0} <music21.note.Note G#>\n",
            "    {29.0} <music21.note.Note G#>\n",
            "    {32.0} <music21.note.Note G#>\n",
            "    {33.0} <music21.note.Note G#>\n",
            "    {34.0} <music21.note.Note G#>\n",
            "    {35.0} <music21.note.Note G#>\n",
            "    {36.0} <music21.note.Note G>\n",
            "    {37.0} <music21.note.Note G>\n",
            "    {38.0} <music21.note.Note G>\n",
            "    {39.0} <music21.note.Note G>\n",
            "    {40.0} <music21.note.Note G>\n",
            "    {41.0} <music21.note.Note G>\n",
            "    {42.0} <music21.note.Note G>\n",
            "    {43.0} <music21.note.Note G>\n",
            "    {44.0} <music21.note.Note G>\n",
            "    {45.0} <music21.note.Note G>\n",
            "    {46.0} <music21.chord.Chord B-2 B-1>\n",
            "    {48.0} <music21.note.Note F#>\n",
            "    {49.0} <music21.note.Note F#>\n",
            "    {50.0} <music21.note.Note E>\n",
            "    {51.0} <music21.note.Note E>\n",
            "    {52.0} <music21.note.Note F#>\n",
            "    {54.0} <music21.note.Note F#>\n",
            "    {55.0} <music21.note.Note F#>\n",
            "    {80.0} <music21.note.Note G>\n",
            "    {81.0} <music21.note.Note G>\n",
            "    {82.0} <music21.chord.Chord C2 C3>\n",
            "    {84.0} <music21.note.Note C#>\n",
            "    {86.0} <music21.note.Note C#>\n",
            "    {87.6667} <music21.note.Note G#>\n",
            "    {88.0} <music21.chord.Chord F#1 C#2 F#2>\n",
            "    {112.3333} <music21.note.Note C>\n",
            "    {113.0} <music21.note.Note G#>\n",
            "    {114.3333} <music21.note.Note C>\n",
            "    {115.0} <music21.note.Note F#>\n",
            "    {116.0} <music21.note.Note E>\n",
            "    {120.3333} <music21.note.Note E>\n",
            "    {121.3333} <music21.note.Note E>\n",
            "    {122.3333} <music21.note.Note E>\n",
            "    {123.3333} <music21.note.Note E>\n",
            "    {124.0} <music21.chord.Chord G#1 G#2>\n",
            "    {128.0} <music21.note.Note E>\n",
            "    {128.6667} <music21.note.Note G#>\n",
            "    {145.6667} <music21.note.Note F#>\n",
            "    {146.3333} <music21.note.Note E->\n",
            "    {147.0} <music21.note.Note C#>\n",
            "    {148.0} <music21.note.Note C>\n",
            "    {150.0} <music21.note.Note E->\n",
            "    {151.0} <music21.note.Note C#>\n",
            "    {152.0} <music21.note.Note C>\n",
            "    {154.0} <music21.note.Note D>\n",
            "    {155.0} <music21.note.Note C#>\n",
            "    {156.3333} <music21.note.Note F#>\n",
            "    {156.6667} <music21.note.Note G#>\n",
            "    {157.3333} <music21.note.Note G#>\n",
            "    {157.6667} <music21.note.Note F#>\n",
            "    {158.0} <music21.note.Note C#>\n",
            "    {159.0} <music21.note.Note C#>\n",
            "    {160.0} <music21.note.Note E->\n",
            "    {161.0} <music21.note.Note E->\n",
            "    {162.0} <music21.note.Note E->\n",
            "    {163.0} <music21.note.Note E->\n",
            "    {164.0} <music21.note.Note E>\n",
            "    {165.0} <music21.note.Note G#>\n",
            "    {166.0} <music21.note.Note G#>\n",
            "    {167.0} <music21.note.Note G#>\n",
            "    {168.0} <music21.note.Note G#>\n",
            "    {169.0} <music21.note.Note G#>\n",
            "    {170.0} <music21.note.Note G#>\n",
            "    {171.0} <music21.note.Note G#>\n",
            "    {172.0} <music21.note.Note G#>\n",
            "    {173.0} <music21.note.Note G#>\n",
            "    {176.0} <music21.note.Note G#>\n",
            "    {177.0} <music21.note.Note G#>\n",
            "    {180.0} <music21.note.Note G#>\n",
            "    {226.0} <music21.note.Note G#>\n",
            "    {227.0} <music21.chord.Chord C#3 C#2>\n",
            "    {228.0} <music21.chord.Chord A2 A1>\n",
            "    {230.0} <music21.note.Note G#>\n",
            "    {232.0} <music21.note.Note G#>\n",
            "    {233.0} <music21.note.Note G#>\n",
            "    {234.0} <music21.chord.Chord G#1 G#2>\n",
            "    {236.0} <music21.note.Note E>\n",
            "    {237.0} <music21.note.Note G#>\n",
            "    {238.0} <music21.note.Note G#>\n",
            "    {239.0} <music21.note.Note G#>\n",
            "    {240.0} <music21.note.Note G#>\n",
            "    {243.0} <music21.note.Note G#>\n",
            "    {243.75} <music21.note.Note G#>\n",
            "    {244.0} <music21.note.Note G#>\n",
            "    {251.3333} <music21.note.Note G#>\n",
            "    {251.6667} <music21.note.Note F#>\n",
            "    {252.0} <music21.chord.Chord C#2 G#2>\n",
            "    {259.3333} <music21.note.Note G#>\n",
            "    {260.0} <music21.note.Note E>\n",
            "    {260.3333} <music21.note.Note G#>\n",
            "    {261.6667} <music21.note.Note G#>\n",
            "    {262.3333} <music21.note.Note E>\n",
            "    {263.3333} <music21.note.Note G#>\n",
            "    {264.3333} <music21.note.Note C#>\n",
            "    {265.6667} <music21.note.Note C#>\n",
            "    {266.6667} <music21.note.Note G#>\n",
            "    {267.6667} <music21.note.Note E>\n",
            "    {268.0} <music21.note.Rest rest>\n",
            "{0.0} <music21.stream.Voice 0x7f805166f640>\n",
            "    {0.0} <music21.note.Rest rest>\n",
            "    {86.6667} <music21.note.Note G#>\n",
            "    {86.6667} <music21.note.Rest rest>\n",
            "    {112.6667} <music21.note.Note E->\n",
            "    {113.3333} <music21.note.Note C>\n",
            "    {114.6667} <music21.note.Note E->\n",
            "    {115.3333} <music21.note.Note C>\n",
            "    {120.6667} <music21.note.Note G#>\n",
            "    {121.6667} <music21.note.Note G#>\n",
            "    {122.6667} <music21.note.Note G#>\n",
            "    {123.6667} <music21.note.Note G#>\n",
            "    {146.6667} <music21.note.Note F#>\n",
            "    {147.3333} <music21.note.Note F#>\n",
            "    {148.3333} <music21.note.Note F#>\n",
            "    {148.6667} <music21.note.Note G#>\n",
            "    {149.3333} <music21.note.Note G#>\n",
            "    {149.6667} <music21.note.Note F#>\n",
            "    {150.3333} <music21.note.Note F#>\n",
            "    {151.3333} <music21.note.Note F#>\n",
            "    {152.3333} <music21.note.Note F#>\n",
            "    {152.6667} <music21.note.Note G#>\n",
            "    {153.3333} <music21.note.Note G#>\n",
            "    {153.6667} <music21.note.Note F#>\n",
            "    {154.3333} <music21.note.Note F#>\n",
            "    {155.3333} <music21.note.Note F#>\n",
            "    {158.3333} <music21.note.Note E>\n",
            "    {159.3333} <music21.note.Note E>\n",
            "    {162.3333} <music21.note.Note G#>\n",
            "    {163.3333} <music21.note.Note F#>\n",
            "    {164.3333} <music21.note.Note G#>\n",
            "    {236.0} <music21.note.Note C#>\n",
            "    {240.0} <music21.note.Note G#>\n",
            "    {241.0} <music21.note.Note G#>\n",
            "    {242.0} <music21.note.Note G#>\n",
            "    {243.0} <music21.note.Note G#>\n",
            "    {244.0} <music21.note.Note C#>\n",
            "    {259.6667} <music21.note.Note F#>\n",
            "    {260.0} <music21.note.Note C#>\n",
            "    {268.0} <music21.note.Rest rest>\n",
            "{0.0} <music21.stream.Voice 0x7f805166f670>\n",
            "    {113.6667} <music21.note.Note E->\n",
            "    {115.6667} <music21.note.Note E->\n",
            "    {236.3333} <music21.note.Note G#>\n",
            "    {262.6667} <music21.note.Note G#>\n",
            "    {263.6667} <music21.note.Note E>\n",
            "    {264.6667} <music21.note.Note E>\n"
          ]
        }
      ],
      "source": [
        "base_midi[1].show('text')"
      ]
    },
    {
      "cell_type": "code",
      "execution_count": null,
      "metadata": {
        "id": "yEHdOTxDsQGu"
      },
      "outputs": [],
      "source": [
        "from music21 import search"
      ]
    },
    {
      "cell_type": "markdown",
      "metadata": {
        "id": "di0ElDFAZli4"
      },
      "source": [
        "music21 implements a hierarchical structure of containers including: Scores, Parts, and Measures. Most of the iterating read-only properties (including .notes) respect that hierarchy by not arbitrarily descending it. music21 then provides the read-only property .flat to flatten that hierarchy into just the leaf-type objects (notes and rests)"
      ]
    },
    {
      "cell_type": "code",
      "execution_count": null,
      "metadata": {
        "colab": {
          "base_uri": "https://localhost:8080/"
        },
        "id": "fPwCwswXEbtT",
        "outputId": "e6cbb838-1927-40b9-db84-07ce795c8481"
      },
      "outputs": [
        {
          "data": {
            "text/plain": [
              "<music21.stream.iterator.StreamIterator for Score:0x7f80b9666250_flat @:11>"
            ]
          },
          "execution_count": 11,
          "metadata": {},
          "output_type": "execute_result"
        }
      ],
      "source": [
        "base_midi.flat.notes"
      ]
    },
    {
      "cell_type": "markdown",
      "metadata": {
        "id": "umAy1ykeajvN"
      },
      "source": [
        "In music theory, duration is the time a note lasts for (often measured in beats) and \"measure\" is the (US English) name of a metrical division containing some number of beats (made of notes and/or rests) determined by the current time signature in operation. In notation, measures are delimited on the staff by vertical lines."
      ]
    },
    {
      "cell_type": "code",
      "execution_count": null,
      "metadata": {
        "id": "Q2oNRXiKakV5"
      },
      "outputs": [],
      "source": [
        "# for n in base_midi.recurse().notes: // flat\n",
        "#     print (\"Note: %s%d %0.1f\" % (n.pitch.name, n.pitch.octave, n.duration.quarterLength))\n"
      ]
    },
    {
      "cell_type": "code",
      "execution_count": null,
      "metadata": {
        "id": "bDmbldnsFdYQ"
      },
      "outputs": [],
      "source": [
        "# base_midi.makeNotation().show()"
      ]
    },
    {
      "cell_type": "markdown",
      "metadata": {
        "id": "idmHE7vVH1T4"
      },
      "source": [
        "The **offset** property sets or returns the position of this object as a float or fractions.Fraction value (generally in quarterLengths), depending on what is representable.\n",
        "\n",
        "Offsets are measured from the start of the object’s activeSite, that is, the most recently referenced Stream or Stream subclass such as Part, Measure, or Voice."
      ]
    },
    {
      "cell_type": "markdown",
      "metadata": {
        "id": "kJsp2CDJHDEM"
      },
      "source": [
        "Return the metrical accent of this object in the most recently positioned Measure. Accent values are between zero and one, and are derived from the local TimeSignature’s accent MeterSequence weights. If the offset of this object does not match a defined accent weight, a minimum accent weight will be returned:"
      ]
    },
    {
      "cell_type": "code",
      "execution_count": null,
      "metadata": {
        "colab": {
          "base_uri": "https://localhost:8080/"
        },
        "id": "TelrL4LLtlzo",
        "outputId": "e0bca943-7245-40ac-b95c-331396074533"
      },
      "outputs": [
        {
          "name": "stdout",
          "output_type": "stream",
          "text": [
            "0.33  beat strength:  0.0625\n",
            "0.67  beat strength:  0.0625\n",
            "1.33  beat strength:  0.0625\n",
            "2.33  beat strength:  0.0625\n",
            "2.67  beat strength:  0.0625\n",
            "3.33  beat strength:  0.0625\n",
            "3.67  beat strength:  0.0625\n",
            "4.33  beat strength:  0.0625\n",
            "5.33  beat strength:  0.0625\n",
            "6.33  beat strength:  0.0625\n",
            "7.33  beat strength:  0.0625\n",
            "8.00  beat strength:  1.0\n",
            "8.67  beat strength:  0.0625\n",
            "9.00  beat strength:  0.25\n",
            "9.67  beat strength:  0.0625\n",
            "10.00  beat strength:  0.5\n",
            "10.67  beat strength:  0.0625\n",
            "11.00  beat strength:  0.25\n",
            "11.67  beat strength:  0.0625\n",
            "12.33  beat strength:  0.0625\n",
            "12.67  beat strength:  0.0625\n",
            "13.33  beat strength:  0.0625\n",
            "13.67  beat strength:  0.0625\n",
            "14.33  beat strength:  0.0625\n",
            "14.67  beat strength:  0.0625\n",
            "15.33  beat strength:  0.0625\n",
            "15.67  beat strength:  0.0625\n",
            "16.67  beat strength:  0.0625\n",
            "17.33  beat strength:  0.0625\n",
            "18.33  beat strength:  0.0625\n",
            "19.00  beat strength:  0.25\n",
            "19.75  beat strength:  0.0625\n",
            "20.00  beat strength:  1.0\n",
            "23.00  beat strength:  0.25\n",
            "23.75  beat strength:  0.0625\n",
            "24.00  beat strength:  1.0\n",
            "26.00  beat strength:  0.5\n",
            "28.00  beat strength:  1.0\n",
            "30.00  beat strength:  0.5\n",
            "30.67  beat strength:  0.0625\n",
            "31.00  beat strength:  0.25\n",
            "31.00  beat strength:  0.25\n",
            "32.00  beat strength:  1.0\n",
            "33.33  beat strength:  0.0625\n",
            "33.67  beat strength:  0.0625\n",
            "34.33  beat strength:  0.0625\n",
            "34.67  beat strength:  0.0625\n",
            "35.33  beat strength:  0.0625\n",
            "35.67  beat strength:  0.0625\n",
            "36.33  beat strength:  0.0625\n",
            "36.67  beat strength:  0.0625\n",
            "37.33  beat strength:  0.0625\n",
            "37.67  beat strength:  0.0625\n",
            "38.33  beat strength:  0.0625\n",
            "38.67  beat strength:  0.0625\n",
            "39.00  beat strength:  0.25\n",
            "39.75  beat strength:  0.0625\n",
            "40.00  beat strength:  1.0\n",
            "43.00  beat strength:  0.25\n",
            "43.75  beat strength:  0.0625\n",
            "44.00  beat strength:  1.0\n",
            "47.00  beat strength:  0.25\n",
            "48.00  beat strength:  1.0\n",
            "50.00  beat strength:  0.5\n",
            "51.00  beat strength:  0.25\n",
            "52.00  beat strength:  1.0\n",
            "54.00  beat strength:  0.5\n",
            "56.00  beat strength:  1.0\n",
            "56.67  beat strength:  0.0625\n",
            "57.00  beat strength:  0.25\n",
            "57.67  beat strength:  0.0625\n",
            "58.00  beat strength:  0.5\n",
            "58.67  beat strength:  0.0625\n",
            "59.00  beat strength:  0.25\n",
            "60.00  beat strength:  1.0\n",
            "60.67  beat strength:  0.0625\n",
            "61.00  beat strength:  0.25\n",
            "62.00  beat strength:  0.5\n",
            "62.67  beat strength:  0.0625\n",
            "63.00  beat strength:  0.25\n",
            "64.00  beat strength:  1.0\n",
            "67.00  beat strength:  0.25\n",
            "67.33  beat strength:  0.0625\n",
            "68.00  beat strength:  1.0\n",
            "68.33  beat strength:  0.0625\n",
            "69.00  beat strength:  0.25\n",
            "69.33  beat strength:  0.0625\n",
            "70.00  beat strength:  0.5\n",
            "70.33  beat strength:  0.0625\n",
            "71.00  beat strength:  0.25\n",
            "71.33  beat strength:  0.0625\n",
            "72.00  beat strength:  1.0\n",
            "74.00  beat strength:  0.5\n",
            "74.33  beat strength:  0.0625\n",
            "75.00  beat strength:  0.25\n",
            "75.33  beat strength:  0.0625\n",
            "76.00  beat strength:  1.0\n",
            "76.33  beat strength:  0.0625\n",
            "77.00  beat strength:  0.25\n",
            "77.33  beat strength:  0.0625\n",
            "78.00  beat strength:  0.5\n",
            "80.00  beat strength:  1.0\n",
            "82.00  beat strength:  0.5\n",
            "84.00  beat strength:  1.0\n",
            "86.00  beat strength:  0.5\n",
            "87.00  beat strength:  0.25\n",
            "88.33  beat strength:  0.0625\n",
            "89.00  beat strength:  0.25\n",
            "89.33  beat strength:  0.0625\n",
            "90.00  beat strength:  0.5\n",
            "90.33  beat strength:  0.0625\n",
            "91.00  beat strength:  0.25\n",
            "91.33  beat strength:  0.0625\n",
            "91.75  beat strength:  0.0625\n",
            "92.00  beat strength:  1.0\n",
            "94.00  beat strength:  0.5\n",
            "94.33  beat strength:  0.0625\n",
            "95.00  beat strength:  0.25\n",
            "95.75  beat strength:  0.0625\n",
            "96.00  beat strength:  1.0\n",
            "98.00  beat strength:  0.5\n",
            "98.33  beat strength:  0.0625\n",
            "99.00  beat strength:  0.25\n",
            "100.00  beat strength:  1.0\n",
            "100.33  beat strength:  0.0625\n",
            "101.00  beat strength:  0.25\n",
            "101.33  beat strength:  0.0625\n",
            "102.00  beat strength:  0.5\n",
            "102.33  beat strength:  0.0625\n",
            "103.00  beat strength:  0.25\n",
            "104.00  beat strength:  1.0\n",
            "107.00  beat strength:  0.25\n",
            "108.00  beat strength:  1.0\n",
            "109.00  beat strength:  0.25\n",
            "110.00  beat strength:  0.5\n",
            "111.00  beat strength:  0.25\n",
            "114.00  beat strength:  0.5\n",
            "116.33  beat strength:  0.0625\n",
            "117.00  beat strength:  0.25\n",
            "118.00  beat strength:  0.5\n",
            "119.00  beat strength:  0.25\n",
            "121.00  beat strength:  0.25\n",
            "122.00  beat strength:  0.5\n",
            "123.00  beat strength:  0.25\n",
            "124.33  beat strength:  0.0625\n",
            "125.00  beat strength:  0.25\n",
            "125.33  beat strength:  0.0625\n",
            "126.00  beat strength:  0.5\n",
            "126.33  beat strength:  0.0625\n",
            "127.00  beat strength:  0.25\n",
            "127.33  beat strength:  0.0625\n",
            "128.33  beat strength:  0.0625\n",
            "129.00  beat strength:  0.25\n",
            "129.67  beat strength:  0.0625\n",
            "130.00  beat strength:  0.5\n",
            "130.67  beat strength:  0.0625\n",
            "131.00  beat strength:  0.25\n",
            "131.67  beat strength:  0.0625\n",
            "132.00  beat strength:  1.0\n",
            "132.67  beat strength:  0.0625\n",
            "133.00  beat strength:  0.25\n",
            "133.67  beat strength:  0.0625\n",
            "134.00  beat strength:  0.5\n",
            "134.67  beat strength:  0.0625\n",
            "135.00  beat strength:  0.25\n",
            "135.67  beat strength:  0.0625\n",
            "136.00  beat strength:  1.0\n",
            "136.67  beat strength:  0.0625\n",
            "137.00  beat strength:  0.25\n",
            "137.67  beat strength:  0.0625\n",
            "138.00  beat strength:  0.5\n",
            "138.67  beat strength:  0.0625\n",
            "139.00  beat strength:  0.25\n",
            "139.67  beat strength:  0.0625\n",
            "140.00  beat strength:  1.0\n",
            "140.67  beat strength:  0.0625\n",
            "141.00  beat strength:  0.25\n",
            "141.67  beat strength:  0.0625\n",
            "142.00  beat strength:  0.5\n",
            "142.67  beat strength:  0.0625\n",
            "143.00  beat strength:  0.25\n",
            "143.67  beat strength:  0.0625\n",
            "144.00  beat strength:  1.0\n",
            "144.67  beat strength:  0.0625\n",
            "145.00  beat strength:  0.25\n",
            "146.00  beat strength:  0.5\n",
            "147.67  beat strength:  0.0625\n",
            "149.00  beat strength:  0.25\n",
            "150.67  beat strength:  0.0625\n",
            "151.67  beat strength:  0.0625\n",
            "153.00  beat strength:  0.25\n",
            "154.67  beat strength:  0.0625\n",
            "155.67  beat strength:  0.0625\n",
            "157.00  beat strength:  0.25\n",
            "158.67  beat strength:  0.0625\n",
            "159.67  beat strength:  0.0625\n",
            "160.33  beat strength:  0.0625\n",
            "160.67  beat strength:  0.0625\n",
            "161.33  beat strength:  0.0625\n",
            "161.67  beat strength:  0.0625\n",
            "162.67  beat strength:  0.0625\n",
            "163.67  beat strength:  0.0625\n",
            "164.67  beat strength:  0.0625\n",
            "165.33  beat strength:  0.0625\n",
            "165.67  beat strength:  0.0625\n",
            "166.33  beat strength:  0.0625\n",
            "166.67  beat strength:  0.0625\n",
            "167.00  beat strength:  0.25\n",
            "168.00  beat strength:  1.0\n",
            "171.00  beat strength:  0.25\n",
            "171.75  beat strength:  0.0625\n",
            "172.00  beat strength:  1.0\n",
            "174.00  beat strength:  0.5\n",
            "176.00  beat strength:  1.0\n",
            "178.00  beat strength:  0.5\n",
            "178.67  beat strength:  0.0625\n",
            "179.00  beat strength:  0.25\n",
            "179.67  beat strength:  0.0625\n",
            "180.00  beat strength:  1.0\n",
            "180.67  beat strength:  0.0625\n",
            "181.00  beat strength:  0.25\n",
            "181.67  beat strength:  0.0625\n",
            "182.00  beat strength:  0.5\n",
            "182.67  beat strength:  0.0625\n",
            "183.00  beat strength:  0.25\n",
            "183.75  beat strength:  0.0625\n",
            "184.00  beat strength:  1.0\n",
            "187.00  beat strength:  0.25\n",
            "187.67  beat strength:  0.0625\n",
            "188.00  beat strength:  1.0\n",
            "190.00  beat strength:  0.5\n",
            "190.67  beat strength:  0.0625\n",
            "191.00  beat strength:  0.25\n",
            "191.67  beat strength:  0.0625\n",
            "192.00  beat strength:  1.0\n",
            "192.67  beat strength:  0.0625\n",
            "193.00  beat strength:  0.25\n",
            "193.67  beat strength:  0.0625\n",
            "194.00  beat strength:  0.5\n",
            "194.67  beat strength:  0.0625\n",
            "195.00  beat strength:  0.25\n",
            "195.67  beat strength:  0.0625\n",
            "196.00  beat strength:  1.0\n",
            "196.67  beat strength:  0.0625\n",
            "197.00  beat strength:  0.25\n",
            "197.67  beat strength:  0.0625\n",
            "198.00  beat strength:  0.5\n",
            "200.00  beat strength:  1.0\n",
            "203.00  beat strength:  0.25\n",
            "203.67  beat strength:  0.0625\n",
            "204.00  beat strength:  1.0\n",
            "204.67  beat strength:  0.0625\n",
            "205.00  beat strength:  0.25\n",
            "205.67  beat strength:  0.0625\n",
            "206.00  beat strength:  0.5\n",
            "207.00  beat strength:  0.25\n",
            "207.67  beat strength:  0.0625\n",
            "208.00  beat strength:  1.0\n",
            "211.00  beat strength:  0.25\n",
            "211.67  beat strength:  0.0625\n",
            "212.00  beat strength:  1.0\n",
            "212.67  beat strength:  0.0625\n",
            "213.00  beat strength:  0.25\n",
            "213.67  beat strength:  0.0625\n",
            "214.00  beat strength:  0.5\n",
            "215.00  beat strength:  0.25\n",
            "215.67  beat strength:  0.0625\n",
            "216.00  beat strength:  1.0\n",
            "218.00  beat strength:  0.5\n",
            "218.67  beat strength:  0.0625\n",
            "219.00  beat strength:  0.25\n",
            "219.67  beat strength:  0.0625\n",
            "220.00  beat strength:  1.0\n",
            "223.00  beat strength:  0.25\n",
            "223.67  beat strength:  0.0625\n",
            "224.00  beat strength:  1.0\n",
            "224.67  beat strength:  0.0625\n",
            "225.00  beat strength:  0.25\n",
            "225.67  beat strength:  0.0625\n",
            "226.00  beat strength:  0.5\n",
            "227.00  beat strength:  0.25\n",
            "228.00  beat strength:  1.0\n",
            "230.00  beat strength:  0.5\n",
            "231.00  beat strength:  0.25\n",
            "232.00  beat strength:  1.0\n",
            "234.00  beat strength:  0.5\n",
            "235.33  beat strength:  0.0625\n",
            "235.67  beat strength:  0.0625\n",
            "236.00  beat strength:  1.0\n",
            "237.33  beat strength:  0.0625\n",
            "237.67  beat strength:  0.0625\n",
            "238.33  beat strength:  0.0625\n",
            "238.67  beat strength:  0.0625\n",
            "239.33  beat strength:  0.0625\n",
            "239.67  beat strength:  0.0625\n",
            "240.33  beat strength:  0.0625\n",
            "240.67  beat strength:  0.0625\n",
            "241.33  beat strength:  0.0625\n",
            "241.67  beat strength:  0.0625\n",
            "242.33  beat strength:  0.0625\n",
            "242.67  beat strength:  0.0625\n",
            "243.33  beat strength:  0.0625\n",
            "243.67  beat strength:  0.0625\n",
            "244.33  beat strength:  0.0625\n",
            "244.67  beat strength:  0.0625\n",
            "245.00  beat strength:  0.25\n",
            "245.67  beat strength:  0.0625\n",
            "246.00  beat strength:  0.5\n",
            "246.67  beat strength:  0.0625\n",
            "247.00  beat strength:  0.25\n",
            "247.67  beat strength:  0.0625\n",
            "248.00  beat strength:  1.0\n",
            "248.67  beat strength:  0.0625\n",
            "249.00  beat strength:  0.25\n",
            "249.67  beat strength:  0.0625\n",
            "250.00  beat strength:  0.5\n",
            "250.67  beat strength:  0.0625\n",
            "251.00  beat strength:  0.25\n",
            "252.00  beat strength:  1.0\n",
            "252.67  beat strength:  0.0625\n",
            "253.00  beat strength:  0.25\n",
            "253.67  beat strength:  0.0625\n",
            "254.00  beat strength:  0.5\n",
            "254.67  beat strength:  0.0625\n",
            "255.00  beat strength:  0.25\n",
            "255.67  beat strength:  0.0625\n",
            "256.00  beat strength:  1.0\n",
            "256.33  beat strength:  0.0625\n",
            "257.00  beat strength:  0.25\n",
            "257.33  beat strength:  0.0625\n",
            "258.00  beat strength:  0.5\n",
            "258.33  beat strength:  0.0625\n",
            "259.00  beat strength:  0.25\n",
            "260.00  beat strength:  1.0\n",
            "261.00  beat strength:  0.25\n",
            "261.33  beat strength:  0.0625\n",
            "263.00  beat strength:  0.25\n",
            "270.00  beat strength:  0.5\n",
            "272.00  beat strength:  1.0\n"
          ]
        }
      ],
      "source": [
        "beatTime = []\n",
        "for el in base_midi[0][4].notes:\n",
        "  st = el.beatStrength\n",
        "  dur = el.beatDuration\n",
        "  if st == 1.0:\n",
        "    beatTime.append(\"%.2f\" % float(el.offset))\n",
        "  print(\"%.2f\" % float(el.offset),' beat strength: ', st)\n",
        "\n",
        "# for n in base_midi.notes:\n",
        "#    print(n.beat)"
      ]
    },
    {
      "cell_type": "code",
      "execution_count": null,
      "metadata": {
        "id": "eyQtBB-eIhI_"
      },
      "outputs": [],
      "source": [
        "beatTime2 = []\n",
        "for el in base_midi[1][4].notes:\n",
        "  st = el.beatStrength\n",
        "  dur = el.beatDuration\n",
        "  if st == 1.0:\n",
        "    beatTime2.append(\"%.2f\" % float(el.offset))"
      ]
    },
    {
      "cell_type": "code",
      "execution_count": null,
      "metadata": {
        "colab": {
          "base_uri": "https://localhost:8080/"
        },
        "id": "117kT-RWIQ2d",
        "outputId": "d8e82504-0300-4d91-9359-4b15bc09af9c"
      },
      "outputs": [
        {
          "name": "stdout",
          "output_type": "stream",
          "text": [
            "Piano ['8.00', '20.00', '24.00', '28.00', '32.00', '40.00', '44.00', '48.00', '52.00', '56.00', '60.00', '64.00', '68.00', '72.00', '76.00', '80.00', '84.00', '92.00', '96.00', '100.00', '104.00', '108.00', '132.00', '136.00', '140.00', '144.00', '168.00', '172.00', '176.00', '180.00', '184.00', '188.00', '192.00', '196.00', '200.00', '204.00', '208.00', '212.00', '216.00', '220.00', '224.00', '228.00', '232.00', '236.00', '248.00', '252.00', '256.00', '260.00', '272.00']\n",
            "Piano ['0.00', '4.00', '12.00', '16.00', '20.00', '24.00', '28.00', '32.00', '36.00', '40.00', '44.00', '48.00', '52.00', '80.00', '84.00', '88.00', '116.00', '124.00', '128.00', '148.00', '152.00', '160.00', '164.00', '168.00', '172.00', '176.00', '180.00', '228.00', '232.00', '236.00', '240.00', '244.00', '252.00', '260.00']\n"
          ]
        }
      ],
      "source": [
        "print(base_midi[0][0], beatTime)\n",
        "print(base_midi[1][0], beatTime2)"
      ]
    },
    {
      "cell_type": "code",
      "execution_count": null,
      "metadata": {
        "colab": {
          "base_uri": "https://localhost:8080/"
        },
        "id": "PrNQA6jYLP6k",
        "outputId": "5064e346-ace9-4fe6-b06c-e38efa3da7df"
      },
      "outputs": [
        {
          "name": "stdout",
          "output_type": "stream",
          "text": [
            "[1.0, 1.0, 0.0625, 0.0625, 0.25, 0.0625, 0.0625, 0.5, 0.0625, 0.0625, 0.25, 0.0625, 0.0625, 1.0, 1.0, 0.0625, 0.0625, 0.25, 0.0625, 0.0625, 0.5, 0.0625, 0.0625, 0.25, 0.0625, 0.0625, 1.0, 1.0, 0.0625, 0.0625, 0.25, 0.0625, 0.0625, 0.5, 0.5, 0.0625, 0.0625, 0.25, 0.0625, 0.0625, 1.0, 1.0, 0.0625, 0.0625, 0.25, 0.0625, 0.0625, 0.5, 0.5, 0.0625, 0.0625, 0.25, 0.0625, 0.0625, 1.0, 1.0, 0.0625, 0.0625, 0.25, 0.0625, 0.0625, 0.5, 0.0625, 0.0625, 0.25, 0.25, 0.0625, 0.0625, 0.0625, 1.0, 1.0, 1.0, 0.0625, 0.0625, 0.25, 0.0625, 0.0625, 0.5, 0.0625, 0.0625, 0.25, 0.25, 0.0625, 0.0625, 0.0625, 1.0, 1.0, 1.0, 0.0625, 0.0625, 0.25, 0.0625, 0.0625, 0.5, 0.5, 0.5, 0.0625, 0.0625, 0.25, 0.0625, 0.0625, 1.0, 1.0, 1.0, 0.0625, 0.0625, 0.25, 0.0625, 0.0625, 0.5, 0.5, 0.5, 0.0625, 0.0625, 0.25, 0.25, 0.0625, 0.0625, 1.0, 1.0, 1.0, 0.0625, 0.25, 0.0625, 0.0625, 0.5, 0.0625, 0.0625, 0.25, 0.0625, 0.0625, 1.0, 1.0, 0.0625, 0.0625, 0.25, 0.0625, 0.0625, 0.5, 0.0625, 0.0625, 0.25, 0.25, 0.0625, 0.0625, 0.0625, 1.0, 1.0, 1.0, 0.0625, 0.0625, 0.25, 0.0625, 0.0625, 0.5, 0.0625, 0.0625, 0.25, 0.25, 0.0625, 0.0625, 0.0625, 1.0, 1.0, 1.0, 0.0625, 0.0625, 0.25, 0.25, 0.0625, 0.0625, 0.5, 0.5, 0.0625, 0.0625, 0.25, 0.25, 0.0625, 0.0625, 1.0, 1.0, 1.0, 0.0625, 0.0625, 0.25, 0.0625, 0.0625, 0.5, 0.5, 0.5, 0.0625, 0.0625, 0.25, 0.25, 0.25, 0.0625, 0.0625, 1.0, 1.0, 1.0, 0.0625, 0.0625, 0.25, 0.0625, 0.0625, 0.5, 0.5, 0.5, 0.0625, 0.0625, 0.25, 0.0625, 0.0625, 1.0, 1.0, 0.0625, 0.0625, 0.25, 0.0625, 0.0625, 0.5, 0.0625, 0.0625, 0.25, 0.25, 0.0625, 0.0625, 1.0, 1.0, 0.0625, 0.0625, 0.25, 0.25, 0.0625, 0.0625, 0.5, 0.5, 0.0625, 0.0625, 0.25, 0.25, 0.25, 0.0625, 0.0625, 1.0, 1.0, 1.0, 0.0625, 0.0625, 0.25, 0.0625, 0.0625, 0.5, 0.0625, 0.0625, 0.25, 0.25, 0.0625, 0.0625, 1.0, 1.0, 0.0625, 0.0625, 0.25, 0.25, 0.0625, 0.0625, 0.5, 0.5, 0.0625, 0.0625, 0.25, 0.25, 0.25, 0.0625, 0.0625, 1.0, 1.0, 1.0, 0.0625, 0.0625, 0.25, 0.0625, 0.0625, 0.5, 0.5, 0.5, 0.0625, 0.0625, 0.25, 0.0625, 0.0625, 1.0, 1.0, 1.0, 0.0625, 0.0625, 0.25, 0.0625, 0.0625, 0.5, 0.5, 0.5, 0.0625, 0.0625, 0.25, 0.0625, 0.0625, 1.0, 1.0, 1.0, 0.0625, 0.0625, 0.25, 0.0625, 0.0625, 0.5, 0.5, 0.5, 0.0625, 0.0625, 0.25, 0.0625, 0.0625, 1.0, 1.0, 1.0, 0.0625, 0.0625, 0.25, 0.0625, 0.0625, 0.5, 0.5, 0.5, 0.0625, 0.0625, 0.25, 0.25, 0.0625, 0.0625, 1.0, 1.0, 0.0625, 0.0625, 0.25, 0.0625, 0.0625, 0.5, 0.0625, 0.0625, 0.25, 0.25, 0.0625, 0.0625, 0.0625, 1.0, 1.0, 1.0, 0.0625, 0.0625, 0.25, 0.0625, 0.0625, 0.5, 0.0625, 0.0625, 0.25, 0.25, 0.0625, 0.0625, 0.0625, 1.0, 1.0, 1.0, 0.0625, 0.0625, 0.25, 0.0625, 0.0625, 0.5, 0.5, 0.5, 0.0625, 0.0625, 0.25, 0.25, 0.25, 0.0625, 0.0625, 1.0, 1.0, 1.0, 0.0625, 0.0625, 0.25, 0.0625, 0.0625, 0.5, 0.0625, 0.0625, 0.25, 0.25, 0.25, 0.0625, 0.0625, 1.0, 1.0, 1.0, 0.0625, 0.0625, 0.25, 0.0625, 0.0625, 0.5, 0.5, 0.5, 0.0625, 0.0625, 0.25, 0.25, 0.25, 0.0625, 0.0625, 1.0, 1.0, 0.0625, 0.0625, 0.25, 0.0625, 0.0625, 0.5, 0.0625, 0.0625, 0.25, 0.0625, 0.0625, 1.0, 0.0625, 0.0625, 0.25, 0.0625, 0.0625, 0.5, 0.0625, 0.0625, 0.25, 0.0625, 0.0625, 1.0, 1.0, 0.0625, 0.0625, 0.25, 0.0625, 0.0625, 0.5, 0.0625, 0.0625, 0.25, 0.0625, 0.0625, 1.0, 0.0625, 0.0625, 0.25, 0.0625, 0.0625, 0.5, 0.0625, 0.0625, 0.25, 0.0625, 0.0625, 1.0, 1.0, 0.0625, 0.0625, 0.25, 0.0625, 0.0625, 0.5, 0.0625, 0.0625, 0.25, 0.0625, 0.0625, 1.0, 1.0, 0.0625, 0.0625, 0.25, 0.0625, 0.0625, 0.5, 0.0625, 0.0625, 0.25, 0.0625, 0.0625, 1.0, 1.0, 0.0625, 0.0625, 0.25, 0.0625, 0.0625, 0.5, 0.0625, 0.0625, 0.25, 0.0625, 0.0625, 1.0, 1.0, 0.0625, 0.0625, 0.25, 0.0625, 0.0625, 0.5, 0.0625, 0.0625, 0.25, 0.0625, 0.0625, 1.0, 0.0625, 0.0625, 0.25, 0.0625, 0.0625, 0.5, 0.0625, 0.0625, 0.25, 0.0625, 0.0625, 1.0, 0.0625, 0.0625, 0.25, 0.0625, 0.0625, 0.5, 0.0625, 0.0625, 0.25, 0.0625, 0.0625, 1.0, 1.0, 0.0625, 0.0625, 0.25, 0.0625, 0.0625, 0.5, 0.0625, 0.0625, 0.25, 0.0625, 0.0625, 1.0, 1.0, 0.0625, 0.0625, 0.25, 0.0625, 0.0625, 0.5, 0.0625, 0.0625, 0.25, 0.0625, 0.0625, 1.0, 0.0625, 0.0625, 0.25, 0.0625, 0.0625, 0.5, 0.5, 0.0625, 0.0625, 0.25, 0.0625, 0.0625, 1.0, 1.0, 0.0625, 0.0625, 0.25, 0.0625, 0.0625, 0.5, 0.5, 0.0625, 0.0625, 0.25, 0.0625, 0.0625, 1.0, 1.0, 0.0625, 0.0625, 0.25, 0.0625, 0.0625, 0.5, 0.0625, 0.0625, 0.25, 0.25, 0.0625, 0.0625, 1.0, 1.0, 1.0, 0.0625, 0.0625, 0.25, 0.0625, 0.0625, 0.5, 0.0625, 0.0625, 0.25, 0.25, 0.0625, 0.0625, 0.0625, 1.0, 1.0, 1.0, 0.0625, 0.0625, 0.25, 0.0625, 0.0625, 0.5, 0.5, 0.5, 0.0625, 0.0625, 0.25, 0.0625, 0.0625, 1.0, 1.0, 1.0, 0.0625, 0.0625, 0.25, 0.0625, 0.0625, 0.5, 0.5, 0.5, 0.0625, 0.0625, 0.25, 0.25, 0.0625, 0.0625, 1.0, 1.0, 1.0, 0.0625, 0.0625, 0.25, 0.0625, 0.0625, 0.5, 0.0625, 0.0625, 0.25, 0.25, 0.0625, 0.0625, 0.0625, 1.0, 1.0, 1.0, 0.0625, 0.0625, 0.25, 0.0625, 0.0625, 0.5, 0.0625, 0.0625, 0.25, 0.25, 0.0625, 0.0625, 0.0625, 1.0, 1.0, 1.0, 0.0625, 0.0625, 0.25, 0.0625, 0.0625, 0.5, 0.5, 0.5, 0.0625, 0.0625, 0.25, 0.25, 0.25, 0.0625, 0.0625, 1.0, 1.0, 1.0, 0.0625, 0.0625, 0.25, 0.0625, 0.0625, 0.5, 0.5, 0.5, 0.0625, 0.0625, 0.25, 0.0625, 0.0625, 1.0, 1.0, 1.0, 0.0625, 0.0625, 0.25, 0.0625, 0.0625, 0.5, 0.5, 0.5, 0.0625, 0.0625, 0.25, 0.0625, 0.0625, 1.0, 1.0, 1.0, 0.0625, 0.0625, 0.25, 0.0625, 0.0625, 0.5, 0.0625, 0.0625, 0.25, 0.25, 0.0625, 0.0625, 1.0, 1.0, 0.0625, 0.0625, 0.25, 0.25, 0.0625, 0.0625, 0.5, 0.5, 0.5, 0.0625, 0.0625, 0.25, 0.25, 0.25, 0.0625, 0.0625, 1.0, 1.0, 1.0, 0.0625, 0.0625, 0.25, 0.0625, 0.0625, 0.5, 0.0625, 0.0625, 0.25, 0.25, 0.0625, 0.0625, 1.0, 1.0, 0.0625, 0.0625, 0.25, 0.25, 0.0625, 0.0625, 0.5, 0.5, 0.5, 0.0625, 0.0625, 0.25, 0.25, 0.25, 0.0625, 0.0625, 1.0, 1.0, 1.0, 0.0625, 0.0625, 0.25, 0.0625, 0.0625, 0.5, 0.5, 0.5, 0.0625, 0.0625, 0.25, 0.0625, 0.0625, 1.0, 1.0, 1.0, 0.0625, 0.0625, 0.25, 0.0625, 0.0625, 0.5, 0.0625, 0.0625, 0.25, 0.25, 0.25, 0.0625, 0.0625, 1.0, 1.0, 1.0, 0.0625, 0.0625, 0.25, 0.25, 0.25, 0.0625, 0.0625, 0.5, 0.5, 0.5, 0.0625, 0.0625, 0.25, 0.25, 0.25, 0.0625, 0.0625, 1.0, 1.0, 1.0, 0.0625, 0.0625, 0.25, 0.0625, 0.0625, 0.5, 0.5, 0.5, 0.0625, 0.0625, 0.25, 0.25, 0.25, 0.0625, 0.0625, 1.0, 1.0, 1.0, 0.0625, 0.0625, 0.25, 0.0625, 0.0625, 0.5, 0.5, 0.5, 0.0625, 0.0625, 0.25, 0.0625, 0.0625, 1.0, 1.0, 1.0, 1.0, 0.0625, 0.25, 0.0625, 0.0625, 0.5, 0.0625, 0.0625, 0.25, 0.25, 0.0625, 0.0625, 0.0625, 1.0, 1.0, 1.0, 0.0625, 0.0625, 0.25, 0.0625, 0.0625, 0.5, 0.0625, 0.0625, 0.25, 0.25, 0.0625, 0.0625, 0.0625, 1.0, 1.0, 1.0, 0.0625, 0.0625, 0.25, 0.0625, 0.0625, 0.5, 0.0625, 0.0625, 0.25, 0.25, 0.0625, 0.0625, 0.0625, 1.0, 1.0, 0.0625, 0.0625, 0.25, 0.0625, 0.0625, 0.5, 0.0625, 0.0625, 0.25, 0.25, 0.0625, 0.0625, 0.0625, 1.0, 1.0, 1.0, 0.0625, 0.0625, 0.25, 0.0625, 0.0625, 0.5, 0.0625, 0.0625, 0.25, 0.25, 0.0625, 0.0625, 0.0625, 1.0, 1.0, 0.0625, 0.0625, 0.25, 0.0625, 0.0625, 0.5, 0.0625, 0.0625, 0.25, 0.25, 0.0625, 0.0625, 0.0625, 1.0, 1.0, 1.0, 1.0, 0.0625, 0.25, 0.0625, 0.0625, 0.5, 0.0625, 0.0625, 0.25, 0.0625, 0.0625, 1.0, 0.0625, 0.0625, 0.25, 0.0625, 0.0625, 0.5, 0.0625, 0.0625, 0.25, 0.0625, 0.0625, 1.0, 0.5, 0.5, 1.0, 1.0]\n",
            "1025\n",
            "Counter({236.0: 4, 260.0: 4, 20.0: 3, 24.0: 3, 28.0: 3, 32.0: 3, 40.0: 3, 44.0: 3, 48.0: 3, 52.0: 3, 64.0: 3, 72.0: 3, 76.0: 3, 80.0: 3, 84.0: 3, 92.0: 3, 96.0: 3, 100.0: 3, 104.0: 3, 168.0: 3, 172.0: 3, 176.0: 3, 180.0: 3, 184.0: 3, 188.0: 3, 192.0: 3, 196.0: 3, 200.0: 3, 208.0: 3, 216.0: 3, 220.0: 3, 224.0: 3, 228.0: 3, 232.0: 3, 240.0: 3, 244.0: 3, 252.0: 3, 0.0: 2, 4.0: 2, 8.0: 2, 12.0: 2, 16.0: 2, 36.0: 2, 56.0: 2, 60.0: 2, 68.0: 2, 88.0: 2, 108.0: 2, 116.0: 2, 124.0: 2, 128.0: 2, 132.0: 2, 136.0: 2, 148.0: 2, 152.0: 2, 160.0: 2, 164.0: 2, 204.0: 2, 212.0: 2, 248.0: 2, 256.0: 2, 272.0: 2, 112.0: 1, 120.0: 1, 140.0: 1, 144.0: 1, 156.0: 1, 264.0: 1, 268.0: 1})\n"
          ]
        }
      ],
      "source": [
        "beatS = [n.beatStrength for n in base_midi.flat.notes]\n",
        "print(beatS)\n",
        "print(len(beatS))\n",
        "\n",
        "from collections import Counter\n",
        "beatSTime = Counter()\n",
        "for el in base_midi.flat.notes:\n",
        "  v = el.beatStrength\n",
        "  if v == 1.0:\n",
        "    beatSTime[round(float(el.offset), 2)] += 1\n",
        "print(beatSTime)"
      ]
    },
    {
      "cell_type": "markdown",
      "metadata": {
        "id": "bxSaYusYKJi-"
      },
      "source": [
        "Beat values count from 1 and contain a floating-point designation between 0 and 1 to show proportional progress through the beat"
      ]
    },
    {
      "cell_type": "markdown",
      "metadata": {
        "id": "-GjdowGzG1Bl"
      },
      "source": [
        "Return a string representation of the beat of this object as found in the most recently positioned Measure. Beat values count from 1 and contain a fractional designation to show progress through the beat:\n"
      ]
    },
    {
      "cell_type": "code",
      "execution_count": null,
      "metadata": {
        "colab": {
          "base_uri": "https://localhost:8080/"
        },
        "id": "eQVfSzc2GhBm",
        "outputId": "12259030-e508-4dce-bcdd-f5f97d6ca5c1"
      },
      "outputs": [
        {
          "name": "stdout",
          "output_type": "stream",
          "text": [
            "['1', '1', '1 1/3', '1 2/3', '2', '2 1/3', '2 2/3', '3', '3 1/3', '3 2/3', '4', '4 1/3', '4 2/3', '1', '1', '1 1/3', '1 2/3', '2', '2 1/3', '2 2/3', '3', '3 1/3', '3 2/3', '4', '4 1/3', '4 2/3', '1', '1', '1 1/3', '1 2/3', '2', '2 1/3', '2 2/3', '3', '3', '3 1/3', '3 2/3', '4', '4 1/3', '4 2/3', '1', '1', '1 1/3', '1 2/3', '2', '2 1/3', '2 2/3', '3', '3', '3 1/3', '3 2/3', '4', '4 1/3', '4 2/3', '1', '1', '1 1/3', '1 2/3', '2', '2 1/3', '2 2/3', '3', '3 1/3', '3 2/3', '4', '4', '4 1/3', '4 2/3', '4 3/4', '1', '1', '1', '1 1/3', '1 2/3', '2', '2 1/3', '2 2/3', '3', '3 1/3', '3 2/3', '4', '4', '4 1/3', '4 2/3', '4 3/4', '1', '1', '1', '1 1/3', '1 2/3', '2', '2 1/3', '2 2/3', '3', '3', '3', '3 1/3', '3 2/3', '4', '4 1/3', '4 2/3', '1', '1', '1', '1 1/3', '1 2/3', '2', '2 1/3', '2 2/3', '3', '3', '3', '3 1/3', '3 2/3', '4', '4', '4 1/3', '4 2/3', '1', '1', '1', '1 1/3', '2', '2 1/3', '2 2/3', '3', '3 1/3', '3 2/3', '4', '4 1/3', '4 2/3', '1', '1', '1 1/3', '1 2/3', '2', '2 1/3', '2 2/3', '3', '3 1/3', '3 2/3', '4', '4', '4 1/3', '4 2/3', '4 3/4', '1', '1', '1', '1 1/3', '1 2/3', '2', '2 1/3', '2 2/3', '3', '3 1/3', '3 2/3', '4', '4', '4 1/3', '4 2/3', '4 3/4', '1', '1', '1', '1 1/3', '1 2/3', '2', '2', '2 1/3', '2 2/3', '3', '3', '3 1/3', '3 2/3', '4', '4', '4 1/3', '4 2/3', '1', '1', '1', '1 1/3', '1 2/3', '2', '2 1/3', '2 2/3', '3', '3', '3', '3 1/3', '3 2/3', '4', '4', '4', '4 1/3', '4 2/3', '1', '1', '1', '1 1/3', '1 2/3', '2', '2 1/3', '2 2/3', '3', '3', '3', '3 1/3', '3 2/3', '4', '4 1/3', '4 2/3', '1', '1', '1 1/3', '1 2/3', '2', '2 1/3', '2 2/3', '3', '3 1/3', '3 2/3', '4', '4', '4 1/3', '4 2/3', '1', '1', '1 1/3', '1 2/3', '2', '2', '2 1/3', '2 2/3', '3', '3', '3 1/3', '3 2/3', '4', '4', '4', '4 1/3', '4 2/3', '1', '1', '1', '1 1/3', '1 2/3', '2', '2 1/3', '2 2/3', '3', '3 1/3', '3 2/3', '4', '4', '4 1/3', '4 2/3', '1', '1', '1 1/3', '1 2/3', '2', '2', '2 1/3', '2 2/3', '3', '3', '3 1/3', '3 2/3', '4', '4', '4', '4 1/3', '4 2/3', '1', '1', '1', '1 1/3', '1 2/3', '2', '2 1/3', '2 2/3', '3', '3', '3', '3 1/3', '3 2/3', '4', '4 1/3', '4 2/3', '1', '1', '1', '1 1/3', '1 2/3', '2', '2 1/3', '2 2/3', '3', '3', '3', '3 1/3', '3 2/3', '4', '4 1/3', '4 2/3', '1', '1', '1', '1 1/3', '1 2/3', '2', '2 1/3', '2 2/3', '3', '3', '3', '3 1/3', '3 2/3', '4', '4 1/3', '4 2/3', '1', '1', '1', '1 1/3', '1 2/3', '2', '2 1/3', '2 2/3', '3', '3', '3', '3 1/3', '3 2/3', '4', '4', '4 1/3', '4 2/3', '1', '1', '1 1/3', '1 2/3', '2', '2 1/3', '2 2/3', '3', '3 1/3', '3 2/3', '4', '4', '4 1/3', '4 2/3', '4 3/4', '1', '1', '1', '1 1/3', '1 2/3', '2', '2 1/3', '2 2/3', '3', '3 1/3', '3 2/3', '4', '4', '4 1/3', '4 2/3', '4 3/4', '1', '1', '1', '1 1/3', '1 2/3', '2', '2 1/3', '2 2/3', '3', '3', '3', '3 1/3', '3 2/3', '4', '4', '4', '4 1/3', '4 2/3', '1', '1', '1', '1 1/3', '1 2/3', '2', '2 1/3', '2 2/3', '3', '3 1/3', '3 2/3', '4', '4', '4', '4 1/3', '4 2/3', '1', '1', '1', '1 1/3', '1 2/3', '2', '2 1/3', '2 2/3', '3', '3', '3', '3 1/3', '3 2/3', '4', '4', '4', '4 1/3', '4 2/3', '1', '1', '1 1/3', '1 2/3', '2', '2 1/3', '2 2/3', '3', '3 1/3', '3 2/3', '4', '4 1/3', '4 2/3', '1', '1 1/3', '1 2/3', '2', '2 1/3', '2 2/3', '3', '3 1/3', '3 2/3', '4', '4 1/3', '4 2/3', '1', '1', '1 1/3', '1 2/3', '2', '2 1/3', '2 2/3', '3', '3 1/3', '3 2/3', '4', '4 1/3', '4 2/3', '1', '1 1/3', '1 2/3', '2', '2 1/3', '2 2/3', '3', '3 1/3', '3 2/3', '4', '4 1/3', '4 2/3', '1', '1', '1 1/3', '1 2/3', '2', '2 1/3', '2 2/3', '3', '3 1/3', '3 2/3', '4', '4 1/3', '4 2/3', '1', '1', '1 1/3', '1 2/3', '2', '2 1/3', '2 2/3', '3', '3 1/3', '3 2/3', '4', '4 1/3', '4 2/3', '1', '1', '1 1/3', '1 2/3', '2', '2 1/3', '2 2/3', '3', '3 1/3', '3 2/3', '4', '4 1/3', '4 2/3', '1', '1', '1 1/3', '1 2/3', '2', '2 1/3', '2 2/3', '3', '3 1/3', '3 2/3', '4', '4 1/3', '4 2/3', '1', '1 1/3', '1 2/3', '2', '2 1/3', '2 2/3', '3', '3 1/3', '3 2/3', '4', '4 1/3', '4 2/3', '1', '1 1/3', '1 2/3', '2', '2 1/3', '2 2/3', '3', '3 1/3', '3 2/3', '4', '4 1/3', '4 2/3', '1', '1', '1 1/3', '1 2/3', '2', '2 1/3', '2 2/3', '3', '3 1/3', '3 2/3', '4', '4 1/3', '4 2/3', '1', '1', '1 1/3', '1 2/3', '2', '2 1/3', '2 2/3', '3', '3 1/3', '3 2/3', '4', '4 1/3', '4 2/3', '1', '1 1/3', '1 2/3', '2', '2 1/3', '2 2/3', '3', '3', '3 1/3', '3 2/3', '4', '4 1/3', '4 2/3', '1', '1', '1 1/3', '1 2/3', '2', '2 1/3', '2 2/3', '3', '3', '3 1/3', '3 2/3', '4', '4 1/3', '4 2/3', '1', '1', '1 1/3', '1 2/3', '2', '2 1/3', '2 2/3', '3', '3 1/3', '3 2/3', '4', '4', '4 1/3', '4 2/3', '1', '1', '1', '1 1/3', '1 2/3', '2', '2 1/3', '2 2/3', '3', '3 1/3', '3 2/3', '4', '4', '4 1/3', '4 2/3', '4 3/4', '1', '1', '1', '1 1/3', '1 2/3', '2', '2 1/3', '2 2/3', '3', '3', '3', '3 1/3', '3 2/3', '4', '4 1/3', '4 2/3', '1', '1', '1', '1 1/3', '1 2/3', '2', '2 1/3', '2 2/3', '3', '3', '3', '3 1/3', '3 2/3', '4', '4', '4 1/3', '4 2/3', '1', '1', '1', '1 1/3', '1 2/3', '2', '2 1/3', '2 2/3', '3', '3 1/3', '3 2/3', '4', '4', '4 1/3', '4 2/3', '4 3/4', '1', '1', '1', '1 1/3', '1 2/3', '2', '2 1/3', '2 2/3', '3', '3 1/3', '3 2/3', '4', '4', '4 1/3', '4 2/3', '4 3/4', '1', '1', '1', '1 1/3', '1 2/3', '2', '2 1/3', '2 2/3', '3', '3', '3', '3 1/3', '3 2/3', '4', '4', '4', '4 1/3', '4 2/3', '1', '1', '1', '1 1/3', '1 2/3', '2', '2 1/3', '2 2/3', '3', '3', '3', '3 1/3', '3 2/3', '4', '4 1/3', '4 2/3', '1', '1', '1', '1 1/3', '1 2/3', '2', '2 1/3', '2 2/3', '3', '3', '3', '3 1/3', '3 2/3', '4', '4 1/3', '4 2/3', '1', '1', '1', '1 1/3', '1 2/3', '2', '2 1/3', '2 2/3', '3', '3 1/3', '3 2/3', '4', '4', '4 1/3', '4 2/3', '1', '1', '1 1/3', '1 2/3', '2', '2', '2 1/3', '2 2/3', '3', '3', '3', '3 1/3', '3 2/3', '4', '4', '4', '4 1/3', '4 2/3', '1', '1', '1', '1 1/3', '1 2/3', '2', '2 1/3', '2 2/3', '3', '3 1/3', '3 2/3', '4', '4', '4 1/3', '4 2/3', '1', '1', '1 1/3', '1 2/3', '2', '2', '2 1/3', '2 2/3', '3', '3', '3', '3 1/3', '3 2/3', '4', '4', '4', '4 1/3', '4 2/3', '1', '1', '1', '1 1/3', '1 2/3', '2', '2 1/3', '2 2/3', '3', '3', '3', '3 1/3', '3 2/3', '4', '4 1/3', '4 2/3', '1', '1', '1', '1 1/3', '1 2/3', '2', '2 1/3', '2 2/3', '3', '3 1/3', '3 2/3', '4', '4', '4', '4 1/3', '4 2/3', '1', '1', '1', '1 1/3', '1 2/3', '2', '2', '2', '2 1/3', '2 2/3', '3', '3', '3', '3 1/3', '3 2/3', '4', '4', '4', '4 1/3', '4 2/3', '1', '1', '1', '1 1/3', '1 2/3', '2', '2 1/3', '2 2/3', '3', '3', '3', '3 1/3', '3 2/3', '4', '4', '4', '4 1/3', '4 2/3', '1', '1', '1', '1 1/3', '1 2/3', '2', '2 1/3', '2 2/3', '3', '3', '3', '3 1/3', '3 2/3', '4', '4 1/3', '4 2/3', '1', '1', '1', '1', '1 1/3', '2', '2 1/3', '2 2/3', '3', '3 1/3', '3 2/3', '4', '4', '4 1/3', '4 2/3', '4 3/4', '1', '1', '1', '1 1/3', '1 2/3', '2', '2 1/3', '2 2/3', '3', '3 1/3', '3 2/3', '4', '4', '4 1/3', '4 2/3', '4 3/4', '1', '1', '1', '1 1/3', '1 2/3', '2', '2 1/3', '2 2/3', '3', '3 1/3', '3 2/3', '4', '4', '4 1/3', '4 2/3', '4 3/4', '1', '1', '1 1/3', '1 2/3', '2', '2 1/3', '2 2/3', '3', '3 1/3', '3 2/3', '4', '4', '4 1/3', '4 2/3', '4 3/4', '1', '1', '1', '1 1/3', '1 2/3', '2', '2 1/3', '2 2/3', '3', '3 1/3', '3 2/3', '4', '4', '4 1/3', '4 2/3', '4 3/4', '1', '1', '1 1/3', '1 2/3', '2', '2 1/3', '2 2/3', '3', '3 1/3', '3 2/3', '4', '4', '4 1/3', '4 2/3', '4 3/4', '1', '1', '1', '1', '1 1/3', '2', '2 1/3', '2 2/3', '3', '3 1/3', '3 2/3', '4', '4 1/3', '4 2/3', '1', '1 1/3', '1 2/3', '2', '2 1/3', '2 2/3', '3', '3 1/3', '3 2/3', '4', '4 1/3', '4 2/3', '1', '3', '3', '1', '1']\n"
          ]
        }
      ],
      "source": [
        "beats = [n.beatStr for n in base_midi.flat.notes]\n",
        "print(beats)"
      ]
    },
    {
      "cell_type": "code",
      "execution_count": null,
      "metadata": {
        "colab": {
          "base_uri": "https://localhost:8080/"
        },
        "id": "6ZDBexMxQLEI",
        "outputId": "3c4044fe-4883-42cb-fc49-280acdf32af8"
      },
      "outputs": [
        {
          "data": {
            "text/plain": [
              "1025"
            ]
          },
          "execution_count": 85,
          "metadata": {},
          "output_type": "execute_result"
        }
      ],
      "source": [
        "len(beats)"
      ]
    },
    {
      "cell_type": "markdown",
      "metadata": {
        "id": "6AeuTnQOKhIh"
      },
      "source": [
        "Попробуем выделять по громкости:"
      ]
    },
    {
      "cell_type": "code",
      "execution_count": null,
      "metadata": {
        "colab": {
          "base_uri": "https://localhost:8080/"
        },
        "id": "vovx_yowKmG1",
        "outputId": "09c7d8d2-2b07-4f83-e108-7784087204c3"
      },
      "outputs": [
        {
          "name": "stdout",
          "output_type": "stream",
          "text": [
            "[33, 46, 30, 43, 38, 29, 32, 32, 25, 25, 33, 29, 29, 40, 25, 27, 27, 30, 29, 27, 27, 25, 34, 37, 31, 37, 41, 38, 25, 33, 28, 33, 32, 36, 28, 37, 42, 33, 31, 34, 34, 44, 26, 36, 44, 28, 33, 36, 37, 26, 46, 39, 38, 25, 36, 27, 27, 35, 36, 22, 21, 42, 27, 39, 55, 46, 28, 26, 48, 55, 33, 43, 31, 33, 32, 26, 27, 27, 31, 33, 49, 32, 32, 38, 52, 61, 54, 36, 29, 30, 23, 23, 32, 54, 38, 30, 26, 32, 26, 27, 33, 51, 30, 25, 51, 40, 25, 24, 34, 53, 38, 24, 29, 18, 40, 48, 34, 40, 51, 28, 25, 35, 22, 24, 30, 25, 24, 36, 27, 26, 28, 34, 36, 35, 30, 34, 22, 27, 29, 24, 25, 58, 41, 33, 41, 37, 48, 22, 26, 36, 41, 25, 25, 30, 26, 24, 34, 55, 34, 35, 42, 56, 53, 36, 40, 37, 36, 43, 40, 36, 29, 52, 38, 38, 36, 60, 47, 43, 36, 43, 37, 32, 27, 25, 30, 37, 33, 58, 48, 43, 42, 47, 54, 44, 47, 43, 54, 54, 39, 34, 31, 37, 30, 27, 37, 48, 34, 31, 30, 37, 27, 32, 30, 30, 41, 24, 31, 48, 39, 40, 46, 49, 49, 66, 56, 34, 40, 49, 82, 52, 33, 42, 52, 40, 24, 57, 79, 41, 55, 54, 47, 42, 31, 34, 44, 24, 31, 32, 30, 30, 25, 30, 19, 34, 36, 44, 62, 34, 33, 34, 76, 26, 28, 37, 47, 31, 36, 62, 71, 36, 39, 47, 58, 40, 25, 22, 47, 33, 42, 27, 27, 28, 31, 34, 28, 41, 34, 22, 33, 29, 31, 32, 31, 45, 36, 29, 32, 25, 29, 25, 60, 26, 33, 25, 31, 36, 23, 38, 67, 44, 48, 31, 42, 48, 36, 58, 62, 37, 42, 34, 55, 26, 24, 37, 32, 28, 29, 18, 36, 34, 29, 38, 46, 25, 37, 25, 30, 34, 26, 31, 40, 36, 29, 25, 40, 49, 27, 39, 46, 28, 39, 64, 71, 32, 29, 54, 61, 34, 30, 35, 37, 35, 26, 31, 34, 32, 24, 57, 32, 31, 34, 46, 61, 31, 26, 34, 40, 46, 32, 34, 63, 68, 54, 33, 40, 81, 69, 56, 37, 37, 64, 78, 49, 35, 36, 52, 25, 46, 43, 33, 34, 71, 69, 50, 34, 36, 71, 56, 39, 36, 37, 30, 25, 32, 56, 45, 30, 44, 46, 71, 38, 40, 56, 51, 41, 32, 24, 33, 58, 33, 47, 66, 29, 31, 43, 29, 37, 36, 42, 38, 65, 46, 56, 74, 58, 43, 50, 48, 35, 38, 54, 40, 27, 64, 31, 27, 70, 25, 29, 51, 28, 30, 40, 34, 30, 59, 44, 58, 68, 37, 39, 47, 29, 32, 45, 27, 31, 49, 51, 44, 58, 57, 50, 48, 56, 50, 57, 34, 48, 34, 40, 56, 39, 62, 46, 63, 46, 57, 26, 33, 45, 34, 52, 53, 56, 35, 56, 44, 66, 42, 63, 40, 33, 29, 33, 41, 45, 54, 33, 48, 48, 43, 45, 68, 40, 48, 57, 32, 28, 47, 39, 36, 55, 34, 33, 44, 26, 31, 49, 39, 25, 48, 33, 43, 30, 69, 46, 61, 40, 35, 34, 44, 35, 44, 62, 38, 48, 71, 38, 40, 68, 36, 32, 34, 52, 34, 63, 82, 56, 53, 72, 45, 36, 64, 39, 41, 42, 25, 53, 54, 46, 50, 38, 37, 24, 44, 32, 34, 37, 26, 40, 36, 43, 43, 28, 25, 33, 45, 45, 34, 34, 38, 33, 35, 45, 27, 25, 45, 33, 26, 30, 32, 27, 44, 25, 29, 27, 58, 23, 46, 35, 35, 27, 23, 30, 25, 17, 40, 53, 40, 32, 38, 49, 54, 22, 27, 30, 37, 46, 26, 46, 59, 39, 32, 37, 35, 31, 29, 33, 54, 36, 31, 42, 44, 34, 38, 38, 48, 61, 28, 32, 30, 35, 56, 26, 50, 40, 36, 20, 52, 42, 52, 35, 35, 52, 32, 32, 63, 53, 34, 39, 36, 57, 40, 36, 27, 21, 42, 22, 26, 33, 25, 32, 44, 68, 28, 33, 49, 56, 39, 39, 34, 36, 47, 40, 27, 70, 75, 58, 33, 51, 49, 78, 61, 52, 55, 65, 78, 50, 42, 42, 49, 39, 46, 59, 80, 39, 34, 36, 36, 27, 31, 37, 54, 26, 18, 19, 29, 36, 25, 49, 32, 28, 25, 30, 33, 26, 34, 58, 33, 27, 28, 29, 28, 32, 31, 31, 25, 34, 45, 71, 28, 43, 38, 64, 39, 31, 49, 48, 42, 25, 70, 57, 79, 28, 41, 44, 60, 31, 29, 35, 46, 33, 30, 27, 34, 30, 27, 35, 30, 26, 37, 49, 65, 34, 37, 44, 88, 38, 26, 45, 47, 23, 36, 60, 59, 72, 35, 46, 36, 58, 34, 31, 33, 46, 31, 30, 31, 27, 34, 26, 37, 18, 57, 27, 28, 29, 25, 26, 27, 60, 32, 34, 25, 24, 45, 22, 33, 32, 23, 39, 37, 55, 28, 42, 44, 51, 60, 38, 33, 33, 40, 57, 38, 44, 40, 68, 37, 38, 34, 37, 57, 38, 34, 38, 39, 56, 48, 32, 33, 34, 46, 37, 36, 67, 42, 54, 34, 33, 70, 56, 44, 35, 39, 61, 37, 45, 31, 31, 32, 26, 36, 44, 13, 32, 22, 33, 42, 27, 43, 40, 27, 39, 33, 34, 44, 28, 38, 36, 32, 38, 43, 61, 37, 36, 61, 52, 46, 51, 38, 36, 46, 28, 30, 44, 34, 30, 56, 64, 34, 39, 48, 45, 55, 43, 51, 33, 65, 42, 61, 53, 74, 55, 73, 69, 52, 56, 62, 66, 60, 52, 46, 64, 40, 39, 57, 45, 52, 67, 49, 36, 56, 51, 58, 51, 48, 61, 45, 62, 53, 67, 42, 74, 48, 72, 61, 62, 56, 64, 64, 58, 46, 44, 55, 50, 49, 62, 49, 62, 63, 56, 52, 47, 51, 57, 46, 49, 47, 45, 49, 37, 30, 54, 29, 33, 49, 40, 34, 38, 38, 35, 51, 37, 36, 33, 36, 40, 44, 39, 41, 43, 49, 36, 33, 26]\n"
          ]
        }
      ],
      "source": [
        "vols = [n.volume.velocity for n in base_midi.flat.notes]"
      ]
    },
    {
      "cell_type": "code",
      "execution_count": null,
      "metadata": {
        "id": "jrLweb0EMlNY"
      },
      "outputs": [],
      "source": [
        "volsTime = []\n",
        "for el in base_midi.flat.notes:\n",
        "  v = el.volume.velocity\n",
        "  if v > 60:\n",
        "    volsTime.append([\"%.2f\" % float(el.offset), v])\n",
        "  # print(\"%.2f\" % float(el.offset),' beat strength: ', st)\n"
      ]
    },
    {
      "cell_type": "code",
      "execution_count": null,
      "metadata": {
        "colab": {
          "base_uri": "https://localhost:8080/"
        },
        "id": "AXpOQ49TMk08",
        "outputId": "ca4ca49b-b787-475b-928a-8f0c58d0671a"
      },
      "outputs": [
        {
          "data": {
            "text/plain": [
              "[['24.00', 61],\n",
              " ['59.00', 66],\n",
              " ['60.00', 82],\n",
              " ['62.00', 79],\n",
              " ['67.00', 62],\n",
              " ['68.00', 76],\n",
              " ['70.00', 62],\n",
              " ['70.00', 71],\n",
              " ['80.00', 67],\n",
              " ['82.00', 62],\n",
              " ['91.00', 64],\n",
              " ['91.00', 71],\n",
              " ['92.00', 61],\n",
              " ['96.00', 61],\n",
              " ['98.00', 63],\n",
              " ['98.00', 68],\n",
              " ['99.00', 81],\n",
              " ['99.00', 69],\n",
              " ['100.00', 64],\n",
              " ['100.00', 78],\n",
              " ['103.00', 71],\n",
              " ['103.00', 69],\n",
              " ['104.00', 71],\n",
              " ['107.00', 71],\n",
              " ['110.00', 66],\n",
              " ['113.00', 65],\n",
              " ['114.00', 74],\n",
              " ['117.00', 64],\n",
              " ['118.00', 70],\n",
              " ['122.00', 68],\n",
              " ['129.67', 62],\n",
              " ['130.33', 63],\n",
              " ['134.33', 66],\n",
              " ['135.00', 63],\n",
              " ['139.00', 68],\n",
              " ['146.33', 69],\n",
              " ['147.00', 61],\n",
              " ['149.00', 62],\n",
              " ['150.00', 71],\n",
              " ['151.00', 68],\n",
              " ['152.67', 63],\n",
              " ['153.00', 82],\n",
              " ['154.00', 72],\n",
              " ['155.00', 64],\n",
              " ['178.00', 61],\n",
              " ['183.00', 63],\n",
              " ['187.00', 68],\n",
              " ['190.00', 70],\n",
              " ['190.00', 75],\n",
              " ['191.00', 78],\n",
              " ['191.00', 61],\n",
              " ['192.00', 65],\n",
              " ['192.00', 78],\n",
              " ['194.00', 80],\n",
              " ['203.00', 71],\n",
              " ['204.00', 64],\n",
              " ['206.00', 70],\n",
              " ['206.00', 79],\n",
              " ['211.00', 65],\n",
              " ['212.00', 88],\n",
              " ['214.00', 72],\n",
              " ['226.00', 68],\n",
              " ['230.00', 67],\n",
              " ['231.00', 70],\n",
              " ['232.00', 61],\n",
              " ['239.00', 61],\n",
              " ['239.75', 61],\n",
              " ['243.00', 64],\n",
              " ['245.00', 65],\n",
              " ['245.67', 61],\n",
              " ['246.33', 74],\n",
              " ['247.00', 73],\n",
              " ['247.00', 69],\n",
              " ['247.75', 62],\n",
              " ['248.00', 66],\n",
              " ['249.00', 64],\n",
              " ['251.00', 67],\n",
              " ['252.33', 61],\n",
              " ['253.00', 62],\n",
              " ['253.67', 67],\n",
              " ['254.33', 74],\n",
              " ['255.00', 72],\n",
              " ['255.00', 61],\n",
              " ['255.33', 62],\n",
              " ['255.75', 64],\n",
              " ['256.00', 64],\n",
              " ['258.00', 62],\n",
              " ['258.67', 62],\n",
              " ['259.00', 63]]"
            ]
          },
          "execution_count": 70,
          "metadata": {},
          "output_type": "execute_result"
        }
      ],
      "source": [
        "volsTime"
      ]
    },
    {
      "cell_type": "code",
      "execution_count": null,
      "metadata": {
        "colab": {
          "base_uri": "https://localhost:8080/"
        },
        "id": "m4yrXl2EMkyg",
        "outputId": "d2a23202-b001-435f-b993-befef1befac6"
      },
      "outputs": [
        {
          "data": {
            "text/plain": [
              "89"
            ]
          },
          "execution_count": 71,
          "metadata": {},
          "output_type": "execute_result"
        }
      ],
      "source": [
        "len(volsTime)"
      ]
    },
    {
      "cell_type": "markdown",
      "metadata": {
        "id": "1Qaim9J2OOHq"
      },
      "source": [
        "Также можем посмотреть на относительную гормкость (в диапазоне от 0 до 1), в таком формате легче понимать какие моменты выделяются относительно других по громкости:"
      ]
    },
    {
      "cell_type": "code",
      "execution_count": null,
      "metadata": {
        "colab": {
          "base_uri": "https://localhost:8080/"
        },
        "id": "UD2GDoDnMkwH",
        "outputId": "91d2c2bb-1ea4-4197-c64d-6be11a0c3d26"
      },
      "outputs": [
        {
          "name": "stdout",
          "output_type": "stream",
          "text": [
            "['0.26', '0.36', '0.24', '0.34', '0.30', '0.23', '0.25', '0.25', '0.20', '0.20', '0.26', '0.23', '0.23', '0.31', '0.20', '0.21', '0.21', '0.24', '0.23', '0.21', '0.21', '0.20', '0.27', '0.29', '0.24', '0.29', '0.32', '0.30', '0.20', '0.26', '0.22', '0.26', '0.25', '0.28', '0.22', '0.29', '0.33', '0.26', '0.24', '0.27', '0.27', '0.35', '0.20', '0.28', '0.35', '0.22', '0.26', '0.28', '0.29', '0.20', '0.36', '0.31', '0.30', '0.20', '0.28', '0.21', '0.21', '0.28', '0.28', '0.17', '0.17', '0.33', '0.21', '0.31', '0.43', '0.36', '0.22', '0.20', '0.38', '0.43', '0.26', '0.34', '0.24', '0.26', '0.25', '0.20', '0.21', '0.21', '0.24', '0.26', '0.39', '0.25', '0.25', '0.30', '0.41', '0.48', '0.43', '0.28', '0.23', '0.24', '0.18', '0.18', '0.25', '0.43', '0.30', '0.24', '0.20', '0.25', '0.20', '0.21', '0.26', '0.40', '0.24', '0.20', '0.40', '0.31', '0.20', '0.19', '0.27', '0.42', '0.30', '0.19', '0.23', '0.14', '0.31', '0.38', '0.27', '0.31', '0.40', '0.22', '0.20', '0.28', '0.17', '0.19', '0.24', '0.20', '0.19', '0.28', '0.21', '0.20', '0.22', '0.27', '0.28', '0.28', '0.24', '0.27', '0.17', '0.21', '0.23', '0.19', '0.20', '0.46', '0.32', '0.26', '0.32', '0.29', '0.38', '0.17', '0.20', '0.28', '0.32', '0.20', '0.20', '0.24', '0.20', '0.19', '0.27', '0.43', '0.27', '0.28', '0.33', '0.44', '0.42', '0.28', '0.31', '0.29', '0.28', '0.34', '0.31', '0.28', '0.23', '0.41', '0.30', '0.30', '0.28', '0.47', '0.37', '0.34', '0.28', '0.34', '0.29', '0.25', '0.21', '0.20', '0.24', '0.29', '0.26', '0.46', '0.38', '0.34', '0.33', '0.37', '0.43', '0.35', '0.37', '0.34', '0.43', '0.43', '0.31', '0.27', '0.24', '0.29', '0.24', '0.21', '0.29', '0.38', '0.27', '0.24', '0.24', '0.29', '0.21', '0.25', '0.24', '0.24', '0.32', '0.19', '0.24', '0.38', '0.31', '0.31', '0.36', '0.39', '0.39', '0.52', '0.44', '0.27', '0.31', '0.39', '0.65', '0.41', '0.26', '0.33', '0.41', '0.31', '0.19', '0.45', '0.62', '0.32', '0.43', '0.43', '0.37', '0.33', '0.24', '0.27', '0.35', '0.19', '0.24', '0.25', '0.24', '0.24', '0.20', '0.24', '0.15', '0.27', '0.28', '0.35', '0.49', '0.27', '0.26', '0.27', '0.60', '0.20', '0.22', '0.29', '0.37', '0.24', '0.28', '0.49', '0.56', '0.28', '0.31', '0.37', '0.46', '0.31', '0.20', '0.17', '0.37', '0.26', '0.33', '0.21', '0.21', '0.22', '0.24', '0.27', '0.22', '0.32', '0.27', '0.17', '0.26', '0.23', '0.24', '0.25', '0.24', '0.35', '0.28', '0.23', '0.25', '0.20', '0.23', '0.20', '0.47', '0.20', '0.26', '0.20', '0.24', '0.28', '0.18', '0.30', '0.53', '0.35', '0.38', '0.24', '0.33', '0.38', '0.28', '0.46', '0.49', '0.29', '0.33', '0.27', '0.43', '0.20', '0.19', '0.29', '0.25', '0.22', '0.23', '0.14', '0.28', '0.27', '0.23', '0.30', '0.36', '0.20', '0.29', '0.20', '0.24', '0.27', '0.20', '0.24', '0.31', '0.28', '0.23', '0.20', '0.31', '0.39', '0.21', '0.31', '0.36', '0.22', '0.31', '0.50', '0.56', '0.25', '0.23', '0.43', '0.48', '0.27', '0.24', '0.28', '0.29', '0.28', '0.20', '0.24', '0.27', '0.25', '0.19', '0.45', '0.25', '0.24', '0.27', '0.36', '0.48', '0.24', '0.20', '0.27', '0.31', '0.36', '0.25', '0.27', '0.50', '0.54', '0.43', '0.26', '0.31', '0.64', '0.54', '0.44', '0.29', '0.29', '0.50', '0.61', '0.39', '0.28', '0.28', '0.41', '0.20', '0.36', '0.34', '0.26', '0.27', '0.56', '0.54', '0.39', '0.27', '0.28', '0.56', '0.44', '0.31', '0.28', '0.29', '0.24', '0.20', '0.25', '0.44', '0.35', '0.24', '0.35', '0.36', '0.56', '0.30', '0.31', '0.44', '0.40', '0.32', '0.25', '0.19', '0.26', '0.46', '0.26', '0.37', '0.52', '0.23', '0.24', '0.34', '0.23', '0.29', '0.28', '0.33', '0.30', '0.51', '0.36', '0.44', '0.58', '0.46', '0.34', '0.39', '0.38', '0.28', '0.30', '0.43', '0.31', '0.21', '0.50', '0.24', '0.21', '0.55', '0.20', '0.23', '0.40', '0.22', '0.24', '0.31', '0.27', '0.24', '0.46', '0.35', '0.46', '0.54', '0.29', '0.31', '0.37', '0.23', '0.25', '0.35', '0.21', '0.24', '0.39', '0.40', '0.35', '0.46', '0.45', '0.39', '0.38', '0.44', '0.39', '0.45', '0.27', '0.38', '0.27', '0.31', '0.44', '0.31', '0.49', '0.36', '0.50', '0.36', '0.45', '0.20', '0.26', '0.35', '0.27', '0.41', '0.42', '0.44', '0.28', '0.44', '0.35', '0.52', '0.33', '0.50', '0.31', '0.26', '0.23', '0.26', '0.32', '0.35', '0.43', '0.26', '0.38', '0.38', '0.34', '0.35', '0.54', '0.31', '0.38', '0.45', '0.25', '0.22', '0.37', '0.31', '0.28', '0.43', '0.27', '0.26', '0.35', '0.20', '0.24', '0.39', '0.31', '0.20', '0.38', '0.26', '0.34', '0.24', '0.54', '0.36', '0.48', '0.31', '0.28', '0.27', '0.35', '0.28', '0.35', '0.49', '0.30', '0.38', '0.56', '0.30', '0.31', '0.54', '0.28', '0.25', '0.27', '0.41', '0.27', '0.50', '0.65', '0.44', '0.42', '0.57', '0.35', '0.28', '0.50', '0.31', '0.32', '0.33', '0.20', '0.42', '0.43', '0.36', '0.39', '0.30', '0.29', '0.19', '0.35', '0.25', '0.27', '0.29', '0.20', '0.31', '0.28', '0.34', '0.34', '0.22', '0.20', '0.26', '0.35', '0.35', '0.27', '0.27', '0.30', '0.26', '0.28', '0.35', '0.21', '0.20', '0.35', '0.26', '0.20', '0.24', '0.25', '0.21', '0.35', '0.20', '0.23', '0.21', '0.46', '0.18', '0.36', '0.28', '0.28', '0.21', '0.18', '0.24', '0.20', '0.13', '0.31', '0.42', '0.31', '0.25', '0.30', '0.39', '0.43', '0.17', '0.21', '0.24', '0.29', '0.36', '0.20', '0.36', '0.46', '0.31', '0.25', '0.29', '0.28', '0.24', '0.23', '0.26', '0.43', '0.28', '0.24', '0.33', '0.35', '0.27', '0.30', '0.30', '0.38', '0.48', '0.22', '0.25', '0.24', '0.28', '0.44', '0.20', '0.39', '0.31', '0.28', '0.16', '0.41', '0.33', '0.41', '0.28', '0.28', '0.41', '0.25', '0.25', '0.50', '0.42', '0.27', '0.31', '0.28', '0.45', '0.31', '0.28', '0.21', '0.17', '0.33', '0.17', '0.20', '0.26', '0.20', '0.25', '0.35', '0.54', '0.22', '0.26', '0.39', '0.44', '0.31', '0.31', '0.27', '0.28', '0.37', '0.31', '0.21', '0.55', '0.59', '0.46', '0.26', '0.40', '0.39', '0.61', '0.48', '0.41', '0.43', '0.51', '0.61', '0.39', '0.33', '0.33', '0.39', '0.31', '0.36', '0.46', '0.63', '0.31', '0.27', '0.28', '0.28', '0.21', '0.24', '0.29', '0.43', '0.20', '0.14', '0.15', '0.23', '0.28', '0.20', '0.39', '0.25', '0.22', '0.20', '0.24', '0.26', '0.20', '0.27', '0.46', '0.26', '0.21', '0.22', '0.23', '0.22', '0.25', '0.24', '0.24', '0.20', '0.27', '0.35', '0.56', '0.22', '0.34', '0.30', '0.50', '0.31', '0.24', '0.39', '0.38', '0.33', '0.20', '0.55', '0.45', '0.62', '0.22', '0.32', '0.35', '0.47', '0.24', '0.23', '0.28', '0.36', '0.26', '0.24', '0.21', '0.27', '0.24', '0.21', '0.28', '0.24', '0.20', '0.29', '0.39', '0.51', '0.27', '0.29', '0.35', '0.69', '0.30', '0.20', '0.35', '0.37', '0.18', '0.28', '0.47', '0.46', '0.57', '0.28', '0.36', '0.28', '0.46', '0.27', '0.24', '0.26', '0.36', '0.24', '0.24', '0.24', '0.21', '0.27', '0.20', '0.29', '0.14', '0.45', '0.21', '0.22', '0.23', '0.20', '0.20', '0.21', '0.47', '0.25', '0.27', '0.20', '0.19', '0.35', '0.17', '0.26', '0.25', '0.18', '0.31', '0.29', '0.43', '0.22', '0.33', '0.35', '0.40', '0.47', '0.30', '0.26', '0.26', '0.31', '0.45', '0.30', '0.35', '0.31', '0.54', '0.29', '0.30', '0.27', '0.29', '0.45', '0.30', '0.27', '0.30', '0.31', '0.44', '0.38', '0.25', '0.26', '0.27', '0.36', '0.29', '0.28', '0.53', '0.33', '0.43', '0.27', '0.26', '0.55', '0.44', '0.35', '0.28', '0.31', '0.48', '0.29', '0.35', '0.24', '0.24', '0.25', '0.20', '0.28', '0.35', '0.10', '0.25', '0.17', '0.26', '0.33', '0.21', '0.34', '0.31', '0.21', '0.31', '0.26', '0.27', '0.35', '0.22', '0.30', '0.28', '0.25', '0.30', '0.34', '0.48', '0.29', '0.28', '0.48', '0.41', '0.36', '0.40', '0.30', '0.28', '0.36', '0.22', '0.24', '0.35', '0.27', '0.24', '0.44', '0.50', '0.27', '0.31', '0.38', '0.35', '0.43', '0.34', '0.40', '0.26', '0.51', '0.33', '0.48', '0.42', '0.58', '0.43', '0.57', '0.54', '0.41', '0.44', '0.49', '0.52', '0.47', '0.41', '0.36', '0.50', '0.31', '0.31', '0.45', '0.35', '0.41', '0.53', '0.39', '0.28', '0.44', '0.40', '0.46', '0.40', '0.38', '0.48', '0.35', '0.49', '0.42', '0.53', '0.33', '0.58', '0.38', '0.57', '0.48', '0.49', '0.44', '0.50', '0.50', '0.46', '0.36', '0.35', '0.43', '0.39', '0.39', '0.49', '0.39', '0.49', '0.50', '0.44', '0.41', '0.37', '0.40', '0.45', '0.36', '0.39', '0.37', '0.35', '0.39', '0.29', '0.24', '0.43', '0.23', '0.26', '0.39', '0.31', '0.27', '0.30', '0.30', '0.28', '0.40', '0.29', '0.28', '0.26', '0.28', '0.31', '0.35', '0.31', '0.32', '0.34', '0.39', '0.28', '0.26', '0.20']\n"
          ]
        }
      ],
      "source": [
        "volsR = [\"%.2f\"%n.volume.getRealized() for n in base_midi.flat.notes]\n",
        "print(volsR)\n",
        "# print(vols)\n"
      ]
    },
    {
      "cell_type": "code",
      "execution_count": null,
      "metadata": {
        "colab": {
          "base_uri": "https://localhost:8080/"
        },
        "id": "TlaF6zC2O2Tl",
        "outputId": "76ae483f-60f8-4f2f-c6de-2213706b4fc5"
      },
      "outputs": [
        {
          "name": "stdout",
          "output_type": "stream",
          "text": [
            "[[60.0, 0.6456692913385826], [62.0, 0.6220472440944882], [99.0, 0.6377952755905512], [100.0, 0.6141732283464567], [153.0, 0.6456692913385826], [191.0, 0.6141732283464567], [192.0, 0.6141732283464567], [194.0, 0.6299212598425197], [206.0, 0.6220472440944882], [212.0, 0.6929133858267716]]\n",
            "10\n"
          ]
        }
      ],
      "source": [
        "volsRTime = []\n",
        "for el in base_midi.flat.notes:\n",
        "  v = el.volume.getRealized()\n",
        "  if v > 0.6:\n",
        "    volsRTime.append([round(float(el.offset), 2), v])\n",
        "print(volsRTime)\n",
        "print(len(volsRTime))"
      ]
    },
    {
      "cell_type": "code",
      "execution_count": null,
      "metadata": {
        "id": "un1KM7PDXSCn"
      },
      "outputs": [],
      "source": [
        "vv = []\n",
        "times = []\n",
        "for el in base_midi.flat.notes:\n",
        "  vv.append(el.volume.getRealized())\n",
        "  times.append(round(float(el.offset), 2))\n"
      ]
    },
    {
      "cell_type": "code",
      "execution_count": null,
      "metadata": {
        "colab": {
          "base_uri": "https://localhost:8080/",
          "height": 265
        },
        "id": "Xlhdl8eqW701",
        "outputId": "d949873b-696d-4eb5-a559-0583ee51e6d9"
      },
      "outputs": [
        {
          "data": {
            "image/png": "[encoded data removed]",
            "text/plain": [
              "<Figure size 432x288 with 1 Axes>"
            ]
          },
          "metadata": {
            "image/png": {
              "height": 248,
              "width": 372
            },
            "needs_background": "light"
          },
          "output_type": "display_data"
        }
      ],
      "source": [
        "import matplotlib.pyplot as plt\n",
        "\n",
        "plt.plot(times, vv)\n",
        "for el in volsRTime:\n",
        "  plt.plot(el[0], el[1],\"or\")"
      ]
    },
    {
      "cell_type": "markdown",
      "metadata": {
        "id": "MytUJJISS2JF"
      },
      "source": [
        "Попробуем выделять средний velocity в окне некоторой длины"
      ]
    },
    {
      "cell_type": "code",
      "execution_count": null,
      "metadata": {
        "id": "cpElL-nGPRLz"
      },
      "outputs": [],
      "source": [
        "volsAvTime = []\n",
        "avT = []\n",
        "avV = []\n",
        "v = 0\n",
        "for i, el in enumerate(base_midi.flat.notes):\n",
        "  v += el.volume.getRealized()\n",
        "  if i%5 == 0:\n",
        "    avT.append(round(float(el.offset), 2))\n",
        "    avV.append(v/5)\n",
        "    if v/5 > 0.4:\n",
        "      volsAvTime.append([round(float(el.offset), 2), v/5])\n",
        "    v = 0\n",
        "# print(volsAvTime)"
      ]
    },
    {
      "cell_type": "code",
      "execution_count": null,
      "metadata": {
        "colab": {
          "base_uri": "https://localhost:8080/",
          "height": 265
        },
        "id": "UHt_xURuPRJ6",
        "outputId": "488df4ca-ef7c-4659-c1ae-efc79981c63c"
      },
      "outputs": [
        {
          "data": {
            "image/png": "[encoded data removed]",
            "text/plain": [
              "<Figure size 432x288 with 1 Axes>"
            ]
          },
          "metadata": {
            "image/png": {
              "height": 248,
              "width": 372
            },
            "needs_background": "light"
          },
          "output_type": "display_data"
        }
      ],
      "source": [
        "plt.plot(avT, avV)\n",
        "for el in volsAvTime:\n",
        "  plt.plot(el[0], el[1],\"or\")"
      ]
    },
    {
      "cell_type": "markdown",
      "metadata": {
        "id": "03ZAShNOWuwQ"
      },
      "source": [
        "#### Поизучаем music21.tempo: defines objects for describing tempo and changes in tempo (отслеживать где сменился темп)"
      ]
    },
    {
      "cell_type": "code",
      "execution_count": null,
      "metadata": {
        "id": "4wRIj-ZAgIJL"
      },
      "outputs": [],
      "source": [
        "ts.beat"
      ]
    },
    {
      "cell_type": "code",
      "execution_count": null,
      "metadata": {
        "id": "sILpNjPTPRHF"
      },
      "outputs": [],
      "source": [
        "from music21 import corpus, meter\n",
        "\n",
        "ts = base_midi.flat.getElementsByClass(meter.TimeSignature)[0]\n",
        "ts.beat.partition(1)\n",
        "for h in range(len(ts.beat)):\n",
        "  ts.beat[h] = ts.beat[h].subdivide(2)\n",
        "  for i in range(len(ts.beat[h])):\n",
        "    ts.beat[h][i] = \\\n",
        "    ts.beat[h][i].subdivide(2)\n",
        "    for j in range(len(ts.beat[h][i])):\n",
        "      ts.beat[h][i][j] = \\\n",
        "      ts.beat[h][i][j].subdivide(2)\n",
        "for m in partBass.measures:\n",
        "  for n in m.notes:\n",
        "    for i in range(\n",
        "      ts.getBeatDepth(n.offset)):\n",
        "      n.addLyric('*')"
      ]
    },
    {
      "cell_type": "code",
      "execution_count": null,
      "metadata": {
        "id": "ny3HYYolcubW"
      },
      "outputs": [],
      "source": [
        "from music21 import corpus, meter, articulations\n",
        "# score = corpus.parseWork('bach/bwv366.xml')\n",
        "partBass = base_midi.getElementById('Bass')\n",
        "ts = partBass.flat.getElementsByClass(meter.TimeSignature)[0]\n",
        "ts.beat.partition(['3/8', '3/8'])\n",
        "ts.accent.partition(['3/8', '3/8'])\n",
        "ts.setAccentWeight([1, .5])\n",
        "for m in partBass.measures:\n",
        "  lastBeat = None\n",
        "  for n in m.notes:\n",
        "    beat, progress = ts.getBeatProgress(n.offset)\n",
        "    if beat != lastBeat and progress == 0:\n",
        "      if n.tie != None and n.tie.type == 'stop':\n",
        "        continue\n",
        "      if ts.getAccentWeight(n.offset) == 1:\n",
        "        mark = articulations.StrongAccent()\n",
        "      elif ts.getAccentWeight(n.offset) == .5:\n",
        "        mark = articulations.Accent()\n",
        "        n.articulations.append(mark)\n",
        "        lastBeat = beat\n",
        "  m = m.sorted\n",
        "partBass.measures[0:8].show('musicxml')"
      ]
    },
    {
      "cell_type": "code",
      "execution_count": null,
      "metadata": {
        "id": "75pT4GRzcuY5"
      },
      "outputs": [],
      "source": []
    },
    {
      "cell_type": "markdown",
      "metadata": {
        "id": "qSJ-12bUctxK"
      },
      "source": [
        "#### В music21 есть объект rhythmString, хочется из него тоже достать что-нибудь полезное (выделение по ритму ?)"
      ]
    },
    {
      "cell_type": "code",
      "execution_count": null,
      "metadata": {
        "colab": {
          "base_uri": "https://localhost:8080/"
        },
        "id": "M5N3aolAfn5B",
        "outputId": "4d07f9d9-d2a1-4c00-836b-d1699f81d344"
      },
      "outputs": [
        {
          "name": "stdout",
          "output_type": "stream",
          "text": [
            "[0.0]\n"
          ]
        }
      ],
      "source": [
        "from music21 import features\n",
        "fe = features.jSymbolic.BrassFractionFeature(base_midi)\n",
        "print(fe.extract().vector)"
      ]
    },
    {
      "cell_type": "code",
      "execution_count": null,
      "metadata": {
        "colab": {
          "base_uri": "https://localhost:8080/",
          "height": 143
        },
        "id": "xYxH_HKIkk9G",
        "outputId": "52bd8554-2dff-4d37-9c33-c85ac3aaa3e7"
      },
      "outputs": [
        {
          "data": {
            "application/vnd.google.colaboratory.intrinsic+json": {
              "type": "string"
            },
            "text/plain": [
              "'ZCECCECECCCCAEAEHTAFCFCECECECCCNUNUUNAGTSOISPEBEBEBEBEBENUNUUNTMUEMFPFBFBFIPGIPGIIPEBEBEBEBEIPDBDBCBCHGFCQCOACCFCFQJQGJQJQFJSFEFEFLLQCGAFASJECCECOCACFAFCEGEGEGCEBCBCGBFAEFEFCECAECECFEFEAAAAAAAAAACCACACCCCCECENNUUNAGOEAELSBGBGIPIPAIQGCGEGEGECECDADAJJQGCACAHQAJQGCACAHQAJQACAIPGAGAFNGMUANUQEJQECECEEFEFEFEFECGCGCGCCACAEACCCGCGCGCCECFEFCJSCCJJZSZEEEECCDDEECEEEECCACACBBABBBBEBFBFBFBFCEBECECEBDBDBCBCBDBDBCBCDDEBFJPGBEBEBEIJPPEBEIBOCACBBAAAACFAJQGCGBCGCFJCQFLSFEGEGLQECCCCGEEEEECCCCGGEECCAAFFAACCCEEFEFEFEFCECEAFAFBEBEMBPEEBGBABABAIPIGBGJCLEDQGCGCGCGCGJKQQGCGCGJKQQGCGJPABABAIAASFCECECECEAECECECEEEEEFFEEEEAAAZEZFFFFEEFFEEEEEEGEEFFFTNGGGFFFFGGFFDDEEABBBAFAAGGGGCCEFBEEEEGGGCCBBEFFFFEEFEFFGGFFFFEEFFFFCAFFFFFFFCAFFFFFFFFEEECZAAFFJBOFGUTEGGGGJUGMBBLEDQBUFIUGFMMISGEISGEIGFFBTFCFCFCFCFFMTSCJUJTGNGGGSFNGNUGUAFGJCQFBBLESSCNQMGJTAFJTAFJFLSCECUFFNFNTFNUUJUNUNUULNUNUUNCUUEGCEGJCJUZGGGGZGGGGGGNUGGGJUGGGGGGGGGGGGGGGITFLEMTFGGJCQUMQNQMSEEEENSGFLCJSCJRCTGGFJQEEEEEGGGGGGGGGGGGGJHUGGNSGGNNUUNUFJUEGGEGCCGEZGZECECGGGGFFFGGFFFFGGFFFEEGFGJUGGNJTJZSEGGEE'"
            ]
          },
          "execution_count": 144,
          "metadata": {},
          "output_type": "execute_result"
        }
      ],
      "source": [
        "# Now we will search for all dotted-quarter/eighth elements in the Stream:\n",
        "# searchStream1 = stream.Stream()\n",
        "# searchStream1.append(note.Note(quarterLength=1.5))\n",
        "# searchStream1.append(note.Note(quarterLength=0.5))\n",
        "\n",
        "# search.noteNameRhythmicSearch(base_midi.recurse().notes, searchList)\n",
        "\n",
        "# A-G = note of same length as previous H-N = note of longer length than previous O-U = note of shorter length than previous Z = rest\n",
        "l = search.rhythmicSearch(base_midi.recurse().notes, searchStream1)\n",
        "search.translateDiatonicStreamToString(base_midi.recurse().notesAndRests)"
      ]
    },
    {
      "cell_type": "markdown",
      "metadata": {
        "id": "JxFEJ4Jtlh2z"
      },
      "source": [
        "Translates a Stream (not StreamIterator) of Notes and Rests only into a string, encoding only the chromatic distance from the last note and whether the note is slower, faster, or the same speed as the previous note.\n",
        "\n",
        "Skips all but the first note of tie. Skips multiple rests in a row\n",
        "\n",
        "Each note gets one byte and encodes up from -13 to 13 (all notes > octave are 13 or -13)"
      ]
    },
    {
      "cell_type": "code",
      "execution_count": null,
      "metadata": {
        "colab": {
          "base_uri": "https://localhost:8080/"
        },
        "id": "XFAxuKg2lfDf",
        "outputId": "69c1e850-e549-4dd6-ec70-a4303dd96899"
      },
      "outputs": [
        {
          "name": "stdout",
          "output_type": "stream",
          "text": [
            " P] D FQDF QDF QDF;[ DFQDFQDFQDFP:WFPEF5;WERDE;XECSDF;WDGRCFT6XDNDFQDF*pDF `.;\\BFSBFSBF,pBFb.p5XFQDF)p;WDRED,V[FDQFD,m;WEj!pE-;WFLFDQFDQFD;WEDREDRED+pEDa.;_ECSECSEC,pECb.qWDE;\\EDR7WF,pBF,VWDFQDF)p;WG+q%]G)p:WF6_F*VXEFPEFK:WEPFEPEF)pEFP!lF6;WFQ2[F+o5XF*p:WFPEFPEFP\"la5!lFQ5XFQ2[FQ#VXF*p;WFPEFP\"VWFOFFO\"VWBRGB-p;WDRED-VWEFPEF*p;WCRFC0p:WFQDF*p:WG )pEFK;WEMEDNDFQ\"kF`.p6WFSBFSBF,pBFb.p;WF6_FR\"VWF*p:WFO\"VWGNFGNFG'p;WG&p;WDRED,p;WF*p;WC,;WF)lF(mF+jF;`F)lF(mF+jF;W=E)mE&pE)mE;\\E)mE&pE)mEN;WLCLCLCLCLC;\\@NALBM@NALNP;WLCLCLCLCLCV;WLCLCLCLCLCLOFOFOFOFOFOFOFOFOF4a3_F;`^GHJK1aF6_F;W^GHJK2`F6_F;ZGHJK7`a@UF@;WCESCE;WDERFC9aEDNDFQDF*pDF*;WBFSBFSBF,pBFb.VWDFQDF)p;WDRED,V[FDQFDP%;WEO!pE-;WFDNDERDE+pDEa.p6WFSBFSBFS\"iFb.p5XERDEQ\"VWGP\"VWEN\"VWGNFGM\"qWDREDT\"VWFPEF+p;WGQCG)p:WEPFEPEFP\"lFP!lFQ;WF:`;WFQ#VWF*p:WFPEFPEFP\"lFP!lFQ5XF:`;WFQ#VWF*p;WFPEFP\"VWFQDF,p;WFSBFSBFS\"VWET\"VWET\"VXF,VWBF,p5XF,p7WGRBG)VWDG(p;WG )VWDFQDF*q;WFRCF0;\\;WIDFQDFQ:WFq6\\XBFSBFSBFS:WFq\":5WLBM@NALB;WLq!;WOFOFOFRF;XKn!R;WLBM@NALB;WLq!;WOFOFOFRF ;XKn!;\\;WALN5aEDNM6_FEMLNDNMEM1 <V!V\n",
            "\n",
            "[32, 80, 93, 32, 68, 32, 70, 81, 68, 70, 32, 81, 68, 70, 32, 81, 68, 70, 59, 91, 32, 68, 70, 81, 68, 70, 81, 68, 70, 81, 68, 70, 80, 58, 87, 70, 80, 69, 70, 53, 59, 87, 69, 82, 68, 69, 59, 88, 69, 67, 83, 68, 70, 59, 87, 68, 71, 82, 67, 70, 84, 54, 88, 68, 78, 68, 70, 81, 68, 70, 42, 112, 68, 70, 32, 96, 46, 59, 92, 66, 70, 83, 66, 70, 83, 66, 70, 44, 112, 66, 70, 98, 46, 112, 53, 88, 70, 81, 68, 70, 41, 112, 59, 87, 68, 82, 69, 68, 44, 86, 91, 70, 68, 81, 70, 68, 44, 109, 59, 87, 69, 106, 33, 112, 69, 45, 59, 87, 70, 76, 70, 68, 81, 70, 68, 81, 70, 68, 59, 87, 69, 68, 82, 69, 68, 82, 69, 68, 43, 112, 69, 68, 97, 46, 59, 95, 69, 67, 83, 69, 67, 83, 69, 67, 44, 112, 69, 67, 98, 46, 113, 87, 68, 69, 59, 92, 69, 68, 82, 55, 87, 70, 44, 112, 66, 70, 44, 86, 87, 68, 70, 81, 68, 70, 41, 112, 59, 87, 71, 43, 113, 37, 93, 71, 41, 112, 58, 87, 70, 54, 95, 70, 42, 86, 88, 69, 70, 80, 69, 70, 75, 58, 87, 69, 80, 70, 69, 80, 69, 70, 41, 112, 69, 70, 80, 33, 108, 70, 54, 59, 87, 70, 81, 50, 91, 70, 43, 111, 53, 88, 70, 42, 112, 58, 87, 70, 80, 69, 70, 80, 69, 70, 80, 34, 108, 97, 53, 33, 108, 70, 81, 53, 88, 70, 81, 50, 91, 70, 81, 35, 86, 88, 70, 42, 112, 59, 87, 70, 80, 69, 70, 80, 34, 86, 87, 70, 79, 70, 70, 79, 34, 86, 87, 66, 82, 71, 66, 45, 112, 59, 87, 68, 82, 69, 68, 45, 86, 87, 69, 70, 80, 69, 70, 42, 112, 59, 87, 67, 82, 70, 67, 48, 112, 58, 87, 70, 81, 68, 70, 42, 112, 58, 87, 71, 32, 41, 112, 69, 70, 75, 59, 87, 69, 77, 69, 68, 78, 68, 70, 81, 34, 107, 70, 96, 46, 112, 54, 87, 70, 83, 66, 70, 83, 66, 70, 44, 112, 66, 70, 98, 46, 112, 59, 87, 70, 54, 95, 70, 82, 34, 86, 87, 70, 42, 112, 58, 87, 70, 79, 34, 86, 87, 71, 78, 70, 71, 78, 70, 71, 39, 112, 59, 87, 71, 38, 112, 59, 87, 68, 82, 69, 68, 44, 112, 59, 87, 70, 42, 112, 59, 87, 67, 44, 59, 87, 70, 41, 108, 70, 40, 109, 70, 43, 106, 70, 59, 96, 70, 41, 108, 70, 40, 109, 70, 43, 106, 70, 59, 87, 61, 69, 41, 109, 69, 38, 112, 69, 41, 109, 69, 59, 92, 69, 41, 109, 69, 38, 112, 69, 41, 109, 69, 78, 59, 87, 76, 67, 76, 67, 76, 67, 76, 67, 76, 67, 59, 92, 64, 78, 65, 76, 66, 77, 64, 78, 65, 76, 78, 80, 59, 87, 76, 67, 76, 67, 76, 67, 76, 67, 76, 67, 86, 59, 87, 76, 67, 76, 67, 76, 67, 76, 67, 76, 67, 76, 79, 70, 79, 70, 79, 70, 79, 70, 79, 70, 79, 70, 79, 70, 79, 70, 79, 70, 52, 97, 51, 95, 70, 59, 96, 94, 71, 72, 74, 75, 49, 97, 70, 54, 95, 70, 59, 87, 94, 71, 72, 74, 75, 50, 96, 70, 54, 95, 70, 59, 90, 71, 72, 74, 75, 55, 96, 97, 64, 85, 70, 64, 59, 87, 67, 69, 83, 67, 69, 59, 87, 68, 69, 82, 70, 67, 57, 97, 69, 68, 78, 68, 70, 81, 68, 70, 42, 112, 68, 70, 42, 59, 87, 66, 70, 83, 66, 70, 83, 66, 70, 44, 112, 66, 70, 98, 46, 86, 87, 68, 70, 81, 68, 70, 41, 112, 59, 87, 68, 82, 69, 68, 44, 86, 91, 70, 68, 81, 70, 68, 80, 37, 59, 87, 69, 79, 33, 112, 69, 45, 59, 87, 70, 68, 78, 68, 69, 82, 68, 69, 43, 112, 68, 69, 97, 46, 112, 54, 87, 70, 83, 66, 70, 83, 66, 70, 83, 34, 105, 70, 98, 46, 112, 53, 88, 69, 82, 68, 69, 81, 34, 86, 87, 71, 80, 34, 86, 87, 69, 78, 34, 86, 87, 71, 78, 70, 71, 77, 34, 113, 87, 68, 82, 69, 68, 84, 34, 86, 87, 70, 80, 69, 70, 43, 112, 59, 87, 71, 81, 67, 71, 41, 112, 58, 87, 69, 80, 70, 69, 80, 69, 70, 80, 34, 108, 70, 80, 33, 108, 70, 81, 59, 87, 70, 58, 96, 59, 87, 70, 81, 35, 86, 87, 70, 42, 112, 58, 87, 70, 80, 69, 70, 80, 69, 70, 80, 34, 108, 70, 80, 33, 108, 70, 81, 53, 88, 70, 58, 96, 59, 87, 70, 81, 35, 86, 87, 70, 42, 112, 59, 87, 70, 80, 69, 70, 80, 34, 86, 87, 70, 81, 68, 70, 44, 112, 59, 87, 70, 83, 66, 70, 83, 66, 70, 83, 34, 86, 87, 69, 84, 34, 86, 87, 69, 84, 34, 86, 88, 70, 44, 86, 87, 66, 70, 44, 112, 53, 88, 70, 44, 112, 55, 87, 71, 82, 66, 71, 41, 86, 87, 68, 71, 40, 112, 59, 87, 71, 32, 41, 86, 87, 68, 70, 81, 68, 70, 42, 113, 59, 87, 70, 82, 67, 70, 48, 59, 92, 59, 87, 73, 68, 70, 81, 68, 70, 81, 58, 87, 70, 113, 54, 92, 88, 66, 70, 83, 66, 70, 83, 66, 70, 83, 58, 87, 70, 113, 34, 58, 53, 87, 76, 66, 77, 64, 78, 65, 76, 66, 59, 87, 76, 113, 33, 59, 87, 79, 70, 79, 70, 79, 70, 82, 70, 59, 88, 75, 110, 33, 82, 59, 87, 76, 66, 77, 64, 78, 65, 76, 66, 59, 87, 76, 113, 33, 59, 87, 79, 70, 79, 70, 79, 70, 82, 70, 32, 59, 88, 75, 110, 33, 59, 92, 59, 87, 65, 76, 78, 53, 97, 69, 68, 78, 77, 54, 95, 70, 69, 77, 76, 78, 68, 78, 77, 69, 77, 49, 32, 60, 86, 33, 86]\n",
            "\n"
          ]
        },
        {
          "data": {
            "text/plain": [
              "1036"
            ]
          },
          "execution_count": 147,
          "metadata": {},
          "output_type": "execute_result"
        }
      ],
      "source": [
        "sn = base_midi.recurse().notesAndRests.stream()\n",
        "streamString = search.translateIntervalsAndSpeed(sn)\n",
        "print(streamString)\n",
        "print()\n",
        "print([ord(x) for x in streamString])\n",
        "print()\n",
        "len(streamString)"
      ]
    },
    {
      "cell_type": "code",
      "execution_count": null,
      "metadata": {
        "id": "XfK6OlZCl-GF"
      },
      "outputs": [],
      "source": [
        "# streamString2, measures = search.translateIntervalsAndSpeed(sn, returnMeasures=True)\n",
        "# measures"
      ]
    },
    {
      "cell_type": "code",
      "execution_count": null,
      "metadata": {
        "id": "a_B-gzdVcv-4"
      },
      "outputs": [],
      "source": [
        "# # bach = corpus.parse('bwv1.6')\n",
        "from music21 import search\n",
        "\n",
        "sortedRhythms = search.mostCommonMeasureRhythms(base_midi)\n",
        "for in_dict in sortedRhythms[0:3]:\n",
        "    print(f\"no: {in_dict['number']} rhythmString: {in_dict['rhythmString']}\")\n",
        "    print('bars: %r' % ([(m.number,\n",
        "                              str(m.getContextByClass(stream.Part).id))\n",
        "                           for m in in_dict['measures']]))\n",
        "    in_dict['rhythm'].show('text')\n",
        "    print('-----')"
      ]
    },
    {
      "cell_type": "code",
      "execution_count": null,
      "metadata": {
        "id": "oVrDUMQPcv8h"
      },
      "outputs": [],
      "source": []
    },
    {
      "cell_type": "markdown",
      "metadata": {
        "id": "IOcxaWsXVQMF"
      },
      "source": [
        "Надо изучить:\n",
        "- https://gitlab.inria.fr/qparse/onthefly\n",
        "-"
      ]
    },
    {
      "cell_type": "markdown",
      "metadata": {
        "id": "ClMRgd2KPUhb"
      },
      "source": [
        "### Изучение структуры/гармонии"
      ]
    },
    {
      "cell_type": "markdown",
      "metadata": {
        "id": "c5ZlZXqC_IIC"
      },
      "source": [
        "Какие инструменты использовались в музыке:\n"
      ]
    },
    {
      "cell_type": "code",
      "execution_count": null,
      "metadata": {
        "colab": {
          "base_uri": "https://localhost:8080/"
        },
        "id": "yxaarpGF-4_H",
        "outputId": "82542475-6a61-483b-a564-72a8d21af513"
      },
      "outputs": [
        {
          "name": "stdout",
          "output_type": "stream",
          "text": [
            "List of instruments found on MIDI file:\n",
            "Piano\n",
            "Piano\n"
          ]
        }
      ],
      "source": [
        "def list_instruments(midi):\n",
        "    partStream = midi.parts.stream()\n",
        "    print(\"List of instruments found on MIDI file:\")\n",
        "    for p in partStream:\n",
        "        aux = p\n",
        "        print (p.partName)\n",
        "\n",
        "list_instruments(base_midi)"
      ]
    },
    {
      "cell_type": "code",
      "execution_count": null,
      "metadata": {
        "colab": {
          "base_uri": "https://localhost:8080/",
          "height": 348
        },
        "id": "mFv1NFMU_FJA",
        "outputId": "c1960402-957c-4367-eb65-f5202a257a0a"
      },
      "outputs": [
        {
          "data": {
            "image/png": "[encoded data removed]",
            "text/plain": [
              "<Figure size 864x360 with 1 Axes>"
            ]
          },
          "metadata": {
            "image/png": {
              "height": 331,
              "width": 717
            },
            "needs_background": "light"
          },
          "output_type": "display_data"
        }
      ],
      "source": [
        "import matplotlib.pyplot as plt\n",
        "import matplotlib.lines as mlines\n",
        "\n",
        "def extract_notes(midi_part):\n",
        "    parent_element = []\n",
        "    ret = []\n",
        "    for nt in midi_part.flat.notes:\n",
        "        if isinstance(nt, note.Note):\n",
        "            ret.append(max(0.0, nt.pitch.ps))\n",
        "            parent_element.append(nt)\n",
        "        elif isinstance(nt, chord.Chord):\n",
        "            for pitch in nt.pitches:\n",
        "                ret.append(max(0.0, pitch.ps))\n",
        "                parent_element.append(nt)\n",
        "\n",
        "    return ret, parent_element\n",
        "\n",
        "def print_parts_countour(midi):\n",
        "    fig = plt.figure(figsize=(12, 5))\n",
        "    ax = fig.add_subplot(1, 1, 1)\n",
        "    minPitch = pitch.Pitch('C10').ps\n",
        "    maxPitch = 0\n",
        "    xMax = 0\n",
        "\n",
        "    # Drawing notes.\n",
        "    for i in range(len(midi.parts)):\n",
        "        top = midi.parts[i].flat.notes\n",
        "        y, parent_element = extract_notes(top)\n",
        "        if (len(y) < 1): continue\n",
        "\n",
        "        x = [n.offset for n in parent_element]\n",
        "        ax.scatter(x, y, alpha=0.6, s=7)\n",
        "\n",
        "        aux = min(y)\n",
        "        if (aux < minPitch): minPitch = aux\n",
        "\n",
        "        aux = max(y)\n",
        "        if (aux > maxPitch): maxPitch = aux\n",
        "\n",
        "        aux = max(x)\n",
        "        if (aux > xMax): xMax = aux\n",
        "\n",
        "    for i in range(1, 10):\n",
        "        linePitch = pitch.Pitch('C{0}'.format(i)).ps\n",
        "        if (linePitch > minPitch and linePitch < maxPitch):\n",
        "            ax.add_line(mlines.Line2D([0, xMax], [linePitch, linePitch], color='red', alpha=0.1))\n",
        "\n",
        "    plt.ylabel(\"Note index (each octave has 12 notes)\")\n",
        "    plt.xlabel(\"Number of quarter notes (beats)\")\n",
        "    plt.title('Voices motion approximation, each color is a different instrument, red lines show each octave')\n",
        "    plt.show()\n",
        "\n",
        "# Focusing only on 6 first measures to make it easier to understand.\n",
        "print_parts_countour(base_midi.measures(0, 6))"
      ]
    },
    {
      "cell_type": "code",
      "execution_count": null,
      "metadata": {
        "colab": {
          "base_uri": "https://localhost:8080/",
          "height": 399
        },
        "id": "zxTI2E0U_WUn",
        "outputId": "f57eda14-2b60-4408-c586-7ae8c25a6ccf"
      },
      "outputs": [
        {
          "data": {
            "image/png": "[encoded data removed]",
            "text/plain": [
              "<Figure size 432x432 with 1 Axes>"
            ]
          },
          "metadata": {
            "image/png": {
              "height": 382,
              "width": 372
            }
          },
          "output_type": "display_data"
        }
      ],
      "source": [
        "base_midi.plot('histogram', 'pitchClass', 'count')\n"
      ]
    },
    {
      "cell_type": "code",
      "execution_count": null,
      "metadata": {
        "colab": {
          "base_uri": "https://localhost:8080/",
          "height": 344
        },
        "id": "SMFSN_7P_hzv",
        "outputId": "ec5d0467-6835-422a-a5d7-a2abe0de4cd5"
      },
      "outputs": [
        {
          "data": {
            "image/png": "[encoded data removed]",
            "text/plain": [
              "<Figure size 720x360 with 1 Axes>"
            ]
          },
          "metadata": {
            "image/png": {
              "height": 327,
              "width": 583
            }
          },
          "output_type": "display_data"
        }
      ],
      "source": [
        "base_midi.plot('scatter', 'offset', 'pitchClass')\n"
      ]
    },
    {
      "cell_type": "code",
      "execution_count": null,
      "metadata": {
        "colab": {
          "base_uri": "https://localhost:8080/"
        },
        "id": "fGAaXjSt_keh",
        "outputId": "aef3157e-5db6-42ec-c684-938aaa300b60"
      },
      "outputs": [
        {
          "name": "stdout",
          "output_type": "stream",
          "text": [
            "Music time signature: 4/4\n",
            "Expected music key: c# minor\n",
            "Music key confidence: 0.7962442204725401\n",
            "Other music key alternatives:\n",
            "f# minor\n",
            "E major\n",
            "g# minor\n",
            "C# major\n",
            "F# major\n"
          ]
        }
      ],
      "source": [
        "timeSignature = base_midi.getTimeSignatures()[0]\n",
        "music_analysis = base_midi.analyze('key')\n",
        "print(\"Music time signature: {0}/{1}\".format(timeSignature.beatCount, timeSignature.denominator))\n",
        "print(\"Expected music key: {0}\".format(music_analysis))\n",
        "print(\"Music key confidence: {0}\".format(music_analysis.correlationCoefficient))\n",
        "print(\"Other music key alternatives:\")\n",
        "for analysis in music_analysis.alternateInterpretations:\n",
        "    if (analysis.correlationCoefficient > 0.5):\n",
        "        print(analysis)"
      ]
    },
    {
      "cell_type": "code",
      "execution_count": null,
      "metadata": {
        "id": "Q7JZqYgq_ohy"
      },
      "outputs": [],
      "source": []
    },
    {
      "cell_type": "code",
      "execution_count": null,
      "metadata": {
        "id": "PszCnF-lA1lQ"
      },
      "outputs": [],
      "source": []
    }
  ],
  "metadata": {
    "accelerator": "GPU",
    "colab": {
      "provenance": []
    },
    "gpuClass": "standard",
    "kernelspec": {
      "display_name": "Python 3",
      "name": "python3"
    },
    "language_info": {
      "codemirror_mode": {
        "name": "ipython",
        "version": 3
      },
      "file_extension": ".py",
      "mimetype": "text/x-python",
      "name": "python",
      "nbconvert_exporter": "python",
      "pygments_lexer": "ipython3",
      "version": "3.10.14"
    }
  },
  "nbformat": 4,
  "nbformat_minor": 0
}
