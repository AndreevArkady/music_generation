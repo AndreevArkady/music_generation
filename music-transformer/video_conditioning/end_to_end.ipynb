{
 "cells": [
  {
   "cell_type": "markdown",
   "metadata": {},
   "source": [
    "env: VideoMusic"
   ]
  },
  {
   "cell_type": "markdown",
   "metadata": {},
   "source": [
    "# 0."
   ]
  },
  {
   "cell_type": "code",
   "execution_count": 2,
   "metadata": {},
   "outputs": [
    {
     "name": "stdout",
     "output_type": "stream",
     "text": [
      "/storage/arkady/Glinka/music-transformer/video_conditioning\n"
     ]
    }
   ],
   "source": [
    "%load_ext autoreload\n",
    "%autoreload 2\n",
    "%matplotlib inline \n",
    "\n",
    "import os\n",
    "import sys\n",
    "from pathlib import Path\n",
    "import pandas as pd\n",
    "import json\n",
    "import matplotlib.pyplot as plt\n",
    "import numpy as np\n",
    "from tqdm import tqdm\n",
    "from collections import Counter, defaultdict\n",
    "\n",
    "sys.path.append('/storage/arkady/Glinka/music-transformer/video_conditioning/content/video_keyframe_detector')\n",
    "sys.path.append(\"/storage/arkady/Glinka/music-transformer/video_conditioning/content/computervision-recipes\")  # import utils_cv ...\n",
    "\n",
    "os.environ['LD_PRELOAD'] = '/usr/lib/x86_64-linux-gnu/libffi.so.7'\n",
    "\n",
    "selected_videos = [25, 5, 14, 17, 27]\n",
    "ind = 2\n",
    "path_mp4 = Path('/storage/arkady/Glinka/music-transformer/video_conditioning') \\\n",
    "    / 'content' / 'video_data' / f'video_ad{selected_videos[ind]}.mp4'\n",
    "assert os.path.exists(path_mp4)\n",
    "\n",
    "!pwd\n",
    "%rm -rf /home/arkady/.cache/torch/hub/moabitcoin_ig65m-pytorch_master"
   ]
  },
  {
   "cell_type": "markdown",
   "metadata": {},
   "source": [
    "# 1. mp4 -> midi"
   ]
  },
  {
   "cell_type": "code",
   "execution_count": 13,
   "metadata": {},
   "outputs": [
    {
     "name": "stdout",
     "output_type": "stream",
     "text": [
      "MoviePy - Writing audio in /storage/arkady/Glinka/music-transformer/video_conditioning/tmp_e2e/video_ad27.mp3\n"
     ]
    },
    {
     "name": "stderr",
     "output_type": "stream",
     "text": [
      "                                                                   \r"
     ]
    },
    {
     "name": "stdout",
     "output_type": "stream",
     "text": [
      "MoviePy - Done.\n",
      "=====Successfully written new mp3 to path_mp3=PosixPath('/storage/arkady/Glinka/music-transformer/video_conditioning/tmp_e2e/video_ad27.mp3')\n",
      "loading model... done\n",
      "loading wave source... done\n",
      "stft of wave source... done\n"
     ]
    },
    {
     "name": "stderr",
     "output_type": "stream",
     "text": [
      "100%|██████████| 1/1 [00:05<00:00,  6.00s/it]\n"
     ]
    },
    {
     "name": "stdout",
     "output_type": "stream",
     "text": [
      "validating output directory... done\n",
      "inverse stft of instruments... done\n",
      "inverse stft of vocals... done\n",
      "=====Instrumentals at: /storage/arkady/Glinka/music-transformer/video_conditioning/tmp_e2e/video_ad27_Instruments.wav\n",
      "=====Vocals at: /storage/arkady/Glinka/music-transformer/video_conditioning/tmp_e2e/video_ad27_Vocals.wav\n",
      "\n",
      "✨✨✨✨✨✨✨✨✨\n",
      "✨ Basic Pitch  ✨\n",
      "✨✨✨✨✨✨✨✨✨\n",
      "\n",
      "Importing Tensorflow (this may take a few seconds)...\n",
      "\n",
      "Predicting MIDI for /storage/arkady/Glinka/music-transformer/video_conditioning/tmp_e2e/video_ad27_Instruments.wav...\n",
      "\n",
      "\n",
      "  Creating midi...\n",
      "  💅 Saved to /storage/arkady/Glinka/music-transformer/video_conditioning/tmp_e2e/video_ad27_Instruments_basic_pitch.mid\n",
      "\n",
      "✨ Done ✨\n",
      "\n",
      "/storage/arkady/Glinka/music-transformer/video_conditioning/tmp_e2e/video_ad27/video_ad27.mid\n"
     ]
    }
   ],
   "source": [
    "from video_utils.mp4_to_midi import mp4_to_midi\n",
    "\n",
    "path_midi = mp4_to_midi(\n",
    "    path_to_mp4=path_mp4,\n",
    "    tempdir='./tmp_e2e',\n",
    ")\n",
    "print(path_midi)"
   ]
  },
  {
   "cell_type": "markdown",
   "metadata": {},
   "source": [
    "# 2. kvm generation"
   ]
  },
  {
   "cell_type": "markdown",
   "metadata": {},
   "source": [
    "## 2.1 kvm1 TODO"
   ]
  },
  {
   "cell_type": "code",
   "execution_count": 4,
   "metadata": {},
   "outputs": [
    {
     "data": {
      "text/plain": [
       "PosixPath('/storage/arkady/Glinka/music-transformer/video_conditioning/content/video_data/video_ad17.mp4')"
      ]
     },
     "execution_count": 4,
     "metadata": {},
     "output_type": "execute_result"
    }
   ],
   "source": [
    "path_mp4"
   ]
  },
  {
   "cell_type": "code",
   "execution_count": 4,
   "metadata": {},
   "outputs": [
    {
     "name": "stdout",
     "output_type": "stream",
     "text": [
      "Loading r2plus1d_34_8_kinetics model\n"
     ]
    },
    {
     "name": "stderr",
     "output_type": "stream",
     "text": [
      "/storage/arkady/miniconda3/envs/VideoMusic/lib/python3.10/site-packages/torch/hub.py:294: UserWarning: You are about to download and run code from an untrusted repository. In a future release, this won't be allowed. To add the repository to your trusted list, change the command to {calling_fn}(..., trust_repo=False) and a command prompt will appear asking for an explicit confirmation of trust, or load(..., trust_repo=True), which will assume that the prompt is to be answered with 'yes'. You can also use load(..., trust_repo='check') which will only prompt for confirmation if the repo is not already trusted. This will eventually be the default behaviour\n",
      "  warnings.warn(\n",
      "Downloading: \"https://github.com/moabitcoin/ig65m-pytorch/zipball/master\" to /home/arkady/.cache/torch/hub/master.zip\n"
     ]
    }
   ],
   "source": [
    "from collections import deque, defaultdict\n",
    "import cv2\n",
    "import sys\n",
    "\n",
    "# sys.path.append(\"/storage/arkady/Glinka/music_generation/content/computervision-recipes\")\n",
    "from utils_cv.action_recognition.data import KINETICS, Urls\n",
    "from utils_cv.action_recognition.dataset import get_transforms\n",
    "from utils_cv.action_recognition.model import VideoLearner\n",
    "from utils_cv.action_recognition.references import transforms_video as transforms\n",
    "from utils_cv.common.gpu import system_info, torch_device\n",
    "from utils_cv.common.data import data_path\n",
    "import decord #\n",
    "from ipywidgets import HBox, HTML, Layout, VBox, Widget, Label\n",
    "\n",
    "LABELS = KINETICS.class_names\n",
    "NUM_FRAMES = 8  # 8 or 32.\n",
    "IM_SCALE = 128  # resize then crop\n",
    "INPUT_SIZE = 112  # input clip size: 3 x NUM_FRAMES x 112 x 112\n",
    "SCORE_thresHOLD = 0.16\n",
    "AVERAGING_SIZE = 1\n",
    "\n",
    "learner = VideoLearner(\n",
    "        base_model=\"kinetics\",\n",
    "        sample_length=NUM_FRAMES,\n",
    ")\n",
    "\n",
    "transforms = get_transforms(train=False)\n",
    "# d_caption = IPython.display.display(\"Preparing...\", display_id=2)\n",
    "l = len(LABELS)\n",
    "# def update_println(println):\n",
    "#   d_caption.update(IPython.display.HTML(println))\n",
    "# key_video_moments = defaultdict(list)\n",
    "\n",
    "def VideoToMoments(path_video, SCORE_thresHOLD=0.16) -> list[int]:\n",
    "    cap = cv2.VideoCapture(path_video)\n",
    "    FPS = int(cap.get(cv2.CAP_PROP_FPS))\n",
    "\n",
    "    print('Video: ', path_video, 'with fps:', FPS)\n",
    "    video_reader = decord.VideoReader(path_video)\n",
    "    window = deque()\n",
    "    scores_cache = deque()\n",
    "    scores_sum = np.zeros(len(LABELS))\n",
    "    w_text = HTML(layout=Layout(padding=\"0 0 0 100px\"))\n",
    "\n",
    "    cur_frame = 0\n",
    "    prev_frame = 0\n",
    "    prev_sets = []\n",
    "    num = 1\n",
    "    prev_name = ''\n",
    "    prev_set = set()\n",
    "    video_name = path_video.split('/')[-1]\n",
    "    key_video_moments = []\n",
    "    while True:\n",
    "        print('.', end='')\n",
    "        try:\n",
    "            frame = video_reader.next().asnumpy()\n",
    "            window.append(frame)\n",
    "            def update_println(println):\n",
    "                    w_text.value = println\n",
    "\n",
    "            if len(window) == NUM_FRAMES:\n",
    "                    a, set_a = learner.predict_frames(\n",
    "                            window,\n",
    "                            scores_cache,\n",
    "                            scores_sum,\n",
    "                            None,\n",
    "                            30,\n",
    "                            SCORE_thresHOLD,\n",
    "                            LABELS,\n",
    "                            LABELS,\n",
    "                            get_transforms(train=False),\n",
    "                            update_println,\n",
    "                    )\n",
    "\n",
    "                #   print(a, set_a)\n",
    "                    cur_frame_sec = cur_frame//FPS + (cur_frame%FPS)/100\n",
    "                    if len(prev_sets) > FPS:\n",
    "                        prev_cumm_set = set().union(*prev_sets[-FPS:])\n",
    "                    else:\n",
    "                        prev_cumm_set = set().union(*prev_sets)\n",
    "                    if cur_frame == 0 or (a and a not in prev_cumm_set and cur_frame_sec - prev_frame > 0.5):\n",
    "                        key_video_moments.append(float(\"{:.2f}\".format(cur_frame_sec)))\n",
    "                        # print(num, ': Секунда: ', \"{:.2f}\".format(cur_frame_sec), ', началось действие: ', a)\n",
    "                        num += 1\n",
    "                        prev_frame = cur_frame_sec\n",
    "                        prev_name = a\n",
    "                        prev_set = set_a\n",
    "                        prev_sets.append(prev_set)\n",
    "            else:\n",
    "                    w_text.value = \"Preparing...\"\n",
    "            cur_frame += 1\n",
    "        except:\n",
    "            break\n",
    "\n",
    "    return key_video_moments"
   ]
  },
  {
   "cell_type": "code",
   "execution_count": null,
   "metadata": {},
   "outputs": [],
   "source": [
    "kvm1 = VideoToMoments(str(path_mp4), SCORE_thresHOLD=0.01)\n",
    "kvm1"
   ]
  },
  {
   "cell_type": "code",
   "execution_count": 35,
   "metadata": {},
   "outputs": [
    {
     "data": {
      "text/plain": [
       "[1.11, 10.23, 12.07, 13.13, 20.09, 47.2]"
      ]
     },
     "execution_count": 35,
     "metadata": {},
     "output_type": "execute_result"
    }
   ],
   "source": [
    "with open(\"./kvm1.json\") as f:\n",
    "    kvm1 = json.load(f)\n",
    "kvm1[path_mp4.name]"
   ]
  },
  {
   "cell_type": "markdown",
   "metadata": {},
   "source": [
    "## kvm1 improve TODO"
   ]
  },
  {
   "cell_type": "code",
   "execution_count": 13,
   "metadata": {
    "scrolled": true
   },
   "outputs": [
    {
     "data": {
      "text/plain": [
       "True"
      ]
     },
     "execution_count": 13,
     "metadata": {},
     "output_type": "execute_result"
    }
   ],
   "source": [
    "import torch\n",
    "torch.cuda.is_available()"
   ]
  },
  {
   "cell_type": "code",
   "execution_count": null,
   "metadata": {},
   "outputs": [
    {
     "name": "stdout",
     "output_type": "stream",
     "text": [
      "Loading r2plus1d_34_8_kinetics model\n"
     ]
    },
    {
     "name": "stderr",
     "output_type": "stream",
     "text": [
      "Downloading: \"https://github.com/moabitcoin/ig65m-pytorch/zipball/master\" to /home/arkady/.cache/torch/hub/master.zip\n"
     ]
    }
   ],
   "source": [
    "import cv2\n",
    "import numpy as np\n",
    "import decord\n",
    "import torch\n",
    "from collections import deque\n",
    "from utils_cv.action_recognition.data import KINETICS\n",
    "from utils_cv.action_recognition.dataset import get_transforms\n",
    "from utils_cv.action_recognition.model import VideoLearner\n",
    "\n",
    "LABELS = KINETICS.class_names\n",
    "NUM_FRAMES = 8\n",
    "SCORE_THRESHOLD = 0.16\n",
    "\n",
    "learner = VideoLearner(\n",
    "    base_model=\"kinetics\",\n",
    "    sample_length=NUM_FRAMES,\n",
    ")\n",
    "\n",
    "transforms = get_transforms(train=False)\n",
    "\n",
    "def VideoToMoments(path_video, SCORE_THRESHOLD=0.16) -> list:\n",
    "    path_video = str(path_video)\n",
    "    cap = cv2.VideoCapture(path_video)\n",
    "    FPS = int(cap.get(cv2.CAP_PROP_FPS))\n",
    "    print(f'Video: {path_video}, FPS: {FPS}')\n",
    "\n",
    "    video_reader = decord.VideoReader(path_video)\n",
    "    window = deque(maxlen=NUM_FRAMES)\n",
    "    scores_cache = deque()\n",
    "    scores_sum = np.zeros(len(LABELS))\n",
    "    \n",
    "    key_video_moments = []\n",
    "    prev_frame_sec = 0\n",
    "    prev_sets = []\n",
    "\n",
    "    for cur_frame, frame in enumerate(video_reader):\n",
    "        frame = frame.asnumpy()\n",
    "        window.append(frame)\n",
    "\n",
    "        if len(window) == NUM_FRAMES:\n",
    "            # Check if CUDA is available\n",
    "            if torch.cuda.is_available():\n",
    "                device = torch.device('cuda')\n",
    "            else:\n",
    "                device = torch.device('cpu')\n",
    "\n",
    "            learner.model.to(device)\n",
    "            learner.model.eval()\n",
    "\n",
    "            action, set_a = learner.predict_frames(\n",
    "                window,\n",
    "                scores_cache,\n",
    "                scores_sum,\n",
    "                None,\n",
    "                30,\n",
    "                SCORE_THRESHOLD,\n",
    "                LABELS,\n",
    "                LABELS,\n",
    "                transforms,\n",
    "                None,\n",
    "            )\n",
    "\n",
    "            cur_frame_sec = cur_frame // FPS + (cur_frame % FPS) / FPS\n",
    "            if len(prev_sets) > FPS:\n",
    "                prev_cumm_set = set().union(*prev_sets[-FPS:])\n",
    "            else:\n",
    "                prev_cumm_set = set().union(*prev_sets)\n",
    "\n",
    "            if action and (cur_frame == 0 or (action not in prev_cumm_set and cur_frame_sec - prev_frame_sec > 0.5)):\n",
    "                key_video_moments.append(float(f\"{cur_frame_sec:.2f}\"))\n",
    "                prev_frame_sec = cur_frame_sec\n",
    "                prev_sets.append(set_a)\n",
    "\n",
    "    return key_video_moments\n",
    "\n",
    "\n",
    "key_moments = VideoToMoments(path_mp4)"
   ]
  },
  {
   "cell_type": "markdown",
   "metadata": {},
   "source": [
    "## 2.2 kvm2"
   ]
  },
  {
   "cell_type": "code",
   "execution_count": 15,
   "metadata": {
    "scrolled": true
   },
   "outputs": [
    {
     "name": "stdout",
     "output_type": "stream",
     "text": [
      "Path(dest) / Path(source).stem=PosixPath('tmp_e2e/video_ad27')\n",
      "Figure(1200x600)\n",
      "keyframe 2 happened at 1.0 sec.\n",
      "keyframe 3 happened at 1.1 sec.\n"
     ]
    }
   ],
   "source": [
    "!{sys.executable} content/video_keyframe_detector/cli.py -s {str(path_mp4)} -d tmp_e2e -t 0.9"
   ]
  },
  {
   "cell_type": "code",
   "execution_count": 127,
   "metadata": {},
   "outputs": [
    {
     "data": {
      "image/png": "[encoded data removed]",
      "text/plain": [
       "<Figure size 1200x600 with 1 Axes>"
      ]
     },
     "metadata": {},
     "output_type": "display_data"
    }
   ],
   "source": [
    "from KeyFrameDetector.key_frame_detector import keyframeDetection\n",
    "\n",
    "kvm2 = keyframeDetection(source=str(path_mp4), dest='tmp_e2e', thres=0.6,\n",
    "                  verbose=False,\n",
    "                  plotMetrics=True\n",
    "                  )"
   ]
  },
  {
   "cell_type": "code",
   "execution_count": 118,
   "metadata": {},
   "outputs": [
    {
     "data": {
      "image/png": "[encoded data removed]",
      "text/plain": [
       "<Figure size 640x480 with 1 Axes>"
      ]
     },
     "metadata": {},
     "output_type": "display_data"
    }
   ],
   "source": [
    "import peakutils\n",
    "thres = 0.5\n",
    "\n",
    "lstdiffMag = kvm2[0]\n",
    "y = np.array(lstdiffMag)\n",
    "base = peakutils.baseline(y, 2)\n",
    "indices = peakutils.indexes(y-base, thres, min_dist=1)\n",
    "\n",
    "x = np.arange(len(lstdiffMag))\n",
    "# plt.scatter(x, lstdiffMag, label='lstdiffMag')\n",
    "plt.scatter(x, y, label='y', s=3)\n",
    "plt.scatter(x, base * 400, label='base', s=3)\n",
    "# plt.scatter(x, indices, label='indices')\n",
    "plt.legend()\n",
    "for ind in indices:\n",
    "    plt.axvline(ind, ymax=300000, ymin=-150000, c='r', lw=1, alpha=1/2)"
   ]
  },
  {
   "cell_type": "code",
   "execution_count": 95,
   "metadata": {
    "scrolled": true
   },
   "outputs": [
    {
     "data": {
      "text/plain": [
       "array([  25,   61,  109,  166,  211,  242,  302,  493,  657,  806,  919,\n",
       "        981,  993, 1021, 1049, 1075, 1154])"
      ]
     },
     "execution_count": 95,
     "metadata": {},
     "output_type": "execute_result"
    }
   ],
   "source": [
    "indices"
   ]
  },
  {
   "cell_type": "code",
   "execution_count": 2,
   "metadata": {},
   "outputs": [
    {
     "name": "stderr",
     "output_type": "stream",
     "text": [
      "100%|██████████| 1282/1282 [00:02<00:00, 575.44it/s]\n"
     ]
    },
    {
     "data": {
      "text/plain": [
       "array([ 1.  ,  2.44,  4.36,  6.64,  8.44,  9.68, 12.08, 19.72, 26.28,\n",
       "       32.24, 36.76, 39.24, 39.72, 40.84, 41.96, 43.  , 46.16])"
      ]
     },
     "execution_count": 2,
     "metadata": {},
     "output_type": "execute_result"
    }
   ],
   "source": [
    "from video_utils.kvm import extract_kvm2\n",
    "\n",
    "kvm2, fps2 = extract_kvm2(path_mp4, thres=0.6)\n",
    "\n",
    "np.array(kvm2) / fps2"
   ]
  },
  {
   "cell_type": "markdown",
   "metadata": {},
   "source": [
    "## 2.3 kvm3 (gpt-4o)"
   ]
  },
  {
   "cell_type": "code",
   "execution_count": 31,
   "metadata": {},
   "outputs": [
    {
     "name": "stderr",
     "output_type": "stream",
     "text": [
      "VideoManager is deprecated and will be removed.\n"
     ]
    },
    {
     "data": {
      "text/plain": [
       "[44, 129, 203, 337, 534]"
      ]
     },
     "execution_count": 31,
     "metadata": {},
     "output_type": "execute_result"
    }
   ],
   "source": [
    "from video_utils.kvm import extract_kvm3\n",
    "\n",
    "kvm3 = extract_kvm3(path_mp4)\n",
    "kvm3[0][:5]"
   ]
  },
  {
   "cell_type": "code",
   "execution_count": 46,
   "metadata": {},
   "outputs": [
    {
     "data": {
      "text/plain": [
       "[(00:00:00.000 [frame=0, fps=25.000], 00:00:03.560 [frame=89, fps=25.000]),\n",
       " (00:00:03.560 [frame=89, fps=25.000], 00:00:06.760 [frame=169, fps=25.000]),\n",
       " (00:00:06.760 [frame=169, fps=25.000], 00:00:09.480 [frame=237, fps=25.000]),\n",
       " (00:00:09.480 [frame=237, fps=25.000], 00:00:17.480 [frame=437, fps=25.000]),\n",
       " (00:00:17.480 [frame=437, fps=25.000], 00:00:25.240 [frame=631, fps=25.000]),\n",
       " (00:00:25.240 [frame=631, fps=25.000], 00:00:28.800 [frame=720, fps=25.000]),\n",
       " (00:00:28.800 [frame=720, fps=25.000], 00:00:32.240 [frame=806, fps=25.000]),\n",
       " (00:00:32.240 [frame=806, fps=25.000], 00:00:33.080 [frame=827, fps=25.000]),\n",
       " (00:00:33.080 [frame=827, fps=25.000], 00:00:33.680 [frame=842, fps=25.000]),\n",
       " (00:00:33.680 [frame=842, fps=25.000], 00:00:34.280 [frame=857, fps=25.000]),\n",
       " (00:00:34.280 [frame=857, fps=25.000], 00:00:34.880 [frame=872, fps=25.000]),\n",
       " (00:00:34.880 [frame=872, fps=25.000], 00:00:36.240 [frame=906, fps=25.000]),\n",
       " (00:00:36.240 [frame=906, fps=25.000], 00:00:36.880 [frame=922, fps=25.000]),\n",
       " (00:00:36.880 [frame=922, fps=25.000], 00:00:39.880 [frame=997, fps=25.000]),\n",
       " (00:00:39.880 [frame=997, fps=25.000], 00:00:40.960 [frame=1024, fps=25.000]),\n",
       " (00:00:40.960 [frame=1024, fps=25.000],\n",
       "  00:00:42.720 [frame=1068, fps=25.000]),\n",
       " (00:00:42.720 [frame=1068, fps=25.000],\n",
       "  00:00:45.120 [frame=1128, fps=25.000]),\n",
       " (00:00:45.120 [frame=1128, fps=25.000],\n",
       "  00:00:46.480 [frame=1162, fps=25.000]),\n",
       " (00:00:46.480 [frame=1162, fps=25.000],\n",
       "  00:00:51.480 [frame=1287, fps=25.000]),\n",
       " (00:00:51.480 [frame=1287, fps=25.000],\n",
       "  00:00:57.960 [frame=1449, fps=25.000])]"
      ]
     },
     "execution_count": 46,
     "metadata": {},
     "output_type": "execute_result"
    }
   ],
   "source": [
    "kvm3[2]"
   ]
  },
  {
   "cell_type": "code",
   "execution_count": 50,
   "metadata": {},
   "outputs": [
    {
     "data": {
      "text/plain": [
       "[0.0,\n",
       " 3.56,\n",
       " 6.76,\n",
       " 9.48,\n",
       " 17.48,\n",
       " 25.24,\n",
       " 28.8,\n",
       " 32.24,\n",
       " 33.08,\n",
       " 33.68,\n",
       " 34.28,\n",
       " 34.88,\n",
       " 36.24,\n",
       " 36.88,\n",
       " 39.88,\n",
       " 40.96,\n",
       " 42.72,\n",
       " 45.12,\n",
       " 46.48,\n",
       " 51.48,\n",
       " 57.96]"
      ]
     },
     "execution_count": 50,
     "metadata": {},
     "output_type": "execute_result"
    }
   ],
   "source": [
    "kvm4 = [k[0].get_seconds() for k in kvm3[2]] + [kvm3[2][-1][1].get_seconds()]\n",
    "kvm4"
   ]
  },
  {
   "cell_type": "markdown",
   "metadata": {},
   "source": [
    "## kvm5 papers"
   ]
  },
  {
   "cell_type": "code",
   "execution_count": 1,
   "metadata": {},
   "outputs": [],
   "source": [
    "# не дошли руки, см kvm_research.ipynb"
   ]
  },
  {
   "cell_type": "markdown",
   "metadata": {},
   "source": [
    "## kvms compared"
   ]
  },
  {
   "cell_type": "code",
   "execution_count": 3,
   "metadata": {},
   "outputs": [
    {
     "name": "stdout",
     "output_type": "stream",
     "text": [
      "path_mp4=PosixPath('/storage/arkady/Glinka/music-transformer/video_conditioning/content/video_data/video_ad14.mp4')\n"
     ]
    },
    {
     "name": "stderr",
     "output_type": "stream",
     "text": [
      " 37%|███▋      | 477/1282 [00:00<00:01, 760.66it/s]"
     ]
    },
    {
     "name": "stderr",
     "output_type": "stream",
     "text": [
      "100%|██████████| 1282/1282 [00:01<00:00, 736.72it/s]\n",
      "VideoManager is deprecated and will be removed.\n"
     ]
    },
    {
     "data": {
      "image/png": "[encoded data removed]",
      "text/plain": [
       "<Figure size 640x480 with 1 Axes>"
      ]
     },
     "metadata": {},
     "output_type": "display_data"
    }
   ],
   "source": [
    "import matplotlib.pyplot as plt\n",
    "from video_utils.kvm import extract_kvm3, extract_kvm2\n",
    "import numpy as np\n",
    "\n",
    "ind = 14\n",
    "path_mp4 = Path('/storage/arkady/Glinka/music-transformer/video_conditioning') \\\n",
    "    / 'content' / 'video_data' / f'video_ad{ind}.mp4'\n",
    "\n",
    "print(f'{path_mp4=}')\n",
    "\n",
    "\n",
    "with open(\"./kvm1.json\") as f:\n",
    "    kvm1 = json.load(f)\n",
    "kvm1 = kvm1[f'{path_mp4.stem}.mp4']\n",
    "\n",
    "kvm2, fps2 = extract_kvm2(source=path_mp4, thres=0.6, min_dist=80)\n",
    "kvm2 = np.array(kvm2) / fps2\n",
    "\n",
    "kvm3, fps3, *kvm4 = extract_kvm3(path_mp4, threshold=80.0)\n",
    "kvm3 = np.array(kvm3) / fps3\n",
    "\n",
    "kvm4 = kvm4[0]\n",
    "kvm4 = [k[0].get_seconds() for k in kvm4] + [kvm4[-1][1].get_seconds()]\n",
    "\n",
    "kvms = {\n",
    "    'kvm1': kvm1,\n",
    "    'kvm2': kvm2,\n",
    "    'kvm3': kvm3,\n",
    "    'kvm4': kvm4\n",
    "}\n",
    "\n",
    "# plt.figure(figsize=(6, 3))\n",
    "for i, (name, x) in enumerate(kvms.items()):\n",
    "    plt.scatter(x, -np.ones_like(x) * i, label=name, s=5, marker='X')\n",
    "plt.legend(loc='right')\n",
    "plt.xlabel('seconds')\n",
    "plt.title('Different key moments extraction algorithms')\n",
    "plt.show()"
   ]
  },
  {
   "cell_type": "code",
   "execution_count": 143,
   "metadata": {},
   "outputs": [
    {
     "data": {
      "text/plain": [
       "109"
      ]
     },
     "execution_count": 143,
     "metadata": {},
     "output_type": "execute_result"
    }
   ],
   "source": [
    "# args = extract_kvm3(path_mp4, threshold=70.0)\n",
    "args[2][5][0].get_frames()"
   ]
  },
  {
   "cell_type": "markdown",
   "metadata": {},
   "source": [
    "## add_time_bar"
   ]
  },
  {
   "cell_type": "code",
   "execution_count": 16,
   "metadata": {},
   "outputs": [
    {
     "name": "stdout",
     "output_type": "stream",
     "text": [
      "Moviepy - Building video video_ad14_bar.mp4.\n",
      "MoviePy - Writing audio in video_ad14_barTEMP_MPY_wvf_snd.mp3\n"
     ]
    },
    {
     "name": "stderr",
     "output_type": "stream",
     "text": [
      "                                                                                                                                                                                                                       \r"
     ]
    },
    {
     "name": "stdout",
     "output_type": "stream",
     "text": [
      "MoviePy - Done.\n",
      "Moviepy - Writing video video_ad14_bar.mp4\n",
      "\n"
     ]
    },
    {
     "name": "stderr",
     "output_type": "stream",
     "text": [
      "                                                                                                                                                                                                                       \r"
     ]
    },
    {
     "name": "stdout",
     "output_type": "stream",
     "text": [
      "Moviepy - Done !\n",
      "Moviepy - video ready video_ad14_bar.mp4\n"
     ]
    }
   ],
   "source": [
    "from video_utils.video_preproces import add_time_bar\n",
    "\n",
    "# Example usage\n",
    "add_time_bar(path_mp4, path_mp4.stem + '_bar.mp4')"
   ]
  },
  {
   "cell_type": "markdown",
   "metadata": {},
   "source": [
    "## add_time_bar_with_markers"
   ]
  },
  {
   "cell_type": "code",
   "execution_count": 16,
   "metadata": {},
   "outputs": [
    {
     "name": "stderr",
     "output_type": "stream",
     "text": [
      "VideoManager is deprecated and will be removed.\n"
     ]
    },
    {
     "name": "stdout",
     "output_type": "stream",
     "text": [
      "Moviepy - Building video video_ad14_zxc.mp4.\n",
      "MoviePy - Writing audio in video_ad14_zxcTEMP_MPY_wvf_snd.mp3\n"
     ]
    },
    {
     "name": "stderr",
     "output_type": "stream",
     "text": [
      "                                                                     \r"
     ]
    },
    {
     "name": "stdout",
     "output_type": "stream",
     "text": [
      "MoviePy - Done.\n",
      "Moviepy - Writing video video_ad14_zxc.mp4\n",
      "\n"
     ]
    },
    {
     "name": "stderr",
     "output_type": "stream",
     "text": [
      "                                                                 \r"
     ]
    },
    {
     "name": "stdout",
     "output_type": "stream",
     "text": [
      "Moviepy - Done !\n",
      "Moviepy - video ready video_ad14_zxc.mp4\n"
     ]
    }
   ],
   "source": [
    "import cv2\n",
    "import numpy as np\n",
    "import os\n",
    "from moviepy.editor import VideoFileClip\n",
    "\n",
    "from video_utils.video_preproces import add_time_bar_with_markers\n",
    "\n",
    "kvm3, fps3 = extract_kvm3(path_mp4, threshold=30.0)\n",
    "kvm3 = np.array(kvm3) / fps3\n",
    "\n",
    "add_time_bar_with_markers(\n",
    "    video_path=path_mp4, \n",
    "    output_path=path_mp4.stem + '_zxc.mp4', \n",
    "    key_moments=kvm3,\n",
    "    key_moments_2=kvm2,\n",
    ")"
   ]
  },
  {
   "cell_type": "markdown",
   "metadata": {},
   "source": [
    "## add_time_bar_with_markers_any"
   ]
  },
  {
   "cell_type": "code",
   "execution_count": 75,
   "metadata": {},
   "outputs": [
    {
     "name": "stdout",
     "output_type": "stream",
     "text": [
      "Moviepy - Building video video_ad25_any.mp4.\n",
      "MoviePy - Writing audio in video_ad25_anyTEMP_MPY_wvf_snd.mp3\n"
     ]
    },
    {
     "name": "stderr",
     "output_type": "stream",
     "text": [
      "                                                                     \r"
     ]
    },
    {
     "name": "stdout",
     "output_type": "stream",
     "text": [
      "MoviePy - Done.\n",
      "Moviepy - Writing video video_ad25_any.mp4\n",
      "\n"
     ]
    },
    {
     "name": "stderr",
     "output_type": "stream",
     "text": [
      "                                                                \r"
     ]
    },
    {
     "name": "stdout",
     "output_type": "stream",
     "text": [
      "Moviepy - Done !\n",
      "Moviepy - video ready video_ad25_any.mp4\n"
     ]
    }
   ],
   "source": [
    "from video_utils.video_preproces import add_time_bar_with_markers_any\n",
    "\n",
    "# ind = 25\n",
    "# path_mp4 = Path('/storage/arkady/Glinka/music-transformer/video_conditioning') \\\n",
    "#     / 'content' / 'video_data' / f'video_ad{ind}.mp4'\n",
    "\n",
    "add_time_bar_with_markers_any(\n",
    "    video_path=path_mp4, \n",
    "    output_path=path_mp4.stem + '_any.mp4', \n",
    "    bar_thickness=6, \n",
    "    bar_opacity=0.5, \n",
    "    marker_size=5, \n",
    "    args=[kvm1,    kvm2,    kvm3,    kvm4][::-1]\n",
    ")"
   ]
  },
  {
   "cell_type": "markdown",
   "metadata": {},
   "source": [
    "## перебор threshold"
   ]
  },
  {
   "cell_type": "code",
   "execution_count": 95,
   "metadata": {},
   "outputs": [
    {
     "name": "stderr",
     "output_type": "stream",
     "text": [
      "VideoManager is deprecated and will be removed.\n"
     ]
    },
    {
     "name": "stdout",
     "output_type": "stream",
     "text": [
      "/storage/arkady/Glinka/music-transformer/video_conditioning/content/video_data/video_ad14.mp4\n"
     ]
    },
    {
     "name": "stderr",
     "output_type": "stream",
     "text": [
      "VideoManager is deprecated and will be removed.\n"
     ]
    },
    {
     "name": "stdout",
     "output_type": "stream",
     "text": [
      "mid=100, len_kvm3=8\n",
      "writing 100\n"
     ]
    },
    {
     "name": "stderr",
     "output_type": "stream",
     "text": [
      "VideoManager is deprecated and will be removed.\n"
     ]
    },
    {
     "name": "stdout",
     "output_type": "stream",
     "text": [
      "mid=50, len_kvm3=25\n"
     ]
    },
    {
     "name": "stderr",
     "output_type": "stream",
     "text": [
      "VideoManager is deprecated and will be removed.\n"
     ]
    },
    {
     "name": "stdout",
     "output_type": "stream",
     "text": [
      "mid=75, len_kvm3=18\n"
     ]
    },
    {
     "name": "stderr",
     "output_type": "stream",
     "text": [
      "VideoManager is deprecated and will be removed.\n"
     ]
    },
    {
     "name": "stdout",
     "output_type": "stream",
     "text": [
      "mid=87, len_kvm3=12\n",
      "writing 87\n",
      "mid=93, len_kvm3=8\n",
      "writing 93\n"
     ]
    }
   ],
   "source": [
    "import json\n",
    "import os\n",
    "from pathlib import Path\n",
    "\n",
    "\n",
    "def search_thresholds_for_kvm3(\n",
    "        path_mp4, \n",
    "        min_length=4, \n",
    "        max_length=12, \n",
    "        max_searches=200\n",
    "    ):\n",
    "    \"\"\"\n",
    "    Searches for threshold values that result in kvm3 and kvm4 lists of a desired length\n",
    "    and saves the results to a JSON config file.\n",
    "\n",
    "    Arguments:\n",
    "        path_mp4 (str or Path): Path to the input video file.\n",
    "        min_length (int): Minimum acceptable length of kvm3. Default is 4.\n",
    "        max_length (int): Maximum acceptable length of kvm3. Default is 12.\n",
    "        max_searches (int): Maximum number of binary search steps. Default is 200.\n",
    "\n",
    "    Returns:\n",
    "        None\n",
    "    \"\"\"\n",
    "    path_mp4 = Path(path_mp4)\n",
    "    if not os.path.exists(path_mp4):\n",
    "        return\n",
    "\n",
    "    config_file = 'kvm_treshold.json'\n",
    "    \n",
    "    # Initialize config dictionary\n",
    "    if os.path.exists(config_file):\n",
    "        with open(config_file, 'r') as f:\n",
    "            config = json.load(f)\n",
    "    else:\n",
    "        config = {}\n",
    "        json.dump({}, open(config_file, 'w'))\n",
    "    \n",
    "    if path_mp4.stem not in config:\n",
    "        config[path_mp4.stem] = []\n",
    "\n",
    "    found_thresholds = set(threshold for threshold, _, __ in config[path_mp4.stem])\n",
    "\n",
    "    total_iter = -1\n",
    "    low, high = 1, max_searches\n",
    "    while low <= high and len(found_thresholds) < 3:\n",
    "        total_iter += 1\n",
    "        if total_iter > max_searches:\n",
    "            break\n",
    "        mid = (low + high) // 2\n",
    "        kvm3, fps3, kvm4 = extract_kvm3(path_mp4, threshold=mid)\n",
    "        # print(f'{kvm4=}')\n",
    "        kvm4 = [] if (not kvm4) else [k[0].get_seconds() for k in kvm4] + [kvm4[-1][1].get_seconds()]\n",
    "        len_kvm3 = len(kvm3)\n",
    "        print(f'{mid=}, {len_kvm3=}')\n",
    "\n",
    "        if min_length <= len_kvm3 <= max_length and mid not in found_thresholds:\n",
    "            print(f'writing {mid}')\n",
    "            found_thresholds.add(mid)\n",
    "            # config[path_mp4.stem].append([mid, len_kvm3, kvm4])\n",
    "            config[path_mp4.stem].append(\n",
    "                {\n",
    "                    'threshold': mid,\n",
    "                    'len': len_kvm3,\n",
    "                    'kvm4': kvm4,\n",
    "                }\n",
    "                )\n",
    "            with open(config_file, 'w') as f:\n",
    "                json.dump(config, f, indent=4)\n",
    "        \n",
    "        if len_kvm3 < min_length:\n",
    "            high = mid - 1\n",
    "        elif len_kvm3 > max_length:\n",
    "            low = mid + 1\n",
    "        else:\n",
    "            # If we found a valid threshold, continue searching around it\n",
    "            # low, high = mid - 1, mid + 1\n",
    "            if len_kvm3 > (min_length + max_length) / 2:\n",
    "                low = mid + 1\n",
    "            else:\n",
    "                high = mid - 1\n",
    "\n",
    "ind = 14\n",
    "path_mp4 = Path('/storage/arkady/Glinka/music-transformer/video_conditioning') \\\n",
    "    / 'content' / 'video_data' / f'video_ad{ind}.mp4'\n",
    "print(path_mp4)\n",
    "\n",
    "search_thresholds_for_kvm3(\n",
    "    path_mp4=path_mp4,\n",
    "    min_length=5, \n",
    "    max_length=12, \n",
    "    max_searches=200\n",
    ")"
   ]
  },
  {
   "cell_type": "code",
   "execution_count": 96,
   "metadata": {},
   "outputs": [
    {
     "name": "stderr",
     "output_type": "stream",
     "text": [
      "VideoManager is deprecated and will be removed.\n"
     ]
    },
    {
     "name": "stdout",
     "output_type": "stream",
     "text": [
      "/storage/arkady/Glinka/music-transformer/video_conditioning/content/video_data/video_ad0.mp4\n",
      "/storage/arkady/Glinka/music-transformer/video_conditioning/content/video_data/video_ad1.mp4\n"
     ]
    },
    {
     "name": "stderr",
     "output_type": "stream",
     "text": [
      "VideoManager is deprecated and will be removed.\n"
     ]
    },
    {
     "name": "stdout",
     "output_type": "stream",
     "text": [
      "mid=100, len_kvm3=5\n",
      "writing 100\n"
     ]
    },
    {
     "name": "stderr",
     "output_type": "stream",
     "text": [
      "VideoManager is deprecated and will be removed.\n"
     ]
    },
    {
     "name": "stdout",
     "output_type": "stream",
     "text": [
      "mid=50, len_kvm3=42\n"
     ]
    },
    {
     "name": "stderr",
     "output_type": "stream",
     "text": [
      "VideoManager is deprecated and will be removed.\n"
     ]
    },
    {
     "name": "stdout",
     "output_type": "stream",
     "text": [
      "mid=75, len_kvm3=12\n",
      "writing 75\n"
     ]
    },
    {
     "name": "stderr",
     "output_type": "stream",
     "text": [
      "VideoManager is deprecated and will be removed.\n"
     ]
    },
    {
     "name": "stdout",
     "output_type": "stream",
     "text": [
      "mid=87, len_kvm3=7\n",
      "writing 87\n",
      "/storage/arkady/Glinka/music-transformer/video_conditioning/content/video_data/video_ad2.mp4\n"
     ]
    },
    {
     "name": "stderr",
     "output_type": "stream",
     "text": [
      "VideoManager is deprecated and will be removed.\n"
     ]
    },
    {
     "name": "stdout",
     "output_type": "stream",
     "text": [
      "mid=100, len_kvm3=0\n"
     ]
    },
    {
     "name": "stderr",
     "output_type": "stream",
     "text": [
      "VideoManager is deprecated and will be removed.\n"
     ]
    },
    {
     "name": "stdout",
     "output_type": "stream",
     "text": [
      "mid=50, len_kvm3=6\n",
      "writing 50\n"
     ]
    },
    {
     "name": "stderr",
     "output_type": "stream",
     "text": [
      "VideoManager is deprecated and will be removed.\n"
     ]
    },
    {
     "name": "stdout",
     "output_type": "stream",
     "text": [
      "mid=25, len_kvm3=25\n"
     ]
    },
    {
     "name": "stderr",
     "output_type": "stream",
     "text": [
      "VideoManager is deprecated and will be removed.\n"
     ]
    },
    {
     "name": "stdout",
     "output_type": "stream",
     "text": [
      "mid=37, len_kvm3=12\n",
      "writing 37\n"
     ]
    },
    {
     "name": "stderr",
     "output_type": "stream",
     "text": [
      "VideoManager is deprecated and will be removed.\n"
     ]
    },
    {
     "name": "stdout",
     "output_type": "stream",
     "text": [
      "mid=43, len_kvm3=8\n",
      "writing 43\n",
      "/storage/arkady/Glinka/music-transformer/video_conditioning/content/video_data/video_ad3.mp4\n"
     ]
    },
    {
     "name": "stderr",
     "output_type": "stream",
     "text": [
      "VideoManager is deprecated and will be removed.\n"
     ]
    },
    {
     "name": "stdout",
     "output_type": "stream",
     "text": [
      "mid=100, len_kvm3=0\n"
     ]
    },
    {
     "name": "stderr",
     "output_type": "stream",
     "text": [
      "VideoManager is deprecated and will be removed.\n"
     ]
    },
    {
     "name": "stdout",
     "output_type": "stream",
     "text": [
      "mid=50, len_kvm3=11\n",
      "writing 50\n"
     ]
    },
    {
     "name": "stderr",
     "output_type": "stream",
     "text": [
      "VideoManager is deprecated and will be removed.\n"
     ]
    },
    {
     "name": "stdout",
     "output_type": "stream",
     "text": [
      "mid=75, len_kvm3=0\n"
     ]
    },
    {
     "name": "stderr",
     "output_type": "stream",
     "text": [
      "VideoManager is deprecated and will be removed.\n"
     ]
    },
    {
     "name": "stdout",
     "output_type": "stream",
     "text": [
      "mid=62, len_kvm3=3\n"
     ]
    },
    {
     "name": "stderr",
     "output_type": "stream",
     "text": [
      "VideoManager is deprecated and will be removed.\n"
     ]
    },
    {
     "name": "stdout",
     "output_type": "stream",
     "text": [
      "mid=56, len_kvm3=6\n",
      "writing 56\n"
     ]
    },
    {
     "name": "stderr",
     "output_type": "stream",
     "text": [
      "VideoManager is deprecated and will be removed.\n"
     ]
    },
    {
     "name": "stdout",
     "output_type": "stream",
     "text": [
      "mid=53, len_kvm3=8\n",
      "writing 53\n",
      "/storage/arkady/Glinka/music-transformer/video_conditioning/content/video_data/video_ad4.mp4\n"
     ]
    },
    {
     "name": "stderr",
     "output_type": "stream",
     "text": [
      "VideoManager is deprecated and will be removed.\n"
     ]
    },
    {
     "name": "stdout",
     "output_type": "stream",
     "text": [
      "mid=100, len_kvm3=0\n"
     ]
    },
    {
     "name": "stderr",
     "output_type": "stream",
     "text": [
      "VideoManager is deprecated and will be removed.\n"
     ]
    },
    {
     "name": "stdout",
     "output_type": "stream",
     "text": [
      "mid=50, len_kvm3=0\n"
     ]
    },
    {
     "name": "stderr",
     "output_type": "stream",
     "text": [
      "VideoManager is deprecated and will be removed.\n"
     ]
    },
    {
     "name": "stdout",
     "output_type": "stream",
     "text": [
      "mid=25, len_kvm3=3\n"
     ]
    },
    {
     "name": "stderr",
     "output_type": "stream",
     "text": [
      "VideoManager is deprecated and will be removed.\n"
     ]
    },
    {
     "name": "stdout",
     "output_type": "stream",
     "text": [
      "mid=12, len_kvm3=13\n"
     ]
    },
    {
     "name": "stderr",
     "output_type": "stream",
     "text": [
      "VideoManager is deprecated and will be removed.\n"
     ]
    },
    {
     "name": "stdout",
     "output_type": "stream",
     "text": [
      "mid=18, len_kvm3=9\n",
      "writing 18\n"
     ]
    },
    {
     "name": "stderr",
     "output_type": "stream",
     "text": [
      "VideoManager is deprecated and will be removed.\n"
     ]
    },
    {
     "name": "stdout",
     "output_type": "stream",
     "text": [
      "mid=21, len_kvm3=5\n",
      "writing 21\n"
     ]
    },
    {
     "name": "stderr",
     "output_type": "stream",
     "text": [
      "VideoManager is deprecated and will be removed.\n"
     ]
    },
    {
     "name": "stdout",
     "output_type": "stream",
     "text": [
      "mid=19, len_kvm3=6\n",
      "writing 19\n",
      "/storage/arkady/Glinka/music-transformer/video_conditioning/content/video_data/video_ad5.mp4\n"
     ]
    },
    {
     "name": "stderr",
     "output_type": "stream",
     "text": [
      "VideoManager is deprecated and will be removed.\n"
     ]
    },
    {
     "name": "stdout",
     "output_type": "stream",
     "text": [
      "mid=100, len_kvm3=2\n"
     ]
    },
    {
     "name": "stderr",
     "output_type": "stream",
     "text": [
      "VideoManager is deprecated and will be removed.\n"
     ]
    },
    {
     "name": "stdout",
     "output_type": "stream",
     "text": [
      "mid=50, len_kvm3=7\n",
      "writing 50\n"
     ]
    },
    {
     "name": "stderr",
     "output_type": "stream",
     "text": [
      "VideoManager is deprecated and will be removed.\n"
     ]
    },
    {
     "name": "stdout",
     "output_type": "stream",
     "text": [
      "mid=25, len_kvm3=14\n"
     ]
    },
    {
     "name": "stderr",
     "output_type": "stream",
     "text": [
      "VideoManager is deprecated and will be removed.\n"
     ]
    },
    {
     "name": "stdout",
     "output_type": "stream",
     "text": [
      "mid=37, len_kvm3=13\n"
     ]
    },
    {
     "name": "stderr",
     "output_type": "stream",
     "text": [
      "VideoManager is deprecated and will be removed.\n"
     ]
    },
    {
     "name": "stdout",
     "output_type": "stream",
     "text": [
      "mid=43, len_kvm3=11\n",
      "writing 43\n"
     ]
    },
    {
     "name": "stderr",
     "output_type": "stream",
     "text": [
      "VideoManager is deprecated and will be removed.\n"
     ]
    },
    {
     "name": "stdout",
     "output_type": "stream",
     "text": [
      "mid=46, len_kvm3=11\n",
      "writing 46\n",
      "/storage/arkady/Glinka/music-transformer/video_conditioning/content/video_data/video_ad6.mp4\n"
     ]
    },
    {
     "name": "stderr",
     "output_type": "stream",
     "text": [
      "VideoManager is deprecated and will be removed.\n"
     ]
    },
    {
     "name": "stdout",
     "output_type": "stream",
     "text": [
      "mid=100, len_kvm3=0\n"
     ]
    },
    {
     "name": "stderr",
     "output_type": "stream",
     "text": [
      "VideoManager is deprecated and will be removed.\n"
     ]
    },
    {
     "name": "stdout",
     "output_type": "stream",
     "text": [
      "mid=50, len_kvm3=0\n"
     ]
    },
    {
     "name": "stderr",
     "output_type": "stream",
     "text": [
      "VideoManager is deprecated and will be removed.\n"
     ]
    },
    {
     "name": "stdout",
     "output_type": "stream",
     "text": [
      "mid=25, len_kvm3=2\n"
     ]
    },
    {
     "name": "stderr",
     "output_type": "stream",
     "text": [
      "VideoManager is deprecated and will be removed.\n"
     ]
    },
    {
     "name": "stdout",
     "output_type": "stream",
     "text": [
      "mid=12, len_kvm3=7\n",
      "writing 12\n"
     ]
    },
    {
     "name": "stderr",
     "output_type": "stream",
     "text": [
      "VideoManager is deprecated and will be removed.\n"
     ]
    },
    {
     "name": "stdout",
     "output_type": "stream",
     "text": [
      "mid=6, len_kvm3=9\n",
      "writing 6\n"
     ]
    },
    {
     "name": "stderr",
     "output_type": "stream",
     "text": [
      "VideoManager is deprecated and will be removed.\n"
     ]
    },
    {
     "name": "stdout",
     "output_type": "stream",
     "text": [
      "mid=9, len_kvm3=7\n",
      "writing 9\n",
      "/storage/arkady/Glinka/music-transformer/video_conditioning/content/video_data/video_ad7.mp4\n"
     ]
    },
    {
     "name": "stderr",
     "output_type": "stream",
     "text": [
      "VideoManager is deprecated and will be removed.\n"
     ]
    },
    {
     "name": "stdout",
     "output_type": "stream",
     "text": [
      "mid=100, len_kvm3=0\n"
     ]
    },
    {
     "name": "stderr",
     "output_type": "stream",
     "text": [
      "VideoManager is deprecated and will be removed.\n"
     ]
    },
    {
     "name": "stdout",
     "output_type": "stream",
     "text": [
      "mid=50, len_kvm3=31\n"
     ]
    },
    {
     "name": "stderr",
     "output_type": "stream",
     "text": [
      "VideoManager is deprecated and will be removed.\n"
     ]
    },
    {
     "name": "stdout",
     "output_type": "stream",
     "text": [
      "mid=75, len_kvm3=12\n",
      "writing 75\n"
     ]
    },
    {
     "name": "stderr",
     "output_type": "stream",
     "text": [
      "VideoManager is deprecated and will be removed.\n"
     ]
    },
    {
     "name": "stdout",
     "output_type": "stream",
     "text": [
      "mid=87, len_kvm3=3\n"
     ]
    },
    {
     "name": "stderr",
     "output_type": "stream",
     "text": [
      "VideoManager is deprecated and will be removed.\n"
     ]
    },
    {
     "name": "stdout",
     "output_type": "stream",
     "text": [
      "mid=81, len_kvm3=10\n",
      "writing 81\n"
     ]
    },
    {
     "name": "stderr",
     "output_type": "stream",
     "text": [
      "VideoManager is deprecated and will be removed.\n"
     ]
    },
    {
     "name": "stdout",
     "output_type": "stream",
     "text": [
      "mid=84, len_kvm3=7\n",
      "writing 84\n",
      "/storage/arkady/Glinka/music-transformer/video_conditioning/content/video_data/video_ad8.mp4\n"
     ]
    },
    {
     "name": "stderr",
     "output_type": "stream",
     "text": [
      "VideoManager is deprecated and will be removed.\n"
     ]
    },
    {
     "name": "stdout",
     "output_type": "stream",
     "text": [
      "mid=100, len_kvm3=0\n"
     ]
    },
    {
     "name": "stderr",
     "output_type": "stream",
     "text": [
      "VideoManager is deprecated and will be removed.\n"
     ]
    },
    {
     "name": "stdout",
     "output_type": "stream",
     "text": [
      "mid=50, len_kvm3=2\n"
     ]
    },
    {
     "name": "stderr",
     "output_type": "stream",
     "text": [
      "VideoManager is deprecated and will be removed.\n"
     ]
    },
    {
     "name": "stdout",
     "output_type": "stream",
     "text": [
      "mid=25, len_kvm3=37\n"
     ]
    },
    {
     "name": "stderr",
     "output_type": "stream",
     "text": [
      "VideoManager is deprecated and will be removed.\n"
     ]
    },
    {
     "name": "stdout",
     "output_type": "stream",
     "text": [
      "mid=37, len_kvm3=26\n"
     ]
    },
    {
     "name": "stderr",
     "output_type": "stream",
     "text": [
      "VideoManager is deprecated and will be removed.\n"
     ]
    },
    {
     "name": "stdout",
     "output_type": "stream",
     "text": [
      "mid=43, len_kvm3=13\n"
     ]
    },
    {
     "name": "stderr",
     "output_type": "stream",
     "text": [
      "VideoManager is deprecated and will be removed.\n"
     ]
    },
    {
     "name": "stdout",
     "output_type": "stream",
     "text": [
      "mid=46, len_kvm3=4\n"
     ]
    },
    {
     "name": "stderr",
     "output_type": "stream",
     "text": [
      "VideoManager is deprecated and will be removed.\n"
     ]
    },
    {
     "name": "stdout",
     "output_type": "stream",
     "text": [
      "mid=44, len_kvm3=10\n",
      "writing 44\n"
     ]
    },
    {
     "name": "stderr",
     "output_type": "stream",
     "text": [
      "VideoManager is deprecated and will be removed.\n"
     ]
    },
    {
     "name": "stdout",
     "output_type": "stream",
     "text": [
      "mid=45, len_kvm3=9\n",
      "writing 45\n",
      "/storage/arkady/Glinka/music-transformer/video_conditioning/content/video_data/video_ad9.mp4\n"
     ]
    },
    {
     "name": "stderr",
     "output_type": "stream",
     "text": [
      "VideoManager is deprecated and will be removed.\n"
     ]
    },
    {
     "name": "stdout",
     "output_type": "stream",
     "text": [
      "mid=100, len_kvm3=2\n"
     ]
    },
    {
     "name": "stderr",
     "output_type": "stream",
     "text": [
      "VideoManager is deprecated and will be removed.\n"
     ]
    },
    {
     "name": "stdout",
     "output_type": "stream",
     "text": [
      "mid=50, len_kvm3=26\n"
     ]
    },
    {
     "name": "stderr",
     "output_type": "stream",
     "text": [
      "VideoManager is deprecated and will be removed.\n"
     ]
    },
    {
     "name": "stdout",
     "output_type": "stream",
     "text": [
      "mid=75, len_kvm3=16\n"
     ]
    },
    {
     "name": "stderr",
     "output_type": "stream",
     "text": [
      "VideoManager is deprecated and will be removed.\n"
     ]
    },
    {
     "name": "stdout",
     "output_type": "stream",
     "text": [
      "mid=87, len_kvm3=10\n",
      "writing 87\n"
     ]
    },
    {
     "name": "stderr",
     "output_type": "stream",
     "text": [
      "VideoManager is deprecated and will be removed.\n"
     ]
    },
    {
     "name": "stdout",
     "output_type": "stream",
     "text": [
      "mid=93, len_kvm3=5\n",
      "writing 93\n"
     ]
    },
    {
     "name": "stderr",
     "output_type": "stream",
     "text": [
      "VideoManager is deprecated and will be removed.\n"
     ]
    },
    {
     "name": "stdout",
     "output_type": "stream",
     "text": [
      "mid=90, len_kvm3=7\n",
      "writing 90\n",
      "/storage/arkady/Glinka/music-transformer/video_conditioning/content/video_data/video_ad10.mp4\n"
     ]
    },
    {
     "name": "stderr",
     "output_type": "stream",
     "text": [
      "VideoManager is deprecated and will be removed.\n"
     ]
    },
    {
     "name": "stdout",
     "output_type": "stream",
     "text": [
      "mid=100, len_kvm3=2\n"
     ]
    },
    {
     "name": "stderr",
     "output_type": "stream",
     "text": [
      "VideoManager is deprecated and will be removed.\n"
     ]
    },
    {
     "name": "stdout",
     "output_type": "stream",
     "text": [
      "mid=50, len_kvm3=5\n",
      "writing 50\n"
     ]
    },
    {
     "name": "stderr",
     "output_type": "stream",
     "text": [
      "VideoManager is deprecated and will be removed.\n"
     ]
    },
    {
     "name": "stdout",
     "output_type": "stream",
     "text": [
      "mid=25, len_kvm3=13\n"
     ]
    },
    {
     "name": "stderr",
     "output_type": "stream",
     "text": [
      "VideoManager is deprecated and will be removed.\n"
     ]
    },
    {
     "name": "stdout",
     "output_type": "stream",
     "text": [
      "mid=37, len_kvm3=5\n",
      "writing 37\n"
     ]
    },
    {
     "name": "stderr",
     "output_type": "stream",
     "text": [
      "VideoManager is deprecated and will be removed.\n"
     ]
    },
    {
     "name": "stdout",
     "output_type": "stream",
     "text": [
      "mid=31, len_kvm3=9\n",
      "writing 31\n",
      "/storage/arkady/Glinka/music-transformer/video_conditioning/content/video_data/video_ad11.mp4\n"
     ]
    },
    {
     "name": "stderr",
     "output_type": "stream",
     "text": [
      "VideoManager is deprecated and will be removed.\n"
     ]
    },
    {
     "name": "stdout",
     "output_type": "stream",
     "text": [
      "mid=100, len_kvm3=0\n"
     ]
    },
    {
     "name": "stderr",
     "output_type": "stream",
     "text": [
      "VideoManager is deprecated and will be removed.\n"
     ]
    },
    {
     "name": "stdout",
     "output_type": "stream",
     "text": [
      "mid=50, len_kvm3=10\n",
      "writing 50\n"
     ]
    },
    {
     "name": "stderr",
     "output_type": "stream",
     "text": [
      "VideoManager is deprecated and will be removed.\n"
     ]
    },
    {
     "name": "stdout",
     "output_type": "stream",
     "text": [
      "mid=75, len_kvm3=2\n"
     ]
    },
    {
     "name": "stderr",
     "output_type": "stream",
     "text": [
      "VideoManager is deprecated and will be removed.\n"
     ]
    },
    {
     "name": "stdout",
     "output_type": "stream",
     "text": [
      "mid=62, len_kvm3=3\n"
     ]
    },
    {
     "name": "stderr",
     "output_type": "stream",
     "text": [
      "VideoManager is deprecated and will be removed.\n"
     ]
    },
    {
     "name": "stdout",
     "output_type": "stream",
     "text": [
      "mid=56, len_kvm3=9\n",
      "writing 56\n"
     ]
    },
    {
     "name": "stderr",
     "output_type": "stream",
     "text": [
      "VideoManager is deprecated and will be removed.\n"
     ]
    },
    {
     "name": "stdout",
     "output_type": "stream",
     "text": [
      "mid=59, len_kvm3=5\n",
      "writing 59\n",
      "/storage/arkady/Glinka/music-transformer/video_conditioning/content/video_data/video_ad12.mp4\n"
     ]
    },
    {
     "name": "stderr",
     "output_type": "stream",
     "text": [
      "VideoManager is deprecated and will be removed.\n"
     ]
    },
    {
     "name": "stdout",
     "output_type": "stream",
     "text": [
      "mid=100, len_kvm3=0\n"
     ]
    },
    {
     "name": "stderr",
     "output_type": "stream",
     "text": [
      "VideoManager is deprecated and will be removed.\n"
     ]
    },
    {
     "name": "stdout",
     "output_type": "stream",
     "text": [
      "mid=50, len_kvm3=4\n"
     ]
    },
    {
     "name": "stderr",
     "output_type": "stream",
     "text": [
      "VideoManager is deprecated and will be removed.\n"
     ]
    },
    {
     "name": "stdout",
     "output_type": "stream",
     "text": [
      "mid=25, len_kvm3=7\n",
      "writing 25\n"
     ]
    },
    {
     "name": "stderr",
     "output_type": "stream",
     "text": [
      "VideoManager is deprecated and will be removed.\n"
     ]
    },
    {
     "name": "stdout",
     "output_type": "stream",
     "text": [
      "mid=12, len_kvm3=10\n",
      "writing 12\n"
     ]
    },
    {
     "name": "stderr",
     "output_type": "stream",
     "text": [
      "VideoManager is deprecated and will be removed.\n"
     ]
    },
    {
     "name": "stdout",
     "output_type": "stream",
     "text": [
      "mid=18, len_kvm3=8\n",
      "writing 18\n",
      "/storage/arkady/Glinka/music-transformer/video_conditioning/content/video_data/video_ad13.mp4\n"
     ]
    },
    {
     "name": "stderr",
     "output_type": "stream",
     "text": [
      "VideoManager is deprecated and will be removed.\n"
     ]
    },
    {
     "name": "stdout",
     "output_type": "stream",
     "text": [
      "mid=100, len_kvm3=0\n"
     ]
    },
    {
     "name": "stderr",
     "output_type": "stream",
     "text": [
      "VideoManager is deprecated and will be removed.\n"
     ]
    },
    {
     "name": "stdout",
     "output_type": "stream",
     "text": [
      "mid=50, len_kvm3=2\n"
     ]
    },
    {
     "name": "stderr",
     "output_type": "stream",
     "text": [
      "VideoManager is deprecated and will be removed.\n"
     ]
    },
    {
     "name": "stdout",
     "output_type": "stream",
     "text": [
      "mid=25, len_kvm3=14\n"
     ]
    },
    {
     "name": "stderr",
     "output_type": "stream",
     "text": [
      "VideoManager is deprecated and will be removed.\n"
     ]
    },
    {
     "name": "stdout",
     "output_type": "stream",
     "text": [
      "mid=37, len_kvm3=8\n",
      "writing 37\n"
     ]
    },
    {
     "name": "stderr",
     "output_type": "stream",
     "text": [
      "VideoManager is deprecated and will be removed.\n"
     ]
    },
    {
     "name": "stdout",
     "output_type": "stream",
     "text": [
      "mid=31, len_kvm3=12\n",
      "writing 31\n"
     ]
    },
    {
     "name": "stderr",
     "output_type": "stream",
     "text": [
      "VideoManager is deprecated and will be removed.\n"
     ]
    },
    {
     "name": "stdout",
     "output_type": "stream",
     "text": [
      "mid=34, len_kvm3=9\n",
      "writing 34\n",
      "/storage/arkady/Glinka/music-transformer/video_conditioning/content/video_data/video_ad14.mp4\n"
     ]
    },
    {
     "name": "stderr",
     "output_type": "stream",
     "text": [
      "VideoManager is deprecated and will be removed.\n"
     ]
    },
    {
     "name": "stdout",
     "output_type": "stream",
     "text": [
      "mid=100, len_kvm3=8\n",
      "writing 100\n"
     ]
    },
    {
     "name": "stderr",
     "output_type": "stream",
     "text": [
      "VideoManager is deprecated and will be removed.\n"
     ]
    },
    {
     "name": "stdout",
     "output_type": "stream",
     "text": [
      "mid=50, len_kvm3=25\n"
     ]
    },
    {
     "name": "stderr",
     "output_type": "stream",
     "text": [
      "VideoManager is deprecated and will be removed.\n"
     ]
    },
    {
     "name": "stdout",
     "output_type": "stream",
     "text": [
      "mid=75, len_kvm3=18\n"
     ]
    },
    {
     "name": "stderr",
     "output_type": "stream",
     "text": [
      "VideoManager is deprecated and will be removed.\n"
     ]
    },
    {
     "name": "stdout",
     "output_type": "stream",
     "text": [
      "mid=87, len_kvm3=12\n",
      "writing 87\n",
      "/storage/arkady/Glinka/music-transformer/video_conditioning/content/video_data/video_ad15.mp4\n"
     ]
    },
    {
     "name": "stderr",
     "output_type": "stream",
     "text": [
      "VideoManager is deprecated and will be removed.\n"
     ]
    },
    {
     "name": "stdout",
     "output_type": "stream",
     "text": [
      "mid=100, len_kvm3=0\n"
     ]
    },
    {
     "name": "stderr",
     "output_type": "stream",
     "text": [
      "VideoManager is deprecated and will be removed.\n"
     ]
    },
    {
     "name": "stdout",
     "output_type": "stream",
     "text": [
      "mid=50, len_kvm3=6\n",
      "writing 50\n"
     ]
    },
    {
     "name": "stderr",
     "output_type": "stream",
     "text": [
      "VideoManager is deprecated and will be removed.\n"
     ]
    },
    {
     "name": "stdout",
     "output_type": "stream",
     "text": [
      "mid=25, len_kvm3=8\n",
      "writing 25\n"
     ]
    },
    {
     "name": "stderr",
     "output_type": "stream",
     "text": [
      "VideoManager is deprecated and will be removed.\n"
     ]
    },
    {
     "name": "stdout",
     "output_type": "stream",
     "text": [
      "mid=12, len_kvm3=15\n"
     ]
    },
    {
     "name": "stderr",
     "output_type": "stream",
     "text": [
      "VideoManager is deprecated and will be removed.\n"
     ]
    },
    {
     "name": "stdout",
     "output_type": "stream",
     "text": [
      "mid=18, len_kvm3=9\n",
      "writing 18\n",
      "/storage/arkady/Glinka/music-transformer/video_conditioning/content/video_data/video_ad16.mp4\n"
     ]
    },
    {
     "name": "stderr",
     "output_type": "stream",
     "text": [
      "VideoManager is deprecated and will be removed.\n"
     ]
    },
    {
     "name": "stdout",
     "output_type": "stream",
     "text": [
      "mid=100, len_kvm3=0\n"
     ]
    },
    {
     "name": "stderr",
     "output_type": "stream",
     "text": [
      "VideoManager is deprecated and will be removed.\n"
     ]
    },
    {
     "name": "stdout",
     "output_type": "stream",
     "text": [
      "mid=50, len_kvm3=11\n",
      "writing 50\n"
     ]
    },
    {
     "name": "stderr",
     "output_type": "stream",
     "text": [
      "VideoManager is deprecated and will be removed.\n"
     ]
    },
    {
     "name": "stdout",
     "output_type": "stream",
     "text": [
      "mid=75, len_kvm3=2\n"
     ]
    },
    {
     "name": "stderr",
     "output_type": "stream",
     "text": [
      "VideoManager is deprecated and will be removed.\n"
     ]
    },
    {
     "name": "stdout",
     "output_type": "stream",
     "text": [
      "mid=62, len_kvm3=5\n",
      "writing 62\n"
     ]
    },
    {
     "name": "stderr",
     "output_type": "stream",
     "text": [
      "VideoManager is deprecated and will be removed.\n"
     ]
    },
    {
     "name": "stdout",
     "output_type": "stream",
     "text": [
      "mid=56, len_kvm3=7\n",
      "writing 56\n",
      "/storage/arkady/Glinka/music-transformer/video_conditioning/content/video_data/video_ad17.mp4\n"
     ]
    },
    {
     "name": "stderr",
     "output_type": "stream",
     "text": [
      "VideoManager is deprecated and will be removed.\n"
     ]
    },
    {
     "name": "stdout",
     "output_type": "stream",
     "text": [
      "mid=100, len_kvm3=0\n"
     ]
    },
    {
     "name": "stderr",
     "output_type": "stream",
     "text": [
      "VideoManager is deprecated and will be removed.\n"
     ]
    },
    {
     "name": "stdout",
     "output_type": "stream",
     "text": [
      "mid=50, len_kvm3=19\n"
     ]
    },
    {
     "name": "stderr",
     "output_type": "stream",
     "text": [
      "VideoManager is deprecated and will be removed.\n"
     ]
    },
    {
     "name": "stdout",
     "output_type": "stream",
     "text": [
      "mid=75, len_kvm3=2\n"
     ]
    },
    {
     "name": "stderr",
     "output_type": "stream",
     "text": [
      "VideoManager is deprecated and will be removed.\n"
     ]
    },
    {
     "name": "stdout",
     "output_type": "stream",
     "text": [
      "mid=62, len_kvm3=6\n",
      "writing 62\n"
     ]
    },
    {
     "name": "stderr",
     "output_type": "stream",
     "text": [
      "VideoManager is deprecated and will be removed.\n"
     ]
    },
    {
     "name": "stdout",
     "output_type": "stream",
     "text": [
      "mid=56, len_kvm3=9\n",
      "writing 56\n"
     ]
    },
    {
     "name": "stderr",
     "output_type": "stream",
     "text": [
      "VideoManager is deprecated and will be removed.\n"
     ]
    },
    {
     "name": "stdout",
     "output_type": "stream",
     "text": [
      "mid=59, len_kvm3=6\n",
      "writing 59\n",
      "/storage/arkady/Glinka/music-transformer/video_conditioning/content/video_data/video_ad18.mp4\n"
     ]
    },
    {
     "name": "stderr",
     "output_type": "stream",
     "text": [
      "VideoManager is deprecated and will be removed.\n"
     ]
    },
    {
     "name": "stdout",
     "output_type": "stream",
     "text": [
      "mid=100, len_kvm3=0\n"
     ]
    },
    {
     "name": "stderr",
     "output_type": "stream",
     "text": [
      "VideoManager is deprecated and will be removed.\n"
     ]
    },
    {
     "name": "stdout",
     "output_type": "stream",
     "text": [
      "mid=50, len_kvm3=9\n",
      "writing 50\n"
     ]
    },
    {
     "name": "stderr",
     "output_type": "stream",
     "text": [
      "VideoManager is deprecated and will be removed.\n"
     ]
    },
    {
     "name": "stdout",
     "output_type": "stream",
     "text": [
      "mid=75, len_kvm3=0\n"
     ]
    },
    {
     "name": "stderr",
     "output_type": "stream",
     "text": [
      "VideoManager is deprecated and will be removed.\n"
     ]
    },
    {
     "name": "stdout",
     "output_type": "stream",
     "text": [
      "mid=62, len_kvm3=0\n"
     ]
    },
    {
     "name": "stderr",
     "output_type": "stream",
     "text": [
      "VideoManager is deprecated and will be removed.\n"
     ]
    },
    {
     "name": "stdout",
     "output_type": "stream",
     "text": [
      "mid=56, len_kvm3=2\n"
     ]
    },
    {
     "name": "stderr",
     "output_type": "stream",
     "text": [
      "VideoManager is deprecated and will be removed.\n"
     ]
    },
    {
     "name": "stdout",
     "output_type": "stream",
     "text": [
      "mid=53, len_kvm3=4\n"
     ]
    },
    {
     "name": "stderr",
     "output_type": "stream",
     "text": [
      "VideoManager is deprecated and will be removed.\n"
     ]
    },
    {
     "name": "stdout",
     "output_type": "stream",
     "text": [
      "mid=51, len_kvm3=6\n",
      "writing 51\n",
      "/storage/arkady/Glinka/music-transformer/video_conditioning/content/video_data/video_ad19.mp4\n"
     ]
    },
    {
     "name": "stderr",
     "output_type": "stream",
     "text": [
      "VideoManager is deprecated and will be removed.\n"
     ]
    },
    {
     "name": "stdout",
     "output_type": "stream",
     "text": [
      "mid=100, len_kvm3=0\n"
     ]
    },
    {
     "name": "stderr",
     "output_type": "stream",
     "text": [
      "VideoManager is deprecated and will be removed.\n"
     ]
    },
    {
     "name": "stdout",
     "output_type": "stream",
     "text": [
      "mid=50, len_kvm3=2\n"
     ]
    },
    {
     "name": "stderr",
     "output_type": "stream",
     "text": [
      "VideoManager is deprecated and will be removed.\n"
     ]
    },
    {
     "name": "stdout",
     "output_type": "stream",
     "text": [
      "mid=25, len_kvm3=25\n"
     ]
    },
    {
     "name": "stderr",
     "output_type": "stream",
     "text": [
      "VideoManager is deprecated and will be removed.\n"
     ]
    },
    {
     "name": "stdout",
     "output_type": "stream",
     "text": [
      "mid=37, len_kvm3=14\n"
     ]
    },
    {
     "name": "stderr",
     "output_type": "stream",
     "text": [
      "VideoManager is deprecated and will be removed.\n"
     ]
    },
    {
     "name": "stdout",
     "output_type": "stream",
     "text": [
      "mid=43, len_kvm3=7\n",
      "writing 43\n"
     ]
    },
    {
     "name": "stderr",
     "output_type": "stream",
     "text": [
      "VideoManager is deprecated and will be removed.\n"
     ]
    },
    {
     "name": "stdout",
     "output_type": "stream",
     "text": [
      "mid=40, len_kvm3=8\n",
      "writing 40\n"
     ]
    },
    {
     "name": "stderr",
     "output_type": "stream",
     "text": [
      "VideoManager is deprecated and will be removed.\n"
     ]
    },
    {
     "name": "stdout",
     "output_type": "stream",
     "text": [
      "mid=38, len_kvm3=13\n"
     ]
    },
    {
     "name": "stderr",
     "output_type": "stream",
     "text": [
      "VideoManager is deprecated and will be removed.\n"
     ]
    },
    {
     "name": "stdout",
     "output_type": "stream",
     "text": [
      "mid=39, len_kvm3=10\n",
      "writing 39\n",
      "/storage/arkady/Glinka/music-transformer/video_conditioning/content/video_data/video_ad20.mp4\n"
     ]
    },
    {
     "name": "stderr",
     "output_type": "stream",
     "text": [
      "VideoManager is deprecated and will be removed.\n"
     ]
    },
    {
     "name": "stdout",
     "output_type": "stream",
     "text": [
      "mid=100, len_kvm3=0\n"
     ]
    },
    {
     "name": "stderr",
     "output_type": "stream",
     "text": [
      "VideoManager is deprecated and will be removed.\n"
     ]
    },
    {
     "name": "stdout",
     "output_type": "stream",
     "text": [
      "mid=50, len_kvm3=7\n",
      "writing 50\n"
     ]
    },
    {
     "name": "stderr",
     "output_type": "stream",
     "text": [
      "VideoManager is deprecated and will be removed.\n"
     ]
    },
    {
     "name": "stdout",
     "output_type": "stream",
     "text": [
      "mid=25, len_kvm3=24\n"
     ]
    },
    {
     "name": "stderr",
     "output_type": "stream",
     "text": [
      "VideoManager is deprecated and will be removed.\n"
     ]
    },
    {
     "name": "stdout",
     "output_type": "stream",
     "text": [
      "mid=37, len_kvm3=23\n"
     ]
    },
    {
     "name": "stderr",
     "output_type": "stream",
     "text": [
      "VideoManager is deprecated and will be removed.\n"
     ]
    },
    {
     "name": "stdout",
     "output_type": "stream",
     "text": [
      "mid=43, len_kvm3=18\n"
     ]
    },
    {
     "name": "stderr",
     "output_type": "stream",
     "text": [
      "VideoManager is deprecated and will be removed.\n"
     ]
    },
    {
     "name": "stdout",
     "output_type": "stream",
     "text": [
      "mid=46, len_kvm3=16\n"
     ]
    },
    {
     "name": "stderr",
     "output_type": "stream",
     "text": [
      "VideoManager is deprecated and will be removed.\n"
     ]
    },
    {
     "name": "stdout",
     "output_type": "stream",
     "text": [
      "mid=48, len_kvm3=13\n"
     ]
    },
    {
     "name": "stderr",
     "output_type": "stream",
     "text": [
      "VideoManager is deprecated and will be removed.\n"
     ]
    },
    {
     "name": "stdout",
     "output_type": "stream",
     "text": [
      "mid=49, len_kvm3=9\n",
      "writing 49\n",
      "/storage/arkady/Glinka/music-transformer/video_conditioning/content/video_data/video_ad21.mp4\n"
     ]
    },
    {
     "name": "stderr",
     "output_type": "stream",
     "text": [
      "VideoManager is deprecated and will be removed.\n"
     ]
    },
    {
     "name": "stdout",
     "output_type": "stream",
     "text": [
      "mid=100, len_kvm3=0\n"
     ]
    },
    {
     "name": "stderr",
     "output_type": "stream",
     "text": [
      "VideoManager is deprecated and will be removed.\n"
     ]
    },
    {
     "name": "stdout",
     "output_type": "stream",
     "text": [
      "mid=50, len_kvm3=62\n"
     ]
    },
    {
     "name": "stderr",
     "output_type": "stream",
     "text": [
      "VideoManager is deprecated and will be removed.\n"
     ]
    },
    {
     "name": "stdout",
     "output_type": "stream",
     "text": [
      "mid=75, len_kvm3=7\n",
      "writing 75\n"
     ]
    },
    {
     "name": "stderr",
     "output_type": "stream",
     "text": [
      "VideoManager is deprecated and will be removed.\n"
     ]
    },
    {
     "name": "stdout",
     "output_type": "stream",
     "text": [
      "mid=62, len_kvm3=38\n"
     ]
    },
    {
     "name": "stderr",
     "output_type": "stream",
     "text": [
      "VideoManager is deprecated and will be removed.\n"
     ]
    },
    {
     "name": "stdout",
     "output_type": "stream",
     "text": [
      "mid=68, len_kvm3=21\n"
     ]
    },
    {
     "name": "stderr",
     "output_type": "stream",
     "text": [
      "VideoManager is deprecated and will be removed.\n"
     ]
    },
    {
     "name": "stdout",
     "output_type": "stream",
     "text": [
      "mid=71, len_kvm3=12\n",
      "writing 71\n"
     ]
    },
    {
     "name": "stderr",
     "output_type": "stream",
     "text": [
      "VideoManager is deprecated and will be removed.\n"
     ]
    },
    {
     "name": "stdout",
     "output_type": "stream",
     "text": [
      "mid=73, len_kvm3=11\n",
      "writing 73\n",
      "/storage/arkady/Glinka/music-transformer/video_conditioning/content/video_data/video_ad22.mp4\n"
     ]
    },
    {
     "name": "stderr",
     "output_type": "stream",
     "text": [
      "VideoManager is deprecated and will be removed.\n"
     ]
    },
    {
     "name": "stdout",
     "output_type": "stream",
     "text": [
      "mid=100, len_kvm3=0\n"
     ]
    },
    {
     "name": "stderr",
     "output_type": "stream",
     "text": [
      "VideoManager is deprecated and will be removed.\n"
     ]
    },
    {
     "name": "stdout",
     "output_type": "stream",
     "text": [
      "mid=50, len_kvm3=15\n"
     ]
    },
    {
     "name": "stderr",
     "output_type": "stream",
     "text": [
      "VideoManager is deprecated and will be removed.\n"
     ]
    },
    {
     "name": "stdout",
     "output_type": "stream",
     "text": [
      "mid=75, len_kvm3=3\n"
     ]
    },
    {
     "name": "stderr",
     "output_type": "stream",
     "text": [
      "VideoManager is deprecated and will be removed.\n"
     ]
    },
    {
     "name": "stdout",
     "output_type": "stream",
     "text": [
      "mid=62, len_kvm3=6\n",
      "writing 62\n"
     ]
    },
    {
     "name": "stderr",
     "output_type": "stream",
     "text": [
      "VideoManager is deprecated and will be removed.\n"
     ]
    },
    {
     "name": "stdout",
     "output_type": "stream",
     "text": [
      "mid=56, len_kvm3=12\n",
      "writing 56\n"
     ]
    },
    {
     "name": "stderr",
     "output_type": "stream",
     "text": [
      "VideoManager is deprecated and will be removed.\n"
     ]
    },
    {
     "name": "stdout",
     "output_type": "stream",
     "text": [
      "mid=59, len_kvm3=10\n",
      "writing 59\n",
      "/storage/arkady/Glinka/music-transformer/video_conditioning/content/video_data/video_ad23.mp4\n"
     ]
    },
    {
     "name": "stderr",
     "output_type": "stream",
     "text": [
      "VideoManager is deprecated and will be removed.\n"
     ]
    },
    {
     "name": "stdout",
     "output_type": "stream",
     "text": [
      "mid=100, len_kvm3=0\n"
     ]
    },
    {
     "name": "stderr",
     "output_type": "stream",
     "text": [
      "VideoManager is deprecated and will be removed.\n"
     ]
    },
    {
     "name": "stdout",
     "output_type": "stream",
     "text": [
      "mid=50, len_kvm3=4\n"
     ]
    },
    {
     "name": "stderr",
     "output_type": "stream",
     "text": [
      "VideoManager is deprecated and will be removed.\n"
     ]
    },
    {
     "name": "stdout",
     "output_type": "stream",
     "text": [
      "mid=25, len_kvm3=10\n",
      "writing 25\n"
     ]
    },
    {
     "name": "stderr",
     "output_type": "stream",
     "text": [
      "VideoManager is deprecated and will be removed.\n"
     ]
    },
    {
     "name": "stdout",
     "output_type": "stream",
     "text": [
      "mid=37, len_kvm3=8\n",
      "writing 37\n"
     ]
    },
    {
     "name": "stderr",
     "output_type": "stream",
     "text": [
      "VideoManager is deprecated and will be removed.\n"
     ]
    },
    {
     "name": "stdout",
     "output_type": "stream",
     "text": [
      "mid=31, len_kvm3=10\n",
      "writing 31\n",
      "/storage/arkady/Glinka/music-transformer/video_conditioning/content/video_data/video_ad24.mp4\n"
     ]
    },
    {
     "name": "stderr",
     "output_type": "stream",
     "text": [
      "VideoManager is deprecated and will be removed.\n"
     ]
    },
    {
     "name": "stdout",
     "output_type": "stream",
     "text": [
      "mid=100, len_kvm3=0\n"
     ]
    },
    {
     "name": "stderr",
     "output_type": "stream",
     "text": [
      "VideoManager is deprecated and will be removed.\n"
     ]
    },
    {
     "name": "stdout",
     "output_type": "stream",
     "text": [
      "mid=50, len_kvm3=21\n"
     ]
    },
    {
     "name": "stderr",
     "output_type": "stream",
     "text": [
      "VideoManager is deprecated and will be removed.\n"
     ]
    },
    {
     "name": "stdout",
     "output_type": "stream",
     "text": [
      "mid=75, len_kvm3=2\n"
     ]
    },
    {
     "name": "stderr",
     "output_type": "stream",
     "text": [
      "VideoManager is deprecated and will be removed.\n"
     ]
    },
    {
     "name": "stdout",
     "output_type": "stream",
     "text": [
      "mid=62, len_kvm3=3\n"
     ]
    },
    {
     "name": "stderr",
     "output_type": "stream",
     "text": [
      "VideoManager is deprecated and will be removed.\n"
     ]
    },
    {
     "name": "stdout",
     "output_type": "stream",
     "text": [
      "mid=56, len_kvm3=9\n",
      "writing 56\n"
     ]
    },
    {
     "name": "stderr",
     "output_type": "stream",
     "text": [
      "VideoManager is deprecated and will be removed.\n"
     ]
    },
    {
     "name": "stdout",
     "output_type": "stream",
     "text": [
      "mid=59, len_kvm3=5\n",
      "writing 59\n"
     ]
    },
    {
     "name": "stderr",
     "output_type": "stream",
     "text": [
      "VideoManager is deprecated and will be removed.\n"
     ]
    },
    {
     "name": "stdout",
     "output_type": "stream",
     "text": [
      "mid=57, len_kvm3=6\n",
      "writing 57\n",
      "/storage/arkady/Glinka/music-transformer/video_conditioning/content/video_data/video_ad25.mp4\n"
     ]
    },
    {
     "name": "stderr",
     "output_type": "stream",
     "text": [
      "VideoManager is deprecated and will be removed.\n"
     ]
    },
    {
     "name": "stdout",
     "output_type": "stream",
     "text": [
      "mid=100, len_kvm3=0\n"
     ]
    },
    {
     "name": "stderr",
     "output_type": "stream",
     "text": [
      "VideoManager is deprecated and will be removed.\n"
     ]
    },
    {
     "name": "stdout",
     "output_type": "stream",
     "text": [
      "mid=50, len_kvm3=27\n"
     ]
    },
    {
     "name": "stderr",
     "output_type": "stream",
     "text": [
      "VideoManager is deprecated and will be removed.\n"
     ]
    },
    {
     "name": "stdout",
     "output_type": "stream",
     "text": [
      "mid=75, len_kvm3=0\n"
     ]
    },
    {
     "name": "stderr",
     "output_type": "stream",
     "text": [
      "VideoManager is deprecated and will be removed.\n"
     ]
    },
    {
     "name": "stdout",
     "output_type": "stream",
     "text": [
      "mid=62, len_kvm3=12\n",
      "writing 62\n"
     ]
    },
    {
     "name": "stderr",
     "output_type": "stream",
     "text": [
      "VideoManager is deprecated and will be removed.\n"
     ]
    },
    {
     "name": "stdout",
     "output_type": "stream",
     "text": [
      "mid=68, len_kvm3=6\n",
      "writing 68\n"
     ]
    },
    {
     "name": "stderr",
     "output_type": "stream",
     "text": [
      "VideoManager is deprecated and will be removed.\n"
     ]
    },
    {
     "name": "stdout",
     "output_type": "stream",
     "text": [
      "mid=65, len_kvm3=8\n",
      "writing 65\n",
      "/storage/arkady/Glinka/music-transformer/video_conditioning/content/video_data/video_ad26.mp4\n"
     ]
    },
    {
     "name": "stderr",
     "output_type": "stream",
     "text": [
      "VideoManager is deprecated and will be removed.\n"
     ]
    },
    {
     "name": "stdout",
     "output_type": "stream",
     "text": [
      "mid=100, len_kvm3=2\n"
     ]
    },
    {
     "name": "stderr",
     "output_type": "stream",
     "text": [
      "VideoManager is deprecated and will be removed.\n"
     ]
    },
    {
     "name": "stdout",
     "output_type": "stream",
     "text": [
      "mid=50, len_kvm3=5\n",
      "writing 50\n"
     ]
    },
    {
     "name": "stderr",
     "output_type": "stream",
     "text": [
      "VideoManager is deprecated and will be removed.\n"
     ]
    },
    {
     "name": "stdout",
     "output_type": "stream",
     "text": [
      "mid=25, len_kvm3=13\n"
     ]
    },
    {
     "name": "stderr",
     "output_type": "stream",
     "text": [
      "VideoManager is deprecated and will be removed.\n"
     ]
    },
    {
     "name": "stdout",
     "output_type": "stream",
     "text": [
      "mid=37, len_kvm3=13\n"
     ]
    },
    {
     "name": "stderr",
     "output_type": "stream",
     "text": [
      "VideoManager is deprecated and will be removed.\n"
     ]
    },
    {
     "name": "stdout",
     "output_type": "stream",
     "text": [
      "mid=43, len_kvm3=10\n",
      "writing 43\n"
     ]
    },
    {
     "name": "stderr",
     "output_type": "stream",
     "text": [
      "VideoManager is deprecated and will be removed.\n"
     ]
    },
    {
     "name": "stdout",
     "output_type": "stream",
     "text": [
      "mid=46, len_kvm3=7\n",
      "writing 46\n",
      "/storage/arkady/Glinka/music-transformer/video_conditioning/content/video_data/video_ad27.mp4\n"
     ]
    },
    {
     "name": "stderr",
     "output_type": "stream",
     "text": [
      "VideoManager is deprecated and will be removed.\n"
     ]
    },
    {
     "name": "stdout",
     "output_type": "stream",
     "text": [
      "mid=100, len_kvm3=0\n"
     ]
    },
    {
     "name": "stderr",
     "output_type": "stream",
     "text": [
      "VideoManager is deprecated and will be removed.\n"
     ]
    },
    {
     "name": "stdout",
     "output_type": "stream",
     "text": [
      "mid=50, len_kvm3=2\n"
     ]
    },
    {
     "name": "stderr",
     "output_type": "stream",
     "text": [
      "VideoManager is deprecated and will be removed.\n"
     ]
    },
    {
     "name": "stdout",
     "output_type": "stream",
     "text": [
      "mid=25, len_kvm3=5\n",
      "writing 25\n"
     ]
    },
    {
     "name": "stderr",
     "output_type": "stream",
     "text": [
      "VideoManager is deprecated and will be removed.\n"
     ]
    },
    {
     "name": "stdout",
     "output_type": "stream",
     "text": [
      "mid=12, len_kvm3=7\n",
      "writing 12\n"
     ]
    },
    {
     "name": "stderr",
     "output_type": "stream",
     "text": [
      "VideoManager is deprecated and will be removed.\n"
     ]
    },
    {
     "name": "stdout",
     "output_type": "stream",
     "text": [
      "mid=6, len_kvm3=8\n",
      "writing 6\n",
      "/storage/arkady/Glinka/music-transformer/video_conditioning/content/video_data/video_ad28.mp4\n"
     ]
    },
    {
     "name": "stderr",
     "output_type": "stream",
     "text": [
      "VideoManager is deprecated and will be removed.\n"
     ]
    },
    {
     "name": "stdout",
     "output_type": "stream",
     "text": [
      "mid=100, len_kvm3=0\n"
     ]
    },
    {
     "name": "stderr",
     "output_type": "stream",
     "text": [
      "VideoManager is deprecated and will be removed.\n"
     ]
    },
    {
     "name": "stdout",
     "output_type": "stream",
     "text": [
      "mid=50, len_kvm3=0\n"
     ]
    },
    {
     "name": "stderr",
     "output_type": "stream",
     "text": [
      "VideoManager is deprecated and will be removed.\n"
     ]
    },
    {
     "name": "stdout",
     "output_type": "stream",
     "text": [
      "mid=25, len_kvm3=4\n"
     ]
    },
    {
     "name": "stderr",
     "output_type": "stream",
     "text": [
      "VideoManager is deprecated and will be removed.\n"
     ]
    },
    {
     "name": "stdout",
     "output_type": "stream",
     "text": [
      "mid=12, len_kvm3=10\n",
      "writing 12\n"
     ]
    },
    {
     "name": "stderr",
     "output_type": "stream",
     "text": [
      "VideoManager is deprecated and will be removed.\n"
     ]
    },
    {
     "name": "stdout",
     "output_type": "stream",
     "text": [
      "mid=18, len_kvm3=7\n",
      "writing 18\n"
     ]
    },
    {
     "name": "stderr",
     "output_type": "stream",
     "text": [
      "VideoManager is deprecated and will be removed.\n"
     ]
    },
    {
     "name": "stdout",
     "output_type": "stream",
     "text": [
      "mid=15, len_kvm3=8\n",
      "writing 15\n",
      "/storage/arkady/Glinka/music-transformer/video_conditioning/content/video_data/video_ad29.mp4\n"
     ]
    },
    {
     "name": "stderr",
     "output_type": "stream",
     "text": [
      "VideoManager is deprecated and will be removed.\n"
     ]
    },
    {
     "name": "stdout",
     "output_type": "stream",
     "text": [
      "mid=100, len_kvm3=2\n"
     ]
    },
    {
     "name": "stderr",
     "output_type": "stream",
     "text": [
      "VideoManager is deprecated and will be removed.\n"
     ]
    },
    {
     "name": "stdout",
     "output_type": "stream",
     "text": [
      "mid=50, len_kvm3=13\n"
     ]
    },
    {
     "name": "stderr",
     "output_type": "stream",
     "text": [
      "VideoManager is deprecated and will be removed.\n"
     ]
    },
    {
     "name": "stdout",
     "output_type": "stream",
     "text": [
      "mid=75, len_kvm3=3\n"
     ]
    },
    {
     "name": "stderr",
     "output_type": "stream",
     "text": [
      "VideoManager is deprecated and will be removed.\n"
     ]
    },
    {
     "name": "stdout",
     "output_type": "stream",
     "text": [
      "mid=62, len_kvm3=6\n",
      "writing 62\n"
     ]
    },
    {
     "name": "stderr",
     "output_type": "stream",
     "text": [
      "VideoManager is deprecated and will be removed.\n"
     ]
    },
    {
     "name": "stdout",
     "output_type": "stream",
     "text": [
      "mid=56, len_kvm3=10\n",
      "writing 56\n"
     ]
    },
    {
     "name": "stderr",
     "output_type": "stream",
     "text": [
      "VideoManager is deprecated and will be removed.\n"
     ]
    },
    {
     "name": "stdout",
     "output_type": "stream",
     "text": [
      "mid=59, len_kvm3=9\n",
      "writing 59\n",
      "/storage/arkady/Glinka/music-transformer/video_conditioning/content/video_data/video_ad30.mp4\n"
     ]
    },
    {
     "name": "stderr",
     "output_type": "stream",
     "text": [
      "VideoManager is deprecated and will be removed.\n"
     ]
    },
    {
     "name": "stdout",
     "output_type": "stream",
     "text": [
      "mid=100, len_kvm3=0\n"
     ]
    },
    {
     "name": "stderr",
     "output_type": "stream",
     "text": [
      "VideoManager is deprecated and will be removed.\n"
     ]
    },
    {
     "name": "stdout",
     "output_type": "stream",
     "text": [
      "mid=50, len_kvm3=9\n",
      "writing 50\n"
     ]
    },
    {
     "name": "stderr",
     "output_type": "stream",
     "text": [
      "VideoManager is deprecated and will be removed.\n"
     ]
    },
    {
     "name": "stdout",
     "output_type": "stream",
     "text": [
      "mid=75, len_kvm3=2\n"
     ]
    },
    {
     "name": "stderr",
     "output_type": "stream",
     "text": [
      "VideoManager is deprecated and will be removed.\n"
     ]
    },
    {
     "name": "stdout",
     "output_type": "stream",
     "text": [
      "mid=62, len_kvm3=2\n"
     ]
    },
    {
     "name": "stderr",
     "output_type": "stream",
     "text": [
      "VideoManager is deprecated and will be removed.\n"
     ]
    },
    {
     "name": "stdout",
     "output_type": "stream",
     "text": [
      "mid=56, len_kvm3=4\n"
     ]
    },
    {
     "name": "stderr",
     "output_type": "stream",
     "text": [
      "VideoManager is deprecated and will be removed.\n"
     ]
    },
    {
     "name": "stdout",
     "output_type": "stream",
     "text": [
      "mid=53, len_kvm3=6\n",
      "writing 53\n"
     ]
    },
    {
     "name": "stderr",
     "output_type": "stream",
     "text": [
      "VideoManager is deprecated and will be removed.\n"
     ]
    },
    {
     "name": "stdout",
     "output_type": "stream",
     "text": [
      "mid=51, len_kvm3=9\n",
      "writing 51\n",
      "/storage/arkady/Glinka/music-transformer/video_conditioning/content/video_data/video_ad31.mp4\n"
     ]
    },
    {
     "name": "stderr",
     "output_type": "stream",
     "text": [
      "VideoManager is deprecated and will be removed.\n"
     ]
    },
    {
     "name": "stdout",
     "output_type": "stream",
     "text": [
      "mid=100, len_kvm3=0\n"
     ]
    },
    {
     "name": "stderr",
     "output_type": "stream",
     "text": [
      "VideoManager is deprecated and will be removed.\n"
     ]
    },
    {
     "name": "stdout",
     "output_type": "stream",
     "text": [
      "mid=50, len_kvm3=8\n",
      "writing 50\n"
     ]
    },
    {
     "name": "stderr",
     "output_type": "stream",
     "text": [
      "VideoManager is deprecated and will be removed.\n"
     ]
    },
    {
     "name": "stdout",
     "output_type": "stream",
     "text": [
      "mid=25, len_kvm3=12\n",
      "writing 25\n"
     ]
    },
    {
     "name": "stderr",
     "output_type": "stream",
     "text": [
      "VideoManager is deprecated and will be removed.\n"
     ]
    },
    {
     "name": "stdout",
     "output_type": "stream",
     "text": [
      "mid=37, len_kvm3=11\n",
      "writing 37\n",
      "/storage/arkady/Glinka/music-transformer/video_conditioning/content/video_data/video_ad32.mp4\n"
     ]
    },
    {
     "name": "stderr",
     "output_type": "stream",
     "text": [
      "VideoManager is deprecated and will be removed.\n"
     ]
    },
    {
     "name": "stdout",
     "output_type": "stream",
     "text": [
      "mid=100, len_kvm3=0\n"
     ]
    },
    {
     "name": "stderr",
     "output_type": "stream",
     "text": [
      "VideoManager is deprecated and will be removed.\n"
     ]
    },
    {
     "name": "stdout",
     "output_type": "stream",
     "text": [
      "mid=50, len_kvm3=31\n"
     ]
    },
    {
     "name": "stderr",
     "output_type": "stream",
     "text": [
      "VideoManager is deprecated and will be removed.\n"
     ]
    },
    {
     "name": "stdout",
     "output_type": "stream",
     "text": [
      "mid=75, len_kvm3=0\n"
     ]
    },
    {
     "name": "stderr",
     "output_type": "stream",
     "text": [
      "VideoManager is deprecated and will be removed.\n"
     ]
    },
    {
     "name": "stdout",
     "output_type": "stream",
     "text": [
      "mid=62, len_kvm3=21\n"
     ]
    },
    {
     "name": "stderr",
     "output_type": "stream",
     "text": [
      "VideoManager is deprecated and will be removed.\n"
     ]
    },
    {
     "name": "stdout",
     "output_type": "stream",
     "text": [
      "mid=68, len_kvm3=9\n",
      "writing 68\n"
     ]
    },
    {
     "name": "stderr",
     "output_type": "stream",
     "text": [
      "VideoManager is deprecated and will be removed.\n"
     ]
    },
    {
     "name": "stdout",
     "output_type": "stream",
     "text": [
      "mid=71, len_kvm3=4\n"
     ]
    },
    {
     "name": "stderr",
     "output_type": "stream",
     "text": [
      "VideoManager is deprecated and will be removed.\n"
     ]
    },
    {
     "name": "stdout",
     "output_type": "stream",
     "text": [
      "mid=69, len_kvm3=8\n",
      "writing 69\n",
      "/storage/arkady/Glinka/music-transformer/video_conditioning/content/video_data/video_ad33.mp4\n"
     ]
    },
    {
     "name": "stderr",
     "output_type": "stream",
     "text": [
      "VideoManager is deprecated and will be removed.\n"
     ]
    },
    {
     "name": "stdout",
     "output_type": "stream",
     "text": [
      "mid=100, len_kvm3=0\n"
     ]
    },
    {
     "name": "stderr",
     "output_type": "stream",
     "text": [
      "VideoManager is deprecated and will be removed.\n"
     ]
    },
    {
     "name": "stdout",
     "output_type": "stream",
     "text": [
      "mid=50, len_kvm3=11\n",
      "writing 50\n"
     ]
    },
    {
     "name": "stderr",
     "output_type": "stream",
     "text": [
      "VideoManager is deprecated and will be removed.\n"
     ]
    },
    {
     "name": "stdout",
     "output_type": "stream",
     "text": [
      "mid=75, len_kvm3=3\n"
     ]
    },
    {
     "name": "stderr",
     "output_type": "stream",
     "text": [
      "VideoManager is deprecated and will be removed.\n"
     ]
    },
    {
     "name": "stdout",
     "output_type": "stream",
     "text": [
      "mid=62, len_kvm3=10\n",
      "writing 62\n"
     ]
    },
    {
     "name": "stderr",
     "output_type": "stream",
     "text": [
      "VideoManager is deprecated and will be removed.\n"
     ]
    },
    {
     "name": "stdout",
     "output_type": "stream",
     "text": [
      "mid=68, len_kvm3=8\n",
      "writing 68\n",
      "/storage/arkady/Glinka/music-transformer/video_conditioning/content/video_data/video_ad34.mp4\n"
     ]
    },
    {
     "name": "stderr",
     "output_type": "stream",
     "text": [
      "VideoManager is deprecated and will be removed.\n"
     ]
    },
    {
     "name": "stdout",
     "output_type": "stream",
     "text": [
      "mid=100, len_kvm3=0\n"
     ]
    },
    {
     "name": "stderr",
     "output_type": "stream",
     "text": [
      "VideoManager is deprecated and will be removed.\n"
     ]
    },
    {
     "name": "stdout",
     "output_type": "stream",
     "text": [
      "mid=50, len_kvm3=5\n",
      "writing 50\n"
     ]
    },
    {
     "name": "stderr",
     "output_type": "stream",
     "text": [
      "VideoManager is deprecated and will be removed.\n"
     ]
    },
    {
     "name": "stdout",
     "output_type": "stream",
     "text": [
      "mid=25, len_kvm3=7\n",
      "writing 25\n"
     ]
    },
    {
     "name": "stderr",
     "output_type": "stream",
     "text": [
      "VideoManager is deprecated and will be removed.\n"
     ]
    },
    {
     "name": "stdout",
     "output_type": "stream",
     "text": [
      "mid=12, len_kvm3=12\n",
      "writing 12\n",
      "/storage/arkady/Glinka/music-transformer/video_conditioning/content/video_data/video_ad35.mp4\n"
     ]
    },
    {
     "name": "stderr",
     "output_type": "stream",
     "text": [
      "VideoManager is deprecated and will be removed.\n"
     ]
    },
    {
     "name": "stdout",
     "output_type": "stream",
     "text": [
      "mid=100, len_kvm3=3\n"
     ]
    },
    {
     "name": "stderr",
     "output_type": "stream",
     "text": [
      "VideoManager is deprecated and will be removed.\n"
     ]
    },
    {
     "name": "stdout",
     "output_type": "stream",
     "text": [
      "mid=50, len_kvm3=7\n",
      "writing 50\n"
     ]
    },
    {
     "name": "stderr",
     "output_type": "stream",
     "text": [
      "VideoManager is deprecated and will be removed.\n"
     ]
    },
    {
     "name": "stdout",
     "output_type": "stream",
     "text": [
      "mid=25, len_kvm3=7\n",
      "writing 25\n"
     ]
    },
    {
     "name": "stderr",
     "output_type": "stream",
     "text": [
      "VideoManager is deprecated and will be removed.\n"
     ]
    },
    {
     "name": "stdout",
     "output_type": "stream",
     "text": [
      "mid=12, len_kvm3=7\n",
      "writing 12\n",
      "/storage/arkady/Glinka/music-transformer/video_conditioning/content/video_data/video_ad36.mp4\n"
     ]
    },
    {
     "name": "stderr",
     "output_type": "stream",
     "text": [
      "VideoManager is deprecated and will be removed.\n"
     ]
    },
    {
     "name": "stdout",
     "output_type": "stream",
     "text": [
      "mid=100, len_kvm3=0\n"
     ]
    },
    {
     "name": "stderr",
     "output_type": "stream",
     "text": [
      "VideoManager is deprecated and will be removed.\n"
     ]
    },
    {
     "name": "stdout",
     "output_type": "stream",
     "text": [
      "mid=50, len_kvm3=18\n"
     ]
    },
    {
     "name": "stderr",
     "output_type": "stream",
     "text": [
      "VideoManager is deprecated and will be removed.\n"
     ]
    },
    {
     "name": "stdout",
     "output_type": "stream",
     "text": [
      "mid=75, len_kvm3=2\n"
     ]
    },
    {
     "name": "stderr",
     "output_type": "stream",
     "text": [
      "VideoManager is deprecated and will be removed.\n"
     ]
    },
    {
     "name": "stdout",
     "output_type": "stream",
     "text": [
      "mid=62, len_kvm3=6\n",
      "writing 62\n"
     ]
    },
    {
     "name": "stderr",
     "output_type": "stream",
     "text": [
      "VideoManager is deprecated and will be removed.\n"
     ]
    },
    {
     "name": "stdout",
     "output_type": "stream",
     "text": [
      "mid=56, len_kvm3=13\n"
     ]
    },
    {
     "name": "stderr",
     "output_type": "stream",
     "text": [
      "VideoManager is deprecated and will be removed.\n"
     ]
    },
    {
     "name": "stdout",
     "output_type": "stream",
     "text": [
      "mid=59, len_kvm3=10\n",
      "writing 59\n"
     ]
    },
    {
     "name": "stderr",
     "output_type": "stream",
     "text": [
      "VideoManager is deprecated and will be removed.\n"
     ]
    },
    {
     "name": "stdout",
     "output_type": "stream",
     "text": [
      "mid=60, len_kvm3=8\n",
      "writing 60\n",
      "/storage/arkady/Glinka/music-transformer/video_conditioning/content/video_data/video_ad37.mp4\n"
     ]
    },
    {
     "name": "stderr",
     "output_type": "stream",
     "text": [
      "VideoManager is deprecated and will be removed.\n"
     ]
    },
    {
     "name": "stdout",
     "output_type": "stream",
     "text": [
      "mid=100, len_kvm3=0\n"
     ]
    },
    {
     "name": "stderr",
     "output_type": "stream",
     "text": [
      "VideoManager is deprecated and will be removed.\n"
     ]
    },
    {
     "name": "stdout",
     "output_type": "stream",
     "text": [
      "mid=50, len_kvm3=15\n"
     ]
    },
    {
     "name": "stderr",
     "output_type": "stream",
     "text": [
      "VideoManager is deprecated and will be removed.\n"
     ]
    },
    {
     "name": "stdout",
     "output_type": "stream",
     "text": [
      "mid=75, len_kvm3=3\n"
     ]
    },
    {
     "name": "stderr",
     "output_type": "stream",
     "text": [
      "VideoManager is deprecated and will be removed.\n"
     ]
    },
    {
     "name": "stdout",
     "output_type": "stream",
     "text": [
      "mid=62, len_kvm3=10\n",
      "writing 62\n"
     ]
    },
    {
     "name": "stderr",
     "output_type": "stream",
     "text": [
      "VideoManager is deprecated and will be removed.\n"
     ]
    },
    {
     "name": "stdout",
     "output_type": "stream",
     "text": [
      "mid=68, len_kvm3=7\n",
      "writing 68\n"
     ]
    },
    {
     "name": "stderr",
     "output_type": "stream",
     "text": [
      "VideoManager is deprecated and will be removed.\n"
     ]
    },
    {
     "name": "stdout",
     "output_type": "stream",
     "text": [
      "mid=65, len_kvm3=8\n",
      "writing 65\n",
      "/storage/arkady/Glinka/music-transformer/video_conditioning/content/video_data/video_ad38.mp4\n"
     ]
    },
    {
     "name": "stderr",
     "output_type": "stream",
     "text": [
      "VideoManager is deprecated and will be removed.\n"
     ]
    },
    {
     "name": "stdout",
     "output_type": "stream",
     "text": [
      "mid=100, len_kvm3=0\n"
     ]
    },
    {
     "name": "stderr",
     "output_type": "stream",
     "text": [
      "VideoManager is deprecated and will be removed.\n"
     ]
    },
    {
     "name": "stdout",
     "output_type": "stream",
     "text": [
      "mid=50, len_kvm3=14\n"
     ]
    },
    {
     "name": "stderr",
     "output_type": "stream",
     "text": [
      "VideoManager is deprecated and will be removed.\n"
     ]
    },
    {
     "name": "stdout",
     "output_type": "stream",
     "text": [
      "mid=75, len_kvm3=3\n"
     ]
    },
    {
     "name": "stderr",
     "output_type": "stream",
     "text": [
      "VideoManager is deprecated and will be removed.\n"
     ]
    },
    {
     "name": "stdout",
     "output_type": "stream",
     "text": [
      "mid=62, len_kvm3=7\n",
      "writing 62\n"
     ]
    },
    {
     "name": "stderr",
     "output_type": "stream",
     "text": [
      "VideoManager is deprecated and will be removed.\n"
     ]
    },
    {
     "name": "stdout",
     "output_type": "stream",
     "text": [
      "mid=56, len_kvm3=8\n",
      "writing 56\n"
     ]
    },
    {
     "name": "stderr",
     "output_type": "stream",
     "text": [
      "VideoManager is deprecated and will be removed.\n"
     ]
    },
    {
     "name": "stdout",
     "output_type": "stream",
     "text": [
      "mid=53, len_kvm3=12\n",
      "writing 53\n",
      "/storage/arkady/Glinka/music-transformer/video_conditioning/content/video_data/video_ad39.mp4\n"
     ]
    },
    {
     "name": "stderr",
     "output_type": "stream",
     "text": [
      "VideoManager is deprecated and will be removed.\n"
     ]
    },
    {
     "name": "stdout",
     "output_type": "stream",
     "text": [
      "mid=100, len_kvm3=3\n"
     ]
    },
    {
     "name": "stderr",
     "output_type": "stream",
     "text": [
      "VideoManager is deprecated and will be removed.\n"
     ]
    },
    {
     "name": "stdout",
     "output_type": "stream",
     "text": [
      "mid=50, len_kvm3=8\n",
      "writing 50\n"
     ]
    },
    {
     "name": "stderr",
     "output_type": "stream",
     "text": [
      "VideoManager is deprecated and will be removed.\n"
     ]
    },
    {
     "name": "stdout",
     "output_type": "stream",
     "text": [
      "mid=25, len_kvm3=8\n",
      "writing 25\n"
     ]
    },
    {
     "name": "stderr",
     "output_type": "stream",
     "text": [
      "VideoManager is deprecated and will be removed.\n"
     ]
    },
    {
     "name": "stdout",
     "output_type": "stream",
     "text": [
      "mid=12, len_kvm3=10\n",
      "writing 12\n",
      "/storage/arkady/Glinka/music-transformer/video_conditioning/content/video_data/video_ad40.mp4\n"
     ]
    },
    {
     "name": "stderr",
     "output_type": "stream",
     "text": [
      "VideoManager is deprecated and will be removed.\n"
     ]
    },
    {
     "name": "stdout",
     "output_type": "stream",
     "text": [
      "mid=100, len_kvm3=0\n"
     ]
    },
    {
     "name": "stderr",
     "output_type": "stream",
     "text": [
      "VideoManager is deprecated and will be removed.\n"
     ]
    },
    {
     "name": "stdout",
     "output_type": "stream",
     "text": [
      "mid=50, len_kvm3=9\n",
      "writing 50\n"
     ]
    },
    {
     "name": "stderr",
     "output_type": "stream",
     "text": [
      "VideoManager is deprecated and will be removed.\n"
     ]
    },
    {
     "name": "stdout",
     "output_type": "stream",
     "text": [
      "mid=75, len_kvm3=0\n"
     ]
    },
    {
     "name": "stderr",
     "output_type": "stream",
     "text": [
      "VideoManager is deprecated and will be removed.\n"
     ]
    },
    {
     "name": "stdout",
     "output_type": "stream",
     "text": [
      "mid=62, len_kvm3=2\n"
     ]
    },
    {
     "name": "stderr",
     "output_type": "stream",
     "text": [
      "VideoManager is deprecated and will be removed.\n"
     ]
    },
    {
     "name": "stdout",
     "output_type": "stream",
     "text": [
      "mid=56, len_kvm3=6\n",
      "writing 56\n"
     ]
    },
    {
     "name": "stderr",
     "output_type": "stream",
     "text": [
      "VideoManager is deprecated and will be removed.\n"
     ]
    },
    {
     "name": "stdout",
     "output_type": "stream",
     "text": [
      "mid=53, len_kvm3=9\n",
      "writing 53\n",
      "/storage/arkady/Glinka/music-transformer/video_conditioning/content/video_data/video_ad41.mp4\n"
     ]
    },
    {
     "name": "stderr",
     "output_type": "stream",
     "text": [
      "VideoManager is deprecated and will be removed.\n"
     ]
    },
    {
     "name": "stdout",
     "output_type": "stream",
     "text": [
      "mid=100, len_kvm3=2\n"
     ]
    },
    {
     "name": "stderr",
     "output_type": "stream",
     "text": [
      "VideoManager is deprecated and will be removed.\n"
     ]
    },
    {
     "name": "stdout",
     "output_type": "stream",
     "text": [
      "mid=50, len_kvm3=23\n"
     ]
    },
    {
     "name": "stderr",
     "output_type": "stream",
     "text": [
      "VideoManager is deprecated and will be removed.\n"
     ]
    },
    {
     "name": "stdout",
     "output_type": "stream",
     "text": [
      "mid=75, len_kvm3=4\n"
     ]
    },
    {
     "name": "stderr",
     "output_type": "stream",
     "text": [
      "VideoManager is deprecated and will be removed.\n"
     ]
    },
    {
     "name": "stdout",
     "output_type": "stream",
     "text": [
      "mid=62, len_kvm3=21\n"
     ]
    },
    {
     "name": "stderr",
     "output_type": "stream",
     "text": [
      "VideoManager is deprecated and will be removed.\n"
     ]
    },
    {
     "name": "stdout",
     "output_type": "stream",
     "text": [
      "mid=68, len_kvm3=14\n"
     ]
    },
    {
     "name": "stderr",
     "output_type": "stream",
     "text": [
      "VideoManager is deprecated and will be removed.\n"
     ]
    },
    {
     "name": "stdout",
     "output_type": "stream",
     "text": [
      "mid=71, len_kvm3=8\n",
      "writing 71\n"
     ]
    },
    {
     "name": "stderr",
     "output_type": "stream",
     "text": [
      "VideoManager is deprecated and will be removed.\n"
     ]
    },
    {
     "name": "stdout",
     "output_type": "stream",
     "text": [
      "mid=69, len_kvm3=13\n"
     ]
    },
    {
     "name": "stderr",
     "output_type": "stream",
     "text": [
      "VideoManager is deprecated and will be removed.\n"
     ]
    },
    {
     "name": "stdout",
     "output_type": "stream",
     "text": [
      "mid=70, len_kvm3=10\n",
      "writing 70\n",
      "/storage/arkady/Glinka/music-transformer/video_conditioning/content/video_data/video_ad42.mp4\n"
     ]
    },
    {
     "name": "stderr",
     "output_type": "stream",
     "text": [
      "VideoManager is deprecated and will be removed.\n"
     ]
    },
    {
     "name": "stdout",
     "output_type": "stream",
     "text": [
      "mid=100, len_kvm3=3\n"
     ]
    },
    {
     "name": "stderr",
     "output_type": "stream",
     "text": [
      "VideoManager is deprecated and will be removed.\n"
     ]
    },
    {
     "name": "stdout",
     "output_type": "stream",
     "text": [
      "mid=50, len_kvm3=19\n"
     ]
    },
    {
     "name": "stderr",
     "output_type": "stream",
     "text": [
      "VideoManager is deprecated and will be removed.\n"
     ]
    },
    {
     "name": "stdout",
     "output_type": "stream",
     "text": [
      "mid=75, len_kvm3=5\n",
      "writing 75\n"
     ]
    },
    {
     "name": "stderr",
     "output_type": "stream",
     "text": [
      "VideoManager is deprecated and will be removed.\n"
     ]
    },
    {
     "name": "stdout",
     "output_type": "stream",
     "text": [
      "mid=62, len_kvm3=10\n",
      "writing 62\n"
     ]
    },
    {
     "name": "stderr",
     "output_type": "stream",
     "text": [
      "VideoManager is deprecated and will be removed.\n"
     ]
    },
    {
     "name": "stdout",
     "output_type": "stream",
     "text": [
      "mid=68, len_kvm3=9\n",
      "writing 68\n",
      "/storage/arkady/Glinka/music-transformer/video_conditioning/content/video_data/video_ad43.mp4\n"
     ]
    },
    {
     "name": "stderr",
     "output_type": "stream",
     "text": [
      "VideoManager is deprecated and will be removed.\n"
     ]
    },
    {
     "name": "stdout",
     "output_type": "stream",
     "text": [
      "mid=100, len_kvm3=2\n"
     ]
    },
    {
     "name": "stderr",
     "output_type": "stream",
     "text": [
      "VideoManager is deprecated and will be removed.\n"
     ]
    },
    {
     "name": "stdout",
     "output_type": "stream",
     "text": [
      "mid=50, len_kvm3=15\n"
     ]
    },
    {
     "name": "stderr",
     "output_type": "stream",
     "text": [
      "VideoManager is deprecated and will be removed.\n"
     ]
    },
    {
     "name": "stdout",
     "output_type": "stream",
     "text": [
      "mid=75, len_kvm3=2\n"
     ]
    },
    {
     "name": "stderr",
     "output_type": "stream",
     "text": [
      "VideoManager is deprecated and will be removed.\n"
     ]
    },
    {
     "name": "stdout",
     "output_type": "stream",
     "text": [
      "mid=62, len_kvm3=6\n",
      "writing 62\n"
     ]
    },
    {
     "name": "stderr",
     "output_type": "stream",
     "text": [
      "VideoManager is deprecated and will be removed.\n"
     ]
    },
    {
     "name": "stdout",
     "output_type": "stream",
     "text": [
      "mid=56, len_kvm3=10\n",
      "writing 56\n"
     ]
    },
    {
     "name": "stderr",
     "output_type": "stream",
     "text": [
      "VideoManager is deprecated and will be removed.\n"
     ]
    },
    {
     "name": "stdout",
     "output_type": "stream",
     "text": [
      "mid=59, len_kvm3=7\n",
      "writing 59\n",
      "/storage/arkady/Glinka/music-transformer/video_conditioning/content/video_data/video_ad44.mp4\n"
     ]
    },
    {
     "name": "stderr",
     "output_type": "stream",
     "text": [
      "VideoManager is deprecated and will be removed.\n"
     ]
    },
    {
     "name": "stdout",
     "output_type": "stream",
     "text": [
      "mid=100, len_kvm3=0\n"
     ]
    },
    {
     "name": "stderr",
     "output_type": "stream",
     "text": [
      "VideoManager is deprecated and will be removed.\n"
     ]
    },
    {
     "name": "stdout",
     "output_type": "stream",
     "text": [
      "mid=50, len_kvm3=4\n"
     ]
    },
    {
     "name": "stderr",
     "output_type": "stream",
     "text": [
      "VideoManager is deprecated and will be removed.\n"
     ]
    },
    {
     "name": "stdout",
     "output_type": "stream",
     "text": [
      "mid=25, len_kvm3=11\n",
      "writing 25\n"
     ]
    },
    {
     "name": "stderr",
     "output_type": "stream",
     "text": [
      "VideoManager is deprecated and will be removed.\n"
     ]
    },
    {
     "name": "stdout",
     "output_type": "stream",
     "text": [
      "mid=37, len_kvm3=9\n",
      "writing 37\n"
     ]
    },
    {
     "name": "stderr",
     "output_type": "stream",
     "text": [
      "VideoManager is deprecated and will be removed.\n"
     ]
    },
    {
     "name": "stdout",
     "output_type": "stream",
     "text": [
      "mid=43, len_kvm3=6\n",
      "writing 43\n",
      "/storage/arkady/Glinka/music-transformer/video_conditioning/content/video_data/video_ad45.mp4\n"
     ]
    },
    {
     "name": "stderr",
     "output_type": "stream",
     "text": [
      "VideoManager is deprecated and will be removed.\n"
     ]
    },
    {
     "name": "stdout",
     "output_type": "stream",
     "text": [
      "mid=100, len_kvm3=0\n"
     ]
    },
    {
     "name": "stderr",
     "output_type": "stream",
     "text": [
      "VideoManager is deprecated and will be removed.\n"
     ]
    },
    {
     "name": "stdout",
     "output_type": "stream",
     "text": [
      "mid=50, len_kvm3=22\n"
     ]
    },
    {
     "name": "stderr",
     "output_type": "stream",
     "text": [
      "VideoManager is deprecated and will be removed.\n"
     ]
    },
    {
     "name": "stdout",
     "output_type": "stream",
     "text": [
      "mid=75, len_kvm3=4\n"
     ]
    },
    {
     "name": "stderr",
     "output_type": "stream",
     "text": [
      "VideoManager is deprecated and will be removed.\n"
     ]
    },
    {
     "name": "stdout",
     "output_type": "stream",
     "text": [
      "mid=62, len_kvm3=13\n"
     ]
    },
    {
     "name": "stderr",
     "output_type": "stream",
     "text": [
      "VideoManager is deprecated and will be removed.\n"
     ]
    },
    {
     "name": "stdout",
     "output_type": "stream",
     "text": [
      "mid=68, len_kvm3=11\n",
      "writing 68\n"
     ]
    },
    {
     "name": "stderr",
     "output_type": "stream",
     "text": [
      "VideoManager is deprecated and will be removed.\n"
     ]
    },
    {
     "name": "stdout",
     "output_type": "stream",
     "text": [
      "mid=71, len_kvm3=8\n",
      "writing 71\n"
     ]
    },
    {
     "name": "stderr",
     "output_type": "stream",
     "text": [
      "VideoManager is deprecated and will be removed.\n"
     ]
    },
    {
     "name": "stdout",
     "output_type": "stream",
     "text": [
      "mid=69, len_kvm3=10\n",
      "writing 69\n",
      "/storage/arkady/Glinka/music-transformer/video_conditioning/content/video_data/video_ad46.mp4\n"
     ]
    },
    {
     "name": "stderr",
     "output_type": "stream",
     "text": [
      "VideoManager is deprecated and will be removed.\n"
     ]
    },
    {
     "name": "stdout",
     "output_type": "stream",
     "text": [
      "mid=100, len_kvm3=2\n"
     ]
    },
    {
     "name": "stderr",
     "output_type": "stream",
     "text": [
      "VideoManager is deprecated and will be removed.\n"
     ]
    },
    {
     "name": "stdout",
     "output_type": "stream",
     "text": [
      "mid=50, len_kvm3=6\n",
      "writing 50\n"
     ]
    },
    {
     "name": "stderr",
     "output_type": "stream",
     "text": [
      "VideoManager is deprecated and will be removed.\n"
     ]
    },
    {
     "name": "stdout",
     "output_type": "stream",
     "text": [
      "mid=25, len_kvm3=18\n"
     ]
    },
    {
     "name": "stderr",
     "output_type": "stream",
     "text": [
      "VideoManager is deprecated and will be removed.\n"
     ]
    },
    {
     "name": "stdout",
     "output_type": "stream",
     "text": [
      "mid=37, len_kvm3=12\n",
      "writing 37\n"
     ]
    },
    {
     "name": "stderr",
     "output_type": "stream",
     "text": [
      "VideoManager is deprecated and will be removed.\n"
     ]
    },
    {
     "name": "stdout",
     "output_type": "stream",
     "text": [
      "mid=43, len_kvm3=11\n",
      "writing 43\n",
      "/storage/arkady/Glinka/music-transformer/video_conditioning/content/video_data/video_ad47.mp4\n"
     ]
    },
    {
     "name": "stderr",
     "output_type": "stream",
     "text": [
      "VideoManager is deprecated and will be removed.\n"
     ]
    },
    {
     "name": "stdout",
     "output_type": "stream",
     "text": [
      "mid=100, len_kvm3=0\n"
     ]
    },
    {
     "name": "stderr",
     "output_type": "stream",
     "text": [
      "VideoManager is deprecated and will be removed.\n"
     ]
    },
    {
     "name": "stdout",
     "output_type": "stream",
     "text": [
      "mid=50, len_kvm3=9\n",
      "writing 50\n"
     ]
    },
    {
     "name": "stderr",
     "output_type": "stream",
     "text": [
      "VideoManager is deprecated and will be removed.\n"
     ]
    },
    {
     "name": "stdout",
     "output_type": "stream",
     "text": [
      "mid=75, len_kvm3=0\n"
     ]
    },
    {
     "name": "stderr",
     "output_type": "stream",
     "text": [
      "VideoManager is deprecated and will be removed.\n"
     ]
    },
    {
     "name": "stdout",
     "output_type": "stream",
     "text": [
      "mid=62, len_kvm3=5\n",
      "writing 62\n"
     ]
    },
    {
     "name": "stderr",
     "output_type": "stream",
     "text": [
      "VideoManager is deprecated and will be removed.\n"
     ]
    },
    {
     "name": "stdout",
     "output_type": "stream",
     "text": [
      "mid=56, len_kvm3=7\n",
      "writing 56\n",
      "/storage/arkady/Glinka/music-transformer/video_conditioning/content/video_data/video_ad48.mp4\n"
     ]
    },
    {
     "name": "stderr",
     "output_type": "stream",
     "text": [
      "VideoManager is deprecated and will be removed.\n"
     ]
    },
    {
     "name": "stdout",
     "output_type": "stream",
     "text": [
      "mid=100, len_kvm3=3\n"
     ]
    },
    {
     "name": "stderr",
     "output_type": "stream",
     "text": [
      "VideoManager is deprecated and will be removed.\n"
     ]
    },
    {
     "name": "stdout",
     "output_type": "stream",
     "text": [
      "mid=50, len_kvm3=14\n"
     ]
    },
    {
     "name": "stderr",
     "output_type": "stream",
     "text": [
      "VideoManager is deprecated and will be removed.\n"
     ]
    },
    {
     "name": "stdout",
     "output_type": "stream",
     "text": [
      "mid=75, len_kvm3=5\n",
      "writing 75\n"
     ]
    },
    {
     "name": "stderr",
     "output_type": "stream",
     "text": [
      "VideoManager is deprecated and will be removed.\n"
     ]
    },
    {
     "name": "stdout",
     "output_type": "stream",
     "text": [
      "mid=62, len_kvm3=11\n",
      "writing 62\n"
     ]
    },
    {
     "name": "stderr",
     "output_type": "stream",
     "text": [
      "VideoManager is deprecated and will be removed.\n"
     ]
    },
    {
     "name": "stdout",
     "output_type": "stream",
     "text": [
      "mid=68, len_kvm3=9\n",
      "writing 68\n",
      "/storage/arkady/Glinka/music-transformer/video_conditioning/content/video_data/video_ad49.mp4\n"
     ]
    },
    {
     "name": "stderr",
     "output_type": "stream",
     "text": [
      "VideoManager is deprecated and will be removed.\n"
     ]
    },
    {
     "name": "stdout",
     "output_type": "stream",
     "text": [
      "mid=100, len_kvm3=0\n"
     ]
    },
    {
     "name": "stderr",
     "output_type": "stream",
     "text": [
      "VideoManager is deprecated and will be removed.\n"
     ]
    },
    {
     "name": "stdout",
     "output_type": "stream",
     "text": [
      "mid=50, len_kvm3=21\n"
     ]
    },
    {
     "name": "stderr",
     "output_type": "stream",
     "text": [
      "VideoManager is deprecated and will be removed.\n"
     ]
    },
    {
     "name": "stdout",
     "output_type": "stream",
     "text": [
      "mid=75, len_kvm3=4\n"
     ]
    },
    {
     "name": "stderr",
     "output_type": "stream",
     "text": [
      "VideoManager is deprecated and will be removed.\n"
     ]
    },
    {
     "name": "stdout",
     "output_type": "stream",
     "text": [
      "mid=62, len_kvm3=12\n",
      "writing 62\n"
     ]
    },
    {
     "name": "stderr",
     "output_type": "stream",
     "text": [
      "VideoManager is deprecated and will be removed.\n"
     ]
    },
    {
     "name": "stdout",
     "output_type": "stream",
     "text": [
      "mid=68, len_kvm3=6\n",
      "writing 68\n"
     ]
    },
    {
     "name": "stderr",
     "output_type": "stream",
     "text": [
      "VideoManager is deprecated and will be removed.\n"
     ]
    },
    {
     "name": "stdout",
     "output_type": "stream",
     "text": [
      "mid=65, len_kvm3=7\n",
      "writing 65\n",
      "/storage/arkady/Glinka/music-transformer/video_conditioning/content/video_data/video_ad50.mp4\n"
     ]
    },
    {
     "name": "stderr",
     "output_type": "stream",
     "text": [
      "VideoManager is deprecated and will be removed.\n"
     ]
    },
    {
     "name": "stdout",
     "output_type": "stream",
     "text": [
      "mid=100, len_kvm3=0\n"
     ]
    },
    {
     "name": "stderr",
     "output_type": "stream",
     "text": [
      "VideoManager is deprecated and will be removed.\n"
     ]
    },
    {
     "name": "stdout",
     "output_type": "stream",
     "text": [
      "mid=50, len_kvm3=5\n",
      "writing 50\n"
     ]
    },
    {
     "name": "stderr",
     "output_type": "stream",
     "text": [
      "VideoManager is deprecated and will be removed.\n"
     ]
    },
    {
     "name": "stdout",
     "output_type": "stream",
     "text": [
      "mid=25, len_kvm3=8\n",
      "writing 25\n"
     ]
    },
    {
     "name": "stderr",
     "output_type": "stream",
     "text": [
      "VideoManager is deprecated and will be removed.\n"
     ]
    },
    {
     "name": "stdout",
     "output_type": "stream",
     "text": [
      "mid=12, len_kvm3=9\n",
      "writing 12\n",
      "/storage/arkady/Glinka/music-transformer/video_conditioning/content/video_data/video_ad51.mp4\n"
     ]
    },
    {
     "name": "stderr",
     "output_type": "stream",
     "text": [
      "VideoManager is deprecated and will be removed.\n"
     ]
    },
    {
     "name": "stdout",
     "output_type": "stream",
     "text": [
      "mid=100, len_kvm3=0\n"
     ]
    },
    {
     "name": "stderr",
     "output_type": "stream",
     "text": [
      "VideoManager is deprecated and will be removed.\n"
     ]
    },
    {
     "name": "stdout",
     "output_type": "stream",
     "text": [
      "mid=50, len_kvm3=7\n",
      "writing 50\n"
     ]
    },
    {
     "name": "stderr",
     "output_type": "stream",
     "text": [
      "VideoManager is deprecated and will be removed.\n"
     ]
    },
    {
     "name": "stdout",
     "output_type": "stream",
     "text": [
      "mid=25, len_kvm3=12\n",
      "writing 25\n"
     ]
    },
    {
     "name": "stderr",
     "output_type": "stream",
     "text": [
      "VideoManager is deprecated and will be removed.\n"
     ]
    },
    {
     "name": "stdout",
     "output_type": "stream",
     "text": [
      "mid=37, len_kvm3=12\n",
      "writing 37\n",
      "/storage/arkady/Glinka/music-transformer/video_conditioning/content/video_data/video_ad52.mp4\n"
     ]
    },
    {
     "name": "stderr",
     "output_type": "stream",
     "text": [
      "VideoManager is deprecated and will be removed.\n"
     ]
    },
    {
     "name": "stdout",
     "output_type": "stream",
     "text": [
      "mid=100, len_kvm3=0\n"
     ]
    },
    {
     "name": "stderr",
     "output_type": "stream",
     "text": [
      "VideoManager is deprecated and will be removed.\n"
     ]
    },
    {
     "name": "stdout",
     "output_type": "stream",
     "text": [
      "mid=50, len_kvm3=2\n"
     ]
    },
    {
     "name": "stderr",
     "output_type": "stream",
     "text": [
      "VideoManager is deprecated and will be removed.\n"
     ]
    },
    {
     "name": "stdout",
     "output_type": "stream",
     "text": [
      "mid=25, len_kvm3=3\n"
     ]
    },
    {
     "name": "stderr",
     "output_type": "stream",
     "text": [
      "VideoManager is deprecated and will be removed.\n"
     ]
    },
    {
     "name": "stdout",
     "output_type": "stream",
     "text": [
      "mid=12, len_kvm3=4\n"
     ]
    },
    {
     "name": "stderr",
     "output_type": "stream",
     "text": [
      "VideoManager is deprecated and will be removed.\n"
     ]
    },
    {
     "name": "stdout",
     "output_type": "stream",
     "text": [
      "mid=6, len_kvm3=5\n",
      "writing 6\n"
     ]
    },
    {
     "name": "stderr",
     "output_type": "stream",
     "text": [
      "VideoManager is deprecated and will be removed.\n"
     ]
    },
    {
     "name": "stdout",
     "output_type": "stream",
     "text": [
      "mid=3, len_kvm3=7\n",
      "writing 3\n"
     ]
    },
    {
     "name": "stderr",
     "output_type": "stream",
     "text": [
      "VideoManager is deprecated and will be removed.\n"
     ]
    },
    {
     "name": "stdout",
     "output_type": "stream",
     "text": [
      "mid=1, len_kvm3=7\n",
      "writing 1\n",
      "/storage/arkady/Glinka/music-transformer/video_conditioning/content/video_data/video_ad53.mp4\n"
     ]
    },
    {
     "name": "stderr",
     "output_type": "stream",
     "text": [
      "VideoManager is deprecated and will be removed.\n"
     ]
    },
    {
     "name": "stdout",
     "output_type": "stream",
     "text": [
      "mid=100, len_kvm3=2\n"
     ]
    },
    {
     "name": "stderr",
     "output_type": "stream",
     "text": [
      "VideoManager is deprecated and will be removed.\n"
     ]
    },
    {
     "name": "stdout",
     "output_type": "stream",
     "text": [
      "mid=50, len_kvm3=5\n",
      "writing 50\n"
     ]
    },
    {
     "name": "stderr",
     "output_type": "stream",
     "text": [
      "VideoManager is deprecated and will be removed.\n"
     ]
    },
    {
     "name": "stdout",
     "output_type": "stream",
     "text": [
      "mid=25, len_kvm3=5\n",
      "writing 25\n"
     ]
    },
    {
     "name": "stderr",
     "output_type": "stream",
     "text": [
      "VideoManager is deprecated and will be removed.\n"
     ]
    },
    {
     "name": "stdout",
     "output_type": "stream",
     "text": [
      "mid=12, len_kvm3=5\n",
      "writing 12\n",
      "/storage/arkady/Glinka/music-transformer/video_conditioning/content/video_data/video_ad54.mp4\n"
     ]
    },
    {
     "name": "stderr",
     "output_type": "stream",
     "text": [
      "VideoManager is deprecated and will be removed.\n"
     ]
    },
    {
     "name": "stdout",
     "output_type": "stream",
     "text": [
      "mid=100, len_kvm3=0\n"
     ]
    },
    {
     "name": "stderr",
     "output_type": "stream",
     "text": [
      "VideoManager is deprecated and will be removed.\n"
     ]
    },
    {
     "name": "stdout",
     "output_type": "stream",
     "text": [
      "mid=50, len_kvm3=9\n",
      "writing 50\n"
     ]
    },
    {
     "name": "stderr",
     "output_type": "stream",
     "text": [
      "VideoManager is deprecated and will be removed.\n"
     ]
    },
    {
     "name": "stdout",
     "output_type": "stream",
     "text": [
      "mid=75, len_kvm3=2\n"
     ]
    },
    {
     "name": "stderr",
     "output_type": "stream",
     "text": [
      "VideoManager is deprecated and will be removed.\n"
     ]
    },
    {
     "name": "stdout",
     "output_type": "stream",
     "text": [
      "mid=62, len_kvm3=5\n",
      "writing 62\n"
     ]
    },
    {
     "name": "stderr",
     "output_type": "stream",
     "text": [
      "VideoManager is deprecated and will be removed.\n"
     ]
    },
    {
     "name": "stdout",
     "output_type": "stream",
     "text": [
      "mid=56, len_kvm3=7\n",
      "writing 56\n",
      "/storage/arkady/Glinka/music-transformer/video_conditioning/content/video_data/video_ad55.mp4\n"
     ]
    },
    {
     "name": "stderr",
     "output_type": "stream",
     "text": [
      "VideoManager is deprecated and will be removed.\n"
     ]
    },
    {
     "name": "stdout",
     "output_type": "stream",
     "text": [
      "mid=100, len_kvm3=3\n"
     ]
    },
    {
     "name": "stderr",
     "output_type": "stream",
     "text": [
      "VideoManager is deprecated and will be removed.\n"
     ]
    },
    {
     "name": "stdout",
     "output_type": "stream",
     "text": [
      "mid=50, len_kvm3=8\n",
      "writing 50\n"
     ]
    },
    {
     "name": "stderr",
     "output_type": "stream",
     "text": [
      "VideoManager is deprecated and will be removed.\n"
     ]
    },
    {
     "name": "stdout",
     "output_type": "stream",
     "text": [
      "mid=25, len_kvm3=11\n",
      "writing 25\n"
     ]
    },
    {
     "name": "stderr",
     "output_type": "stream",
     "text": [
      "VideoManager is deprecated and will be removed.\n"
     ]
    },
    {
     "name": "stdout",
     "output_type": "stream",
     "text": [
      "mid=37, len_kvm3=10\n",
      "writing 37\n",
      "/storage/arkady/Glinka/music-transformer/video_conditioning/content/video_data/video_ad56.mp4\n"
     ]
    },
    {
     "name": "stderr",
     "output_type": "stream",
     "text": [
      "VideoManager is deprecated and will be removed.\n"
     ]
    },
    {
     "name": "stdout",
     "output_type": "stream",
     "text": [
      "mid=100, len_kvm3=0\n"
     ]
    },
    {
     "name": "stderr",
     "output_type": "stream",
     "text": [
      "VideoManager is deprecated and will be removed.\n"
     ]
    },
    {
     "name": "stdout",
     "output_type": "stream",
     "text": [
      "mid=50, len_kvm3=16\n"
     ]
    },
    {
     "name": "stderr",
     "output_type": "stream",
     "text": [
      "VideoManager is deprecated and will be removed.\n"
     ]
    },
    {
     "name": "stdout",
     "output_type": "stream",
     "text": [
      "mid=75, len_kvm3=0\n"
     ]
    },
    {
     "name": "stderr",
     "output_type": "stream",
     "text": [
      "VideoManager is deprecated and will be removed.\n"
     ]
    },
    {
     "name": "stdout",
     "output_type": "stream",
     "text": [
      "mid=62, len_kvm3=2\n"
     ]
    },
    {
     "name": "stderr",
     "output_type": "stream",
     "text": [
      "VideoManager is deprecated and will be removed.\n"
     ]
    },
    {
     "name": "stdout",
     "output_type": "stream",
     "text": [
      "mid=56, len_kvm3=8\n",
      "writing 56\n"
     ]
    },
    {
     "name": "stderr",
     "output_type": "stream",
     "text": [
      "VideoManager is deprecated and will be removed.\n"
     ]
    },
    {
     "name": "stdout",
     "output_type": "stream",
     "text": [
      "mid=53, len_kvm3=12\n",
      "writing 53\n"
     ]
    },
    {
     "name": "stderr",
     "output_type": "stream",
     "text": [
      "VideoManager is deprecated and will be removed.\n"
     ]
    },
    {
     "name": "stdout",
     "output_type": "stream",
     "text": [
      "mid=54, len_kvm3=10\n",
      "writing 54\n",
      "/storage/arkady/Glinka/music-transformer/video_conditioning/content/video_data/video_ad57.mp4\n"
     ]
    },
    {
     "name": "stderr",
     "output_type": "stream",
     "text": [
      "VideoManager is deprecated and will be removed.\n"
     ]
    },
    {
     "name": "stdout",
     "output_type": "stream",
     "text": [
      "mid=100, len_kvm3=0\n"
     ]
    },
    {
     "name": "stderr",
     "output_type": "stream",
     "text": [
      "VideoManager is deprecated and will be removed.\n"
     ]
    },
    {
     "name": "stdout",
     "output_type": "stream",
     "text": [
      "mid=50, len_kvm3=5\n",
      "writing 50\n"
     ]
    },
    {
     "name": "stderr",
     "output_type": "stream",
     "text": [
      "VideoManager is deprecated and will be removed.\n"
     ]
    },
    {
     "name": "stdout",
     "output_type": "stream",
     "text": [
      "mid=25, len_kvm3=8\n",
      "writing 25\n"
     ]
    },
    {
     "name": "stderr",
     "output_type": "stream",
     "text": [
      "VideoManager is deprecated and will be removed.\n"
     ]
    },
    {
     "name": "stdout",
     "output_type": "stream",
     "text": [
      "mid=12, len_kvm3=18\n"
     ]
    },
    {
     "name": "stderr",
     "output_type": "stream",
     "text": [
      "VideoManager is deprecated and will be removed.\n"
     ]
    },
    {
     "name": "stdout",
     "output_type": "stream",
     "text": [
      "mid=18, len_kvm3=13\n"
     ]
    },
    {
     "name": "stderr",
     "output_type": "stream",
     "text": [
      "VideoManager is deprecated and will be removed.\n"
     ]
    },
    {
     "name": "stdout",
     "output_type": "stream",
     "text": [
      "mid=21, len_kvm3=8\n",
      "writing 21\n",
      "/storage/arkady/Glinka/music-transformer/video_conditioning/content/video_data/video_ad58.mp4\n"
     ]
    },
    {
     "name": "stderr",
     "output_type": "stream",
     "text": [
      "VideoManager is deprecated and will be removed.\n"
     ]
    },
    {
     "name": "stdout",
     "output_type": "stream",
     "text": [
      "mid=100, len_kvm3=0\n"
     ]
    },
    {
     "name": "stderr",
     "output_type": "stream",
     "text": [
      "VideoManager is deprecated and will be removed.\n"
     ]
    },
    {
     "name": "stdout",
     "output_type": "stream",
     "text": [
      "mid=50, len_kvm3=5\n",
      "writing 50\n"
     ]
    },
    {
     "name": "stderr",
     "output_type": "stream",
     "text": [
      "VideoManager is deprecated and will be removed.\n"
     ]
    },
    {
     "name": "stdout",
     "output_type": "stream",
     "text": [
      "mid=25, len_kvm3=9\n",
      "writing 25\n"
     ]
    },
    {
     "name": "stderr",
     "output_type": "stream",
     "text": [
      "VideoManager is deprecated and will be removed.\n"
     ]
    },
    {
     "name": "stdout",
     "output_type": "stream",
     "text": [
      "mid=37, len_kvm3=6\n",
      "writing 37\n",
      "/storage/arkady/Glinka/music-transformer/video_conditioning/content/video_data/video_ad59.mp4\n"
     ]
    },
    {
     "name": "stderr",
     "output_type": "stream",
     "text": [
      "VideoManager is deprecated and will be removed.\n"
     ]
    },
    {
     "name": "stdout",
     "output_type": "stream",
     "text": [
      "mid=100, len_kvm3=0\n"
     ]
    },
    {
     "name": "stderr",
     "output_type": "stream",
     "text": [
      "VideoManager is deprecated and will be removed.\n"
     ]
    },
    {
     "name": "stdout",
     "output_type": "stream",
     "text": [
      "mid=50, len_kvm3=11\n",
      "writing 50\n"
     ]
    },
    {
     "name": "stderr",
     "output_type": "stream",
     "text": [
      "VideoManager is deprecated and will be removed.\n"
     ]
    },
    {
     "name": "stdout",
     "output_type": "stream",
     "text": [
      "mid=75, len_kvm3=4\n"
     ]
    },
    {
     "name": "stderr",
     "output_type": "stream",
     "text": [
      "VideoManager is deprecated and will be removed.\n"
     ]
    },
    {
     "name": "stdout",
     "output_type": "stream",
     "text": [
      "mid=62, len_kvm3=8\n",
      "writing 62\n"
     ]
    },
    {
     "name": "stderr",
     "output_type": "stream",
     "text": [
      "VideoManager is deprecated and will be removed.\n"
     ]
    },
    {
     "name": "stdout",
     "output_type": "stream",
     "text": [
      "mid=56, len_kvm3=8\n",
      "writing 56\n",
      "/storage/arkady/Glinka/music-transformer/video_conditioning/content/video_data/video_ad60.mp4\n"
     ]
    },
    {
     "name": "stderr",
     "output_type": "stream",
     "text": [
      "VideoManager is deprecated and will be removed.\n"
     ]
    },
    {
     "name": "stdout",
     "output_type": "stream",
     "text": [
      "mid=100, len_kvm3=0\n"
     ]
    },
    {
     "name": "stderr",
     "output_type": "stream",
     "text": [
      "VideoManager is deprecated and will be removed.\n"
     ]
    },
    {
     "name": "stdout",
     "output_type": "stream",
     "text": [
      "mid=50, len_kvm3=2\n"
     ]
    },
    {
     "name": "stderr",
     "output_type": "stream",
     "text": [
      "VideoManager is deprecated and will be removed.\n"
     ]
    },
    {
     "name": "stdout",
     "output_type": "stream",
     "text": [
      "mid=25, len_kvm3=8\n",
      "writing 25\n"
     ]
    },
    {
     "name": "stderr",
     "output_type": "stream",
     "text": [
      "VideoManager is deprecated and will be removed.\n"
     ]
    },
    {
     "name": "stdout",
     "output_type": "stream",
     "text": [
      "mid=12, len_kvm3=16\n"
     ]
    },
    {
     "name": "stderr",
     "output_type": "stream",
     "text": [
      "VideoManager is deprecated and will be removed.\n"
     ]
    },
    {
     "name": "stdout",
     "output_type": "stream",
     "text": [
      "mid=18, len_kvm3=8\n",
      "writing 18\n"
     ]
    },
    {
     "name": "stderr",
     "output_type": "stream",
     "text": [
      "VideoManager is deprecated and will be removed.\n"
     ]
    },
    {
     "name": "stdout",
     "output_type": "stream",
     "text": [
      "mid=15, len_kvm3=11\n",
      "writing 15\n",
      "/storage/arkady/Glinka/music-transformer/video_conditioning/content/video_data/video_ad61.mp4\n"
     ]
    },
    {
     "name": "stderr",
     "output_type": "stream",
     "text": [
      "VideoManager is deprecated and will be removed.\n"
     ]
    },
    {
     "name": "stdout",
     "output_type": "stream",
     "text": [
      "mid=100, len_kvm3=0\n"
     ]
    },
    {
     "name": "stderr",
     "output_type": "stream",
     "text": [
      "VideoManager is deprecated and will be removed.\n"
     ]
    },
    {
     "name": "stdout",
     "output_type": "stream",
     "text": [
      "mid=50, len_kvm3=13\n"
     ]
    },
    {
     "name": "stderr",
     "output_type": "stream",
     "text": [
      "VideoManager is deprecated and will be removed.\n"
     ]
    },
    {
     "name": "stdout",
     "output_type": "stream",
     "text": [
      "mid=75, len_kvm3=4\n"
     ]
    },
    {
     "name": "stderr",
     "output_type": "stream",
     "text": [
      "VideoManager is deprecated and will be removed.\n"
     ]
    },
    {
     "name": "stdout",
     "output_type": "stream",
     "text": [
      "mid=62, len_kvm3=9\n",
      "writing 62\n"
     ]
    },
    {
     "name": "stderr",
     "output_type": "stream",
     "text": [
      "VideoManager is deprecated and will be removed.\n"
     ]
    },
    {
     "name": "stdout",
     "output_type": "stream",
     "text": [
      "mid=68, len_kvm3=6\n",
      "writing 68\n"
     ]
    },
    {
     "name": "stderr",
     "output_type": "stream",
     "text": [
      "VideoManager is deprecated and will be removed.\n"
     ]
    },
    {
     "name": "stdout",
     "output_type": "stream",
     "text": [
      "mid=65, len_kvm3=7\n",
      "writing 65\n",
      "/storage/arkady/Glinka/music-transformer/video_conditioning/content/video_data/video_ad62.mp4\n"
     ]
    },
    {
     "name": "stderr",
     "output_type": "stream",
     "text": [
      "VideoManager is deprecated and will be removed.\n"
     ]
    },
    {
     "name": "stdout",
     "output_type": "stream",
     "text": [
      "mid=100, len_kvm3=0\n"
     ]
    },
    {
     "name": "stderr",
     "output_type": "stream",
     "text": [
      "VideoManager is deprecated and will be removed.\n"
     ]
    },
    {
     "name": "stdout",
     "output_type": "stream",
     "text": [
      "mid=50, len_kvm3=8\n",
      "writing 50\n"
     ]
    },
    {
     "name": "stderr",
     "output_type": "stream",
     "text": [
      "VideoManager is deprecated and will be removed.\n"
     ]
    },
    {
     "name": "stdout",
     "output_type": "stream",
     "text": [
      "mid=25, len_kvm3=10\n",
      "writing 25\n"
     ]
    },
    {
     "name": "stderr",
     "output_type": "stream",
     "text": [
      "VideoManager is deprecated and will be removed.\n"
     ]
    },
    {
     "name": "stdout",
     "output_type": "stream",
     "text": [
      "mid=37, len_kvm3=10\n",
      "writing 37\n",
      "/storage/arkady/Glinka/music-transformer/video_conditioning/content/video_data/video_ad63.mp4\n"
     ]
    },
    {
     "name": "stderr",
     "output_type": "stream",
     "text": [
      "VideoManager is deprecated and will be removed.\n"
     ]
    },
    {
     "name": "stdout",
     "output_type": "stream",
     "text": [
      "mid=100, len_kvm3=0\n"
     ]
    },
    {
     "name": "stderr",
     "output_type": "stream",
     "text": [
      "VideoManager is deprecated and will be removed.\n"
     ]
    },
    {
     "name": "stdout",
     "output_type": "stream",
     "text": [
      "mid=50, len_kvm3=17\n"
     ]
    },
    {
     "name": "stderr",
     "output_type": "stream",
     "text": [
      "VideoManager is deprecated and will be removed.\n"
     ]
    },
    {
     "name": "stdout",
     "output_type": "stream",
     "text": [
      "mid=75, len_kvm3=2\n"
     ]
    },
    {
     "name": "stderr",
     "output_type": "stream",
     "text": [
      "VideoManager is deprecated and will be removed.\n"
     ]
    },
    {
     "name": "stdout",
     "output_type": "stream",
     "text": [
      "mid=62, len_kvm3=5\n",
      "writing 62\n"
     ]
    },
    {
     "name": "stderr",
     "output_type": "stream",
     "text": [
      "VideoManager is deprecated and will be removed.\n"
     ]
    },
    {
     "name": "stdout",
     "output_type": "stream",
     "text": [
      "mid=56, len_kvm3=6\n",
      "writing 56\n"
     ]
    },
    {
     "name": "stderr",
     "output_type": "stream",
     "text": [
      "VideoManager is deprecated and will be removed.\n"
     ]
    },
    {
     "name": "stdout",
     "output_type": "stream",
     "text": [
      "mid=53, len_kvm3=14\n"
     ]
    },
    {
     "name": "stderr",
     "output_type": "stream",
     "text": [
      "VideoManager is deprecated and will be removed.\n"
     ]
    },
    {
     "name": "stdout",
     "output_type": "stream",
     "text": [
      "mid=54, len_kvm3=13\n"
     ]
    },
    {
     "name": "stderr",
     "output_type": "stream",
     "text": [
      "VideoManager is deprecated and will be removed.\n"
     ]
    },
    {
     "name": "stdout",
     "output_type": "stream",
     "text": [
      "mid=55, len_kvm3=11\n",
      "writing 55\n",
      "/storage/arkady/Glinka/music-transformer/video_conditioning/content/video_data/video_ad64.mp4\n"
     ]
    },
    {
     "name": "stderr",
     "output_type": "stream",
     "text": [
      "VideoManager is deprecated and will be removed.\n"
     ]
    },
    {
     "name": "stdout",
     "output_type": "stream",
     "text": [
      "mid=100, len_kvm3=0\n"
     ]
    },
    {
     "name": "stderr",
     "output_type": "stream",
     "text": [
      "VideoManager is deprecated and will be removed.\n"
     ]
    },
    {
     "name": "stdout",
     "output_type": "stream",
     "text": [
      "mid=50, len_kvm3=7\n",
      "writing 50\n"
     ]
    },
    {
     "name": "stderr",
     "output_type": "stream",
     "text": [
      "VideoManager is deprecated and will be removed.\n"
     ]
    },
    {
     "name": "stdout",
     "output_type": "stream",
     "text": [
      "mid=25, len_kvm3=8\n",
      "writing 25\n"
     ]
    },
    {
     "name": "stderr",
     "output_type": "stream",
     "text": [
      "VideoManager is deprecated and will be removed.\n"
     ]
    },
    {
     "name": "stdout",
     "output_type": "stream",
     "text": [
      "mid=12, len_kvm3=10\n",
      "writing 12\n",
      "/storage/arkady/Glinka/music-transformer/video_conditioning/content/video_data/video_ad65.mp4\n"
     ]
    },
    {
     "name": "stderr",
     "output_type": "stream",
     "text": [
      "VideoManager is deprecated and will be removed.\n"
     ]
    },
    {
     "name": "stdout",
     "output_type": "stream",
     "text": [
      "mid=100, len_kvm3=0\n"
     ]
    },
    {
     "name": "stderr",
     "output_type": "stream",
     "text": [
      "VideoManager is deprecated and will be removed.\n"
     ]
    },
    {
     "name": "stdout",
     "output_type": "stream",
     "text": [
      "mid=50, len_kvm3=6\n",
      "writing 50\n"
     ]
    },
    {
     "name": "stderr",
     "output_type": "stream",
     "text": [
      "VideoManager is deprecated and will be removed.\n"
     ]
    },
    {
     "name": "stdout",
     "output_type": "stream",
     "text": [
      "mid=25, len_kvm3=9\n",
      "writing 25\n"
     ]
    },
    {
     "name": "stderr",
     "output_type": "stream",
     "text": [
      "VideoManager is deprecated and will be removed.\n"
     ]
    },
    {
     "name": "stdout",
     "output_type": "stream",
     "text": [
      "mid=37, len_kvm3=9\n",
      "writing 37\n",
      "/storage/arkady/Glinka/music-transformer/video_conditioning/content/video_data/video_ad66.mp4\n"
     ]
    },
    {
     "name": "stderr",
     "output_type": "stream",
     "text": [
      "VideoManager is deprecated and will be removed.\n"
     ]
    },
    {
     "name": "stdout",
     "output_type": "stream",
     "text": [
      "mid=100, len_kvm3=0\n"
     ]
    },
    {
     "name": "stderr",
     "output_type": "stream",
     "text": [
      "VideoManager is deprecated and will be removed.\n"
     ]
    },
    {
     "name": "stdout",
     "output_type": "stream",
     "text": [
      "mid=50, len_kvm3=8\n",
      "writing 50\n"
     ]
    },
    {
     "name": "stderr",
     "output_type": "stream",
     "text": [
      "VideoManager is deprecated and will be removed.\n"
     ]
    },
    {
     "name": "stdout",
     "output_type": "stream",
     "text": [
      "mid=25, len_kvm3=9\n",
      "writing 25\n"
     ]
    },
    {
     "name": "stderr",
     "output_type": "stream",
     "text": [
      "VideoManager is deprecated and will be removed.\n"
     ]
    },
    {
     "name": "stdout",
     "output_type": "stream",
     "text": [
      "mid=37, len_kvm3=8\n",
      "writing 37\n",
      "/storage/arkady/Glinka/music-transformer/video_conditioning/content/video_data/video_ad67.mp4\n"
     ]
    },
    {
     "name": "stderr",
     "output_type": "stream",
     "text": [
      "VideoManager is deprecated and will be removed.\n"
     ]
    },
    {
     "name": "stdout",
     "output_type": "stream",
     "text": [
      "mid=100, len_kvm3=0\n"
     ]
    },
    {
     "name": "stderr",
     "output_type": "stream",
     "text": [
      "VideoManager is deprecated and will be removed.\n"
     ]
    },
    {
     "name": "stdout",
     "output_type": "stream",
     "text": [
      "mid=50, len_kvm3=4\n"
     ]
    },
    {
     "name": "stderr",
     "output_type": "stream",
     "text": [
      "VideoManager is deprecated and will be removed.\n"
     ]
    },
    {
     "name": "stdout",
     "output_type": "stream",
     "text": [
      "mid=25, len_kvm3=9\n",
      "writing 25\n"
     ]
    },
    {
     "name": "stderr",
     "output_type": "stream",
     "text": [
      "VideoManager is deprecated and will be removed.\n"
     ]
    },
    {
     "name": "stdout",
     "output_type": "stream",
     "text": [
      "mid=37, len_kvm3=8\n",
      "writing 37\n"
     ]
    },
    {
     "name": "stderr",
     "output_type": "stream",
     "text": [
      "VideoManager is deprecated and will be removed.\n"
     ]
    },
    {
     "name": "stdout",
     "output_type": "stream",
     "text": [
      "mid=31, len_kvm3=9\n",
      "writing 31\n",
      "/storage/arkady/Glinka/music-transformer/video_conditioning/content/video_data/video_ad68.mp4\n"
     ]
    },
    {
     "name": "stderr",
     "output_type": "stream",
     "text": [
      "VideoManager is deprecated and will be removed.\n"
     ]
    },
    {
     "name": "stdout",
     "output_type": "stream",
     "text": [
      "mid=100, len_kvm3=0\n"
     ]
    },
    {
     "name": "stderr",
     "output_type": "stream",
     "text": [
      "VideoManager is deprecated and will be removed.\n"
     ]
    },
    {
     "name": "stdout",
     "output_type": "stream",
     "text": [
      "mid=50, len_kvm3=8\n",
      "writing 50\n"
     ]
    },
    {
     "name": "stderr",
     "output_type": "stream",
     "text": [
      "VideoManager is deprecated and will be removed.\n"
     ]
    },
    {
     "name": "stdout",
     "output_type": "stream",
     "text": [
      "mid=25, len_kvm3=10\n",
      "writing 25\n"
     ]
    },
    {
     "name": "stderr",
     "output_type": "stream",
     "text": [
      "VideoManager is deprecated and will be removed.\n"
     ]
    },
    {
     "name": "stdout",
     "output_type": "stream",
     "text": [
      "mid=37, len_kvm3=10\n",
      "writing 37\n",
      "/storage/arkady/Glinka/music-transformer/video_conditioning/content/video_data/video_ad69.mp4\n"
     ]
    },
    {
     "name": "stderr",
     "output_type": "stream",
     "text": [
      "VideoManager is deprecated and will be removed.\n"
     ]
    },
    {
     "name": "stdout",
     "output_type": "stream",
     "text": [
      "mid=100, len_kvm3=2\n"
     ]
    },
    {
     "name": "stderr",
     "output_type": "stream",
     "text": [
      "VideoManager is deprecated and will be removed.\n"
     ]
    },
    {
     "name": "stdout",
     "output_type": "stream",
     "text": [
      "mid=50, len_kvm3=2\n"
     ]
    },
    {
     "name": "stderr",
     "output_type": "stream",
     "text": [
      "VideoManager is deprecated and will be removed.\n"
     ]
    },
    {
     "name": "stdout",
     "output_type": "stream",
     "text": [
      "mid=25, len_kvm3=11\n",
      "writing 25\n"
     ]
    },
    {
     "name": "stderr",
     "output_type": "stream",
     "text": [
      "VideoManager is deprecated and will be removed.\n"
     ]
    },
    {
     "name": "stdout",
     "output_type": "stream",
     "text": [
      "mid=37, len_kvm3=6\n",
      "writing 37\n"
     ]
    },
    {
     "name": "stderr",
     "output_type": "stream",
     "text": [
      "VideoManager is deprecated and will be removed.\n"
     ]
    },
    {
     "name": "stdout",
     "output_type": "stream",
     "text": [
      "mid=31, len_kvm3=9\n",
      "writing 31\n",
      "/storage/arkady/Glinka/music-transformer/video_conditioning/content/video_data/video_ad70.mp4\n"
     ]
    },
    {
     "name": "stderr",
     "output_type": "stream",
     "text": [
      "VideoManager is deprecated and will be removed.\n"
     ]
    },
    {
     "name": "stdout",
     "output_type": "stream",
     "text": [
      "mid=100, len_kvm3=0\n"
     ]
    },
    {
     "name": "stderr",
     "output_type": "stream",
     "text": [
      "VideoManager is deprecated and will be removed.\n"
     ]
    },
    {
     "name": "stdout",
     "output_type": "stream",
     "text": [
      "mid=50, len_kvm3=0\n"
     ]
    },
    {
     "name": "stderr",
     "output_type": "stream",
     "text": [
      "VideoManager is deprecated and will be removed.\n"
     ]
    },
    {
     "name": "stdout",
     "output_type": "stream",
     "text": [
      "mid=25, len_kvm3=0\n"
     ]
    },
    {
     "name": "stderr",
     "output_type": "stream",
     "text": [
      "VideoManager is deprecated and will be removed.\n"
     ]
    },
    {
     "name": "stdout",
     "output_type": "stream",
     "text": [
      "mid=12, len_kvm3=3\n"
     ]
    },
    {
     "name": "stderr",
     "output_type": "stream",
     "text": [
      "VideoManager is deprecated and will be removed.\n"
     ]
    },
    {
     "name": "stdout",
     "output_type": "stream",
     "text": [
      "mid=6, len_kvm3=11\n",
      "writing 6\n"
     ]
    },
    {
     "name": "stderr",
     "output_type": "stream",
     "text": [
      "VideoManager is deprecated and will be removed.\n"
     ]
    },
    {
     "name": "stdout",
     "output_type": "stream",
     "text": [
      "mid=9, len_kvm3=4\n"
     ]
    },
    {
     "name": "stderr",
     "output_type": "stream",
     "text": [
      "VideoManager is deprecated and will be removed.\n"
     ]
    },
    {
     "name": "stdout",
     "output_type": "stream",
     "text": [
      "mid=7, len_kvm3=7\n",
      "writing 7\n",
      "/storage/arkady/Glinka/music-transformer/video_conditioning/content/video_data/video_ad71.mp4\n"
     ]
    },
    {
     "name": "stderr",
     "output_type": "stream",
     "text": [
      "VideoManager is deprecated and will be removed.\n"
     ]
    },
    {
     "name": "stdout",
     "output_type": "stream",
     "text": [
      "mid=100, len_kvm3=2\n"
     ]
    },
    {
     "name": "stderr",
     "output_type": "stream",
     "text": [
      "VideoManager is deprecated and will be removed.\n"
     ]
    },
    {
     "name": "stdout",
     "output_type": "stream",
     "text": [
      "mid=50, len_kvm3=10\n",
      "writing 50\n"
     ]
    },
    {
     "name": "stderr",
     "output_type": "stream",
     "text": [
      "VideoManager is deprecated and will be removed.\n"
     ]
    },
    {
     "name": "stdout",
     "output_type": "stream",
     "text": [
      "mid=75, len_kvm3=2\n"
     ]
    },
    {
     "name": "stderr",
     "output_type": "stream",
     "text": [
      "VideoManager is deprecated and will be removed.\n"
     ]
    },
    {
     "name": "stdout",
     "output_type": "stream",
     "text": [
      "mid=62, len_kvm3=4\n"
     ]
    },
    {
     "name": "stderr",
     "output_type": "stream",
     "text": [
      "VideoManager is deprecated and will be removed.\n"
     ]
    },
    {
     "name": "stdout",
     "output_type": "stream",
     "text": [
      "mid=56, len_kvm3=5\n",
      "writing 56\n"
     ]
    },
    {
     "name": "stderr",
     "output_type": "stream",
     "text": [
      "VideoManager is deprecated and will be removed.\n"
     ]
    },
    {
     "name": "stdout",
     "output_type": "stream",
     "text": [
      "mid=53, len_kvm3=9\n",
      "writing 53\n",
      "/storage/arkady/Glinka/music-transformer/video_conditioning/content/video_data/video_ad72.mp4\n"
     ]
    },
    {
     "name": "stderr",
     "output_type": "stream",
     "text": [
      "VideoManager is deprecated and will be removed.\n"
     ]
    },
    {
     "name": "stdout",
     "output_type": "stream",
     "text": [
      "mid=100, len_kvm3=0\n"
     ]
    },
    {
     "name": "stderr",
     "output_type": "stream",
     "text": [
      "VideoManager is deprecated and will be removed.\n"
     ]
    },
    {
     "name": "stdout",
     "output_type": "stream",
     "text": [
      "mid=50, len_kvm3=0\n"
     ]
    },
    {
     "name": "stderr",
     "output_type": "stream",
     "text": [
      "VideoManager is deprecated and will be removed.\n"
     ]
    },
    {
     "name": "stdout",
     "output_type": "stream",
     "text": [
      "mid=25, len_kvm3=7\n",
      "writing 25\n"
     ]
    },
    {
     "name": "stderr",
     "output_type": "stream",
     "text": [
      "VideoManager is deprecated and will be removed.\n"
     ]
    },
    {
     "name": "stdout",
     "output_type": "stream",
     "text": [
      "mid=12, len_kvm3=8\n",
      "writing 12\n"
     ]
    },
    {
     "name": "stderr",
     "output_type": "stream",
     "text": [
      "VideoManager is deprecated and will be removed.\n"
     ]
    },
    {
     "name": "stdout",
     "output_type": "stream",
     "text": [
      "mid=6, len_kvm3=15\n"
     ]
    },
    {
     "name": "stderr",
     "output_type": "stream",
     "text": [
      "VideoManager is deprecated and will be removed.\n"
     ]
    },
    {
     "name": "stdout",
     "output_type": "stream",
     "text": [
      "mid=9, len_kvm3=11\n",
      "writing 9\n",
      "/storage/arkady/Glinka/music-transformer/video_conditioning/content/video_data/video_ad73.mp4\n"
     ]
    },
    {
     "name": "stderr",
     "output_type": "stream",
     "text": [
      "VideoManager is deprecated and will be removed.\n"
     ]
    },
    {
     "name": "stdout",
     "output_type": "stream",
     "text": [
      "mid=100, len_kvm3=2\n"
     ]
    },
    {
     "name": "stderr",
     "output_type": "stream",
     "text": [
      "VideoManager is deprecated and will be removed.\n"
     ]
    },
    {
     "name": "stdout",
     "output_type": "stream",
     "text": [
      "mid=50, len_kvm3=13\n"
     ]
    },
    {
     "name": "stderr",
     "output_type": "stream",
     "text": [
      "VideoManager is deprecated and will be removed.\n"
     ]
    },
    {
     "name": "stdout",
     "output_type": "stream",
     "text": [
      "mid=75, len_kvm3=4\n"
     ]
    },
    {
     "name": "stderr",
     "output_type": "stream",
     "text": [
      "VideoManager is deprecated and will be removed.\n"
     ]
    },
    {
     "name": "stdout",
     "output_type": "stream",
     "text": [
      "mid=62, len_kvm3=6\n",
      "writing 62\n"
     ]
    },
    {
     "name": "stderr",
     "output_type": "stream",
     "text": [
      "VideoManager is deprecated and will be removed.\n"
     ]
    },
    {
     "name": "stdout",
     "output_type": "stream",
     "text": [
      "mid=56, len_kvm3=11\n",
      "writing 56\n"
     ]
    },
    {
     "name": "stderr",
     "output_type": "stream",
     "text": [
      "VideoManager is deprecated and will be removed.\n"
     ]
    },
    {
     "name": "stdout",
     "output_type": "stream",
     "text": [
      "mid=59, len_kvm3=9\n",
      "writing 59\n",
      "/storage/arkady/Glinka/music-transformer/video_conditioning/content/video_data/video_ad74.mp4\n"
     ]
    },
    {
     "name": "stderr",
     "output_type": "stream",
     "text": [
      "VideoManager is deprecated and will be removed.\n"
     ]
    },
    {
     "name": "stdout",
     "output_type": "stream",
     "text": [
      "mid=100, len_kvm3=0\n"
     ]
    },
    {
     "name": "stderr",
     "output_type": "stream",
     "text": [
      "VideoManager is deprecated and will be removed.\n"
     ]
    },
    {
     "name": "stdout",
     "output_type": "stream",
     "text": [
      "mid=50, len_kvm3=3\n"
     ]
    },
    {
     "name": "stderr",
     "output_type": "stream",
     "text": [
      "VideoManager is deprecated and will be removed.\n"
     ]
    },
    {
     "name": "stdout",
     "output_type": "stream",
     "text": [
      "mid=25, len_kvm3=9\n",
      "writing 25\n"
     ]
    },
    {
     "name": "stderr",
     "output_type": "stream",
     "text": [
      "VideoManager is deprecated and will be removed.\n"
     ]
    },
    {
     "name": "stdout",
     "output_type": "stream",
     "text": [
      "mid=37, len_kvm3=7\n",
      "writing 37\n"
     ]
    },
    {
     "name": "stderr",
     "output_type": "stream",
     "text": [
      "VideoManager is deprecated and will be removed.\n"
     ]
    },
    {
     "name": "stdout",
     "output_type": "stream",
     "text": [
      "mid=31, len_kvm3=8\n",
      "writing 31\n",
      "/storage/arkady/Glinka/music-transformer/video_conditioning/content/video_data/video_ad75.mp4\n"
     ]
    },
    {
     "name": "stderr",
     "output_type": "stream",
     "text": [
      "VideoManager is deprecated and will be removed.\n"
     ]
    },
    {
     "name": "stdout",
     "output_type": "stream",
     "text": [
      "mid=100, len_kvm3=2\n"
     ]
    },
    {
     "name": "stderr",
     "output_type": "stream",
     "text": [
      "VideoManager is deprecated and will be removed.\n"
     ]
    },
    {
     "name": "stdout",
     "output_type": "stream",
     "text": [
      "mid=50, len_kvm3=14\n"
     ]
    },
    {
     "name": "stderr",
     "output_type": "stream",
     "text": [
      "VideoManager is deprecated and will be removed.\n"
     ]
    },
    {
     "name": "stdout",
     "output_type": "stream",
     "text": [
      "mid=75, len_kvm3=5\n",
      "writing 75\n"
     ]
    },
    {
     "name": "stderr",
     "output_type": "stream",
     "text": [
      "VideoManager is deprecated and will be removed.\n"
     ]
    },
    {
     "name": "stdout",
     "output_type": "stream",
     "text": [
      "mid=62, len_kvm3=13\n"
     ]
    },
    {
     "name": "stderr",
     "output_type": "stream",
     "text": [
      "VideoManager is deprecated and will be removed.\n"
     ]
    },
    {
     "name": "stdout",
     "output_type": "stream",
     "text": [
      "mid=68, len_kvm3=11\n",
      "writing 68\n"
     ]
    },
    {
     "name": "stderr",
     "output_type": "stream",
     "text": [
      "VideoManager is deprecated and will be removed.\n"
     ]
    },
    {
     "name": "stdout",
     "output_type": "stream",
     "text": [
      "mid=71, len_kvm3=8\n",
      "writing 71\n",
      "/storage/arkady/Glinka/music-transformer/video_conditioning/content/video_data/video_ad76.mp4\n"
     ]
    },
    {
     "name": "stderr",
     "output_type": "stream",
     "text": [
      "VideoManager is deprecated and will be removed.\n"
     ]
    },
    {
     "name": "stdout",
     "output_type": "stream",
     "text": [
      "mid=100, len_kvm3=0\n"
     ]
    },
    {
     "name": "stderr",
     "output_type": "stream",
     "text": [
      "VideoManager is deprecated and will be removed.\n"
     ]
    },
    {
     "name": "stdout",
     "output_type": "stream",
     "text": [
      "mid=50, len_kvm3=6\n",
      "writing 50\n"
     ]
    },
    {
     "name": "stderr",
     "output_type": "stream",
     "text": [
      "VideoManager is deprecated and will be removed.\n"
     ]
    },
    {
     "name": "stdout",
     "output_type": "stream",
     "text": [
      "mid=25, len_kvm3=7\n",
      "writing 25\n"
     ]
    },
    {
     "name": "stderr",
     "output_type": "stream",
     "text": [
      "VideoManager is deprecated and will be removed.\n"
     ]
    },
    {
     "name": "stdout",
     "output_type": "stream",
     "text": [
      "mid=12, len_kvm3=9\n",
      "writing 12\n",
      "/storage/arkady/Glinka/music-transformer/video_conditioning/content/video_data/video_ad77.mp4\n"
     ]
    },
    {
     "name": "stderr",
     "output_type": "stream",
     "text": [
      "VideoManager is deprecated and will be removed.\n"
     ]
    },
    {
     "name": "stdout",
     "output_type": "stream",
     "text": [
      "mid=100, len_kvm3=3\n"
     ]
    },
    {
     "name": "stderr",
     "output_type": "stream",
     "text": [
      "VideoManager is deprecated and will be removed.\n"
     ]
    },
    {
     "name": "stdout",
     "output_type": "stream",
     "text": [
      "mid=50, len_kvm3=8\n",
      "writing 50\n"
     ]
    },
    {
     "name": "stderr",
     "output_type": "stream",
     "text": [
      "VideoManager is deprecated and will be removed.\n"
     ]
    },
    {
     "name": "stdout",
     "output_type": "stream",
     "text": [
      "mid=25, len_kvm3=12\n",
      "writing 25\n"
     ]
    },
    {
     "name": "stderr",
     "output_type": "stream",
     "text": [
      "VideoManager is deprecated and will be removed.\n"
     ]
    },
    {
     "name": "stdout",
     "output_type": "stream",
     "text": [
      "mid=37, len_kvm3=11\n",
      "writing 37\n",
      "/storage/arkady/Glinka/music-transformer/video_conditioning/content/video_data/video_ad78.mp4\n"
     ]
    },
    {
     "name": "stderr",
     "output_type": "stream",
     "text": [
      "VideoManager is deprecated and will be removed.\n"
     ]
    },
    {
     "name": "stdout",
     "output_type": "stream",
     "text": [
      "mid=100, len_kvm3=0\n"
     ]
    },
    {
     "name": "stderr",
     "output_type": "stream",
     "text": [
      "VideoManager is deprecated and will be removed.\n"
     ]
    },
    {
     "name": "stdout",
     "output_type": "stream",
     "text": [
      "mid=50, len_kvm3=16\n"
     ]
    },
    {
     "name": "stderr",
     "output_type": "stream",
     "text": [
      "VideoManager is deprecated and will be removed.\n"
     ]
    },
    {
     "name": "stdout",
     "output_type": "stream",
     "text": [
      "mid=75, len_kvm3=0\n"
     ]
    },
    {
     "name": "stderr",
     "output_type": "stream",
     "text": [
      "VideoManager is deprecated and will be removed.\n"
     ]
    },
    {
     "name": "stdout",
     "output_type": "stream",
     "text": [
      "mid=62, len_kvm3=6\n",
      "writing 62\n"
     ]
    },
    {
     "name": "stderr",
     "output_type": "stream",
     "text": [
      "VideoManager is deprecated and will be removed.\n"
     ]
    },
    {
     "name": "stdout",
     "output_type": "stream",
     "text": [
      "mid=56, len_kvm3=13\n"
     ]
    },
    {
     "name": "stderr",
     "output_type": "stream",
     "text": [
      "VideoManager is deprecated and will be removed.\n"
     ]
    },
    {
     "name": "stdout",
     "output_type": "stream",
     "text": [
      "mid=59, len_kvm3=12\n",
      "writing 59\n"
     ]
    },
    {
     "name": "stderr",
     "output_type": "stream",
     "text": [
      "VideoManager is deprecated and will be removed.\n"
     ]
    },
    {
     "name": "stdout",
     "output_type": "stream",
     "text": [
      "mid=60, len_kvm3=10\n",
      "writing 60\n",
      "/storage/arkady/Glinka/music-transformer/video_conditioning/content/video_data/video_ad79.mp4\n"
     ]
    },
    {
     "name": "stderr",
     "output_type": "stream",
     "text": [
      "VideoManager is deprecated and will be removed.\n"
     ]
    },
    {
     "name": "stdout",
     "output_type": "stream",
     "text": [
      "mid=100, len_kvm3=0\n"
     ]
    },
    {
     "name": "stderr",
     "output_type": "stream",
     "text": [
      "VideoManager is deprecated and will be removed.\n"
     ]
    },
    {
     "name": "stdout",
     "output_type": "stream",
     "text": [
      "mid=50, len_kvm3=6\n",
      "writing 50\n"
     ]
    },
    {
     "name": "stderr",
     "output_type": "stream",
     "text": [
      "VideoManager is deprecated and will be removed.\n"
     ]
    },
    {
     "name": "stdout",
     "output_type": "stream",
     "text": [
      "mid=25, len_kvm3=7\n",
      "writing 25\n"
     ]
    },
    {
     "name": "stderr",
     "output_type": "stream",
     "text": [
      "VideoManager is deprecated and will be removed.\n"
     ]
    },
    {
     "name": "stdout",
     "output_type": "stream",
     "text": [
      "mid=12, len_kvm3=7\n",
      "writing 12\n",
      "/storage/arkady/Glinka/music-transformer/video_conditioning/content/video_data/video_ad80.mp4\n"
     ]
    },
    {
     "name": "stderr",
     "output_type": "stream",
     "text": [
      "VideoManager is deprecated and will be removed.\n"
     ]
    },
    {
     "name": "stdout",
     "output_type": "stream",
     "text": [
      "mid=100, len_kvm3=0\n"
     ]
    },
    {
     "name": "stderr",
     "output_type": "stream",
     "text": [
      "VideoManager is deprecated and will be removed.\n"
     ]
    },
    {
     "name": "stdout",
     "output_type": "stream",
     "text": [
      "mid=50, len_kvm3=3\n"
     ]
    },
    {
     "name": "stderr",
     "output_type": "stream",
     "text": [
      "VideoManager is deprecated and will be removed.\n"
     ]
    },
    {
     "name": "stdout",
     "output_type": "stream",
     "text": [
      "mid=25, len_kvm3=5\n",
      "writing 25\n"
     ]
    },
    {
     "name": "stderr",
     "output_type": "stream",
     "text": [
      "VideoManager is deprecated and will be removed.\n"
     ]
    },
    {
     "name": "stdout",
     "output_type": "stream",
     "text": [
      "mid=12, len_kvm3=7\n",
      "writing 12\n"
     ]
    },
    {
     "name": "stderr",
     "output_type": "stream",
     "text": [
      "VideoManager is deprecated and will be removed.\n"
     ]
    },
    {
     "name": "stdout",
     "output_type": "stream",
     "text": [
      "mid=6, len_kvm3=14\n"
     ]
    },
    {
     "name": "stderr",
     "output_type": "stream",
     "text": [
      "VideoManager is deprecated and will be removed.\n"
     ]
    },
    {
     "name": "stdout",
     "output_type": "stream",
     "text": [
      "mid=9, len_kvm3=11\n",
      "writing 9\n",
      "/storage/arkady/Glinka/music-transformer/video_conditioning/content/video_data/video_ad81.mp4\n"
     ]
    },
    {
     "name": "stderr",
     "output_type": "stream",
     "text": [
      "VideoManager is deprecated and will be removed.\n"
     ]
    },
    {
     "name": "stdout",
     "output_type": "stream",
     "text": [
      "mid=100, len_kvm3=0\n"
     ]
    },
    {
     "name": "stderr",
     "output_type": "stream",
     "text": [
      "VideoManager is deprecated and will be removed.\n"
     ]
    },
    {
     "name": "stdout",
     "output_type": "stream",
     "text": [
      "mid=50, len_kvm3=3\n"
     ]
    },
    {
     "name": "stderr",
     "output_type": "stream",
     "text": [
      "VideoManager is deprecated and will be removed.\n"
     ]
    },
    {
     "name": "stdout",
     "output_type": "stream",
     "text": [
      "mid=25, len_kvm3=5\n",
      "writing 25\n"
     ]
    },
    {
     "name": "stderr",
     "output_type": "stream",
     "text": [
      "VideoManager is deprecated and will be removed.\n"
     ]
    },
    {
     "name": "stdout",
     "output_type": "stream",
     "text": [
      "mid=12, len_kvm3=5\n",
      "writing 12\n"
     ]
    },
    {
     "name": "stderr",
     "output_type": "stream",
     "text": [
      "VideoManager is deprecated and will be removed.\n"
     ]
    },
    {
     "name": "stdout",
     "output_type": "stream",
     "text": [
      "mid=6, len_kvm3=6\n",
      "writing 6\n",
      "/storage/arkady/Glinka/music-transformer/video_conditioning/content/video_data/video_ad82.mp4\n"
     ]
    },
    {
     "name": "stderr",
     "output_type": "stream",
     "text": [
      "VideoManager is deprecated and will be removed.\n"
     ]
    },
    {
     "name": "stdout",
     "output_type": "stream",
     "text": [
      "mid=100, len_kvm3=4\n"
     ]
    },
    {
     "name": "stderr",
     "output_type": "stream",
     "text": [
      "VideoManager is deprecated and will be removed.\n"
     ]
    },
    {
     "name": "stdout",
     "output_type": "stream",
     "text": [
      "mid=50, len_kvm3=14\n"
     ]
    },
    {
     "name": "stderr",
     "output_type": "stream",
     "text": [
      "VideoManager is deprecated and will be removed.\n"
     ]
    },
    {
     "name": "stdout",
     "output_type": "stream",
     "text": [
      "mid=75, len_kvm3=7\n",
      "writing 75\n"
     ]
    },
    {
     "name": "stderr",
     "output_type": "stream",
     "text": [
      "VideoManager is deprecated and will be removed.\n"
     ]
    },
    {
     "name": "stdout",
     "output_type": "stream",
     "text": [
      "mid=62, len_kvm3=12\n",
      "writing 62\n"
     ]
    },
    {
     "name": "stderr",
     "output_type": "stream",
     "text": [
      "VideoManager is deprecated and will be removed.\n"
     ]
    },
    {
     "name": "stdout",
     "output_type": "stream",
     "text": [
      "mid=68, len_kvm3=9\n",
      "writing 68\n",
      "/storage/arkady/Glinka/music-transformer/video_conditioning/content/video_data/video_ad83.mp4\n"
     ]
    },
    {
     "name": "stderr",
     "output_type": "stream",
     "text": [
      "VideoManager is deprecated and will be removed.\n"
     ]
    },
    {
     "name": "stdout",
     "output_type": "stream",
     "text": [
      "mid=100, len_kvm3=0\n"
     ]
    },
    {
     "name": "stderr",
     "output_type": "stream",
     "text": [
      "VideoManager is deprecated and will be removed.\n"
     ]
    },
    {
     "name": "stdout",
     "output_type": "stream",
     "text": [
      "mid=50, len_kvm3=11\n",
      "writing 50\n"
     ]
    },
    {
     "name": "stderr",
     "output_type": "stream",
     "text": [
      "VideoManager is deprecated and will be removed.\n"
     ]
    },
    {
     "name": "stdout",
     "output_type": "stream",
     "text": [
      "mid=75, len_kvm3=0\n"
     ]
    },
    {
     "name": "stderr",
     "output_type": "stream",
     "text": [
      "VideoManager is deprecated and will be removed.\n"
     ]
    },
    {
     "name": "stdout",
     "output_type": "stream",
     "text": [
      "mid=62, len_kvm3=5\n",
      "writing 62\n"
     ]
    },
    {
     "name": "stderr",
     "output_type": "stream",
     "text": [
      "VideoManager is deprecated and will be removed.\n"
     ]
    },
    {
     "name": "stdout",
     "output_type": "stream",
     "text": [
      "mid=56, len_kvm3=7\n",
      "writing 56\n",
      "/storage/arkady/Glinka/music-transformer/video_conditioning/content/video_data/video_ad84.mp4\n"
     ]
    },
    {
     "name": "stderr",
     "output_type": "stream",
     "text": [
      "VideoManager is deprecated and will be removed.\n"
     ]
    },
    {
     "name": "stdout",
     "output_type": "stream",
     "text": [
      "mid=100, len_kvm3=0\n"
     ]
    },
    {
     "name": "stderr",
     "output_type": "stream",
     "text": [
      "VideoManager is deprecated and will be removed.\n"
     ]
    },
    {
     "name": "stdout",
     "output_type": "stream",
     "text": [
      "mid=50, len_kvm3=8\n",
      "writing 50\n"
     ]
    },
    {
     "name": "stderr",
     "output_type": "stream",
     "text": [
      "VideoManager is deprecated and will be removed.\n"
     ]
    },
    {
     "name": "stdout",
     "output_type": "stream",
     "text": [
      "mid=25, len_kvm3=14\n"
     ]
    },
    {
     "name": "stderr",
     "output_type": "stream",
     "text": [
      "VideoManager is deprecated and will be removed.\n"
     ]
    },
    {
     "name": "stdout",
     "output_type": "stream",
     "text": [
      "mid=37, len_kvm3=13\n"
     ]
    },
    {
     "name": "stderr",
     "output_type": "stream",
     "text": [
      "VideoManager is deprecated and will be removed.\n"
     ]
    },
    {
     "name": "stdout",
     "output_type": "stream",
     "text": [
      "mid=43, len_kvm3=11\n",
      "writing 43\n",
      "mid=46, len_kvm3=10\n",
      "writing 46\n"
     ]
    }
   ],
   "source": [
    "for ind in range(0, 85):\n",
    "    path_mp4 = Path('/storage/arkady/Glinka/music-transformer/video_conditioning') \\\n",
    "        / 'content' / 'video_data' / f'video_ad{ind}.mp4'\n",
    "    print(path_mp4)\n",
    "\n",
    "    search_thresholds_for_kvm3(\n",
    "        path_mp4=path_mp4,\n",
    "        min_length=5, \n",
    "        max_length=12, \n",
    "        max_searches=200\n",
    "    )"
   ]
  },
  {
   "cell_type": "markdown",
   "metadata": {},
   "source": [
    "# 3. kvm -> nnotes"
   ]
  },
  {
   "cell_type": "markdown",
   "metadata": {},
   "source": [
    "## v0"
   ]
  },
  {
   "cell_type": "code",
   "execution_count": null,
   "metadata": {},
   "outputs": [],
   "source": [
    "# class Preprocessor:\n",
    "\n",
    "#     \"\"\"\n",
    "#     Functionality\n",
    "#     -------\n",
    "#     Converts key_moments\n",
    "\n",
    "#     Methods\n",
    "#     -------\n",
    "#     preprocess_key_moments: List[Float] (n, )\n",
    "#         Converts key_moments to a necessary .json configuration\n",
    "\n",
    "#     Attirbutes\n",
    "#     ----------\n",
    "#     n_moments : Int\n",
    "#         Amount of moments to produce\n",
    "#     \"\"\"\n",
    "\n",
    "#     def __init__(self, n_moments) -> None:\n",
    "#         self.n_moments = n_moments\n",
    "#         # hyperparams\n",
    "#         self.padding = 5\n",
    "#         self.length_seq = 128\n",
    "\n",
    "#     def preprocess_key_moments(self, moments: np.ndarray):\n",
    "#         # produces 3 key moments\n",
    "#         \"\"\"\n",
    "#         Parameters\n",
    "#         -------\n",
    "#         moments : out_moments\n",
    "\n",
    "#         -------\n",
    "#         \"\"\"\n",
    "#         from itertools import pairwise\n",
    "\n",
    "#         # convert\n",
    "#         moments = np.asarray(moments)\n",
    "\n",
    "#         # init params\n",
    "#         n = len(moments)\n",
    "#         video_start = (min(moments))\n",
    "#         video_end = (max(moments))\n",
    "\n",
    "#         # choose moments\n",
    "#         # scaled_moments = np.asarray(\n",
    "#         #     (((moments - video_start) / (video_end - video_start)) * self.length_seq).astype(int))\n",
    "#         scaled_moments = moments - min(moments)  # [0; \\inf)\n",
    "#         scaled_moments = scaled_moments / max(scaled_moments)  # [0; 1]\n",
    "#         scaled_moments = scaled_moments * self.length_seq\n",
    "#         scaled_moments = scaled_moments.astype(int)\n",
    "    \n",
    "#         indices = np.linspace(start=1, stop=n-1, num=self.n_moments, dtype=int)\n",
    "#         moments = scaled_moments[indices]\n",
    "\n",
    "#         # produce output\n",
    "#         # out = []\n",
    "#         # for i in range(self.n_moments - 2):\n",
    "#         #     out.extend([moments[i] - self.padding, moments[i] + self.padding])\n",
    "#         out = np.stack([moments[:-2] - self.padding, moments[:-2] + self.padding]).reshape(-1, order='F')\n",
    "#         out = list(out)\n",
    "    \n",
    "#         # output\n",
    "#         out.insert(0, 0)\n",
    "#         out.append(128)\n",
    "#         out = np.asarray(out, dtype=float)\n",
    "#         moms = [list(x) for x in pairwise(out)]\n",
    "\n",
    "#         # produce .json config\n",
    "#         res = list(zip(moms, [0, 1] * preprocessor.n_moments))\n",
    "#         out = []\n",
    "#         for i in range(self.n_moments+2):\n",
    "#             out.append({\"borders\": res[i][0], \"value\": res[i][1]})\n",
    "#         return out\n",
    "\n",
    "#     def save_json(self, path, content):\n",
    "#         with open(path, 'w') as f:\n",
    "#             f.write(json.dumps(content))\n",
    "\n",
    "\n",
    "# preprocessor = Preprocessor(n_moments=5)\n",
    "\n",
    "# res = preprocessor.preprocess_key_moments(test)\n",
    "# json.dumps(res)\n",
    "# PATH = \"./kvm1_preproc.json\"\n",
    "# preprocessor.save_json(PATH, res)"
   ]
  },
  {
   "cell_type": "markdown",
   "metadata": {},
   "source": [
    "## v1"
   ]
  },
  {
   "cell_type": "code",
   "execution_count": 131,
   "metadata": {},
   "outputs": [
    {
     "data": {
      "text/html": [
       "<div>\n",
       "<style scoped>\n",
       "    .dataframe tbody tr th:only-of-type {\n",
       "        vertical-align: middle;\n",
       "    }\n",
       "\n",
       "    .dataframe tbody tr th {\n",
       "        vertical-align: top;\n",
       "    }\n",
       "\n",
       "    .dataframe thead th {\n",
       "        text-align: right;\n",
       "    }\n",
       "</style>\n",
       "<table border=\"1\" class=\"dataframe\">\n",
       "  <thead>\n",
       "    <tr style=\"text-align: right;\">\n",
       "      <th></th>\n",
       "      <th>frame_ind</th>\n",
       "      <th>key_moment</th>\n",
       "      <th>fps</th>\n",
       "    </tr>\n",
       "  </thead>\n",
       "  <tbody>\n",
       "    <tr>\n",
       "      <th>0</th>\n",
       "      <td>0</td>\n",
       "      <td>1.0</td>\n",
       "      <td>25.0</td>\n",
       "    </tr>\n",
       "    <tr>\n",
       "      <th>1</th>\n",
       "      <td>1</td>\n",
       "      <td>1.0</td>\n",
       "      <td>25.0</td>\n",
       "    </tr>\n",
       "    <tr>\n",
       "      <th>2</th>\n",
       "      <td>2</td>\n",
       "      <td>0.0</td>\n",
       "      <td>25.0</td>\n",
       "    </tr>\n",
       "    <tr>\n",
       "      <th>3</th>\n",
       "      <td>3</td>\n",
       "      <td>0.0</td>\n",
       "      <td>25.0</td>\n",
       "    </tr>\n",
       "    <tr>\n",
       "      <th>4</th>\n",
       "      <td>4</td>\n",
       "      <td>0.0</td>\n",
       "      <td>25.0</td>\n",
       "    </tr>\n",
       "    <tr>\n",
       "      <th>...</th>\n",
       "      <td>...</td>\n",
       "      <td>...</td>\n",
       "      <td>...</td>\n",
       "    </tr>\n",
       "    <tr>\n",
       "      <th>1277</th>\n",
       "      <td>1277</td>\n",
       "      <td>0.0</td>\n",
       "      <td>25.0</td>\n",
       "    </tr>\n",
       "    <tr>\n",
       "      <th>1278</th>\n",
       "      <td>1278</td>\n",
       "      <td>0.0</td>\n",
       "      <td>25.0</td>\n",
       "    </tr>\n",
       "    <tr>\n",
       "      <th>1279</th>\n",
       "      <td>1279</td>\n",
       "      <td>0.0</td>\n",
       "      <td>25.0</td>\n",
       "    </tr>\n",
       "    <tr>\n",
       "      <th>1280</th>\n",
       "      <td>1280</td>\n",
       "      <td>0.0</td>\n",
       "      <td>25.0</td>\n",
       "    </tr>\n",
       "    <tr>\n",
       "      <th>1281</th>\n",
       "      <td>1281</td>\n",
       "      <td>0.0</td>\n",
       "      <td>25.0</td>\n",
       "    </tr>\n",
       "  </tbody>\n",
       "</table>\n",
       "<p>1282 rows × 3 columns</p>\n",
       "</div>"
      ],
      "text/plain": [
       "      frame_ind  key_moment   fps\n",
       "0             0         1.0  25.0\n",
       "1             1         1.0  25.0\n",
       "2             2         0.0  25.0\n",
       "3             3         0.0  25.0\n",
       "4             4         0.0  25.0\n",
       "...         ...         ...   ...\n",
       "1277       1277         0.0  25.0\n",
       "1278       1278         0.0  25.0\n",
       "1279       1279         0.0  25.0\n",
       "1280       1280         0.0  25.0\n",
       "1281       1281         0.0  25.0\n",
       "\n",
       "[1282 rows x 3 columns]"
      ]
     },
     "execution_count": 131,
     "metadata": {},
     "output_type": "execute_result"
    }
   ],
   "source": [
    "# df = pd.read_csv('tmp_e2e/csvFile/output.csv', sep=',')\n",
    "df = pd.read_csv('generated_4x2x2/video_ad14/kvm2.csv')\n",
    "df"
   ]
  },
  {
   "cell_type": "code",
   "execution_count": 132,
   "metadata": {},
   "outputs": [
    {
     "data": {
      "image/png": "[encoded data removed]",
      "text/plain": [
       "<Figure size 640x480 with 1 Axes>"
      ]
     },
     "metadata": {},
     "output_type": "display_data"
    }
   ],
   "source": [
    "def smooth_sequence(seq, max_dist=6):\n",
    "    n = len(seq)\n",
    "    # Initialize a list to store distances to the nearest '1'\n",
    "    distances = [float('inf')] * n\n",
    "\n",
    "    # First pass: find distances from left to right\n",
    "    for i in range(n):\n",
    "        if seq[i] == 1:\n",
    "            distances[i] = 0\n",
    "        elif i > 0 and distances[i-1] != float('inf'):\n",
    "            distances[i] = distances[i-1] + 1\n",
    "\n",
    "    # Second pass: find distances from right to left\n",
    "    for i in range(n-2, -1, -1):\n",
    "        if distances[i+1] != float('inf'):\n",
    "            distances[i] = min(distances[i], distances[i+1] + 1)\n",
    "\n",
    "    # Determine the maximum distance to scale values\n",
    "    max_distance = max(distances)\n",
    "\n",
    "    # Assign values based on proximity to '1'\n",
    "    transformed = []\n",
    "    for dist in distances:\n",
    "        if dist == 0:\n",
    "            transformed.append(max_dist)  # '1' corresponds to 10\n",
    "        else:\n",
    "            # Scale each zero to be between 0 and 9 based on its distance\n",
    "            scaled_value = int((1 - (dist / max_distance)) ** 1 * (max_dist - 1))\n",
    "            transformed.append(max(1, scaled_value))\n",
    "\n",
    "    return transformed\n",
    "\n",
    "n = len(df)\n",
    "plt.scatter(np.arange(n), df['key_moment'], s=10, c='r', marker='|', label='kvm')\n",
    "plt.plot(np.arange(n), smooth_sequence(df['key_moment']), c='b', label='smoothed')\n",
    "plt.legend(loc='upper left')\n",
    "plt.show()"
   ]
  },
  {
   "cell_type": "code",
   "execution_count": 5,
   "metadata": {},
   "outputs": [
    {
     "data": {
      "image/png": "[encoded data removed]",
      "text/plain": [
       "<Figure size 640x480 with 1 Axes>"
      ]
     },
     "metadata": {},
     "output_type": "display_data"
    }
   ],
   "source": [
    "import numpy as np\n",
    "from scipy.interpolate import interp1d\n",
    "\n",
    "def resize_sequence(seq, target_length=128):\n",
    "    # Convert sequence to numpy array for easier handling\n",
    "    original_length = len(seq)\n",
    "    original_indices = np.linspace(0, original_length - 1, num=original_length)\n",
    "    target_indices = np.linspace(0, original_length - 1, num=target_length)\n",
    "    \n",
    "    # Create interpolation function\n",
    "    interpolation_function = interp1d(original_indices, seq, kind='linear')\n",
    "    \n",
    "    # Generate new sequence of the target length\n",
    "    new_sequence = interpolation_function(target_indices)\n",
    "    # Round values to maintain integer type consistency\n",
    "    new_sequence = np.round(new_sequence).astype(int)\n",
    "    \n",
    "    return new_sequence.tolist()\n",
    "\n",
    "# resize_sequence(smooth_sequence(df['key_moment'], max_dist=5))\n",
    "\n",
    "n = len(df)\n",
    "kvm = df['key_moment']\n",
    "smoothed_kvm = smooth_sequence(df['key_moment'], max_dist=6)\n",
    "smoothed_128_kvm = resize_sequence(smoothed_kvm)\n",
    "plt.scatter(np.arange(n), kvm, s=10, c='r', marker='|', label='kvm')\n",
    "plt.scatter(np.arange(n), smoothed_kvm, c='b', s=1, label='smoothed')\n",
    "plt.plot(np.linspace(0, n - 1, 128), smoothed_128_kvm, c='orange', label='smoothed 128 kvm')\n",
    "plt.legend(loc='center left')\n",
    "plt.show()"
   ]
  },
  {
   "cell_type": "code",
   "execution_count": 9,
   "metadata": {},
   "outputs": [
    {
     "name": "stdout",
     "output_type": "stream",
     "text": [
      "[{'borders': [0, 1], 'value': 4},\n",
      " {'borders': [1, 2], 'value': 4},\n",
      " {'borders': [2, 3], 'value': 4},\n",
      " {'borders': [3, 4], 'value': 4},\n",
      " {'borders': [4, 5], 'value': 4},\n",
      " {'borders': [5, 6], 'value': 4},\n",
      " {'borders': [6, 7], 'value': 5},\n",
      " {'borders': [7, 8], 'value': 4},\n",
      " {'borders': [8, 9], 'value': 4},\n",
      " {'borders': [9, 10], 'value': 4},\n",
      " {'borders': [10, 11], 'value': 4},\n",
      " {'borders': [11, 12], 'value': 4},\n",
      " {'borders': [12, 13], 'value': 4},\n",
      " {'borders': [13, 14], 'value': 4},\n",
      " {'borders': [14, 15], 'value': 4},\n",
      " {'borders': [15, 16], 'value': 4},\n",
      " {'borders': [16, 17], 'value': 4},\n",
      " {'borders': [17, 18], 'value': 4},\n",
      " {'borders': [18, 19], 'value': 4},\n",
      " {'borders': [19, 20], 'value': 4}]\n"
     ]
    }
   ],
   "source": [
    "from pprint import pprint\n",
    "\n",
    "\n",
    "# kvm_seq = json.load(open(\"./kvm1.json\", 'r'))['video_ad81.mp4']\n",
    "kvm_seq = pd.read_csv('tmp_e2e/csvFile/output.csv', sep=',')['key_moment']\n",
    "\n",
    "nnotes_seq = resize_sequence(smooth_sequence(df['key_moment']))\n",
    "nnotes_cfg = [\n",
    "    {\n",
    "        'borders': [ind, ind + 1],\n",
    "        'value': value\n",
    "    }\n",
    "    for ind, value in enumerate(nnotes_seq)\n",
    "]\n",
    "\n",
    "\n",
    "\n",
    "l, r = 0, 0\n",
    "nnotes_cfg = []\n",
    "while r < len(smoothed_128_kvm):  # always *l = *r\n",
    "    if (r < len(smoothed_128_kvm) - 1) and smoothed_128_kvm[l] == smoothed_128_kvm[r + 1]:\n",
    "        r += 1\n",
    "    else:\n",
    "        nnotes_cfg.append({'borders': [l, r + 1], 'value': smoothed_128_kvm[l]})\n",
    "        l = r + 1\n",
    "        r = r + 1\n",
    "assert nnotes_cfg[-1]['borders'][1] == 128\n",
    "\n",
    "# json.dump(nnotes_cfg, open(f'tmp_e2e/nnotes_{path_mp4.stem}.json', 'w'))\n",
    "pprint(nnotes_cfg[:20])"
   ]
  },
  {
   "cell_type": "markdown",
   "metadata": {},
   "source": [
    "## kmv4.csv plot"
   ]
  },
  {
   "cell_type": "code",
   "execution_count": 19,
   "metadata": {},
   "outputs": [
    {
     "data": {
      "text/html": [
       "<div>\n",
       "<style scoped>\n",
       "    .dataframe tbody tr th:only-of-type {\n",
       "        vertical-align: middle;\n",
       "    }\n",
       "\n",
       "    .dataframe tbody tr th {\n",
       "        vertical-align: top;\n",
       "    }\n",
       "\n",
       "    .dataframe thead th {\n",
       "        text-align: right;\n",
       "    }\n",
       "</style>\n",
       "<table border=\"1\" class=\"dataframe\">\n",
       "  <thead>\n",
       "    <tr style=\"text-align: right;\">\n",
       "      <th></th>\n",
       "      <th>frame_ind</th>\n",
       "      <th>key_moment</th>\n",
       "      <th>fps</th>\n",
       "    </tr>\n",
       "  </thead>\n",
       "  <tbody>\n",
       "    <tr>\n",
       "      <th>0</th>\n",
       "      <td>0</td>\n",
       "      <td>1.0</td>\n",
       "      <td>25.0</td>\n",
       "    </tr>\n",
       "    <tr>\n",
       "      <th>138</th>\n",
       "      <td>138</td>\n",
       "      <td>1.0</td>\n",
       "      <td>25.0</td>\n",
       "    </tr>\n",
       "    <tr>\n",
       "      <th>237</th>\n",
       "      <td>237</td>\n",
       "      <td>1.0</td>\n",
       "      <td>25.0</td>\n",
       "    </tr>\n",
       "    <tr>\n",
       "      <th>364</th>\n",
       "      <td>364</td>\n",
       "      <td>1.0</td>\n",
       "      <td>25.0</td>\n",
       "    </tr>\n",
       "    <tr>\n",
       "      <th>391</th>\n",
       "      <td>391</td>\n",
       "      <td>1.0</td>\n",
       "      <td>25.0</td>\n",
       "    </tr>\n",
       "    <tr>\n",
       "      <th>1157</th>\n",
       "      <td>1157</td>\n",
       "      <td>1.0</td>\n",
       "      <td>25.0</td>\n",
       "    </tr>\n",
       "  </tbody>\n",
       "</table>\n",
       "</div>"
      ],
      "text/plain": [
       "      frame_ind  key_moment   fps\n",
       "0             0         1.0  25.0\n",
       "138         138         1.0  25.0\n",
       "237         237         1.0  25.0\n",
       "364         364         1.0  25.0\n",
       "391         391         1.0  25.0\n",
       "1157       1157         1.0  25.0"
      ]
     },
     "execution_count": 19,
     "metadata": {},
     "output_type": "execute_result"
    }
   ],
   "source": [
    "df = pd.read_csv(\n",
    "    'generated_4x2x2/video_ad25/kvm4.csv'\n",
    ")\n",
    "\n",
    "df.query('key_moment == 1')"
   ]
  },
  {
   "cell_type": "markdown",
   "metadata": {},
   "source": [
    "## nnotes4.json plot"
   ]
  },
  {
   "cell_type": "code",
   "execution_count": 11,
   "metadata": {},
   "outputs": [
    {
     "data": {
      "text/plain": [
       "<matplotlib.collections.PathCollection at 0x7f10305040a0>"
      ]
     },
     "execution_count": 11,
     "metadata": {},
     "output_type": "execute_result"
    },
    {
     "data": {
      "image/png": "[encoded data removed]",
      "text/plain": [
       "<Figure size 640x480 with 1 Axes>"
      ]
     },
     "metadata": {},
     "output_type": "display_data"
    }
   ],
   "source": [
    "cfg = json.load(open('generated_4x2x2/video_ad25/nnotes4.json', 'r'))\n",
    "\n",
    "x = np.arange(128)\n",
    "y = np.arange(128)\n",
    "for part in cfg:\n",
    "    y[part['borders'][0]: part['borders'][1]] = part['value']\n",
    "    \n",
    "plt.scatter(x, y)"
   ]
  },
  {
   "cell_type": "code",
   "execution_count": 20,
   "metadata": {},
   "outputs": [
    {
     "data": {
      "text/plain": [
       "<matplotlib.collections.PathCollection at 0x7f102de184c0>"
      ]
     },
     "execution_count": 20,
     "metadata": {},
     "output_type": "execute_result"
    },
    {
     "data": {
      "image/png": "[encoded data removed]",
      "text/plain": [
       "<Figure size 640x480 with 1 Axes>"
      ]
     },
     "metadata": {},
     "output_type": "display_data"
    }
   ],
   "source": [
    "cfg = json.load(open('generated_4x2x2/video_ad25/nnotes4.json', 'r'))\n",
    "\n",
    "x = np.arange(128)\n",
    "y = np.arange(128)\n",
    "for part in cfg:\n",
    "    y[part['borders'][0]: part['borders'][1]] = part['value']\n",
    "    \n",
    "plt.scatter(x, y)"
   ]
  },
  {
   "cell_type": "markdown",
   "metadata": {},
   "source": [
    "# 4. music-transformer with nnotes"
   ]
  },
  {
   "cell_type": "code",
   "execution_count": 15,
   "metadata": {},
   "outputs": [
    {
     "name": "stdout",
     "output_type": "stream",
     "text": [
      "/storage/arkady/Glinka/music-transformer/video_conditioning\n"
     ]
    },
    {
     "data": {
      "text/plain": [
       "55.32"
      ]
     },
     "execution_count": 15,
     "metadata": {},
     "output_type": "execute_result"
    }
   ],
   "source": [
    "%cd /storage/arkady/Glinka/music-transformer/video_conditioning\n",
    "df = pd.read_csv('tmp_e2e/csvFile/output.csv', sep=',')\n",
    "video_length_s = len(df) / df.iloc[-1, -1]\n",
    "video_length_s"
   ]
  },
  {
   "cell_type": "code",
   "execution_count": 26,
   "metadata": {
    "collapsed": true,
    "jupyter": {
     "outputs_hidden": true
    }
   },
   "outputs": [
    {
     "name": "stdout",
     "output_type": "stream",
     "text": [
      "/storage/arkady/Glinka/music-transformer/video_conditioning/code3\n",
      "/storage/arkady/Glinka/music-transformer/video_conditioning/code3/generation\n",
      "======= /storage/arkady/Glinka/music-transformer/video_conditioning/tmp_e2e e2e_81\n",
      "[{'borders': [0, 1], 'value': 1},\n",
      " {'borders': [1, 2], 'value': 2},\n",
      " {'borders': [2, 3], 'value': 2},\n",
      " {'borders': [3, 4], 'value': 2}]\n",
      "==== then\n",
      "=====generate_samples====== /storage/arkady/Glinka/music-transformer/video_conditioning/code3/generation\n",
      "{'force_cpu': False,\n",
      " 'generation_params': {'additional_features_params': {'author': '[UNK]',\n",
      "                                                      'genre': 'rock',\n",
      "                                                      'nnotes': {'enable': True,\n",
      "                                                                 'preset': [{'borders': [0,\n",
      "                                                                                         1],\n",
      "                                                                             'value': 1},\n",
      "                                                                            {'borders': [1,\n",
      "                                                                                         2],\n",
      "                                                                             'value': 2},\n",
      "                                                                            {'borders': [2,\n",
      "                                                                                         3],\n",
      "                                                                             'value': 2},\n",
      "                                                                            {'borders': [3,\n",
      "                                                                                         4],\n",
      "                                                                             'value': 2},\n",
      "                                                                            {'borders': [4,\n",
      "                                                                                         5],\n",
      "                                                                             'value': 3},\n",
      "                                                                            {'borders': [5,\n",
      "                                                                                         6],\n",
      "                                                                             'value': 3},\n",
      "                                                                            {'borders': [6,\n",
      "                                                                                         7],\n",
      "                                                                             'value': 3},\n",
      "                                                                            {'borders': [7,\n",
      "                                                                                         8],\n",
      "                                                                             'value': 4},\n",
      "                                                                            {'borders': [8,\n",
      "                                                                                         9],\n",
      "                                                                             'value': 4},\n",
      "                                                                            {'borders': [9,\n",
      "                                                                                         10],\n",
      "                                                                             'value': 4},\n",
      "                                                                            {'borders': [10,\n",
      "                                                                                         11],\n",
      "                                                                             'value': 5},\n",
      "                                                                            {'borders': [11,\n",
      "                                                                                         12],\n",
      "                                                                             'value': 5},\n",
      "                                                                            {'borders': [12,\n",
      "                                                                                         13],\n",
      "                                                                             'value': 5},\n",
      "                                                                            {'borders': [13,\n",
      "                                                                                         14],\n",
      "                                                                             'value': 6},\n",
      "                                                                            {'borders': [14,\n",
      "                                                                                         15],\n",
      "                                                                             'value': 6},\n",
      "                                                                            {'borders': [15,\n",
      "                                                                                         16],\n",
      "                                                                             'value': 6},\n",
      "                                                                            {'borders': [16,\n",
      "                                                                                         17],\n",
      "                                                                             'value': 7},\n",
      "                                                                            {'borders': [17,\n",
      "                                                                                         18],\n",
      "                                                                             'value': 7},\n",
      "                                                                            {'borders': [18,\n",
      "                                                                                         19],\n",
      "                                                                             'value': 7},\n",
      "                                                                            {'borders': [19,\n",
      "                                                                                         20],\n",
      "                                                                             'value': 8},\n",
      "                                                                            {'borders': [20,\n",
      "                                                                                         21],\n",
      "                                                                             'value': 8},\n",
      "                                                                            {'borders': [21,\n",
      "                                                                                         22],\n",
      "                                                                             'value': 10},\n",
      "                                                                            {'borders': [22,\n",
      "                                                                                         23],\n",
      "                                                                             'value': 8},\n",
      "                                                                            {'borders': [23,\n",
      "                                                                                         24],\n",
      "                                                                             'value': 8},\n",
      "                                                                            {'borders': [24,\n",
      "                                                                                         25],\n",
      "                                                                             'value': 8},\n",
      "                                                                            {'borders': [25,\n",
      "                                                                                         26],\n",
      "                                                                             'value': 8},\n",
      "                                                                            {'borders': [26,\n",
      "                                                                                         27],\n",
      "                                                                             'value': 8},\n",
      "                                                                            {'borders': [27,\n",
      "                                                                                         28],\n",
      "                                                                             'value': 8},\n",
      "                                                                            {'borders': [28,\n",
      "                                                                                         29],\n",
      "                                                                             'value': 8},\n",
      "                                                                            {'borders': [29,\n",
      "                                                                                         30],\n",
      "                                                                             'value': 8},\n",
      "                                                                            {'borders': [30,\n",
      "                                                                                         31],\n",
      "                                                                             'value': 8},\n",
      "                                                                            {'borders': [31,\n",
      "                                                                                         32],\n",
      "                                                                             'value': 7},\n",
      "                                                                            {'borders': [32,\n",
      "                                                                                         33],\n",
      "                                                                             'value': 7},\n",
      "                                                                            {'borders': [33,\n",
      "                                                                                         34],\n",
      "                                                                             'value': 7},\n",
      "                                                                            {'borders': [34,\n",
      "                                                                                         35],\n",
      "                                                                             'value': 6},\n",
      "                                                                            {'borders': [35,\n",
      "                                                                                         36],\n",
      "                                                                             'value': 6},\n",
      "                                                                            {'borders': [36,\n",
      "                                                                                         37],\n",
      "                                                                             'value': 6},\n",
      "                                                                            {'borders': [37,\n",
      "                                                                                         38],\n",
      "                                                                             'value': 5},\n",
      "                                                                            {'borders': [38,\n",
      "                                                                                         39],\n",
      "                                                                             'value': 5},\n",
      "                                                                            {'borders': [39,\n",
      "                                                                                         40],\n",
      "                                                                             'value': 5},\n",
      "                                                                            {'borders': [40,\n",
      "                                                                                         41],\n",
      "                                                                             'value': 4},\n",
      "                                                                            {'borders': [41,\n",
      "                                                                                         42],\n",
      "                                                                             'value': 4},\n",
      "                                                                            {'borders': [42,\n",
      "                                                                                         43],\n",
      "                                                                             'value': 3},\n",
      "                                                                            {'borders': [43,\n",
      "                                                                                         44],\n",
      "                                                                             'value': 3},\n",
      "                                                                            {'borders': [44,\n",
      "                                                                                         45],\n",
      "                                                                             'value': 3},\n",
      "                                                                            {'borders': [45,\n",
      "                                                                                         46],\n",
      "                                                                             'value': 3},\n",
      "                                                                            {'borders': [46,\n",
      "                                                                                         47],\n",
      "                                                                             'value': 3},\n",
      "                                                                            {'borders': [47,\n",
      "                                                                                         48],\n",
      "                                                                             'value': 3},\n",
      "                                                                            {'borders': [48,\n",
      "                                                                                         49],\n",
      "                                                                             'value': 4},\n",
      "                                                                            {'borders': [49,\n",
      "                                                                                         50],\n",
      "                                                                             'value': 4},\n",
      "                                                                            {'borders': [50,\n",
      "                                                                                         51],\n",
      "                                                                             'value': 4},\n",
      "                                                                            {'borders': [51,\n",
      "                                                                                         52],\n",
      "                                                                             'value': 5},\n",
      "                                                                            {'borders': [52,\n",
      "                                                                                         53],\n",
      "                                                                             'value': 5},\n",
      "                                                                            {'borders': [53,\n",
      "                                                                                         54],\n",
      "                                                                             'value': 5},\n",
      "                                                                            {'borders': [54,\n",
      "                                                                                         55],\n",
      "                                                                             'value': 6},\n",
      "                                                                            {'borders': [55,\n",
      "                                                                                         56],\n",
      "                                                                             'value': 6},\n",
      "                                                                            {'borders': [56,\n",
      "                                                                                         57],\n",
      "                                                                             'value': 6},\n",
      "                                                                            {'borders': [57,\n",
      "                                                                                         58],\n",
      "                                                                             'value': 7},\n",
      "                                                                            {'borders': [58,\n",
      "                                                                                         59],\n",
      "                                                                             'value': 7},\n",
      "                                                                            {'borders': [59,\n",
      "                                                                                         60],\n",
      "                                                                             'value': 7},\n",
      "                                                                            {'borders': [60,\n",
      "                                                                                         61],\n",
      "                                                                             'value': 8},\n",
      "                                                                            {'borders': [61,\n",
      "                                                                                         62],\n",
      "                                                                             'value': 8},\n",
      "                                                                            {'borders': [62,\n",
      "                                                                                         63],\n",
      "                                                                             'value': 10},\n",
      "                                                                            {'borders': [63,\n",
      "                                                                                         64],\n",
      "                                                                             'value': 8},\n",
      "                                                                            {'borders': [64,\n",
      "                                                                                         65],\n",
      "                                                                             'value': 8},\n",
      "                                                                            {'borders': [65,\n",
      "                                                                                         66],\n",
      "                                                                             'value': 8},\n",
      "                                                                            {'borders': [66,\n",
      "                                                                                         67],\n",
      "                                                                             'value': 7},\n",
      "                                                                            {'borders': [67,\n",
      "                                                                                         68],\n",
      "                                                                             'value': 7},\n",
      "                                                                            {'borders': [68,\n",
      "                                                                                         69],\n",
      "                                                                             'value': 6},\n",
      "                                                                            {'borders': [69,\n",
      "                                                                                         70],\n",
      "                                                                             'value': 6},\n",
      "                                                                            {'borders': [70,\n",
      "                                                                                         71],\n",
      "                                                                             'value': 6},\n",
      "                                                                            {'borders': [71,\n",
      "                                                                                         72],\n",
      "                                                                             'value': 5},\n",
      "                                                                            {'borders': [72,\n",
      "                                                                                         73],\n",
      "                                                                             'value': 5},\n",
      "                                                                            {'borders': [73,\n",
      "                                                                                         74],\n",
      "                                                                             'value': 5},\n",
      "                                                                            {'borders': [74,\n",
      "                                                                                         75],\n",
      "                                                                             'value': 4},\n",
      "                                                                            {'borders': [75,\n",
      "                                                                                         76],\n",
      "                                                                             'value': 4},\n",
      "                                                                            {'borders': [76,\n",
      "                                                                                         77],\n",
      "                                                                             'value': 4},\n",
      "                                                                            {'borders': [77,\n",
      "                                                                                         78],\n",
      "                                                                             'value': 3},\n",
      "                                                                            {'borders': [78,\n",
      "                                                                                         79],\n",
      "                                                                             'value': 3},\n",
      "                                                                            {'borders': [79,\n",
      "                                                                                         80],\n",
      "                                                                             'value': 3},\n",
      "                                                                            {'borders': [80,\n",
      "                                                                                         81],\n",
      "                                                                             'value': 2},\n",
      "                                                                            {'borders': [81,\n",
      "                                                                                         82],\n",
      "                                                                             'value': 2},\n",
      "                                                                            {'borders': [82,\n",
      "                                                                                         83],\n",
      "                                                                             'value': 2},\n",
      "                                                                            {'borders': [83,\n",
      "                                                                                         84],\n",
      "                                                                             'value': 1},\n",
      "                                                                            {'borders': [84,\n",
      "                                                                                         85],\n",
      "                                                                             'value': 1},\n",
      "                                                                            {'borders': [85,\n",
      "                                                                                         86],\n",
      "                                                                             'value': 1},\n",
      "                                                                            {'borders': [86,\n",
      "                                                                                         87],\n",
      "                                                                             'value': 0},\n",
      "                                                                            {'borders': [87,\n",
      "                                                                                         88],\n",
      "                                                                             'value': 0},\n",
      "                                                                            {'borders': [88,\n",
      "                                                                                         89],\n",
      "                                                                             'value': 0},\n",
      "                                                                            {'borders': [89,\n",
      "                                                                                         90],\n",
      "                                                                             'value': 0},\n",
      "                                                                            {'borders': [90,\n",
      "                                                                                         91],\n",
      "                                                                             'value': 0},\n",
      "                                                                            {'borders': [91,\n",
      "                                                                                         92],\n",
      "                                                                             'value': 0},\n",
      "                                                                            {'borders': [92,\n",
      "                                                                                         93],\n",
      "                                                                             'value': 1},\n",
      "                                                                            {'borders': [93,\n",
      "                                                                                         94],\n",
      "                                                                             'value': 1},\n",
      "                                                                            {'borders': [94,\n",
      "                                                                                         95],\n",
      "                                                                             'value': 1},\n",
      "                                                                            {'borders': [95,\n",
      "                                                                                         96],\n",
      "                                                                             'value': 2},\n",
      "                                                                            {'borders': [96,\n",
      "                                                                                         97],\n",
      "                                                                             'value': 2},\n",
      "                                                                            {'borders': [97,\n",
      "                                                                                         98],\n",
      "                                                                             'value': 3},\n",
      "                                                                            {'borders': [98,\n",
      "                                                                                         99],\n",
      "                                                                             'value': 3},\n",
      "                                                                            {'borders': [99,\n",
      "                                                                                         100],\n",
      "                                                                             'value': 3},\n",
      "                                                                            {'borders': [100,\n",
      "                                                                                         101],\n",
      "                                                                             'value': 4},\n",
      "                                                                            {'borders': [101,\n",
      "                                                                                         102],\n",
      "                                                                             'value': 4},\n",
      "                                                                            {'borders': [102,\n",
      "                                                                                         103],\n",
      "                                                                             'value': 4},\n",
      "                                                                            {'borders': [103,\n",
      "                                                                                         104],\n",
      "                                                                             'value': 5},\n",
      "                                                                            {'borders': [104,\n",
      "                                                                                         105],\n",
      "                                                                             'value': 5},\n",
      "                                                                            {'borders': [105,\n",
      "                                                                                         106],\n",
      "                                                                             'value': 5},\n",
      "                                                                            {'borders': [106,\n",
      "                                                                                         107],\n",
      "                                                                             'value': 6},\n",
      "                                                                            {'borders': [107,\n",
      "                                                                                         108],\n",
      "                                                                             'value': 6},\n",
      "                                                                            {'borders': [108,\n",
      "                                                                                         109],\n",
      "                                                                             'value': 6},\n",
      "                                                                            {'borders': [109,\n",
      "                                                                                         110],\n",
      "                                                                             'value': 7},\n",
      "                                                                            {'borders': [110,\n",
      "                                                                                         111],\n",
      "                                                                             'value': 7},\n",
      "                                                                            {'borders': [111,\n",
      "                                                                                         112],\n",
      "                                                                             'value': 7},\n",
      "                                                                            {'borders': [112,\n",
      "                                                                                         113],\n",
      "                                                                             'value': 8},\n",
      "                                                                            {'borders': [113,\n",
      "                                                                                         114],\n",
      "                                                                             'value': 8},\n",
      "                                                                            {'borders': [114,\n",
      "                                                                                         115],\n",
      "                                                                             'value': 9},\n",
      "                                                                            {'borders': [115,\n",
      "                                                                                         116],\n",
      "                                                                             'value': 8},\n",
      "                                                                            {'borders': [116,\n",
      "                                                                                         117],\n",
      "                                                                             'value': 8},\n",
      "                                                                            {'borders': [117,\n",
      "                                                                                         118],\n",
      "                                                                             'value': 10},\n",
      "                                                                            {'borders': [118,\n",
      "                                                                                         119],\n",
      "                                                                             'value': 8},\n",
      "                                                                            {'borders': [119,\n",
      "                                                                                         120],\n",
      "                                                                             'value': 8},\n",
      "                                                                            {'borders': [120,\n",
      "                                                                                         121],\n",
      "                                                                             'value': 8},\n",
      "                                                                            {'borders': [121,\n",
      "                                                                                         122],\n",
      "                                                                             'value': 7},\n",
      "                                                                            {'borders': [122,\n",
      "                                                                                         123],\n",
      "                                                                             'value': 7},\n",
      "                                                                            {'borders': [123,\n",
      "                                                                                         124],\n",
      "                                                                             'value': 6},\n",
      "                                                                            {'borders': [124,\n",
      "                                                                                         125],\n",
      "                                                                             'value': 6},\n",
      "                                                                            {'borders': [125,\n",
      "                                                                                         126],\n",
      "                                                                             'value': 6},\n",
      "                                                                            {'borders': [126,\n",
      "                                                                                         127],\n",
      "                                                                             'value': 5},\n",
      "                                                                            {'borders': [127,\n",
      "                                                                                         128],\n",
      "                                                                             'value': 5}]},\n",
      "                                                      'timing': 1190},\n",
      "                       'generate_by_time': True,\n",
      "                       'n_generate': 10000,\n",
      "                       'presets': {'nnotes': False},\n",
      "                       'primary_params': {'duration': -1,\n",
      "                                          'n_tokens': -1,\n",
      "                                          'primary_path': ''},\n",
      "                       'sampler_params': {'control_temperature': False,\n",
      "                                          'std_window': 15,\n",
      "                                          'take_most_probable': False},\n",
      "                       'window_size': 2048},\n",
      " 'model_weights': '/storage/arkady/Glinka/music-transformer/video_conditioning/model/epoch_0037.pickle',\n",
      " 'random_seed': 3,\n",
      " 'saving_options': {'output_dir': '/storage/arkady/Glinka/music-transformer/video_conditioning/tmp_e2e',\n",
      "                    'output_folder_name': 'e2e_81',\n",
      "                    'save_mp3': True,\n",
      "                    'save_params': True,\n",
      "                    'save_primary': True}}\n",
      "------ /storage/arkady/Glinka/music-transformer/video_conditioning/code3/generation\n",
      "timing_segments: 517it [00:12, 40.85it/s]                                       \n",
      "/storage/arkady/Glinka/music-transformer/video_conditioning/code3/preprocessing/processor.py:238: UserWarning: Unable to find note's start with pitch: 63\n",
      "  warnings.warn(\n",
      "/storage/arkady/Glinka/music-transformer/video_conditioning/code3/preprocessing/processor.py:238: UserWarning: Unable to find note's start with pitch: 66\n",
      "  warnings.warn(\n",
      "/storage/arkady/Glinka/music-transformer/video_conditioning/code3/preprocessing/processor.py:238: UserWarning: Unable to find note's start with pitch: 67\n",
      "  warnings.warn(\n",
      "/storage/arkady/Glinka/music-transformer/video_conditioning/code3/preprocessing/processor.py:238: UserWarning: Unable to find note's start with pitch: 51\n",
      "  warnings.warn(\n",
      "FluidSynth runtime version 2.1.7\n",
      "Copyright (C) 2000-2021 Peter Hanappe and others.\n",
      "Distributed under the LGPL license.\n",
      "SoundFont(R) is a registered trademark of E-mu Systems, Inc.\n",
      "\n",
      "Parameter 'midi_to_audio/Full_Grand.sf2' not a SoundFont or MIDI file or error occurred identifying it.\n",
      "Rendering audio to file '/storage/arkady/Glinka/music-transformer/video_conditioning/tmp_e2e/e2e_81/e2e_81.mp3'..\n",
      "fluidsynth: warning: Failed to determine audio file type from filename, defaulting to WAV\n"
     ]
    }
   ],
   "source": [
    "# v0\n",
    "import sys\n",
    "# sys.path.append('/storage/arkady/Glinka/music-transformer/video_conditioning/code3')\n",
    "# sys.path.append('/storage/arkady/Glinka/music-transformer/video_conditioning')\n",
    "# sys.path.append('/storage/arkady/Glinka/music-transformer')\n",
    "\n",
    "!pwd\n",
    "%cd /storage/arkady/Glinka/music-transformer/video_conditioning/code3/generation\n",
    "# %cd /storage/arkady/Glinka/music-transformer/video_conditioning # зачем?\n",
    "\n",
    "'''\n",
    "Arguments:\n",
    "    model_weights.pickle path\n",
    "    time_ms - length of generated music  *10ms\n",
    "    sentiment - not used\n",
    "    genre - from GENRES_LIST = ('pop', 'jazz', 'rock', 'blues', ...)\n",
    "    output_dir\n",
    "    output_name\n",
    "    nnotes_path.json\n",
    "\n",
    "Returns:\n",
    "    saves config - modified from generate_sample_parameters.json\n",
    "    runs code3/generate_sample.py\n",
    "\n",
    "    creates output_dir/output_name.wav\n",
    "    creates output_dir/output_name.mp3\n",
    "'''\n",
    "\n",
    "\n",
    "!CUDA_VISIBLE_DEVICES=5 \\\n",
    "/storage/arkady/miniconda3/envs/transformer_production/bin/python \\\n",
    "/storage/arkady/Glinka/music-transformer/video_conditioning/gen_script_e2e.py \\\n",
    "'/storage/arkady/Glinka/music-transformer/video_conditioning/model/epoch_0037.pickle' \\\n",
    "{int(video_length_s * 100)} 0 2 'tmp_e2e' 'e2e_81' '/storage/arkady/Glinka/music-transformer/video_conditioning/tmp_e2e/nnotes_video_ad81.json'"
   ]
  },
  {
   "cell_type": "code",
   "execution_count": null,
   "metadata": {},
   "outputs": [],
   "source": [
    "!CUDA_VISIBLE_DEVICES=5 \\\n",
    "/storage/arkady/miniconda3/envs/transformer_production/bin/python3 \\\n",
    "/storage/arkady/Glinka/music-transformer/video_conditioning/gen_script_e2e.py \\\n",
    "'/storage/arkady/Glinka/music-transformer/video_conditioning/model/epoch_0037.pickle' \\\n",
    "1190 0 2 'tmp_e2e' 'e2e_81' '/storage/arkady/Glinka/music-transformer/video_conditioning/tmp_e2e/nnotes_video_ad81.json'"
   ]
  },
  {
   "cell_type": "code",
   "execution_count": 27,
   "metadata": {
    "collapsed": true,
    "jupyter": {
     "outputs_hidden": true
    }
   },
   "outputs": [
    {
     "ename": "NameError",
     "evalue": "name 'video_length_s' is not defined",
     "output_type": "error",
     "traceback": [
      "\u001b[0;31m---------------------------------------------------------------------------\u001b[0m",
      "\u001b[0;31mNameError\u001b[0m                                 Traceback (most recent call last)",
      "Cell \u001b[0;32mIn[27], line 12\u001b[0m\n\u001b[1;32m      1\u001b[0m \u001b[38;5;66;03m# v1\u001b[39;00m\n\u001b[1;32m      2\u001b[0m \u001b[38;5;28;01mimport\u001b[39;00m \u001b[38;5;21;01msubprocess\u001b[39;00m\n\u001b[1;32m      4\u001b[0m proc \u001b[38;5;241m=\u001b[39m subprocess\u001b[38;5;241m.\u001b[39mrun(\u001b[38;5;124m'\u001b[39m\u001b[38;5;124m;\u001b[39m\u001b[38;5;124m'\u001b[39m\u001b[38;5;241m.\u001b[39mjoin([\n\u001b[1;32m      5\u001b[0m     \u001b[38;5;124m'\u001b[39m\u001b[38;5;124mcd /storage/arkady/Glinka/music-transformer/video_conditioning/code3\u001b[39m\u001b[38;5;124m'\u001b[39m,\n\u001b[1;32m      6\u001b[0m     \u001b[38;5;124m'\u001b[39m\u001b[38;5;124mpwd\u001b[39m\u001b[38;5;124m'\u001b[39m,\n\u001b[1;32m      7\u001b[0m     \u001b[38;5;124mf\u001b[39m\u001b[38;5;124m\"\"\"\u001b[39m\n\u001b[1;32m      8\u001b[0m \u001b[38;5;124mCUDA_VISIBLE_DEVICES=0 \u001b[39m\u001b[38;5;130;01m\\\u001b[39;00m\n\u001b[1;32m      9\u001b[0m \u001b[38;5;124m/storage/arkady/miniconda3/envs/transformer_production/bin/python \u001b[39m\u001b[38;5;130;01m\\\u001b[39;00m\n\u001b[1;32m     10\u001b[0m \u001b[38;5;124m/storage/arkady/Glinka/music-transformer/video_conditioning/gen_script_e2e.py \u001b[39m\u001b[38;5;130;01m\\\u001b[39;00m\n\u001b[1;32m     11\u001b[0m \u001b[38;5;124m'\u001b[39m\u001b[38;5;124m/storage/arkady/Glinka/music-transformer/video_conditioning/model/epoch_0037.pickle\u001b[39m\u001b[38;5;124m'\u001b[39m\u001b[38;5;124m \u001b[39m\u001b[38;5;130;01m\\\u001b[39;00m\n\u001b[0;32m---> 12\u001b[0m \u001b[38;5;132;01m{\u001b[39;00m\u001b[38;5;28mint\u001b[39m(\u001b[43mvideo_length_s\u001b[49m\u001b[38;5;250m \u001b[39m\u001b[38;5;241m*\u001b[39m\u001b[38;5;250m \u001b[39m\u001b[38;5;241m100\u001b[39m)\u001b[38;5;132;01m}\u001b[39;00m\u001b[38;5;124m 0 2 \u001b[39m\u001b[38;5;124m'\u001b[39m\u001b[38;5;124mtmp_e2e\u001b[39m\u001b[38;5;124m'\u001b[39m\u001b[38;5;124m \u001b[39m\u001b[38;5;124m'\u001b[39m\u001b[38;5;124me2e_\u001b[39m\u001b[38;5;132;01m{\u001b[39;00mpath_mp4\u001b[38;5;241m.\u001b[39mstem\u001b[38;5;132;01m}\u001b[39;00m\u001b[38;5;124m'\u001b[39m\u001b[38;5;124m \u001b[39m\u001b[38;5;130;01m\\\u001b[39;00m\n\u001b[1;32m     13\u001b[0m \u001b[38;5;124m'\u001b[39m\u001b[38;5;124m/storage/arkady/Glinka/music-transformer/video_conditioning/tmp_e2e/nnotes_\u001b[39m\u001b[38;5;132;01m{\u001b[39;00mpath_mp4\u001b[38;5;241m.\u001b[39mstem\u001b[38;5;132;01m}\u001b[39;00m\u001b[38;5;124m.json\u001b[39m\u001b[38;5;124m'\u001b[39m\n\u001b[1;32m     14\u001b[0m \u001b[38;5;124m    \u001b[39m\u001b[38;5;124m\"\"\"\u001b[39m\n\u001b[1;32m     15\u001b[0m ]), shell\u001b[38;5;241m=\u001b[39m\u001b[38;5;28;01mTrue\u001b[39;00m, capture_output\u001b[38;5;241m=\u001b[39m\u001b[38;5;28;01mTrue\u001b[39;00m, text\u001b[38;5;241m=\u001b[39m\u001b[38;5;28;01mTrue\u001b[39;00m)\n\u001b[1;32m     17\u001b[0m \u001b[38;5;28mprint\u001b[39m(proc\u001b[38;5;241m.\u001b[39mstdout)\n\u001b[1;32m     18\u001b[0m \u001b[38;5;28mprint\u001b[39m(\u001b[38;5;124m'\u001b[39m\u001b[38;5;124m##################\u001b[39m\u001b[38;5;124m'\u001b[39m)\n",
      "\u001b[0;31mNameError\u001b[0m: name 'video_length_s' is not defined"
     ]
    }
   ],
   "source": [
    "# v1\n",
    "import subprocess\n",
    "\n",
    "proc = subprocess.run(';'.join([\n",
    "    'cd /storage/arkady/Glinka/music-transformer/video_conditioning/code3',\n",
    "    'pwd',\n",
    "    f\"\"\"\n",
    "CUDA_VISIBLE_DEVICES=0 \\\n",
    "/storage/arkady/miniconda3/envs/transformer_production/bin/python \\\n",
    "/storage/arkady/Glinka/music-transformer/video_conditioning/gen_script_e2e.py \\\n",
    "'/storage/arkady/Glinka/music-transformer/video_conditioning/model/epoch_0037.pickle' \\\n",
    "{int(video_length_s * 100)} 0 2 'tmp_e2e' 'e2e_{path_mp4.stem}' \\\n",
    "'/storage/arkady/Glinka/music-transformer/video_conditioning/tmp_e2e/nnotes_{path_mp4.stem}.json'\n",
    "    \"\"\"\n",
    "]), shell=True, capture_output=True, text=True)\n",
    "\n",
    "print(proc.stdout)\n",
    "print('##################')\n",
    "print(proc.stderr)"
   ]
  },
  {
   "cell_type": "code",
   "execution_count": 40,
   "metadata": {},
   "outputs": [
    {
     "name": "stdout",
     "output_type": "stream",
     "text": [
      "/storage/arkady/Glinka/music-transformer/video_conditioning/code3\n",
      "==== then\n",
      "=====generate_samples====== /storage/arkady/Glinka/music-transformer/video_conditioning/code3\n",
      "------ /storage/arkady/Glinka/music-transformer/video_conditioning/code3\n",
      "FluidSynth runtime version 2.1.7\n",
      "Copyright (C) 2000-2021 Peter Hanappe and others.\n",
      "Distributed under the LGPL license.\n",
      "SoundFont(R) is a registered trademark of E-mu Systems, Inc.\n",
      "\n",
      "Rendering audio to file '/storage/arkady/Glinka/music-transformer/video_conditioning/tmp_e2e/e2e_video_ad25/e2e_video_ad25.mp3'..\n",
      "======= /storage/arkady/Glinka/music-transformer/video_conditioning/tmp_e2e e2e_video_ad25\n",
      "[{'borders': [0, 1], 'value': 3},\n",
      "{'borders': [1, 2], 'value': 4},\n",
      "{'borders': [2, 3], 'value': 4},\n",
      "{'borders': [3, 4], 'value': 4}]\n",
      "Error: timing_segments:   0%|          | 0/127 [00:00<?, ?it/s]\n",
      "timing_segments: 390it [00:04, 86.05it/s]               \n",
      "timing_segments: 399it [00:11, 27.05it/s]\n",
      "timing_segments: 403it [00:14, 19.76it/s]\n",
      "timing_segments: 406it [00:17, 14.27it/s]\n",
      "timing_segments: 408it [00:20, 10.47it/s]\n",
      "timing_segments: 409it [00:22,  8.32it/s]\n",
      "timing_segments: 410it [00:23,  7.13it/s]\n",
      "timing_segments: 411it [00:24,  6.37it/s]\n",
      "timing_segments: 412it [00:25,  5.20it/s]\n",
      "timing_segments: 413it [00:26,  4.21it/s]\n",
      "timing_segments: 414it [00:27,  3.61it/s]\n",
      "timing_segments: 415it [00:28,  3.11it/s]\n",
      "timing_segments: 416it [00:28,  2.60it/s]\n",
      "timing_segments: 417it [00:29,  2.20it/s]\n",
      "timing_segments: 418it [00:31,  1.70it/s]\n",
      "timing_segments: 419it [00:32,  1.54it/s]\n",
      "timing_segments: 420it [00:32,  1.65it/s]\n",
      "timing_segments: 421it [00:33,  1.39it/s]\n",
      "timing_segments: 422it [00:34,  1.28it/s]\n",
      "timing_segments: 423it [00:35,  1.16it/s]\n",
      "timing_segments: 424it [00:36,  1.08it/s]\n",
      "timing_segments: 425it [00:37,  1.00s/it]\n",
      "timing_segments: 426it [00:39,  1.07s/it]\n",
      "timing_segments: 427it [00:40,  1.08s/it]\n",
      "timing_segments: 428it [00:40,  1.11it/s]\n",
      "timing_segments: 429it [00:41,  1.05it/s]\n",
      "timing_segments: 430it [00:42,  1.06it/s]\n",
      "timing_segments: 431it [00:43,  1.06it/s]\n",
      "timing_segments: 432it [00:44,  1.07it/s]\n",
      "timing_segments: 433it [00:45,  1.01it/s]\n",
      "timing_segments: 434it [00:47,  1.13s/it]\n",
      "timing_segments: 435it [00:48,  1.26s/it]\n",
      "timing_segments: 436it [00:49,  1.15s/it]\n",
      "timing_segments: 437it [00:50,  1.12s/it]\n",
      "timing_segments: 438it [00:52,  1.21s/it]\n",
      "timing_segments: 439it [00:53,  1.29s/it]\n",
      "timing_segments: 440it [00:55,  1.44s/it]\n",
      "timing_segments: 441it [00:57,  1.51s/it]\n",
      "timing_segments: 442it [00:59,  1.67s/it]\n",
      "timing_segments: 443it [01:01,  1.76s/it]\n",
      "timing_segments: 444it [01:02,  1.73s/it]\n",
      "timing_segments: 445it [01:03,  1.43s/it]\n",
      "timing_segments: 446it [01:05,  1.48s/it]\n",
      "timing_segments: 447it [01:06,  1.52s/it]\n",
      "timing_segments: 448it [01:08,  1.56s/it]\n",
      "timing_segments: 449it [01:10,  1.63s/it]\n",
      "timing_segments: 450it [01:11,  1.67s/it]\n",
      "timing_segments: 451it [01:13,  1.72s/it]\n",
      "timing_segments: 452it [01:15,  1.81s/it]\n",
      "timing_segments: 453it [01:16,  1.61s/it]\n",
      "timing_segments: 454it [01:19,  1.82s/it]\n",
      "timing_segments: 455it [01:21,  1.97s/it]\n",
      "timing_segments: 456it [01:23,  1.99s/it]\n",
      "timing_segments: 457it [01:25,  2.04s/it]\n",
      "timing_segments: 458it [01:28,  2.12s/it]\n",
      "timing_segments: 459it [01:31,  2.41s/it]\n",
      "timing_segments: 460it [01:33,  2.43s/it]\n",
      "timing_segments: 461it [01:35,  2.24s/it]\n",
      "timing_segments: 462it [01:37,  2.08s/it]\n",
      "timing_segments: 463it [01:39,  2.12s/it]\n",
      "timing_segments: 464it [01:41,  2.21s/it]\n",
      "timing_segments: 465it [01:43,  2.23s/it]\n",
      "timing_segments: 466it [01:45,  2.10s/it]\n",
      "timing_segments: 467it [01:48,  2.35s/it]\n",
      "timing_segments: 468it [01:51,  2.47s/it]\n",
      "timing_segments: 469it [01:54,  2.52s/it]\n",
      "timing_segments: 470it [01:55,  2.18s/it]\n",
      "timing_segments: 471it [01:58,  2.31s/it]\n",
      "timing_segments: 472it [02:00,  2.37s/it]\n",
      "timing_segments: 473it [02:03,  2.55s/it]\n",
      "timing_segments: 474it [02:06,  2.71s/it]\n",
      "timing_segments: 475it [02:10,  2.92s/it]\n",
      "timing_segments: 476it [02:13,  3.06s/it]\n",
      "timing_segments: 477it [02:17,  3.27s/it]\n",
      "timing_segments: 478it [02:18,  2.53s/it]\n",
      "timing_segments: 479it [02:21,  2.75s/it]\n",
      "timing_segments: 480it [02:22,  2.41s/it]\n",
      "timing_segments: 481it [02:24,  2.20s/it]\n",
      "timing_segments: 482it [02:26,  2.05s/it]\n",
      "timing_segments: 483it [02:28,  1.95s/it]\n",
      "timing_segments: 484it [02:29,  1.86s/it]\n",
      "timing_segments: 485it [02:32,  2.18s/it]\n",
      "timing_segments: 486it [02:34,  2.03s/it]\n",
      "timing_segments: 487it [02:36,  2.17s/it]\n",
      "timing_segments: 488it [02:40,  2.48s/it]\n",
      "timing_segments: 489it [02:42,  2.63s/it]\n",
      "timing_segments: 490it [02:46,  2.96s/it]\n",
      "timing_segments: 491it [02:50,  3.11s/it]\n",
      "timing_segments: 492it [02:53,  3.21s/it]\n",
      "timing_segments: 493it [02:57,  3.29s/it]\n",
      "timing_segments: 494it [02:59,  3.10s/it]\n",
      "timing_segments: 495it [03:01,  2.69s/it]\n",
      "timing_segments: 496it [03:03,  2.50s/it]\n",
      "timing_segments: 497it [03:05,  2.44s/it]\n",
      "timing_segments: 498it [03:09,  2.93s/it]\n",
      "timing_segments: 499it [03:14,  3.35s/it]\n",
      "timing_segments: 500it [03:18,  3.57s/it]\n",
      "timing_segments: 501it [03:23,  3.96s/it]\n",
      "timing_segments: 502it [03:27,  4.18s/it]\n",
      "timing_segments: 503it [03:29,  3.52s/it]\n",
      "timing_segments: 504it [03:33,  3.68s/it]\n",
      "timing_segments: 505it [03:37,  3.70s/it]\n",
      "timing_segments: 506it [03:41,  3.88s/it]\n",
      "timing_segments: 507it [03:46,  4.05s/it]\n",
      "timing_segments: 508it [03:50,  3.93s/it]\n",
      "timing_segments: 509it [03:54,  4.09s/it]\n",
      "timing_segments: 510it [03:59,  4.25s/it]\n",
      "timing_segments: 511it [04:01,  3.70s/it]\n",
      "timing_segments: 512it [04:03,  3.32s/it]\n",
      "timing_segments: 513it [04:06,  3.02s/it]\n",
      "timing_segments: 514it [04:10,  3.34s/it]\n",
      "timing_segments: 515it [04:20,  5.40s/it]\n",
      "timing_segments: 516it [04:35,  8.12s/it]\n",
      "timing_segments: 517it [04:47,  9.39s/it]\n",
      "timing_segments: 517it [04:47,  1.80it/s]fluidsynth: warning: No preset found on channel 9 [bank=128 prog=0]\n",
      "fluidsynth: warning: Failed to determine audio file type from filename, defaulting to WAV\n",
      "\n",
      "/storage/arkady/Glinka/music-transformer/video_conditioning/code3/preprocessing/processor.py:238: UserWarning: Unable to find note's start with pitch: 64\n",
      "  warnings.warn(\n",
      "/storage/arkady/Glinka/music-transformer/video_conditioning/code3/preprocessing/processor.py:238: UserWarning: Unable to find note's start with pitch: 76\n",
      "  warnings.warn(\n",
      "/storage/arkady/Glinka/music-transformer/video_conditioning/code3/preprocessing/processor.py:238: UserWarning: Unable to find note's start with pitch: 93\n",
      "  warnings.warn(\n"
     ]
    }
   ],
   "source": [
    "# v2\n",
    "import subprocess\n",
    "\n",
    "def stream_subprocess_output(command):\n",
    "    process = subprocess.Popen(\n",
    "        command,\n",
    "        shell=True,\n",
    "        executable=\"/bin/bash\",\n",
    "        stdout=subprocess.PIPE,\n",
    "        stderr=subprocess.PIPE,\n",
    "        text=True\n",
    "    )\n",
    "\n",
    "    while True:\n",
    "        output = process.stdout.readline()\n",
    "        if output == '' and process.poll() is not None:\n",
    "            break\n",
    "        if output:\n",
    "            print(output.strip())\n",
    "\n",
    "    err = process.stderr.read()\n",
    "    if err:\n",
    "        print(\"Error:\", err.strip())\n",
    "\n",
    "command = ';'.join([\n",
    "    'cd /storage/arkady/Glinka/music-transformer/video_conditioning/code3',\n",
    "    'pwd',\n",
    "    f\"\"\"\n",
    "CUDA_VISIBLE_DEVICES=0 \\\n",
    "/storage/arkady/miniconda3/envs/transformer_production/bin/python \\\n",
    "/storage/arkady/Glinka/music-transformer/video_conditioning/gen_script_e2e.py \\\n",
    "'/storage/arkady/Glinka/music-transformer/video_conditioning/model/epoch_0037.pickle' \\\n",
    "{int(video_length_s * 100)} 0 2 'tmp_e2e' 'e2e_{path_mp4.stem}' \\\n",
    "'/storage/arkady/Glinka/music-transformer/video_conditioning/tmp_e2e/nnotes_{path_mp4.stem}.json'\n",
    "    \"\"\"\n",
    "])\n",
    "\n",
    "# stream_subprocess_output(\"for i in {1..5}; do echo $i; sleep 1; done\")\n",
    "stream_subprocess_output(command)"
   ]
  },
  {
   "cell_type": "code",
   "execution_count": null,
   "metadata": {},
   "outputs": [
    {
     "name": "stdout",
     "output_type": "stream",
     "text": [
      "/storage/arkady/Glinka/music-transformer/video_conditioning/code3\n",
      "==== then\n",
      "=====generate_samples====== /storage/arkady/Glinka/music-transformer/video_conditioning/code3\n",
      "------ /storage/arkady/Glinka/music-transformer/video_conditioning/code3\n"
     ]
    }
   ],
   "source": [
    "# v3\n",
    "import subprocess\n",
    "\n",
    "def stream_subprocess_output(command):\n",
    "    # Start the subprocess using bash explicitly\n",
    "    process = subprocess.Popen(\n",
    "        command,\n",
    "        shell=True,\n",
    "        executable=\"/bin/bash\",  # Specify the Bash executable\n",
    "        stdout=subprocess.PIPE,\n",
    "        stderr=subprocess.PIPE,\n",
    "        text=True\n",
    "    )\n",
    "\n",
    "    # Monitor both stdout and stderr\n",
    "    while True:\n",
    "        # Poll process for new output: both stdout and stderr\n",
    "        output = process.stdout.readline()\n",
    "        error_output = process.stderr.readline()\n",
    "\n",
    "        # Check if subprocess has terminated and stdout/stderr are empty\n",
    "        if process.poll() is not None and output == '' and error_output == '':\n",
    "            break\n",
    "\n",
    "        # Print any outputs collected to stdout\n",
    "        if output:\n",
    "            print(output.strip())\n",
    "\n",
    "        # Print any errors collected to stderr, where tqdm typically writes\n",
    "        if error_output:\n",
    "            print(error_output.strip(), end='')  # Use end='' for tqdm to properly update the line\n",
    "\n",
    "    # Ensure all output is flushed after subprocess termination\n",
    "    stdout, stderr = process.communicate()\n",
    "    if stdout:\n",
    "        print(stdout.strip())\n",
    "    if stderr:\n",
    "        print(stderr.strip())\n",
    "\n",
    "command = ';'.join([\n",
    "    'cd /storage/arkady/Glinka/music-transformer/video_conditioning/code3',\n",
    "    'pwd',\n",
    "    f\"\"\"\n",
    "CUDA_VISIBLE_DEVICES=0 \\\n",
    "/storage/arkady/miniconda3/envs/transformer_production/bin/python \\\n",
    "/storage/arkady/Glinka/music-transformer/video_conditioning/gen_script_e2e.py \\\n",
    "'/storage/arkady/Glinka/music-transformer/video_conditioning/model/epoch_0037.pickle' \\\n",
    "{int(video_length_s * 100)} 0 2 'tmp_e2e' 'e2e_{path_mp4.stem}' \\\n",
    "'/storage/arkady/Glinka/music-transformer/video_conditioning/tmp_e2e/nnotes_{path_mp4.stem}.json'\n",
    "    \"\"\"\n",
    "])\n",
    "\n",
    "# stream_subprocess_output(\"for i in {1..5}; do echo $i; sleep 1; done\")\n",
    "stream_subprocess_output(command)"
   ]
  },
  {
   "cell_type": "markdown",
   "metadata": {},
   "source": [
    "# 5. combine mp4 and mp3, video and audio"
   ]
  },
  {
   "cell_type": "code",
   "execution_count": 4,
   "metadata": {},
   "outputs": [
    {
     "name": "stdout",
     "output_type": "stream",
     "text": [
      "/storage/arkady/Glinka/music-transformer/video_conditioning\n"
     ]
    }
   ],
   "source": [
    "!pwd\n",
    "path_mp4 = '/storage/arkady/Glinka/music-transformer/video_conditioning/content/video_data/video_ad27.mp4'\n",
    "video_path = str(path_mp4)\n",
    "audio_path = 'tmp_e2e_1/video_ad27_gen/video_ad27_gen.mp3'\n",
    "output_path = f'tmp_e2e_1/GLUED.mp4'\n",
    "\n",
    "assert os.path.exists(video_path)\n",
    "assert os.path.exists(audio_path)"
   ]
  },
  {
   "cell_type": "code",
   "execution_count": 6,
   "metadata": {},
   "outputs": [
    {
     "name": "stdout",
     "output_type": "stream",
     "text": [
      "Moviepy - Building video tmp_e2e_1/GLUED.mp4.\n",
      "FPS3= 23.976023976023978\n",
      "MoviePy - Writing audio in GLUEDTEMP_MPY_wvf_snd.mp3\n"
     ]
    },
    {
     "name": "stderr",
     "output_type": "stream",
     "text": [
      "                                                                   \r"
     ]
    },
    {
     "name": "stdout",
     "output_type": "stream",
     "text": [
      "MoviePy - Done.\n",
      "FPS= 23.976023976023978\n",
      "Moviepy - Writing video tmp_e2e_1/GLUED.mp4\n",
      "\n",
      "FPS2= 23.976023976023978\n",
      "FPS1= 23.976023976023978\n",
      "a\n"
     ]
    },
    {
     "name": "stderr",
     "output_type": "stream",
     "text": [
      "                                                              \r"
     ]
    },
    {
     "name": "stdout",
     "output_type": "stream",
     "text": [
      "Moviepy - Done !\n",
      "Moviepy - video ready tmp_e2e_1/GLUED.mp4\n"
     ]
    }
   ],
   "source": [
    "from moviepy.editor import VideoFileClip, AudioFileClip, CompositeVideoClip, concatenate_audioclips\n",
    "\n",
    "def merge_video_audio(video_path, audio_path, output_path):\n",
    "    # Load the video file\n",
    "    video_clip = VideoFileClip(video_path)\n",
    "    \n",
    "    # Load the audio file\n",
    "    audio_clip = AudioFileClip(audio_path)\n",
    "    \n",
    "    # The duration of the video\n",
    "    video_duration = video_clip.duration\n",
    "\n",
    "    # Check if the audio clip is shorter than the video clip\n",
    "    if audio_clip.duration < video_duration:\n",
    "        # Calculate the number of times the audio needs to be repeated\n",
    "        repeat_count = int(video_duration // audio_clip.duration) + 1\n",
    "        # Create a new audio clip by concatenating the audio clip with itself\n",
    "        audio_clip = concatenate_audioclips([audio_clip] * repeat_count)\n",
    "    \n",
    "    # Set the duration of the audio clip to match the video clip's duration\n",
    "    audio_clip = audio_clip.set_duration(video_duration)\n",
    "    \n",
    "    # Set the audio of the video clip to the audio clip\n",
    "    video_clip = video_clip.set_audio(audio_clip)\n",
    "    \n",
    "    # Write the result to a file\n",
    "    video_clip.write_videofile(output_path, codec='libx264', audio_codec='libmp3lame', fps=video_clip.fps)\n",
    "\n",
    "# # Example usage\n",
    "\n",
    "merge_video_audio(video_path, audio_path, output_path)"
   ]
  },
  {
   "cell_type": "markdown",
   "metadata": {},
   "source": [
    "# 6 script execution"
   ]
  },
  {
   "cell_type": "code",
   "execution_count": 145,
   "metadata": {},
   "outputs": [
    {
     "name": "stdout",
     "output_type": "stream",
     "text": [
      "obj='generate_music_for_video'\n",
      "obj='#1'\n",
      "VideoManager is deprecated and will be removed.\n",
      "obj='#3'\n",
      "obj='#3.5'\n",
      "['/storage/arkady/Glinka/music-transformer/video_conditioning/gen_script_video.py', '/storage/arkady/Glinka/music-transformer/video_conditioning/model/epoch_0037.pickle', '7777', '0', '11', 'generated_4x2x2', 'video_ad14_v2', '/storage/arkady/Glinka/music-transformer/video_conditioning/content/video_data/video_ad14.mp4', '0']\n",
      "obj='create_config'\n",
      "obj='#4'\n",
      "command='cd code3;\\n    /storage/arkady/miniconda3/envs/transformer_production/bin/python -m     generation.generate_sample     /storage/arkady/Glinka/music-transformer/video_conditioning/generated_4x2x2/video_ad14/generate_sample_video_ad14_parameters.json     '\n",
      "ggs cd code3;\n",
      "    /storage/arkady/miniconda3/envs/transformer_production/bin/python -m     generation.generate_sample     /storage/arkady/Glinka/music-transformer/video_conditioning/generated_4x2x2/video_ad14/generate_sample_video_ad14_parameters.json     \n",
      "ggs pr.stdout\n",
      "ggs args=['/storage/arkady/Glinka/music-transformer/video_conditioning/code3/generation/generate_sample.py', '/storage/arkady/Glinka/music-transformer/video_conditioning/generated_4x2x2/video_ad14/generate_sample_video_ad14_parameters.json']\n",
      "------ /storage/arkady/Glinka/music-transformer/video_conditioning/code3\n",
      "---- save_generated\n",
      "{'output_dir': '/storage/arkady/Glinka/music-transformer/video_conditioning/generated_4x2x2',\n",
      " 'output_folder_name': 'video_ad14_v2',\n",
      " 'save_mp3': True,\n",
      " 'save_params': True,\n",
      " 'save_primary': True}\n",
      "/storage/arkady/Glinka/music-transformer/video_conditioning/generated_4x2x2/video_ad14_v2/video_ad14_v2.midi\n",
      "FluidSynth runtime version 2.1.7\n",
      "Copyright (C) 2000-2021 Peter Hanappe and others.\n",
      "Distributed under the LGPL license.\n",
      "SoundFont(R) is a registered trademark of E-mu Systems, Inc.\n",
      "\n",
      "Rendering audio to file '/storage/arkady/Glinka/music-transformer/video_conditioning/generated_4x2x2/video_ad14_v2/video_ad14_v2.mp3'..\n",
      "\n",
      "ggs pr.stderr\n",
      "ggs \n",
      "timing_segments:   0%|          | 0/127 [00:00<?, ?it/s]\n",
      "timing_segments: 390it [00:04, 87.55it/s]               \n",
      "timing_segments: 399it [00:10, 31.78it/s]\n",
      "timing_segments: 403it [00:13, 21.35it/s]\n",
      "timing_segments: 406it [00:16, 15.34it/s]\n",
      "timing_segments: 408it [00:19, 10.36it/s]\n",
      "timing_segments: 409it [00:22,  7.77it/s]\n",
      "timing_segments: 410it [00:23,  6.64it/s]\n",
      "timing_segments: 411it [00:25,  4.90it/s]\n",
      "timing_segments: 412it [00:28,  3.13it/s]\n",
      "timing_segments: 413it [00:28,  3.18it/s]\n",
      "timing_segments: 414it [00:29,  2.86it/s]\n",
      "timing_segments: 415it [00:30,  2.90it/s]\n",
      "timing_segments: 416it [00:30,  2.90it/s]\n",
      "timing_segments: 417it [00:31,  2.20it/s]\n",
      "timing_segments: 418it [00:33,  1.36it/s]\n",
      "timing_segments: 419it [00:37,  1.31s/it]\n",
      "timing_segments: 420it [00:39,  1.37s/it]\n",
      "timing_segments: 421it [00:41,  1.67s/it]\n",
      "timing_segments: 422it [00:44,  1.86s/it]\n",
      "timing_segments: 423it [00:45,  1.79s/it]\n",
      "timing_segments: 424it [00:48,  1.97s/it]\n",
      "timing_segments: 425it [00:49,  1.84s/it]\n",
      "timing_segments: 426it [00:52,  1.95s/it]\n",
      "timing_segments: 427it [00:53,  1.95s/it]\n",
      "timing_segments: 428it [00:55,  1.89s/it]\n",
      "timing_segments: 429it [00:58,  2.07s/it]\n",
      "timing_segments: 430it [00:59,  1.78s/it]\n",
      "timing_segments: 431it [01:01,  1.90s/it]\n",
      "timing_segments: 432it [01:05,  2.49s/it]\n",
      "timing_segments: 433it [01:10,  3.26s/it]\n",
      "timing_segments: 434it [01:11,  2.72s/it]\n",
      "timing_segments: 435it [01:14,  2.80s/it]\n",
      "timing_segments: 436it [01:18,  2.99s/it]\n",
      "timing_segments: 437it [01:22,  3.29s/it]\n",
      "timing_segments: 438it [01:24,  2.81s/it]\n",
      "timing_segments: 439it [01:24,  2.11s/it]\n",
      "timing_segments: 440it [01:25,  1.76s/it]\n",
      "timing_segments: 441it [01:25,  1.37s/it]\n",
      "timing_segments: 442it [01:27,  1.49s/it]\n",
      "timing_segments: 443it [01:30,  1.79s/it]\n",
      "timing_segments: 444it [01:32,  2.11s/it]\n",
      "timing_segments: 445it [01:36,  2.64s/it]\n",
      "timing_segments: 446it [01:38,  2.22s/it]\n",
      "timing_segments: 447it [01:41,  2.65s/it]\n",
      "timing_segments: 448it [01:43,  2.24s/it]\n",
      "timing_segments: 450it [01:49,  2.76s/it]\n",
      "timing_segments: 452it [01:55,  2.83s/it]\n",
      "timing_segments: 453it [02:04,  4.24s/it]\n",
      "timing_segments: 454it [02:15,  5.71s/it]\n",
      "timing_segments: 455it [02:23,  6.35s/it]\n",
      "timing_segments: 456it [02:34,  7.53s/it]\n",
      "timing_segments: 457it [02:37,  6.35s/it]\n",
      "timing_segments: 458it [02:48,  7.74s/it]\n",
      "timing_segments: 460it [02:54,  5.61s/it]\n",
      "timing_segments: 461it [03:02,  6.25s/it]\n",
      "timing_segments: 463it [03:04,  3.93s/it]\n",
      "timing_segments: 464it [03:13,  5.24s/it]\n",
      "timing_segments: 465it [03:27,  7.29s/it]\n",
      "timing_segments: 466it [03:38,  8.16s/it]\n",
      "timing_segments: 467it [03:55, 10.62s/it]\n",
      "timing_segments: 468it [04:06, 10.86s/it]\n",
      "timing_segments: 469it [04:10,  8.88s/it]\n",
      "timing_segments: 470it [04:12,  6.90s/it]\n",
      "timing_segments: 472it [04:18,  5.13s/it]\n",
      "timing_segments: 473it [04:19,  3.98s/it]\n",
      "timing_segments: 475it [04:32,  5.08s/it]\n",
      "timing_segments: 477it [04:32,  3.27s/it]\n",
      "timing_segments: 480it [04:41,  3.14s/it]\n",
      "timing_segments: 482it [04:42,  2.28s/it]\n",
      "timing_segments: 483it [04:42,  1.96s/it]\n",
      "timing_segments: 484it [04:49,  2.97s/it]\n",
      "timing_segments: 486it [05:15,  6.52s/it]\n",
      "timing_segments: 487it [05:36,  9.64s/it]\n",
      "timing_segments: 488it [05:54, 11.42s/it]\n",
      "timing_segments: 489it [06:04, 10.98s/it]\n",
      "timing_segments: 490it [06:08,  9.34s/it]\n",
      "timing_segments: 491it [06:09,  7.07s/it]\n",
      "timing_segments: 492it [06:14,  6.59s/it]\n",
      "timing_segments: 493it [06:19,  5.95s/it]\n",
      "timing_segments: 494it [06:22,  5.08s/it]\n",
      "timing_segments: 495it [06:29,  5.80s/it]\n",
      "timing_segments: 496it [06:34,  5.47s/it]\n",
      "timing_segments: 499it [06:38,  3.16s/it]\n",
      "timing_segments: 500it [06:47,  4.34s/it]\n",
      "timing_segments: 502it [06:52,  3.79s/it]\n",
      "timing_segments: 505it [06:53,  2.13s/it]\n",
      "timing_segments: 507it [06:54,  1.64s/it]\n",
      "timing_segments: 509it [06:54,  1.21s/it]\n",
      "timing_segments: 511it [06:55,  1.09it/s]\n",
      "timing_segments: 514it [06:55,  1.60it/s]\n",
      "timing_segments: 516it [06:55,  1.95it/s]\n",
      "timing_segments: 517it [06:56,  1.95it/s]\n",
      "timing_segments: 517it [06:56,  1.24it/s]\n",
      "/storage/arkady/Glinka/music-transformer/video_conditioning/code3/preprocessing/processor.py:238: UserWarning: Unable to find note's start with pitch: 32\n",
      "  warnings.warn(\n",
      "/storage/arkady/Glinka/music-transformer/video_conditioning/code3/preprocessing/processor.py:238: UserWarning: Unable to find note's start with pitch: 66\n",
      "  warnings.warn(\n",
      "/storage/arkady/Glinka/music-transformer/video_conditioning/code3/preprocessing/processor.py:238: UserWarning: Unable to find note's start with pitch: 29\n",
      "  warnings.warn(\n",
      "/storage/arkady/Glinka/music-transformer/video_conditioning/code3/preprocessing/processor.py:238: UserWarning: Unable to find note's start with pitch: 51\n",
      "  warnings.warn(\n",
      "/storage/arkady/Glinka/music-transformer/video_conditioning/code3/preprocessing/processor.py:238: UserWarning: Unable to find note's start with pitch: 44\n",
      "  warnings.warn(\n",
      "/storage/arkady/Glinka/music-transformer/video_conditioning/code3/preprocessing/processor.py:238: UserWarning: Unable to find note's start with pitch: 68\n",
      "  warnings.warn(\n",
      "/storage/arkady/Glinka/music-transformer/video_conditioning/code3/preprocessing/processor.py:238: UserWarning: Unable to find note's start with pitch: 65\n",
      "  warnings.warn(\n",
      "/storage/arkady/Glinka/music-transformer/video_conditioning/code3/preprocessing/processor.py:238: UserWarning: Unable to find note's start with pitch: 53\n",
      "  warnings.warn(\n",
      "/storage/arkady/Glinka/music-transformer/video_conditioning/code3/preprocessing/processor.py:238: UserWarning: Unable to find note's start with pitch: 52\n",
      "  warnings.warn(\n",
      "/storage/arkady/Glinka/music-transformer/video_conditioning/code3/preprocessing/processor.py:238: UserWarning: Unable to find note's start with pitch: 59\n",
      "  warnings.warn(\n",
      "/storage/arkady/Glinka/music-transformer/video_conditioning/code3/preprocessing/processor.py:238: UserWarning: Unable to find note's start with pitch: 49\n",
      "  warnings.warn(\n",
      "/storage/arkady/Glinka/music-transformer/video_conditioning/code3/preprocessing/processor.py:238: UserWarning: Unable to find note's start with pitch: 48\n",
      "  warnings.warn(\n",
      "/storage/arkady/Glinka/music-transformer/video_conditioning/code3/preprocessing/processor.py:238: UserWarning: Unable to find note's start with pitch: 27\n",
      "  warnings.warn(\n",
      "/storage/arkady/Glinka/music-transformer/video_conditioning/code3/preprocessing/processor.py:238: UserWarning: Unable to find note's start with pitch: 75\n",
      "  warnings.warn(\n",
      "/storage/arkady/Glinka/music-transformer/video_conditioning/code3/preprocessing/processor.py:238: UserWarning: Unable to find note's start with pitch: 47\n",
      "  warnings.warn(\n",
      "fluidsynth: warning: No preset found on channel 9 [bank=128 prog=0]\n",
      "fluidsynth: warning: Failed to determine audio file type from filename, defaulting to WAV\n",
      "\n",
      "obj='#5'\n",
      "Moviepy - Building video generated_4x2x2/video_ad14_v2/video_ad14_v2.mp4.\n",
      "MoviePy - Writing audio in video_ad14_v2TEMP_MPY_wvf_snd.mp3\n",
      "MoviePy - Done.                                                                 \n",
      "Moviepy - Writing video generated_4x2x2/video_ad14_v2/video_ad14_v2.mp4\n",
      "\n",
      "Moviepy - Done !                                                                \n",
      "Moviepy - video ready generated_4x2x2/video_ad14_v2/video_ad14_v2.mp4\n",
      "Moviepy - Building video generated_4x2x2/video_ad14_v2/video_ad14_v2_kvm.mp4.\n",
      "MoviePy - Writing audio in video_ad14_v2_kvmTEMP_MPY_wvf_snd.mp3\n",
      "MoviePy - Done.                                                                 \n",
      "Moviepy - Writing video generated_4x2x2/video_ad14_v2/video_ad14_v2_kvm.mp4\n",
      "\n",
      "Moviepy - Done !                                                                \n",
      "Moviepy - video ready generated_4x2x2/video_ad14_v2/video_ad14_v2_kvm.mp4\n"
     ]
    }
   ],
   "source": [
    "!CUDA_VISIBLE_DEVICES=0 \\\n",
    "/storage/arkady/miniconda3/envs/VideoMusic/bin/python3 \\\n",
    "/storage/arkady/Glinka/music-transformer/video_conditioning/gen_script_video.py \\\n",
    "'/storage/arkady/Glinka/music-transformer/video_conditioning/model/epoch_0037.pickle' \\\n",
    "7777 0 2 'generated_4x2x2' \\\n",
    "'video_ad14_v2_g2' \\\n",
    "'/storage/arkady/Glinka/music-transformer/video_conditioning/content/video_data/video_ad14.mp4' \\\n",
    "0"
   ]
  },
  {
   "cell_type": "code",
   "execution_count": 62,
   "metadata": {},
   "outputs": [
    {
     "name": "stdout",
     "output_type": "stream",
     "text": [
      "obj='generate_music_for_video'\n",
      "obj='#1'\n",
      "MoviePy - Writing audio in /storage/arkady/Glinka/music-transformer/video_conditioning/best4videos/video_ad5.mp3\n",
      "MoviePy - Done.                                                                 \n",
      "=====Successfully written new mp3 to path_mp3=PosixPath('/storage/arkady/Glinka/music-transformer/video_conditioning/best4videos/video_ad5.mp3')\n",
      "loading model... done\n",
      "loading wave source... done\n",
      "stft of wave source... done\n",
      "100%|█████████████████████████████████████████████| 3/3 [02:39<00:00, 53.23s/it]\n",
      "validating output directory... done\n",
      "inverse stft of instruments... done\n",
      "inverse stft of vocals... done\n",
      "\u001b[0m=====Instrumentals at: /storage/arkady/Glinka/music-transformer/video_conditioning/best4videos/video_ad5_Instruments.wav\n",
      "=====Vocals at: /storage/arkady/Glinka/music-transformer/video_conditioning/best4videos/video_ad5_Vocals.wav\n",
      "\n",
      "✨✨✨✨✨✨✨✨✨\n",
      "✨ Basic Pitch  ✨\n",
      "✨✨✨✨✨✨✨✨✨\n",
      "\n",
      "Importing Tensorflow (this may take a few seconds)...\n",
      "2024-05-10 19:34:16.733946: F tensorflow/tsl/platform/statusor.cc:33] Attempting to fetch value instead of handling error INTERNAL: failed initializing StreamExecutor for CUDA device ordinal 0: INTERNAL: failed call to cuDevicePrimaryCtxRetain: CUDA_ERROR_OUT_OF_MEMORY: out of memory; total memory reported: 42331013120\n",
      "Traceback (most recent call last):\n",
      "  File \"/storage/arkady/Glinka/music-transformer/video_conditioning/gen_script_video.py\", line 233, in <module>\n",
      "    main(sys.argv)\n",
      "  File \"/storage/arkady/Glinka/music-transformer/video_conditioning/gen_script_video.py\", line 226, in main\n",
      "    generate_music_for_video(\n",
      "  File \"/storage/arkady/Glinka/music-transformer/video_conditioning/gen_script_video.py\", line 172, in generate_music_for_video\n",
      "    path_midi = mp4_to_midi(\n",
      "  File \"/storage/arkady/Glinka/music-transformer/video_conditioning/video_utils/mp4_to_midi.py\", line 68, in mp4_to_midi\n",
      "    file_mid.rename(folder_name / f\"{basename}.mid\")\n",
      "  File \"/storage/arkady/miniconda3/envs/VideoMusic/lib/python3.10/pathlib.py\", line 1234, in rename\n",
      "    self._accessor.rename(self, target)\n",
      "FileNotFoundError: [Errno 2] No such file or directory: '/storage/arkady/Glinka/music-transformer/video_conditioning/best4videos/video_ad5_Instruments_basic_pitch.mid' -> '/storage/arkady/Glinka/music-transformer/video_conditioning/best4videos/video_ad5/video_ad5.mid'\n"
     ]
    }
   ],
   "source": [
    "!CUDA_VISIBLE_DEVICES=5 /storage/arkady/miniconda3/envs/VideoMusic/bin/python3 /storage/arkady/Glinka/music-transformer/video_conditioning/gen_script_video.py '/storage/arkady/Glinka/music-transformer/video_conditioning/model/epoch_0037.pickle' 77777 0 11 'best4videos' 'video_ad5_rs0' '/storage/arkady/Glinka/music-transformer/video_conditioning/content/video_data/video_ad5.mp4' 0"
   ]
  },
  {
   "cell_type": "markdown",
   "metadata": {},
   "source": [
    "генерим музыку с nnotes для Жени Григоровича"
   ]
  },
  {
   "cell_type": "code",
   "execution_count": null,
   "metadata": {},
   "outputs": [],
   "source": [
    "!CUDA_VISIBLE_DEVICES=5 \\\n",
    "/storage/arkady/miniconda3/envs/VideoMusic/bin/python3 \\\n",
    "/storage/arkady/Glinka/music-transformer/video_conditioning/gen_script_video.py \\\n",
    "'/storage/arkady/Glinka/music-transformer/video_conditioning/model/epoch_0037.pickle' \\\n",
    "7777 0 11 'generated_4x2x2' \\\n",
    "'video_ad14_v2_rs0' \\\n",
    "'/storage/arkady/Glinka/music-transformer/video_conditioning/content/video_data/video_ad14.mp4' \\\n",
    "0"
   ]
  },
  {
   "cell_type": "markdown",
   "metadata": {},
   "source": [
    "# 7 multiple scripts execution"
   ]
  },
  {
   "cell_type": "code",
   "execution_count": 29,
   "metadata": {},
   "outputs": [
    {
     "name": "stdout",
     "output_type": "stream",
     "text": [
      "scripts/gen_script_video_gpu0_ad17_g11_4x2x2.sh\n",
      "scripts/gen_script_video_gpu1_ad32_g11_4x2x2.sh\n",
      "scripts/gen_script_video_gpu5_ad38_g11_4x2x2.sh\n"
     ]
    }
   ],
   "source": [
    "# selected_videos = [14, 25, 5, ]  # best\n",
    "selected_videos = [17, 32, 38]  # others\n",
    "gpus = ['0', '1', '5']\n",
    "genre = 11\n",
    "\n",
    "for video_suf, gpu in zip(selected_videos, gpus):\n",
    "    script = f'scripts/gen_script_video_gpu{gpu}_ad{video_suf}_g{genre}_4x2x2.sh'\n",
    "    with open(script, '+w') as f:\n",
    "        for rs in range(1):\n",
    "            f.write(f'''\n",
    "CUDA_VISIBLE_DEVICES={gpu} \\\\\n",
    "/storage/arkady/miniconda3/envs/VideoMusic/bin/python3 \\\\\n",
    "/storage/arkady/Glinka/music-transformer/video_conditioning/gen_script_video.py \\\\\n",
    "'/storage/arkady/Glinka/music-transformer/video_conditioning/model/epoch_0037.pickle' \\\\\n",
    "77777 0 {genre} 'generated_4x2x2' \\\\\n",
    "'video_ad{video_suf}_v2_rs{rs}_g{genre}' \\\\\n",
    "'/storage/arkady/Glinka/music-transformer/video_conditioning/content/video_data/video_ad{video_suf}.mp4' \\\\\n",
    "{rs} {gpu}\n",
    "\n",
    "''')\n",
    "    print(script)\n",
    "    !chmod +x {script}"
   ]
  },
  {
   "cell_type": "markdown",
   "metadata": {},
   "source": [
    "# download mp4"
   ]
  },
  {
   "cell_type": "code",
   "execution_count": 94,
   "metadata": {},
   "outputs": [
    {
     "name": "stdout",
     "output_type": "stream",
     "text": [
      "tar -czvf e2e_51_examples.tar.gz best4videos/video_ad25_rs0/video_ad25_rs0.mp4 best4videos/video_ad5_rs0/video_ad5_rs0.mp4 best4videos/video_ad14_rs0/video_ad14_rs0.mp4 best4videos/video_ad17_rs0/video_ad17_rs0.mp4 best4videos/video_ad27_rs0/video_ad27_rs0.mp4 best4videos/video_ad25_rs1/video_ad25_rs1.mp4 best4videos/video_ad5_rs1/video_ad5_rs1.mp4 best4videos/video_ad14_rs1/video_ad14_rs1.mp4 best4videos/video_ad17_rs1/video_ad17_rs1.mp4 best4videos/video_ad27_rs1/video_ad27_rs1.mp4 best4videos/video_ad25_rs2/video_ad25_rs2.mp4 best4videos/video_ad5_rs2/video_ad5_rs2.mp4 best4videos/video_ad14_rs2/video_ad14_rs2.mp4 best4videos/video_ad17_rs2/video_ad17_rs2.mp4 best4videos/video_ad27_rs2/video_ad27_rs2.mp4 best4videos/video_ad25_rs3/video_ad25_rs3.mp4 best4videos/video_ad5_rs3/video_ad5_rs3.mp4 best4videos/video_ad17_rs3/video_ad17_rs3.mp4 best4videos/video_ad27_rs3/video_ad27_rs3.mp4 best4videos/video_ad25_rs4/video_ad25_rs4.mp4 best4videos/video_ad5_rs4/video_ad5_rs4.mp4 best4videos/video_ad14_rs4/video_ad14_rs4.mp4 best4videos/video_ad17_rs4/video_ad17_rs4.mp4 best4videos/video_ad27_rs4/video_ad27_rs4.mp4 best4videos/video_ad25_rs5/video_ad25_rs5.mp4 best4videos/video_ad5_rs5/video_ad5_rs5.mp4 best4videos/video_ad14_rs5/video_ad14_rs5.mp4 best4videos/video_ad17_rs5/video_ad17_rs5.mp4 best4videos/video_ad27_rs5/video_ad27_rs5.mp4 best4videos/video_ad25_rs6/video_ad25_rs6.mp4 best4videos/video_ad5_rs6/video_ad5_rs6.mp4 best4videos/video_ad14_rs6/video_ad14_rs6.mp4 best4videos/video_ad17_rs6/video_ad17_rs6.mp4 best4videos/video_ad27_rs6/video_ad27_rs6.mp4 best4videos/video_ad25_rs7/video_ad25_rs7.mp4 best4videos/video_ad5_rs7/video_ad5_rs7.mp4 best4videos/video_ad14_rs7/video_ad14_rs7.mp4 best4videos/video_ad17_rs7/video_ad17_rs7.mp4 best4videos/video_ad27_rs7/video_ad27_rs7.mp4 best4videos/video_ad25_rs8/video_ad25_rs8.mp4 best4videos/video_ad5_rs8/video_ad5_rs8.mp4 best4videos/video_ad14_rs8/video_ad14_rs8.mp4 best4videos/video_ad17_rs8/video_ad17_rs8.mp4 best4videos/video_ad25_rs9/video_ad25_rs9.mp4 best4videos/video_ad5_rs9/video_ad5_rs9.mp4 best4videos/video_ad14_rs9/video_ad14_rs9.mp4 best4videos/video_ad17_rs9/video_ad17_rs9.mp4 best4videos/video_ad25_rs10/video_ad25_rs10.mp4 best4videos/video_ad5_rs10/video_ad5_rs10.mp4 best4videos/video_ad14_rs10/video_ad14_rs10.mp4 best4videos/video_ad17_rs10/video_ad17_rs10.mp4\n"
     ]
    }
   ],
   "source": [
    "# SAVING TO ARCHIVE\n",
    "import os\n",
    "\n",
    "files = []\n",
    "for rs in range(11):\n",
    "    for ind in [25, 5, 14, 17, 27]:\n",
    "        path = f\"best4videos/video_ad{ind}_rs{rs}/video_ad{ind}_rs{rs}.mp4\"\n",
    "        if not os.path.exists(path):\n",
    "            continue\n",
    "        # print(path)\n",
    "        files.append(path)\n",
    "\n",
    "command = f'tar -czvf e2e_{len(files)}_examples.tar.gz ' + ' '.join(files)\n",
    "print(command)\n",
    "\n",
    "# !{command}"
   ]
  },
  {
   "cell_type": "code",
   "execution_count": 103,
   "metadata": {},
   "outputs": [
    {
     "name": "stdout",
     "output_type": "stream",
     "text": [
      "Moviepy - Building video tmp_e2e/video_ad27_red/video_ad27_kvm.mp4.\n",
      "MoviePy - Writing audio in video_ad27_kvmTEMP_MPY_wvf_snd.mp3\n"
     ]
    },
    {
     "name": "stderr",
     "output_type": "stream",
     "text": [
      "                                                                  \r"
     ]
    },
    {
     "name": "stdout",
     "output_type": "stream",
     "text": [
      "MoviePy - Done.\n",
      "Moviepy - Writing video tmp_e2e/video_ad27_red/video_ad27_kvm.mp4\n",
      "\n",
      "FPS2= 23.0\n",
      "FPS1= 23.0\n"
     ]
    },
    {
     "name": "stderr",
     "output_type": "stream",
     "text": [
      "                                                              \r"
     ]
    },
    {
     "name": "stdout",
     "output_type": "stream",
     "text": [
      "Moviepy - Done !\n",
      "Moviepy - video ready tmp_e2e/video_ad27_red/video_ad27_kvm.mp4\n",
      "Video processing complete and saved to: tmp_e2e/video_ad27_red/video_ad27_kvm.mp4\n"
     ]
    }
   ],
   "source": [
    "from video_utils.kvm import draw_kvm_on_video\n",
    "\n",
    "draw_kvm_on_video(\n",
    "    'tmp_e2e/video_ad27_red/video_ad27_red.mp4',\n",
    "    'tmp_e2e/video_ad27_red/video_ad27_kvm.mp4',\n",
    "    'tmp_e2e/video_ad27/kvm2.csv',\n",
    ")"
   ]
  },
  {
   "cell_type": "code",
   "execution_count": 107,
   "metadata": {},
   "outputs": [
    {
     "name": "stdout",
     "output_type": "stream",
     "text": [
      "0 25\n"
     ]
    },
    {
     "name": "stderr",
     "output_type": "stream",
     "text": [
      "t:   0%|          | 2/1384 [01:17<14:56:37, 38.93s/it, now=None]"
     ]
    },
    {
     "name": "stdout",
     "output_type": "stream",
     "text": [
      "Moviepy - Building video best4videos/video_ad25_rs0/video_ad25_rs0_kvm.mp4.\n",
      "MoviePy - Writing audio in video_ad25_rs0_kvmTEMP_MPY_wvf_snd.mp3\n"
     ]
    },
    {
     "name": "stderr",
     "output_type": "stream",
     "text": [
      "t:   0%|          | 2/1384 [01:20<15:29:46, 40.37s/it, now=None]"
     ]
    },
    {
     "name": "stdout",
     "output_type": "stream",
     "text": [
      "MoviePy - Done.\n",
      "Moviepy - Writing video best4videos/video_ad25_rs0/video_ad25_rs0_kvm.mp4\n",
      "\n",
      "FPS2= 25.0\n",
      "FPS1= 25.0\n"
     ]
    },
    {
     "name": "stderr",
     "output_type": "stream",
     "text": [
      "t:   0%|          | 2/1384 [02:07<24:29:43, 63.81s/it, now=None]"
     ]
    },
    {
     "name": "stdout",
     "output_type": "stream",
     "text": [
      "Moviepy - Done !\n",
      "Moviepy - video ready best4videos/video_ad25_rs0/video_ad25_rs0_kvm.mp4\n",
      "Video processing complete and saved to: best4videos/video_ad25_rs0/video_ad25_rs0_kvm.mp4\n",
      "0 5\n"
     ]
    },
    {
     "name": "stderr",
     "output_type": "stream",
     "text": [
      "t:   0%|          | 2/1384 [02:31<29:01:06, 75.59s/it, now=None]"
     ]
    },
    {
     "name": "stdout",
     "output_type": "stream",
     "text": [
      "Moviepy - Building video best4videos/video_ad5_rs0/video_ad5_rs0_kvm.mp4.\n",
      "MoviePy - Writing audio in video_ad5_rs0_kvmTEMP_MPY_wvf_snd.mp3\n"
     ]
    },
    {
     "name": "stderr",
     "output_type": "stream",
     "text": [
      "t:   0%|          | 2/1384 [02:32<29:18:49, 76.36s/it, now=None]"
     ]
    },
    {
     "name": "stdout",
     "output_type": "stream",
     "text": [
      "MoviePy - Done.\n",
      "Moviepy - Writing video best4videos/video_ad5_rs0/video_ad5_rs0_kvm.mp4\n",
      "\n",
      "FPS2= 30.0\n",
      "FPS1= 30.0\n"
     ]
    },
    {
     "name": "stderr",
     "output_type": "stream",
     "text": [
      "t:   0%|          | 2/1384 [03:01<34:53:26, 90.89s/it, now=None]"
     ]
    },
    {
     "name": "stdout",
     "output_type": "stream",
     "text": [
      "Moviepy - Done !\n",
      "Moviepy - video ready best4videos/video_ad5_rs0/video_ad5_rs0_kvm.mp4\n",
      "Video processing complete and saved to: best4videos/video_ad5_rs0/video_ad5_rs0_kvm.mp4\n",
      "0 14\n"
     ]
    },
    {
     "name": "stderr",
     "output_type": "stream",
     "text": [
      "t:   0%|          | 2/1384 [03:08<36:08:36, 94.15s/it, now=None]"
     ]
    },
    {
     "name": "stdout",
     "output_type": "stream",
     "text": [
      "Moviepy - Building video best4videos/video_ad14_rs0/video_ad14_rs0_kvm.mp4.\n",
      "MoviePy - Writing audio in video_ad14_rs0_kvmTEMP_MPY_wvf_snd.mp3\n"
     ]
    },
    {
     "name": "stderr",
     "output_type": "stream",
     "text": [
      "t:   0%|          | 2/1384 [03:10<36:32:34, 95.19s/it, now=None]"
     ]
    },
    {
     "name": "stdout",
     "output_type": "stream",
     "text": [
      "MoviePy - Done.\n",
      "Moviepy - Writing video best4videos/video_ad14_rs0/video_ad14_rs0_kvm.mp4\n",
      "\n",
      "FPS2= 25.0\n",
      "FPS1= 25.0\n"
     ]
    },
    {
     "name": "stderr",
     "output_type": "stream",
     "text": [
      "t:   0%|          | 2/1384 [03:19<38:18:17, 99.78s/it, now=None]"
     ]
    },
    {
     "name": "stdout",
     "output_type": "stream",
     "text": [
      "Moviepy - Done !\n",
      "Moviepy - video ready best4videos/video_ad14_rs0/video_ad14_rs0_kvm.mp4\n",
      "Video processing complete and saved to: best4videos/video_ad14_rs0/video_ad14_rs0_kvm.mp4\n",
      "0 17\n"
     ]
    },
    {
     "name": "stderr",
     "output_type": "stream",
     "text": [
      "t:   0%|          | 2/1384 [03:32<40:45:32, 106.17s/it, now=None]"
     ]
    },
    {
     "name": "stdout",
     "output_type": "stream",
     "text": [
      "Moviepy - Building video best4videos/video_ad17_rs0/video_ad17_rs0_kvm.mp4.\n",
      "MoviePy - Writing audio in video_ad17_rs0_kvmTEMP_MPY_wvf_snd.mp3\n"
     ]
    },
    {
     "name": "stderr",
     "output_type": "stream",
     "text": [
      "t:   0%|          | 2/1384 [03:35<41:22:44, 107.79s/it, now=None]"
     ]
    },
    {
     "name": "stdout",
     "output_type": "stream",
     "text": [
      "MoviePy - Done.\n",
      "Moviepy - Writing video best4videos/video_ad17_rs0/video_ad17_rs0_kvm.mp4\n",
      "\n",
      "FPS2= 23.0\n",
      "FPS1= 23.0\n"
     ]
    },
    {
     "name": "stderr",
     "output_type": "stream",
     "text": [
      "t:   0%|          | 2/1384 [03:56<45:27:13, 118.40s/it, now=None]"
     ]
    },
    {
     "name": "stdout",
     "output_type": "stream",
     "text": [
      "Moviepy - Done !\n",
      "Moviepy - video ready best4videos/video_ad17_rs0/video_ad17_rs0_kvm.mp4\n",
      "Video processing complete and saved to: best4videos/video_ad17_rs0/video_ad17_rs0_kvm.mp4\n",
      "0 27\n"
     ]
    },
    {
     "name": "stderr",
     "output_type": "stream",
     "text": [
      "t:   0%|          | 2/1384 [04:01<46:22:41, 120.81s/it, now=None]"
     ]
    },
    {
     "name": "stdout",
     "output_type": "stream",
     "text": [
      "Moviepy - Building video best4videos/video_ad27_rs0/video_ad27_rs0_kvm.mp4.\n",
      "MoviePy - Writing audio in video_ad27_rs0_kvmTEMP_MPY_wvf_snd.mp3\n"
     ]
    },
    {
     "name": "stderr",
     "output_type": "stream",
     "text": [
      "t:   0%|          | 2/1384 [04:02<46:27:56, 121.04s/it, now=None]"
     ]
    },
    {
     "name": "stdout",
     "output_type": "stream",
     "text": [
      "MoviePy - Done.\n",
      "Moviepy - Writing video best4videos/video_ad27_rs0/video_ad27_rs0_kvm.mp4\n",
      "\n",
      "FPS2= 23.0\n",
      "FPS1= 23.0\n"
     ]
    },
    {
     "name": "stderr",
     "output_type": "stream",
     "text": [
      "t:   0%|          | 2/1384 [04:07<47:31:58, 123.82s/it, now=None]"
     ]
    },
    {
     "name": "stdout",
     "output_type": "stream",
     "text": [
      "Moviepy - Done !\n",
      "Moviepy - video ready best4videos/video_ad27_rs0/video_ad27_rs0_kvm.mp4\n",
      "Video processing complete and saved to: best4videos/video_ad27_rs0/video_ad27_rs0_kvm.mp4\n",
      "1 25\n"
     ]
    },
    {
     "name": "stderr",
     "output_type": "stream",
     "text": [
      "t:   0%|          | 2/1384 [04:51<55:59:58, 145.87s/it, now=None]"
     ]
    },
    {
     "name": "stdout",
     "output_type": "stream",
     "text": [
      "Moviepy - Building video best4videos/video_ad25_rs1/video_ad25_rs1_kvm.mp4.\n",
      "MoviePy - Writing audio in video_ad25_rs1_kvmTEMP_MPY_wvf_snd.mp3\n"
     ]
    },
    {
     "name": "stderr",
     "output_type": "stream",
     "text": [
      "t:   0%|          | 2/1384 [04:54<56:31:04, 147.22s/it, now=None]"
     ]
    },
    {
     "name": "stdout",
     "output_type": "stream",
     "text": [
      "MoviePy - Done.\n",
      "Moviepy - Writing video best4videos/video_ad25_rs1/video_ad25_rs1_kvm.mp4\n",
      "\n",
      "FPS2= 25.0\n",
      "FPS1= 25.0\n"
     ]
    },
    {
     "name": "stderr",
     "output_type": "stream",
     "text": [
      "t:   0%|          | 2/1384 [05:39<65:13:48, 169.92s/it, now=None]"
     ]
    },
    {
     "name": "stdout",
     "output_type": "stream",
     "text": [
      "Moviepy - Done !\n",
      "Moviepy - video ready best4videos/video_ad25_rs1/video_ad25_rs1_kvm.mp4\n",
      "Video processing complete and saved to: best4videos/video_ad25_rs1/video_ad25_rs1_kvm.mp4\n",
      "1 5\n"
     ]
    },
    {
     "name": "stderr",
     "output_type": "stream",
     "text": [
      "t:   0%|          | 2/1384 [06:08<70:48:31, 184.45s/it, now=None]"
     ]
    },
    {
     "name": "stdout",
     "output_type": "stream",
     "text": [
      "Moviepy - Building video best4videos/video_ad5_rs1/video_ad5_rs1_kvm.mp4.\n",
      "MoviePy - Writing audio in video_ad5_rs1_kvmTEMP_MPY_wvf_snd.mp3\n"
     ]
    },
    {
     "name": "stderr",
     "output_type": "stream",
     "text": [
      "t:   0%|          | 2/1384 [06:10<71:09:46, 185.37s/it, now=None]"
     ]
    },
    {
     "name": "stdout",
     "output_type": "stream",
     "text": [
      "MoviePy - Done.\n",
      "Moviepy - Writing video best4videos/video_ad5_rs1/video_ad5_rs1_kvm.mp4\n",
      "\n",
      "FPS2= 30.0\n",
      "FPS1= 30.0\n"
     ]
    },
    {
     "name": "stderr",
     "output_type": "stream",
     "text": [
      "t:   0%|          | 2/1384 [06:41<77:05:49, 200.83s/it, now=None]"
     ]
    },
    {
     "name": "stdout",
     "output_type": "stream",
     "text": [
      "Moviepy - Done !\n",
      "Moviepy - video ready best4videos/video_ad5_rs1/video_ad5_rs1_kvm.mp4\n",
      "Video processing complete and saved to: best4videos/video_ad5_rs1/video_ad5_rs1_kvm.mp4\n",
      "1 14\n"
     ]
    },
    {
     "name": "stderr",
     "output_type": "stream",
     "text": [
      "t:   0%|          | 2/1384 [06:49<78:30:26, 204.51s/it, now=None]"
     ]
    },
    {
     "name": "stdout",
     "output_type": "stream",
     "text": [
      "Moviepy - Building video best4videos/video_ad14_rs1/video_ad14_rs1_kvm.mp4.\n",
      "MoviePy - Writing audio in video_ad14_rs1_kvmTEMP_MPY_wvf_snd.mp3\n"
     ]
    },
    {
     "name": "stderr",
     "output_type": "stream",
     "text": [
      "t:   0%|          | 2/1384 [06:51<78:59:06, 205.75s/it, now=None]"
     ]
    },
    {
     "name": "stdout",
     "output_type": "stream",
     "text": [
      "MoviePy - Done.\n",
      "Moviepy - Writing video best4videos/video_ad14_rs1/video_ad14_rs1_kvm.mp4\n",
      "\n",
      "FPS2= 25.0\n",
      "FPS1= 25.0\n"
     ]
    },
    {
     "name": "stderr",
     "output_type": "stream",
     "text": [
      "t:   0%|          | 2/1384 [07:00<80:40:52, 210.17s/it, now=None]"
     ]
    },
    {
     "name": "stdout",
     "output_type": "stream",
     "text": [
      "Moviepy - Done !\n",
      "Moviepy - video ready best4videos/video_ad14_rs1/video_ad14_rs1_kvm.mp4\n",
      "Video processing complete and saved to: best4videos/video_ad14_rs1/video_ad14_rs1_kvm.mp4\n",
      "1 17\n"
     ]
    },
    {
     "name": "stderr",
     "output_type": "stream",
     "text": [
      "t:   0%|          | 2/1384 [07:13<83:10:42, 216.67s/it, now=None]"
     ]
    },
    {
     "name": "stdout",
     "output_type": "stream",
     "text": [
      "Moviepy - Building video best4videos/video_ad17_rs1/video_ad17_rs1_kvm.mp4.\n",
      "MoviePy - Writing audio in video_ad17_rs1_kvmTEMP_MPY_wvf_snd.mp3\n"
     ]
    },
    {
     "name": "stderr",
     "output_type": "stream",
     "text": [
      "t:   0%|          | 2/1384 [07:16<83:49:15, 218.35s/it, now=None]"
     ]
    },
    {
     "name": "stdout",
     "output_type": "stream",
     "text": [
      "MoviePy - Done.\n",
      "Moviepy - Writing video best4videos/video_ad17_rs1/video_ad17_rs1_kvm.mp4\n",
      "\n",
      "FPS2= 23.0\n",
      "FPS1= 23.0\n"
     ]
    },
    {
     "name": "stderr",
     "output_type": "stream",
     "text": [
      "t:   0%|          | 2/1384 [07:37<87:50:03, 228.80s/it, now=None]"
     ]
    },
    {
     "name": "stdout",
     "output_type": "stream",
     "text": [
      "Moviepy - Done !\n",
      "Moviepy - video ready best4videos/video_ad17_rs1/video_ad17_rs1_kvm.mp4\n",
      "Video processing complete and saved to: best4videos/video_ad17_rs1/video_ad17_rs1_kvm.mp4\n",
      "1 27\n"
     ]
    },
    {
     "name": "stderr",
     "output_type": "stream",
     "text": [
      "t:   0%|          | 2/1384 [07:42<88:50:40, 231.43s/it, now=None]"
     ]
    },
    {
     "name": "stdout",
     "output_type": "stream",
     "text": [
      "Moviepy - Building video best4videos/video_ad27_rs1/video_ad27_rs1_kvm.mp4.\n",
      "MoviePy - Writing audio in video_ad27_rs1_kvmTEMP_MPY_wvf_snd.mp3\n"
     ]
    },
    {
     "name": "stderr",
     "output_type": "stream",
     "text": [
      "t:   0%|          | 2/1384 [07:43<88:55:16, 231.63s/it, now=None]"
     ]
    },
    {
     "name": "stdout",
     "output_type": "stream",
     "text": [
      "MoviePy - Done.\n",
      "Moviepy - Writing video best4videos/video_ad27_rs1/video_ad27_rs1_kvm.mp4\n",
      "\n",
      "FPS2= 23.0\n",
      "FPS1= 23.0\n"
     ]
    },
    {
     "name": "stderr",
     "output_type": "stream",
     "text": [
      "t:   0%|          | 2/1384 [07:48<89:58:41, 234.39s/it, now=None]"
     ]
    },
    {
     "name": "stdout",
     "output_type": "stream",
     "text": [
      "Moviepy - Done !\n",
      "Moviepy - video ready best4videos/video_ad27_rs1/video_ad27_rs1_kvm.mp4\n",
      "Video processing complete and saved to: best4videos/video_ad27_rs1/video_ad27_rs1_kvm.mp4\n",
      "2 25\n"
     ]
    },
    {
     "name": "stderr",
     "output_type": "stream",
     "text": [
      "t:   0%|          | 2/1384 [08:31<98:11:33, 255.78s/it, now=None]"
     ]
    },
    {
     "name": "stdout",
     "output_type": "stream",
     "text": [
      "Moviepy - Building video best4videos/video_ad25_rs2/video_ad25_rs2_kvm.mp4.\n",
      "MoviePy - Writing audio in video_ad25_rs2_kvmTEMP_MPY_wvf_snd.mp3\n"
     ]
    },
    {
     "name": "stderr",
     "output_type": "stream",
     "text": [
      "t:   0%|          | 2/1384 [08:34<98:43:03, 257.15s/it, now=None]"
     ]
    },
    {
     "name": "stdout",
     "output_type": "stream",
     "text": [
      "MoviePy - Done.\n",
      "Moviepy - Writing video best4videos/video_ad25_rs2/video_ad25_rs2_kvm.mp4\n",
      "\n",
      "FPS2= 25.0\n",
      "FPS1= 25.0\n"
     ]
    },
    {
     "name": "stderr",
     "output_type": "stream",
     "text": [
      "t:   0%|          | 2/1384 [09:18<107:15:53, 279.42s/it, now=None]"
     ]
    },
    {
     "name": "stdout",
     "output_type": "stream",
     "text": [
      "Moviepy - Done !\n",
      "Moviepy - video ready best4videos/video_ad25_rs2/video_ad25_rs2_kvm.mp4\n",
      "Video processing complete and saved to: best4videos/video_ad25_rs2/video_ad25_rs2_kvm.mp4\n",
      "2 5\n"
     ]
    },
    {
     "name": "stderr",
     "output_type": "stream",
     "text": [
      "t:   0%|          | 2/1384 [09:45<112:19:16, 292.59s/it, now=None]"
     ]
    },
    {
     "name": "stdout",
     "output_type": "stream",
     "text": [
      "Moviepy - Building video best4videos/video_ad5_rs2/video_ad5_rs2_kvm.mp4.\n",
      "MoviePy - Writing audio in video_ad5_rs2_kvmTEMP_MPY_wvf_snd.mp3\n"
     ]
    },
    {
     "name": "stderr",
     "output_type": "stream",
     "text": [
      "t:   0%|          | 2/1384 [09:46<112:37:01, 293.36s/it, now=None]"
     ]
    },
    {
     "name": "stdout",
     "output_type": "stream",
     "text": [
      "MoviePy - Done.\n",
      "Moviepy - Writing video best4videos/video_ad5_rs2/video_ad5_rs2_kvm.mp4\n",
      "\n",
      "FPS2= 30.0\n",
      "FPS1= 30.0\n"
     ]
    },
    {
     "name": "stderr",
     "output_type": "stream",
     "text": [
      "t:   0%|          | 2/1384 [10:15<118:13:32, 307.97s/it, now=None]"
     ]
    },
    {
     "name": "stdout",
     "output_type": "stream",
     "text": [
      "Moviepy - Done !\n",
      "Moviepy - video ready best4videos/video_ad5_rs2/video_ad5_rs2_kvm.mp4\n",
      "Video processing complete and saved to: best4videos/video_ad5_rs2/video_ad5_rs2_kvm.mp4\n",
      "2 14\n"
     ]
    },
    {
     "name": "stderr",
     "output_type": "stream",
     "text": [
      "t:   0%|          | 2/1384 [10:23<119:43:07, 311.86s/it, now=None]"
     ]
    },
    {
     "name": "stdout",
     "output_type": "stream",
     "text": [
      "Moviepy - Building video best4videos/video_ad14_rs2/video_ad14_rs2_kvm.mp4.\n",
      "MoviePy - Writing audio in video_ad14_rs2_kvmTEMP_MPY_wvf_snd.mp3\n"
     ]
    },
    {
     "name": "stderr",
     "output_type": "stream",
     "text": [
      "t:   0%|          | 2/1384 [10:26<120:16:28, 313.31s/it, now=None]"
     ]
    },
    {
     "name": "stdout",
     "output_type": "stream",
     "text": [
      "MoviePy - Done.\n",
      "Moviepy - Writing video best4videos/video_ad14_rs2/video_ad14_rs2_kvm.mp4\n",
      "\n",
      "FPS2= 25.0\n",
      "FPS1= 25.0\n"
     ]
    },
    {
     "name": "stderr",
     "output_type": "stream",
     "text": [
      "t:   0%|          | 2/1384 [10:35<122:00:03, 317.80s/it, now=None]"
     ]
    },
    {
     "name": "stdout",
     "output_type": "stream",
     "text": [
      "Moviepy - Done !\n",
      "Moviepy - video ready best4videos/video_ad14_rs2/video_ad14_rs2_kvm.mp4\n",
      "Video processing complete and saved to: best4videos/video_ad14_rs2/video_ad14_rs2_kvm.mp4\n",
      "2 17\n"
     ]
    },
    {
     "name": "stderr",
     "output_type": "stream",
     "text": [
      "t:   0%|          | 2/1384 [10:48<124:33:10, 324.45s/it, now=None]"
     ]
    },
    {
     "name": "stdout",
     "output_type": "stream",
     "text": [
      "Moviepy - Building video best4videos/video_ad17_rs2/video_ad17_rs2_kvm.mp4.\n",
      "MoviePy - Writing audio in video_ad17_rs2_kvmTEMP_MPY_wvf_snd.mp3\n"
     ]
    },
    {
     "name": "stderr",
     "output_type": "stream",
     "text": [
      "t:   0%|          | 2/1384 [10:53<125:29:54, 326.91s/it, now=None]"
     ]
    },
    {
     "name": "stdout",
     "output_type": "stream",
     "text": [
      "MoviePy - Done.\n",
      "Moviepy - Writing video best4videos/video_ad17_rs2/video_ad17_rs2_kvm.mp4\n",
      "\n",
      "FPS2= 23.0\n",
      "FPS1= 23.0\n"
     ]
    },
    {
     "name": "stderr",
     "output_type": "stream",
     "text": [
      "t:   0%|          | 2/1384 [11:15<129:43:29, 337.92s/it, now=None]"
     ]
    },
    {
     "name": "stdout",
     "output_type": "stream",
     "text": [
      "Moviepy - Done !\n",
      "Moviepy - video ready best4videos/video_ad17_rs2/video_ad17_rs2_kvm.mp4\n",
      "Video processing complete and saved to: best4videos/video_ad17_rs2/video_ad17_rs2_kvm.mp4\n",
      "2 27\n"
     ]
    },
    {
     "name": "stderr",
     "output_type": "stream",
     "text": [
      "t:   0%|          | 2/1384 [11:21<130:43:00, 340.51s/it, now=None]"
     ]
    },
    {
     "name": "stdout",
     "output_type": "stream",
     "text": [
      "Moviepy - Building video best4videos/video_ad27_rs2/video_ad27_rs2_kvm.mp4.\n",
      "MoviePy - Writing audio in video_ad27_rs2_kvmTEMP_MPY_wvf_snd.mp3\n"
     ]
    },
    {
     "name": "stderr",
     "output_type": "stream",
     "text": [
      "t:   0%|          | 2/1384 [11:21<130:48:44, 340.76s/it, now=None]"
     ]
    },
    {
     "name": "stdout",
     "output_type": "stream",
     "text": [
      "MoviePy - Done.\n",
      "Moviepy - Writing video best4videos/video_ad27_rs2/video_ad27_rs2_kvm.mp4\n",
      "\n",
      "FPS2= 23.0\n",
      "FPS1= 23.0\n"
     ]
    },
    {
     "name": "stderr",
     "output_type": "stream",
     "text": [
      "t:   0%|          | 2/1384 [11:27<131:58:41, 343.79s/it, now=None]"
     ]
    },
    {
     "name": "stdout",
     "output_type": "stream",
     "text": [
      "Moviepy - Done !\n",
      "Moviepy - video ready best4videos/video_ad27_rs2/video_ad27_rs2_kvm.mp4\n",
      "Video processing complete and saved to: best4videos/video_ad27_rs2/video_ad27_rs2_kvm.mp4\n",
      "3 25\n"
     ]
    },
    {
     "name": "stderr",
     "output_type": "stream",
     "text": [
      "t:   0%|          | 2/1384 [12:11<140:25:27, 365.79s/it, now=None]"
     ]
    },
    {
     "name": "stdout",
     "output_type": "stream",
     "text": [
      "Moviepy - Building video best4videos/video_ad25_rs3/video_ad25_rs3_kvm.mp4.\n",
      "MoviePy - Writing audio in video_ad25_rs3_kvmTEMP_MPY_wvf_snd.mp3\n"
     ]
    },
    {
     "name": "stderr",
     "output_type": "stream",
     "text": [
      "t:   0%|          | 2/1384 [12:14<140:58:58, 367.25s/it, now=None]"
     ]
    },
    {
     "name": "stdout",
     "output_type": "stream",
     "text": [
      "MoviePy - Done.\n",
      "Moviepy - Writing video best4videos/video_ad25_rs3/video_ad25_rs3_kvm.mp4\n",
      "\n",
      "FPS2= 25.0\n",
      "FPS1= 25.0\n"
     ]
    },
    {
     "name": "stderr",
     "output_type": "stream",
     "text": [
      "t:   0%|          | 2/1384 [12:58<149:26:04, 389.27s/it, now=None]"
     ]
    },
    {
     "name": "stdout",
     "output_type": "stream",
     "text": [
      "Moviepy - Done !\n",
      "Moviepy - video ready best4videos/video_ad25_rs3/video_ad25_rs3_kvm.mp4\n",
      "Video processing complete and saved to: best4videos/video_ad25_rs3/video_ad25_rs3_kvm.mp4\n",
      "3 5\n"
     ]
    },
    {
     "name": "stderr",
     "output_type": "stream",
     "text": [
      "t:   0%|          | 2/1384 [13:24<154:24:14, 402.21s/it, now=None]"
     ]
    },
    {
     "name": "stdout",
     "output_type": "stream",
     "text": [
      "Moviepy - Building video best4videos/video_ad5_rs3/video_ad5_rs3_kvm.mp4.\n",
      "MoviePy - Writing audio in video_ad5_rs3_kvmTEMP_MPY_wvf_snd.mp3\n"
     ]
    },
    {
     "name": "stderr",
     "output_type": "stream",
     "text": [
      "t:   0%|          | 2/1384 [13:25<154:41:32, 402.96s/it, now=None]"
     ]
    },
    {
     "name": "stdout",
     "output_type": "stream",
     "text": [
      "MoviePy - Done.\n",
      "Moviepy - Writing video best4videos/video_ad5_rs3/video_ad5_rs3_kvm.mp4\n",
      "\n",
      "FPS2= 30.0\n",
      "FPS1= 30.0\n"
     ]
    },
    {
     "name": "stderr",
     "output_type": "stream",
     "text": [
      "t:   0%|          | 2/1384 [13:54<160:05:00, 417.00s/it, now=None]"
     ]
    },
    {
     "name": "stdout",
     "output_type": "stream",
     "text": [
      "Moviepy - Done !\n",
      "Moviepy - video ready best4videos/video_ad5_rs3/video_ad5_rs3_kvm.mp4\n",
      "Video processing complete and saved to: best4videos/video_ad5_rs3/video_ad5_rs3_kvm.mp4\n",
      "3 14\n",
      "3 17\n"
     ]
    },
    {
     "name": "stderr",
     "output_type": "stream",
     "text": [
      "t:   0%|          | 2/1384 [14:07<162:41:20, 423.79s/it, now=None]"
     ]
    },
    {
     "name": "stdout",
     "output_type": "stream",
     "text": [
      "Moviepy - Building video best4videos/video_ad17_rs3/video_ad17_rs3_kvm.mp4.\n",
      "MoviePy - Writing audio in video_ad17_rs3_kvmTEMP_MPY_wvf_snd.mp3\n"
     ]
    },
    {
     "name": "stderr",
     "output_type": "stream",
     "text": [
      "t:   0%|          | 2/1384 [14:10<163:18:54, 425.42s/it, now=None]"
     ]
    },
    {
     "name": "stdout",
     "output_type": "stream",
     "text": [
      "MoviePy - Done.\n",
      "Moviepy - Writing video best4videos/video_ad17_rs3/video_ad17_rs3_kvm.mp4\n",
      "\n",
      "FPS2= 23.0\n",
      "FPS1= 23.0\n"
     ]
    },
    {
     "name": "stderr",
     "output_type": "stream",
     "text": [
      "t:   0%|          | 2/1384 [14:32<167:27:17, 436.21s/it, now=None]"
     ]
    },
    {
     "name": "stdout",
     "output_type": "stream",
     "text": [
      "Moviepy - Done !\n",
      "Moviepy - video ready best4videos/video_ad17_rs3/video_ad17_rs3_kvm.mp4\n",
      "Video processing complete and saved to: best4videos/video_ad17_rs3/video_ad17_rs3_kvm.mp4\n",
      "3 27\n"
     ]
    },
    {
     "name": "stderr",
     "output_type": "stream",
     "text": [
      "t:   0%|          | 2/1384 [14:36<168:16:19, 438.34s/it, now=None]"
     ]
    },
    {
     "name": "stdout",
     "output_type": "stream",
     "text": [
      "Moviepy - Building video best4videos/video_ad27_rs3/video_ad27_rs3_kvm.mp4.\n",
      "MoviePy - Writing audio in video_ad27_rs3_kvmTEMP_MPY_wvf_snd.mp3\n"
     ]
    },
    {
     "name": "stderr",
     "output_type": "stream",
     "text": [
      "t:   0%|          | 2/1384 [14:37<168:20:46, 438.53s/it, now=None]"
     ]
    },
    {
     "name": "stdout",
     "output_type": "stream",
     "text": [
      "MoviePy - Done.\n",
      "Moviepy - Writing video best4videos/video_ad27_rs3/video_ad27_rs3_kvm.mp4\n",
      "\n",
      "FPS2= 23.0\n",
      "FPS1= 23.0\n"
     ]
    },
    {
     "name": "stderr",
     "output_type": "stream",
     "text": [
      "t:   0%|          | 2/1384 [14:42<169:18:35, 441.04s/it, now=None]"
     ]
    },
    {
     "name": "stdout",
     "output_type": "stream",
     "text": [
      "Moviepy - Done !\n",
      "Moviepy - video ready best4videos/video_ad27_rs3/video_ad27_rs3_kvm.mp4\n",
      "Video processing complete and saved to: best4videos/video_ad27_rs3/video_ad27_rs3_kvm.mp4\n",
      "4 25\n"
     ]
    },
    {
     "name": "stderr",
     "output_type": "stream",
     "text": [
      "t:   0%|          | 2/1384 [15:25<177:33:18, 462.52s/it, now=None]"
     ]
    },
    {
     "name": "stdout",
     "output_type": "stream",
     "text": [
      "Moviepy - Building video best4videos/video_ad25_rs4/video_ad25_rs4_kvm.mp4.\n",
      "MoviePy - Writing audio in video_ad25_rs4_kvmTEMP_MPY_wvf_snd.mp3\n"
     ]
    },
    {
     "name": "stderr",
     "output_type": "stream",
     "text": [
      "t:   0%|          | 2/1384 [15:27<178:03:11, 463.81s/it, now=None]"
     ]
    },
    {
     "name": "stdout",
     "output_type": "stream",
     "text": [
      "MoviePy - Done.\n",
      "Moviepy - Writing video best4videos/video_ad25_rs4/video_ad25_rs4_kvm.mp4\n",
      "\n",
      "FPS2= 25.0\n",
      "FPS1= 25.0\n"
     ]
    },
    {
     "name": "stderr",
     "output_type": "stream",
     "text": [
      "t:   0%|          | 2/1384 [16:08<185:59:36, 484.50s/it, now=None]"
     ]
    },
    {
     "name": "stdout",
     "output_type": "stream",
     "text": [
      "Moviepy - Done !\n",
      "Moviepy - video ready best4videos/video_ad25_rs4/video_ad25_rs4_kvm.mp4\n",
      "Video processing complete and saved to: best4videos/video_ad25_rs4/video_ad25_rs4_kvm.mp4\n",
      "4 5\n"
     ]
    },
    {
     "name": "stderr",
     "output_type": "stream",
     "text": [
      "t:   0%|          | 2/1384 [16:34<190:52:48, 497.23s/it, now=None]"
     ]
    },
    {
     "name": "stdout",
     "output_type": "stream",
     "text": [
      "Moviepy - Building video best4videos/video_ad5_rs4/video_ad5_rs4_kvm.mp4.\n",
      "MoviePy - Writing audio in video_ad5_rs4_kvmTEMP_MPY_wvf_snd.mp3\n"
     ]
    },
    {
     "name": "stderr",
     "output_type": "stream",
     "text": [
      "t:   0%|          | 2/1384 [16:36<191:11:15, 498.03s/it, now=None]"
     ]
    },
    {
     "name": "stdout",
     "output_type": "stream",
     "text": [
      "MoviePy - Done.\n",
      "Moviepy - Writing video best4videos/video_ad5_rs4/video_ad5_rs4_kvm.mp4\n",
      "\n",
      "FPS2= 30.0\n",
      "FPS1= 30.0\n"
     ]
    },
    {
     "name": "stderr",
     "output_type": "stream",
     "text": [
      "t:   0%|          | 2/1384 [17:05<196:48:05, 512.65s/it, now=None]"
     ]
    },
    {
     "name": "stdout",
     "output_type": "stream",
     "text": [
      "Moviepy - Done !\n",
      "Moviepy - video ready best4videos/video_ad5_rs4/video_ad5_rs4_kvm.mp4\n",
      "Video processing complete and saved to: best4videos/video_ad5_rs4/video_ad5_rs4_kvm.mp4\n",
      "4 14\n"
     ]
    },
    {
     "name": "stderr",
     "output_type": "stream",
     "text": [
      "t:   0%|          | 2/1384 [17:13<198:18:37, 516.58s/it, now=None]"
     ]
    },
    {
     "name": "stdout",
     "output_type": "stream",
     "text": [
      "Moviepy - Building video best4videos/video_ad14_rs4/video_ad14_rs4_kvm.mp4.\n",
      "MoviePy - Writing audio in video_ad14_rs4_kvmTEMP_MPY_wvf_snd.mp3\n"
     ]
    },
    {
     "name": "stderr",
     "output_type": "stream",
     "text": [
      "t:   0%|          | 2/1384 [17:15<198:44:07, 517.69s/it, now=None]"
     ]
    },
    {
     "name": "stdout",
     "output_type": "stream",
     "text": [
      "MoviePy - Done.\n",
      "Moviepy - Writing video best4videos/video_ad14_rs4/video_ad14_rs4_kvm.mp4\n",
      "\n",
      "FPS2= 25.0\n",
      "FPS1= 25.0\n"
     ]
    },
    {
     "name": "stderr",
     "output_type": "stream",
     "text": [
      "t:   0%|          | 2/1384 [17:24<200:26:22, 522.13s/it, now=None]"
     ]
    },
    {
     "name": "stdout",
     "output_type": "stream",
     "text": [
      "Moviepy - Done !\n",
      "Moviepy - video ready best4videos/video_ad14_rs4/video_ad14_rs4_kvm.mp4\n",
      "Video processing complete and saved to: best4videos/video_ad14_rs4/video_ad14_rs4_kvm.mp4\n",
      "4 17\n"
     ]
    },
    {
     "name": "stderr",
     "output_type": "stream",
     "text": [
      "t:   0%|          | 2/1384 [17:37<202:57:51, 528.71s/it, now=None]"
     ]
    },
    {
     "name": "stdout",
     "output_type": "stream",
     "text": [
      "Moviepy - Building video best4videos/video_ad17_rs4/video_ad17_rs4_kvm.mp4.\n",
      "MoviePy - Writing audio in video_ad17_rs4_kvmTEMP_MPY_wvf_snd.mp3\n"
     ]
    },
    {
     "name": "stderr",
     "output_type": "stream",
     "text": [
      "t:   0%|          | 2/1384 [17:40<203:37:03, 530.41s/it, now=None]"
     ]
    },
    {
     "name": "stdout",
     "output_type": "stream",
     "text": [
      "MoviePy - Done.\n",
      "Moviepy - Writing video best4videos/video_ad17_rs4/video_ad17_rs4_kvm.mp4\n",
      "\n",
      "FPS2= 23.0\n",
      "FPS1= 23.0\n"
     ]
    },
    {
     "name": "stderr",
     "output_type": "stream",
     "text": [
      "t:   0%|          | 2/1384 [18:01<207:37:26, 540.84s/it, now=None]"
     ]
    },
    {
     "name": "stdout",
     "output_type": "stream",
     "text": [
      "Moviepy - Done !\n",
      "Moviepy - video ready best4videos/video_ad17_rs4/video_ad17_rs4_kvm.mp4\n",
      "Video processing complete and saved to: best4videos/video_ad17_rs4/video_ad17_rs4_kvm.mp4\n",
      "4 27\n"
     ]
    },
    {
     "name": "stderr",
     "output_type": "stream",
     "text": [
      "t:   0%|          | 2/1384 [18:07<208:41:05, 543.61s/it, now=None]"
     ]
    },
    {
     "name": "stdout",
     "output_type": "stream",
     "text": [
      "Moviepy - Building video best4videos/video_ad27_rs4/video_ad27_rs4_kvm.mp4.\n",
      "MoviePy - Writing audio in video_ad27_rs4_kvmTEMP_MPY_wvf_snd.mp3\n"
     ]
    },
    {
     "name": "stderr",
     "output_type": "stream",
     "text": [
      "t:   0%|          | 2/1384 [18:07<208:46:22, 543.84s/it, now=None]"
     ]
    },
    {
     "name": "stdout",
     "output_type": "stream",
     "text": [
      "MoviePy - Done.\n",
      "Moviepy - Writing video best4videos/video_ad27_rs4/video_ad27_rs4_kvm.mp4\n",
      "\n",
      "FPS2= 23.0\n",
      "FPS1= 23.0\n"
     ]
    },
    {
     "name": "stderr",
     "output_type": "stream",
     "text": [
      "t:   0%|          | 2/1384 [18:13<209:53:54, 546.77s/it, now=None]"
     ]
    },
    {
     "name": "stdout",
     "output_type": "stream",
     "text": [
      "Moviepy - Done !\n",
      "Moviepy - video ready best4videos/video_ad27_rs4/video_ad27_rs4_kvm.mp4\n",
      "Video processing complete and saved to: best4videos/video_ad27_rs4/video_ad27_rs4_kvm.mp4\n",
      "5 25\n"
     ]
    },
    {
     "name": "stderr",
     "output_type": "stream",
     "text": [
      "t:   0%|          | 2/1384 [18:55<217:51:40, 567.51s/it, now=None]"
     ]
    },
    {
     "name": "stdout",
     "output_type": "stream",
     "text": [
      "Moviepy - Building video best4videos/video_ad25_rs5/video_ad25_rs5_kvm.mp4.\n",
      "MoviePy - Writing audio in video_ad25_rs5_kvmTEMP_MPY_wvf_snd.mp3\n"
     ]
    },
    {
     "name": "stderr",
     "output_type": "stream",
     "text": [
      "t:   0%|          | 2/1384 [18:57<218:20:47, 568.78s/it, now=None]"
     ]
    },
    {
     "name": "stdout",
     "output_type": "stream",
     "text": [
      "MoviePy - Done.\n",
      "Moviepy - Writing video best4videos/video_ad25_rs5/video_ad25_rs5_kvm.mp4\n",
      "\n",
      "FPS2= 25.0\n",
      "FPS1= 25.0\n"
     ]
    },
    {
     "name": "stderr",
     "output_type": "stream",
     "text": [
      "t:   0%|          | 2/1384 [19:39<226:21:48, 589.66s/it, now=None]"
     ]
    },
    {
     "name": "stdout",
     "output_type": "stream",
     "text": [
      "Moviepy - Done !\n",
      "Moviepy - video ready best4videos/video_ad25_rs5/video_ad25_rs5_kvm.mp4\n",
      "Video processing complete and saved to: best4videos/video_ad25_rs5/video_ad25_rs5_kvm.mp4\n",
      "5 5\n"
     ]
    },
    {
     "name": "stderr",
     "output_type": "stream",
     "text": [
      "t:   0%|          | 2/1384 [20:04<231:15:40, 602.42s/it, now=None]"
     ]
    },
    {
     "name": "stdout",
     "output_type": "stream",
     "text": [
      "Moviepy - Building video best4videos/video_ad5_rs5/video_ad5_rs5_kvm.mp4.\n",
      "MoviePy - Writing audio in video_ad5_rs5_kvmTEMP_MPY_wvf_snd.mp3\n"
     ]
    },
    {
     "name": "stderr",
     "output_type": "stream",
     "text": [
      "t:   0%|          | 2/1384 [20:06<231:31:39, 603.11s/it, now=None]"
     ]
    },
    {
     "name": "stdout",
     "output_type": "stream",
     "text": [
      "MoviePy - Done.\n",
      "Moviepy - Writing video best4videos/video_ad5_rs5/video_ad5_rs5_kvm.mp4\n",
      "\n",
      "FPS2= 30.0\n",
      "FPS1= 30.0\n"
     ]
    },
    {
     "name": "stderr",
     "output_type": "stream",
     "text": [
      "t:   0%|          | 2/1384 [20:32<236:38:48, 616.45s/it, now=None]"
     ]
    },
    {
     "name": "stdout",
     "output_type": "stream",
     "text": [
      "Moviepy - Done !\n",
      "Moviepy - video ready best4videos/video_ad5_rs5/video_ad5_rs5_kvm.mp4\n",
      "Video processing complete and saved to: best4videos/video_ad5_rs5/video_ad5_rs5_kvm.mp4\n",
      "5 14\n"
     ]
    },
    {
     "name": "stderr",
     "output_type": "stream",
     "text": [
      "t:   0%|          | 2/1384 [20:41<238:13:29, 620.56s/it, now=None]"
     ]
    },
    {
     "name": "stdout",
     "output_type": "stream",
     "text": [
      "Moviepy - Building video best4videos/video_ad14_rs5/video_ad14_rs5_kvm.mp4.\n",
      "MoviePy - Writing audio in video_ad14_rs5_kvmTEMP_MPY_wvf_snd.mp3\n"
     ]
    },
    {
     "name": "stderr",
     "output_type": "stream",
     "text": [
      "t:   0%|          | 2/1384 [20:43<238:42:13, 621.80s/it, now=None]"
     ]
    },
    {
     "name": "stdout",
     "output_type": "stream",
     "text": [
      "MoviePy - Done.\n",
      "Moviepy - Writing video best4videos/video_ad14_rs5/video_ad14_rs5_kvm.mp4\n",
      "\n",
      "FPS2= 25.0\n",
      "FPS1= 25.0\n"
     ]
    },
    {
     "name": "stderr",
     "output_type": "stream",
     "text": [
      "t:   0%|          | 2/1384 [20:52<240:25:01, 626.27s/it, now=None]"
     ]
    },
    {
     "name": "stdout",
     "output_type": "stream",
     "text": [
      "Moviepy - Done !\n",
      "Moviepy - video ready best4videos/video_ad14_rs5/video_ad14_rs5_kvm.mp4\n",
      "Video processing complete and saved to: best4videos/video_ad14_rs5/video_ad14_rs5_kvm.mp4\n",
      "5 17\n"
     ]
    },
    {
     "name": "stderr",
     "output_type": "stream",
     "text": [
      "t:   0%|          | 2/1384 [21:06<243:04:28, 633.19s/it, now=None]"
     ]
    },
    {
     "name": "stdout",
     "output_type": "stream",
     "text": [
      "Moviepy - Building video best4videos/video_ad17_rs5/video_ad17_rs5_kvm.mp4.\n",
      "MoviePy - Writing audio in video_ad17_rs5_kvmTEMP_MPY_wvf_snd.mp3\n"
     ]
    },
    {
     "name": "stderr",
     "output_type": "stream",
     "text": [
      "t:   0%|          | 2/1384 [21:09<243:42:34, 634.84s/it, now=None]"
     ]
    },
    {
     "name": "stdout",
     "output_type": "stream",
     "text": [
      "MoviePy - Done.\n",
      "Moviepy - Writing video best4videos/video_ad17_rs5/video_ad17_rs5_kvm.mp4\n",
      "\n",
      "FPS2= 23.0\n",
      "FPS1= 23.0\n"
     ]
    },
    {
     "name": "stderr",
     "output_type": "stream",
     "text": [
      "t:   0%|          | 2/1384 [21:30<247:42:04, 645.24s/it, now=None]"
     ]
    },
    {
     "name": "stdout",
     "output_type": "stream",
     "text": [
      "Moviepy - Done !\n",
      "Moviepy - video ready best4videos/video_ad17_rs5/video_ad17_rs5_kvm.mp4\n",
      "Video processing complete and saved to: best4videos/video_ad17_rs5/video_ad17_rs5_kvm.mp4\n",
      "5 27\n"
     ]
    },
    {
     "name": "stderr",
     "output_type": "stream",
     "text": [
      "t:   0%|          | 2/1384 [21:36<248:50:39, 648.22s/it, now=None]"
     ]
    },
    {
     "name": "stdout",
     "output_type": "stream",
     "text": [
      "Moviepy - Building video best4videos/video_ad27_rs5/video_ad27_rs5_kvm.mp4.\n",
      "MoviePy - Writing audio in video_ad27_rs5_kvmTEMP_MPY_wvf_snd.mp3\n"
     ]
    },
    {
     "name": "stderr",
     "output_type": "stream",
     "text": [
      "t:   0%|          | 2/1384 [21:37<248:57:07, 648.50s/it, now=None]"
     ]
    },
    {
     "name": "stdout",
     "output_type": "stream",
     "text": [
      "MoviePy - Done.\n",
      "Moviepy - Writing video best4videos/video_ad27_rs5/video_ad27_rs5_kvm.mp4\n",
      "\n",
      "FPS2= 23.0\n",
      "FPS1= 23.0\n"
     ]
    },
    {
     "name": "stderr",
     "output_type": "stream",
     "text": [
      "t:   0%|          | 2/1384 [21:43<250:14:44, 651.87s/it, now=None]"
     ]
    },
    {
     "name": "stdout",
     "output_type": "stream",
     "text": [
      "Moviepy - Done !\n",
      "Moviepy - video ready best4videos/video_ad27_rs5/video_ad27_rs5_kvm.mp4\n",
      "Video processing complete and saved to: best4videos/video_ad27_rs5/video_ad27_rs5_kvm.mp4\n",
      "6 25\n"
     ]
    },
    {
     "name": "stderr",
     "output_type": "stream",
     "text": [
      "t:   0%|          | 2/1384 [22:30<259:14:49, 675.32s/it, now=None]"
     ]
    },
    {
     "name": "stdout",
     "output_type": "stream",
     "text": [
      "Moviepy - Building video best4videos/video_ad25_rs6/video_ad25_rs6_kvm.mp4.\n",
      "MoviePy - Writing audio in video_ad25_rs6_kvmTEMP_MPY_wvf_snd.mp3\n"
     ]
    },
    {
     "name": "stderr",
     "output_type": "stream",
     "text": [
      "t:   0%|          | 2/1384 [22:33<259:45:35, 676.65s/it, now=None]"
     ]
    },
    {
     "name": "stdout",
     "output_type": "stream",
     "text": [
      "MoviePy - Done.\n",
      "Moviepy - Writing video best4videos/video_ad25_rs6/video_ad25_rs6_kvm.mp4\n",
      "\n",
      "FPS2= 25.0\n",
      "FPS1= 25.0\n"
     ]
    },
    {
     "name": "stderr",
     "output_type": "stream",
     "text": [
      "t:   0%|          | 2/1384 [23:14<267:44:23, 697.44s/it, now=None]"
     ]
    },
    {
     "name": "stdout",
     "output_type": "stream",
     "text": [
      "Moviepy - Done !\n",
      "Moviepy - video ready best4videos/video_ad25_rs6/video_ad25_rs6_kvm.mp4\n",
      "Video processing complete and saved to: best4videos/video_ad25_rs6/video_ad25_rs6_kvm.mp4\n",
      "6 5\n"
     ]
    },
    {
     "name": "stderr",
     "output_type": "stream",
     "text": [
      "t:   0%|          | 2/1384 [23:39<272:25:27, 709.64s/it, now=None]"
     ]
    },
    {
     "name": "stdout",
     "output_type": "stream",
     "text": [
      "Moviepy - Building video best4videos/video_ad5_rs6/video_ad5_rs6_kvm.mp4.\n",
      "MoviePy - Writing audio in video_ad5_rs6_kvmTEMP_MPY_wvf_snd.mp3\n"
     ]
    },
    {
     "name": "stderr",
     "output_type": "stream",
     "text": [
      "t:   0%|          | 2/1384 [23:40<272:40:09, 710.28s/it, now=None]"
     ]
    },
    {
     "name": "stdout",
     "output_type": "stream",
     "text": [
      "MoviePy - Done.\n",
      "Moviepy - Writing video best4videos/video_ad5_rs6/video_ad5_rs6_kvm.mp4\n",
      "\n",
      "FPS2= 30.0\n",
      "FPS1= 30.0\n"
     ]
    },
    {
     "name": "stderr",
     "output_type": "stream",
     "text": [
      "t:   0%|          | 2/1384 [24:08<278:02:55, 724.30s/it, now=None]"
     ]
    },
    {
     "name": "stdout",
     "output_type": "stream",
     "text": [
      "Moviepy - Done !\n",
      "Moviepy - video ready best4videos/video_ad5_rs6/video_ad5_rs6_kvm.mp4\n",
      "Video processing complete and saved to: best4videos/video_ad5_rs6/video_ad5_rs6_kvm.mp4\n",
      "6 14\n"
     ]
    },
    {
     "name": "stderr",
     "output_type": "stream",
     "text": [
      "t:   0%|          | 2/1384 [24:16<279:32:41, 728.19s/it, now=None]"
     ]
    },
    {
     "name": "stdout",
     "output_type": "stream",
     "text": [
      "Moviepy - Building video best4videos/video_ad14_rs6/video_ad14_rs6_kvm.mp4.\n",
      "MoviePy - Writing audio in video_ad14_rs6_kvmTEMP_MPY_wvf_snd.mp3\n"
     ]
    },
    {
     "name": "stderr",
     "output_type": "stream",
     "text": [
      "t:   0%|          | 2/1384 [24:18<279:59:27, 729.35s/it, now=None]"
     ]
    },
    {
     "name": "stdout",
     "output_type": "stream",
     "text": [
      "MoviePy - Done.\n",
      "Moviepy - Writing video best4videos/video_ad14_rs6/video_ad14_rs6_kvm.mp4\n",
      "\n",
      "FPS2= 25.0\n",
      "FPS1= 25.0\n"
     ]
    },
    {
     "name": "stderr",
     "output_type": "stream",
     "text": [
      "t:   0%|          | 2/1384 [24:27<281:44:51, 733.93s/it, now=None]"
     ]
    },
    {
     "name": "stdout",
     "output_type": "stream",
     "text": [
      "Moviepy - Done !\n",
      "Moviepy - video ready best4videos/video_ad14_rs6/video_ad14_rs6_kvm.mp4\n",
      "Video processing complete and saved to: best4videos/video_ad14_rs6/video_ad14_rs6_kvm.mp4\n",
      "6 17\n"
     ]
    },
    {
     "name": "stderr",
     "output_type": "stream",
     "text": [
      "t:   0%|          | 2/1384 [24:41<284:23:59, 740.84s/it, now=None]"
     ]
    },
    {
     "name": "stdout",
     "output_type": "stream",
     "text": [
      "Moviepy - Building video best4videos/video_ad17_rs6/video_ad17_rs6_kvm.mp4.\n",
      "MoviePy - Writing audio in video_ad17_rs6_kvmTEMP_MPY_wvf_snd.mp3\n"
     ]
    },
    {
     "name": "stderr",
     "output_type": "stream",
     "text": [
      "t:   0%|          | 2/1384 [24:45<285:04:02, 742.58s/it, now=None]"
     ]
    },
    {
     "name": "stdout",
     "output_type": "stream",
     "text": [
      "MoviePy - Done.\n",
      "Moviepy - Writing video best4videos/video_ad17_rs6/video_ad17_rs6_kvm.mp4\n",
      "\n",
      "FPS2= 23.0\n",
      "FPS1= 23.0\n"
     ]
    },
    {
     "name": "stderr",
     "output_type": "stream",
     "text": [
      "t:   0%|          | 2/1384 [25:07<289:19:02, 753.65s/it, now=None]"
     ]
    },
    {
     "name": "stdout",
     "output_type": "stream",
     "text": [
      "Moviepy - Done !\n",
      "Moviepy - video ready best4videos/video_ad17_rs6/video_ad17_rs6_kvm.mp4\n",
      "Video processing complete and saved to: best4videos/video_ad17_rs6/video_ad17_rs6_kvm.mp4\n",
      "6 27\n"
     ]
    },
    {
     "name": "stderr",
     "output_type": "stream",
     "text": [
      "t:   0%|          | 2/1384 [25:12<290:24:03, 756.47s/it, now=None]"
     ]
    },
    {
     "name": "stdout",
     "output_type": "stream",
     "text": [
      "Moviepy - Building video best4videos/video_ad27_rs6/video_ad27_rs6_kvm.mp4.\n",
      "MoviePy - Writing audio in video_ad27_rs6_kvmTEMP_MPY_wvf_snd.mp3\n"
     ]
    },
    {
     "name": "stderr",
     "output_type": "stream",
     "text": [
      "t:   0%|          | 2/1384 [25:13<290:29:24, 756.70s/it, now=None]"
     ]
    },
    {
     "name": "stdout",
     "output_type": "stream",
     "text": [
      "MoviePy - Done.\n",
      "Moviepy - Writing video best4videos/video_ad27_rs6/video_ad27_rs6_kvm.mp4\n",
      "\n",
      "FPS2= 23.0\n",
      "FPS1= 23.0\n"
     ]
    },
    {
     "name": "stderr",
     "output_type": "stream",
     "text": [
      "t:   0%|          | 2/1384 [25:20<291:47:49, 760.11s/it, now=None]"
     ]
    },
    {
     "name": "stdout",
     "output_type": "stream",
     "text": [
      "Moviepy - Done !\n",
      "Moviepy - video ready best4videos/video_ad27_rs6/video_ad27_rs6_kvm.mp4\n",
      "Video processing complete and saved to: best4videos/video_ad27_rs6/video_ad27_rs6_kvm.mp4\n",
      "7 25\n"
     ]
    },
    {
     "name": "stderr",
     "output_type": "stream",
     "text": [
      "t:   0%|          | 2/1384 [26:04<300:23:30, 782.50s/it, now=None]"
     ]
    },
    {
     "name": "stdout",
     "output_type": "stream",
     "text": [
      "Moviepy - Building video best4videos/video_ad25_rs7/video_ad25_rs7_kvm.mp4.\n",
      "MoviePy - Writing audio in video_ad25_rs7_kvmTEMP_MPY_wvf_snd.mp3\n"
     ]
    },
    {
     "name": "stderr",
     "output_type": "stream",
     "text": [
      "t:   0%|          | 2/1384 [26:07<300:53:21, 783.79s/it, now=None]"
     ]
    },
    {
     "name": "stdout",
     "output_type": "stream",
     "text": [
      "MoviePy - Done.\n",
      "Moviepy - Writing video best4videos/video_ad25_rs7/video_ad25_rs7_kvm.mp4\n",
      "\n",
      "FPS2= 25.0\n",
      "FPS1= 25.0\n"
     ]
    },
    {
     "name": "stderr",
     "output_type": "stream",
     "text": [
      "t:   0%|          | 2/1384 [26:49<308:58:20, 804.85s/it, now=None]"
     ]
    },
    {
     "name": "stdout",
     "output_type": "stream",
     "text": [
      "Moviepy - Done !\n",
      "Moviepy - video ready best4videos/video_ad25_rs7/video_ad25_rs7_kvm.mp4\n",
      "Video processing complete and saved to: best4videos/video_ad25_rs7/video_ad25_rs7_kvm.mp4\n",
      "7 5\n"
     ]
    },
    {
     "name": "stderr",
     "output_type": "stream",
     "text": [
      "t:   0%|          | 2/1384 [27:14<313:43:00, 817.21s/it, now=None]"
     ]
    },
    {
     "name": "stdout",
     "output_type": "stream",
     "text": [
      "Moviepy - Building video best4videos/video_ad5_rs7/video_ad5_rs7_kvm.mp4.\n",
      "MoviePy - Writing audio in video_ad5_rs7_kvmTEMP_MPY_wvf_snd.mp3\n"
     ]
    },
    {
     "name": "stderr",
     "output_type": "stream",
     "text": [
      "t:   0%|          | 2/1384 [27:15<313:59:06, 817.91s/it, now=None]"
     ]
    },
    {
     "name": "stdout",
     "output_type": "stream",
     "text": [
      "MoviePy - Done.\n",
      "Moviepy - Writing video best4videos/video_ad5_rs7/video_ad5_rs7_kvm.mp4\n",
      "\n",
      "FPS2= 30.0\n",
      "FPS1= 30.0\n"
     ]
    },
    {
     "name": "stderr",
     "output_type": "stream",
     "text": [
      "t:   0%|          | 2/1384 [27:40<318:47:28, 830.43s/it, now=None]"
     ]
    },
    {
     "name": "stdout",
     "output_type": "stream",
     "text": [
      "Moviepy - Done !\n",
      "Moviepy - video ready best4videos/video_ad5_rs7/video_ad5_rs7_kvm.mp4\n",
      "Video processing complete and saved to: best4videos/video_ad5_rs7/video_ad5_rs7_kvm.mp4\n",
      "7 14\n"
     ]
    },
    {
     "name": "stderr",
     "output_type": "stream",
     "text": [
      "t:   0%|          | 2/1384 [27:48<320:13:42, 834.17s/it, now=None]"
     ]
    },
    {
     "name": "stdout",
     "output_type": "stream",
     "text": [
      "Moviepy - Building video best4videos/video_ad14_rs7/video_ad14_rs7_kvm.mp4.\n",
      "MoviePy - Writing audio in video_ad14_rs7_kvmTEMP_MPY_wvf_snd.mp3\n"
     ]
    },
    {
     "name": "stderr",
     "output_type": "stream",
     "text": [
      "t:   0%|          | 2/1384 [27:51<320:49:20, 835.72s/it, now=None]"
     ]
    },
    {
     "name": "stdout",
     "output_type": "stream",
     "text": [
      "MoviePy - Done.\n",
      "Moviepy - Writing video best4videos/video_ad14_rs7/video_ad14_rs7_kvm.mp4\n",
      "\n",
      "FPS2= 25.0\n",
      "FPS1= 25.0\n"
     ]
    },
    {
     "name": "stderr",
     "output_type": "stream",
     "text": [
      "t:   0%|          | 2/1384 [28:00<322:33:26, 840.24s/it, now=None]"
     ]
    },
    {
     "name": "stdout",
     "output_type": "stream",
     "text": [
      "Moviepy - Done !\n",
      "Moviepy - video ready best4videos/video_ad14_rs7/video_ad14_rs7_kvm.mp4\n",
      "Video processing complete and saved to: best4videos/video_ad14_rs7/video_ad14_rs7_kvm.mp4\n",
      "7 17\n"
     ]
    },
    {
     "name": "stderr",
     "output_type": "stream",
     "text": [
      "t:   0%|          | 2/1384 [28:13<325:05:05, 846.82s/it, now=None]"
     ]
    },
    {
     "name": "stdout",
     "output_type": "stream",
     "text": [
      "Moviepy - Building video best4videos/video_ad17_rs7/video_ad17_rs7_kvm.mp4.\n",
      "MoviePy - Writing audio in video_ad17_rs7_kvmTEMP_MPY_wvf_snd.mp3\n"
     ]
    },
    {
     "name": "stderr",
     "output_type": "stream",
     "text": [
      "t:   0%|          | 2/1384 [28:19<326:06:58, 849.51s/it, now=None]"
     ]
    },
    {
     "name": "stdout",
     "output_type": "stream",
     "text": [
      "MoviePy - Done.\n",
      "Moviepy - Writing video best4videos/video_ad17_rs7/video_ad17_rs7_kvm.mp4\n",
      "\n",
      "FPS2= 23.0\n",
      "FPS1= 23.0\n"
     ]
    },
    {
     "name": "stderr",
     "output_type": "stream",
     "text": [
      "t:   0%|          | 2/1384 [28:42<330:33:54, 861.10s/it, now=None]"
     ]
    },
    {
     "name": "stdout",
     "output_type": "stream",
     "text": [
      "Moviepy - Done !\n",
      "Moviepy - video ready best4videos/video_ad17_rs7/video_ad17_rs7_kvm.mp4\n",
      "Video processing complete and saved to: best4videos/video_ad17_rs7/video_ad17_rs7_kvm.mp4\n",
      "7 27\n"
     ]
    },
    {
     "name": "stderr",
     "output_type": "stream",
     "text": [
      "t:   0%|          | 2/1384 [28:48<331:48:15, 864.32s/it, now=None]"
     ]
    },
    {
     "name": "stdout",
     "output_type": "stream",
     "text": [
      "Moviepy - Building video best4videos/video_ad27_rs7/video_ad27_rs7_kvm.mp4.\n",
      "MoviePy - Writing audio in video_ad27_rs7_kvmTEMP_MPY_wvf_snd.mp3\n"
     ]
    },
    {
     "name": "stderr",
     "output_type": "stream",
     "text": [
      "t:   0%|          | 2/1384 [28:49<331:52:52, 864.52s/it, now=None]"
     ]
    },
    {
     "name": "stdout",
     "output_type": "stream",
     "text": [
      "MoviePy - Done.\n",
      "Moviepy - Writing video best4videos/video_ad27_rs7/video_ad27_rs7_kvm.mp4\n",
      "\n",
      "FPS2= 23.0\n",
      "FPS1= 23.0\n"
     ]
    },
    {
     "name": "stderr",
     "output_type": "stream",
     "text": [
      "t:   0%|          | 2/1384 [28:54<332:54:15, 867.19s/it, now=None]"
     ]
    },
    {
     "name": "stdout",
     "output_type": "stream",
     "text": [
      "Moviepy - Done !\n",
      "Moviepy - video ready best4videos/video_ad27_rs7/video_ad27_rs7_kvm.mp4\n",
      "Video processing complete and saved to: best4videos/video_ad27_rs7/video_ad27_rs7_kvm.mp4\n",
      "8 25\n"
     ]
    },
    {
     "name": "stderr",
     "output_type": "stream",
     "text": [
      "t:   0%|          | 2/1384 [29:47<343:06:23, 893.77s/it, now=None]"
     ]
    },
    {
     "name": "stdout",
     "output_type": "stream",
     "text": [
      "Moviepy - Building video best4videos/video_ad25_rs8/video_ad25_rs8_kvm.mp4.\n",
      "MoviePy - Writing audio in video_ad25_rs8_kvmTEMP_MPY_wvf_snd.mp3\n"
     ]
    },
    {
     "name": "stderr",
     "output_type": "stream",
     "text": [
      "t:   0%|          | 2/1384 [29:51<343:46:48, 895.52s/it, now=None]"
     ]
    },
    {
     "name": "stdout",
     "output_type": "stream",
     "text": [
      "MoviePy - Done.\n",
      "Moviepy - Writing video best4videos/video_ad25_rs8/video_ad25_rs8_kvm.mp4\n",
      "\n",
      "FPS2= 25.0\n",
      "FPS1= 25.0\n"
     ]
    },
    {
     "name": "stderr",
     "output_type": "stream",
     "text": [
      "t:   0%|          | 2/1384 [30:40<353:15:04, 920.19s/it, now=None]"
     ]
    },
    {
     "name": "stdout",
     "output_type": "stream",
     "text": [
      "Moviepy - Done !\n",
      "Moviepy - video ready best4videos/video_ad25_rs8/video_ad25_rs8_kvm.mp4\n",
      "Video processing complete and saved to: best4videos/video_ad25_rs8/video_ad25_rs8_kvm.mp4\n",
      "8 5\n"
     ]
    },
    {
     "name": "stderr",
     "output_type": "stream",
     "text": [
      "t:   0%|          | 2/1384 [31:05<358:09:08, 932.96s/it, now=None]"
     ]
    },
    {
     "name": "stdout",
     "output_type": "stream",
     "text": [
      "Moviepy - Building video best4videos/video_ad5_rs8/video_ad5_rs8_kvm.mp4.\n",
      "MoviePy - Writing audio in video_ad5_rs8_kvmTEMP_MPY_wvf_snd.mp3\n"
     ]
    },
    {
     "name": "stderr",
     "output_type": "stream",
     "text": [
      "t:   0%|          | 2/1384 [31:06<358:19:05, 933.39s/it, now=None]"
     ]
    },
    {
     "name": "stdout",
     "output_type": "stream",
     "text": [
      "MoviePy - Done.\n",
      "Moviepy - Writing video best4videos/video_ad5_rs8/video_ad5_rs8_kvm.mp4\n",
      "\n",
      "FPS2= 30.0\n",
      "FPS1= 30.0\n"
     ]
    },
    {
     "name": "stderr",
     "output_type": "stream",
     "text": [
      "t:   0%|          | 2/1384 [31:23<361:35:53, 941.93s/it, now=None]"
     ]
    },
    {
     "name": "stdout",
     "output_type": "stream",
     "text": [
      "Moviepy - Done !\n",
      "Moviepy - video ready best4videos/video_ad5_rs8/video_ad5_rs8_kvm.mp4\n",
      "Video processing complete and saved to: best4videos/video_ad5_rs8/video_ad5_rs8_kvm.mp4\n",
      "8 14\n"
     ]
    },
    {
     "name": "stderr",
     "output_type": "stream",
     "text": [
      "t:   0%|          | 2/1384 [31:28<362:31:25, 944.35s/it, now=None]"
     ]
    },
    {
     "name": "stdout",
     "output_type": "stream",
     "text": [
      "Moviepy - Building video best4videos/video_ad14_rs8/video_ad14_rs8_kvm.mp4.\n",
      "MoviePy - Writing audio in video_ad14_rs8_kvmTEMP_MPY_wvf_snd.mp3\n"
     ]
    },
    {
     "name": "stderr",
     "output_type": "stream",
     "text": [
      "t:   0%|          | 2/1384 [31:31<363:01:15, 945.64s/it, now=None]"
     ]
    },
    {
     "name": "stdout",
     "output_type": "stream",
     "text": [
      "MoviePy - Done.\n",
      "Moviepy - Writing video best4videos/video_ad14_rs8/video_ad14_rs8_kvm.mp4\n",
      "\n",
      "FPS2= 25.0\n",
      "FPS1= 25.0\n"
     ]
    },
    {
     "name": "stderr",
     "output_type": "stream",
     "text": [
      "t:   0%|          | 2/1384 [31:41<365:02:29, 950.90s/it, now=None]"
     ]
    },
    {
     "name": "stdout",
     "output_type": "stream",
     "text": [
      "Moviepy - Done !\n",
      "Moviepy - video ready best4videos/video_ad14_rs8/video_ad14_rs8_kvm.mp4\n",
      "Video processing complete and saved to: best4videos/video_ad14_rs8/video_ad14_rs8_kvm.mp4\n",
      "8 17\n"
     ]
    },
    {
     "name": "stderr",
     "output_type": "stream",
     "text": [
      "t:   0%|          | 2/1384 [31:56<367:50:41, 958.21s/it, now=None]"
     ]
    },
    {
     "name": "stdout",
     "output_type": "stream",
     "text": [
      "Moviepy - Building video best4videos/video_ad17_rs8/video_ad17_rs8_kvm.mp4.\n",
      "MoviePy - Writing audio in video_ad17_rs8_kvmTEMP_MPY_wvf_snd.mp3\n"
     ]
    },
    {
     "name": "stderr",
     "output_type": "stream",
     "text": [
      "t:   0%|          | 2/1384 [31:59<368:22:41, 959.60s/it, now=None]"
     ]
    },
    {
     "name": "stdout",
     "output_type": "stream",
     "text": [
      "MoviePy - Done.\n",
      "Moviepy - Writing video best4videos/video_ad17_rs8/video_ad17_rs8_kvm.mp4\n",
      "\n",
      "FPS2= 23.0\n",
      "FPS1= 23.0\n"
     ]
    },
    {
     "name": "stderr",
     "output_type": "stream",
     "text": [
      "t:   0%|          | 2/1384 [32:25<373:24:12, 972.69s/it, now=None]"
     ]
    },
    {
     "name": "stdout",
     "output_type": "stream",
     "text": [
      "Moviepy - Done !\n",
      "Moviepy - video ready best4videos/video_ad17_rs8/video_ad17_rs8_kvm.mp4\n",
      "Video processing complete and saved to: best4videos/video_ad17_rs8/video_ad17_rs8_kvm.mp4\n",
      "8 27\n",
      "9 25\n"
     ]
    },
    {
     "name": "stderr",
     "output_type": "stream",
     "text": [
      "t:   0%|          | 2/1384 [33:18<383:40:07, 999.43s/it, now=None]"
     ]
    },
    {
     "name": "stdout",
     "output_type": "stream",
     "text": [
      "Moviepy - Building video best4videos/video_ad25_rs9/video_ad25_rs9_kvm.mp4.\n",
      "MoviePy - Writing audio in video_ad25_rs9_kvmTEMP_MPY_wvf_snd.mp3\n"
     ]
    },
    {
     "name": "stderr",
     "output_type": "stream",
     "text": [
      "t:   0%|          | 2/1384 [33:22<384:16:23, 1001.00s/it, now=None]"
     ]
    },
    {
     "name": "stdout",
     "output_type": "stream",
     "text": [
      "MoviePy - Done.\n",
      "Moviepy - Writing video best4videos/video_ad25_rs9/video_ad25_rs9_kvm.mp4\n",
      "\n",
      "FPS2= 25.0\n",
      "FPS1= 25.0\n"
     ]
    },
    {
     "name": "stderr",
     "output_type": "stream",
     "text": [
      "t:   0%|          | 2/1384 [34:09<393:21:13, 1024.66s/it, now=None]"
     ]
    },
    {
     "name": "stdout",
     "output_type": "stream",
     "text": [
      "Moviepy - Done !\n",
      "Moviepy - video ready best4videos/video_ad25_rs9/video_ad25_rs9_kvm.mp4\n",
      "Video processing complete and saved to: best4videos/video_ad25_rs9/video_ad25_rs9_kvm.mp4\n",
      "9 5\n"
     ]
    },
    {
     "name": "stderr",
     "output_type": "stream",
     "text": [
      "t:   0%|          | 2/1384 [34:37<398:41:07, 1038.54s/it, now=None]"
     ]
    },
    {
     "name": "stdout",
     "output_type": "stream",
     "text": [
      "Moviepy - Building video best4videos/video_ad5_rs9/video_ad5_rs9_kvm.mp4.\n",
      "MoviePy - Writing audio in video_ad5_rs9_kvmTEMP_MPY_wvf_snd.mp3\n"
     ]
    },
    {
     "name": "stderr",
     "output_type": "stream",
     "text": [
      "t:   0%|          | 2/1384 [34:38<398:59:37, 1039.35s/it, now=None]"
     ]
    },
    {
     "name": "stdout",
     "output_type": "stream",
     "text": [
      "MoviePy - Done.\n",
      "Moviepy - Writing video best4videos/video_ad5_rs9/video_ad5_rs9_kvm.mp4\n",
      "\n",
      "FPS2= 30.0\n",
      "FPS1= 30.0\n"
     ]
    },
    {
     "name": "stderr",
     "output_type": "stream",
     "text": [
      "t:   0%|          | 2/1384 [35:08<404:38:11, 1054.05s/it, now=None]"
     ]
    },
    {
     "name": "stdout",
     "output_type": "stream",
     "text": [
      "Moviepy - Done !\n",
      "Moviepy - video ready best4videos/video_ad5_rs9/video_ad5_rs9_kvm.mp4\n",
      "Video processing complete and saved to: best4videos/video_ad5_rs9/video_ad5_rs9_kvm.mp4\n",
      "9 14\n"
     ]
    },
    {
     "name": "stderr",
     "output_type": "stream",
     "text": [
      "t:   0%|          | 2/1384 [35:15<406:00:28, 1057.62s/it, now=None]"
     ]
    },
    {
     "name": "stdout",
     "output_type": "stream",
     "text": [
      "Moviepy - Building video best4videos/video_ad14_rs9/video_ad14_rs9_kvm.mp4.\n",
      "MoviePy - Writing audio in video_ad14_rs9_kvmTEMP_MPY_wvf_snd.mp3\n"
     ]
    },
    {
     "name": "stderr",
     "output_type": "stream",
     "text": [
      "t:   0%|          | 2/1384 [35:17<406:27:49, 1058.81s/it, now=None]"
     ]
    },
    {
     "name": "stdout",
     "output_type": "stream",
     "text": [
      "MoviePy - Done.\n",
      "Moviepy - Writing video best4videos/video_ad14_rs9/video_ad14_rs9_kvm.mp4\n",
      "\n",
      "FPS2= 25.0\n",
      "FPS1= 25.0\n"
     ]
    },
    {
     "name": "stderr",
     "output_type": "stream",
     "text": [
      "t:   0%|          | 2/1384 [35:26<408:07:15, 1063.12s/it, now=None]"
     ]
    },
    {
     "name": "stdout",
     "output_type": "stream",
     "text": [
      "Moviepy - Done !\n",
      "Moviepy - video ready best4videos/video_ad14_rs9/video_ad14_rs9_kvm.mp4\n",
      "Video processing complete and saved to: best4videos/video_ad14_rs9/video_ad14_rs9_kvm.mp4\n",
      "9 17\n"
     ]
    },
    {
     "name": "stderr",
     "output_type": "stream",
     "text": [
      "t:   0%|          | 2/1384 [35:39<410:35:03, 1069.54s/it, now=None]"
     ]
    },
    {
     "name": "stdout",
     "output_type": "stream",
     "text": [
      "Moviepy - Building video best4videos/video_ad17_rs9/video_ad17_rs9_kvm.mp4.\n",
      "MoviePy - Writing audio in video_ad17_rs9_kvmTEMP_MPY_wvf_snd.mp3\n"
     ]
    },
    {
     "name": "stderr",
     "output_type": "stream",
     "text": [
      "t:   0%|          | 2/1384 [35:42<411:09:07, 1071.02s/it, now=None]"
     ]
    },
    {
     "name": "stdout",
     "output_type": "stream",
     "text": [
      "MoviePy - Done.\n",
      "Moviepy - Writing video best4videos/video_ad17_rs9/video_ad17_rs9_kvm.mp4\n",
      "\n",
      "FPS2= 23.0\n",
      "FPS1= 23.0\n"
     ]
    },
    {
     "name": "stderr",
     "output_type": "stream",
     "text": [
      "t:   0%|          | 2/1384 [36:02<415:02:19, 1081.14s/it, now=None]"
     ]
    },
    {
     "name": "stdout",
     "output_type": "stream",
     "text": [
      "Moviepy - Done !\n",
      "Moviepy - video ready best4videos/video_ad17_rs9/video_ad17_rs9_kvm.mp4\n",
      "Video processing complete and saved to: best4videos/video_ad17_rs9/video_ad17_rs9_kvm.mp4\n",
      "9 27\n",
      "10 25\n"
     ]
    },
    {
     "name": "stderr",
     "output_type": "stream",
     "text": [
      "t:   0%|          | 2/1384 [36:41<422:28:24, 1100.51s/it, now=None]"
     ]
    },
    {
     "name": "stdout",
     "output_type": "stream",
     "text": [
      "Moviepy - Building video best4videos/video_ad25_rs10/video_ad25_rs10_kvm.mp4.\n",
      "MoviePy - Writing audio in video_ad25_rs10_kvmTEMP_MPY_wvf_snd.mp3\n"
     ]
    },
    {
     "name": "stderr",
     "output_type": "stream",
     "text": [
      "t:   0%|          | 2/1384 [36:43<423:00:07, 1101.89s/it, now=None]"
     ]
    },
    {
     "name": "stdout",
     "output_type": "stream",
     "text": [
      "MoviePy - Done.\n",
      "Moviepy - Writing video best4videos/video_ad25_rs10/video_ad25_rs10_kvm.mp4\n",
      "\n",
      "FPS2= 25.0\n",
      "FPS1= 25.0\n"
     ]
    },
    {
     "name": "stderr",
     "output_type": "stream",
     "text": [
      "t:   0%|          | 2/1384 [37:26<431:06:46, 1123.01s/it, now=None]"
     ]
    },
    {
     "name": "stdout",
     "output_type": "stream",
     "text": [
      "Moviepy - Done !\n",
      "Moviepy - video ready best4videos/video_ad25_rs10/video_ad25_rs10_kvm.mp4\n",
      "Video processing complete and saved to: best4videos/video_ad25_rs10/video_ad25_rs10_kvm.mp4\n",
      "10 5\n"
     ]
    },
    {
     "name": "stderr",
     "output_type": "stream",
     "text": [
      "t:   0%|          | 2/1384 [37:53<436:25:44, 1136.86s/it, now=None]"
     ]
    },
    {
     "name": "stdout",
     "output_type": "stream",
     "text": [
      "Moviepy - Building video best4videos/video_ad5_rs10/video_ad5_rs10_kvm.mp4.\n",
      "MoviePy - Writing audio in video_ad5_rs10_kvmTEMP_MPY_wvf_snd.mp3\n"
     ]
    },
    {
     "name": "stderr",
     "output_type": "stream",
     "text": [
      "t:   0%|          | 2/1384 [37:55<436:51:01, 1137.96s/it, now=None]"
     ]
    },
    {
     "name": "stdout",
     "output_type": "stream",
     "text": [
      "MoviePy - Done.\n",
      "Moviepy - Writing video best4videos/video_ad5_rs10/video_ad5_rs10_kvm.mp4\n",
      "\n",
      "FPS2= 30.0\n",
      "FPS1= 30.0\n"
     ]
    },
    {
     "name": "stderr",
     "output_type": "stream",
     "text": [
      "t:   0%|          | 2/1384 [38:24<442:25:49, 1152.50s/it, now=None]"
     ]
    },
    {
     "name": "stdout",
     "output_type": "stream",
     "text": [
      "Moviepy - Done !\n",
      "Moviepy - video ready best4videos/video_ad5_rs10/video_ad5_rs10_kvm.mp4\n",
      "Video processing complete and saved to: best4videos/video_ad5_rs10/video_ad5_rs10_kvm.mp4\n",
      "10 14\n"
     ]
    },
    {
     "name": "stderr",
     "output_type": "stream",
     "text": [
      "t:   0%|          | 2/1384 [38:33<444:01:37, 1156.66s/it, now=None]"
     ]
    },
    {
     "name": "stdout",
     "output_type": "stream",
     "text": [
      "Moviepy - Building video best4videos/video_ad14_rs10/video_ad14_rs10_kvm.mp4.\n",
      "MoviePy - Writing audio in video_ad14_rs10_kvmTEMP_MPY_wvf_snd.mp3\n"
     ]
    },
    {
     "name": "stderr",
     "output_type": "stream",
     "text": [
      "t:   0%|          | 2/1384 [38:35<444:31:16, 1157.94s/it, now=None]"
     ]
    },
    {
     "name": "stdout",
     "output_type": "stream",
     "text": [
      "MoviePy - Done.\n",
      "Moviepy - Writing video best4videos/video_ad14_rs10/video_ad14_rs10_kvm.mp4\n",
      "\n",
      "FPS2= 25.0\n",
      "FPS1= 25.0\n"
     ]
    },
    {
     "name": "stderr",
     "output_type": "stream",
     "text": [
      "t:   0%|          | 2/1384 [38:45<446:19:34, 1162.64s/it, now=None]"
     ]
    },
    {
     "name": "stdout",
     "output_type": "stream",
     "text": [
      "Moviepy - Done !\n",
      "Moviepy - video ready best4videos/video_ad14_rs10/video_ad14_rs10_kvm.mp4\n",
      "Video processing complete and saved to: best4videos/video_ad14_rs10/video_ad14_rs10_kvm.mp4\n",
      "10 17\n"
     ]
    },
    {
     "name": "stderr",
     "output_type": "stream",
     "text": [
      "t:   0%|          | 2/1384 [38:58<448:53:42, 1169.34s/it, now=None]"
     ]
    },
    {
     "name": "stdout",
     "output_type": "stream",
     "text": [
      "Moviepy - Building video best4videos/video_ad17_rs10/video_ad17_rs10_kvm.mp4.\n",
      "MoviePy - Writing audio in video_ad17_rs10_kvmTEMP_MPY_wvf_snd.mp3\n"
     ]
    },
    {
     "name": "stderr",
     "output_type": "stream",
     "text": [
      "t:   0%|          | 2/1384 [39:02<449:33:54, 1171.08s/it, now=None]"
     ]
    },
    {
     "name": "stdout",
     "output_type": "stream",
     "text": [
      "MoviePy - Done.\n",
      "Moviepy - Writing video best4videos/video_ad17_rs10/video_ad17_rs10_kvm.mp4\n",
      "\n",
      "FPS2= 23.0\n",
      "FPS1= 23.0\n"
     ]
    },
    {
     "name": "stderr",
     "output_type": "stream",
     "text": [
      "t:   0%|          | 2/1384 [39:20<453:04:22, 1180.22s/it, now=None]"
     ]
    },
    {
     "name": "stdout",
     "output_type": "stream",
     "text": [
      "Moviepy - Done !\n",
      "Moviepy - video ready best4videos/video_ad17_rs10/video_ad17_rs10_kvm.mp4\n",
      "Video processing complete and saved to: best4videos/video_ad17_rs10/video_ad17_rs10_kvm.mp4\n",
      "10 27\n",
      "./\n",
      "./video_ad14_rs8.mp4\n",
      "./video_ad25_rs3.mp4\n",
      "./video_ad14_rs7.mp4\n",
      "./video_ad17_rs9.mp4\n",
      "./video_ad5_rs6.mp4\n",
      "./video_ad27_rs2.mp4\n",
      "./video_ad27_rs5.mp4\n",
      "./video_ad5_rs2.mp4\n",
      "./video_ad5_rs8.mp4\n",
      "./video_ad17_rs5.mp4\n",
      "./video_ad5_rs1.mp4\n",
      "./video_ad5_rs0.mp4\n",
      "./video_ad27_rs1.mp4\n",
      "./video_ad17_rs3.mp4\n",
      "./video_ad17_rs1.mp4\n",
      "./video_ad14_rs4.mp4\n",
      "./video_ad14_rs0.mp4\n",
      "./video_ad14_rs2.mp4\n",
      "./video_ad17_rs2.mp4\n",
      "./video_ad17_rs7.mp4\n",
      "./video_ad17_rs6.mp4\n",
      "./video_ad17_rs10.mp4\n",
      "./video_ad27_rs7.mp4\n",
      "./video_ad25_rs10.mp4\n",
      "./video_ad25_rs8.mp4\n",
      "./video_ad27_rs0.mp4\n",
      "./video_ad25_rs6.mp4\n",
      "./video_ad5_rs4.mp4\n",
      "./video_ad5_rs9.mp4\n",
      "./video_ad27_rs3.mp4\n",
      "./video_ad25_rs5.mp4\n",
      "./video_ad25_rs2.mp4\n",
      "./video_ad17_rs0.mp4\n",
      "./video_ad25_rs7.mp4\n",
      "./video_ad5_rs5.mp4\n",
      "./video_ad5_rs10.mp4\n",
      "./video_ad27_rs4.mp4\n",
      "./video_ad5_rs3.mp4\n",
      "./video_ad25_rs9.mp4\n",
      "./video_ad14_rs10.mp4\n",
      "./video_ad17_rs8.mp4\n",
      "./video_ad25_rs1.mp4\n",
      "./video_ad5_rs7.mp4\n",
      "./video_ad25_rs4.mp4\n",
      "./video_ad27_rs6.mp4\n",
      "./video_ad14_rs1.mp4\n",
      "./video_ad14_rs9.mp4\n",
      "./video_ad17_rs4.mp4\n",
      "./video_ad25_rs0.mp4\n",
      "./video_ad14_rs6.mp4\n",
      "./video_ad14_rs5.mp4\n",
      "Archive created: e2e_51_examples.tar.gz\n"
     ]
    }
   ],
   "source": [
    "import os\n",
    "import shutil\n",
    "import tempfile\n",
    "from video_utils.kvm import draw_kvm_on_video\n",
    "\n",
    "# Create a temporary directory\n",
    "tmp_dir = tempfile.mkdtemp()\n",
    "\n",
    "# Find and collect file paths\n",
    "files = []\n",
    "for rs in range(11):\n",
    "    for ind in [25, 5, 14, 17, 27]:\n",
    "        print(rs, ind)\n",
    "        path = f\"best4videos/video_ad{ind}_rs{rs}/video_ad{ind}_rs{rs}.mp4\"\n",
    "        if os.path.exists(path):\n",
    "            new_path = path.replace('.mp4', '_kvm.mp4')\n",
    "            draw_kvm_on_video(\n",
    "                input_video_path=path,\n",
    "                output_video_path=new_path,\n",
    "                path_kvm=f\"best4videos/video_ad{ind}/kvm2.csv\"\n",
    "            )\n",
    "            # Copy file to the temporary directory\n",
    "            shutil.copy(new_path, os.path.join(tmp_dir, os.path.basename(path)))\n",
    "            # Collect the path of the copied file\n",
    "            files.append(os.path.join(tmp_dir, os.path.basename(new_path)))\n",
    "\n",
    "# Check if files were copied and proceed to archive\n",
    "if files:\n",
    "    # Generate the tar.gz archive of the temporary directory\n",
    "    archive_name = f\"e2e_{len(files)}_examples.tar.gz\"\n",
    "    command = f\"tar -czvf {archive_name} -C {tmp_dir} .\"\n",
    "    os.system(command)  # Execute the command to create the archive\n",
    "    print(f\"Archive created: {archive_name}\")\n",
    "else:\n",
    "    print(\"No files to archive.\")\n",
    "\n",
    "# Optional: Clean up by removing the temporary directory\n",
    "shutil.rmtree(tmp_dir)"
   ]
  },
  {
   "cell_type": "markdown",
   "metadata": {},
   "source": [
    "# 8. Red squares in video at kvm"
   ]
  },
  {
   "cell_type": "code",
   "execution_count": 75,
   "metadata": {},
   "outputs": [
    {
     "name": "stdout",
     "output_type": "stream",
     "text": [
      "Moviepy - Building video best4videos/video_ad14_rs10/video_ad14_rs10_kvm.mp4.\n",
      "MoviePy - Writing audio in video_ad14_rs10_kvmTEMP_MPY_wvf_snd.mp3\n"
     ]
    },
    {
     "name": "stderr",
     "output_type": "stream",
     "text": [
      "                                                                     \r"
     ]
    },
    {
     "name": "stdout",
     "output_type": "stream",
     "text": [
      "MoviePy - Done.\n",
      "Moviepy - Writing video best4videos/video_ad14_rs10/video_ad14_rs10_kvm.mp4\n",
      "\n",
      "FPS2= 25.0\n",
      "FPS1= 25.0\n"
     ]
    },
    {
     "name": "stderr",
     "output_type": "stream",
     "text": [
      "                                                                 \r"
     ]
    },
    {
     "name": "stdout",
     "output_type": "stream",
     "text": [
      "Moviepy - Done !\n",
      "Moviepy - video ready best4videos/video_ad14_rs10/video_ad14_rs10_kvm.mp4\n",
      "Video processing complete and saved to: best4videos/video_ad14_rs10/video_ad14_rs10_kvm.mp4\n"
     ]
    }
   ],
   "source": [
    "import cv2\n",
    "from moviepy.editor import VideoFileClip\n",
    "import numpy as np\n",
    "from video_utils.kvm import draw_kvm_on_video  # func\n",
    "\n",
    "def draw_red_square_and_preserve_audio(\n",
    "        input_video_path, \n",
    "        output_video_path, \n",
    "        frames_to_mark, \n",
    "        diameter=50, \n",
    "        color=(0, 0, 255)\n",
    "        ):\n",
    "    \"\"\"\n",
    "    Draws a red square at the bottom left corner of specified frames in a video and preserves audio.\n",
    "\n",
    "    Args:\n",
    "    input_video_path (str): Path to the input video file.\n",
    "    output_video_path (str): Path where the output video will be saved.\n",
    "    frames_to_mark (list): List of frame indices where the square should be drawn.\n",
    "    square_size (int, optional): Size of the square side in pixels. Default is 50.\n",
    "    color (tuple, optional): Color of the square in BGR format (Blue, Green, Red). Default is red.\n",
    "    \"\"\"\n",
    "    # Create a temporary video path for the mute video\n",
    "    temp_video_path = 'temp_output.mp4'\n",
    "\n",
    "    # Open the input video\n",
    "    cap = cv2.VideoCapture(input_video_path)\n",
    "    if not cap.isOpened():\n",
    "        raise ValueError(\"Error opening video file\")\n",
    "    \n",
    "    # Get video properties\n",
    "    fps = int(cap.get(cv2.CAP_PROP_FPS))\n",
    "    width = int(cap.get(cv2.CAP_PROP_FRAME_WIDTH))\n",
    "    height = int(cap.get(cv2.CAP_PROP_FRAME_HEIGHT))\n",
    "    codec = cv2.VideoWriter_fourcc(*'mp4v')  # Define codec for saving video\n",
    "    \n",
    "    # Create a VideoWriter object to save the mute video\n",
    "    out = cv2.VideoWriter(temp_video_path, codec, fps, (width, height))\n",
    "\n",
    "    # Process the video\n",
    "    current_frame = 0\n",
    "    frames_to_mark = np.array(frames_to_mark)\n",
    "    colored_frames = np.concatenate([frames_to_mark + shift for shift in range(-2, 3)])\n",
    "    while cap.isOpened():\n",
    "        ret, frame = cap.read()\n",
    "        if not ret:\n",
    "            break\n",
    "\n",
    "        # Check if the current frame or its neighbors need the square\n",
    "        if current_frame in colored_frames:\n",
    "            # Coordinates for the square (bottom left corner)\n",
    "\n",
    "            # start_point = (width - square_size, 0)\n",
    "            # end_point = (width, square_size)\n",
    "            # # Draw the rectangle on the frame\n",
    "            # frame = cv2.rectangle(frame, start_point, end_point, color, -1)\n",
    "            \n",
    "            # Coordinates and radius for the circle (top right corner)\n",
    "            center = (width - diameter // 2, diameter // 2)  # Center of the circle\n",
    "            radius = diameter // 2  # Radius of the circle\n",
    "            # Create a copy of the frame to overlay the circle\n",
    "            overlay = frame.copy()\n",
    "            # Draw a filled circle on the overlay\n",
    "            cv2.circle(overlay, center, radius, color, -1)\n",
    "            # Alpha factor for transparency (between 0 and 1, where 1 is completely opaque)\n",
    "            alpha = 0.7\n",
    "            # Apply the overlay with transparency\n",
    "            frame = cv2.addWeighted(overlay, alpha, frame, 1 - alpha, 0)\n",
    "\n",
    "        # Write the frame to the output video\n",
    "        out.write(frame)\n",
    "        current_frame += 1\n",
    "\n",
    "    # Release everything when job is finished\n",
    "    cap.release()\n",
    "    out.release()\n",
    "    cv2.destroyAllWindows()\n",
    "\n",
    "    # Load the original video and temporary mute video\n",
    "    original_clip = VideoFileClip(input_video_path)\n",
    "    video_clip = VideoFileClip(temp_video_path)\n",
    "\n",
    "    # Set the audio of the original video to the video clip\n",
    "    video_clip = video_clip.set_audio(original_clip.audio)\n",
    "\n",
    "    # Write the final video with audio\n",
    "    video_clip.write_videofile(output_video_path, codec='libx264', audio_codec='libmp3lame', fps=video_clip.fps)\n",
    "\n",
    "    # Cleanup\n",
    "    video_clip.close()\n",
    "    original_clip.close()\n",
    "    print(\"Video processing complete and saved to:\", output_video_path)\n",
    "\n",
    "df = pd.read_csv('best4videos/video_ad14/kvm2.csv')\n",
    "kvm = df.query('key_moment == 1')['frame_ind'].values\n",
    "\n",
    "# Example usage\n",
    "draw_red_square_and_preserve_audio(\n",
    "    input_video_path='best4videos/video_ad14_rs10/video_ad14_rs10.mp4', \n",
    "    output_video_path='best4videos/video_ad14_rs10/video_ad14_rs10_kvm.mp4', \n",
    "    frames_to_mark=kvm)\n"
   ]
  },
  {
   "cell_type": "markdown",
   "metadata": {},
   "source": [
    "# 9. Metrics"
   ]
  },
  {
   "cell_type": "code",
   "execution_count": 5,
   "metadata": {},
   "outputs": [
    {
     "data": {
      "text/plain": [
       "[False, False, True, True]"
      ]
     },
     "execution_count": 5,
     "metadata": {},
     "output_type": "execute_result"
    }
   ],
   "source": [
    "ind = 32\n",
    "path_mp4_gen = f'generated_4x2x2/video_ad{ind}_v2_rs0_g2/video_ad{ind}_v2_rs0_g2.mp4'\n",
    "path_midi_gen = f'generated_4x2x2/video_ad{ind}_v2_rs0_g2/video_ad{ind}_v2_rs0_g2.midi'\n",
    "\n",
    "path_mp4_orig = Path('/storage/arkady/Glinka/music-transformer/video_conditioning') \\\n",
    "    / 'content' / 'video_data' / f'video_ad{ind}.mp4'\n",
    "path_midi_orig = f'generated_4x2x2/video_ad{ind}/video_ad{ind}.mid'\n",
    "\n",
    "df = pd.read_csv(f'generated_4x2x2/video_ad{ind}/kvm4.csv')\n",
    "kvm4 = df.query('key_moment == 1').index / df.iloc[-1, -1]  # timings in seconds\n",
    "\n",
    "[os.path.exists(p) for p in [\n",
    "    path_mp4_gen,\n",
    "    path_midi_gen,\n",
    "    path_mp4_orig,\n",
    "    path_midi_orig,\n",
    "    ]]"
   ]
  },
  {
   "cell_type": "markdown",
   "metadata": {},
   "source": [
    "# Concordance score\n",
    "\n",
    "**transformer_production** env\n",
    "\n",
    "для него требуется находить ключевые моменты в музыке\n"
   ]
  },
  {
   "cell_type": "code",
   "execution_count": 3,
   "metadata": {},
   "outputs": [
    {
     "ename": "NameError",
     "evalue": "name 'path_midi_orig' is not defined",
     "output_type": "error",
     "traceback": [
      "\u001b[0;31m---------------------------------------------------------------------------\u001b[0m",
      "\u001b[0;31mNameError\u001b[0m                                 Traceback (most recent call last)",
      "Cell \u001b[0;32mIn[3], line 5\u001b[0m\n\u001b[1;32m      1\u001b[0m \u001b[38;5;28;01mfrom\u001b[39;00m \u001b[38;5;21;01mvideo_utils\u001b[39;00m\u001b[38;5;21;01m.\u001b[39;00m\u001b[38;5;21;01mmetrics\u001b[39;00m \u001b[38;5;28;01mimport\u001b[39;00m get_key_midi_moments\n\u001b[1;32m      2\u001b[0m \u001b[38;5;28;01mfrom\u001b[39;00m \u001b[38;5;21;01mvideo_utils\u001b[39;00m\u001b[38;5;21;01m.\u001b[39;00m\u001b[38;5;21;01mmetrics\u001b[39;00m \u001b[38;5;28;01mimport\u001b[39;00m alignment_metric\n\u001b[1;32m      4\u001b[0m key_midi_moments \u001b[38;5;241m=\u001b[39m get_key_midi_moments(\n\u001b[0;32m----> 5\u001b[0m         \u001b[43mpath_midi_orig\u001b[49m,\n\u001b[1;32m      6\u001b[0m         [\u001b[38;5;124m'\u001b[39m\u001b[38;5;124mdensity\u001b[39m\u001b[38;5;124m'\u001b[39m, \u001b[38;5;124m'\u001b[39m\u001b[38;5;124mvelocity\u001b[39m\u001b[38;5;124m'\u001b[39m][\u001b[38;5;241m0\u001b[39m],\n\u001b[1;32m      7\u001b[0m         \u001b[38;5;241m1\u001b[39m \u001b[38;5;241m*\u001b[39m \u001b[38;5;28mlen\u001b[39m(kvm4),\n\u001b[1;32m      8\u001b[0m     )\n\u001b[1;32m     10\u001b[0m ametric \u001b[38;5;241m=\u001b[39m alignment_metric(\n\u001b[1;32m     11\u001b[0m     video_moments\u001b[38;5;241m=\u001b[39mkvm4, \n\u001b[1;32m     12\u001b[0m     music_moments\u001b[38;5;241m=\u001b[39mkey_midi_moments, \n\u001b[0;32m   (...)\u001b[0m\n\u001b[1;32m     17\u001b[0m     symmetric\u001b[38;5;241m=\u001b[39m\u001b[38;5;28;01mFalse\u001b[39;00m\n\u001b[1;32m     18\u001b[0m )\n\u001b[1;32m     20\u001b[0m \u001b[38;5;28mprint\u001b[39m(ametric)\n",
      "\u001b[0;31mNameError\u001b[0m: name 'path_midi_orig' is not defined"
     ]
    }
   ],
   "source": [
    "from video_utils.metrics import get_key_midi_moments\n",
    "from video_utils.metrics import concordance_score\n",
    "\n",
    "key_midi_moments = get_key_midi_moments(\n",
    "        path_midi_orig,\n",
    "        ['density', 'velocity'][0],\n",
    "        1 * len(kvm4),\n",
    "    )\n",
    "\n",
    "ametric = concordance_score(\n",
    "    video_moments=kvm4, \n",
    "    music_moments=key_midi_moments, \n",
    "    alpha=1.0, \n",
    "    offset=1, \n",
    "    eps=0.1, \n",
    "    version='SUM', \n",
    "    symmetric=False\n",
    ")\n",
    "\n",
    "print(ametric)\n",
    "\n",
    "plt.scatter(kvm4, np.ones_like(kvm4), label='kvm4')\n",
    "plt.scatter(key_midi_moments, np.zeros_like(key_midi_moments), label='key midi moments')\n",
    "plt.legend(loc='right')"
   ]
  },
  {
   "cell_type": "code",
   "execution_count": 47,
   "metadata": {},
   "outputs": [
    {
     "data": {
      "text/plain": [
       "([4.0, 12.0, 20.0, 28.0, 60.0, 64.0, 68.0, 72.0, 76.0, 80.0, 92.0, 96.0],\n",
       " Float64Index([0.0, 1.0, 1.68, 2.44, 3.04, 4.36, 10.64, 17.44, 19.72, 24.2,\n",
       "               36.76, 44.16],\n",
       "              dtype='float64'))"
      ]
     },
     "execution_count": 47,
     "metadata": {},
     "output_type": "execute_result"
    }
   ],
   "source": [
    "key_midi_moments, kvm4"
   ]
  },
  {
   "cell_type": "markdown",
   "metadata": {},
   "source": [
    "## masha notebook"
   ]
  },
  {
   "cell_type": "code",
   "execution_count": 11,
   "metadata": {},
   "outputs": [
    {
     "name": "stdout",
     "output_type": "stream",
     "text": [
      "[169, 169, 169]\n"
     ]
    }
   ],
   "source": [
    "from music21 import converter, corpus, instrument, midi, note, chord, pitch\n",
    "\n",
    "def open_midi(midi_path, remove_drums):\n",
    "    # There is an one-line method to read MIDIs\n",
    "    # but to remove the drums we need to manipulate some\n",
    "    # low level MIDI events.\n",
    "    mf = midi.MidiFile()\n",
    "    mf.open(midi_path)\n",
    "    mf.read()\n",
    "    mf.close()\n",
    "    if (remove_drums):\n",
    "        for i in range(len(mf.tracks)):\n",
    "            mf.tracks[i].events = [ev for ev in mf.tracks[i].events if ev.channel != 10]\n",
    "\n",
    "    return midi.translate.midiFileToStream(mf)\n",
    "\n",
    "base_midi = open_midi(path_midi_orig, True)\n",
    "beatS = [n.beatStrength for n in base_midi.flat.notes]\n",
    "vols = [n.volume.velocity for n in base_midi.flat.notes]\n",
    "volsR = [\"%.2f\"%n.volume.getRealized() for n in base_midi.flat.notes]\n",
    "print([len(x) for x in [beatS, vols, volsR]])"
   ]
  },
  {
   "cell_type": "code",
   "execution_count": 22,
   "metadata": {},
   "outputs": [
    {
     "data": {
      "text/plain": [
       "[Note(start=0.093182, end=0.220455, pitch=40, velocity=50),\n",
       " Note(start=1.079545, end=1.359091, pitch=35, velocity=60),\n",
       " Note(start=1.359091, end=1.486364, pitch=35, velocity=62),\n",
       " Note(start=1.486364, end=1.706818, pitch=35, velocity=78),\n",
       " Note(start=1.752273, end=1.834091, pitch=38, velocity=56),\n",
       " Note(start=1.834091, end=1.961364, pitch=38, velocity=63),\n",
       " Note(start=1.986364, end=2.068182, pitch=55, velocity=38),\n",
       " Note(start=1.986364, end=2.079545, pitch=43, velocity=98),\n",
       " Note(start=2.079545, end=2.218182, pitch=43, velocity=76),\n",
       " Note(start=2.218182, end=2.300000, pitch=40, velocity=61)]"
      ]
     },
     "execution_count": 22,
     "metadata": {},
     "output_type": "execute_result"
    }
   ],
   "source": [
    "import pretty_midi\n",
    "\n",
    "midi_data = pretty_midi.PrettyMIDI(path_midi_orig)\n",
    "midi_data.instruments[0].notes[:10]\n"
   ]
  },
  {
   "cell_type": "markdown",
   "metadata": {},
   "source": [
    "## key_midi_moments gpt 4o"
   ]
  },
  {
   "cell_type": "code",
   "execution_count": 41,
   "metadata": {},
   "outputs": [
    {
     "data": {
      "text/plain": [
       "[4.0, 12.0, 20.0, 28.0, 60.0, 64.0, 68.0, 72.0, 76.0, 80.0, 92.0, 96.0]"
      ]
     },
     "execution_count": 41,
     "metadata": {},
     "output_type": "execute_result"
    }
   ],
   "source": [
    "from music21 import converter, midi, stream, note, chord\n",
    "\n",
    "def open_midi(midi_path, remove_drums):\n",
    "    mf = midi.MidiFile()\n",
    "    mf.open(midi_path)\n",
    "    mf.read()\n",
    "    mf.close()\n",
    "    if remove_drums:\n",
    "        for i in range(len(mf.tracks)):\n",
    "            mf.tracks[i].events = [ev for ev in mf.tracks[i].events if ev.channel != 10]\n",
    "    return midi.translate.midiFileToStream(mf)\n",
    "\n",
    "def get_key_moments(midi_stream, method='velocity', key_moments_count=5):\n",
    "    \"\"\"\n",
    "    Extracts key moments from the MIDI stream based on the specified method ('velocity' or 'density').\n",
    "\n",
    "    Parameters:\n",
    "        midi_stream (stream.Score): The MIDI stream to analyze.\n",
    "        method (str): The method to use for extracting key moments ('velocity' or 'density').\n",
    "        key_moments_count (int): The number of key moments to extract.\n",
    "\n",
    "    Returns:\n",
    "        list: A list of measures identified as key moments.\n",
    "    \"\"\"\n",
    "    measures = midi_stream.parts[0].getElementsByClass(stream.Measure)\n",
    "    measure_scores = []\n",
    "\n",
    "    if method == 'velocity':\n",
    "        for measure in measures:\n",
    "            if len(measure.flat.notes) > 0:\n",
    "                measure_velocity = sum(note.volume.velocity for note in measure.flat.notes if note.volume.velocity is not None) / len(measure.flat.notes)\n",
    "            else:\n",
    "                measure_velocity = 0\n",
    "            measure_scores.append((measure, measure_velocity))\n",
    "\n",
    "    elif method == 'density':\n",
    "        for measure in measures:\n",
    "            density = len(measure.flat.notes)\n",
    "            measure_scores.append((measure, density))\n",
    "\n",
    "    # Sort measures by score in descending order and select the top key_moments_count\n",
    "    measure_scores.sort(key=lambda x: x[1], reverse=True)\n",
    "    key_moments = sorted([ms[0].offset for ms in measure_scores[:key_moments_count]])\n",
    "\n",
    "    return key_moments\n",
    "\n",
    "def get_key_midi_moments(\n",
    "        path_midi,\n",
    "        method: str = 'velocity',\n",
    "        key_moments_count: int = 10,\n",
    "):\n",
    "    base_midi = open_midi(path_midi, False)\n",
    "\n",
    "    key_midi_moments = get_key_moments(\n",
    "        base_midi, \n",
    "        method=method, \n",
    "        key_moments_count=key_moments_count\n",
    "    )\n",
    "\n",
    "    return key_midi_moments\n",
    "\n",
    "# # Save the key moments to a new MIDI file\n",
    "key_moments = get_key_midi_moments(\n",
    "    path_midi_orig,\n",
    "    'velocity',\n",
    "    12\n",
    ")\n",
    "\n",
    "key_moments"
   ]
  },
  {
   "cell_type": "markdown",
   "metadata": {},
   "source": [
    "## sync score (GPT-4o) - херня"
   ]
  },
  {
   "cell_type": "code",
   "execution_count": 130,
   "metadata": {},
   "outputs": [],
   "source": [
    "import librosa\n",
    "import numpy as np\n",
    "\n",
    "def get_onset_frames(path_mp4, sr=22050):\n",
    "    y, _ = librosa.load(path_mp4, sr=sr)\n",
    "    onset_frames = librosa.onset.onset_detect(y=y, sr=sr)\n",
    "    onset_times = librosa.frames_to_time(onset_frames, sr=sr)\n",
    "    return onset_frames, onset_times\n",
    "\n",
    "ind = 5\n",
    "path_mp4_gen = f'generated_4x2x2/video_ad{ind}_v2_rs0_g2/video_ad{ind}_v2_rs0_g2.mp4'\n",
    "path_midi_gen = f'generated_4x2x2/video_ad{ind}_v2_rs0_g2/video_ad{ind}_v2_rs0_g2.midi'\n",
    "\n",
    "path_mp4_orig = Path('/storage/arkady/Glinka/music-transformer/video_conditioning') \\\n",
    "    / 'content' / 'video_data' / f'video_ad{ind}.mp4'\n",
    "path_midi_orig = f'generated_4x2x2/video_ad{ind}/video_ad{ind}.mid'\n",
    "\n",
    "df = pd.read_csv(f'generated_4x2x2/video_ad{ind}/kvm4.csv')\n",
    "kvm4 = df.query('key_moment == 1').index / df.iloc[-1, -1]  # timings in seconds\n",
    "\n",
    "[os.path.exists(p) for p in [\n",
    "    path_mp4_gen,\n",
    "    path_midi_gen,\n",
    "    path_mp4_orig,\n",
    "    path_midi_gen,\n",
    "    ]]\n",
    "\n",
    "_, onset_times_gen = get_onset_frames(path_mp4_gen)\n",
    "_, onset_times_orig = get_onset_frames(path_mp4_orig)"
   ]
  },
  {
   "cell_type": "code",
   "execution_count": 131,
   "metadata": {},
   "outputs": [
    {
     "data": {
      "text/plain": [
       "<matplotlib.legend.Legend at 0x7f0c34449c90>"
      ]
     },
     "execution_count": 131,
     "metadata": {},
     "output_type": "execute_result"
    },
    {
     "data": {
      "image/png": "[encoded data removed]",
      "text/plain": [
       "<Figure size 640x480 with 1 Axes>"
      ]
     },
     "metadata": {},
     "output_type": "display_data"
    }
   ],
   "source": [
    "plt.hist(onset_times_gen, label='onset gen', bins=50, density=False, alpha=1/2)\n",
    "plt.hist(onset_times_orig, label='onset orig', bins=50, density=False, alpha=1/2)\n",
    "plt.scatter(kvm4, np.ones_like(kvm4), label='kvm4', c='r')\n",
    "\n",
    "plt.legend()"
   ]
  },
  {
   "cell_type": "code",
   "execution_count": 132,
   "metadata": {},
   "outputs": [],
   "source": [
    "import librosa\n",
    "import numpy as np\n",
    "from pydub import AudioSegment\n",
    "\n",
    "def extract_key_moments_from_audio(audio_path, sr=22050, frame_length=2048, hop_length=512, top_n=40):\n",
    "    \"\"\"\n",
    "    Extract key moments from an audio file based on loudness.\n",
    "\n",
    "    Parameters:\n",
    "        audio_path (str): Path to the audio file.\n",
    "        sr (int): Sampling rate for loading the audio.\n",
    "        frame_length (int): Length of the frames for calculating RMS.\n",
    "        hop_length (int): Number of samples between successive frames.\n",
    "        top_n (int): Number of top key moments to return.\n",
    "\n",
    "    Returns:\n",
    "        key_moments (list): List of times (in seconds) for the top key moments.\n",
    "    \"\"\"\n",
    "    # Load the audio file\n",
    "    y, sr = librosa.load(audio_path, sr=sr)\n",
    "    \n",
    "    # Compute RMS (Root Mean Square) energy for each frame\n",
    "    rms = librosa.feature.rms(y=y, frame_length=frame_length, hop_length=hop_length)[0]\n",
    "    \n",
    "    # Find the top_n frames with the highest RMS values\n",
    "    top_indices = np.argsort(rms)[-top_n:]\n",
    "    \n",
    "    # Convert frame indices to time in seconds\n",
    "    key_moments = librosa.frames_to_time(top_indices, sr=sr, hop_length=hop_length)\n",
    "    \n",
    "    return sorted(key_moments)\n",
    "\n",
    "kmm = extract_key_moments_from_audio(path_mp4_orig)"
   ]
  },
  {
   "cell_type": "code",
   "execution_count": 133,
   "metadata": {},
   "outputs": [
    {
     "data": {
      "image/png": "[encoded data removed]",
      "text/plain": [
       "<Figure size 640x480 with 1 Axes>"
      ]
     },
     "metadata": {},
     "output_type": "display_data"
    }
   ],
   "source": [
    "kvms = {\n",
    "    'kmm': kmm,\n",
    "    'kvm4': kvm4\n",
    "}\n",
    "\n",
    "for i, (name, x) in enumerate(kvms.items()):\n",
    "    plt.scatter(x, -np.ones_like(x) * i, label=name, s=10, marker='X')\n",
    "plt.legend(loc='right')\n",
    "plt.xlabel('seconds')\n",
    "plt.show()"
   ]
  },
  {
   "cell_type": "markdown",
   "metadata": {},
   "source": [
    "# Считаем alignment_metric"
   ]
  },
  {
   "cell_type": "code",
   "execution_count": 7,
   "metadata": {},
   "outputs": [],
   "source": [
    "from video_utils.metrics import get_key_midi_moments\n",
    "from video_utils.metrics import concordance_score\n",
    "\n",
    "alignment_metric_params = {\n",
    "    'alpha': 1.0,\n",
    "    'offset': 3,\n",
    "    'eps': 1,\n",
    "    'version': 'SUM',\n",
    "    'symmetric': False\n",
    "}"
   ]
  },
  {
   "cell_type": "markdown",
   "metadata": {},
   "source": [
    "## nnotes score"
   ]
  },
  {
   "cell_type": "code",
   "execution_count": 16,
   "metadata": {},
   "outputs": [
    {
     "name": "stdout",
     "output_type": "stream",
     "text": [
      "video_ad5_v2_rs0_g0\n"
     ]
    },
    {
     "name": "stderr",
     "output_type": "stream",
     "text": [
      "/storage/arkady/miniconda3/envs/VideoMusic/lib/python3.10/site-packages/music21/stream/base.py:3694: Music21DeprecationWarning: .flat is deprecated.  Call .flatten() instead\n",
      "  return self.iter().getElementsByClass(classFilterList)\n"
     ]
    },
    {
     "name": "stdout",
     "output_type": "stream",
     "text": [
      "0.06666666666666667\n",
      "video_ad5_v2_rs0_g2\n"
     ]
    },
    {
     "name": "stderr",
     "output_type": "stream",
     "text": [
      "/storage/arkady/miniconda3/envs/VideoMusic/lib/python3.10/site-packages/music21/stream/base.py:3694: Music21DeprecationWarning: .flat is deprecated.  Call .flatten() instead\n",
      "  return self.iter().getElementsByClass(classFilterList)\n",
      "/storage/arkady/miniconda3/envs/VideoMusic/lib/python3.10/site-packages/music21/stream/base.py:3694: Music21DeprecationWarning: .flat is deprecated.  Call .flatten() instead\n",
      "  return self.iter().getElementsByClass(classFilterList)\n"
     ]
    },
    {
     "name": "stdout",
     "output_type": "stream",
     "text": [
      "0.14285714285714285\n",
      "video_ad5_v2_rs0_g11\n",
      "0.28\n",
      "video_ad14_v2_rs0_g0\n"
     ]
    },
    {
     "name": "stderr",
     "output_type": "stream",
     "text": [
      "/storage/arkady/miniconda3/envs/VideoMusic/lib/python3.10/site-packages/music21/stream/base.py:3694: Music21DeprecationWarning: .flat is deprecated.  Call .flatten() instead\n",
      "  return self.iter().getElementsByClass(classFilterList)\n"
     ]
    },
    {
     "name": "stdout",
     "output_type": "stream",
     "text": [
      "0.09375\n",
      "video_ad14_v2_rs0_g1\n",
      "0.14285714285714285\n",
      "video_ad14_v2_rs0_g2\n"
     ]
    },
    {
     "name": "stderr",
     "output_type": "stream",
     "text": [
      "/storage/arkady/miniconda3/envs/VideoMusic/lib/python3.10/site-packages/music21/stream/base.py:3694: Music21DeprecationWarning: .flat is deprecated.  Call .flatten() instead\n",
      "  return self.iter().getElementsByClass(classFilterList)\n",
      "/storage/arkady/miniconda3/envs/VideoMusic/lib/python3.10/site-packages/music21/stream/base.py:3694: Music21DeprecationWarning: .flat is deprecated.  Call .flatten() instead\n",
      "  return self.iter().getElementsByClass(classFilterList)\n",
      "/storage/arkady/miniconda3/envs/VideoMusic/lib/python3.10/site-packages/music21/stream/base.py:3694: Music21DeprecationWarning: .flat is deprecated.  Call .flatten() instead\n",
      "  return self.iter().getElementsByClass(classFilterList)\n"
     ]
    },
    {
     "name": "stdout",
     "output_type": "stream",
     "text": [
      "0.06060606060606061\n",
      "video_ad14_v2_rs0_g11\n",
      "0.20689655172413793\n",
      "video_ad25_v2_rs0_g0\n"
     ]
    },
    {
     "name": "stderr",
     "output_type": "stream",
     "text": [
      "/storage/arkady/miniconda3/envs/VideoMusic/lib/python3.10/site-packages/music21/stream/base.py:3694: Music21DeprecationWarning: .flat is deprecated.  Call .flatten() instead\n",
      "  return self.iter().getElementsByClass(classFilterList)\n",
      "/storage/arkady/miniconda3/envs/VideoMusic/lib/python3.10/site-packages/music21/stream/base.py:3694: Music21DeprecationWarning: .flat is deprecated.  Call .flatten() instead\n",
      "  return self.iter().getElementsByClass(classFilterList)\n"
     ]
    },
    {
     "name": "stdout",
     "output_type": "stream",
     "text": [
      "0.16666666666666666\n",
      "video_ad25_v2_rs0_g2\n",
      "0.06060606060606061\n",
      "video_ad25_v2_rs0_g11\n"
     ]
    },
    {
     "name": "stderr",
     "output_type": "stream",
     "text": [
      "/storage/arkady/miniconda3/envs/VideoMusic/lib/python3.10/site-packages/music21/stream/base.py:3694: Music21DeprecationWarning: .flat is deprecated.  Call .flatten() instead\n",
      "  return self.iter().getElementsByClass(classFilterList)\n"
     ]
    },
    {
     "name": "stdout",
     "output_type": "stream",
     "text": [
      "0.16666666666666666\n",
      "video_ad32_v2_rs0_g11\n"
     ]
    },
    {
     "name": "stderr",
     "output_type": "stream",
     "text": [
      "/storage/arkady/miniconda3/envs/VideoMusic/lib/python3.10/site-packages/music21/stream/base.py:3694: Music21DeprecationWarning: .flat is deprecated.  Call .flatten() instead\n",
      "  return self.iter().getElementsByClass(classFilterList)\n"
     ]
    },
    {
     "name": "stdout",
     "output_type": "stream",
     "text": [
      "0.0\n",
      "video_ad38_v2_rs0_g11\n",
      "0.1875\n"
     ]
    },
    {
     "name": "stderr",
     "output_type": "stream",
     "text": [
      "/storage/arkady/miniconda3/envs/VideoMusic/lib/python3.10/site-packages/music21/stream/base.py:3694: Music21DeprecationWarning: .flat is deprecated.  Call .flatten() instead\n",
      "  return self.iter().getElementsByClass(classFilterList)\n"
     ]
    }
   ],
   "source": [
    "from itertools import product\n",
    "\n",
    "\n",
    "f = open('nnotes_score.txt', 'w')\n",
    "for ad_id, rs, g in product([5, 14, 25, 32, 38], [0, ], [0, 1, 2, 11]):\n",
    "    name = f'video_ad{ad_id}_v2_rs{rs}_g{g}'\n",
    "    root = Path('generated_4x2x2')\n",
    "    \n",
    "    path_midi = root / name / (name + '.midi')\n",
    "    if not path_midi.exists():\n",
    "        continue\n",
    "\n",
    "    f.write(str(path_midi) + '\\n')\n",
    "    print(path_midi.stem)\n",
    "\n",
    "    path_kvm = root / f'video_ad{ad_id}' / 'kvm4.csv'\n",
    "    df = pd.read_csv(path_kvm)\n",
    "    kvm4 = df.query('key_moment == 1').index / df.iloc[-1, -1]\n",
    "    kvm4 = list(kvm4)\n",
    "    # print(kvm4)\n",
    "\n",
    "    key_midi_moments = get_key_midi_moments(\n",
    "        path_midi,\n",
    "        ['density', 'velocity'][0],\n",
    "        len(kvm4) * 2,\n",
    "    )\n",
    "    key_midi_moments = [float(x) for x in key_midi_moments]\n",
    "    # print(key_midi_moments)\n",
    "\n",
    "    score = concordance_score(\n",
    "        video_moments=kvm4, \n",
    "        music_moments=key_midi_moments, \n",
    "        **alignment_metric_params\n",
    "    )\n",
    "\n",
    "    print(score)\n",
    "    f.write(str(score) + '\\n')\n",
    "\n",
    "f.close()"
   ]
  },
  {
   "cell_type": "markdown",
   "metadata": {},
   "source": [
    "## original mp4 score"
   ]
  },
  {
   "cell_type": "code",
   "execution_count": 17,
   "metadata": {},
   "outputs": [
    {
     "name": "stdout",
     "output_type": "stream",
     "text": [
      "\n",
      "video_ad5\n",
      "0.3888888888888889\n",
      "\n",
      "video_ad14\n"
     ]
    },
    {
     "name": "stderr",
     "output_type": "stream",
     "text": [
      "/storage/arkady/miniconda3/envs/VideoMusic/lib/python3.10/site-packages/music21/stream/base.py:3694: Music21DeprecationWarning: .flat is deprecated.  Call .flatten() instead\n",
      "  return self.iter().getElementsByClass(classFilterList)\n",
      "/storage/arkady/miniconda3/envs/VideoMusic/lib/python3.10/site-packages/music21/stream/base.py:3694: Music21DeprecationWarning: .flat is deprecated.  Call .flatten() instead\n",
      "  return self.iter().getElementsByClass(classFilterList)\n"
     ]
    },
    {
     "name": "stdout",
     "output_type": "stream",
     "text": [
      "0.25\n",
      "\n",
      "video_ad25\n",
      "0.2962962962962963\n",
      "\n",
      "video_ad32\n"
     ]
    },
    {
     "name": "stderr",
     "output_type": "stream",
     "text": [
      "/storage/arkady/miniconda3/envs/VideoMusic/lib/python3.10/site-packages/music21/stream/base.py:3694: Music21DeprecationWarning: .flat is deprecated.  Call .flatten() instead\n",
      "  return self.iter().getElementsByClass(classFilterList)\n",
      "/storage/arkady/miniconda3/envs/VideoMusic/lib/python3.10/site-packages/music21/stream/base.py:3694: Music21DeprecationWarning: .flat is deprecated.  Call .flatten() instead\n",
      "  return self.iter().getElementsByClass(classFilterList)\n"
     ]
    },
    {
     "name": "stdout",
     "output_type": "stream",
     "text": [
      "0.18181818181818182\n",
      "\n",
      "video_ad38\n",
      "0.26666666666666666\n"
     ]
    },
    {
     "name": "stderr",
     "output_type": "stream",
     "text": [
      "/storage/arkady/miniconda3/envs/VideoMusic/lib/python3.10/site-packages/music21/stream/base.py:3694: Music21DeprecationWarning: .flat is deprecated.  Call .flatten() instead\n",
      "  return self.iter().getElementsByClass(classFilterList)\n"
     ]
    }
   ],
   "source": [
    "f = open('original_score.txt', 'w')\n",
    "for ad_id in [5, 14, 25, 32, 38]:\n",
    "    name = f'video_ad{ad_id}'\n",
    "    root = Path('generated_4x2x2')\n",
    "    \n",
    "    path_midi = root / name / (name + '.mid')\n",
    "    if not path_midi.exists():\n",
    "        continue\n",
    "    \n",
    "    print()\n",
    "    print(path_midi.stem)\n",
    "    f.write(str(path_midi) + '\\n')\n",
    "\n",
    "    path_kvm = root / f'video_ad{ad_id}' / 'kvm4.csv'\n",
    "    df = pd.read_csv(path_kvm)\n",
    "    kvm4 = df.query('key_moment == 1').index / df.iloc[-1, -1]\n",
    "    kvm4 = list(kvm4)\n",
    "    # print(kvm4)\n",
    "\n",
    "    key_midi_moments = get_key_midi_moments(\n",
    "        path_midi,\n",
    "        ['density', 'velocity'][0],\n",
    "        len(kvm4) * 2,\n",
    "    )\n",
    "    key_midi_moments = [float(x) for x in key_midi_moments]\n",
    "    # print(key_midi_moments)\n",
    "\n",
    "    score = concordance_score(\n",
    "        video_moments=kvm4, \n",
    "        music_moments=key_midi_moments, \n",
    "        **alignment_metric_params\n",
    "    )\n",
    "\n",
    "    print(score)\n",
    "    f.write(str(score) + '\\n')\n",
    "\n",
    "f.close()"
   ]
  },
  {
   "cell_type": "markdown",
   "metadata": {},
   "source": [
    "## V2M score\n",
    "\n",
    "VideoMusic env"
   ]
  },
  {
   "cell_type": "code",
   "execution_count": 24,
   "metadata": {},
   "outputs": [
    {
     "name": "stdout",
     "output_type": "stream",
     "text": [
      "video_ad25___C_major___C_Am_F_G.mp4\n",
      "MoviePy - Writing audio in /storage/arkady/Glinka/Video2Music_/output/video_ad25___C_major___C_Am_F_G.mp3\n"
     ]
    },
    {
     "name": "stderr",
     "output_type": "stream",
     "text": [
      "                                                                     \r"
     ]
    },
    {
     "name": "stdout",
     "output_type": "stream",
     "text": [
      "MoviePy - Done.\n",
      "=====Successfully written new mp3 to path_mp3=PosixPath('/storage/arkady/Glinka/Video2Music_/output/video_ad25___C_major___C_Am_F_G.mp3')\n",
      "loading model... done\n",
      "loading wave source... done\n",
      "stft of wave source... done\n"
     ]
    },
    {
     "name": "stderr",
     "output_type": "stream",
     "text": [
      "100%|██████████| 5/5 [00:47<00:00,  9.53s/it]\n"
     ]
    },
    {
     "name": "stdout",
     "output_type": "stream",
     "text": [
      "validating output directory... done\n",
      "inverse stft of instruments... done\n",
      "inverse stft of vocals... done\n",
      "=====Instrumentals at: /storage/arkady/Glinka/Video2Music_/output/video_ad25___C_major___C_Am_F_G_Instruments.wav\n",
      "=====Vocals at: /storage/arkady/Glinka/Video2Music_/output/video_ad25___C_major___C_Am_F_G_Vocals.wav\n",
      "\n",
      "✨✨✨✨✨✨✨✨✨\n",
      "✨ Basic Pitch  ✨\n",
      "✨✨✨✨✨✨✨✨✨\n",
      "\n",
      "Importing Tensorflow (this may take a few seconds)...\n",
      "\n",
      "Predicting MIDI for /storage/arkady/Glinka/Video2Music_/output/video_ad25___C_major___C_Am_F_G_Instruments.wav...\n",
      "\n",
      "\n",
      "  Creating midi...\n",
      "  🚨 /storage/arkady/Glinka/Video2Music_/output/video_ad25___C_major___C_Am_F_G_Instruments_basic_pitch.mid already exists and would be overwritten. Skipping output files for /storage/arkady/Glinka/Video2Music_/output/video_ad25___C_major___C_Am_F_G_Instruments.wav.\n",
      "/storage/arkady/Glinka/Video2Music_/output/video_ad25___C_major___C_Am_F_G_Instruments_basic_pitch.mid\n",
      "0.34615384615384615\n",
      "video_ad5___G_major___C.mp4\n",
      "MoviePy - Writing audio in /storage/arkady/Glinka/Video2Music_/output/video_ad5___G_major___C.mp3\n"
     ]
    },
    {
     "name": "stderr",
     "output_type": "stream",
     "text": [
      "                                                                   \r"
     ]
    },
    {
     "name": "stdout",
     "output_type": "stream",
     "text": [
      "MoviePy - Done.\n",
      "=====Successfully written new mp3 to path_mp3=PosixPath('/storage/arkady/Glinka/Video2Music_/output/video_ad5___G_major___C.mp3')\n",
      "loading model... done\n",
      "loading wave source... done\n",
      "stft of wave source... done\n"
     ]
    },
    {
     "name": "stderr",
     "output_type": "stream",
     "text": [
      "100%|██████████| 3/3 [00:27<00:00,  9.30s/it]\n"
     ]
    },
    {
     "name": "stdout",
     "output_type": "stream",
     "text": [
      "validating output directory... done\n",
      "inverse stft of instruments... done\n",
      "inverse stft of vocals... done\n",
      "=====Instrumentals at: /storage/arkady/Glinka/Video2Music_/output/video_ad5___G_major___C_Instruments.wav\n",
      "=====Vocals at: /storage/arkady/Glinka/Video2Music_/output/video_ad5___G_major___C_Vocals.wav\n",
      "\n",
      "✨✨✨✨✨✨✨✨✨\n",
      "✨ Basic Pitch  ✨\n",
      "✨✨✨✨✨✨✨✨✨\n",
      "\n",
      "Importing Tensorflow (this may take a few seconds)...\n",
      "\n",
      "Predicting MIDI for /storage/arkady/Glinka/Video2Music_/output/video_ad5___G_major___C_Instruments.wav...\n",
      "\n",
      "\n",
      "  Creating midi...\n",
      "  💅 Saved to /storage/arkady/Glinka/Video2Music_/output/video_ad5___G_major___C_Instruments_basic_pitch.mid\n",
      "\n",
      "✨ Done ✨\n",
      "\n",
      "/storage/arkady/Glinka/Video2Music_/output/video_ad5___G_major___C_Instruments_basic_pitch.mid\n",
      "0.3888888888888889\n",
      "video_ad14___D_major___D_G_A_D.mp4\n",
      "MoviePy - Writing audio in /storage/arkady/Glinka/Video2Music_/output/video_ad14___D_major___D_G_A_D.mp3\n"
     ]
    },
    {
     "name": "stderr",
     "output_type": "stream",
     "text": [
      "                                                                     \r"
     ]
    },
    {
     "name": "stdout",
     "output_type": "stream",
     "text": [
      "MoviePy - Done.\n",
      "=====Successfully written new mp3 to path_mp3=PosixPath('/storage/arkady/Glinka/Video2Music_/output/video_ad14___D_major___D_G_A_D.mp3')\n",
      "loading model... done\n",
      "loading wave source... done\n",
      "stft of wave source... done\n"
     ]
    },
    {
     "name": "stderr",
     "output_type": "stream",
     "text": [
      "100%|██████████| 5/5 [00:45<00:00,  9.00s/it]\n"
     ]
    },
    {
     "name": "stdout",
     "output_type": "stream",
     "text": [
      "validating output directory... done\n",
      "inverse stft of instruments... done\n",
      "inverse stft of vocals... done\n",
      "=====Instrumentals at: /storage/arkady/Glinka/Video2Music_/output/video_ad14___D_major___D_G_A_D_Instruments.wav\n",
      "=====Vocals at: /storage/arkady/Glinka/Video2Music_/output/video_ad14___D_major___D_G_A_D_Vocals.wav\n",
      "\n",
      "✨✨✨✨✨✨✨✨✨\n",
      "✨ Basic Pitch  ✨\n",
      "✨✨✨✨✨✨✨✨✨\n",
      "\n",
      "Importing Tensorflow (this may take a few seconds)...\n",
      "\n",
      "Predicting MIDI for /storage/arkady/Glinka/Video2Music_/output/video_ad14___D_major___D_G_A_D_Instruments.wav...\n",
      "\n",
      "\n",
      "  Creating midi...\n",
      "  🚨 /storage/arkady/Glinka/Video2Music_/output/video_ad14___D_major___D_G_A_D_Instruments_basic_pitch.mid already exists and would be overwritten. Skipping output files for /storage/arkady/Glinka/Video2Music_/output/video_ad14___D_major___D_G_A_D_Instruments.wav.\n",
      "/storage/arkady/Glinka/Video2Music_/output/video_ad14___D_major___D_G_A_D_Instruments_basic_pitch.mid\n",
      "0.2962962962962963\n",
      "video_ad25___D_major___D_G_A_D.mp4\n",
      "MoviePy - Writing audio in /storage/arkady/Glinka/Video2Music_/output/video_ad25___D_major___D_G_A_D.mp3\n"
     ]
    },
    {
     "name": "stderr",
     "output_type": "stream",
     "text": [
      "                                                                     \r"
     ]
    },
    {
     "name": "stdout",
     "output_type": "stream",
     "text": [
      "MoviePy - Done.\n",
      "=====Successfully written new mp3 to path_mp3=PosixPath('/storage/arkady/Glinka/Video2Music_/output/video_ad25___D_major___D_G_A_D.mp3')\n",
      "loading model... done\n",
      "loading wave source... done\n",
      "stft of wave source... done\n"
     ]
    },
    {
     "name": "stderr",
     "output_type": "stream",
     "text": [
      "100%|██████████| 5/5 [00:49<00:00,  9.88s/it]\n"
     ]
    },
    {
     "name": "stdout",
     "output_type": "stream",
     "text": [
      "validating output directory... done\n",
      "inverse stft of instruments... done\n",
      "inverse stft of vocals... done\n",
      "=====Instrumentals at: /storage/arkady/Glinka/Video2Music_/output/video_ad25___D_major___D_G_A_D_Instruments.wav\n",
      "=====Vocals at: /storage/arkady/Glinka/Video2Music_/output/video_ad25___D_major___D_G_A_D_Vocals.wav\n",
      "\n",
      "✨✨✨✨✨✨✨✨✨\n",
      "✨ Basic Pitch  ✨\n",
      "✨✨✨✨✨✨✨✨✨\n",
      "\n",
      "Importing Tensorflow (this may take a few seconds)...\n",
      "\n",
      "Predicting MIDI for /storage/arkady/Glinka/Video2Music_/output/video_ad25___D_major___D_G_A_D_Instruments.wav...\n",
      "\n",
      "\n",
      "  Creating midi...\n",
      "  💅 Saved to /storage/arkady/Glinka/Video2Music_/output/video_ad25___D_major___D_G_A_D_Instruments_basic_pitch.mid\n",
      "\n",
      "✨ Done ✨\n",
      "\n",
      "/storage/arkady/Glinka/Video2Music_/output/video_ad25___D_major___D_G_A_D_Instruments_basic_pitch.mid\n",
      "0.34615384615384615\n",
      "video_ad5___C_major___C_Am_F_G.mp4\n",
      "MoviePy - Writing audio in /storage/arkady/Glinka/Video2Music_/output/video_ad5___C_major___C_Am_F_G.mp3\n"
     ]
    },
    {
     "name": "stderr",
     "output_type": "stream",
     "text": [
      "                                                                   \r"
     ]
    },
    {
     "name": "stdout",
     "output_type": "stream",
     "text": [
      "MoviePy - Done.\n",
      "=====Successfully written new mp3 to path_mp3=PosixPath('/storage/arkady/Glinka/Video2Music_/output/video_ad5___C_major___C_Am_F_G.mp3')\n",
      "loading model... done\n",
      "loading wave source... done\n",
      "stft of wave source... done\n"
     ]
    },
    {
     "name": "stderr",
     "output_type": "stream",
     "text": [
      "100%|██████████| 3/3 [00:29<00:00,  9.99s/it]\n"
     ]
    },
    {
     "name": "stdout",
     "output_type": "stream",
     "text": [
      "validating output directory... done\n",
      "inverse stft of instruments... done\n",
      "inverse stft of vocals... done\n",
      "=====Instrumentals at: /storage/arkady/Glinka/Video2Music_/output/video_ad5___C_major___C_Am_F_G_Instruments.wav\n",
      "=====Vocals at: /storage/arkady/Glinka/Video2Music_/output/video_ad5___C_major___C_Am_F_G_Vocals.wav\n",
      "\n",
      "✨✨✨✨✨✨✨✨✨\n",
      "✨ Basic Pitch  ✨\n",
      "✨✨✨✨✨✨✨✨✨\n",
      "\n",
      "Importing Tensorflow (this may take a few seconds)...\n",
      "\n",
      "Predicting MIDI for /storage/arkady/Glinka/Video2Music_/output/video_ad5___C_major___C_Am_F_G_Instruments.wav...\n",
      "\n",
      "\n",
      "  Creating midi...\n",
      "  💅 Saved to /storage/arkady/Glinka/Video2Music_/output/video_ad5___C_major___C_Am_F_G_Instruments_basic_pitch.mid\n",
      "\n",
      "✨ Done ✨\n",
      "\n",
      "/storage/arkady/Glinka/Video2Music_/output/video_ad5___C_major___C_Am_F_G_Instruments_basic_pitch.mid\n",
      "0.3888888888888889\n",
      "video_ad5___D_major___D_G_A_D.mp4\n",
      "MoviePy - Writing audio in /storage/arkady/Glinka/Video2Music_/output/video_ad5___D_major___D_G_A_D.mp3\n"
     ]
    },
    {
     "name": "stderr",
     "output_type": "stream",
     "text": [
      "                                                                   \r"
     ]
    },
    {
     "name": "stdout",
     "output_type": "stream",
     "text": [
      "MoviePy - Done.\n",
      "=====Successfully written new mp3 to path_mp3=PosixPath('/storage/arkady/Glinka/Video2Music_/output/video_ad5___D_major___D_G_A_D.mp3')\n",
      "loading model... done\n",
      "loading wave source... done\n",
      "stft of wave source... done\n"
     ]
    },
    {
     "name": "stderr",
     "output_type": "stream",
     "text": [
      "100%|██████████| 3/3 [00:31<00:00, 10.39s/it]\n"
     ]
    },
    {
     "name": "stdout",
     "output_type": "stream",
     "text": [
      "validating output directory... done\n",
      "inverse stft of instruments... done\n",
      "inverse stft of vocals... done\n",
      "=====Instrumentals at: /storage/arkady/Glinka/Video2Music_/output/video_ad5___D_major___D_G_A_D_Instruments.wav\n",
      "=====Vocals at: /storage/arkady/Glinka/Video2Music_/output/video_ad5___D_major___D_G_A_D_Vocals.wav\n",
      "\n",
      "✨✨✨✨✨✨✨✨✨\n",
      "✨ Basic Pitch  ✨\n",
      "✨✨✨✨✨✨✨✨✨\n",
      "\n",
      "Importing Tensorflow (this may take a few seconds)...\n",
      "\n",
      "Predicting MIDI for /storage/arkady/Glinka/Video2Music_/output/video_ad5___D_major___D_G_A_D_Instruments.wav...\n",
      "\n",
      "\n",
      "  Creating midi...\n",
      "  💅 Saved to /storage/arkady/Glinka/Video2Music_/output/video_ad5___D_major___D_G_A_D_Instruments_basic_pitch.mid\n",
      "\n",
      "✨ Done ✨\n",
      "\n",
      "/storage/arkady/Glinka/Video2Music_/output/video_ad5___D_major___D_G_A_D_Instruments_basic_pitch.mid\n",
      "0.3888888888888889\n",
      "video_ad14___C_major___C_Am_F_G.mp4\n",
      "MoviePy - Writing audio in /storage/arkady/Glinka/Video2Music_/output/video_ad14___C_major___C_Am_F_G.mp3\n"
     ]
    },
    {
     "name": "stderr",
     "output_type": "stream",
     "text": [
      "                                                                     \r"
     ]
    },
    {
     "name": "stdout",
     "output_type": "stream",
     "text": [
      "MoviePy - Done.\n",
      "=====Successfully written new mp3 to path_mp3=PosixPath('/storage/arkady/Glinka/Video2Music_/output/video_ad14___C_major___C_Am_F_G.mp3')\n",
      "loading model... done\n",
      "loading wave source... done\n",
      "stft of wave source... done\n"
     ]
    },
    {
     "name": "stderr",
     "output_type": "stream",
     "text": [
      "100%|██████████| 5/5 [00:42<00:00,  8.45s/it]\n"
     ]
    },
    {
     "name": "stdout",
     "output_type": "stream",
     "text": [
      "validating output directory... done\n",
      "inverse stft of instruments... done\n",
      "inverse stft of vocals... done\n",
      "=====Instrumentals at: /storage/arkady/Glinka/Video2Music_/output/video_ad14___C_major___C_Am_F_G_Instruments.wav\n",
      "=====Vocals at: /storage/arkady/Glinka/Video2Music_/output/video_ad14___C_major___C_Am_F_G_Vocals.wav\n",
      "\n",
      "✨✨✨✨✨✨✨✨✨\n",
      "✨ Basic Pitch  ✨\n",
      "✨✨✨✨✨✨✨✨✨\n",
      "\n",
      "Importing Tensorflow (this may take a few seconds)...\n",
      "\n",
      "Predicting MIDI for /storage/arkady/Glinka/Video2Music_/output/video_ad14___C_major___C_Am_F_G_Instruments.wav...\n",
      "\n",
      "\n",
      "  Creating midi...\n",
      "  💅 Saved to /storage/arkady/Glinka/Video2Music_/output/video_ad14___C_major___C_Am_F_G_Instruments_basic_pitch.mid\n",
      "\n",
      "✨ Done ✨\n",
      "\n",
      "/storage/arkady/Glinka/Video2Music_/output/video_ad14___C_major___C_Am_F_G_Instruments_basic_pitch.mid\n",
      "0.2962962962962963\n",
      "video_ad14___G_major___C.mp4\n",
      "MoviePy - Writing audio in /storage/arkady/Glinka/Video2Music_/output/video_ad14___G_major___C.mp3\n"
     ]
    },
    {
     "name": "stderr",
     "output_type": "stream",
     "text": [
      "                                                                     \r"
     ]
    },
    {
     "name": "stdout",
     "output_type": "stream",
     "text": [
      "MoviePy - Done.\n",
      "=====Successfully written new mp3 to path_mp3=PosixPath('/storage/arkady/Glinka/Video2Music_/output/video_ad14___G_major___C.mp3')\n",
      "loading model... done\n",
      "loading wave source... done\n",
      "stft of wave source... done\n"
     ]
    },
    {
     "name": "stderr",
     "output_type": "stream",
     "text": [
      "100%|██████████| 5/5 [00:56<00:00, 11.25s/it]\n"
     ]
    },
    {
     "name": "stdout",
     "output_type": "stream",
     "text": [
      "validating output directory... done\n",
      "inverse stft of instruments... done\n",
      "inverse stft of vocals... done\n",
      "=====Instrumentals at: /storage/arkady/Glinka/Video2Music_/output/video_ad14___G_major___C_Instruments.wav\n",
      "=====Vocals at: /storage/arkady/Glinka/Video2Music_/output/video_ad14___G_major___C_Vocals.wav\n",
      "\n",
      "✨✨✨✨✨✨✨✨✨\n",
      "✨ Basic Pitch  ✨\n",
      "✨✨✨✨✨✨✨✨✨\n",
      "\n",
      "Importing Tensorflow (this may take a few seconds)...\n",
      "\n",
      "Predicting MIDI for /storage/arkady/Glinka/Video2Music_/output/video_ad14___G_major___C_Instruments.wav...\n",
      "\n",
      "\n",
      "  Creating midi...\n",
      "  💅 Saved to /storage/arkady/Glinka/Video2Music_/output/video_ad14___G_major___C_Instruments_basic_pitch.mid\n",
      "\n",
      "✨ Done ✨\n",
      "\n",
      "/storage/arkady/Glinka/Video2Music_/output/video_ad14___G_major___C_Instruments_basic_pitch.mid\n",
      "0.2962962962962963\n",
      "video_ad25___G_major___C.mp4\n",
      "MoviePy - Writing audio in /storage/arkady/Glinka/Video2Music_/output/video_ad25___G_major___C.mp3\n"
     ]
    },
    {
     "name": "stderr",
     "output_type": "stream",
     "text": [
      "                                                                     \r"
     ]
    },
    {
     "name": "stdout",
     "output_type": "stream",
     "text": [
      "MoviePy - Done.\n",
      "=====Successfully written new mp3 to path_mp3=PosixPath('/storage/arkady/Glinka/Video2Music_/output/video_ad25___G_major___C.mp3')\n",
      "loading model... done\n",
      "loading wave source... done\n",
      "stft of wave source... done\n"
     ]
    },
    {
     "name": "stderr",
     "output_type": "stream",
     "text": [
      "100%|██████████| 5/5 [00:51<00:00, 10.24s/it]\n"
     ]
    },
    {
     "name": "stdout",
     "output_type": "stream",
     "text": [
      "validating output directory... done\n",
      "inverse stft of instruments... done\n",
      "inverse stft of vocals... done\n",
      "=====Instrumentals at: /storage/arkady/Glinka/Video2Music_/output/video_ad25___G_major___C_Instruments.wav\n",
      "=====Vocals at: /storage/arkady/Glinka/Video2Music_/output/video_ad25___G_major___C_Vocals.wav\n",
      "\n",
      "✨✨✨✨✨✨✨✨✨\n",
      "✨ Basic Pitch  ✨\n",
      "✨✨✨✨✨✨✨✨✨\n",
      "\n",
      "Importing Tensorflow (this may take a few seconds)...\n",
      "\n",
      "Predicting MIDI for /storage/arkady/Glinka/Video2Music_/output/video_ad25___G_major___C_Instruments.wav...\n",
      "\n",
      "\n",
      "  Creating midi...\n",
      "  💅 Saved to /storage/arkady/Glinka/Video2Music_/output/video_ad25___G_major___C_Instruments_basic_pitch.mid\n",
      "\n",
      "✨ Done ✨\n",
      "\n",
      "/storage/arkady/Glinka/Video2Music_/output/video_ad25___G_major___C_Instruments_basic_pitch.mid\n",
      "0.2962962962962963\n"
     ]
    }
   ],
   "source": [
    "import re\n",
    "from video_utils.metrics import get_key_midi_moments\n",
    "from video_utils.metrics import concordance_score\n",
    "\n",
    "def extract_ad_number(file_name):\n",
    "    match = re.search(r'ad(\\d+)', file_name)\n",
    "    if match:\n",
    "        return int(match.group(1))\n",
    "    return None\n",
    "    \n",
    "root = Path('/storage/arkady/Glinka/Video2Music_/output/')\n",
    "for file in os.listdir(root):\n",
    "    if 'mp4' not in file:\n",
    "        continue\n",
    "    print(file)\n",
    "    path_midi = mp4_to_midi(\n",
    "    \troot / file,\n",
    "    \toutput_dir=str(root),\n",
    "    \tgroup_to_folder=False\n",
    "    )\n",
    "\n",
    "    # path_midi = root / (Path(file).stem + '_basic_pitch.mid')\n",
    "    # path_midi = Path('/storage/arkady/Glinka/Video2Music_/output/video_ad14___D_major___D_G_A_D_Instruments_basic_pitch.mid')\n",
    "    print(path_midi)\n",
    "\n",
    "    ad_id = extract_ad_number(path_midi.stem)\n",
    "\n",
    "    path_kvm = Path('generated_4x2x2') / f'video_ad{ad_id}' / 'kvm4.csv'\n",
    "    df = pd.read_csv(path_kvm)\n",
    "    kvm4 = df.query('key_moment == 1').index / df.iloc[-1, -1]\n",
    "    kvm4 = list(kvm4)\n",
    "    # print(kvm4)\n",
    "\n",
    "    key_midi_moments = get_key_midi_moments(\n",
    "        path_midi,\n",
    "        ['density', 'velocity'][0],\n",
    "        len(kvm4) * 2,\n",
    "    )\n",
    "    key_midi_moments = [float(x) for x in key_midi_moments]\n",
    "    # print(key_midi_moments)\n",
    "\n",
    "    score = concordance_score(\n",
    "        video_moments=kvm4, \n",
    "        music_moments=key_midi_moments, \n",
    "        **alignment_metric_params\n",
    "    )\n",
    "\n",
    "    print(score)\n"
   ]
  },
  {
   "cell_type": "code",
   "execution_count": 18,
   "metadata": {},
   "outputs": [
    {
     "name": "stdout",
     "output_type": "stream",
     "text": [
      "video_ad14___C_major___C_Am_F_G.mp4\n",
      "/storage/arkady/Glinka/Video2Music_/output/video_ad14___C_major___C_Am_F_G_Instruments_basic_pitch.mid\n",
      "0.2962962962962963\n",
      "video_ad14___D_major___D_G_A_D.mp4\n",
      "/storage/arkady/Glinka/Video2Music_/output/video_ad14___D_major___D_G_A_D_Instruments_basic_pitch.mid\n"
     ]
    },
    {
     "name": "stderr",
     "output_type": "stream",
     "text": [
      "/storage/arkady/miniconda3/envs/VideoMusic/lib/python3.10/site-packages/music21/stream/base.py:3694: Music21DeprecationWarning: .flat is deprecated.  Call .flatten() instead\n",
      "  return self.iter().getElementsByClass(classFilterList)\n",
      "/storage/arkady/miniconda3/envs/VideoMusic/lib/python3.10/site-packages/music21/stream/base.py:3694: Music21DeprecationWarning: .flat is deprecated.  Call .flatten() instead\n",
      "  return self.iter().getElementsByClass(classFilterList)\n"
     ]
    },
    {
     "name": "stdout",
     "output_type": "stream",
     "text": [
      "0.2962962962962963\n",
      "video_ad14___G_major___C.mp4\n",
      "/storage/arkady/Glinka/Video2Music_/output/video_ad14___G_major___C_Instruments_basic_pitch.mid\n",
      "0.2962962962962963\n",
      "video_ad25___C_major___C_Am_F_G.mp4\n",
      "/storage/arkady/Glinka/Video2Music_/output/video_ad25___C_major___C_Am_F_G_Instruments_basic_pitch.mid\n"
     ]
    },
    {
     "name": "stderr",
     "output_type": "stream",
     "text": [
      "/storage/arkady/miniconda3/envs/VideoMusic/lib/python3.10/site-packages/music21/stream/base.py:3694: Music21DeprecationWarning: .flat is deprecated.  Call .flatten() instead\n",
      "  return self.iter().getElementsByClass(classFilterList)\n",
      "/storage/arkady/miniconda3/envs/VideoMusic/lib/python3.10/site-packages/music21/stream/base.py:3694: Music21DeprecationWarning: .flat is deprecated.  Call .flatten() instead\n",
      "  return self.iter().getElementsByClass(classFilterList)\n"
     ]
    },
    {
     "name": "stdout",
     "output_type": "stream",
     "text": [
      "0.34615384615384615\n",
      "video_ad25___D_major___D_G_A_D.mp4\n",
      "/storage/arkady/Glinka/Video2Music_/output/video_ad25___D_major___D_G_A_D_Instruments_basic_pitch.mid\n"
     ]
    },
    {
     "name": "stderr",
     "output_type": "stream",
     "text": [
      "/storage/arkady/miniconda3/envs/VideoMusic/lib/python3.10/site-packages/music21/stream/base.py:3694: Music21DeprecationWarning: .flat is deprecated.  Call .flatten() instead\n",
      "  return self.iter().getElementsByClass(classFilterList)\n"
     ]
    },
    {
     "name": "stdout",
     "output_type": "stream",
     "text": [
      "0.34615384615384615\n",
      "video_ad25___G_major___C.mp4\n",
      "/storage/arkady/Glinka/Video2Music_/output/video_ad25___G_major___C_Instruments_basic_pitch.mid\n"
     ]
    },
    {
     "name": "stderr",
     "output_type": "stream",
     "text": [
      "/storage/arkady/miniconda3/envs/VideoMusic/lib/python3.10/site-packages/music21/stream/base.py:3694: Music21DeprecationWarning: .flat is deprecated.  Call .flatten() instead\n",
      "  return self.iter().getElementsByClass(classFilterList)\n",
      "/storage/arkady/miniconda3/envs/VideoMusic/lib/python3.10/site-packages/music21/stream/base.py:3694: Music21DeprecationWarning: .flat is deprecated.  Call .flatten() instead\n",
      "  return self.iter().getElementsByClass(classFilterList)\n",
      "/storage/arkady/miniconda3/envs/VideoMusic/lib/python3.10/site-packages/music21/stream/base.py:3694: Music21DeprecationWarning: .flat is deprecated.  Call .flatten() instead\n",
      "  return self.iter().getElementsByClass(classFilterList)\n"
     ]
    },
    {
     "name": "stdout",
     "output_type": "stream",
     "text": [
      "0.2962962962962963\n",
      "video_ad5___C_major___C_Am_F_G.mp4\n",
      "/storage/arkady/Glinka/Video2Music_/output/video_ad5___C_major___C_Am_F_G_Instruments_basic_pitch.mid\n",
      "0.3888888888888889\n",
      "video_ad5___D_major___D_G_A_D.mp4\n",
      "/storage/arkady/Glinka/Video2Music_/output/video_ad5___D_major___D_G_A_D_Instruments_basic_pitch.mid\n",
      "0.3888888888888889\n",
      "video_ad5___G_major___C.mp4\n",
      "/storage/arkady/Glinka/Video2Music_/output/video_ad5___G_major___C_Instruments_basic_pitch.mid\n",
      "0.3888888888888889\n"
     ]
    },
    {
     "name": "stderr",
     "output_type": "stream",
     "text": [
      "/storage/arkady/miniconda3/envs/VideoMusic/lib/python3.10/site-packages/music21/stream/base.py:3694: Music21DeprecationWarning: .flat is deprecated.  Call .flatten() instead\n",
      "  return self.iter().getElementsByClass(classFilterList)\n"
     ]
    }
   ],
   "source": [
    "import re\n",
    "from video_utils.metrics import get_key_midi_moments\n",
    "from video_utils.metrics import concordance_score\n",
    "\n",
    "def extract_ad_number(file_name):\n",
    "    match = re.search(r'ad(\\d+)', file_name)\n",
    "    if match:\n",
    "        return int(match.group(1))\n",
    "    return None\n",
    "    \n",
    "f = open('v2m_score.txt' , 'w')\n",
    "root = Path('/storage/arkady/Glinka/Video2Music_/output/')\n",
    "for file in sorted(os.listdir(root)):\n",
    "    if 'mp4' not in file:\n",
    "        continue\n",
    "    print(file)\n",
    "    f.write(file + '\\n')\n",
    "    # path_midi = mp4_to_midi(\n",
    "    # \troot / file,\n",
    "    # \toutput_dir=str(root),\n",
    "    # \tgroup_to_folder=False\n",
    "    # )\n",
    "\n",
    "    # path_midi = Path('/storage/arkady/Glinka/Video2Music_/output/video_ad14___D_major___D_G_A_D_Instruments_basic_pitch.mid')\n",
    "    path_midi = root / (Path(file).stem + '_Instruments_basic_pitch.mid')\n",
    "    if not path_midi.exists():\n",
    "        print('#' * 30)\n",
    "    print(path_midi)\n",
    "\n",
    "    ad_id = extract_ad_number(path_midi.stem)\n",
    "\n",
    "    path_kvm = Path('generated_4x2x2') / f'video_ad{ad_id}' / 'kvm4.csv'\n",
    "    df = pd.read_csv(path_kvm)\n",
    "    kvm4 = df.query('key_moment == 1').index / df.iloc[-1, -1]\n",
    "    kvm4 = list(kvm4)\n",
    "    # print(kvm4)\n",
    "\n",
    "    key_midi_moments = get_key_midi_moments(\n",
    "        path_midi,\n",
    "        ['density', 'velocity'][0],\n",
    "        len(kvm4) * 2,\n",
    "    )\n",
    "    key_midi_moments = [float(x) for x in key_midi_moments]\n",
    "    # print(key_midi_moments)\n",
    "\n",
    "    score = concordance_score(\n",
    "        video_moments=kvm4, \n",
    "        music_moments=key_midi_moments, \n",
    "        **alignment_metric_params\n",
    "    )\n",
    "    f.write(str(score) + '\\n')\n",
    "    print(score)\n",
    "\n",
    "f.close()\n"
   ]
  },
  {
   "cell_type": "code",
   "execution_count": 94,
   "metadata": {},
   "outputs": [
    {
     "name": "stdout",
     "output_type": "stream",
     "text": [
      "0.1\n"
     ]
    }
   ],
   "source": [
    "key_midi_moments = get_key_midi_moments(\n",
    "        path_midi_orig,\n",
    "        ['density', 'velocity'][0],\n",
    "        len(kvm4) * 1.5,\n",
    "    )\n",
    "\n",
    "ametric = concordance_score(\n",
    "    video_moments=kvm4, \n",
    "    music_moments=key_midi_moments, \n",
    "    **alignment_metric_params\n",
    ")\n",
    "\n",
    "print(ametric)"
   ]
  },
  {
   "cell_type": "markdown",
   "metadata": {},
   "source": [
    "# Configs for MT+velocity"
   ]
  },
  {
   "cell_type": "code",
   "execution_count": 13,
   "metadata": {},
   "outputs": [
    {
     "name": "stdout",
     "output_type": "stream",
     "text": [
      "{'video_ad14.mp4': [0.0,\n",
      "                    1.0,\n",
      "                    1.68,\n",
      "                    2.44,\n",
      "                    3.04,\n",
      "                    4.36,\n",
      "                    10.64,\n",
      "                    17.44,\n",
      "                    19.72,\n",
      "                    24.2,\n",
      "                    36.76,\n",
      "                    44.16],\n",
      " 'video_ad25.mp4': [0.0,\n",
      "                    5.52,\n",
      "                    9.48,\n",
      "                    12.4,\n",
      "                    14.56,\n",
      "                    15.64,\n",
      "                    17.2,\n",
      "                    25.28,\n",
      "                    26.24,\n",
      "                    33.52,\n",
      "                    39.28,\n",
      "                    46.28],\n",
      " 'video_ad32.mp4': [0.0,\n",
      "                    1.001,\n",
      "                    2.2939583333333333,\n",
      "                    29.988291666666665,\n",
      "                    32.07370833333333,\n",
      "                    45.79575,\n",
      "                    46.671625,\n",
      "                    48.59020833333333,\n",
      "                    52.59420833333333],\n",
      " 'video_ad38.mp4': [0.0,\n",
      "                    2.125,\n",
      "                    3.1666666666666665,\n",
      "                    6.166666666666667,\n",
      "                    9.041666666666666,\n",
      "                    11.375,\n",
      "                    28.958333333333332,\n",
      "                    30.75,\n",
      "                    32.375,\n",
      "                    34.875,\n",
      "                    37.0,\n",
      "                    38.291666666666664,\n",
      "                    43.708333333333336],\n",
      " 'video_ad5.mp4': [0.0,\n",
      "                   2.2333333333333334,\n",
      "                   4.433333333333334,\n",
      "                   5.733333333333333,\n",
      "                   9.333333333333334,\n",
      "                   13.6,\n",
      "                   14.533333333333333,\n",
      "                   18.766666666666666,\n",
      "                   20.033333333333335,\n",
      "                   22.8,\n",
      "                   27.9]}\n"
     ]
    }
   ],
   "source": [
    "from itertools import product\n",
    "\n",
    "cfg = {}\n",
    "for ad_id in ([5, 14, 25, 32, 38]):\n",
    "    name = f'video_ad{ad_id}'\n",
    "    root = Path('generated_4x2x2')\n",
    "    \n",
    "    path_kvm = root / name / 'kvm4.csv'\n",
    "    if not path_kvm.exists():\n",
    "        continue\n",
    "\n",
    "    # print(path_kvm)\n",
    "    df = pd.read_csv(path_kvm)\n",
    "    kvm = df.query('key_moment == 1').index / df.iloc[-1, -1]\n",
    "    cfg[name + '.mp4'] = list(kvm)\n",
    "\n",
    "from pprint import pprint\n",
    "\n",
    "pprint(cfg)\n",
    "\n",
    "json.dump(cfg, open('MT_velocity_arkady.json', 'w'), indent=4)"
   ]
  }
 ],
 "metadata": {
  "kernelspec": {
   "display_name": "Python 3",
   "language": "python",
   "name": "python3"
  },
  "language_info": {
   "codemirror_mode": {
    "name": "ipython",
    "version": 3
   },
   "file_extension": ".py",
   "mimetype": "text/x-python",
   "name": "python",
   "nbconvert_exporter": "python",
   "pygments_lexer": "ipython3",
   "version": "3.10.14"
  }
 },
 "nbformat": 4,
 "nbformat_minor": 4
}
