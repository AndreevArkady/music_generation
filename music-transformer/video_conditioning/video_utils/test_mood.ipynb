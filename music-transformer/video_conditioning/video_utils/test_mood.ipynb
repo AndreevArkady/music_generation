{
  "cells": [
    {
      "cell_type": "markdown",
      "metadata": {
        "id": "e33vq5DaLAG5"
      },
      "source": [
        "### Генерация музыки, хорошо подходящей под видеоролик с учетом настроения и выделением ключевых моментов\n",
        "Поклонская Мария\n",
        "\n"
      ]
    },
    {
      "cell_type": "markdown",
      "metadata": {},
      "source": []
    },
    {
      "cell_type": "markdown",
      "metadata": {
        "id": "QcbgtY00K_8k"
      },
      "source": [
        "Тестирование готовых решений по анализу настроения и выделению ключевых моментов в видео"
      ]
    },
    {
      "cell_type": "code",
      "execution_count": null,
      "metadata": {
        "colab": {
          "base_uri": "https://localhost:8080/"
        },
        "id": "FlDF4G11Kmo4",
        "outputId": "54e00051-64df-491b-e7cc-87a480f360b7"
      },
      "outputs": [
        {
          "name": "stdout",
          "output_type": "stream",
          "text": [
            "Cloning into 'visual-sentiment-analysis'...\n",
            "remote: Enumerating objects: 24, done.\u001b[K\n",
            "remote: Counting objects: 100% (24/24), done.\u001b[K\n",
            "remote: Compressing objects: 100% (21/21), done.\u001b[K\n",
            "remote: Total 24 (delta 9), reused 13 (delta 3), pack-reused 0\u001b[K\n",
            "Unpacking objects: 100% (24/24), done.\n"
          ]
        }
      ],
      "source": [
        "!git clone https://github.com/fabiocarrara/visual-sentiment-analysis.git"
      ]
    },
    {
      "cell_type": "code",
      "execution_count": null,
      "metadata": {
        "colab": {
          "base_uri": "https://localhost:8080/"
        },
        "id": "G8OwCwyiU7y5",
        "outputId": "e36bae82-02e2-48aa-bc51-456eafe2a3df"
      },
      "outputs": [
        {
          "name": "stdout",
          "output_type": "stream",
          "text": [
            "/content/visual-sentiment-analysis\n"
          ]
        }
      ],
      "source": [
        "%cd /content/visual-sentiment-analysis"
      ]
    },
    {
      "cell_type": "code",
      "execution_count": null,
      "metadata": {
        "id": "o2Vy2RB-PyKm"
      },
      "outputs": [],
      "source": [
        "!/content/visual-sentiment-analysis/download_models.sh"
      ]
    },
    {
      "cell_type": "markdown",
      "metadata": {
        "id": "HnGu-E2odHNT"
      },
      "source": [
        "Сначала протестируем на наборе изображений (не видео)"
      ]
    },
    {
      "cell_type": "code",
      "execution_count": null,
      "metadata": {
        "colab": {
          "base_uri": "https://localhost:8080/"
        },
        "id": "uVEynR5eQNcm",
        "outputId": "17d4fbfc-9f5d-4236-9772-0c9945ab297d"
      },
      "outputs": [
        {
          "name": "stdout",
          "output_type": "stream",
          "text": [
            "/usr/local/lib/python3.7/dist-packages/torch/utils/data/dataloader.py:566: UserWarning: This DataLoader will create 8 worker processes in total. Our suggested max number of worker in current system is 2, which is smaller than what this DataLoader is going to create. Please be aware that excessive worker creation might get DataLoader running slow or even freeze, lower the worker number to avoid potential slowness/freeze if necessary.\n",
            "  cpuset_checked))\n",
            "  0% 0/1 [00:00<?, ?it/s]/content/visual-sentiment-analysis/vgg19.py:116: UserWarning: Implicit dimension choice for softmax has been deprecated. Change the call to include dim=X as an argument.\n",
            "  softmax         = F.softmax(fc8_retrain_1)\n",
            "100% 1/1 [00:02<00:00,  2.76s/it]\n"
          ]
        }
      ],
      "source": [
        "!python predict.py images.txt --model vgg19_finetuned_all --batch-size 64 > predictions.csv"
      ]
    },
    {
      "cell_type": "markdown",
      "metadata": {
        "id": "XYZr-y9oYXqI"
      },
      "source": [
        "Порядок классов (вероятностей) в выходной табличке:  negative, neutral, and positive"
      ]
    },
    {
      "cell_type": "code",
      "execution_count": null,
      "metadata": {
        "colab": {
          "base_uri": "https://localhost:8080/",
          "height": 238
        },
        "id": "lBSnvAQ3YFbm",
        "outputId": "e3f0b06c-8cc9-4296-f34c-27ca956f0a5c"
      },
      "outputs": [
        {
          "data": {
            "text/html": [
              "\n",
              "  <div id=\"df-22146cf5-58ec-4d54-b948-7870a0019b13\">\n",
              "    <div class=\"colab-df-container\">\n",
              "      <div>\n",
              "<style scoped>\n",
              "    .dataframe tbody tr th:only-of-type {\n",
              "        vertical-align: middle;\n",
              "    }\n",
              "\n",
              "    .dataframe tbody tr th {\n",
              "        vertical-align: top;\n",
              "    }\n",
              "\n",
              "    .dataframe thead th {\n",
              "        text-align: right;\n",
              "    }\n",
              "</style>\n",
              "<table border=\"1\" class=\"dataframe\">\n",
              "  <thead>\n",
              "    <tr style=\"text-align: right;\">\n",
              "      <th></th>\n",
              "      <th>negative</th>\n",
              "      <th>neutral</th>\n",
              "      <th>positive</th>\n",
              "    </tr>\n",
              "  </thead>\n",
              "  <tbody>\n",
              "    <tr>\n",
              "      <th>0</th>\n",
              "      <td>0.123606</td>\n",
              "      <td>0.355793</td>\n",
              "      <td>0.520602</td>\n",
              "    </tr>\n",
              "    <tr>\n",
              "      <th>1</th>\n",
              "      <td>0.417036</td>\n",
              "      <td>0.041934</td>\n",
              "      <td>0.541029</td>\n",
              "    </tr>\n",
              "    <tr>\n",
              "      <th>2</th>\n",
              "      <td>0.627535</td>\n",
              "      <td>0.199636</td>\n",
              "      <td>0.172829</td>\n",
              "    </tr>\n",
              "    <tr>\n",
              "      <th>3</th>\n",
              "      <td>0.365742</td>\n",
              "      <td>0.246392</td>\n",
              "      <td>0.387866</td>\n",
              "    </tr>\n",
              "    <tr>\n",
              "      <th>4</th>\n",
              "      <td>0.668253</td>\n",
              "      <td>0.041122</td>\n",
              "      <td>0.290625</td>\n",
              "    </tr>\n",
              "    <tr>\n",
              "      <th>5</th>\n",
              "      <td>0.211278</td>\n",
              "      <td>0.212866</td>\n",
              "      <td>0.575857</td>\n",
              "    </tr>\n",
              "  </tbody>\n",
              "</table>\n",
              "</div>\n",
              "      <button class=\"colab-df-convert\" onclick=\"convertToInteractive('df-22146cf5-58ec-4d54-b948-7870a0019b13')\"\n",
              "              title=\"Convert this dataframe to an interactive table.\"\n",
              "              style=\"display:none;\">\n",
              "        \n",
              "  <svg xmlns=\"http://www.w3.org/2000/svg\" height=\"24px\"viewBox=\"0 0 24 24\"\n",
              "       width=\"24px\">\n",
              "    <path d=\"M0 0h24v24H0V0z\" fill=\"none\"/>\n",
              "    <path d=\"M18.56 5.44l.94 2.06.94-2.06 2.06-.94-2.06-.94-.94-2.06-.94 2.06-2.06.94zm-11 1L8.5 8.5l.94-2.06 2.06-.94-2.06-.94L8.5 2.5l-.94 2.06-2.06.94zm10 10l.94 2.06.94-2.06 2.06-.94-2.06-.94-.94-2.06-.94 2.06-2.06.94z\"/><path d=\"M17.41 7.96l-1.37-1.37c-.4-.4-.92-.59-1.43-.59-.52 0-1.04.2-1.43.59L10.3 9.45l-7.72 7.72c-.78.78-.78 2.05 0 2.83L4 21.41c.39.39.9.59 1.41.59.51 0 1.02-.2 1.41-.59l7.78-7.78 2.81-2.81c.8-.78.8-2.07 0-2.86zM5.41 20L4 18.59l7.72-7.72 1.47 1.35L5.41 20z\"/>\n",
              "  </svg>\n",
              "      </button>\n",
              "      \n",
              "  <style>\n",
              "    .colab-df-container {\n",
              "      display:flex;\n",
              "      flex-wrap:wrap;\n",
              "      gap: 12px;\n",
              "    }\n",
              "\n",
              "    .colab-df-convert {\n",
              "      background-color: #E8F0FE;\n",
              "      border: none;\n",
              "      border-radius: 50%;\n",
              "      cursor: pointer;\n",
              "      display: none;\n",
              "      fill: #1967D2;\n",
              "      height: 32px;\n",
              "      padding: 0 0 0 0;\n",
              "      width: 32px;\n",
              "    }\n",
              "\n",
              "    .colab-df-convert:hover {\n",
              "      background-color: #E2EBFA;\n",
              "      box-shadow: 0px 1px 2px rgba(60, 64, 67, 0.3), 0px 1px 3px 1px rgba(60, 64, 67, 0.15);\n",
              "      fill: #174EA6;\n",
              "    }\n",
              "\n",
              "    [theme=dark] .colab-df-convert {\n",
              "      background-color: #3B4455;\n",
              "      fill: #D2E3FC;\n",
              "    }\n",
              "\n",
              "    [theme=dark] .colab-df-convert:hover {\n",
              "      background-color: #434B5C;\n",
              "      box-shadow: 0px 1px 3px 1px rgba(0, 0, 0, 0.15);\n",
              "      filter: drop-shadow(0px 1px 2px rgba(0, 0, 0, 0.3));\n",
              "      fill: #FFFFFF;\n",
              "    }\n",
              "  </style>\n",
              "\n",
              "      <script>\n",
              "        const buttonEl =\n",
              "          document.querySelector('#df-22146cf5-58ec-4d54-b948-7870a0019b13 button.colab-df-convert');\n",
              "        buttonEl.style.display =\n",
              "          google.colab.kernel.accessAllowed ? 'block' : 'none';\n",
              "\n",
              "        async function convertToInteractive(key) {\n",
              "          const element = document.querySelector('#df-22146cf5-58ec-4d54-b948-7870a0019b13');\n",
              "          const dataTable =\n",
              "            await google.colab.kernel.invokeFunction('convertToInteractive',\n",
              "                                                     [key], {});\n",
              "          if (!dataTable) return;\n",
              "\n",
              "          const docLinkHtml = 'Like what you see? Visit the ' +\n",
              "            '<a target=\"_blank\" href=https://colab.research.google.com/notebooks/data_table.ipynb>data table notebook</a>'\n",
              "            + ' to learn more about interactive tables.';\n",
              "          element.innerHTML = '';\n",
              "          dataTable['output_type'] = 'display_data';\n",
              "          await google.colab.output.renderOutput(dataTable, element);\n",
              "          const docLink = document.createElement('div');\n",
              "          docLink.innerHTML = docLinkHtml;\n",
              "          element.appendChild(docLink);\n",
              "        }\n",
              "      </script>\n",
              "    </div>\n",
              "  </div>\n",
              "  "
            ],
            "text/plain": [
              "   negative   neutral  positive\n",
              "0  0.123606  0.355793  0.520602\n",
              "1  0.417036  0.041934  0.541029\n",
              "2  0.627535  0.199636  0.172829\n",
              "3  0.365742  0.246392  0.387866\n",
              "4  0.668253  0.041122  0.290625\n",
              "5  0.211278  0.212866  0.575857"
            ]
          },
          "execution_count": 12,
          "metadata": {},
          "output_type": "execute_result"
        }
      ],
      "source": [
        "import pandas as pd\n",
        "import numpy as np\n",
        "\n",
        "df = pd.read_csv('/content/visual-sentiment-analysis/predictions.csv', header=None)\n",
        "df.columns = ['negative', 'neutral', 'positive']\n",
        "df"
      ]
    },
    {
      "cell_type": "markdown",
      "metadata": {
        "id": "X6H6j5JedOUy"
      },
      "source": [
        "Теперь возьмем видео, разобьем его покадрово и попробуем проанализировать настроение"
      ]
    },
    {
      "cell_type": "code",
      "execution_count": null,
      "metadata": {
        "colab": {
          "base_uri": "https://localhost:8080/"
        },
        "id": "01_5mVz7_EEi",
        "outputId": "3c0ec291-5f50-4714-d526-28cbda24ea5b"
      },
      "outputs": [
        {
          "name": "stdout",
          "output_type": "stream",
          "text": [
            "Looking in indexes: https://pypi.org/simple, https://us-python.pkg.dev/colab-wheels/public/simple/\n",
            "Collecting pytorchvideo\n",
            "  Downloading pytorchvideo-0.1.5.tar.gz (132 kB)\n",
            "\u001b[K     |████████████████████████████████| 132 kB 4.7 MB/s \n",
            "\u001b[?25hCollecting fvcore\n",
            "  Downloading fvcore-0.1.5.post20220512.tar.gz (50 kB)\n",
            "\u001b[K     |████████████████████████████████| 50 kB 6.1 MB/s \n",
            "\u001b[?25hCollecting av\n",
            "  Downloading av-10.0.0-cp37-cp37m-manylinux_2_17_x86_64.manylinux2014_x86_64.whl (30.7 MB)\n",
            "\u001b[K     |████████████████████████████████| 30.7 MB 1.3 MB/s \n",
            "\u001b[?25hCollecting parameterized\n",
            "  Downloading parameterized-0.8.1-py2.py3-none-any.whl (26 kB)\n",
            "Collecting iopath\n",
            "  Downloading iopath-0.1.10.tar.gz (42 kB)\n",
            "\u001b[K     |████████████████████████████████| 42 kB 1.2 MB/s \n",
            "\u001b[?25hRequirement already satisfied: networkx in /usr/local/lib/python3.7/dist-packages (from pytorchvideo) (2.6.3)\n",
            "Requirement already satisfied: numpy in /usr/local/lib/python3.7/dist-packages (from fvcore->pytorchvideo) (1.21.6)\n",
            "Collecting yacs>=0.1.6\n",
            "  Downloading yacs-0.1.8-py3-none-any.whl (14 kB)\n",
            "Requirement already satisfied: pyyaml>=5.1 in /usr/local/lib/python3.7/dist-packages (from fvcore->pytorchvideo) (6.0)\n",
            "Requirement already satisfied: tqdm in /usr/local/lib/python3.7/dist-packages (from fvcore->pytorchvideo) (4.64.1)\n",
            "Requirement already satisfied: termcolor>=1.1 in /usr/local/lib/python3.7/dist-packages (from fvcore->pytorchvideo) (2.1.0)\n",
            "Requirement already satisfied: Pillow in /usr/local/lib/python3.7/dist-packages (from fvcore->pytorchvideo) (7.1.2)\n",
            "Requirement already satisfied: tabulate in /usr/local/lib/python3.7/dist-packages (from fvcore->pytorchvideo) (0.8.10)\n",
            "Requirement already satisfied: typing_extensions in /usr/local/lib/python3.7/dist-packages (from iopath->pytorchvideo) (4.1.1)\n",
            "Collecting portalocker\n",
            "  Downloading portalocker-2.6.0-py2.py3-none-any.whl (15 kB)\n",
            "Building wheels for collected packages: pytorchvideo, fvcore, iopath\n",
            "  Building wheel for pytorchvideo (setup.py) ... \u001b[?25l\u001b[?25hdone\n",
            "  Created wheel for pytorchvideo: filename=pytorchvideo-0.1.5-py3-none-any.whl size=188714 sha256=7246b2798fcf39a8c1c298c6bbf37ca73fd3e57598c2571109bd1cbdf2f6be07\n",
            "  Stored in directory: /root/.cache/pip/wheels/e8/51/05/053b29bac2400cbbae2fb7cfc41afd280d627bca7c9363ca80\n",
            "  Building wheel for fvcore (setup.py) ... \u001b[?25l\u001b[?25hdone\n",
            "  Created wheel for fvcore: filename=fvcore-0.1.5.post20220512-py3-none-any.whl size=61288 sha256=dd90cd4f31be96ea9c21edd01e90afc72215bf30c0a036d6d1f444ebc096cadf\n",
            "  Stored in directory: /root/.cache/pip/wheels/68/20/f9/a11a0dd63f4c13678b2a5ec488e48078756505c7777b75b29e\n",
            "  Building wheel for iopath (setup.py) ... \u001b[?25l\u001b[?25hdone\n",
            "  Created wheel for iopath: filename=iopath-0.1.10-py3-none-any.whl size=31549 sha256=236f85d21575f5aba7385c400fb0bbbfe551694255761a5ad751f0c9836652c5\n",
            "  Stored in directory: /root/.cache/pip/wheels/aa/cc/ed/ca4e88beef656b01c84b9185196513ef2faf74a5a379b043a7\n",
            "Successfully built pytorchvideo fvcore iopath\n",
            "Installing collected packages: portalocker, yacs, iopath, parameterized, fvcore, av, pytorchvideo\n",
            "Successfully installed av-10.0.0 fvcore-0.1.5.post20220512 iopath-0.1.10 parameterized-0.8.1 portalocker-2.6.0 pytorchvideo-0.1.5 yacs-0.1.8\n"
          ]
        }
      ],
      "source": [
        "!pip install pytorchvideo"
      ]
    },
    {
      "cell_type": "code",
      "execution_count": null,
      "metadata": {
        "colab": {
          "base_uri": "https://localhost:8080/"
        },
        "id": "w_fuKpxhG4Fz",
        "outputId": "466793dd-87ac-4e8d-955f-053b38b2d055"
      },
      "outputs": [
        {
          "name": "stderr",
          "output_type": "stream",
          "text": [
            "/usr/local/lib/python3.7/dist-packages/torchvision/transforms/_functional_video.py:7: UserWarning: The 'torchvision.transforms._functional_video' module is deprecated since 0.12 and will be removed in 0.14. Please use the 'torchvision.transforms.functional' module instead.\n",
            "  \"The 'torchvision.transforms._functional_video' module is deprecated since 0.12 and will be removed in 0.14. \"\n",
            "/usr/local/lib/python3.7/dist-packages/torchvision/transforms/_transforms_video.py:26: UserWarning: The 'torchvision.transforms._transforms_video' module is deprecated since 0.12 and will be removed in 0.14. Please use the 'torchvision.transforms' module instead.\n",
            "  \"The 'torchvision.transforms._transforms_video' module is deprecated since 0.12 and will be removed in 0.14. \"\n"
          ]
        }
      ],
      "source": [
        "import torch\n",
        "import json\n",
        "from torchvision.transforms import Compose, Lambda\n",
        "from torchvision.transforms._transforms_video import (\n",
        "    CenterCropVideo,\n",
        "    NormalizeVideo,\n",
        ")\n",
        "from pytorchvideo.data.encoded_video import EncodedVideo\n",
        "from pytorchvideo.transforms import (\n",
        "    ApplyTransformToKey,\n",
        "    ShortSideScale,\n",
        "    UniformTemporalSubsample,\n",
        "    UniformCropVideo\n",
        ")\n",
        "from typing import Dict\n",
        "from PIL import Image\n",
        "import numpy as np\n",
        "import pandas as pd\n",
        "import matplotlib.pyplot as plt\n"
      ]
    },
    {
      "cell_type": "code",
      "execution_count": null,
      "metadata": {
        "colab": {
          "base_uri": "https://localhost:8080/"
        },
        "id": "fLvYMi5OG_G3",
        "outputId": "e90ed8c1-d41d-4561-b5e4-841e6114d09e"
      },
      "outputs": [
        {
          "name": "stdout",
          "output_type": "stream",
          "text": [
            "--2022-11-06 14:13:05--  https://dl.fbaipublicfiles.com/pytorchvideo/projects/archery.mp4\n",
            "Resolving dl.fbaipublicfiles.com (dl.fbaipublicfiles.com)... 104.22.74.142, 104.22.75.142, 172.67.9.4, ...\n",
            "Connecting to dl.fbaipublicfiles.com (dl.fbaipublicfiles.com)|104.22.74.142|:443... connected.\n",
            "HTTP request sent, awaiting response... 200 OK\n",
            "Length: 549197 (536K) [video/mp4]\n",
            "Saving to: ‘archery.mp4’\n",
            "\n",
            "archery.mp4         100%[===================>] 536.33K   387KB/s    in 1.4s    \n",
            "\n",
            "2022-11-06 14:13:07 (387 KB/s) - ‘archery.mp4’ saved [549197/549197]\n",
            "\n"
          ]
        }
      ],
      "source": [
        "!wget https://dl.fbaipublicfiles.com/pytorchvideo/projects/archery.mp4\n",
        "video_path = \"archery.mp4\"\n",
        "\n",
        "# Select the duration of the clip to load by specifying the start and end duration\n",
        "# The start_sec should correspond to where the action occurs in the video\n",
        "# start_sec = 0\n",
        "video = EncodedVideo.from_path(video_path)"
      ]
    },
    {
      "cell_type": "markdown",
      "metadata": {
        "id": "khRfhkQjMh8v"
      },
      "source": [
        "Попробуем достать первый кадр из видео"
      ]
    },
    {
      "cell_type": "code",
      "execution_count": null,
      "metadata": {
        "colab": {
          "base_uri": "https://localhost:8080/"
        },
        "id": "etdTievjHIbP",
        "outputId": "1d44ab1b-3ac8-4f9a-e05e-c482bff03b3e"
      },
      "outputs": [
        {
          "data": {
            "text/plain": [
              "torch.Size([3, 30, 240, 320])"
            ]
          },
          "execution_count": 7,
          "metadata": {},
          "output_type": "execute_result"
        }
      ],
      "source": [
        "video.get_clip(0, 1)['video'].shape"
      ]
    },
    {
      "cell_type": "code",
      "execution_count": null,
      "metadata": {
        "colab": {
          "base_uri": "https://localhost:8080/"
        },
        "id": "jv5POz2oJMbz",
        "outputId": "5b4686b6-1d4a-4384-9d30-1dae52228077"
      },
      "outputs": [
        {
          "data": {
            "text/plain": [
              "array([[[187, 187, 187, ..., 218, 218, 218],\n",
              "        [187, 187, 187, ..., 218, 218, 218],\n",
              "        [187, 187, 187, ..., 218, 218, 218],\n",
              "        ...,\n",
              "        [ 55,  51,  53, ...,  57,  57,  57],\n",
              "        [ 66,  70,  67, ...,  53,  53,  53],\n",
              "        [ 62,  67,  65, ...,  47,  49,  49]],\n",
              "\n",
              "       [[192, 192, 192, ..., 216, 216, 216],\n",
              "        [192, 192, 192, ..., 216, 216, 216],\n",
              "        [192, 192, 192, ..., 216, 216, 216],\n",
              "        ...,\n",
              "        [ 88,  84,  86, ...,  86,  86,  86],\n",
              "        [ 99, 103, 100, ...,  82,  82,  82],\n",
              "        [ 95, 100,  98, ...,  76,  78,  78]],\n",
              "\n",
              "       [[202, 202, 202, ..., 226, 226, 226],\n",
              "        [202, 202, 202, ..., 226, 226, 226],\n",
              "        [202, 202, 202, ..., 226, 226, 226],\n",
              "        ...,\n",
              "        [ 24,  20,  22, ...,  31,  31,  31],\n",
              "        [ 35,  39,  36, ...,  27,  27,  27],\n",
              "        [ 31,  36,  34, ...,  21,  23,  23]]], dtype=uint8)"
            ]
          },
          "execution_count": 10,
          "metadata": {},
          "output_type": "execute_result"
        }
      ],
      "source": [
        "video.get_clip(0, 1)['video'].transpose(0, 1).numpy()[0].astype(np.uint8)"
      ]
    },
    {
      "cell_type": "code",
      "execution_count": null,
      "metadata": {
        "id": "NaJvRmm3HKKp"
      },
      "outputs": [],
      "source": [
        "crop = video.get_clip(0, 1)['video'].transpose(0, 1)[0].permute(1, 2 ,0 ).numpy() * 1\n",
        "img = Image.fromarray(crop.astype(np.uint8),'RGB')"
      ]
    },
    {
      "cell_type": "code",
      "execution_count": null,
      "metadata": {
        "colab": {
          "base_uri": "https://localhost:8080/"
        },
        "id": "p3w7cqgQI1gi",
        "outputId": "054104d5-3c45-4289-8f22-d47b1fc4f37d"
      },
      "outputs": [
        {
          "name": "stdout",
          "output_type": "stream",
          "text": [
            "<PIL.Image.Image image mode=RGB size=320x240 at 0x7F568D4034D0>\n"
          ]
        }
      ],
      "source": [
        "print(img)"
      ]
    },
    {
      "cell_type": "code",
      "execution_count": null,
      "metadata": {
        "colab": {
          "base_uri": "https://localhost:8080/",
          "height": 269
        },
        "id": "nnTmS9EnKZmF",
        "outputId": "0cc77c59-1c9e-4785-f9ca-0dadf1d2a933"
      },
      "outputs": [
        {
          "data": {
            "image/png": "[encoded data removed]",
            "text/plain": [
              "<Figure size 432x288 with 1 Axes>"
            ]
          },
          "metadata": {},
          "output_type": "display_data"
        }
      ],
      "source": [
        "plt.imshow(img)\n",
        "plt.show()"
      ]
    },
    {
      "cell_type": "markdown",
      "metadata": {
        "id": "9JN5-E1-Mmx7"
      },
      "source": [
        "Теперь нужно покадрово сохранить видео для дальнейшего анализа"
      ]
    },
    {
      "cell_type": "code",
      "execution_count": null,
      "metadata": {
        "id": "nVMXCkbOMYrc"
      },
      "outputs": [],
      "source": [
        "num = video.get_clip(0, 1)['video'].shape[1]\n",
        "!mkdir /content/images\n",
        "file = open(\"/content/images_path.txt\",\"w\")\n",
        "for i in range(num):\n",
        "  crop = video.get_clip(0, 1)['video'].transpose(0, 1)[i].permute(1, 2, 0).numpy() * 1\n",
        "  img = Image.fromarray(crop.astype(np.uint8),'RGB')\n",
        "  img.save(f\"/content/images/im{i}.jpg\")\n",
        "  file.write(f\"/content/images/im{i}.jpg\\n\")\n",
        "\n",
        "file.close()"
      ]
    },
    {
      "cell_type": "code",
      "execution_count": null,
      "metadata": {
        "id": "qXzWME9YKyne"
      },
      "outputs": [],
      "source": [
        "# !rm -rf /content/images"
      ]
    },
    {
      "cell_type": "markdown",
      "metadata": {
        "id": "jgh23EGvPRKU"
      },
      "source": [
        "Теперь можем проанализировать настроение на всем видео покадрово"
      ]
    },
    {
      "cell_type": "code",
      "execution_count": null,
      "metadata": {
        "colab": {
          "base_uri": "https://localhost:8080/"
        },
        "id": "I7E5rhO8O8_f",
        "outputId": "2c773787-53a5-4b99-e18b-d44d129c366f"
      },
      "outputs": [
        {
          "name": "stdout",
          "output_type": "stream",
          "text": [
            "/usr/local/lib/python3.7/dist-packages/torch/utils/data/dataloader.py:566: UserWarning: This DataLoader will create 8 worker processes in total. Our suggested max number of worker in current system is 2, which is smaller than what this DataLoader is going to create. Please be aware that excessive worker creation might get DataLoader running slow or even freeze, lower the worker number to avoid potential slowness/freeze if necessary.\n",
            "  cpuset_checked))\n",
            "  0% 0/1 [00:00<?, ?it/s]/content/visual-sentiment-analysis/vgg19.py:116: UserWarning: Implicit dimension choice for softmax has been deprecated. Change the call to include dim=X as an argument.\n",
            "  softmax         = F.softmax(fc8_retrain_1)\n",
            "100% 1/1 [00:02<00:00,  2.66s/it]\n"
          ]
        }
      ],
      "source": [
        "!python predict.py /content/images_path.txt --model vgg19_finetuned_all --batch-size 64 > /content/predictions.csv"
      ]
    },
    {
      "cell_type": "code",
      "execution_count": null,
      "metadata": {
        "colab": {
          "base_uri": "https://localhost:8080/",
          "height": 990
        },
        "id": "OZmoVymGPkvS",
        "outputId": "0ae3a489-37dd-40cf-9398-b7554edddb12"
      },
      "outputs": [
        {
          "data": {
            "text/html": [
              "\n",
              "  <div id=\"df-5f8c95eb-cfdc-458f-a50b-4a81b868821a\">\n",
              "    <div class=\"colab-df-container\">\n",
              "      <div>\n",
              "<style scoped>\n",
              "    .dataframe tbody tr th:only-of-type {\n",
              "        vertical-align: middle;\n",
              "    }\n",
              "\n",
              "    .dataframe tbody tr th {\n",
              "        vertical-align: top;\n",
              "    }\n",
              "\n",
              "    .dataframe thead th {\n",
              "        text-align: right;\n",
              "    }\n",
              "</style>\n",
              "<table border=\"1\" class=\"dataframe\">\n",
              "  <thead>\n",
              "    <tr style=\"text-align: right;\">\n",
              "      <th></th>\n",
              "      <th>negative</th>\n",
              "      <th>neutral</th>\n",
              "      <th>positive</th>\n",
              "    </tr>\n",
              "  </thead>\n",
              "  <tbody>\n",
              "    <tr>\n",
              "      <th>0</th>\n",
              "      <td>0.301514</td>\n",
              "      <td>0.570843</td>\n",
              "      <td>0.127643</td>\n",
              "    </tr>\n",
              "    <tr>\n",
              "      <th>1</th>\n",
              "      <td>0.294702</td>\n",
              "      <td>0.573215</td>\n",
              "      <td>0.132083</td>\n",
              "    </tr>\n",
              "    <tr>\n",
              "      <th>2</th>\n",
              "      <td>0.299451</td>\n",
              "      <td>0.573427</td>\n",
              "      <td>0.127121</td>\n",
              "    </tr>\n",
              "    <tr>\n",
              "      <th>3</th>\n",
              "      <td>0.286550</td>\n",
              "      <td>0.585486</td>\n",
              "      <td>0.127965</td>\n",
              "    </tr>\n",
              "    <tr>\n",
              "      <th>4</th>\n",
              "      <td>0.283357</td>\n",
              "      <td>0.564159</td>\n",
              "      <td>0.152484</td>\n",
              "    </tr>\n",
              "    <tr>\n",
              "      <th>5</th>\n",
              "      <td>0.315662</td>\n",
              "      <td>0.537506</td>\n",
              "      <td>0.146833</td>\n",
              "    </tr>\n",
              "    <tr>\n",
              "      <th>6</th>\n",
              "      <td>0.337254</td>\n",
              "      <td>0.523999</td>\n",
              "      <td>0.138747</td>\n",
              "    </tr>\n",
              "    <tr>\n",
              "      <th>7</th>\n",
              "      <td>0.370169</td>\n",
              "      <td>0.508044</td>\n",
              "      <td>0.121786</td>\n",
              "    </tr>\n",
              "    <tr>\n",
              "      <th>8</th>\n",
              "      <td>0.396425</td>\n",
              "      <td>0.489001</td>\n",
              "      <td>0.114574</td>\n",
              "    </tr>\n",
              "    <tr>\n",
              "      <th>9</th>\n",
              "      <td>0.397154</td>\n",
              "      <td>0.491813</td>\n",
              "      <td>0.111033</td>\n",
              "    </tr>\n",
              "    <tr>\n",
              "      <th>10</th>\n",
              "      <td>0.373932</td>\n",
              "      <td>0.509905</td>\n",
              "      <td>0.116163</td>\n",
              "    </tr>\n",
              "    <tr>\n",
              "      <th>11</th>\n",
              "      <td>0.392580</td>\n",
              "      <td>0.505321</td>\n",
              "      <td>0.102099</td>\n",
              "    </tr>\n",
              "    <tr>\n",
              "      <th>12</th>\n",
              "      <td>0.408688</td>\n",
              "      <td>0.491351</td>\n",
              "      <td>0.099960</td>\n",
              "    </tr>\n",
              "    <tr>\n",
              "      <th>13</th>\n",
              "      <td>0.402651</td>\n",
              "      <td>0.496092</td>\n",
              "      <td>0.101257</td>\n",
              "    </tr>\n",
              "    <tr>\n",
              "      <th>14</th>\n",
              "      <td>0.404074</td>\n",
              "      <td>0.500813</td>\n",
              "      <td>0.095112</td>\n",
              "    </tr>\n",
              "    <tr>\n",
              "      <th>15</th>\n",
              "      <td>0.384017</td>\n",
              "      <td>0.520012</td>\n",
              "      <td>0.095971</td>\n",
              "    </tr>\n",
              "    <tr>\n",
              "      <th>16</th>\n",
              "      <td>0.383567</td>\n",
              "      <td>0.520551</td>\n",
              "      <td>0.095882</td>\n",
              "    </tr>\n",
              "    <tr>\n",
              "      <th>17</th>\n",
              "      <td>0.401552</td>\n",
              "      <td>0.507127</td>\n",
              "      <td>0.091320</td>\n",
              "    </tr>\n",
              "    <tr>\n",
              "      <th>18</th>\n",
              "      <td>0.411991</td>\n",
              "      <td>0.498695</td>\n",
              "      <td>0.089315</td>\n",
              "    </tr>\n",
              "    <tr>\n",
              "      <th>19</th>\n",
              "      <td>0.398551</td>\n",
              "      <td>0.508348</td>\n",
              "      <td>0.093101</td>\n",
              "    </tr>\n",
              "    <tr>\n",
              "      <th>20</th>\n",
              "      <td>0.390336</td>\n",
              "      <td>0.519168</td>\n",
              "      <td>0.090496</td>\n",
              "    </tr>\n",
              "    <tr>\n",
              "      <th>21</th>\n",
              "      <td>0.395801</td>\n",
              "      <td>0.513432</td>\n",
              "      <td>0.090767</td>\n",
              "    </tr>\n",
              "    <tr>\n",
              "      <th>22</th>\n",
              "      <td>0.385302</td>\n",
              "      <td>0.522598</td>\n",
              "      <td>0.092101</td>\n",
              "    </tr>\n",
              "    <tr>\n",
              "      <th>23</th>\n",
              "      <td>0.388083</td>\n",
              "      <td>0.519799</td>\n",
              "      <td>0.092118</td>\n",
              "    </tr>\n",
              "    <tr>\n",
              "      <th>24</th>\n",
              "      <td>0.391806</td>\n",
              "      <td>0.515700</td>\n",
              "      <td>0.092493</td>\n",
              "    </tr>\n",
              "    <tr>\n",
              "      <th>25</th>\n",
              "      <td>0.398685</td>\n",
              "      <td>0.506738</td>\n",
              "      <td>0.094577</td>\n",
              "    </tr>\n",
              "    <tr>\n",
              "      <th>26</th>\n",
              "      <td>0.413898</td>\n",
              "      <td>0.497450</td>\n",
              "      <td>0.088651</td>\n",
              "    </tr>\n",
              "    <tr>\n",
              "      <th>27</th>\n",
              "      <td>0.419018</td>\n",
              "      <td>0.493520</td>\n",
              "      <td>0.087462</td>\n",
              "    </tr>\n",
              "    <tr>\n",
              "      <th>28</th>\n",
              "      <td>0.411198</td>\n",
              "      <td>0.499575</td>\n",
              "      <td>0.089227</td>\n",
              "    </tr>\n",
              "    <tr>\n",
              "      <th>29</th>\n",
              "      <td>0.413698</td>\n",
              "      <td>0.496843</td>\n",
              "      <td>0.089459</td>\n",
              "    </tr>\n",
              "  </tbody>\n",
              "</table>\n",
              "</div>\n",
              "      <button class=\"colab-df-convert\" onclick=\"convertToInteractive('df-5f8c95eb-cfdc-458f-a50b-4a81b868821a')\"\n",
              "              title=\"Convert this dataframe to an interactive table.\"\n",
              "              style=\"display:none;\">\n",
              "        \n",
              "  <svg xmlns=\"http://www.w3.org/2000/svg\" height=\"24px\"viewBox=\"0 0 24 24\"\n",
              "       width=\"24px\">\n",
              "    <path d=\"M0 0h24v24H0V0z\" fill=\"none\"/>\n",
              "    <path d=\"M18.56 5.44l.94 2.06.94-2.06 2.06-.94-2.06-.94-.94-2.06-.94 2.06-2.06.94zm-11 1L8.5 8.5l.94-2.06 2.06-.94-2.06-.94L8.5 2.5l-.94 2.06-2.06.94zm10 10l.94 2.06.94-2.06 2.06-.94-2.06-.94-.94-2.06-.94 2.06-2.06.94z\"/><path d=\"M17.41 7.96l-1.37-1.37c-.4-.4-.92-.59-1.43-.59-.52 0-1.04.2-1.43.59L10.3 9.45l-7.72 7.72c-.78.78-.78 2.05 0 2.83L4 21.41c.39.39.9.59 1.41.59.51 0 1.02-.2 1.41-.59l7.78-7.78 2.81-2.81c.8-.78.8-2.07 0-2.86zM5.41 20L4 18.59l7.72-7.72 1.47 1.35L5.41 20z\"/>\n",
              "  </svg>\n",
              "      </button>\n",
              "      \n",
              "  <style>\n",
              "    .colab-df-container {\n",
              "      display:flex;\n",
              "      flex-wrap:wrap;\n",
              "      gap: 12px;\n",
              "    }\n",
              "\n",
              "    .colab-df-convert {\n",
              "      background-color: #E8F0FE;\n",
              "      border: none;\n",
              "      border-radius: 50%;\n",
              "      cursor: pointer;\n",
              "      display: none;\n",
              "      fill: #1967D2;\n",
              "      height: 32px;\n",
              "      padding: 0 0 0 0;\n",
              "      width: 32px;\n",
              "    }\n",
              "\n",
              "    .colab-df-convert:hover {\n",
              "      background-color: #E2EBFA;\n",
              "      box-shadow: 0px 1px 2px rgba(60, 64, 67, 0.3), 0px 1px 3px 1px rgba(60, 64, 67, 0.15);\n",
              "      fill: #174EA6;\n",
              "    }\n",
              "\n",
              "    [theme=dark] .colab-df-convert {\n",
              "      background-color: #3B4455;\n",
              "      fill: #D2E3FC;\n",
              "    }\n",
              "\n",
              "    [theme=dark] .colab-df-convert:hover {\n",
              "      background-color: #434B5C;\n",
              "      box-shadow: 0px 1px 3px 1px rgba(0, 0, 0, 0.15);\n",
              "      filter: drop-shadow(0px 1px 2px rgba(0, 0, 0, 0.3));\n",
              "      fill: #FFFFFF;\n",
              "    }\n",
              "  </style>\n",
              "\n",
              "      <script>\n",
              "        const buttonEl =\n",
              "          document.querySelector('#df-5f8c95eb-cfdc-458f-a50b-4a81b868821a button.colab-df-convert');\n",
              "        buttonEl.style.display =\n",
              "          google.colab.kernel.accessAllowed ? 'block' : 'none';\n",
              "\n",
              "        async function convertToInteractive(key) {\n",
              "          const element = document.querySelector('#df-5f8c95eb-cfdc-458f-a50b-4a81b868821a');\n",
              "          const dataTable =\n",
              "            await google.colab.kernel.invokeFunction('convertToInteractive',\n",
              "                                                     [key], {});\n",
              "          if (!dataTable) return;\n",
              "\n",
              "          const docLinkHtml = 'Like what you see? Visit the ' +\n",
              "            '<a target=\"_blank\" href=https://colab.research.google.com/notebooks/data_table.ipynb>data table notebook</a>'\n",
              "            + ' to learn more about interactive tables.';\n",
              "          element.innerHTML = '';\n",
              "          dataTable['output_type'] = 'display_data';\n",
              "          await google.colab.output.renderOutput(dataTable, element);\n",
              "          const docLink = document.createElement('div');\n",
              "          docLink.innerHTML = docLinkHtml;\n",
              "          element.appendChild(docLink);\n",
              "        }\n",
              "      </script>\n",
              "    </div>\n",
              "  </div>\n",
              "  "
            ],
            "text/plain": [
              "    negative   neutral  positive\n",
              "0   0.301514  0.570843  0.127643\n",
              "1   0.294702  0.573215  0.132083\n",
              "2   0.299451  0.573427  0.127121\n",
              "3   0.286550  0.585486  0.127965\n",
              "4   0.283357  0.564159  0.152484\n",
              "5   0.315662  0.537506  0.146833\n",
              "6   0.337254  0.523999  0.138747\n",
              "7   0.370169  0.508044  0.121786\n",
              "8   0.396425  0.489001  0.114574\n",
              "9   0.397154  0.491813  0.111033\n",
              "10  0.373932  0.509905  0.116163\n",
              "11  0.392580  0.505321  0.102099\n",
              "12  0.408688  0.491351  0.099960\n",
              "13  0.402651  0.496092  0.101257\n",
              "14  0.404074  0.500813  0.095112\n",
              "15  0.384017  0.520012  0.095971\n",
              "16  0.383567  0.520551  0.095882\n",
              "17  0.401552  0.507127  0.091320\n",
              "18  0.411991  0.498695  0.089315\n",
              "19  0.398551  0.508348  0.093101\n",
              "20  0.390336  0.519168  0.090496\n",
              "21  0.395801  0.513432  0.090767\n",
              "22  0.385302  0.522598  0.092101\n",
              "23  0.388083  0.519799  0.092118\n",
              "24  0.391806  0.515700  0.092493\n",
              "25  0.398685  0.506738  0.094577\n",
              "26  0.413898  0.497450  0.088651\n",
              "27  0.419018  0.493520  0.087462\n",
              "28  0.411198  0.499575  0.089227\n",
              "29  0.413698  0.496843  0.089459"
            ]
          },
          "execution_count": 27,
          "metadata": {},
          "output_type": "execute_result"
        }
      ],
      "source": [
        "df = pd.read_csv('/content/predictions.csv', header=None)\n",
        "df.columns = ['negative', 'neutral', 'positive']\n",
        "df"
      ]
    },
    {
      "cell_type": "code",
      "execution_count": null,
      "metadata": {
        "colab": {
          "base_uri": "https://localhost:8080/"
        },
        "id": "L90QnDnFQs7q",
        "outputId": "d8233daf-5d24-40e9-fb41-121c5f33606c"
      },
      "outputs": [
        {
          "data": {
            "text/plain": [
              "0     neutral\n",
              "1     neutral\n",
              "2     neutral\n",
              "3     neutral\n",
              "4     neutral\n",
              "5     neutral\n",
              "6     neutral\n",
              "7     neutral\n",
              "8     neutral\n",
              "9     neutral\n",
              "10    neutral\n",
              "11    neutral\n",
              "12    neutral\n",
              "13    neutral\n",
              "14    neutral\n",
              "15    neutral\n",
              "16    neutral\n",
              "17    neutral\n",
              "18    neutral\n",
              "19    neutral\n",
              "20    neutral\n",
              "21    neutral\n",
              "22    neutral\n",
              "23    neutral\n",
              "24    neutral\n",
              "25    neutral\n",
              "26    neutral\n",
              "27    neutral\n",
              "28    neutral\n",
              "29    neutral\n",
              "dtype: object"
            ]
          },
          "execution_count": 28,
          "metadata": {},
          "output_type": "execute_result"
        }
      ],
      "source": [
        "df.idxmax(axis=\"columns\")"
      ]
    },
    {
      "cell_type": "markdown",
      "metadata": {
        "id": "wJ8ApTF0TW_F"
      },
      "source": [
        "Ура, мы посмотрели на секундное видео, где неизменно нейтральное настроение, попробуем проанализировать настроение на рекламном ролике. Будем сохранять кадр в секунду\n"
      ]
    },
    {
      "cell_type": "code",
      "execution_count": null,
      "metadata": {
        "id": "gf5yGOmGTCY1"
      },
      "outputs": [],
      "source": [
        "video_path = \"/content/video_ad1.mp4\"\n",
        "video = EncodedVideo.from_path(video_path)"
      ]
    },
    {
      "cell_type": "code",
      "execution_count": null,
      "metadata": {
        "colab": {
          "base_uri": "https://localhost:8080/"
        },
        "id": "hmIcEBXaWa4N",
        "outputId": "3a489aa3-755a-4c02-bc1b-6188e44d40b1"
      },
      "outputs": [
        {
          "data": {
            "text/plain": [
              "torch.Size([3, 2548, 360, 640])"
            ]
          },
          "execution_count": 3,
          "metadata": {},
          "output_type": "execute_result"
        }
      ],
      "source": [
        "video.get_clip(0, 85)['video'].shape"
      ]
    },
    {
      "cell_type": "code",
      "execution_count": null,
      "metadata": {
        "colab": {
          "base_uri": "https://localhost:8080/"
        },
        "id": "JAJRD_Z9Uzh3",
        "outputId": "fa7f2a00-bf46-4ebf-f366-f626017de237"
      },
      "outputs": [
        {
          "name": "stdout",
          "output_type": "stream",
          "text": [
            "mkdir: cannot create directory ‘/content/images’: File exists\n"
          ]
        }
      ],
      "source": [
        "video = video.get_clip(0, 85)['video']\n",
        "\n",
        "num = video.shape[1]\n",
        "!mkdir /content/images\n",
        "file = open(\"/content/images_path.txt\",\"w\")\n",
        "for i in range(0, num, 15):\n",
        "  crop = video.transpose(0, 1)[i].permute(1, 2, 0).numpy() * 1\n",
        "  img = Image.fromarray(crop.astype(np.uint8),'RGB')\n",
        "  img.save(f\"/content/images/im{i}.jpg\")\n",
        "  file.write(f\"/content/images/im{i}.jpg\\n\")\n",
        "\n",
        "file.close()"
      ]
    },
    {
      "cell_type": "code",
      "execution_count": null,
      "metadata": {
        "colab": {
          "base_uri": "https://localhost:8080/"
        },
        "id": "2wSi1Xc_Uzfm",
        "outputId": "9515ffb6-724d-437f-d69d-83c0cb693608"
      },
      "outputs": [
        {
          "name": "stdout",
          "output_type": "stream",
          "text": [
            "/usr/local/lib/python3.7/dist-packages/torch/utils/data/dataloader.py:566: UserWarning: This DataLoader will create 8 worker processes in total. Our suggested max number of worker in current system is 2, which is smaller than what this DataLoader is going to create. Please be aware that excessive worker creation might get DataLoader running slow or even freeze, lower the worker number to avoid potential slowness/freeze if necessary.\n",
            "  cpuset_checked))\n",
            "  0% 0/3 [00:00<?, ?it/s]/content/visual-sentiment-analysis/vgg19.py:116: UserWarning: Implicit dimension choice for softmax has been deprecated. Change the call to include dim=X as an argument.\n",
            "  softmax         = F.softmax(fc8_retrain_1)\n",
            "100% 3/3 [00:07<00:00,  2.57s/it]\n"
          ]
        }
      ],
      "source": [
        "!python predict.py /content/images_path.txt --model vgg19_finetuned_all --batch-size 64 > /content/predictions.csv"
      ]
    },
    {
      "cell_type": "code",
      "execution_count": null,
      "metadata": {
        "colab": {
          "base_uri": "https://localhost:8080/",
          "height": 424
        },
        "id": "W-D4fPjxUzdi",
        "outputId": "fb90bb73-47da-4227-d0be-7a172b937574"
      },
      "outputs": [
        {
          "data": {
            "text/html": [
              "\n",
              "  <div id=\"df-a9aa51e2-a0f7-4bfe-b194-7968e293402f\">\n",
              "    <div class=\"colab-df-container\">\n",
              "      <div>\n",
              "<style scoped>\n",
              "    .dataframe tbody tr th:only-of-type {\n",
              "        vertical-align: middle;\n",
              "    }\n",
              "\n",
              "    .dataframe tbody tr th {\n",
              "        vertical-align: top;\n",
              "    }\n",
              "\n",
              "    .dataframe thead th {\n",
              "        text-align: right;\n",
              "    }\n",
              "</style>\n",
              "<table border=\"1\" class=\"dataframe\">\n",
              "  <thead>\n",
              "    <tr style=\"text-align: right;\">\n",
              "      <th></th>\n",
              "      <th>negative</th>\n",
              "      <th>neutral</th>\n",
              "      <th>positive</th>\n",
              "    </tr>\n",
              "  </thead>\n",
              "  <tbody>\n",
              "    <tr>\n",
              "      <th>0</th>\n",
              "      <td>0.356822</td>\n",
              "      <td>0.523618</td>\n",
              "      <td>0.119560</td>\n",
              "    </tr>\n",
              "    <tr>\n",
              "      <th>1</th>\n",
              "      <td>0.663097</td>\n",
              "      <td>0.231235</td>\n",
              "      <td>0.105668</td>\n",
              "    </tr>\n",
              "    <tr>\n",
              "      <th>2</th>\n",
              "      <td>0.615506</td>\n",
              "      <td>0.165111</td>\n",
              "      <td>0.219383</td>\n",
              "    </tr>\n",
              "    <tr>\n",
              "      <th>3</th>\n",
              "      <td>0.415206</td>\n",
              "      <td>0.191006</td>\n",
              "      <td>0.393788</td>\n",
              "    </tr>\n",
              "    <tr>\n",
              "      <th>4</th>\n",
              "      <td>0.621807</td>\n",
              "      <td>0.258075</td>\n",
              "      <td>0.120119</td>\n",
              "    </tr>\n",
              "    <tr>\n",
              "      <th>...</th>\n",
              "      <td>...</td>\n",
              "      <td>...</td>\n",
              "      <td>...</td>\n",
              "    </tr>\n",
              "    <tr>\n",
              "      <th>165</th>\n",
              "      <td>0.555212</td>\n",
              "      <td>0.276373</td>\n",
              "      <td>0.168415</td>\n",
              "    </tr>\n",
              "    <tr>\n",
              "      <th>166</th>\n",
              "      <td>0.455143</td>\n",
              "      <td>0.326299</td>\n",
              "      <td>0.218558</td>\n",
              "    </tr>\n",
              "    <tr>\n",
              "      <th>167</th>\n",
              "      <td>0.485517</td>\n",
              "      <td>0.314103</td>\n",
              "      <td>0.200381</td>\n",
              "    </tr>\n",
              "    <tr>\n",
              "      <th>168</th>\n",
              "      <td>0.362786</td>\n",
              "      <td>0.365482</td>\n",
              "      <td>0.271732</td>\n",
              "    </tr>\n",
              "    <tr>\n",
              "      <th>169</th>\n",
              "      <td>0.351938</td>\n",
              "      <td>0.371543</td>\n",
              "      <td>0.276519</td>\n",
              "    </tr>\n",
              "  </tbody>\n",
              "</table>\n",
              "<p>170 rows × 3 columns</p>\n",
              "</div>\n",
              "      <button class=\"colab-df-convert\" onclick=\"convertToInteractive('df-a9aa51e2-a0f7-4bfe-b194-7968e293402f')\"\n",
              "              title=\"Convert this dataframe to an interactive table.\"\n",
              "              style=\"display:none;\">\n",
              "        \n",
              "  <svg xmlns=\"http://www.w3.org/2000/svg\" height=\"24px\"viewBox=\"0 0 24 24\"\n",
              "       width=\"24px\">\n",
              "    <path d=\"M0 0h24v24H0V0z\" fill=\"none\"/>\n",
              "    <path d=\"M18.56 5.44l.94 2.06.94-2.06 2.06-.94-2.06-.94-.94-2.06-.94 2.06-2.06.94zm-11 1L8.5 8.5l.94-2.06 2.06-.94-2.06-.94L8.5 2.5l-.94 2.06-2.06.94zm10 10l.94 2.06.94-2.06 2.06-.94-2.06-.94-.94-2.06-.94 2.06-2.06.94z\"/><path d=\"M17.41 7.96l-1.37-1.37c-.4-.4-.92-.59-1.43-.59-.52 0-1.04.2-1.43.59L10.3 9.45l-7.72 7.72c-.78.78-.78 2.05 0 2.83L4 21.41c.39.39.9.59 1.41.59.51 0 1.02-.2 1.41-.59l7.78-7.78 2.81-2.81c.8-.78.8-2.07 0-2.86zM5.41 20L4 18.59l7.72-7.72 1.47 1.35L5.41 20z\"/>\n",
              "  </svg>\n",
              "      </button>\n",
              "      \n",
              "  <style>\n",
              "    .colab-df-container {\n",
              "      display:flex;\n",
              "      flex-wrap:wrap;\n",
              "      gap: 12px;\n",
              "    }\n",
              "\n",
              "    .colab-df-convert {\n",
              "      background-color: #E8F0FE;\n",
              "      border: none;\n",
              "      border-radius: 50%;\n",
              "      cursor: pointer;\n",
              "      display: none;\n",
              "      fill: #1967D2;\n",
              "      height: 32px;\n",
              "      padding: 0 0 0 0;\n",
              "      width: 32px;\n",
              "    }\n",
              "\n",
              "    .colab-df-convert:hover {\n",
              "      background-color: #E2EBFA;\n",
              "      box-shadow: 0px 1px 2px rgba(60, 64, 67, 0.3), 0px 1px 3px 1px rgba(60, 64, 67, 0.15);\n",
              "      fill: #174EA6;\n",
              "    }\n",
              "\n",
              "    [theme=dark] .colab-df-convert {\n",
              "      background-color: #3B4455;\n",
              "      fill: #D2E3FC;\n",
              "    }\n",
              "\n",
              "    [theme=dark] .colab-df-convert:hover {\n",
              "      background-color: #434B5C;\n",
              "      box-shadow: 0px 1px 3px 1px rgba(0, 0, 0, 0.15);\n",
              "      filter: drop-shadow(0px 1px 2px rgba(0, 0, 0, 0.3));\n",
              "      fill: #FFFFFF;\n",
              "    }\n",
              "  </style>\n",
              "\n",
              "      <script>\n",
              "        const buttonEl =\n",
              "          document.querySelector('#df-a9aa51e2-a0f7-4bfe-b194-7968e293402f button.colab-df-convert');\n",
              "        buttonEl.style.display =\n",
              "          google.colab.kernel.accessAllowed ? 'block' : 'none';\n",
              "\n",
              "        async function convertToInteractive(key) {\n",
              "          const element = document.querySelector('#df-a9aa51e2-a0f7-4bfe-b194-7968e293402f');\n",
              "          const dataTable =\n",
              "            await google.colab.kernel.invokeFunction('convertToInteractive',\n",
              "                                                     [key], {});\n",
              "          if (!dataTable) return;\n",
              "\n",
              "          const docLinkHtml = 'Like what you see? Visit the ' +\n",
              "            '<a target=\"_blank\" href=https://colab.research.google.com/notebooks/data_table.ipynb>data table notebook</a>'\n",
              "            + ' to learn more about interactive tables.';\n",
              "          element.innerHTML = '';\n",
              "          dataTable['output_type'] = 'display_data';\n",
              "          await google.colab.output.renderOutput(dataTable, element);\n",
              "          const docLink = document.createElement('div');\n",
              "          docLink.innerHTML = docLinkHtml;\n",
              "          element.appendChild(docLink);\n",
              "        }\n",
              "      </script>\n",
              "    </div>\n",
              "  </div>\n",
              "  "
            ],
            "text/plain": [
              "     negative   neutral  positive\n",
              "0    0.356822  0.523618  0.119560\n",
              "1    0.663097  0.231235  0.105668\n",
              "2    0.615506  0.165111  0.219383\n",
              "3    0.415206  0.191006  0.393788\n",
              "4    0.621807  0.258075  0.120119\n",
              "..        ...       ...       ...\n",
              "165  0.555212  0.276373  0.168415\n",
              "166  0.455143  0.326299  0.218558\n",
              "167  0.485517  0.314103  0.200381\n",
              "168  0.362786  0.365482  0.271732\n",
              "169  0.351938  0.371543  0.276519\n",
              "\n",
              "[170 rows x 3 columns]"
            ]
          },
          "execution_count": 24,
          "metadata": {},
          "output_type": "execute_result"
        }
      ],
      "source": [
        "df = pd.read_csv('/content/predictions.csv', header=None)\n",
        "df.columns = ['negative', 'neutral', 'positive']\n",
        "df"
      ]
    },
    {
      "cell_type": "markdown",
      "metadata": {
        "id": "NA5Z2VcLZE6G"
      },
      "source": [
        "Посмотрим на график настроения в видео"
      ]
    },
    {
      "cell_type": "code",
      "execution_count": null,
      "metadata": {
        "colab": {
          "base_uri": "https://localhost:8080/",
          "height": 374
        },
        "id": "ry4XGO6DVGxt",
        "outputId": "3863023b-fdbf-493c-9a91-e7ac8959b384"
      },
      "outputs": [
        {
          "data": {
            "image/png": "[encoded data removed]",
            "text/plain": [
              "<Figure size 576x432 with 1 Axes>"
            ]
          },
          "metadata": {},
          "output_type": "display_data"
        }
      ],
      "source": [
        "df.columns = [-1, 0, 1]\n",
        "\n",
        "df.idxmax(axis=\"columns\").plot.line(c='orange', style='s', linewidth='3', figsize=(8,6))"
      ]
    },
    {
      "cell_type": "markdown",
      "metadata": {
        "id": "WQdJfMH_Z4dl"
      },
      "source": [
        "Найдем что-нибудь точно позитивное и проверим, что модель хорошо умеет определять и такое настроение (потому что прошлое видео не было настолько негативнфым, каким его видит модель)"
      ]
    },
    {
      "cell_type": "code",
      "execution_count": null,
      "metadata": {
        "id": "B5X2yDTTXpKe"
      },
      "outputs": [],
      "source": [
        "# !sudo wget https://yt-dl.org/downloads/latest/youtube-dl -O /usr/local/bin/youtube-dl\n",
        "\n",
        "# !sudo chmod a+rx /usr/local/bin/youtube-dl"
      ]
    },
    {
      "cell_type": "code",
      "execution_count": null,
      "metadata": {
        "id": "ZcXosd9Nd0P-"
      },
      "outputs": [],
      "source": [
        "# !youtube-dl youtube.com/watch?v=f8OmSWxF6h8"
      ]
    },
    {
      "cell_type": "code",
      "execution_count": null,
      "metadata": {
        "id": "m-qcbQcseJ1t"
      },
      "outputs": [],
      "source": [
        "video_path = \"/content/smile.mp4\"\n",
        "video = EncodedVideo.from_path(video_path)\n",
        "video = video.get_clip(0, 55)['video']\n",
        "\n",
        "num = video.shape[1]\n",
        "!mkdir /content/images\n",
        "file = open(\"/content/images_path.txt\",\"w\")\n",
        "for i in range(0, num, 15):\n",
        "  crop = video.transpose(0, 1)[i].permute(1, 2, 0).numpy() * 1\n",
        "  img = Image.fromarray(crop.astype(np.uint8),'RGB')\n",
        "  img.save(f\"/content/images/im{i}.jpg\")\n",
        "  file.write(f\"/content/images/im{i}.jpg\\n\")\n",
        "\n",
        "file.close()"
      ]
    },
    {
      "cell_type": "code",
      "execution_count": null,
      "metadata": {
        "colab": {
          "base_uri": "https://localhost:8080/"
        },
        "id": "jtjT0ElLe0Zj",
        "outputId": "7bfde92b-527e-4271-c93d-3094fc84bf68"
      },
      "outputs": [
        {
          "name": "stdout",
          "output_type": "stream",
          "text": [
            "/usr/local/lib/python3.7/dist-packages/torch/utils/data/dataloader.py:566: UserWarning: This DataLoader will create 8 worker processes in total. Our suggested max number of worker in current system is 2, which is smaller than what this DataLoader is going to create. Please be aware that excessive worker creation might get DataLoader running slow or even freeze, lower the worker number to avoid potential slowness/freeze if necessary.\n",
            "  cpuset_checked))\n",
            "  0% 0/2 [00:00<?, ?it/s]/content/visual-sentiment-analysis/vgg19.py:116: UserWarning: Implicit dimension choice for softmax has been deprecated. Change the call to include dim=X as an argument.\n",
            "  softmax         = F.softmax(fc8_retrain_1)\n",
            "100% 2/2 [00:08<00:00,  4.30s/it]\n"
          ]
        }
      ],
      "source": [
        "!python predict.py /content/images_path.txt --model vgg19_finetuned_all --batch-size 64 > /content/predictions.csv"
      ]
    },
    {
      "cell_type": "code",
      "execution_count": null,
      "metadata": {
        "colab": {
          "base_uri": "https://localhost:8080/",
          "height": 392
        },
        "id": "ZG8LsbvEhh3V",
        "outputId": "e2729b2b-4646-41c8-dd78-97b1d808d4fd"
      },
      "outputs": [
        {
          "data": {
            "text/plain": [
              "<matplotlib.axes._subplots.AxesSubplot at 0x7f447f76d450>"
            ]
          },
          "execution_count": 8,
          "metadata": {},
          "output_type": "execute_result"
        },
        {
          "data": {
            "image/png": "[encoded data removed]",
            "text/plain": [
              "<Figure size 576x432 with 1 Axes>"
            ]
          },
          "metadata": {},
          "output_type": "display_data"
        }
      ],
      "source": [
        "df = pd.read_csv('/content/predictions.csv', header=None)\n",
        "df.columns = [-1, 0, 1]\n",
        "df.idxmax(axis=\"columns\").plot.line(c='orange', style='s', linewidth='3', figsize=(8,6))"
      ]
    },
    {
      "cell_type": "markdown",
      "metadata": {
        "id": "RNZUZM5BjQHt"
      },
      "source": [
        "И снова мы получили очень грустное видео, хотя по факту оно состоит из смеющихся людей. Посмотрим на однозначно грустное видео"
      ]
    },
    {
      "cell_type": "code",
      "execution_count": null,
      "metadata": {
        "id": "8Utd7N1QhtJs"
      },
      "outputs": [],
      "source": [
        "video_path = \"/content/crying.mp4\"\n",
        "video = EncodedVideo.from_path(video_path)\n",
        "video = video.get_clip(0, 55)['video']\n",
        "\n",
        "num = video.shape[1]\n",
        "!mkdir /content/images\n",
        "file = open(\"/content/images_path.txt\",\"w\")\n",
        "for i in range(0, num, 15):\n",
        "  crop = video.transpose(0, 1)[i].permute(1, 2, 0).numpy() * 1\n",
        "  img = Image.fromarray(crop.astype(np.uint8),'RGB')\n",
        "  img.save(f\"/content/images/im{i}.jpg\")\n",
        "  file.write(f\"/content/images/im{i}.jpg\\n\")\n",
        "\n",
        "file.close()"
      ]
    },
    {
      "cell_type": "code",
      "execution_count": null,
      "metadata": {
        "colab": {
          "base_uri": "https://localhost:8080/"
        },
        "id": "q2m2svBnjrWe",
        "outputId": "a733ddb7-d8f2-4b70-a531-a86db1c51561"
      },
      "outputs": [
        {
          "name": "stdout",
          "output_type": "stream",
          "text": [
            "/usr/local/lib/python3.7/dist-packages/torch/utils/data/dataloader.py:566: UserWarning: This DataLoader will create 8 worker processes in total. Our suggested max number of worker in current system is 2, which is smaller than what this DataLoader is going to create. Please be aware that excessive worker creation might get DataLoader running slow or even freeze, lower the worker number to avoid potential slowness/freeze if necessary.\n",
            "  cpuset_checked))\n",
            "  0% 0/2 [00:00<?, ?it/s]/content/visual-sentiment-analysis/vgg19.py:116: UserWarning: Implicit dimension choice for softmax has been deprecated. Change the call to include dim=X as an argument.\n",
            "  softmax         = F.softmax(fc8_retrain_1)\n",
            "100% 2/2 [00:08<00:00,  4.18s/it]\n"
          ]
        }
      ],
      "source": [
        "!python predict.py /content/images_path.txt --model vgg19_finetuned_all --batch-size 64 > /content/predictions.csv"
      ]
    },
    {
      "cell_type": "code",
      "execution_count": null,
      "metadata": {
        "colab": {
          "base_uri": "https://localhost:8080/",
          "height": 392
        },
        "id": "e_YUL8Rcjf1n",
        "outputId": "fcb54a18-d705-44fb-f20e-a6c7192f528b"
      },
      "outputs": [
        {
          "data": {
            "text/plain": [
              "<matplotlib.axes._subplots.AxesSubplot at 0x7f447db8afd0>"
            ]
          },
          "execution_count": 13,
          "metadata": {},
          "output_type": "execute_result"
        },
        {
          "data": {
            "image/png": "[encoded data removed]",
            "text/plain": [
              "<Figure size 576x432 with 1 Axes>"
            ]
          },
          "metadata": {},
          "output_type": "display_data"
        }
      ],
      "source": [
        "df = pd.read_csv('/content/predictions.csv', header=None)\n",
        "df.columns = [-1, 0, 1]\n",
        "df.idxmax(axis=\"columns\").plot.line(c='blue', style='s', linewidth='3', figsize=(8,6))"
      ]
    },
    {
      "cell_type": "code",
      "execution_count": null,
      "metadata": {
        "id": "wXwaWftZPsnM"
      },
      "outputs": [],
      "source": []
    },
    {
      "cell_type": "code",
      "execution_count": null,
      "metadata": {
        "id": "FOehdL2iPskJ"
      },
      "outputs": [],
      "source": []
    },
    {
      "cell_type": "markdown",
      "metadata": {
        "id": "Ir_tixIZPtRT"
      },
      "source": [
        "Теперь протестируем модель для выделения ключевых моментов в видео - Temporal Action Localization"
      ]
    },
    {
      "cell_type": "code",
      "execution_count": null,
      "metadata": {
        "colab": {
          "base_uri": "https://localhost:8080/"
        },
        "id": "nT0ckd6hjnME",
        "outputId": "8832cea5-da42-4d0a-9a1d-fbeac44d139d"
      },
      "outputs": [
        {
          "name": "stdout",
          "output_type": "stream",
          "text": [
            "⏬ Downloading https://github.com/jaimergp/miniforge/releases/latest/download/Mambaforge-colab-Linux-x86_64.sh...\n",
            "📦 Installing...\n",
            "📌 Adjusting configuration...\n",
            "🩹 Patching environment...\n",
            "⏲ Done in 0:00:35\n",
            "🔁 Restarting kernel...\n"
          ]
        }
      ],
      "source": [
        "!pip install -q condacolab\n",
        "import condacolab\n",
        "condacolab.install()"
      ]
    },
    {
      "cell_type": "code",
      "execution_count": null,
      "metadata": {
        "colab": {
          "base_uri": "https://localhost:8080/"
        },
        "id": "tnn70KZ2gZ_6",
        "outputId": "4b6ad8e4-9cf6-4340-a3a2-27483730f0d9"
      },
      "outputs": [
        {
          "name": "stdout",
          "output_type": "stream",
          "text": [
            "Collecting package metadata (current_repodata.json): - \b\b\\ \b\b| \b\b/ \b\b- \b\b\\ \b\b| \b\b/ \b\b- \b\b\\ \b\b| \b\b/ \b\b- \b\b\\ \b\b| \b\b/ \b\b- \b\b\\ \b\bdone\n",
            "Solving environment: / \b\bfailed with repodata from current_repodata.json, will retry with next repodata source.\n",
            "Collecting package metadata (repodata.json): \\ \b\b| \b\b/ \b\b- \b\b\\ \b\b| \b\b/ \b\b- \b\b\\ \b\b| \b\b/ \b\b- \b\b\\ \b\b| \b\b/ \b\b- \b\b\\ \b\b| \b\b/ \b\b- \b\b\\ \b\b| \b\b/ \b\b- \b\b\\ \b\b| \b\b/ \b\b- \b\b\\ \b\b| \b\b/ \b\b- \b\b\\ \b\b| \b\b/ \b\b- \b\b\\ \b\b| \b\b/ \b\b- \b\bdone\n",
            "Solving environment: | \b\b/ \b\b- \b\b\\ \b\b| \b\b/ \b\b- \b\b\\ \b\b| \b\b/ \b\b- \b\b\\ \b\b| \b\b/ \b\b- \b\b\\ \b\b| \b\b/ \b\b- \b\b\\ \b\b| \b\b/ \b\b- \b\b\\ \b\b| \b\b/ \b\b- \b\b\\ \b\b| \b\b/ \b\b- \b\b\\ \b\b| \b\b/ \b\b- \b\b\\ \b\b| \b\b/ \b\b- \b\b\\ \b\b| \b\b/ \b\b- \b\b\\ \b\b| \b\b/ \b\b- \b\b\\ \b\b| \b\b/ \b\b- \b\bdone\n",
            "\n",
            "\n",
            "==> WARNING: A newer version of conda exists. <==\n",
            "  current version: 4.14.0\n",
            "  latest version: 22.9.0\n",
            "\n",
            "Please update conda by running\n",
            "\n",
            "    $ conda update -n base -c conda-forge conda\n",
            "\n",
            "\n",
            "\n",
            "## Package Plan ##\n",
            "\n",
            "  environment location: /usr/local/envs/vedatad\n",
            "\n",
            "  added / updated specs:\n",
            "    - python=3.8.5\n",
            "\n",
            "\n",
            "The following NEW packages will be INSTALLED:\n",
            "\n",
            "  _libgcc_mutex      conda-forge/linux-64::_libgcc_mutex-0.1-conda_forge\n",
            "  _openmp_mutex      conda-forge/linux-64::_openmp_mutex-4.5-2_gnu\n",
            "  ca-certificates    conda-forge/linux-64::ca-certificates-2022.9.24-ha878542_0\n",
            "  ld_impl_linux-64   conda-forge/linux-64::ld_impl_linux-64-2.39-hc81fddc_0\n",
            "  libffi             conda-forge/linux-64::libffi-3.2.1-he1b5a44_1007\n",
            "  libgcc-ng          conda-forge/linux-64::libgcc-ng-12.2.0-h65d4601_19\n",
            "  libgomp            conda-forge/linux-64::libgomp-12.2.0-h65d4601_19\n",
            "  libsqlite          conda-forge/linux-64::libsqlite-3.39.4-h753d276_0\n",
            "  libstdcxx-ng       conda-forge/linux-64::libstdcxx-ng-12.2.0-h46fd767_19\n",
            "  libzlib            conda-forge/linux-64::libzlib-1.2.13-h166bdaf_4\n",
            "  ncurses            conda-forge/linux-64::ncurses-6.3-h27087fc_1\n",
            "  openssl            conda-forge/linux-64::openssl-1.1.1s-h166bdaf_0\n",
            "  pip                conda-forge/noarch::pip-22.3.1-pyhd8ed1ab_0\n",
            "  python             conda-forge/linux-64::python-3.8.5-h1103e12_9_cpython\n",
            "  python_abi         conda-forge/linux-64::python_abi-3.8-2_cp38\n",
            "  readline           conda-forge/linux-64::readline-8.1.2-h0f457ee_0\n",
            "  setuptools         conda-forge/noarch::setuptools-65.5.1-pyhd8ed1ab_0\n",
            "  sqlite             conda-forge/linux-64::sqlite-3.39.4-h4ff8645_0\n",
            "  tk                 conda-forge/linux-64::tk-8.6.12-h27826a3_0\n",
            "  wheel              conda-forge/noarch::wheel-0.38.2-pyhd8ed1ab_0\n",
            "  xz                 conda-forge/linux-64::xz-5.2.6-h166bdaf_0\n",
            "  zlib               conda-forge/linux-64::zlib-1.2.13-h166bdaf_4\n",
            "\n",
            "\n",
            "Preparing transaction: | \b\b/ \b\b- \b\bdone\n",
            "Verifying transaction: | \b\b/ \b\b- \b\b\\ \b\b| \b\b/ \b\b- \b\b\\ \b\b| \b\b/ \b\b- \b\b\\ \b\bdone\n",
            "Executing transaction: / \b\b- \b\b\\ \b\b| \b\b/ \b\b- \b\b\\ \b\b| \b\b/ \b\b- \b\b\\ \b\b| \b\b/ \b\b- \b\b\\ \b\b| \b\b/ \b\b- \b\b\\ \b\b| \b\b/ \b\b- \b\b\\ \b\b| \b\b/ \b\b- \b\b\\ \b\b| \b\bdone\n",
            "#\n",
            "# To activate this environment, use\n",
            "#\n",
            "#     $ conda activate vedatad\n",
            "#\n",
            "# To deactivate an active environment, use\n",
            "#\n",
            "#     $ conda deactivate\n",
            "\n",
            "Retrieving notices: ...working... done\n",
            "\n",
            "CommandNotFoundError: Your shell has not been properly configured to use 'conda activate'.\n",
            "To initialize your shell, run\n",
            "\n",
            "    $ conda init <SHELL_NAME>\n",
            "\n",
            "Currently supported shells are:\n",
            "  - bash\n",
            "  - fish\n",
            "  - tcsh\n",
            "  - xonsh\n",
            "  - zsh\n",
            "  - powershell\n",
            "\n",
            "See 'conda init --help' for more information and options.\n",
            "\n",
            "IMPORTANT: You may need to close and restart your shell after running 'conda init'.\n",
            "\n",
            "\n"
          ]
        }
      ],
      "source": [
        "!conda create -n vedatad python=3.8.5 -y\n",
        "!conda activate vedatad\n"
      ]
    },
    {
      "cell_type": "code",
      "execution_count": null,
      "metadata": {
        "colab": {
          "base_uri": "https://localhost:8080/"
        },
        "id": "xcXiQ-LIgh8t",
        "outputId": "3ce01e38-ac63-4239-ec58-6bffe16d1f73"
      },
      "outputs": [
        {
          "name": "stdout",
          "output_type": "stream",
          "text": [
            "cudatoolkit-11.3.1   | 816.4 MB  | : 100% 1.0/1 [01:35<00:00, 95.84s/it]               \n",
            "torchaudio-0.10.1    | 4.5 MB    | : 100% 1.0/1 [00:02<00:00,  2.30s/it]               \n",
            "xorg-libxdmcp-1.1.3  | 19 KB     | : 100% 1.0/1 [00:00<00:00, 40.05it/s]\n",
            "openh264-2.1.1       | 1.5 MB    | : 100% 1.0/1 [00:00<00:00,  4.35it/s]\n",
            "llvm-openmp-14.0.4   | 5.8 MB    | : 100% 1.0/1 [00:00<00:00,  1.29it/s]\n",
            "gmp-6.2.1            | 806 KB    | : 100% 1.0/1 [00:00<00:00,  7.03it/s]\n",
            "blas-2.116           | 13 KB     | : 100% 1.0/1 [00:00<00:00, 39.59it/s]\n",
            "libgfortran-ng-12.2. | 22 KB     | : 100% 1.0/1 [00:00<00:00, 32.56it/s]\n",
            "lame-3.100           | 496 KB    | : 100% 1.0/1 [00:00<00:00, 10.79it/s]\n",
            "jpeg-9e              | 269 KB    | : 100% 1.0/1 [00:00<00:00, 13.94it/s]\n",
            "ffmpeg-4.3           | 9.9 MB    | : 100% 1.0/1 [00:01<00:00,  1.23s/it]\n",
            "libdeflate-1.14      | 81 KB     | : 100% 1.0/1 [00:00<00:00, 28.68it/s]\n",
            "nettle-3.6           | 6.5 MB    | : 100% 1.0/1 [00:00<00:00,  1.19it/s]\n",
            "lerc-4.0.0           | 275 KB    | : 100% 1.0/1 [00:00<00:00, 16.74it/s]\n",
            "libuv-1.44.2         | 1.0 MB    | : 100% 1.0/1 [00:00<00:00,  6.74it/s]\n",
            "libpng-1.6.38        | 371 KB    | : 100% 1.0/1 [00:00<00:00, 12.58it/s]\n",
            "mkl-include-2022.1.0 | 745 KB    | : 100% 1.0/1 [00:00<00:00,  3.05it/s]\n",
            "Preparing transaction: | \b\b/ \b\b- \b\b\\ \b\bdone\n",
            "Verifying transaction: / \b\b- \b\b\\ \b\b| \b\b/ \b\b- \b\b\\ \b\b| \b\b/ \b\b- \b\b\\ \b\b| \b\b/ \b\b- \b\b\\ \b\b| \b\b/ \b\b- \b\b\\ \b\b| \b\b/ \b\b- \b\b\\ \b\b| \b\bdone\n",
            "Executing transaction: - \b\b\\ \b\b| \b\b/ \b\b- \b\b\\ \b\b| \b\b/ \b\b- \b\b\\ \b\b| \b\b/ \b\b- \b\b\\ \b\b| \b\b/ \b\b- \b\b\\ \b\b| \b\b/ \b\b- \b\b\\ \b\b| \b\b/ \b\b- \b\b\\ \b\b| \b\b/ \b\b- \b\b\\ \b\b| \b\b/ \b\b- \b\b\\ \b\b| \b\b/ \b\b- \b\b\\ \b\b| \b\b/ By downloading and using the CUDA Toolkit conda packages, you accept the terms and conditions of the CUDA End User License Agreement (EULA): https://docs.nvidia.com/cuda/eula/index.html\n",
            "\n",
            "\b\b- \b\b\\ \b\b| \b\b/ \b\b- \b\b\\ \b\b| \b\b/ \b\b- \b\b\\ \b\b| \b\b/ \b\b- \b\bdone\n",
            "Retrieving notices: ...working... done\n"
          ]
        }
      ],
      "source": [
        "!conda install pytorch==1.10.1 torchvision==0.11.2 torchaudio==0.10.1 cudatoolkit=11.3 -c pytorch -c conda-forge\n"
      ]
    },
    {
      "cell_type": "code",
      "execution_count": null,
      "metadata": {
        "id": "zt95du2mgmKT"
      },
      "outputs": [],
      "source": [
        "!git clone https://github.com/klauscc/TALLFormer\n",
        "%cd TALLFormer/vedatad\n",
        "!vedatad_root=${PWD}\n",
        "%cd .."
      ]
    },
    {
      "cell_type": "code",
      "execution_count": null,
      "metadata": {
        "id": "cxfiiaIDhKM4"
      },
      "outputs": [],
      "source": [
        "!pip install -r requirements/build.txt\n",
        "!pip install -v -e ."
      ]
    },
    {
      "cell_type": "code",
      "execution_count": null,
      "metadata": {
        "id": "CprHYXyCj8Sw"
      },
      "outputs": [],
      "source": [
        "!conda install -c conda-forge ffmpeg\n"
      ]
    },
    {
      "cell_type": "code",
      "execution_count": null,
      "metadata": {
        "id": "GtKLAceySMX7"
      },
      "outputs": [],
      "source": [
        "!./tools/data/extract_frames.sh /content/data data/my/frames_15fps_256x256/val -vf fps=15 -s 256x256 %05d.png"
      ]
    },
    {
      "cell_type": "code",
      "execution_count": null,
      "metadata": {
        "id": "qvDCkdoBSa6r"
      },
      "outputs": [],
      "source": [
        "!mkdir -p ./data/pretrained_models/vswin\n",
        "!wget https://github.com/SwinTransformer/storage/releases/download/v1.0.4/swin_tiny_patch244_window877_kinetics400_1k.pth -P ./data/pretrained_models/vswin\n"
      ]
    },
    {
      "cell_type": "code",
      "execution_count": null,
      "metadata": {
        "id": "Wt8IwdQkSwun"
      },
      "outputs": [],
      "source": [
        "!python ./tools/convert_vswin_ckpt.py --src ./data/pretrained_models/vswin/swin_tiny_patch244_window877_kinetics400_1k.pth\n"
      ]
    },
    {
      "cell_type": "code",
      "execution_count": null,
      "metadata": {
        "id": "8fRCr9qWkSVT"
      },
      "outputs": [],
      "source": [
        "!conda install -c conda-forge scikit-learn"
      ]
    },
    {
      "cell_type": "code",
      "execution_count": null,
      "metadata": {
        "colab": {
          "background_save": true
        },
        "id": "Oi4_b2rUkhr8"
      },
      "outputs": [],
      "source": [
        "!conda install -c conda-forge timm\n"
      ]
    },
    {
      "cell_type": "code",
      "execution_count": null,
      "metadata": {
        "colab": {
          "background_save": true
        },
        "id": "wKDs7UQfS3tD"
      },
      "outputs": [],
      "source": [
        "!python3 ./tools/data/extract_features.py --config swin_t_15fps_256x256\n"
      ]
    },
    {
      "cell_type": "code",
      "execution_count": null,
      "metadata": {
        "id": "T2PIsglqXU5N"
      },
      "outputs": [],
      "source": [
        "import vedatad"
      ]
    },
    {
      "cell_type": "code",
      "execution_count": null,
      "metadata": {
        "id": "Sv-xTQX1xczq"
      },
      "outputs": [],
      "source": []
    },
    {
      "cell_type": "code",
      "execution_count": null,
      "metadata": {
        "id": "RCLehe-Yxcw5"
      },
      "outputs": [],
      "source": []
    },
    {
      "cell_type": "code",
      "execution_count": null,
      "metadata": {
        "id": "iOH8gsHzxcuy"
      },
      "outputs": [],
      "source": []
    },
    {
      "cell_type": "markdown",
      "metadata": {
        "id": "6ctW-iStxdQp"
      },
      "source": [
        "Попробуем потестировать модель ActionFormer"
      ]
    },
    {
      "cell_type": "code",
      "execution_count": null,
      "metadata": {
        "colab": {
          "base_uri": "https://localhost:8080/"
        },
        "id": "Ji80WRQ2xx4M",
        "outputId": "e1cf1700-5904-4324-b959-58a1415a760f"
      },
      "outputs": [
        {
          "name": "stdout",
          "output_type": "stream",
          "text": [
            "Cloning into 'actionformer_release'...\n",
            "remote: Enumerating objects: 280, done.\u001b[K\n",
            "remote: Total 280 (delta 0), reused 0 (delta 0), pack-reused 280\u001b[K\n",
            "Receiving objects: 100% (280/280), 606.21 KiB | 20.21 MiB/s, done.\n",
            "Resolving deltas: 100% (140/140), done.\n"
          ]
        }
      ],
      "source": [
        "!git clone https://github.com/happyharrycn/actionformer_release.git"
      ]
    },
    {
      "cell_type": "code",
      "execution_count": null,
      "metadata": {
        "colab": {
          "base_uri": "https://localhost:8080/"
        },
        "id": "ErpDMXmPz0ga",
        "outputId": "b0cd276f-b2ab-4d8b-86b7-87a3977c67c2"
      },
      "outputs": [
        {
          "name": "stdout",
          "output_type": "stream",
          "text": [
            "Mounted at /content/gdrive/\n"
          ]
        }
      ],
      "source": [
        "from google.colab import drive\n",
        "\n",
        "drive.mount('/content/gdrive/')"
      ]
    },
    {
      "cell_type": "code",
      "execution_count": null,
      "metadata": {
        "id": "jBGDAppd1qj2"
      },
      "outputs": [],
      "source": [
        "!mkdir \"/content/actionformer_release/data\""
      ]
    },
    {
      "cell_type": "code",
      "execution_count": null,
      "metadata": {
        "id": "9b1VjL3-y4_e"
      },
      "outputs": [],
      "source": [
        "!tar -xzvf \"/content/gdrive/MyDrive/thumos.tar.gz\" -C \"/content/actionformer_release/data\""
      ]
    },
    {
      "cell_type": "code",
      "execution_count": null,
      "metadata": {
        "id": "Cmog2mGz1nre"
      },
      "outputs": [],
      "source": [
        "!mkdir \"/content/actionformer_release/pretrained\""
      ]
    },
    {
      "cell_type": "code",
      "execution_count": null,
      "metadata": {
        "id": "CJO_1O8m4EGk"
      },
      "outputs": [],
      "source": [
        "!unzip \"/content/gdrive/MyDrive/thumos_i3d_reproduce_v2.zip\" -d \"/content/actionformer_release/pretrained\""
      ]
    },
    {
      "cell_type": "code",
      "execution_count": null,
      "metadata": {
        "id": "K5o7x44m4veS"
      },
      "outputs": [],
      "source": [
        "# !cd /content/actionformer_release"
      ]
    },
    {
      "cell_type": "code",
      "execution_count": null,
      "metadata": {
        "colab": {
          "base_uri": "https://localhost:8080/"
        },
        "id": "-XSKhbMS4PXb",
        "outputId": "31fcc6c0-314c-4b1f-9c70-623614ad3239"
      },
      "outputs": [
        {
          "name": "stdout",
          "output_type": "stream",
          "text": [
            "Traceback (most recent call last):\n",
            "  File \"/content/actionformer_release/eval.py\", line 16, in <module>\n",
            "    from libs.datasets import make_dataset, make_data_loader\n",
            "  File \"/content/actionformer_release/libs/datasets/__init__.py\", line 3, in <module>\n",
            "    from . import epic_kitchens, thumos14, anet # other datasets go here\n",
            "  File \"/content/actionformer_release/libs/datasets/anet.py\", line 12, in <module>\n",
            "    from ..utils import remove_duplicate_annotations\n",
            "  File \"/content/actionformer_release/libs/utils/__init__.py\", line 1, in <module>\n",
            "    from .nms import batched_nms\n",
            "  File \"/content/actionformer_release/libs/utils/nms.py\", line 5, in <module>\n",
            "    import nms_1d_cpu\n",
            "ModuleNotFoundError: No module named 'nms_1d_cpu'\n"
          ]
        }
      ],
      "source": [
        "!python /content/actionformer_release/eval.py /content/actionformer_release/configs/thumos_i3d.yaml /content/actionformer_release/pretrained/thumos_i3d_reproduce/"
      ]
    },
    {
      "cell_type": "code",
      "execution_count": null,
      "metadata": {
        "id": "b28HvZX54zqx"
      },
      "outputs": [],
      "source": []
    }
  ],
  "metadata": {
    "accelerator": "GPU",
    "colab": {
      "provenance": []
    },
    "gpuClass": "standard",
    "kernelspec": {
      "display_name": "Python 3",
      "name": "python3"
    },
    "language_info": {
      "name": "python"
    }
  },
  "nbformat": 4,
  "nbformat_minor": 0
}
